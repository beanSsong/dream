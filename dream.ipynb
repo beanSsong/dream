{
 "metadata": {
  "name": "",
  "signature": "sha256:11c66fa74cd5ba7f6c37f7e1b454165c3bb7990e62da6feed581513d0feb5b72"
 },
 "nbformat": 3,
 "nbformat_minor": 0,
 "worksheets": [
  {
   "cells": [
    {
     "cell_type": "heading",
     "level": 3,
     "metadata": {},
     "source": [
      "Preliminaries"
     ]
    },
    {
     "cell_type": "code",
     "collapsed": false,
     "input": [
      "# Preliminaries to setup the notebook.  \n",
      "%matplotlib inline\n",
      "%load_ext autoreload\n",
      "%autoreload 2\n",
      "\n",
      "# Import numerical libraries.  \n",
      "import numpy as np\n",
      "import matplotlib.pyplot as plt\n",
      "from scipy.stats import pearsonr\n",
      "from sklearn.ensemble import RandomForestRegressor,ExtraTreesRegressor\n",
      "from sklearn.cross_validation import ShuffleSplit,cross_val_score\n",
      "from sklearn.grid_search import GridSearchCV"
     ],
     "language": "python",
     "metadata": {},
     "outputs": [
      {
       "output_type": "stream",
       "stream": "stdout",
       "text": [
        "The autoreload extension is already loaded. To reload it, use:\n",
        "  %reload_ext autoreload\n"
       ]
      }
     ],
     "prompt_number": 5
    },
    {
     "cell_type": "code",
     "collapsed": false,
     "input": [
      "# Import the file I wrote to load the data from the tab-delimited text files.  \n",
      "import dream\n",
      "import loading\n",
      "import scoring\n",
      "# For which subchallenges to execute code.\n",
      "subchallenges = [1]"
     ],
     "language": "python",
     "metadata": {},
     "outputs": [],
     "prompt_number": 428
    },
    {
     "cell_type": "code",
     "collapsed": false,
     "input": [
      "# Load the perceptual descriptors data.  \n",
      "perceptual_headers, perceptual_obs_data = loading.load_perceptual_data('training')\n",
      "loading.format_leaderboard_perceptual_data()\n",
      "# Show the perceptual metadata types and perceptual descriptor names.\n",
      "print(perceptual_headers)"
     ],
     "language": "python",
     "metadata": {},
     "outputs": [
      {
       "output_type": "stream",
       "stream": "stdout",
       "text": [
        "['Compound Identifier', 'Odor', 'Replicate', 'Intensity', 'Dilution', 'subject #', 'INTENSITY/STRENGTH', 'VALENCE/PLEASANTNESS', 'BAKERY', 'SWEET', 'FRUIT', 'FISH', 'GARLIC', 'SPICES', 'COLD', 'SOUR', 'BURNT', 'ACID', 'WARM', 'MUSKY', 'SWEATY', 'AMMONIA/URINOUS', 'DECAYED', 'WOOD', 'GRASS', 'FLOWER', 'CHEMICAL']\n"
       ]
      }
     ],
     "prompt_number": 143
    },
    {
     "cell_type": "code",
     "collapsed": false,
     "input": [
      "# Show the metadata and perceptual descriptor values for the first compound.\n",
      "print(perceptual_obs_data[1])"
     ],
     "language": "python",
     "metadata": {},
     "outputs": [
      {
       "output_type": "stream",
       "stream": "stdout",
       "text": [
        "['126', '4-Hydroxybenzaldehyde', False, 'high', '1/10', '1', 37, 60, 0, 72, 0, 0, 0, 0, 0, 0, 0, 0, 0, 0, 0, 0, 0, 0, 0, 0, 0]\n"
       ]
      }
     ],
     "prompt_number": 144
    },
    {
     "cell_type": "code",
     "collapsed": false,
     "input": [
      "num_descriptors = len(perceptual_headers[6:])\n",
      "assert num_descriptors == dream.NUM_DESCRIPTORS\n",
      "num_subjects = dream.NUM_SUBJECTS\n",
      "print('There are %d different perceptual descriptors and %d different subjects' % (num_descriptors,num_subjects))"
     ],
     "language": "python",
     "metadata": {},
     "outputs": [
      {
       "output_type": "stream",
       "stream": "stdout",
       "text": [
        "There are 21 different perceptual descriptors and 49 different subjects\n"
       ]
      }
     ],
     "prompt_number": 487
    },
    {
     "cell_type": "code",
     "collapsed": false,
     "input": [
      "# Load the molecular descriptors data.  \n",
      "molecular_headers, molecular_data = loading.load_molecular_data()\n",
      "print(\"First ten molecular descriptor types are %s\" % molecular_headers[:10])\n",
      "print(\"First ten descriptor values for the first compound are %s\" % molecular_data[0][:10])\n",
      "total_size = len(set([int(row[0]) for row in molecular_data]))\n",
      "print(\"We have molecular descriptors for %d unique molecules\" % total_size)"
     ],
     "language": "python",
     "metadata": {},
     "outputs": [
      {
       "output_type": "stream",
       "stream": "stdout",
       "text": [
        "First ten molecular descriptor types are ['CID', 'complexity from pubmed', 'MW', 'AMW', 'Sv', 'Se', 'Sp', 'Si', 'Mv', 'Me']\n",
        "First ten descriptor values for the first compound are ['126', 93.1, 122.13, 8.142, 10.01, 15.305, 10.193, 16.664, 0.667, 1.02]\n",
        "We have molecular descriptors for 476 unique molecules\n"
       ]
      }
     ],
     "prompt_number": 146
    },
    {
     "cell_type": "code",
     "collapsed": false,
     "input": [
      "training_size = len(set([int(row[0]) for row in perceptual_obs_data]))\n",
      "print(\"We have perceptual data for %d unique molecules\" % training_size)\n",
      "remaining_size = total_size - training_size\n",
      "print (\"%d are left out for testing in the competition; half of these (%d) are used for the leaderboard.\" \\\n",
      "       % (remaining_size,remaining_size/2))"
     ],
     "language": "python",
     "metadata": {},
     "outputs": [
      {
       "output_type": "stream",
       "stream": "stdout",
       "text": [
        "We have perceptual data for 338 unique molecules\n",
        "138 are left out for testing in the competition; half of these (69) are used for the leaderboard.\n"
       ]
      }
     ],
     "prompt_number": 147
    },
    {
     "cell_type": "code",
     "collapsed": false,
     "input": [
      "print(\"There are %d rows in the perceptual data set (at least one for each subject and molecule)\" % len(perceptual_obs_data))\n",
      "print(\"%d of these are replicates (same subject and molecules)\" % sum([x[2] for x in perceptual_obs_data]))"
     ],
     "language": "python",
     "metadata": {},
     "outputs": [
      {
       "output_type": "stream",
       "stream": "stdout",
       "text": [
        "There are 35084 rows in the perceptual data set (at least one for each subject and molecule)\n",
        "1960 of these are replicates (same subject and molecules)\n"
       ]
      }
     ],
     "prompt_number": 148
    },
    {
     "cell_type": "heading",
     "level": 3,
     "metadata": {},
     "source": [
      "Create Molecular Matrix"
     ]
    },
    {
     "cell_type": "code",
     "collapsed": false,
     "input": [
      "X_training,good1,good2,means,stds,imputer = dream.make_X(molecular_data,\"training\")\n",
      "X_training.shape"
     ],
     "language": "python",
     "metadata": {},
     "outputs": [
      {
       "output_type": "stream",
       "stream": "stdout",
       "text": [
        "Getting CIDs and dilutions...\n",
        "Getting basic molecular data..."
       ]
      },
      {
       "output_type": "stream",
       "stream": "stdout",
       "text": [
        "\n",
        "Adding dilution data..."
       ]
      },
      {
       "output_type": "stream",
       "stream": "stdout",
       "text": [
        "\n",
        "There are now 676 molecular vectors of length 4871, one for each molecule and dilution\n",
        "Building a matrix...\n",
        "The X matrix has shape (676x4871) (molecules by molecular descriptors)\n",
        "Purging data with too many NaNs...\n",
        "The X matrix has shape (676x4871) (molecules by good molecular descriptors)\n",
        "Imputing remaining NaN data...\n",
        "The X matrix now has shape (676x4871) (molecules by non-NaN good molecular descriptors)"
       ]
      },
      {
       "output_type": "stream",
       "stream": "stdout",
       "text": [
        "\n",
        "Purging data that is still bad, if any...\n",
        "The X matrix has shape (676x3033) (molecules by good molecular descriptors)\n",
        "Normalizing data for fitting...\n",
        "The X matrix now has shape (676x3033) molecules by non-NaN good molecular descriptors"
       ]
      },
      {
       "output_type": "stream",
       "stream": "stdout",
       "text": [
        "\n"
       ]
      },
      {
       "metadata": {},
       "output_type": "pyout",
       "prompt_number": 507,
       "text": [
        "(676, 3033)"
       ]
      }
     ],
     "prompt_number": 507
    },
    {
     "cell_type": "code",
     "collapsed": false,
     "input": [
      "X_leaderboard_other,good1,good2,means,stds,imputer = dream.make_X(molecular_data,\"leaderboard\",target_dilution='high',good1=good1,good2=good2,means=means,stds=stds)\n",
      "X_leaderboard_other.shape"
     ],
     "language": "python",
     "metadata": {},
     "outputs": [
      {
       "output_type": "stream",
       "stream": "stdout",
       "text": [
        "Getting CIDs and dilutions...\n",
        "Getting basic molecular data...\n",
        "Adding dilution data..."
       ]
      },
      {
       "output_type": "stream",
       "stream": "stdout",
       "text": [
        "\n",
        "There are now 69 molecular vectors of length 4871, one for each molecule and dilution\n",
        "Building a matrix...\n",
        "The X matrix has shape (69x4871) (molecules by molecular descriptors)\n",
        "Purging data with too many NaNs...\n",
        "The X matrix has shape (69x4871) (molecules by good molecular descriptors)\n",
        "Imputing remaining NaN data...\n",
        "The X matrix now has shape (69x4871) (molecules by non-NaN good molecular descriptors)\n",
        "Purging data that is still bad, if any...\n",
        "The X matrix has shape (69x3033) (molecules by good molecular descriptors)\n",
        "Normalizing data for fitting...\n",
        "The X matrix now has shape (69x3033) molecules by non-NaN good molecular descriptors\n"
       ]
      },
      {
       "metadata": {},
       "output_type": "pyout",
       "prompt_number": 508,
       "text": [
        "(69, 3033)"
       ]
      }
     ],
     "prompt_number": 508
    },
    {
     "cell_type": "code",
     "collapsed": false,
     "input": [
      "X_leaderboard_int,good1,good2,means,stds,imputer = dream.make_X(molecular_data,\"leaderboard\",target_dilution=-3,good1=good1,good2=good2,means=means,stds=stds)\n",
      "X_leaderboard_int.shape"
     ],
     "language": "python",
     "metadata": {},
     "outputs": [
      {
       "output_type": "stream",
       "stream": "stdout",
       "text": [
        "Getting CIDs and dilutions...\n",
        "Getting basic molecular data...\n",
        "Adding dilution data..."
       ]
      },
      {
       "output_type": "stream",
       "stream": "stdout",
       "text": [
        "\n",
        "There are now 69 molecular vectors of length 4871, one for each molecule and dilution\n",
        "Building a matrix...\n",
        "The X matrix has shape (69x4871) (molecules by molecular descriptors)\n",
        "Purging data with too many NaNs...\n",
        "The X matrix has shape (69x4871) (molecules by good molecular descriptors)\n",
        "Imputing remaining NaN data...\n",
        "The X matrix now has shape (69x4871) (molecules by non-NaN good molecular descriptors)\n",
        "Purging data that is still bad, if any...\n",
        "The X matrix has shape (69x3033) (molecules by good molecular descriptors)\n",
        "Normalizing data for fitting...\n",
        "The X matrix now has shape (69x3033) molecules by non-NaN good molecular descriptors\n"
       ]
      },
      {
       "metadata": {},
       "output_type": "pyout",
       "prompt_number": 509,
       "text": [
        "(69, 3033)"
       ]
      }
     ],
     "prompt_number": 509
    },
    {
     "cell_type": "code",
     "collapsed": false,
     "input": [
      "X_testset_other,good1,good2,means,stds,imputer = dream.make_X(molecular_data,\"testset\",target_dilution='high',good1=good1,good2=good2,means=means,stds=stds)\n",
      "X_testset_other.shape"
     ],
     "language": "python",
     "metadata": {},
     "outputs": [
      {
       "output_type": "stream",
       "stream": "stdout",
       "text": [
        "Getting CIDs and dilutions...\n",
        "Getting basic molecular data...\n",
        "Adding dilution data..."
       ]
      },
      {
       "output_type": "stream",
       "stream": "stdout",
       "text": [
        "\n",
        "There are now 69 molecular vectors of length 4871, one for each molecule and dilution\n",
        "Building a matrix...\n",
        "The X matrix has shape (69x4871) (molecules by molecular descriptors)\n",
        "Purging data with too many NaNs...\n",
        "The X matrix has shape (69x4871) (molecules by good molecular descriptors)\n",
        "Imputing remaining NaN data...\n",
        "The X matrix now has shape (69x4871) (molecules by non-NaN good molecular descriptors)\n",
        "Purging data that is still bad, if any...\n",
        "The X matrix has shape (69x3033) (molecules by good molecular descriptors)\n",
        "Normalizing data for fitting...\n",
        "The X matrix now has shape (69x3033) molecules by non-NaN good molecular descriptors\n"
       ]
      },
      {
       "metadata": {},
       "output_type": "pyout",
       "prompt_number": 520,
       "text": [
        "(69, 3033)"
       ]
      }
     ],
     "prompt_number": 520
    },
    {
     "cell_type": "code",
     "collapsed": false,
     "input": [
      "X_testset_int,good1,good2,means,stds,imputer = dream.make_X(molecular_data,\"testset\",target_dilution=-3,good1=good1,good2=good2,means=means,stds=stds)\n",
      "X_testset_int.shape"
     ],
     "language": "python",
     "metadata": {},
     "outputs": [
      {
       "output_type": "stream",
       "stream": "stdout",
       "text": [
        "Getting CIDs and dilutions...\n",
        "Getting basic molecular data...\n",
        "Adding dilution data..."
       ]
      },
      {
       "output_type": "stream",
       "stream": "stdout",
       "text": [
        "\n",
        "There are now 69 molecular vectors of length 4871, one for each molecule and dilution\n",
        "Building a matrix...\n",
        "The X matrix has shape (69x4871) (molecules by molecular descriptors)\n",
        "Purging data with too many NaNs...\n",
        "The X matrix has shape (69x4871) (molecules by good molecular descriptors)\n",
        "Imputing remaining NaN data...\n",
        "The X matrix now has shape (69x4871) (molecules by non-NaN good molecular descriptors)\n",
        "Purging data that is still bad, if any...\n",
        "The X matrix has shape (69x3033) (molecules by good molecular descriptors)\n",
        "Normalizing data for fitting...\n",
        "The X matrix now has shape (69x3033) molecules by non-NaN good molecular descriptors\n"
       ]
      },
      {
       "metadata": {},
       "output_type": "pyout",
       "prompt_number": 521,
       "text": [
        "(69, 3033)"
       ]
      }
     ],
     "prompt_number": 521
    },
    {
     "cell_type": "code",
     "collapsed": false,
     "input": [
      "X_all,good1,good2,means,stds,imputer = dream.make_X(molecular_data,[\"training\",\"leaderboard\"],good1=good1,good2=good2,means=means,stds=stds)\n",
      "X_all.shape"
     ],
     "language": "python",
     "metadata": {},
     "outputs": [
      {
       "output_type": "stream",
       "stream": "stdout",
       "text": [
        "Getting CIDs and dilutions...\n",
        "Getting basic molecular data..."
       ]
      },
      {
       "output_type": "stream",
       "stream": "stdout",
       "text": [
        "\n",
        "Adding dilution data..."
       ]
      },
      {
       "output_type": "stream",
       "stream": "stdout",
       "text": [
        "\n",
        "There are now 814 molecular vectors of length 4871, one for each molecule and dilution\n",
        "Building a matrix...\n",
        "The X matrix has shape (814x4871) (molecules by molecular descriptors)\n",
        "Purging data with too many NaNs...\n",
        "The X matrix has shape (814x4871) (molecules by good molecular descriptors)"
       ]
      },
      {
       "output_type": "stream",
       "stream": "stdout",
       "text": [
        "\n",
        "Imputing remaining NaN data...\n",
        "The X matrix now has shape (814x4871) (molecules by non-NaN good molecular descriptors)"
       ]
      },
      {
       "output_type": "stream",
       "stream": "stdout",
       "text": [
        "\n",
        "Purging data that is still bad, if any...\n",
        "The X matrix has shape (814x3033) (molecules by good molecular descriptors)\n",
        "Normalizing data for fitting...\n",
        "The X matrix now has shape (814x3033) molecules by non-NaN good molecular descriptors"
       ]
      },
      {
       "output_type": "stream",
       "stream": "stdout",
       "text": [
        "\n"
       ]
      },
      {
       "metadata": {},
       "output_type": "pyout",
       "prompt_number": 511,
       "text": [
        "(814, 3033)"
       ]
      }
     ],
     "prompt_number": 511
    },
    {
     "cell_type": "code",
     "collapsed": false,
     "input": [
      "Y_training,imputer = dream.make_Y_obs('training',target_dilution=None,imputer='median')"
     ],
     "language": "python",
     "metadata": {},
     "outputs": [
      {
       "output_type": "stream",
       "stream": "stdout",
       "text": [
        "Getting basic perceptual data...\n",
        "Flattening into vectors..."
       ]
      },
      {
       "output_type": "stream",
       "stream": "stdout",
       "text": [
        "\n",
        "Assembling into matrices..."
       ]
      },
      {
       "output_type": "stream",
       "stream": "stdout",
       "text": [
        "\n",
        "Y_obs['subject'] contains 49 matrices each with shape (676x21) (molecules by perceptual descriptors)"
       ]
      },
      {
       "output_type": "stream",
       "stream": "stdout",
       "text": [
        "\n",
        "The Y_obs['mean_std'] matrix has shape (676x42) (molecules by 2 x perceptual descriptors)\n",
        "Combining Y matrices...\n",
        "The Y['mean_std'] matrix now has shape (676x42) molecules by 2 x perceptual descriptors\n",
        "The Y['subject'] dict now has 49 matrices of shape (676x21) molecules by perceptual descriptors, one for each subject\n"
       ]
      }
     ],
     "prompt_number": 512
    },
    {
     "cell_type": "code",
     "collapsed": false,
     "input": [
      "Y_leaderboard,imputer = dream.make_Y_obs('leaderboard',target_dilution='gold',imputer='mask')"
     ],
     "language": "python",
     "metadata": {},
     "outputs": [
      {
       "output_type": "stream",
       "stream": "stdout",
       "text": [
        "Getting basic perceptual data...\n",
        "Flattening into vectors..."
       ]
      },
      {
       "output_type": "stream",
       "stream": "stdout",
       "text": [
        "\n",
        "Assembling into matrices..."
       ]
      },
      {
       "output_type": "stream",
       "stream": "stdout",
       "text": [
        "\n",
        "Y_obs['subject'] contains 49 matrices each with shape (69x21) (molecules by perceptual descriptors)\n",
        "The Y_obs['mean_std'] matrix has shape (69x42) (molecules by 2 x perceptual descriptors)\n",
        "Combining Y matrices...\n",
        "The Y['mean_std'] matrix now has shape (69x42) molecules by 2 x perceptual descriptors\n",
        "The Y['subject'] dict now has 49 matrices of shape (69x21) molecules by perceptual descriptors, one for each subject\n",
        "Getting basic perceptual data..."
       ]
      },
      {
       "output_type": "stream",
       "stream": "stdout",
       "text": [
        "\n",
        "Flattening into vectors..."
       ]
      },
      {
       "output_type": "stream",
       "stream": "stdout",
       "text": [
        "\n",
        "Assembling into matrices..."
       ]
      },
      {
       "output_type": "stream",
       "stream": "stdout",
       "text": [
        "\n",
        "Y_obs['subject'] contains 49 matrices each with shape (69x21) (molecules by perceptual descriptors)\n",
        "The Y_obs['mean_std'] matrix has shape (69x42) (molecules by 2 x perceptual descriptors)\n",
        "Combining Y matrices...\n",
        "The Y['mean_std'] matrix now has shape (69x42) molecules by 2 x perceptual descriptors\n",
        "The Y['subject'] dict now has 49 matrices of shape (69x21) molecules by perceptual descriptors, one for each subject\n"
       ]
      }
     ],
     "prompt_number": 513
    },
    {
     "cell_type": "code",
     "collapsed": false,
     "input": [
      "Y_all_imp,imputer = dream.make_Y_obs(['training','leaderboard'],target_dilution=None,imputer='median')"
     ],
     "language": "python",
     "metadata": {},
     "outputs": [
      {
       "output_type": "stream",
       "stream": "stdout",
       "text": [
        "Getting basic perceptual data...\n",
        "Flattening into vectors..."
       ]
      },
      {
       "output_type": "stream",
       "stream": "stdout",
       "text": [
        "\n",
        "Assembling into matrices..."
       ]
      },
      {
       "output_type": "stream",
       "stream": "stdout",
       "text": [
        "\n",
        "Y_obs['subject'] contains 49 matrices each with shape (676x21) (molecules by perceptual descriptors)"
       ]
      },
      {
       "output_type": "stream",
       "stream": "stdout",
       "text": [
        "\n",
        "The Y_obs['mean_std'] matrix has shape (676x42) (molecules by 2 x perceptual descriptors)\n",
        "Getting basic perceptual data..."
       ]
      },
      {
       "output_type": "stream",
       "stream": "stdout",
       "text": [
        "\n",
        "Flattening into vectors..."
       ]
      },
      {
       "output_type": "stream",
       "stream": "stdout",
       "text": [
        "\n",
        "Assembling into matrices..."
       ]
      },
      {
       "output_type": "stream",
       "stream": "stdout",
       "text": [
        "\n",
        "Y_obs['subject'] contains 49 matrices each with shape (138x21) (molecules by perceptual descriptors)"
       ]
      },
      {
       "output_type": "stream",
       "stream": "stdout",
       "text": [
        "\n",
        "The Y_obs['mean_std'] matrix has shape (138x42) (molecules by 2 x perceptual descriptors)\n",
        "Combining Y matrices...\n",
        "The Y['mean_std'] matrix now has shape (814x42) molecules by 2 x perceptual descriptors\n",
        "The Y['subject'] dict now has 49 matrices of shape (814x21) molecules by perceptual descriptors, one for each subject\n"
       ]
      }
     ],
     "prompt_number": 587
    },
    {
     "cell_type": "heading",
     "level": 3,
     "metadata": {},
     "source": [
      "Data preparation"
     ]
    },
    {
     "cell_type": "code",
     "collapsed": false,
     "input": [
      "# Delete replicates because I don't know how to deal with them right now.  \n",
      "#perceptual_obs_data = [row for row in perceptual_obs_data if row[2] is False]\n",
      "#print(\"There are %d non-replicated rows in the observed perceptual data\" % len(perceptual_obs_data))\n",
      "# Purge molecules from perceptual_vectors that are not in molecular_vectors.\n",
      "#for perceptual_vectors in [perceptual_obs_mean_vectors,perceptual_obs_std_vectors,perceptual_obs_subject_vectors]:\n",
      "#    perceptual_vectors = dream.retain(molecular_vectors,perceptual_vectors)\n",
      "#print(\"There are now %d x %d such vectors, one for each molecule and subject tested at %s dilution\" % \\\n",
      "#      (len(perceptual_obs_subject_vectors),len(list(perceptual_obs_subject_vectors.values())[0]),target_dilution))\n",
      "# Make sure we have the same number of molecules in both sets of vectors.  \n",
      "#print(\"There are now %d molecules in perceptual_vectors and %d molecules in molecular_vectors\" % \\\n",
      "#      (len(perceptual_obs_mean_vectors),len(molecular_vectors)))\n",
      "#print(\"These should be the same number.\")"
     ],
     "language": "python",
     "metadata": {},
     "outputs": [],
     "prompt_number": 36
    },
    {
     "cell_type": "code",
     "collapsed": false,
     "input": [
      "# Show the range of values for the molecular and perceptual descriptors.  \n",
      "plt.hist(X_training.ravel())\n",
      "plt.yscale('log')\n",
      "plt.ylabel('Count')\n",
      "plt.xlabel('Cube root transformed, N(0,1) normalized molecular descriptor values')\n",
      "plt.figure()\n",
      "plt.hist(np.dstack([Y_training['subject'][subject] for subject in range(1,50)]).ravel())\n",
      "plt.yscale('log')\n",
      "plt.ylabel('Count')\n",
      "plt.xlabel('Perceptual descriptor values')"
     ],
     "language": "python",
     "metadata": {},
     "outputs": [
      {
       "metadata": {},
       "output_type": "pyout",
       "prompt_number": 433,
       "text": [
        "<matplotlib.text.Text at 0x31d0d5390>"
       ]
      },
      {
       "metadata": {},
       "output_type": "display_data",
       "png": "[encoded data removed]",
       "text": [
        "<matplotlib.figure.Figure at 0x11cfce048>"
       ]
      },
      {
       "metadata": {},
       "output_type": "display_data",
       "png": "[encoded data removed]",
       "text": [
        "<matplotlib.figure.Figure at 0x10bfb2ba8>"
       ]
      }
     ],
     "prompt_number": 433
    },
    {
     "cell_type": "heading",
     "level": 2,
     "metadata": {},
     "source": [
      "Analysis"
     ]
    },
    {
     "cell_type": "code",
     "collapsed": false,
     "input": [
      "# Use random forest regression to fit the entire training data set.  \n",
      "\n",
      "def rfc_(X_train,Y_train,X_test_int,X_test_other,Y_test,max_features=1500,n_estimators=1000,max_depth=None,min_samples_leaf=1):\n",
      "    print(max_features)\n",
      "    def rfc_maker():\n",
      "        return RandomForestRegressor(max_features=max_features,\n",
      "                                     n_estimators=n_estimators,\n",
      "                                     max_depth=max_depth,\n",
      "                                     min_samples_leaf=min_samples_leaf,\n",
      "                                     n_jobs=-1,\n",
      "                                     oob_score=True,\n",
      "                                     random_state=0)\n",
      "    n_subjects = 49\n",
      "    predicted_train = []\n",
      "    observed_train = []\n",
      "    predicted_test = []\n",
      "    observed_test = []\n",
      "    rfcs = {subject:rfc_maker() for subject in range(1,n_subjects+1)}\n",
      "    for subject in range(1,n_subjects+1):\n",
      "        print(subject)\n",
      "        observed = Y_train[subject]\n",
      "        rfc = rfcs[subject]\n",
      "        rfc.fit(X_train,observed)\n",
      "        #predicted = rfc.predict(X_train)\n",
      "        predicted = rfc.oob_prediction_\n",
      "        observed_train.append(observed)\n",
      "        predicted_train.append(predicted)\n",
      "\n",
      "        observed = Y_test[subject]\n",
      "        rfc = rfcs[subject]\n",
      "        if Y_train is Y_test: # OOB prediction  \n",
      "            predicted = rfc.oob_prediction_\n",
      "        else:\n",
      "            predicted = rfc.predict(X_test_other)\n",
      "            predicted_int = rfc.predict(X_test_int)\n",
      "            predicted[:,0] = predicted_int[:,0]\n",
      "        observed_test.append(observed)\n",
      "        predicted_test.append(predicted)\n",
      "    scores = {}\n",
      "    for phase,predicted_,observed_ in [('train',predicted_train,observed_train),('test',predicted_test,observed_test)]:\n",
      "        predicted = np.dstack(predicted_)\n",
      "        observed = np.ma.dstack(observed_)\n",
      "        predicted_mean = np.mean(predicted,axis=2,keepdims=True)\n",
      "        regularize = 0.7\n",
      "        predicted = regularize*(predicted_mean) + (1-regularize)*predicted\n",
      "        score = scoring.score(predicted,observed,n_subjects=n_subjects)\n",
      "        r_int = scoring.r('int',predicted,observed)\n",
      "        r_ple = scoring.r('ple',predicted,observed)\n",
      "        r_dec = scoring.r('dec',predicted,observed)\n",
      "        print(\"For subchallenge 1, %s phase, score = %.2f (%.2f,%.2f,%.2f)\" % (phase,score,r_int,r_ple,r_dec))\n",
      "        scores[phase] = score\n",
      "    return rfcs,scores['train'],scores['test']"
     ],
     "language": "python",
     "metadata": {},
     "outputs": [],
     "prompt_number": 560
    },
    {
     "cell_type": "code",
     "collapsed": false,
     "input": [
      "rfcs_n_estimators = {}\n",
      "ns = np.logspace(1,2.4,4)\n",
      "scores_train = []\n",
      "scores_test = []\n",
      "for n in ns:\n",
      "    rfc_n_estimators,score_train,score_test = rfc_(X_training,Y_training_median['subject'],\n",
      "                                          X_leaderboard_int,X_leaderboard_other,\n",
      "                                          Y_leaderboard['subject'],\n",
      "                                          max_features=None,n_estimators=int(n))\n",
      "    scores_train.append(score_train)\n",
      "    scores_test.append(score_test)\n",
      "    rfcs_n_estimators[n] = rfc_n_estimators\n",
      "plt.scatter(ns,scores_train,color='b')\n",
      "plt.scatter(ns,scores_test,color='r')"
     ],
     "language": "python",
     "metadata": {},
     "outputs": [
      {
       "output_type": "stream",
       "stream": "stdout",
       "text": [
        "None\n",
        "1\n",
        "2"
       ]
      },
      {
       "output_type": "stream",
       "stream": "stdout",
       "text": [
        "\n",
        "3"
       ]
      },
      {
       "output_type": "stream",
       "stream": "stdout",
       "text": [
        "\n",
        "4"
       ]
      },
      {
       "output_type": "stream",
       "stream": "stdout",
       "text": [
        "\n",
        "5"
       ]
      },
      {
       "output_type": "stream",
       "stream": "stdout",
       "text": [
        "\n",
        "6"
       ]
      },
      {
       "output_type": "stream",
       "stream": "stdout",
       "text": [
        "\n",
        "7"
       ]
      },
      {
       "output_type": "stream",
       "stream": "stdout",
       "text": [
        "\n",
        "8"
       ]
      },
      {
       "output_type": "stream",
       "stream": "stdout",
       "text": [
        "\n",
        "9"
       ]
      },
      {
       "output_type": "stream",
       "stream": "stdout",
       "text": [
        "\n",
        "10"
       ]
      },
      {
       "output_type": "stream",
       "stream": "stdout",
       "text": [
        "\n",
        "11"
       ]
      },
      {
       "output_type": "stream",
       "stream": "stdout",
       "text": [
        "\n",
        "12"
       ]
      },
      {
       "output_type": "stream",
       "stream": "stdout",
       "text": [
        "\n",
        "13"
       ]
      },
      {
       "output_type": "stream",
       "stream": "stdout",
       "text": [
        "\n",
        "14"
       ]
      },
      {
       "output_type": "stream",
       "stream": "stdout",
       "text": [
        "\n",
        "15"
       ]
      },
      {
       "output_type": "stream",
       "stream": "stdout",
       "text": [
        "\n",
        "16"
       ]
      },
      {
       "output_type": "stream",
       "stream": "stdout",
       "text": [
        "\n",
        "17"
       ]
      },
      {
       "output_type": "stream",
       "stream": "stdout",
       "text": [
        "\n",
        "18"
       ]
      },
      {
       "output_type": "stream",
       "stream": "stdout",
       "text": [
        "\n",
        "19"
       ]
      },
      {
       "output_type": "stream",
       "stream": "stdout",
       "text": [
        "\n",
        "20"
       ]
      },
      {
       "output_type": "stream",
       "stream": "stdout",
       "text": [
        "\n",
        "21"
       ]
      },
      {
       "output_type": "stream",
       "stream": "stdout",
       "text": [
        "\n",
        "22"
       ]
      },
      {
       "output_type": "stream",
       "stream": "stdout",
       "text": [
        "\n",
        "23"
       ]
      },
      {
       "output_type": "stream",
       "stream": "stdout",
       "text": [
        "\n",
        "24"
       ]
      },
      {
       "output_type": "stream",
       "stream": "stdout",
       "text": [
        "\n",
        "25"
       ]
      },
      {
       "output_type": "stream",
       "stream": "stdout",
       "text": [
        "\n",
        "26"
       ]
      },
      {
       "output_type": "stream",
       "stream": "stdout",
       "text": [
        "\n",
        "27"
       ]
      },
      {
       "output_type": "stream",
       "stream": "stdout",
       "text": [
        "\n",
        "28"
       ]
      },
      {
       "output_type": "stream",
       "stream": "stdout",
       "text": [
        "\n",
        "29"
       ]
      },
      {
       "output_type": "stream",
       "stream": "stdout",
       "text": [
        "\n",
        "30"
       ]
      },
      {
       "output_type": "stream",
       "stream": "stdout",
       "text": [
        "\n",
        "31"
       ]
      },
      {
       "output_type": "stream",
       "stream": "stdout",
       "text": [
        "\n",
        "32"
       ]
      },
      {
       "output_type": "stream",
       "stream": "stdout",
       "text": [
        "\n",
        "33"
       ]
      },
      {
       "output_type": "stream",
       "stream": "stdout",
       "text": [
        "\n",
        "34"
       ]
      },
      {
       "output_type": "stream",
       "stream": "stdout",
       "text": [
        "\n",
        "35"
       ]
      },
      {
       "output_type": "stream",
       "stream": "stdout",
       "text": [
        "\n",
        "36"
       ]
      },
      {
       "output_type": "stream",
       "stream": "stdout",
       "text": [
        "\n",
        "37"
       ]
      },
      {
       "output_type": "stream",
       "stream": "stdout",
       "text": [
        "\n",
        "38"
       ]
      },
      {
       "output_type": "stream",
       "stream": "stdout",
       "text": [
        "\n",
        "39"
       ]
      },
      {
       "output_type": "stream",
       "stream": "stdout",
       "text": [
        "\n",
        "40"
       ]
      },
      {
       "output_type": "stream",
       "stream": "stdout",
       "text": [
        "\n",
        "41"
       ]
      },
      {
       "output_type": "stream",
       "stream": "stdout",
       "text": [
        "\n",
        "42"
       ]
      },
      {
       "output_type": "stream",
       "stream": "stdout",
       "text": [
        "\n",
        "43"
       ]
      },
      {
       "output_type": "stream",
       "stream": "stdout",
       "text": [
        "\n",
        "44"
       ]
      },
      {
       "output_type": "stream",
       "stream": "stdout",
       "text": [
        "\n",
        "45"
       ]
      },
      {
       "output_type": "stream",
       "stream": "stdout",
       "text": [
        "\n",
        "46"
       ]
      },
      {
       "output_type": "stream",
       "stream": "stdout",
       "text": [
        "\n",
        "47"
       ]
      },
      {
       "output_type": "stream",
       "stream": "stdout",
       "text": [
        "\n",
        "48"
       ]
      },
      {
       "output_type": "stream",
       "stream": "stdout",
       "text": [
        "\n",
        "49"
       ]
      },
      {
       "output_type": "stream",
       "stream": "stdout",
       "text": [
        "\n",
        "For subchallenge 1, train phase, score = 23.08 (0.39,0.30,0.13)"
       ]
      },
      {
       "output_type": "stream",
       "stream": "stdout",
       "text": [
        "\n",
        "For subchallenge 1, test phase, score = 25.43 (0.42,0.28,0.16)"
       ]
      },
      {
       "output_type": "stream",
       "stream": "stdout",
       "text": [
        "\n",
        "None\n",
        "1\n",
        "2"
       ]
      },
      {
       "output_type": "stream",
       "stream": "stdout",
       "text": [
        "\n",
        "3"
       ]
      },
      {
       "output_type": "stream",
       "stream": "stdout",
       "text": [
        "\n",
        "4"
       ]
      },
      {
       "output_type": "stream",
       "stream": "stdout",
       "text": [
        "\n",
        "5"
       ]
      },
      {
       "output_type": "stream",
       "stream": "stdout",
       "text": [
        "\n",
        "6"
       ]
      },
      {
       "output_type": "stream",
       "stream": "stdout",
       "text": [
        "\n",
        "7"
       ]
      },
      {
       "output_type": "stream",
       "stream": "stdout",
       "text": [
        "\n",
        "8"
       ]
      },
      {
       "output_type": "stream",
       "stream": "stdout",
       "text": [
        "\n",
        "9"
       ]
      },
      {
       "output_type": "stream",
       "stream": "stdout",
       "text": [
        "\n",
        "10"
       ]
      },
      {
       "output_type": "stream",
       "stream": "stdout",
       "text": [
        "\n",
        "11"
       ]
      },
      {
       "output_type": "stream",
       "stream": "stdout",
       "text": [
        "\n",
        "12"
       ]
      },
      {
       "output_type": "stream",
       "stream": "stdout",
       "text": [
        "\n",
        "13"
       ]
      },
      {
       "output_type": "stream",
       "stream": "stdout",
       "text": [
        "\n",
        "14"
       ]
      },
      {
       "output_type": "stream",
       "stream": "stdout",
       "text": [
        "\n",
        "15"
       ]
      },
      {
       "output_type": "stream",
       "stream": "stdout",
       "text": [
        "\n",
        "16"
       ]
      },
      {
       "output_type": "stream",
       "stream": "stdout",
       "text": [
        "\n",
        "17"
       ]
      },
      {
       "output_type": "stream",
       "stream": "stdout",
       "text": [
        "\n",
        "18"
       ]
      },
      {
       "output_type": "stream",
       "stream": "stdout",
       "text": [
        "\n",
        "19"
       ]
      },
      {
       "output_type": "stream",
       "stream": "stdout",
       "text": [
        "\n",
        "20"
       ]
      },
      {
       "output_type": "stream",
       "stream": "stdout",
       "text": [
        "\n",
        "21"
       ]
      },
      {
       "output_type": "stream",
       "stream": "stdout",
       "text": [
        "\n",
        "22"
       ]
      },
      {
       "output_type": "stream",
       "stream": "stdout",
       "text": [
        "\n",
        "23"
       ]
      },
      {
       "output_type": "stream",
       "stream": "stdout",
       "text": [
        "\n",
        "24"
       ]
      },
      {
       "output_type": "stream",
       "stream": "stdout",
       "text": [
        "\n",
        "25"
       ]
      },
      {
       "output_type": "stream",
       "stream": "stdout",
       "text": [
        "\n",
        "26"
       ]
      },
      {
       "output_type": "stream",
       "stream": "stdout",
       "text": [
        "\n",
        "27"
       ]
      },
      {
       "output_type": "stream",
       "stream": "stdout",
       "text": [
        "\n",
        "28"
       ]
      },
      {
       "output_type": "stream",
       "stream": "stdout",
       "text": [
        "\n",
        "29"
       ]
      },
      {
       "output_type": "stream",
       "stream": "stdout",
       "text": [
        "\n",
        "30"
       ]
      },
      {
       "output_type": "stream",
       "stream": "stdout",
       "text": [
        "\n",
        "31"
       ]
      },
      {
       "output_type": "stream",
       "stream": "stdout",
       "text": [
        "\n",
        "32"
       ]
      },
      {
       "output_type": "stream",
       "stream": "stdout",
       "text": [
        "\n",
        "33"
       ]
      },
      {
       "output_type": "stream",
       "stream": "stdout",
       "text": [
        "\n",
        "34"
       ]
      },
      {
       "output_type": "stream",
       "stream": "stdout",
       "text": [
        "\n",
        "35"
       ]
      },
      {
       "output_type": "stream",
       "stream": "stdout",
       "text": [
        "\n",
        "36"
       ]
      },
      {
       "output_type": "stream",
       "stream": "stdout",
       "text": [
        "\n",
        "37"
       ]
      },
      {
       "output_type": "stream",
       "stream": "stdout",
       "text": [
        "\n",
        "38"
       ]
      },
      {
       "output_type": "stream",
       "stream": "stdout",
       "text": [
        "\n",
        "39"
       ]
      },
      {
       "output_type": "stream",
       "stream": "stdout",
       "text": [
        "\n",
        "40"
       ]
      },
      {
       "output_type": "stream",
       "stream": "stdout",
       "text": [
        "\n",
        "41"
       ]
      },
      {
       "output_type": "stream",
       "stream": "stdout",
       "text": [
        "\n",
        "42"
       ]
      },
      {
       "output_type": "stream",
       "stream": "stdout",
       "text": [
        "\n",
        "43"
       ]
      },
      {
       "output_type": "stream",
       "stream": "stdout",
       "text": [
        "\n",
        "44"
       ]
      },
      {
       "output_type": "stream",
       "stream": "stdout",
       "text": [
        "\n",
        "45"
       ]
      },
      {
       "output_type": "stream",
       "stream": "stdout",
       "text": [
        "\n",
        "46"
       ]
      },
      {
       "output_type": "stream",
       "stream": "stdout",
       "text": [
        "\n",
        "47"
       ]
      },
      {
       "output_type": "stream",
       "stream": "stdout",
       "text": [
        "\n",
        "48"
       ]
      },
      {
       "output_type": "stream",
       "stream": "stdout",
       "text": [
        "\n",
        "49"
       ]
      },
      {
       "output_type": "stream",
       "stream": "stdout",
       "text": [
        "\n",
        "For subchallenge 1, train phase, score = 27.82 (0.45,0.35,0.17)"
       ]
      },
      {
       "output_type": "stream",
       "stream": "stdout",
       "text": [
        "\n",
        "For subchallenge 1, test phase, score = 26.43 (0.44,0.28,0.17)"
       ]
      },
      {
       "output_type": "stream",
       "stream": "stdout",
       "text": [
        "\n",
        "None\n",
        "1\n",
        "2"
       ]
      },
      {
       "output_type": "stream",
       "stream": "stdout",
       "text": [
        "\n",
        "3"
       ]
      },
      {
       "output_type": "stream",
       "stream": "stdout",
       "text": [
        "\n",
        "4"
       ]
      },
      {
       "output_type": "stream",
       "stream": "stdout",
       "text": [
        "\n",
        "5"
       ]
      },
      {
       "output_type": "stream",
       "stream": "stdout",
       "text": [
        "\n",
        "6"
       ]
      },
      {
       "output_type": "stream",
       "stream": "stdout",
       "text": [
        "\n",
        "7"
       ]
      },
      {
       "output_type": "stream",
       "stream": "stdout",
       "text": [
        "\n",
        "8"
       ]
      },
      {
       "output_type": "stream",
       "stream": "stdout",
       "text": [
        "\n",
        "9"
       ]
      },
      {
       "output_type": "stream",
       "stream": "stdout",
       "text": [
        "\n",
        "10"
       ]
      },
      {
       "output_type": "stream",
       "stream": "stdout",
       "text": [
        "\n",
        "11"
       ]
      },
      {
       "output_type": "stream",
       "stream": "stdout",
       "text": [
        "\n",
        "12"
       ]
      },
      {
       "output_type": "stream",
       "stream": "stdout",
       "text": [
        "\n",
        "13"
       ]
      },
      {
       "output_type": "stream",
       "stream": "stdout",
       "text": [
        "\n",
        "14"
       ]
      },
      {
       "output_type": "stream",
       "stream": "stdout",
       "text": [
        "\n",
        "15"
       ]
      },
      {
       "output_type": "stream",
       "stream": "stdout",
       "text": [
        "\n",
        "16"
       ]
      },
      {
       "output_type": "stream",
       "stream": "stdout",
       "text": [
        "\n",
        "17"
       ]
      },
      {
       "output_type": "stream",
       "stream": "stdout",
       "text": [
        "\n",
        "18"
       ]
      },
      {
       "output_type": "stream",
       "stream": "stdout",
       "text": [
        "\n",
        "19"
       ]
      },
      {
       "output_type": "stream",
       "stream": "stdout",
       "text": [
        "\n",
        "20"
       ]
      },
      {
       "output_type": "stream",
       "stream": "stdout",
       "text": [
        "\n",
        "21"
       ]
      },
      {
       "output_type": "stream",
       "stream": "stdout",
       "text": [
        "\n",
        "22"
       ]
      },
      {
       "output_type": "stream",
       "stream": "stdout",
       "text": [
        "\n",
        "23"
       ]
      },
      {
       "output_type": "stream",
       "stream": "stdout",
       "text": [
        "\n",
        "24"
       ]
      },
      {
       "output_type": "stream",
       "stream": "stdout",
       "text": [
        "\n",
        "25"
       ]
      },
      {
       "output_type": "stream",
       "stream": "stdout",
       "text": [
        "\n",
        "26"
       ]
      },
      {
       "output_type": "stream",
       "stream": "stdout",
       "text": [
        "\n",
        "27"
       ]
      },
      {
       "output_type": "stream",
       "stream": "stdout",
       "text": [
        "\n",
        "28"
       ]
      },
      {
       "output_type": "stream",
       "stream": "stdout",
       "text": [
        "\n",
        "29"
       ]
      },
      {
       "output_type": "stream",
       "stream": "stdout",
       "text": [
        "\n",
        "30"
       ]
      },
      {
       "output_type": "stream",
       "stream": "stdout",
       "text": [
        "\n",
        "31"
       ]
      },
      {
       "output_type": "stream",
       "stream": "stdout",
       "text": [
        "\n",
        "32"
       ]
      },
      {
       "output_type": "stream",
       "stream": "stdout",
       "text": [
        "\n",
        "33"
       ]
      },
      {
       "output_type": "stream",
       "stream": "stdout",
       "text": [
        "\n",
        "34"
       ]
      },
      {
       "output_type": "stream",
       "stream": "stdout",
       "text": [
        "\n",
        "35"
       ]
      },
      {
       "output_type": "stream",
       "stream": "stdout",
       "text": [
        "\n",
        "36"
       ]
      },
      {
       "output_type": "stream",
       "stream": "stdout",
       "text": [
        "\n",
        "37"
       ]
      },
      {
       "output_type": "stream",
       "stream": "stdout",
       "text": [
        "\n",
        "38"
       ]
      },
      {
       "output_type": "stream",
       "stream": "stdout",
       "text": [
        "\n",
        "39"
       ]
      },
      {
       "output_type": "stream",
       "stream": "stdout",
       "text": [
        "\n",
        "40"
       ]
      },
      {
       "output_type": "stream",
       "stream": "stdout",
       "text": [
        "\n",
        "41"
       ]
      },
      {
       "output_type": "stream",
       "stream": "stdout",
       "text": [
        "\n",
        "42"
       ]
      },
      {
       "output_type": "stream",
       "stream": "stdout",
       "text": [
        "\n",
        "43"
       ]
      },
      {
       "output_type": "stream",
       "stream": "stdout",
       "text": [
        "\n",
        "44"
       ]
      },
      {
       "output_type": "stream",
       "stream": "stdout",
       "text": [
        "\n",
        "45"
       ]
      },
      {
       "output_type": "stream",
       "stream": "stdout",
       "text": [
        "\n",
        "46"
       ]
      },
      {
       "output_type": "stream",
       "stream": "stdout",
       "text": [
        "\n",
        "47"
       ]
      },
      {
       "output_type": "stream",
       "stream": "stdout",
       "text": [
        "\n",
        "48"
       ]
      },
      {
       "output_type": "stream",
       "stream": "stdout",
       "text": [
        "\n",
        "49"
       ]
      },
      {
       "output_type": "stream",
       "stream": "stdout",
       "text": [
        "\n",
        "For subchallenge 1, train phase, score = 29.16 (0.46,0.36,0.18)"
       ]
      },
      {
       "output_type": "stream",
       "stream": "stdout",
       "text": [
        "\n",
        "For subchallenge 1, test phase, score = 27.35 (0.44,0.29,0.18)"
       ]
      },
      {
       "output_type": "stream",
       "stream": "stdout",
       "text": [
        "\n",
        "None\n",
        "1\n",
        "2"
       ]
      },
      {
       "output_type": "stream",
       "stream": "stdout",
       "text": [
        "\n",
        "3"
       ]
      },
      {
       "output_type": "stream",
       "stream": "stdout",
       "text": [
        "\n",
        "4"
       ]
      },
      {
       "output_type": "stream",
       "stream": "stdout",
       "text": [
        "\n",
        "5"
       ]
      },
      {
       "output_type": "stream",
       "stream": "stdout",
       "text": [
        "\n",
        "6"
       ]
      }
     ]
    },
    {
     "cell_type": "code",
     "collapsed": false,
     "input": [
      "10**2.4"
     ],
     "language": "python",
     "metadata": {},
     "outputs": [
      {
       "metadata": {},
       "output_type": "pyout",
       "prompt_number": 563,
       "text": [
        "251.18864315095797"
       ]
      }
     ],
     "prompt_number": 563
    },
    {
     "cell_type": "code",
     "collapsed": false,
     "input": [
      "# Using only subject fits.  \n",
      "def subject_regularize(rfcs,X_int,X_other,Y,oob=False,regularize=[0.75,0.3,0.65]):\n",
      "    if len(regularize)==1:\n",
      "        regularize = regularize*3\n",
      "    observed_ = []\n",
      "    predicted_ = []\n",
      "    for subject in range(1,50):\n",
      "        observed = Y['subject'][subject]\n",
      "        rfc = rfcs[1][subject]\n",
      "        if oob:\n",
      "            predicted = rfc.oob_prediction_\n",
      "        else:\n",
      "            predicted = rfc.predict(X_other)\n",
      "            predicted_int = rfc.predict(X_int)\n",
      "            predicted[:,0] = predicted_int[:,0]\n",
      "        observed_.append(observed)\n",
      "        predicted_.append(predicted)\n",
      "    predicted = np.dstack(predicted_)\n",
      "    observed = np.ma.dstack(observed_)\n",
      "    predicted_mean = np.mean(predicted,axis=2,keepdims=True)\n",
      "    predicted_std = np.std(predicted,axis=2,keepdims=True)\n",
      "    predicted_mean_std = np.hstack((predicted_mean,predicted_std)).squeeze()\n",
      "    predicted_int = regularize[0]*(predicted_mean) + (1-regularize[0])*predicted\n",
      "    predicted_ple = regularize[1]*(predicted_mean) + (1-regularize[1])*predicted\n",
      "    predicted_dec = regularize[2]*(predicted_mean) + (1-regularize[2])*predicted\n",
      "    predicted = regularize[0]*(predicted_mean) + (1-regularize[0])*predicted\n",
      "    r_int = scoring.r('int',predicted_int,observed)\n",
      "    r_ple = scoring.r('ple',predicted_ple,observed)\n",
      "    r_dec = scoring.r('dec',predicted_dec,observed)\n",
      "    score1_ = scoring.score(predicted,observed,n_subjects=49)\n",
      "    score1 = scoring.rs2score(r_int,r_ple,r_dec)\n",
      "    #print(score1_,score1)\n",
      "    print(\"For subchallenge %d, score = %.3f (%.3f,%.3f,%.3f)\" % (1,score1,r_int,r_ple,r_dec))\n",
      "    score2 = scoring.score2(predicted_mean_std,Y['mean_std'])\n",
      "    r_int_mean = scoring.r2('int','mean',predicted_mean_std,Y['mean_std'])\n",
      "    r_ple_mean = scoring.r2('ple','mean',predicted_mean_std,Y['mean_std'])\n",
      "    r_dec_mean = scoring.r2('dec','mean',predicted_mean_std,Y['mean_std'])\n",
      "    r_int_sigma = scoring.r2('int','sigma',predicted_mean_std,Y['mean_std'])\n",
      "    r_ple_sigma = scoring.r2('ple','sigma',predicted_mean_std,Y['mean_std'])\n",
      "    r_dec_sigma = scoring.r2('dec','sigma',predicted_mean_std,Y['mean_std'])\n",
      "    print(\"For subchallenge %d, score = %.2f (%.2f,%.2f,%.2f,%.2f,%.2f,%.2f)\" % \\\n",
      "         (2,score2,r_int_mean,r_ple_mean,r_dec_mean,r_int_sigma,r_ple_sigma,r_dec_sigma))\n",
      "    return (r_int,r_ple,r_dec,r_int_mean,r_ple_mean,r_dec_mean,r_int_sigma,r_ple_sigma,r_dec_sigma)\n",
      "\n",
      "regs = np.linspace(0,1,11)\n",
      "matrix_training = np.zeros((len(regs),9))\n",
      "matrix_leaderboard = np.zeros((len(regs),9))\n",
      "for i,reg in enumerate(regs):\n",
      "    result = subject_regularize(rfcs,X_training,X_training,Y_training,oob=True,regularize=[reg])\n",
      "    matrix_training[i,:] = result\n",
      "    result = subject_regularize(rfcs,X_leaderboard_int,X_leaderboard_other,Y_leaderboard,oob=False,regularize=[reg])\n",
      "    matrix_leaderboard[i,:] = result\n",
      "\n",
      "for matrix in (matrix_training,matrix_leaderboard):\n",
      "    plt.figure()\n",
      "    matrix /= matrix.max(axis=0)[np.newaxis,:]\n",
      "    plt.pcolor(matrix[:,3],vmin=0.8,vmax=1)"
     ],
     "language": "python",
     "metadata": {},
     "outputs": [
      {
       "output_type": "stream",
       "stream": "stdout",
       "text": [
        "23.9819330376 23.9819330376\n",
        "For subchallenge 1, score = 23.982 (0.407,0.312,0.136)\n",
        "For subchallenge 2, score = 7.34 (0.64,0.62,0.53,0.03,0.20,0.33)\n",
        "25.8703038035"
       ]
      },
      {
       "output_type": "stream",
       "stream": "stdout",
       "text": [
        " 25.8703038035\n",
        "For subchallenge 1, score = 25.870 (0.401,0.289,0.167)\n",
        "For subchallenge 2, score = 8.12 (0.66,0.51,0.52,0.32,0.11,0.45)\n",
        "24.9684492335"
       ]
      },
      {
       "output_type": "stream",
       "stream": "stdout",
       "text": [
        " 24.9684492335\n",
        "For subchallenge 1, score = 24.968 (0.418,0.322,0.144)\n",
        "For subchallenge 2, score = 7.34 (0.64,0.62,0.53,0.03,0.20,0.33)\n",
        "26.6847231932"
       ]
      },
      {
       "output_type": "stream",
       "stream": "stdout",
       "text": [
        " 26.6847231932\n",
        "For subchallenge 1, score = 26.685 (0.409,0.293,0.174)\n",
        "For subchallenge 2, score = 8.12 (0.66,0.51,0.52,0.32,0.11,0.45)\n",
        "25.9397381207"
       ]
      },
      {
       "output_type": "stream",
       "stream": "stdout",
       "text": [
        " 25.9397381207\n",
        "For subchallenge 1, score = 25.940 (0.429,0.333,0.151)\n",
        "For subchallenge 2, score = 7.34 (0.64,0.62,0.53,0.03,0.20,0.33)\n",
        "27.3823602551"
       ]
      },
      {
       "output_type": "stream",
       "stream": "stdout",
       "text": [
        " 27.3823602551\n",
        "For subchallenge 1, score = 27.382 (0.417,0.295,0.181)\n",
        "For subchallenge 2, score = 8.12 (0.66,0.51,0.52,0.32,0.11,0.45)\n",
        "26.8867816453"
       ]
      },
      {
       "output_type": "stream",
       "stream": "stdout",
       "text": [
        " 26.8867816453\n",
        "For subchallenge 1, score = 26.887 (0.439,0.342,0.158)\n",
        "For subchallenge 2, score = 7.34 (0.64,0.62,0.53,0.03,0.20,0.33)\n",
        "27.9862866441"
       ]
      },
      {
       "output_type": "stream",
       "stream": "stdout",
       "text": [
        " 27.9862866441\n",
        "For subchallenge 1, score = 27.986 (0.424,0.297,0.187)\n",
        "For subchallenge 2, score = 8.12 (0.66,0.51,0.52,0.32,0.11,0.45)\n",
        "27.7949190847"
       ]
      },
      {
       "output_type": "stream",
       "stream": "stdout",
       "text": [
        " 27.7949190847\n",
        "For subchallenge 1, score = 27.795 (0.448,0.351,0.166)\n",
        "For subchallenge 2, score = 7.34 (0.64,0.62,0.53,0.03,0.20,0.33)\n",
        "28.4783378503"
       ]
      },
      {
       "output_type": "stream",
       "stream": "stdout",
       "text": [
        " 28.4783378503\n",
        "For subchallenge 1, score = 28.478 (0.429,0.297,0.191)\n",
        "For subchallenge 2, score = 8.12 (0.66,0.51,0.52,0.32,0.11,0.45)\n",
        "28.6380647301"
       ]
      },
      {
       "output_type": "stream",
       "stream": "stdout",
       "text": [
        " 28.6380647301\n",
        "For subchallenge 1, score = 28.638 (0.456,0.359,0.173)\n",
        "For subchallenge 2, score = 7.34 (0.64,0.62,0.53,0.03,0.20,0.33)\n",
        "28.8343190379"
       ]
      },
      {
       "output_type": "stream",
       "stream": "stdout",
       "text": [
        " 28.8343190379\n",
        "For subchallenge 1, score = 28.834 (0.434,0.296,0.195)\n",
        "For subchallenge 2, score = 8.12 (0.66,0.51,0.52,0.32,0.11,0.45)\n",
        "29.3752512012"
       ]
      },
      {
       "output_type": "stream",
       "stream": "stdout",
       "text": [
        " 29.3752512012\n",
        "For subchallenge 1, score = 29.375 (0.463,0.364,0.179)\n",
        "For subchallenge 2, score = 7.34 (0.64,0.62,0.53,0.03,0.20,0.33)\n",
        "29.0224220442"
       ]
      },
      {
       "output_type": "stream",
       "stream": "stdout",
       "text": [
        " 29.0224220442\n",
        "For subchallenge 1, score = 29.022 (0.437,0.293,0.198)\n",
        "For subchallenge 2, score = 8.12 (0.66,0.51,0.52,0.32,0.11,0.45)\n",
        "29.941728884"
       ]
      },
      {
       "output_type": "stream",
       "stream": "stdout",
       "text": [
        " 29.941728884\n",
        "For subchallenge 1, score = 29.942 (0.467,0.366,0.185)\n",
        "For subchallenge 2, score = 7.34 (0.64,0.62,0.53,0.03,0.20,0.33)\n",
        "28.9969473744"
       ]
      },
      {
       "output_type": "stream",
       "stream": "stdout",
       "text": [
        " 28.9969473744\n",
        "For subchallenge 1, score = 28.997 (0.439,0.288,0.198)\n",
        "For subchallenge 2, score = 8.12 (0.66,0.51,0.52,0.32,0.11,0.45)\n",
        "30.2292036734"
       ]
      },
      {
       "output_type": "stream",
       "stream": "stdout",
       "text": [
        " 30.2292036734\n",
        "For subchallenge 1, score = 30.229 (0.469,0.365,0.188)\n",
        "For subchallenge 2, score = 7.34 (0.64,0.62,0.53,0.03,0.20,0.33)\n",
        "28.6838021345"
       ]
      },
      {
       "output_type": "stream",
       "stream": "stdout",
       "text": [
        " 28.6838021345\n",
        "For subchallenge 1, score = 28.684 (0.439,0.279,0.196)\n",
        "For subchallenge 2, score = 8.12 (0.66,0.51,0.52,0.32,0.11,0.45)\n",
        "30.0433106724"
       ]
      },
      {
       "output_type": "stream",
       "stream": "stdout",
       "text": [
        " 30.0433106724\n",
        "For subchallenge 1, score = 30.043 (0.469,0.358,0.188)\n",
        "For subchallenge 2, score = 7.34 (0.64,0.62,0.53,0.03,0.20,0.33)\n",
        "27.9559804189"
       ]
      },
      {
       "output_type": "stream",
       "stream": "stdout",
       "text": [
        " 27.9559804189\n",
        "For subchallenge 1, score = 27.956 (0.437,0.267,0.190)\n",
        "For subchallenge 2, score = 8.12 (0.66,0.51,0.52,0.32,0.11,0.45)\n",
        "29.017593698"
       ]
      },
      {
       "output_type": "stream",
       "stream": "stdout",
       "text": [
        " 29.017593698\n",
        "For subchallenge 1, score = 29.018 (0.466,0.345,0.178)\n",
        "For subchallenge 2, score = 7.34 (0.64,0.62,0.53,0.03,0.20,0.33)\n",
        "26.5760654575"
       ]
      },
      {
       "output_type": "stream",
       "stream": "stdout",
       "text": [
        " 26.5760654575\n",
        "For subchallenge 1, score = 26.576 (0.433,0.252,0.178)\n",
        "For subchallenge 2, score = 8.12 (0.66,0.51,0.52,0.32,0.11,0.45)\n"
       ]
      },
      {
       "metadata": {},
       "output_type": "display_data",
       "png": "[encoded data removed]",
       "text": [
        "<matplotlib.figure.Figure at 0x121b9aa20>"
       ]
      },
      {
       "metadata": {},
       "output_type": "display_data",
       "png": "[encoded data removed]",
       "text": [
        "<matplotlib.figure.Figure at 0x121abab70>"
       ]
      }
     ],
     "prompt_number": 472
    },
    {
     "cell_type": "code",
     "collapsed": false,
     "input": [
      "subject_regularize(rfcs,X_leaderboard_int,X_leaderboard_other,Y_leaderboard,regularize=[0.7,0.7,0.7])"
     ],
     "language": "python",
     "metadata": {},
     "outputs": [
      {
       "output_type": "stream",
       "stream": "stdout",
       "text": [
        "28.9969473744 28.9969473744\n",
        "For subchallenge 1, score = 28.997 (0.439,0.288,0.198)\n",
        "For subchallenge 2, score = 8.12 (0.66,0.51,0.52,0.32,0.11,0.45)\n"
       ]
      },
      {
       "metadata": {},
       "output_type": "pyout",
       "prompt_number": 474,
       "text": [
        "(0.43888359341714961,\n",
        " 0.28756965570525278,\n",
        " 0.19816417430030622,\n",
        " 0.65819354057816026,\n",
        " 0.51314847313359546,\n",
        " 0.51995793672203783,\n",
        " 0.32460233686715884,\n",
        " 0.11026135740672961,\n",
        " 0.44561871643941126)"
       ]
      }
     ],
     "prompt_number": 474
    },
    {
     "cell_type": "code",
     "collapsed": false,
     "input": [
      "from sklearn.linear_model import Lasso\n",
      "def lasso_(X_train,Y_train,X_test,Y_test,alpha=0.1,regularize=[0.7,0.7,0.7]):\n",
      "    if len(regularize)==1:\n",
      "        regularize = regularize*3\n",
      "    def lasso_maker():\n",
      "        return Lasso(alpha=alpha)\n",
      "    n_subjects = 49\n",
      "    predicted_train = []\n",
      "    observed_train = []\n",
      "    predicted_test = []\n",
      "    observed_test = []\n",
      "    lassos = {subject:lasso_maker() for subject in range(1,n_subjects+1)}\n",
      "    for subject in range(1,n_subjects+1):\n",
      "        observed = Y_train[subject][:,1:2]\n",
      "        lasso = lassos[subject]\n",
      "        lasso.fit(X_train,observed)\n",
      "        predicted = lasso.predict(X_train)[:,np.newaxis]\n",
      "        observed_train.append(observed)\n",
      "        predicted_train.append(predicted)\n",
      "\n",
      "        observed = Y_test[subject][:,1:2]\n",
      "        predicted = lasso.predict(X_test)[:,np.newaxis]\n",
      "        observed_test.append(observed)\n",
      "        predicted_test.append(predicted)\n",
      "    scores = {}\n",
      "    for phase,predicted_,observed_ in [('train',predicted_train,observed_train),('test',predicted_test,observed_test)]:\n",
      "        predicted = np.dstack(predicted_)\n",
      "        observed = np.ma.dstack(observed_)\n",
      "        predicted_mean = np.mean(predicted,axis=2,keepdims=True)\n",
      "        #predicted_int = regularize[0]*(predicted_mean) + (1-regularize[0])*predicted\n",
      "        predicted_ple = regularize[1]*(predicted_mean) + (1-regularize[1])*predicted\n",
      "        #predicted_dec = regularize[2]*(predicted_mean) + (1-regularize[2])*predicted\n",
      "        #score1_ = scoring.score(predicted_int,observed,n_subjects=n_subjects)\n",
      "        #r_int = scoring.r('int',predicted,observed)\n",
      "        #r_ple = scoring.r('ple',predicted,observed)\n",
      "        r_ple = scoring.r(None,predicted_ple,observed)\n",
      "        r2_ple = scoring.r2(None,None,predicted_ple.mean(axis=2),observed.mean(axis=2))\n",
      "        #r_dec = scoring.r('dec',predicted,observed)\n",
      "        #score1 = scoring.rs2score(r_int,r_ple,r_dec)\n",
      "        print(\"For subchallenge 1, %s phase, score = %.2f\" % (phase,r_ple))\n",
      "        print(\"For subchallenge 2, %s phase, score = %.2f\" % (phase,r2_ple))\n",
      "        scores[phase] = (r_ple,r2_ple)\n",
      "    return lassos,scores['train'],scores['test']\n",
      "\n",
      "alphas = np.logspace(-2,1,8)\n",
      "lassos1 = {}\n",
      "scores1_train = []\n",
      "scores1_test = []\n",
      "scores2_train = []\n",
      "scores2_test = []\n",
      "for alpha in alphas:\n",
      "    print(alpha)\n",
      "    lassos,score_train,score_test = lasso_(X_training,Y_training_median['subject'],\n",
      "                                          X_leaderboard_int,Y_leaderboard['subject'],\n",
      "                                          1,alpha=alpha,regularize=[0.3,0.3,0.3])\n",
      "    scores1_train.append(score_train[0])\n",
      "    scores1_test.append(score_test[0])\n",
      "    scores2_train.append(score_train[1])\n",
      "    scores2_test.append(score_test[1])\n",
      "    lassos1[alpha] = lassos\n",
      "\n",
      "plt.scatter(alphas,scores1_train,color='b')\n",
      "plt.scatter(alphas,scores1_test,color='r')\n",
      "plt.xscale('log')\n",
      "\n",
      "plt.figure()\n",
      "plt.scatter(alphas,scores2_train,color='b')\n",
      "plt.scatter(alphas,scores2_test,color='r')\n",
      "plt.xscale('log')"
     ],
     "language": "python",
     "metadata": {},
     "outputs": [
      {
       "output_type": "stream",
       "stream": "stdout",
       "text": [
        "0.01\n",
        "For subchallenge 1, train phase, score = 0.79"
       ]
      },
      {
       "output_type": "stream",
       "stream": "stdout",
       "text": [
        "\n",
        "For subchallenge 2, train phase, score = 0.92\n",
        "For subchallenge 1, test phase, score = 0.12"
       ]
      },
      {
       "output_type": "stream",
       "stream": "stdout",
       "text": [
        "\n",
        "For subchallenge 2, test phase, score = 0.15\n",
        "0.0268269579528\n",
        "For subchallenge 1, train phase, score = 0.78"
       ]
      },
      {
       "output_type": "stream",
       "stream": "stdout",
       "text": [
        "\n",
        "For subchallenge 2, train phase, score = 0.91\n",
        "For subchallenge 1, test phase, score = 0.14"
       ]
      },
      {
       "output_type": "stream",
       "stream": "stdout",
       "text": [
        "\n",
        "For subchallenge 2, test phase, score = 0.22\n",
        "0.0719685673001\n",
        "For subchallenge 1, train phase, score = 0.76"
       ]
      },
      {
       "output_type": "stream",
       "stream": "stdout",
       "text": [
        "\n",
        "For subchallenge 2, train phase, score = 0.90\n",
        "For subchallenge 1, test phase, score = 0.17"
       ]
      },
      {
       "output_type": "stream",
       "stream": "stdout",
       "text": [
        "\n",
        "For subchallenge 2, test phase, score = 0.27\n",
        "0.193069772888\n",
        "For subchallenge 1, train phase, score = 0.70"
       ]
      },
      {
       "output_type": "stream",
       "stream": "stdout",
       "text": [
        "\n",
        "For subchallenge 2, train phase, score = 0.86\n",
        "For subchallenge 1, test phase, score = 0.22"
       ]
      },
      {
       "output_type": "stream",
       "stream": "stdout",
       "text": [
        "\n",
        "For subchallenge 2, test phase, score = 0.40\n",
        "0.517947467923\n",
        "For subchallenge 1, train phase, score = 0.60"
       ]
      },
      {
       "output_type": "stream",
       "stream": "stdout",
       "text": [
        "\n",
        "For subchallenge 2, train phase, score = 0.78\n",
        "For subchallenge 1, test phase, score = 0.27"
       ]
      },
      {
       "output_type": "stream",
       "stream": "stdout",
       "text": [
        "\n",
        "For subchallenge 2, test phase, score = 0.52\n",
        "1.38949549437\n",
        "For subchallenge 1, train phase, score = 0.48"
       ]
      },
      {
       "output_type": "stream",
       "stream": "stdout",
       "text": [
        "\n",
        "For subchallenge 2, train phase, score = 0.68\n",
        "For subchallenge 1, test phase, score = 0.28"
       ]
      },
      {
       "output_type": "stream",
       "stream": "stdout",
       "text": [
        "\n",
        "For subchallenge 2, test phase, score = 0.58\n",
        "3.72759372031\n",
        "For subchallenge 1, train phase, score = 0.34"
       ]
      },
      {
       "output_type": "stream",
       "stream": "stdout",
       "text": [
        "\n",
        "For subchallenge 2, train phase, score = 0.54\n",
        "For subchallenge 1, test phase, score = 0.25"
       ]
      },
      {
       "output_type": "stream",
       "stream": "stdout",
       "text": [
        "\n",
        "For subchallenge 2, test phase, score = 0.50\n",
        "10.0\n",
        "For subchallenge 1, train phase, score = 0.23"
       ]
      },
      {
       "output_type": "stream",
       "stream": "stdout",
       "text": [
        "\n",
        "For subchallenge 2, train phase, score = 0.41\n",
        "For subchallenge 1, test phase, score = 0.21"
       ]
      },
      {
       "output_type": "stream",
       "stream": "stdout",
       "text": [
        "\n",
        "For subchallenge 2, test phase, score = 0.45\n"
       ]
      },
      {
       "metadata": {},
       "output_type": "display_data",
       "png": "[encoded data removed]",
       "text": [
        "<matplotlib.figure.Figure at 0x10bf8d5f8>"
       ]
      },
      {
       "metadata": {},
       "output_type": "display_data",
       "png": "[encoded data removed]",
       "text": [
        "<matplotlib.figure.Figure at 0x11d35fb70>"
       ]
      }
     ],
     "prompt_number": 411
    },
    {
     "cell_type": "code",
     "collapsed": false,
     "input": [
      "max_features = {'int':20,\n",
      "                'ple':20,\n",
      "                'dec':20}\n",
      "min_samples_leaf = {'int':1,\n",
      "                'ple':1,\n",
      "                'dec':1}\n",
      "max_depth = {'int':None,\n",
      "                'ple':10,\n",
      "                'dec':10}\n",
      "et = {'int':True,\n",
      "      'ple':False,\n",
      "      'dec':False,}\n",
      "rfcs,score,rs = fit1.rfc_final(X_all,Y_all_imp['subject'],\n",
      "                            max_features,min_samples_leaf,max_depth,et,\n",
      "                            n_estimators=1)"
     ],
     "language": "python",
     "metadata": {},
     "outputs": [
      {
       "output_type": "stream",
       "stream": "stdout",
       "text": [
        "<class 'numpy.ndarray'>\n",
        "<class 'numpy.ndarray'>\n",
        "<class 'numpy.ndarray'>\n",
        "For subchallenge 1:"
       ]
      },
      {
       "output_type": "stream",
       "stream": "stdout",
       "text": [
        "\n",
        "\tScore = 18.58\n",
        "\tint = 0.886\n",
        "\tple = -0.004\n",
        "\tdec = 0.036\n"
       ]
      }
     ],
     "prompt_number": 604
    },
    {
     "cell_type": "code",
     "collapsed": false,
     "input": [
      "import imp\n",
      "imp.reload(fit1)"
     ],
     "language": "python",
     "metadata": {},
     "outputs": [
      {
       "metadata": {},
       "output_type": "pyout",
       "prompt_number": 595,
       "text": [
        "<module 'fit1' from '/Users/rgerkin/Dropbox/science/dream/fit1.py'>"
       ]
      }
     ],
     "prompt_number": 595
    },
    {
     "cell_type": "code",
     "collapsed": false,
     "input": [
      "# Show that random forest regrssion also works really well out of sample.  \n",
      "from sklearn.cross_validation import ShuffleSplit,cross_val_score\n",
      "def rfc_cv(X,Y,n_splits=5,max_features=1000,n_estimators=15,regularize=[0.7,0.35,0.7]):\n",
      "    test_size = 0.2\n",
      "    n_molecules = X.shape[0]\n",
      "    shuffle_split = ShuffleSplit(n_molecules,n_splits,test_size=test_size)\n",
      "    test_size *= n_molecules\n",
      "    rfcs = {}\n",
      "    n_subjects = 49\n",
      "    for subject in range(1,n_subjects+1):\n",
      "        rfc = RandomForestRegressor(max_features=max_features,\n",
      "                                    n_estimators=n_estimators,\n",
      "                                    max_depth=None,\n",
      "                                    oob_score=False,\n",
      "                                    n_jobs=-1,\n",
      "                                    random_state=0)\n",
      "        rfcs[subject] = rfc\n",
      "    rs = {'int':[],\n",
      "          'ple':[],\n",
      "          'dec':[]}\n",
      "    scores = []\n",
      "    for train_index,test_index in shuffle_split:\n",
      "        predicted_list = []\n",
      "        observed_list = []\n",
      "        for subject in range(1,n_subjects+1):\n",
      "            rfc = rfcs[subject]\n",
      "            X_train = X[train_index]\n",
      "            Y_train = Y[subject][train_index]\n",
      "            rfc.fit(X_train,Y_train)\n",
      "            X_test = X[test_index]\n",
      "            predicted = rfc.predict(X_test)\n",
      "            observed = Y[subject][test_index]\n",
      "            predicted_list.append(predicted)\n",
      "            observed_list.append(observed)\n",
      "        observed = np.ma.dstack(observed_list)\n",
      "        predicted = np.dstack(predicted_list)\n",
      "        predicted_mean = predicted.mean(axis=2,keepdims=True)\n",
      "        predicted_int = regularize[0]*(predicted_mean) + (1-regularize[0])*predicted\n",
      "        predicted_ple = regularize[1]*(predicted_mean) + (1-regularize[1])*predicted\n",
      "        predicted = regularize[2]*(predicted_mean) + (1-regularize[2])*predicted\n",
      "        predicted[:,0,:] = predicted_int[:,0,:]\n",
      "        predicted[:,1,:] = predicted_ple[:,1,:]\n",
      "        score = scoring.score(predicted,observed)\n",
      "        scores.append(score)\n",
      "        for kind in ['int','ple','dec']:\n",
      "            rs[kind].append(scoring.r(kind,predicted,observed))\n",
      "    for kind in ['int','ple','dec']:\n",
      "        rs[kind] = {'mean':np.mean(rs[kind]),'sem':np.std(rs[kind])/np.sqrt(n_splits)}\n",
      "    scores = {'mean':np.mean(scores),'sem':np.std(scores)/np.sqrt(n_splits)}\n",
      "    print(\"For subchallenge 1, using cross-validation with at most %d features:\" % max_features)\n",
      "    print(\"\\tscore = %.2f+/- %.2f\" % (scores['mean'],scores['sem']))\n",
      "    for kind in ['int','ple','dec']:\n",
      "        print(\"\\t%s = %.2f+/- %.2f\" % (kind,rs[kind]['mean'],rs[kind]['sem']))\n",
      "            \n",
      "    return scores,rs"
     ],
     "language": "python",
     "metadata": {},
     "outputs": [],
     "prompt_number": 581
    },
    {
     "cell_type": "code",
     "collapsed": false,
     "input": [
      "ns = np.logspace(1,3.48,12).astype('int')\n",
      "rs = {10: ({'mean': 14.626823924339622, 'sem': 0.67293213710441813},\n",
      "  {'dec': {'mean': 0.1115032164997066, 'sem': 0.0049366842404788515},\n",
      "   'int': {'mean': 0.063175885345557098, 'sem': 0.011757087396024829},\n",
      "   'ple': {'mean': 0.24558507250578115, 'sem': 0.010251468787021155}}),\n",
      " 16: ({'mean': 16.592630198674783, 'sem': 0.57970873096949382},\n",
      "  {'dec': {'mean': 0.12771997189368894, 'sem': 0.005640659238315947},\n",
      "   'int': {'mean': 0.068220206630371344, 'sem': 0.0097569244354709563},\n",
      "   'ple': {'mean': 0.27667611992206365, 'sem': 0.0088230434191277924}}),\n",
      " 28: ({'mean': 17.001787805562639, 'sem': 0.52905721649550286},\n",
      "  {'dec': {'mean': 0.1274005373522745, 'sem': 0.0056496569190668585},\n",
      "   'int': {'mean': 0.097336893904010763, 'sem': 0.010542390181966255},\n",
      "   'ple': {'mean': 0.27221428344252996, 'sem': 0.0057676157734840184}}),\n",
      " 47: ({'mean': 14.981979294390715, 'sem': 0.51799581666082983},\n",
      "  {'dec': {'mean': 0.11219535109392517, 'sem': 0.0052548441399689312},\n",
      "   'int': {'mean': 0.075689638817071039, 'sem': 0.006293064770536495},\n",
      "   'ple': {'mean': 0.24965925218067012, 'sem': 0.0078836451477239354}}),\n",
      " 79: ({'mean': 15.81419214971354, 'sem': 1.3142988376383489},\n",
      "  {'dec': {'mean': 0.11709726161501317, 'sem': 0.009452935255343145},\n",
      "   'int': {'mean': 0.10696881918664522, 'sem': 0.024092414574482853},\n",
      "   'ple': {'mean': 0.24361952303212289, 'sem': 0.013546580983435055}}),\n",
      " 134: ({'mean': 15.865602192053283, 'sem': 0.68405017387517886},\n",
      "  {'dec': {'mean': 0.11562109914684, 'sem': 0.0053868071673007136},\n",
      "   'int': {'mean': 0.097934326116037654, 'sem': 0.021095231703079462},\n",
      "   'ple': {'mean': 0.26102284924556374, 'sem': 0.0067083817314546228}}),\n",
      " 225: ({'mean': 17.318745662215576, 'sem': 0.59125172502595269},\n",
      "  {'dec': {'mean': 0.11917748796457502, 'sem': 0.0038042932435202806},\n",
      "   'int': {'mean': 0.16193085269478602, 'sem': 0.018867845750103893},\n",
      "   'ple': {'mean': 0.26261383679004585, 'sem': 0.0059204822078491549}}),\n",
      " 378: ({'mean': 15.934339306208141, 'sem': 0.45211081563147515},\n",
      "  {'dec': {'mean': 0.1083938313372175, 'sem': 0.0052862145544272723},\n",
      "   'int': {'mean': 0.16475683550258524, 'sem': 0.009235021958794153},\n",
      "   'ple': {'mean': 0.23204608901107826, 'sem': 0.0059273034875685525}}),\n",
      " 636: ({'mean': 15.771761053703225, 'sem': 0.74466463785302328},\n",
      "  {'dec': {'mean': 0.10312794275339685, 'sem': 0.0049585966863074571},\n",
      "   'int': {'mean': 0.202790369126047, 'sem': 0.016817041589260329},\n",
      "   'ple': {'mean': 0.20973227107129092, 'sem': 0.0082837468624166466}}),\n",
      " 1069: ({'mean': 17.554725518233688, 'sem': 0.40722588984168068},\n",
      "  {'dec': {'mean': 0.11081691637979074, 'sem': 0.002969119102252506},\n",
      "   'int': {'mean': 0.24713787336311413, 'sem': 0.0034750441857333502},\n",
      "   'ple': {'mean': 0.22991350637065663, 'sem': 0.0088152286906102353}}),\n",
      " 1796: ({'mean': 15.842837013180731, 'sem': 1.1021490359940003},\n",
      "  {'dec': {'mean': 0.095404715725000269, 'sem': 0.0086366687854054283},\n",
      "   'int': {'mean': 0.24647214944115894, 'sem': 0.009001181733327009},\n",
      "   'ple': {'mean': 0.20473681688185336, 'sem': 0.024290004669442054}}),\n",
      " 3019: ({'mean': 14.559636621415361, 'sem': 0.87558204964710695},\n",
      "  {'dec': {'mean': 0.082906650297182763, 'sem': 0.0063709138354757526},\n",
      "   'int': {'mean': 0.27934768414882283, 'sem': 0.013820164346925809},\n",
      "   'ple': {'mean': 0.15841500207406473, 'sem': 0.013952809590184693}})}\n",
      "\n",
      "for kind in ['int','ple','dec']:\n",
      "    means = [rs[n][1][kind]['mean'] for n in ns]\n",
      "    sems = [rs[n][1][kind]['sem'] for n in ns]\n",
      "    plt.errorbar(ns,means,sems,label=kind)\n",
      "    plt.xscale('log')\n",
      "    plt.xlim(10,100000)\n",
      "    plt.xlabel('max_features')\n",
      "    plt.legend()"
     ],
     "language": "python",
     "metadata": {},
     "outputs": [
      {
       "metadata": {},
       "output_type": "display_data",
       "png": "[encoded data removed]",
       "text": [
        "<matplotlib.figure.Figure at 0x637d45ac8>"
       ]
      }
     ],
     "prompt_number": 583
    },
    {
     "cell_type": "heading",
     "level": 2,
     "metadata": {},
     "source": [
      "Leaderboard Output"
     ]
    },
    {
     "cell_type": "code",
     "collapsed": false,
     "input": [
      "Y_leaderboard_predicted = loading.make_prediction_files(rfcs,X_leaderboard_int,X_leaderboard_other,'leaderboard',1,regularize=[0.7,0.35,0.7])\n",
      "pred = np.dstack([Y_leaderboard_predicted['subject'][i] for i in range(1,num_subjects+1)])\n",
      "obs = np.ma.dstack([Y_leaderboard['subject'][i] for i in range(1,num_subjects+1)])\n",
      "print(\"This should get: %s\" % scoring.score_summary(pred,obs,mask=True))"
     ],
     "language": "python",
     "metadata": {},
     "outputs": [
      {
       "output_type": "stream",
       "stream": "stdout",
       "text": [
        "This should get: Score: 27.983157; rs = 0.439,0.297,0.183\n"
       ]
      }
     ],
     "prompt_number": 500
    },
    {
     "cell_type": "heading",
     "level": 2,
     "metadata": {},
     "source": [
      "Pooled Data Analysis"
     ]
    },
    {
     "cell_type": "code",
     "collapsed": false,
     "input": [
      "rfcs_final = {}\n",
      "rfcs_final[1],score_train,score_test = rfc_(X_all,Y_all['subject'],X_all,X_all,Y_all['subject'],\n",
      "                                            max_features=None,n_estimators=1000)"
     ],
     "language": "python",
     "metadata": {},
     "outputs": [
      {
       "output_type": "stream",
       "stream": "stdout",
       "text": [
        "None\n",
        "1\n"
       ]
      },
      {
       "ename": "KeyboardInterrupt",
       "evalue": "",
       "output_type": "pyerr",
       "traceback": [
        "\u001b[0;31m---------------------------------------------------------------------------\u001b[0m\n\u001b[0;31mKeyboardInterrupt\u001b[0m                         Traceback (most recent call last)",
        "\u001b[0;32m<ipython-input-543-81d11cdbcd45>\u001b[0m in \u001b[0;36m<module>\u001b[0;34m()\u001b[0m\n\u001b[1;32m      1\u001b[0m \u001b[0mrfcs_final\u001b[0m \u001b[0;34m=\u001b[0m \u001b[0;34m{\u001b[0m\u001b[0;34m}\u001b[0m\u001b[0;34m\u001b[0m\u001b[0m\n\u001b[1;32m      2\u001b[0m rfcs_final[1],score_train,score_test = rfc_(X_all,Y_all['subject'],X_all,X_all,Y_all['subject'],\n\u001b[0;32m----> 3\u001b[0;31m                                             max_features=None,n_estimators=1000)\n\u001b[0m",
        "\u001b[0;32m<ipython-input-542-b0706bc66f72>\u001b[0m in \u001b[0;36mrfc_\u001b[0;34m(X_train, Y_train, X_test_int, X_test_other, Y_test, max_features, n_estimators, max_depth, min_samples_leaf)\u001b[0m\n\u001b[1;32m     21\u001b[0m         \u001b[0mobserved\u001b[0m \u001b[0;34m=\u001b[0m \u001b[0mY_train\u001b[0m\u001b[0;34m[\u001b[0m\u001b[0msubject\u001b[0m\u001b[0;34m]\u001b[0m\u001b[0;34m\u001b[0m\u001b[0m\n\u001b[1;32m     22\u001b[0m         \u001b[0mrfc\u001b[0m \u001b[0;34m=\u001b[0m \u001b[0mrfcs\u001b[0m\u001b[0;34m[\u001b[0m\u001b[0msubject\u001b[0m\u001b[0;34m]\u001b[0m\u001b[0;34m\u001b[0m\u001b[0m\n\u001b[0;32m---> 23\u001b[0;31m         \u001b[0mrfc\u001b[0m\u001b[0;34m.\u001b[0m\u001b[0mfit\u001b[0m\u001b[0;34m(\u001b[0m\u001b[0mX_train\u001b[0m\u001b[0;34m,\u001b[0m\u001b[0mobserved\u001b[0m\u001b[0;34m)\u001b[0m\u001b[0;34m\u001b[0m\u001b[0m\n\u001b[0m\u001b[1;32m     24\u001b[0m         \u001b[0;31m#predicted = rfc.predict(X_train)\u001b[0m\u001b[0;34m\u001b[0m\u001b[0;34m\u001b[0m\u001b[0m\n\u001b[1;32m     25\u001b[0m         \u001b[0mpredicted\u001b[0m \u001b[0;34m=\u001b[0m \u001b[0mrfc\u001b[0m\u001b[0;34m.\u001b[0m\u001b[0moob_prediction_\u001b[0m\u001b[0;34m\u001b[0m\u001b[0m\n",
        "\u001b[0;32m/Users/rgerkin/Dropbox/python3/lib/python3.4/site-packages/sklearn/ensemble/forest.py\u001b[0m in \u001b[0;36mfit\u001b[0;34m(self, X, y, sample_weight)\u001b[0m\n\u001b[1;32m    271\u001b[0m                     \u001b[0mt\u001b[0m\u001b[0;34m,\u001b[0m \u001b[0mself\u001b[0m\u001b[0;34m,\u001b[0m \u001b[0mX\u001b[0m\u001b[0;34m,\u001b[0m \u001b[0my\u001b[0m\u001b[0;34m,\u001b[0m \u001b[0msample_weight\u001b[0m\u001b[0;34m,\u001b[0m \u001b[0mi\u001b[0m\u001b[0;34m,\u001b[0m \u001b[0mlen\u001b[0m\u001b[0;34m(\u001b[0m\u001b[0mtrees\u001b[0m\u001b[0;34m)\u001b[0m\u001b[0;34m,\u001b[0m\u001b[0;34m\u001b[0m\u001b[0m\n\u001b[1;32m    272\u001b[0m                     verbose=self.verbose, class_weight=self.class_weight)\n\u001b[0;32m--> 273\u001b[0;31m                 for i, t in enumerate(trees))\n\u001b[0m\u001b[1;32m    274\u001b[0m \u001b[0;34m\u001b[0m\u001b[0m\n\u001b[1;32m    275\u001b[0m             \u001b[0;31m# Collect newly grown trees\u001b[0m\u001b[0;34m\u001b[0m\u001b[0;34m\u001b[0m\u001b[0m\n",
        "\u001b[0;32m/Users/rgerkin/Dropbox/python3/lib/python3.4/site-packages/sklearn/externals/joblib/parallel.py\u001b[0m in \u001b[0;36m__call__\u001b[0;34m(self, iterable)\u001b[0m\n\u001b[1;32m    664\u001b[0m                 \u001b[0;31m# consumption.\u001b[0m\u001b[0;34m\u001b[0m\u001b[0;34m\u001b[0m\u001b[0m\n\u001b[1;32m    665\u001b[0m                 \u001b[0mself\u001b[0m\u001b[0;34m.\u001b[0m\u001b[0m_iterating\u001b[0m \u001b[0;34m=\u001b[0m \u001b[0;32mFalse\u001b[0m\u001b[0;34m\u001b[0m\u001b[0m\n\u001b[0;32m--> 666\u001b[0;31m             \u001b[0mself\u001b[0m\u001b[0;34m.\u001b[0m\u001b[0mretrieve\u001b[0m\u001b[0;34m(\u001b[0m\u001b[0;34m)\u001b[0m\u001b[0;34m\u001b[0m\u001b[0m\n\u001b[0m\u001b[1;32m    667\u001b[0m             \u001b[0;31m# Make sure that we get a last message telling us we are done\u001b[0m\u001b[0;34m\u001b[0m\u001b[0;34m\u001b[0m\u001b[0m\n\u001b[1;32m    668\u001b[0m             \u001b[0melapsed_time\u001b[0m \u001b[0;34m=\u001b[0m \u001b[0mtime\u001b[0m\u001b[0;34m.\u001b[0m\u001b[0mtime\u001b[0m\u001b[0;34m(\u001b[0m\u001b[0;34m)\u001b[0m \u001b[0;34m-\u001b[0m \u001b[0mself\u001b[0m\u001b[0;34m.\u001b[0m\u001b[0m_start_time\u001b[0m\u001b[0;34m\u001b[0m\u001b[0m\n",
        "\u001b[0;32m/Users/rgerkin/Dropbox/python3/lib/python3.4/site-packages/sklearn/externals/joblib/parallel.py\u001b[0m in \u001b[0;36mretrieve\u001b[0;34m(self)\u001b[0m\n\u001b[1;32m    516\u001b[0m                 \u001b[0mself\u001b[0m\u001b[0;34m.\u001b[0m\u001b[0m_lock\u001b[0m\u001b[0;34m.\u001b[0m\u001b[0mrelease\u001b[0m\u001b[0;34m(\u001b[0m\u001b[0;34m)\u001b[0m\u001b[0;34m\u001b[0m\u001b[0m\n\u001b[1;32m    517\u001b[0m             \u001b[0;32mtry\u001b[0m\u001b[0;34m:\u001b[0m\u001b[0;34m\u001b[0m\u001b[0m\n\u001b[0;32m--> 518\u001b[0;31m                 \u001b[0mself\u001b[0m\u001b[0;34m.\u001b[0m\u001b[0m_output\u001b[0m\u001b[0;34m.\u001b[0m\u001b[0mappend\u001b[0m\u001b[0;34m(\u001b[0m\u001b[0mjob\u001b[0m\u001b[0;34m.\u001b[0m\u001b[0mget\u001b[0m\u001b[0;34m(\u001b[0m\u001b[0;34m)\u001b[0m\u001b[0;34m)\u001b[0m\u001b[0;34m\u001b[0m\u001b[0m\n\u001b[0m\u001b[1;32m    519\u001b[0m             \u001b[0;32mexcept\u001b[0m \u001b[0mtuple\u001b[0m\u001b[0;34m(\u001b[0m\u001b[0mself\u001b[0m\u001b[0;34m.\u001b[0m\u001b[0mexceptions\u001b[0m\u001b[0;34m)\u001b[0m \u001b[0;32mas\u001b[0m \u001b[0mexception\u001b[0m\u001b[0;34m:\u001b[0m\u001b[0;34m\u001b[0m\u001b[0m\n\u001b[1;32m    520\u001b[0m                 \u001b[0;32mtry\u001b[0m\u001b[0;34m:\u001b[0m\u001b[0;34m\u001b[0m\u001b[0m\n",
        "\u001b[0;32m/Library/Frameworks/Python.framework/Versions/3.4/lib/python3.4/multiprocessing/pool.py\u001b[0m in \u001b[0;36mget\u001b[0;34m(self, timeout)\u001b[0m\n\u001b[1;32m    591\u001b[0m \u001b[0;34m\u001b[0m\u001b[0m\n\u001b[1;32m    592\u001b[0m     \u001b[0;32mdef\u001b[0m \u001b[0mget\u001b[0m\u001b[0;34m(\u001b[0m\u001b[0mself\u001b[0m\u001b[0;34m,\u001b[0m \u001b[0mtimeout\u001b[0m\u001b[0;34m=\u001b[0m\u001b[0;32mNone\u001b[0m\u001b[0;34m)\u001b[0m\u001b[0;34m:\u001b[0m\u001b[0;34m\u001b[0m\u001b[0m\n\u001b[0;32m--> 593\u001b[0;31m         \u001b[0mself\u001b[0m\u001b[0;34m.\u001b[0m\u001b[0mwait\u001b[0m\u001b[0;34m(\u001b[0m\u001b[0mtimeout\u001b[0m\u001b[0;34m)\u001b[0m\u001b[0;34m\u001b[0m\u001b[0m\n\u001b[0m\u001b[1;32m    594\u001b[0m         \u001b[0;32mif\u001b[0m \u001b[0;32mnot\u001b[0m \u001b[0mself\u001b[0m\u001b[0;34m.\u001b[0m\u001b[0mready\u001b[0m\u001b[0;34m(\u001b[0m\u001b[0;34m)\u001b[0m\u001b[0;34m:\u001b[0m\u001b[0;34m\u001b[0m\u001b[0m\n\u001b[1;32m    595\u001b[0m             \u001b[0;32mraise\u001b[0m \u001b[0mTimeoutError\u001b[0m\u001b[0;34m\u001b[0m\u001b[0m\n",
        "\u001b[0;32m/Library/Frameworks/Python.framework/Versions/3.4/lib/python3.4/multiprocessing/pool.py\u001b[0m in \u001b[0;36mwait\u001b[0;34m(self, timeout)\u001b[0m\n\u001b[1;32m    588\u001b[0m \u001b[0;34m\u001b[0m\u001b[0m\n\u001b[1;32m    589\u001b[0m     \u001b[0;32mdef\u001b[0m \u001b[0mwait\u001b[0m\u001b[0;34m(\u001b[0m\u001b[0mself\u001b[0m\u001b[0;34m,\u001b[0m \u001b[0mtimeout\u001b[0m\u001b[0;34m=\u001b[0m\u001b[0;32mNone\u001b[0m\u001b[0;34m)\u001b[0m\u001b[0;34m:\u001b[0m\u001b[0;34m\u001b[0m\u001b[0m\n\u001b[0;32m--> 590\u001b[0;31m         \u001b[0mself\u001b[0m\u001b[0;34m.\u001b[0m\u001b[0m_event\u001b[0m\u001b[0;34m.\u001b[0m\u001b[0mwait\u001b[0m\u001b[0;34m(\u001b[0m\u001b[0mtimeout\u001b[0m\u001b[0;34m)\u001b[0m\u001b[0;34m\u001b[0m\u001b[0m\n\u001b[0m\u001b[1;32m    591\u001b[0m \u001b[0;34m\u001b[0m\u001b[0m\n\u001b[1;32m    592\u001b[0m     \u001b[0;32mdef\u001b[0m \u001b[0mget\u001b[0m\u001b[0;34m(\u001b[0m\u001b[0mself\u001b[0m\u001b[0;34m,\u001b[0m \u001b[0mtimeout\u001b[0m\u001b[0;34m=\u001b[0m\u001b[0;32mNone\u001b[0m\u001b[0;34m)\u001b[0m\u001b[0;34m:\u001b[0m\u001b[0;34m\u001b[0m\u001b[0m\n",
        "\u001b[0;32m/Library/Frameworks/Python.framework/Versions/3.4/lib/python3.4/threading.py\u001b[0m in \u001b[0;36mwait\u001b[0;34m(self, timeout)\u001b[0m\n\u001b[1;32m    550\u001b[0m             \u001b[0msignaled\u001b[0m \u001b[0;34m=\u001b[0m \u001b[0mself\u001b[0m\u001b[0;34m.\u001b[0m\u001b[0m_flag\u001b[0m\u001b[0;34m\u001b[0m\u001b[0m\n\u001b[1;32m    551\u001b[0m             \u001b[0;32mif\u001b[0m \u001b[0;32mnot\u001b[0m \u001b[0msignaled\u001b[0m\u001b[0;34m:\u001b[0m\u001b[0;34m\u001b[0m\u001b[0m\n\u001b[0;32m--> 552\u001b[0;31m                 \u001b[0msignaled\u001b[0m \u001b[0;34m=\u001b[0m \u001b[0mself\u001b[0m\u001b[0;34m.\u001b[0m\u001b[0m_cond\u001b[0m\u001b[0;34m.\u001b[0m\u001b[0mwait\u001b[0m\u001b[0;34m(\u001b[0m\u001b[0mtimeout\u001b[0m\u001b[0;34m)\u001b[0m\u001b[0;34m\u001b[0m\u001b[0m\n\u001b[0m\u001b[1;32m    553\u001b[0m             \u001b[0;32mreturn\u001b[0m \u001b[0msignaled\u001b[0m\u001b[0;34m\u001b[0m\u001b[0m\n\u001b[1;32m    554\u001b[0m         \u001b[0;32mfinally\u001b[0m\u001b[0;34m:\u001b[0m\u001b[0;34m\u001b[0m\u001b[0m\n",
        "\u001b[0;32m/Library/Frameworks/Python.framework/Versions/3.4/lib/python3.4/threading.py\u001b[0m in \u001b[0;36mwait\u001b[0;34m(self, timeout)\u001b[0m\n\u001b[1;32m    287\u001b[0m         \u001b[0;32mtry\u001b[0m\u001b[0;34m:\u001b[0m    \u001b[0;31m# restore state no matter what (e.g., KeyboardInterrupt)\u001b[0m\u001b[0;34m\u001b[0m\u001b[0m\n\u001b[1;32m    288\u001b[0m             \u001b[0;32mif\u001b[0m \u001b[0mtimeout\u001b[0m \u001b[0;32mis\u001b[0m \u001b[0;32mNone\u001b[0m\u001b[0;34m:\u001b[0m\u001b[0;34m\u001b[0m\u001b[0m\n\u001b[0;32m--> 289\u001b[0;31m                 \u001b[0mwaiter\u001b[0m\u001b[0;34m.\u001b[0m\u001b[0macquire\u001b[0m\u001b[0;34m(\u001b[0m\u001b[0;34m)\u001b[0m\u001b[0;34m\u001b[0m\u001b[0m\n\u001b[0m\u001b[1;32m    290\u001b[0m                 \u001b[0mgotit\u001b[0m \u001b[0;34m=\u001b[0m \u001b[0;32mTrue\u001b[0m\u001b[0;34m\u001b[0m\u001b[0m\n\u001b[1;32m    291\u001b[0m             \u001b[0;32melse\u001b[0m\u001b[0;34m:\u001b[0m\u001b[0;34m\u001b[0m\u001b[0m\n",
        "\u001b[0;31mKeyboardInterrupt\u001b[0m: "
       ]
      }
     ],
     "prompt_number": 543
    },
    {
     "cell_type": "code",
     "collapsed": false,
     "input": [
      "'4:19'"
     ],
     "language": "python",
     "metadata": {},
     "outputs": []
    },
    {
     "cell_type": "heading",
     "level": 2,
     "metadata": {},
     "source": [
      "Final Output"
     ]
    },
    {
     "cell_type": "code",
     "collapsed": false,
     "input": [
      "regularize = [0.7,0.35,0.7]\n",
      "Y_testset_predicted = loading.make_prediction_files(rfcs_final,X_testset_int,X_testset_other,'testset',1,regularize=regularize)"
     ],
     "language": "python",
     "metadata": {},
     "outputs": []
    },
    {
     "cell_type": "code",
     "collapsed": false,
     "input": [
      "'''\n",
      "Y_leaderboard = {}\n",
      "method = 'mask'\n",
      "rf = eval('rf_%s' % method)\n",
      "rf_int = eval('rf_%s_int' % method)\n",
      "rf_ple = eval('rf_%s_ple' % method)\n",
      "rf_dec = eval('rf_%s_dec' % method)\n",
      "Y_leaderboard['mean_std'] = rf.predict(X_leaderboard)\n",
      "Y_leaderboard['mean_std'][:,0] = rf_int.predict(X_leaderboard_intensity)\n",
      "Y_leaderboard['mean_std'][:,1] = rf_ple.predict(X_leaderboard)\n",
      "Y_leaderboard['mean_std'][:,2:21] = rf_dec.predict(X_leaderboard)\n",
      "Y_leaderboard['mean_std'][:,21] = f(rf_int.predict(X_leaderboard_intensity))\n",
      "Y_leaderboard['mean_std'][:,22] = rf.predict(X_leaderboard)[:,22]\n",
      "Y_leaderboard['mean_std'][:,23:42] = f(rf_dec.predict(X_leaderboard))\n",
      "write_prediction_files(name=method)\n",
      "'''"
     ],
     "language": "python",
     "metadata": {},
     "outputs": [],
     "prompt_number": 77
    },
    {
     "cell_type": "code",
     "collapsed": false,
     "input": [
      "49*0.183/0.198"
     ],
     "language": "python",
     "metadata": {},
     "outputs": [
      {
       "metadata": {},
       "output_type": "pyout",
       "prompt_number": 498,
       "text": [
        "45.28787878787879"
       ]
      }
     ],
     "prompt_number": 498
    },
    {
     "cell_type": "heading",
     "level": 2,
     "metadata": {},
     "source": [
      "Extras"
     ]
    },
    {
     "cell_type": "heading",
     "level": 3,
     "metadata": {},
     "source": [
      "Predicting the standard deviation from the mean"
     ]
    },
    {
     "cell_type": "code",
     "collapsed": false,
     "input": [
      "Y_training_mask,_ = dream.make_Y_obs(['training'],imputer='mask')\n",
      "Y_training_median,_ = dream.make_Y_obs(['training'],imputer='median')\n",
      "Y_training_zero,_ = dream.make_Y_obs(['training'],imputer='zero')"
     ],
     "language": "python",
     "metadata": {},
     "outputs": [
      {
       "output_type": "stream",
       "stream": "stdout",
       "text": [
        "Getting basic perceptual data...\n",
        "Flattening into vectors..."
       ]
      },
      {
       "output_type": "stream",
       "stream": "stdout",
       "text": [
        "\n",
        "Assembling into matrices..."
       ]
      },
      {
       "output_type": "stream",
       "stream": "stdout",
       "text": [
        "\n",
        "Y_obs['subject'] contains 49 matrices each with shape (676x21) (molecules by perceptual descriptors)"
       ]
      },
      {
       "output_type": "stream",
       "stream": "stdout",
       "text": [
        "\n",
        "The Y_obs['mean_std'] matrix has shape (676x42) (molecules by 2 x perceptual descriptors)\n",
        "Combining Y matrices...\n",
        "The Y['mean_std'] matrix now has shape (676x42) molecules by 2 x perceptual descriptors\n",
        "The Y['subject'] dict now has 49 matrices of shape (676x21) molecules by perceptual descriptors, one for each subject\n",
        "Getting basic perceptual data..."
       ]
      },
      {
       "output_type": "stream",
       "stream": "stdout",
       "text": [
        "\n",
        "Flattening into vectors..."
       ]
      },
      {
       "output_type": "stream",
       "stream": "stdout",
       "text": [
        "\n",
        "Assembling into matrices..."
       ]
      },
      {
       "output_type": "stream",
       "stream": "stdout",
       "text": [
        "\n",
        "Y_obs['subject'] contains 49 matrices each with shape (676x21) (molecules by perceptual descriptors)"
       ]
      },
      {
       "output_type": "stream",
       "stream": "stdout",
       "text": [
        "\n",
        "The Y_obs['mean_std'] matrix has shape (676x42) (molecules by 2 x perceptual descriptors)\n",
        "Combining Y matrices...\n",
        "The Y['mean_std'] matrix now has shape (676x42) molecules by 2 x perceptual descriptors\n",
        "The Y['subject'] dict now has 49 matrices of shape (676x21) molecules by perceptual descriptors, one for each subject\n",
        "Getting basic perceptual data..."
       ]
      },
      {
       "output_type": "stream",
       "stream": "stdout",
       "text": [
        "\n",
        "Flattening into vectors..."
       ]
      },
      {
       "output_type": "stream",
       "stream": "stdout",
       "text": [
        "\n",
        "Assembling into matrices..."
       ]
      },
      {
       "output_type": "stream",
       "stream": "stdout",
       "text": [
        "\n",
        "Y_obs['subject'] contains 49 matrices each with shape (676x21) (molecules by perceptual descriptors)"
       ]
      },
      {
       "output_type": "stream",
       "stream": "stdout",
       "text": [
        "\n",
        "The Y_obs['mean_std'] matrix has shape (676x42) (molecules by 2 x perceptual descriptors)\n",
        "Combining Y matrices...\n",
        "The Y['mean_std'] matrix now has shape (676x42) molecules by 2 x perceptual descriptors\n",
        "The Y['subject'] dict now has 49 matrices of shape (676x21) molecules by perceptual descriptors, one for each subject\n"
       ]
      }
     ],
     "prompt_number": 221
    },
    {
     "cell_type": "code",
     "collapsed": false,
     "input": [
      "y = Y_training_mask\n",
      "y_mean = y['mean_std'][:,:21]/100.0\n",
      "y_std = y['mean_std'][:,21:]/100.0"
     ],
     "language": "python",
     "metadata": {},
     "outputs": [],
     "prompt_number": 41
    },
    {
     "cell_type": "code",
     "collapsed": false,
     "input": [
      "from scipy.optimize import curve_fit\n",
      "x = y_mean[:,0]\n",
      "y = y_std[:,0]\n",
      "def f(x,k0,k1):\n",
      "    return k0*x**(k1*0.5) - k0*x**(k1*2)\n",
      "k0,k1=curve_fit(f,x,y,p0=[0.7,1],maxfev=10000)[0]\n",
      "print(\"k0=%.3g; k1=%.3g\" % (k0,k1))\n",
      "plt.scatter(x,y,label='Data')\n",
      "x_ = np.linspace(0,1.0,100)\n",
      "plt.plot(x_,f(x_,k0,k1),color='r',linewidth=3,label='Fit')\n",
      "plt.xlabel('Intensity Mean')\n",
      "plt.ylabel('Intensity StDev')\n",
      "plt.legend()\n",
      "plt.figure()\n",
      "plt.scatter(x,y-f(x,k0,k1))\n",
      "def f_int(x):\n",
      "    return 100*(k0*(x/100)**(k1*0.5) - k0*(x/100)**(k1*2))\n",
      "\n",
      "#print('r using fit itself = %.3g' % scoring.r2(None,None,rfcs[2][0][3].oob_prediction_[:,21],Y_training['mean_std'][:,21]))\n",
      "#print('r using f_int = %.3g' % scoring.r2(None,None,f_int(rfcs[2][0][0].oob_prediction_[:,0]),Y_training['mean_std'][:,21]))\n",
      "#print('r using f_int = %.3g' % scoring.r2(None,None,rfcs[2][0][0].oob_prediction_[:,0],Y_training['mean_std'][:,0]))"
     ],
     "language": "python",
     "metadata": {},
     "outputs": [
      {
       "output_type": "stream",
       "stream": "stdout",
       "text": [
        "k0=0.718; k1=1.08\n"
       ]
      },
      {
       "metadata": {},
       "output_type": "display_data",
       "png": "[encoded data removed]",
       "text": [
        "<matplotlib.figure.Figure at 0x10fdf69e8>"
       ]
      },
      {
       "metadata": {},
       "output_type": "display_data",
       "png": "[encoded data removed]",
       "text": [
        "<matplotlib.figure.Figure at 0x116f90ba8>"
       ]
      }
     ],
     "prompt_number": 43
    },
    {
     "cell_type": "code",
     "collapsed": false,
     "input": [
      "# Use random forest regression to fit the entire training data set, one descriptor set at a time.  \n",
      "\n",
      "mf = 1500\n",
      "ne = 1000\n",
      "def rf_maker(mf,ne):\n",
      "    return RandomForestRegressor(max_features=mf,n_estimators=ne,\n",
      "                                     n_jobs=-1,\n",
      "                                     oob_score=True)\n",
      "rf1,rf2,rf3,rf4 = [rf_maker(mf,ne) for _ in range(4)]\n",
      "\n",
      "x = X_training\n",
      "y = Y_training_median['mean_std']#[:,0]\n",
      "rf1.fit(x[:,:],y)\n",
      "rf2.fit(x[:,:-1],y)\n",
      "print(scoring.r2(None,None,rf1.oob_prediction_[:,0],y[:,0]))\n",
      "print(scoring.r2(None,None,rf2.oob_prediction_[:,0],y[:,0]))\n",
      "y = Y_training_mask['mean_std']#[:,0]\n",
      "rf3.fit(x[:,:],y)\n",
      "rf4.fit(x[:,:-1],y)\n",
      "print(scoring.r2(None,None,rf3.oob_prediction_[:,0],y[:,0]))\n",
      "print(scoring.r2(None,None,rf4.oob_prediction_[:,0],y[:,0]))"
     ],
     "language": "python",
     "metadata": {},
     "outputs": [
      {
       "output_type": "stream",
       "stream": "stdout",
       "text": [
        "0.645192303727\n",
        "0.639349556798\n",
        "0.636628625104"
       ]
      },
      {
       "output_type": "stream",
       "stream": "stdout",
       "text": [
        "\n",
        "0.627086282222\n"
       ]
      }
     ],
     "prompt_number": 164
    },
    {
     "cell_type": "code",
     "collapsed": false,
     "input": [
      "for rf in [rf1,rf3]:\n",
      "    print('r_mean using leak = %.3g' % scoring.r2(None,None,rf.predict(X_leaderboard_int[:,:])[:,0],Y_leaderboard['mean_std'][:,0]))\n",
      "    print('r_std using leak = %.3g' % scoring.r2(None,None,rf.predict(X_leaderboard_int[:,:])[:,21],Y_leaderboard['mean_std'][:,21]))\n",
      "    print('r_std using f_int and leak= %.3g' % scoring.r2(None,None,f_int(rf.predict(X_leaderboard_int[:,:])[:,0]),Y_leaderboard['mean_std'][:,21]))\n",
      "for rf in [rf2,rf4]:\n",
      "    print('r_mean = %.3g' % scoring.r2(None,None,rf.predict(X_leaderboard_int[:,:-1])[:,0],Y_leaderboard['mean_std'][:,0]))\n",
      "    print('r_std = %.3g' % scoring.r2(None,None,rf.predict(X_leaderboard_int[:,:-1])[:,21],Y_leaderboard['mean_std'][:,21]))\n",
      "    print('r_std using f_int = %.3g' % scoring.r2(None,None,f_int(rf.predict(X_leaderboard_int[:,:-1])[:,0]),Y_leaderboard['mean_std'][:,21]))\n",
      "plt.scatter(rf1.predict(X_leaderboard_int[:,:])[:,0],Y_leaderboard['mean_std'][:,0])"
     ],
     "language": "python",
     "metadata": {},
     "outputs": [
      {
       "ename": "ValueError",
       "evalue": "operands could not be broadcast together with shapes (69,) (676,) ",
       "output_type": "pyerr",
       "traceback": [
        "\u001b[0;31m---------------------------------------------------------------------------\u001b[0m\n\u001b[0;31mValueError\u001b[0m                                Traceback (most recent call last)",
        "\u001b[0;32m<ipython-input-170-9823e300d2d6>\u001b[0m in \u001b[0;36m<module>\u001b[0;34m()\u001b[0m\n\u001b[1;32m      1\u001b[0m \u001b[0;32mfor\u001b[0m \u001b[0mrf\u001b[0m \u001b[0;32min\u001b[0m \u001b[0;34m[\u001b[0m\u001b[0mrf1\u001b[0m\u001b[0;34m,\u001b[0m\u001b[0mrf3\u001b[0m\u001b[0;34m]\u001b[0m\u001b[0;34m:\u001b[0m\u001b[0;34m\u001b[0m\u001b[0m\n\u001b[0;32m----> 2\u001b[0;31m     \u001b[0mprint\u001b[0m\u001b[0;34m(\u001b[0m\u001b[0;34m'r_mean using leak = %.3g'\u001b[0m \u001b[0;34m%\u001b[0m \u001b[0mscoring\u001b[0m\u001b[0;34m.\u001b[0m\u001b[0mr2\u001b[0m\u001b[0;34m(\u001b[0m\u001b[0;32mNone\u001b[0m\u001b[0;34m,\u001b[0m\u001b[0;32mNone\u001b[0m\u001b[0;34m,\u001b[0m\u001b[0mrf\u001b[0m\u001b[0;34m.\u001b[0m\u001b[0mpredict\u001b[0m\u001b[0;34m(\u001b[0m\u001b[0mX_leaderboard_int\u001b[0m\u001b[0;34m[\u001b[0m\u001b[0;34m:\u001b[0m\u001b[0;34m,\u001b[0m\u001b[0;34m:\u001b[0m\u001b[0;34m]\u001b[0m\u001b[0;34m)\u001b[0m\u001b[0;34m[\u001b[0m\u001b[0;34m:\u001b[0m\u001b[0;34m,\u001b[0m\u001b[0;36m0\u001b[0m\u001b[0;34m]\u001b[0m\u001b[0;34m,\u001b[0m\u001b[0mY_training\u001b[0m\u001b[0;34m[\u001b[0m\u001b[0;34m'mean_std'\u001b[0m\u001b[0;34m]\u001b[0m\u001b[0;34m[\u001b[0m\u001b[0;34m:\u001b[0m\u001b[0;34m,\u001b[0m\u001b[0;36m0\u001b[0m\u001b[0;34m]\u001b[0m\u001b[0;34m)\u001b[0m\u001b[0;34m)\u001b[0m\u001b[0;34m\u001b[0m\u001b[0m\n\u001b[0m\u001b[1;32m      3\u001b[0m     \u001b[0mprint\u001b[0m\u001b[0;34m(\u001b[0m\u001b[0;34m'r_std using leak = %.3g'\u001b[0m \u001b[0;34m%\u001b[0m \u001b[0mscoring\u001b[0m\u001b[0;34m.\u001b[0m\u001b[0mr2\u001b[0m\u001b[0;34m(\u001b[0m\u001b[0;32mNone\u001b[0m\u001b[0;34m,\u001b[0m\u001b[0;32mNone\u001b[0m\u001b[0;34m,\u001b[0m\u001b[0mrf\u001b[0m\u001b[0;34m.\u001b[0m\u001b[0mpredict\u001b[0m\u001b[0;34m(\u001b[0m\u001b[0mX_leaderboard_int\u001b[0m\u001b[0;34m[\u001b[0m\u001b[0;34m:\u001b[0m\u001b[0;34m,\u001b[0m\u001b[0;34m:\u001b[0m\u001b[0;34m]\u001b[0m\u001b[0;34m)\u001b[0m\u001b[0;34m[\u001b[0m\u001b[0;34m:\u001b[0m\u001b[0;34m,\u001b[0m\u001b[0;36m21\u001b[0m\u001b[0;34m]\u001b[0m\u001b[0;34m,\u001b[0m\u001b[0mY_training\u001b[0m\u001b[0;34m[\u001b[0m\u001b[0;34m'mean_std'\u001b[0m\u001b[0;34m]\u001b[0m\u001b[0;34m[\u001b[0m\u001b[0;34m:\u001b[0m\u001b[0;34m,\u001b[0m\u001b[0;36m21\u001b[0m\u001b[0;34m]\u001b[0m\u001b[0;34m)\u001b[0m\u001b[0;34m)\u001b[0m\u001b[0;34m\u001b[0m\u001b[0m\n\u001b[1;32m      4\u001b[0m     \u001b[0mprint\u001b[0m\u001b[0;34m(\u001b[0m\u001b[0;34m'r_std using f_int and leak= %.3g'\u001b[0m \u001b[0;34m%\u001b[0m \u001b[0mscoring\u001b[0m\u001b[0;34m.\u001b[0m\u001b[0mr2\u001b[0m\u001b[0;34m(\u001b[0m\u001b[0;32mNone\u001b[0m\u001b[0;34m,\u001b[0m\u001b[0;32mNone\u001b[0m\u001b[0;34m,\u001b[0m\u001b[0mf_int\u001b[0m\u001b[0;34m(\u001b[0m\u001b[0mrf\u001b[0m\u001b[0;34m.\u001b[0m\u001b[0mpredict\u001b[0m\u001b[0;34m(\u001b[0m\u001b[0mX_leaderboard_int\u001b[0m\u001b[0;34m[\u001b[0m\u001b[0;34m:\u001b[0m\u001b[0;34m,\u001b[0m\u001b[0;34m:\u001b[0m\u001b[0;34m]\u001b[0m\u001b[0;34m)\u001b[0m\u001b[0;34m[\u001b[0m\u001b[0;34m:\u001b[0m\u001b[0;34m,\u001b[0m\u001b[0;36m0\u001b[0m\u001b[0;34m]\u001b[0m\u001b[0;34m)\u001b[0m\u001b[0;34m,\u001b[0m\u001b[0mY_training\u001b[0m\u001b[0;34m[\u001b[0m\u001b[0;34m'mean_std'\u001b[0m\u001b[0;34m]\u001b[0m\u001b[0;34m[\u001b[0m\u001b[0;34m:\u001b[0m\u001b[0;34m,\u001b[0m\u001b[0;36m21\u001b[0m\u001b[0;34m]\u001b[0m\u001b[0;34m)\u001b[0m\u001b[0;34m)\u001b[0m\u001b[0;34m\u001b[0m\u001b[0m\n\u001b[1;32m      5\u001b[0m \u001b[0;32mfor\u001b[0m \u001b[0mrf\u001b[0m \u001b[0;32min\u001b[0m \u001b[0;34m[\u001b[0m\u001b[0mrf2\u001b[0m\u001b[0;34m,\u001b[0m\u001b[0mrf4\u001b[0m\u001b[0;34m]\u001b[0m\u001b[0;34m:\u001b[0m\u001b[0;34m\u001b[0m\u001b[0m\n",
        "\u001b[0;32m/Users/rgerkin/Dropbox/science/dream/scoring.py\u001b[0m in \u001b[0;36mr2\u001b[0;34m(kind, moment, predicted, observed)\u001b[0m\n\u001b[1;32m     77\u001b[0m         \u001b[0mp_\u001b[0m \u001b[0;34m=\u001b[0m \u001b[0mp\u001b[0m\u001b[0;34m[\u001b[0m\u001b[0;34m:\u001b[0m\u001b[0;34m,\u001b[0m\u001b[0mi\u001b[0m\u001b[0;34m]\u001b[0m\u001b[0;34m\u001b[0m\u001b[0m\n\u001b[1;32m     78\u001b[0m         \u001b[0mo_\u001b[0m \u001b[0;34m=\u001b[0m \u001b[0mo\u001b[0m\u001b[0;34m[\u001b[0m\u001b[0;34m:\u001b[0m\u001b[0;34m,\u001b[0m\u001b[0mi\u001b[0m\u001b[0;34m]\u001b[0m\u001b[0;34m\u001b[0m\u001b[0m\n\u001b[0;32m---> 79\u001b[0;31m         \u001b[0mr_\u001b[0m \u001b[0;34m=\u001b[0m \u001b[0mpearsonr\u001b[0m\u001b[0;34m(\u001b[0m\u001b[0mp_\u001b[0m\u001b[0;34m,\u001b[0m\u001b[0mo_\u001b[0m\u001b[0;34m)\u001b[0m\u001b[0;34m[\u001b[0m\u001b[0;36m0\u001b[0m\u001b[0;34m]\u001b[0m\u001b[0;34m\u001b[0m\u001b[0m\n\u001b[0m\u001b[1;32m     80\u001b[0m         \u001b[0;32mif\u001b[0m \u001b[0mnp\u001b[0m\u001b[0;34m.\u001b[0m\u001b[0misnan\u001b[0m\u001b[0;34m(\u001b[0m\u001b[0mr_\u001b[0m\u001b[0;34m)\u001b[0m\u001b[0;34m:\u001b[0m\u001b[0;34m\u001b[0m\u001b[0m\n\u001b[1;32m     81\u001b[0m             \u001b[0mprint\u001b[0m\u001b[0;34m(\u001b[0m\u001b[0;34m'NaN'\u001b[0m\u001b[0;34m)\u001b[0m\u001b[0;34m\u001b[0m\u001b[0m\n",
        "\u001b[0;32m/Users/rgerkin/Dropbox/python3/lib/python3.4/site-packages/scipy/stats/stats.py\u001b[0m in \u001b[0;36mpearsonr\u001b[0;34m(x, y)\u001b[0m\n\u001b[1;32m   2432\u001b[0m     \u001b[0mmy\u001b[0m \u001b[0;34m=\u001b[0m \u001b[0my\u001b[0m\u001b[0;34m.\u001b[0m\u001b[0mmean\u001b[0m\u001b[0;34m(\u001b[0m\u001b[0;34m)\u001b[0m\u001b[0;34m\u001b[0m\u001b[0m\n\u001b[1;32m   2433\u001b[0m     \u001b[0mxm\u001b[0m\u001b[0;34m,\u001b[0m \u001b[0mym\u001b[0m \u001b[0;34m=\u001b[0m \u001b[0mx\u001b[0m\u001b[0;34m-\u001b[0m\u001b[0mmx\u001b[0m\u001b[0;34m,\u001b[0m \u001b[0my\u001b[0m\u001b[0;34m-\u001b[0m\u001b[0mmy\u001b[0m\u001b[0;34m\u001b[0m\u001b[0m\n\u001b[0;32m-> 2434\u001b[0;31m     \u001b[0mr_num\u001b[0m \u001b[0;34m=\u001b[0m \u001b[0mnp\u001b[0m\u001b[0;34m.\u001b[0m\u001b[0madd\u001b[0m\u001b[0;34m.\u001b[0m\u001b[0mreduce\u001b[0m\u001b[0;34m(\u001b[0m\u001b[0mxm\u001b[0m \u001b[0;34m*\u001b[0m \u001b[0mym\u001b[0m\u001b[0;34m)\u001b[0m\u001b[0;34m\u001b[0m\u001b[0m\n\u001b[0m\u001b[1;32m   2435\u001b[0m     \u001b[0mr_den\u001b[0m \u001b[0;34m=\u001b[0m \u001b[0mnp\u001b[0m\u001b[0;34m.\u001b[0m\u001b[0msqrt\u001b[0m\u001b[0;34m(\u001b[0m\u001b[0mss\u001b[0m\u001b[0;34m(\u001b[0m\u001b[0mxm\u001b[0m\u001b[0;34m)\u001b[0m \u001b[0;34m*\u001b[0m \u001b[0mss\u001b[0m\u001b[0;34m(\u001b[0m\u001b[0mym\u001b[0m\u001b[0;34m)\u001b[0m\u001b[0;34m)\u001b[0m\u001b[0;34m\u001b[0m\u001b[0m\n\u001b[1;32m   2436\u001b[0m     \u001b[0mr\u001b[0m \u001b[0;34m=\u001b[0m \u001b[0mr_num\u001b[0m \u001b[0;34m/\u001b[0m \u001b[0mr_den\u001b[0m\u001b[0;34m\u001b[0m\u001b[0m\n",
        "\u001b[0;31mValueError\u001b[0m: operands could not be broadcast together with shapes (69,) (676,) "
       ]
      }
     ],
     "prompt_number": 170
    },
    {
     "cell_type": "code",
     "collapsed": false,
     "input": [
      "for mf in [100,200,400,800,1600,2500]:\n",
      "    rf = RandomForestRegressor(max_features=mf,n_estimators=1000,\n",
      "                                     n_jobs=-1,\n",
      "                                     oob_score=True,\n",
      "                                     random_state=0)\n",
      "    x = X_training\n",
      "    y_train = Y_training_median['mean_std']#[:,0]\n",
      "    y_test = Y_leaderboard['mean_std']\n",
      "    rf.fit(x,y_train)\n",
      "    print('r_mean oob using leak = %.3g' % scoring.r2(None,None,rf.oob_prediction_[:,0],y_train[:,0]))\n",
      "    print('r_std oob using leak = %.3g' % scoring.r2(None,None,rf.oob_prediction_[:,21],y_train[:,21]))\n",
      "    print('r_std oob using f_int and leak= %.3g' % scoring.r2(None,None,f_int(rf.oob_prediction_)[:,0],y_train[:,21]))\n",
      "    print('r_mean using leak = %.3g' % scoring.r2(None,None,rf.predict(X_leaderboard_int[:,:])[:,0],y_test[:,0]))\n",
      "    print('r_std using leak = %.3g' % scoring.r2(None,None,rf.predict(X_leaderboard_int[:,:])[:,21],y_test[:,21]))\n",
      "    print('r_std using f_int and leak= %.3g' % scoring.r2(None,None,f_int(rf.predict(X_leaderboard_int[:,:])[:,0]),y_test[:,21]))\n",
      "    print('----------')"
     ],
     "language": "python",
     "metadata": {},
     "outputs": [
      {
       "output_type": "stream",
       "stream": "stdout",
       "text": [
        "r_mean oob using leak = 0.28\n",
        "r_std oob using leak = -0.123\n",
        "r_std oob using f_int and leak= 0.0919\n",
        "r_mean using leak = 0.61"
       ]
      },
      {
       "output_type": "stream",
       "stream": "stdout",
       "text": [
        "\n",
        "r_std using leak = 0.365"
       ]
      },
      {
       "output_type": "stream",
       "stream": "stdout",
       "text": [
        "\n",
        "r_std using f_int and leak= 0.45"
       ]
      },
      {
       "output_type": "stream",
       "stream": "stdout",
       "text": [
        "\n",
        "----------\n",
        "r_mean oob using leak = 0.392"
       ]
      },
      {
       "output_type": "stream",
       "stream": "stdout",
       "text": [
        "\n",
        "r_std oob using leak = -0.0814\n",
        "r_std oob using f_int and leak= 0.174\n",
        "r_mean using leak = 0.613"
       ]
      },
      {
       "output_type": "stream",
       "stream": "stdout",
       "text": [
        "\n",
        "r_std using leak = 0.34"
       ]
      },
      {
       "output_type": "stream",
       "stream": "stdout",
       "text": [
        "\n",
        "r_std using f_int and leak= 0.426"
       ]
      },
      {
       "output_type": "stream",
       "stream": "stdout",
       "text": [
        "\n",
        "----------\n",
        "r_mean oob using leak = 0.513"
       ]
      },
      {
       "output_type": "stream",
       "stream": "stdout",
       "text": [
        "\n",
        "r_std oob using leak = -0.0242\n",
        "r_std oob using f_int and leak= 0.245\n",
        "r_mean using leak = 0.636"
       ]
      },
      {
       "output_type": "stream",
       "stream": "stdout",
       "text": [
        "\n",
        "r_std using leak = 0.36"
       ]
      },
      {
       "output_type": "stream",
       "stream": "stdout",
       "text": [
        "\n",
        "r_std using f_int and leak= 0.448"
       ]
      },
      {
       "output_type": "stream",
       "stream": "stdout",
       "text": [
        "\n",
        "----------\n",
        "r_mean oob using leak = 0.603"
       ]
      },
      {
       "output_type": "stream",
       "stream": "stdout",
       "text": [
        "\n",
        "r_std oob using leak = 0.0635\n",
        "r_std oob using f_int and leak= 0.276\n",
        "r_mean using leak = 0.641"
       ]
      },
      {
       "output_type": "stream",
       "stream": "stdout",
       "text": [
        "\n",
        "r_std using leak = 0.349"
       ]
      },
      {
       "output_type": "stream",
       "stream": "stdout",
       "text": [
        "\n",
        "r_std using f_int and leak= 0.404"
       ]
      },
      {
       "output_type": "stream",
       "stream": "stdout",
       "text": [
        "\n",
        "----------\n",
        "r_mean oob using leak = 0.649"
       ]
      },
      {
       "output_type": "stream",
       "stream": "stdout",
       "text": [
        "\n",
        "r_std oob using leak = 0.151\n",
        "r_std oob using f_int and leak= 0.306\n",
        "r_mean using leak = 0.65"
       ]
      },
      {
       "output_type": "stream",
       "stream": "stdout",
       "text": [
        "\n",
        "r_std using leak = 0.354"
       ]
      },
      {
       "output_type": "stream",
       "stream": "stdout",
       "text": [
        "\n",
        "r_std using f_int and leak= 0.401"
       ]
      },
      {
       "output_type": "stream",
       "stream": "stdout",
       "text": [
        "\n",
        "----------\n",
        "r_mean oob using leak = 0.668"
       ]
      },
      {
       "output_type": "stream",
       "stream": "stdout",
       "text": [
        "\n",
        "r_std oob using leak = 0.191\n",
        "r_std oob using f_int and leak= 0.316\n",
        "r_mean using leak = 0.654"
       ]
      },
      {
       "output_type": "stream",
       "stream": "stdout",
       "text": [
        "\n",
        "r_std using leak = 0.319"
       ]
      },
      {
       "output_type": "stream",
       "stream": "stdout",
       "text": [
        "\n",
        "r_std using f_int and leak= 0.37"
       ]
      },
      {
       "output_type": "stream",
       "stream": "stdout",
       "text": [
        "\n",
        "----------\n"
       ]
      }
     ],
     "prompt_number": 175
    },
    {
     "cell_type": "code",
     "collapsed": false,
     "input": [
      "from scipy.optimize import curve_fit\n",
      "x = y_mean[:,1]\n",
      "y = y_std[:,1]\n",
      "def f(x,k0,k1):\n",
      "    return k0*x**(k1*0.5) - k0*x**(k1*2)\n",
      "k0,k1=curve_fit(f,x,y,p0=[0.7,1])[0]\n",
      "print(k0,k1)\n",
      "plt.scatter(x,y,label='Data')\n",
      "x_ = np.linspace(0,1.0,100)\n",
      "plt.plot(x_,f(x_,k0,k1),color='r',linewidth=3,label='Fit')\n",
      "plt.xlabel('Pleasantness Mean')\n",
      "plt.ylabel('Pleasantness StDev')\n",
      "plt.legend()\n",
      "plt.legend()\n",
      "plt.figure()\n",
      "plt.scatter(x,y-f(x,k0,k1))\n",
      "def f_ple(x):\n",
      "    return 100*(k0*(x/100)**(k1*0.5) - k0*(x/100)**(k1*2))"
     ],
     "language": "python",
     "metadata": {},
     "outputs": [
      {
       "output_type": "stream",
       "stream": "stdout",
       "text": [
        "0.538255779759 1.10230197482\n"
       ]
      },
      {
       "metadata": {},
       "output_type": "display_data",
       "png": "[encoded data removed]",
       "text": [
        "<matplotlib.figure.Figure at 0x116a06e48>"
       ]
      },
      {
       "metadata": {},
       "output_type": "display_data",
       "png": "[encoded data removed]",
       "text": [
        "<matplotlib.figure.Figure at 0x11631fd68>"
       ]
      }
     ],
     "prompt_number": 69
    },
    {
     "cell_type": "code",
     "collapsed": false,
     "input": [
      "from scipy.optimize import curve_fit\n",
      "x = y_mean[:,2:21].ravel()\n",
      "y = y_std[:,2:21].ravel()\n",
      "def f(x,k0,k1):\n",
      "    return k0*x**(k1*0.5) - k0*x**(k1*2)\n",
      "k0,k1=curve_fit(f,x,y,p0=[0.7,1])[0]\n",
      "print(k0,k1)\n",
      "plt.scatter(x,y,label='Data')#Y_obs['mean_std'][:,0],Y_obs['mean_std'][:,21])\n",
      "x_ = np.linspace(0,1.0,100)\n",
      "plt.plot(x_,f(x_,k0,k1),color='r',linewidth=3,label='Fit')\n",
      "plt.xlabel('Other Descriptors Mean')\n",
      "plt.ylabel('Other Descriptors StDev')\n",
      "plt.legend()\n",
      "plt.legend()\n",
      "plt.figure()\n",
      "plt.scatter(x,y-f(x,k0,k1))\n",
      "def f_dec(x):\n",
      "    return 100*(k0*(x/100)**(k1*0.5) - k0*(x/100)**(k1*2))"
     ],
     "language": "python",
     "metadata": {},
     "outputs": [
      {
       "output_type": "stream",
       "stream": "stdout",
       "text": [
        "0.84174532839 1.13431226201\n"
       ]
      },
      {
       "metadata": {},
       "output_type": "display_data",
       "png": "[encoded data removed]",
       "text": [
        "<matplotlib.figure.Figure at 0x116603240>"
       ]
      },
      {
       "metadata": {},
       "output_type": "display_data",
       "png": "[encoded data removed]",
       "text": [
        "<matplotlib.figure.Figure at 0x11608ff60>"
       ]
      }
     ],
     "prompt_number": 70
    },
    {
     "cell_type": "code",
     "collapsed": false,
     "input": [
      "def reg_score(regularize,predicted,observed):\n",
      "    p = predicted.copy()\n",
      "    o = observed.copy()\n",
      "    p_mean0 = np.mean(p,axis=0,keepdims=True)\n",
      "    p_mean1 = np.mean(p,axis=1,keepdims=True)\n",
      "    p_mean2 = np.mean(p,axis=2,keepdims=True)\n",
      "    p[:,0,:] = regularize[0]*(p_mean2[:,0,:])+(1-regularize[0])*p[:,0,:]\n",
      "    p[:,1,:] = regularize[1]*(p_mean2[:,1,:])+(1-regularize[1])*p[:,1,:]\n",
      "    p[:,2:,:] = regularize[2]*(p_mean2[:,2:,:])+(1-regularize[2])*p[:,2:,:]\n",
      "    score = dream.score(p,o,n_subjects=len(rfcs[1]))\n",
      "    r_int = dream.r('int',p,o)\n",
      "    r_ple = dream.r('ple',p,o)\n",
      "    r_dec = dream.r('dec',p,o)\n",
      "    return (r_int,r_ple,r_dec,score)\n",
      "    \n",
      "x = np.linspace(0,1,20)\n",
      "y_int = [reg_score([xi,0,0],predicted,observed)[0] for xi in x]\n",
      "y_ple = [reg_score([0,xi,0],predicted,observed)[1] for xi in x]\n",
      "y_dec = [reg_score([0,0,xi],predicted,observed)[2] for xi in x]\n",
      "plt.plot(x,y_int,'r')\n",
      "plt.plot(x,y_ple,'b')\n",
      "plt.plot(x,y_dec,'k')\n",
      "print(reg_score([0.8,0.7,0.8],predicted,observed)[3])\n",
      "#from scipy.optimize import fmin_tnc\n",
      "#fmin_tnc(reg_score,(0.8),bounds=[(0.0,1.0)],approx_grad=True)"
     ],
     "language": "python",
     "metadata": {},
     "outputs": [
      {
       "output_type": "stream",
       "stream": "stdout",
       "text": [
        "29.436920657\n"
       ]
      },
      {
       "metadata": {},
       "output_type": "display_data",
       "png": "[encoded data removed]",
       "text": [
        "<matplotlib.figure.Figure at 0x111fc8a58>"
       ]
      }
     ],
     "prompt_number": 65
    },
    {
     "cell_type": "heading",
     "level": 3,
     "metadata": {},
     "source": [
      "Imputation and Masks"
     ]
    },
    {
     "cell_type": "code",
     "collapsed": false,
     "input": [
      "estimator1 = Lasso(alpha=0.9,max_iter=5000)\n",
      "estimator2 = Lasso(alpha=0.9,max_iter=5000)\n",
      "estimator1.fit(X_obs,Y_obs['mean_std'][:,1])\n",
      "x = estimator1.coef_\n",
      "estimator2.fit(X_leaderboard,Y_leaderboard['mean_std'][:,1])\n",
      "y = estimator2.coef_\n",
      "plt.scatter(x,y)\n",
      "plt.figure()\n",
      "plt.plot(x,color='r')\n",
      "plt.plot(y,color='b')\n",
      "np.where(x*y > 0.01)"
     ],
     "language": "python",
     "metadata": {},
     "outputs": [
      {
       "metadata": {},
       "output_type": "pyout",
       "prompt_number": 275,
       "text": [
        "(array([2701, 2712, 2744]),)"
       ]
      },
      {
       "metadata": {},
       "output_type": "display_data",
       "png": "[encoded data removed]",
       "text": [
        "<matplotlib.figure.Figure at 0x11c8c60f0>"
       ]
      },
      {
       "metadata": {},
       "output_type": "display_data",
       "png": "[encoded data removed]",
       "text": [
        "<matplotlib.figure.Figure at 0x11c8c6080>"
       ]
      }
     ],
     "prompt_number": 275
    }
   ],
   "metadata": {}
  }
 ]
}