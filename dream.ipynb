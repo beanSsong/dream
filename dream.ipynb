{
 "metadata": {
  "name": "",
  "signature": "sha256:cb22fea55b4288441cdd1233d249c0a1ca36ff7e52538cafc999afcc90d9e1b0"
 },
 "nbformat": 3,
 "nbformat_minor": 0,
 "worksheets": [
  {
   "cells": [
    {
     "cell_type": "heading",
     "level": 3,
     "metadata": {},
     "source": [
      "Preliminaries"
     ]
    },
    {
     "cell_type": "code",
     "collapsed": false,
     "input": [
      "# Preliminaries to setup the notebook.  \n",
      "%matplotlib inline\n",
      "%load_ext autoreload\n",
      "%autoreload 2"
     ],
     "language": "python",
     "metadata": {},
     "outputs": [
      {
       "output_type": "stream",
       "stream": "stdout",
       "text": [
        "The autoreload extension is already loaded. To reload it, use:\n",
        "  %reload_ext autoreload\n"
       ]
      }
     ],
     "prompt_number": 1
    },
    {
     "cell_type": "code",
     "collapsed": false,
     "input": [
      "# For which subchallenges to execute code.\n",
      "subchallenges = [2]"
     ],
     "language": "python",
     "metadata": {},
     "outputs": [],
     "prompt_number": 2
    },
    {
     "cell_type": "code",
     "collapsed": false,
     "input": [
      "# Import numerical libraries.  \n",
      "import numpy as np\n",
      "import matplotlib.pyplot as plt\n",
      "from scipy.stats import pearsonr\n",
      "from sklearn.ensemble import RandomForestRegressor,ExtraTreesRegressor\n",
      "from sklearn.cross_validation import ShuffleSplit,cross_val_score\n",
      "from sklearn.grid_search import GridSearchCV"
     ],
     "language": "python",
     "metadata": {},
     "outputs": [],
     "prompt_number": 3
    },
    {
     "cell_type": "code",
     "collapsed": false,
     "input": [
      "# Import the file I wrote to load the data from the tab-delimited text files.  \n",
      "import dream\n",
      "import imp\n",
      "imp.reload(dream)"
     ],
     "language": "python",
     "metadata": {},
     "outputs": [
      {
       "metadata": {},
       "output_type": "pyout",
       "prompt_number": 4,
       "text": [
        "<module 'dream' from '/Users/rgerkin/Dropbox/science/dream/dream.py'>"
       ]
      }
     ],
     "prompt_number": 4
    },
    {
     "cell_type": "code",
     "collapsed": false,
     "input": [
      "# Load the perceptual descriptors data.  \n",
      "perceptual_headers, perceptual_obs_data = dream.load_perceptual_data()"
     ],
     "language": "python",
     "metadata": {},
     "outputs": [],
     "prompt_number": 5
    },
    {
     "cell_type": "code",
     "collapsed": false,
     "input": [
      "# Show the perceptual metadata types and perceptual descriptor names.\n",
      "print(perceptual_headers)"
     ],
     "language": "python",
     "metadata": {},
     "outputs": [
      {
       "output_type": "stream",
       "stream": "stdout",
       "text": [
        "['Compound Identifier', 'Odor', 'Replicate', 'Intensity', 'Dilution', 'subject #', 'INTENSITY/STRENGTH', 'VALENCE/PLEASANTNESS', 'BAKERY', 'SWEET', 'FRUIT', 'FISH', 'GARLIC', 'SPICES', 'COLD', 'SOUR', 'BURNT', 'ACID', 'WARM', 'MUSKY', 'SWEATY', 'AMMONIA/URINOUS', 'DECAYED', 'WOOD', 'GRASS', 'FLOWER', 'CHEMICAL']\n"
       ]
      }
     ],
     "prompt_number": 6
    },
    {
     "cell_type": "code",
     "collapsed": false,
     "input": [
      "# Show the metadata and perceptual descriptor values for the first compound.\n",
      "print(perceptual_obs_data[1])"
     ],
     "language": "python",
     "metadata": {},
     "outputs": [
      {
       "output_type": "stream",
       "stream": "stdout",
       "text": [
        "['126', '4-Hydroxybenzaldehyde', False, 'high', '1/10', '1', 37, 60, 0, 72, 0, 0, 0, 0, 0, 0, 0, 0, 0, 0, 0, 0, 0, 0, 0, 0, 0]\n"
       ]
      }
     ],
     "prompt_number": 7
    },
    {
     "cell_type": "code",
     "collapsed": false,
     "input": [
      "num_descriptors = len(perceptual_headers[6:])\n",
      "num_subjects = 49\n",
      "print('There are %d different perceptual descriptors and %d different subjects' % (num_descriptors,num_subjects))"
     ],
     "language": "python",
     "metadata": {},
     "outputs": [
      {
       "output_type": "stream",
       "stream": "stdout",
       "text": [
        "There are 21 different perceptual descriptors and 49 different subjects\n"
       ]
      }
     ],
     "prompt_number": 8
    },
    {
     "cell_type": "code",
     "collapsed": false,
     "input": [
      "# Load the molecular descriptors data.  \n",
      "molecular_headers, molecular_data = dream.load_molecular_data()"
     ],
     "language": "python",
     "metadata": {},
     "outputs": [],
     "prompt_number": 9
    },
    {
     "cell_type": "code",
     "collapsed": false,
     "input": [
      "# Show first 10 molecular descriptors types (zeroth is just the compound identifier).  \n",
      "print(molecular_headers[:10])"
     ],
     "language": "python",
     "metadata": {},
     "outputs": [
      {
       "output_type": "stream",
       "stream": "stdout",
       "text": [
        "['CID', 'complexity from pubmed', 'MW', 'AMW', 'Sv', 'Se', 'Sp', 'Si', 'Mv', 'Me']\n"
       ]
      }
     ],
     "prompt_number": 10
    },
    {
     "cell_type": "code",
     "collapsed": false,
     "input": [
      "# Show first 10 molecular descriptors values for the first compound (zeroth is just the compound identifier).  \n",
      "print(molecular_data[0][:10])"
     ],
     "language": "python",
     "metadata": {},
     "outputs": [
      {
       "output_type": "stream",
       "stream": "stdout",
       "text": [
        "['126', 93.1, 122.13, 8.142, 10.01, 15.305, 10.193, 16.664, 0.667, 1.02]\n"
       ]
      }
     ],
     "prompt_number": 11
    },
    {
     "cell_type": "code",
     "collapsed": false,
     "input": [
      "# How many unique molecules do we have perceptual data for?  \n",
      "training_size = len(set([int(row[0]) for row in perceptual_obs_data]))\n",
      "print(training_size)"
     ],
     "language": "python",
     "metadata": {},
     "outputs": [
      {
       "output_type": "stream",
       "stream": "stdout",
       "text": [
        "338\n"
       ]
      }
     ],
     "prompt_number": 12
    },
    {
     "cell_type": "code",
     "collapsed": false,
     "input": [
      "# How many unique molecules do we have descriptors for?  \n",
      "total_size = len(set([int(row[0]) for row in molecular_data]))\n",
      "print(total_size)"
     ],
     "language": "python",
     "metadata": {},
     "outputs": [
      {
       "output_type": "stream",
       "stream": "stdout",
       "text": [
        "476\n"
       ]
      }
     ],
     "prompt_number": 13
    },
    {
     "cell_type": "code",
     "collapsed": false,
     "input": [
      "# How many are left out for testing in the competition?  Note that half of these will be used for the leaderboard\n",
      "print(total_size - training_size)"
     ],
     "language": "python",
     "metadata": {},
     "outputs": [
      {
       "output_type": "stream",
       "stream": "stdout",
       "text": [
        "138\n"
       ]
      }
     ],
     "prompt_number": 14
    },
    {
     "cell_type": "code",
     "collapsed": false,
     "input": [
      "# How many total rows are there in the perceptual data set (there can be at least one for each subject and molecule)?  \n",
      "print(len(perceptual_obs_data))"
     ],
     "language": "python",
     "metadata": {},
     "outputs": [
      {
       "output_type": "stream",
       "stream": "stdout",
       "text": [
        "35084\n"
       ]
      }
     ],
     "prompt_number": 15
    },
    {
     "cell_type": "code",
     "collapsed": false,
     "input": [
      "# How many of those descriptor vectors are replicates (same subject and compound)?\n",
      "print(sum([x[2] for x in perceptual_obs_data]))"
     ],
     "language": "python",
     "metadata": {},
     "outputs": [
      {
       "output_type": "stream",
       "stream": "stdout",
       "text": [
        "1960\n"
       ]
      }
     ],
     "prompt_number": 16
    },
    {
     "cell_type": "heading",
     "level": 3,
     "metadata": {},
     "source": [
      "Data preparation"
     ]
    },
    {
     "cell_type": "code",
     "collapsed": false,
     "input": [
      "all_CIDs = sorted([int(_[0]) for _ in molecular_data])\n",
      "len(all_CIDs)"
     ],
     "language": "python",
     "metadata": {},
     "outputs": [
      {
       "metadata": {},
       "output_type": "pyout",
       "prompt_number": 17,
       "text": [
        "476"
       ]
      }
     ],
     "prompt_number": 17
    },
    {
     "cell_type": "code",
     "collapsed": false,
     "input": [
      "# Delete replicates because I don't know how to deal with them right now.  \n",
      "#perceptual_obs_data = [row for row in perceptual_obs_data if row[2] is False]\n",
      "print(\"There are %d non-replicated rows in the observed perceptual data\" % len(perceptual_obs_data))"
     ],
     "language": "python",
     "metadata": {},
     "outputs": [
      {
       "output_type": "stream",
       "stream": "stdout",
       "text": [
        "There are 35084 non-replicated rows in the observed perceptual data\n"
       ]
      }
     ],
     "prompt_number": 18
    },
    {
     "cell_type": "code",
     "collapsed": false,
     "input": [
      "# Compute perceptual descriptor matrices for molecules tested at a given dilution.  \n",
      "target_dilution = None # None means use all dilutions.  \n",
      "perceptual_obs_matrices = dream.get_perceptual_matrices(perceptual_obs_data, target_dilution)\n",
      "print(\"Each observed perceptual matrix has shape %d (subjects) x %d (perceptual descriptors)\" % list(perceptual_obs_matrices.values())[0].shape)\n",
      "print(\"There are %d such matrices, one for each molecule tested at 10^%s dilution\" % (len(perceptual_obs_matrices),target_dilution))"
     ],
     "language": "python",
     "metadata": {},
     "outputs": [
      {
       "output_type": "stream",
       "stream": "stdout",
       "text": [
        "Each observed perceptual matrix has shape 49 (subjects) x 21 (perceptual descriptors)\n",
        "There are 676 such matrices, one for each molecule tested at 10^None dilution\n"
       ]
      }
     ],
     "prompt_number": 19
    },
    {
     "cell_type": "code",
     "collapsed": false,
     "input": [
      "z = np.dstack(perceptual_obs_matrices.values())\n",
      "\n",
      "nonzero_nonans,nonzero_nans,zero_nonans,zero_nonzero,zero_nans = 0,0,0,0,0\n",
      "for subject in range(49):\n",
      "    for molecule in range(676):\n",
      "        if z[subject,0,molecule]:\n",
      "            nonzero_nonans += np.isnan(z[subject,1:,molecule]).sum()==0\n",
      "            nonzero_nans += np.isnan(z[subject,1:,molecule]).sum()==20\n",
      "        else:\n",
      "            zero_nonans += np.isnan(z[subject,1:,molecule]).sum()==0\n",
      "            zero_nonzero += z[subject,1:,molecule].max()>0\n",
      "            zero_nans += np.isnan(z[subject,1:,molecule]).sum()==20\n",
      "print(nonzero_nonans,nonzero_nans,zero_nonans,zero_nonzero,zero_nans)\n"
     ],
     "language": "python",
     "metadata": {},
     "outputs": [
      {
       "output_type": "stream",
       "stream": "stdout",
       "text": [
        "22701 0 1800 1790 8623\n"
       ]
      }
     ],
     "prompt_number": 20
    },
    {
     "cell_type": "code",
     "collapsed": false,
     "input": [
      "# Compute molecular descriptor vectors for the molecules tested above.  \n",
      "CID_dilutions_obs = list(perceptual_obs_matrices.keys())\n",
      "CIDs_obs = [int(_.split('_')[0]) for _ in CID_dilutions_obs]\n",
      "molecular_vectors = dream.get_molecular_vectors(molecular_data,CIDs_obs)\n",
      "print(\"Each molecular vector has length %d\" % list(molecular_vectors.values())[0].shape)\n",
      "print(\"There are %d such vectors, one for each molecule tested at %s dilution that could be located in the molecular data\" \\\n",
      "      % (len(molecular_vectors),target_dilution))\n",
      "   "
     ],
     "language": "python",
     "metadata": {},
     "outputs": [
      {
       "output_type": "stream",
       "stream": "stdout",
       "text": [
        "Each molecular vector has length 4869\n",
        "There are 338 such vectors, one for each molecule tested at None dilution that could be located in the molecular data\n"
       ]
      }
     ],
     "prompt_number": 57
    },
    {
     "cell_type": "code",
     "collapsed": false,
     "input": [
      "def add_dilutions(molecular_vectors,CID_dilutions):\n",
      "    if target_dilution is None:\n",
      "        molecular_vectors_ = {}\n",
      "        for CID_dilution in CID_dilutions:\n",
      "            CID,dilution = CID_dilution.split('_')\n",
      "            molecular_vectors_[CID_dilution] = np.concatenate((molecular_vectors[int(CID)],[int(dilution)]))\n",
      "        molecular_vectors = molecular_vectors_\n",
      "        print('There are now %d molecular vectors of length %d, one for each molecule and dilution' \\\n",
      "            % (len(molecular_vectors),len(molecular_vectors[CID_dilution])))\n",
      "    return molecular_vectors\n",
      "\n",
      "molecular_vectors = add_dilutions(molecular_vectors,CID_dilutions_obs)"
     ],
     "language": "python",
     "metadata": {},
     "outputs": [
      {
       "output_type": "stream",
       "stream": "stdout",
       "text": [
        "There are now 676 molecular vectors of length 4870, one for each molecule and dilution\n"
       ]
      }
     ],
     "prompt_number": 58
    },
    {
     "cell_type": "code",
     "collapsed": false,
     "input": [
      "# Here we setup an imputer to impute new values based on column means.  \n",
      "from sklearn.preprocessing import Imputer\n",
      "imputer = Imputer(missing_values=np.nan,strategy='median',axis=0)"
     ],
     "language": "python",
     "metadata": {},
     "outputs": [],
     "prompt_number": 59
    },
    {
     "cell_type": "code",
     "collapsed": false,
     "input": [
      "# Compute subject-averaged perceptual descriptor vectors from the matrices.  \n",
      "# This is basically just computing the column means.  \n",
      "def get_perceptual_obs_mean_std_vectors(matrices,imputer):\n",
      "    mean_vectors = dream.get_perceptual_vectors(matrices,imputer=imputer,statistic='mean')\n",
      "    std_vectors = dream.get_perceptual_vectors(matrices,imputer=imputer,statistic='std')\n",
      "    print(\"Subject-averaged observed perceptual vector has length %d (perceptual descriptors)\" % list(mean_vectors.values())[0].shape)\n",
      "    print(\"There are %d such vectors, one for each molecule tested at %s dilution\" % (len(mean_vectors),target_dilution))\n",
      "    return mean_vectors,std_vectors\n",
      "perceptual_obs_mean_vectors,perceptual_obs_std_vectors = get_perceptual_obs_mean_std_vectors(perceptual_obs_matrices,imputer)"
     ],
     "language": "python",
     "metadata": {},
     "outputs": [
      {
       "output_type": "stream",
       "stream": "stdout",
       "text": [
        "Subject-averaged observed perceptual vector has length 21 (perceptual descriptors)\n",
        "There are 676 such vectors, one for each molecule tested at None dilution\n"
       ]
      }
     ],
     "prompt_number": 24
    },
    {
     "cell_type": "code",
     "collapsed": false,
     "input": [
      "# Compute subject-specific perceptual descriptor vectors from the matrices.  \n",
      "# This is basically just unraveling the matrices.  \n",
      "perceptual_obs_subject_vectors = dream.get_perceptual_vectors(perceptual_obs_matrices,imputer='mask',statistic=None)\n",
      "#perceptual_obs_subject_vectors = dream.get_perceptual_vectors(perceptual_obs_matrices,imputer='zero',statistic=None)\n",
      "print(\"Each subject-specific observed perceptual vector has length %d (perceptual descriptors)\" % \\\n",
      "      list(perceptual_obs_subject_vectors.values())[0][1].shape)\n",
      "print(\"There are %d x %d such vectors, one for each molecule and subject tested at %s dilution\" % \\\n",
      "      (len(perceptual_obs_subject_vectors),len(list(perceptual_obs_subject_vectors.values())[0]),target_dilution))"
     ],
     "language": "python",
     "metadata": {},
     "outputs": [
      {
       "output_type": "stream",
       "stream": "stdout",
       "text": [
        "Each subject-specific observed perceptual vector has length 21 (perceptual descriptors)\n",
        "There are 676 x 49 such vectors, one for each molecule and subject tested at None dilution\n"
       ]
      }
     ],
     "prompt_number": 25
    },
    {
     "cell_type": "code",
     "collapsed": false,
     "input": [
      "# Purge molecules from perceptual_vectors that are not in molecular_vectors.\n",
      "for perceptual_vectors in [perceptual_obs_mean_vectors,perceptual_obs_std_vectors,perceptual_obs_subject_vectors]:\n",
      "    perceptual_vectors = dream.retain(molecular_vectors,perceptual_vectors)\n",
      "print(\"There are now %d x %d such vectors, one for each molecule and subject tested at %s dilution\" % \\\n",
      "      (len(perceptual_obs_subject_vectors),len(list(perceptual_obs_subject_vectors.values())[0]),target_dilution))"
     ],
     "language": "python",
     "metadata": {},
     "outputs": [
      {
       "output_type": "stream",
       "stream": "stdout",
       "text": [
        "There are now 676 x 49 such vectors, one for each molecule and subject tested at None dilution\n"
       ]
      }
     ],
     "prompt_number": 26
    },
    {
     "cell_type": "code",
     "collapsed": false,
     "input": [
      "# Make sure we have the same number of molecules in both sets of vectors.  \n",
      "print(\"There are now %d molecules in perceptual_vectors and %d molecules in molecular_vectors\" % \\\n",
      "      (len(perceptual_obs_mean_vectors),len(molecular_vectors)))\n",
      "print(\"These should be the same number.\")"
     ],
     "language": "python",
     "metadata": {},
     "outputs": [
      {
       "output_type": "stream",
       "stream": "stdout",
       "text": [
        "There are now 676 molecules in perceptual_vectors and 676 molecules in molecular_vectors\n",
        "These should be the same number.\n"
       ]
      }
     ],
     "prompt_number": 27
    },
    {
     "cell_type": "code",
     "collapsed": false,
     "input": [
      "# Build the Y matrix out of perceptual descriptors.\n",
      "def get_Y_obs(mean_vectors,std_vectors,subject_vectors):\n",
      "    Y_obs = {'subject':{}}\n",
      "    for kind,vectors in [('mean',mean_vectors),\n",
      "                         ('std',std_vectors)]:\n",
      "        Y_obs[kind] = np.vstack([vectors[CID] for CID in sorted(vectors)])\n",
      "    for subject in range(1,50):\n",
      "        Y_obs['subject'][subject] = np.vstack([subject_vectors[CID][subject]\n",
      "                                               for CID in sorted(subject_vectors)])\n",
      "    print(\"Y_obs['subject'] contains %d matrices each with shape (%dx%d) (molecules by perceptual descriptors)\" \\\n",
      "      % (len(Y_obs['subject']),Y_obs['subject'][1].shape[0],Y_obs['subject'][1].shape[1]))\n",
      "    print(\"The Y_obs['mean'] matrix has shape (%dx%d) (molecules by perceptual descriptors)\" % Y_obs['mean'].shape)\n",
      "    Y_obs['mean_std'] = np.hstack((Y_obs['mean'],Y_obs['std']))\n",
      "    print(\"The Y_obs['mean_std'] matrix has shape (%dx%d) (molecules by 2 x perceptual descriptors)\" % Y_obs['mean_std'].shape)\n",
      "    return Y_obs\n",
      "Y_obs = get_Y_obs(perceptual_obs_mean_vectors,perceptual_obs_std_vectors,perceptual_obs_subject_vectors)"
     ],
     "language": "python",
     "metadata": {},
     "outputs": [
      {
       "output_type": "stream",
       "stream": "stdout",
       "text": [
        "Y_obs['subject'] contains 49 matrices each with shape (676x21) (molecules by perceptual descriptors)\n",
        "The Y_obs['mean'] matrix has shape (676x21) (molecules by perceptual descriptors)\n",
        "The Y_obs['mean_std'] matrix has shape (676x42) (molecules by 2 x perceptual descriptors)\n"
       ]
      }
     ],
     "prompt_number": 28
    },
    {
     "cell_type": "code",
     "collapsed": false,
     "input": [
      "# Build the X_obs matrix out of molecular descriptors.  \n",
      "def build_X(molecular_vectors):\n",
      "    X = np.vstack([molecular_vectors[key] for key in sorted(molecular_vectors)]) # Key could be CID or CID_dilution.  \n",
      "    print(\"The X matrix has shape (%dx%d) (molecules by molecular descriptors)\" % X.shape)\n",
      "    return X\n",
      "\n",
      "X_obs = build_X(molecular_vectors)"
     ],
     "language": "python",
     "metadata": {},
     "outputs": [
      {
       "output_type": "stream",
       "stream": "stdout",
       "text": [
        "The X matrix has shape (676x4870) (molecules by molecular descriptors)\n"
       ]
      }
     ],
     "prompt_number": 29
    },
    {
     "cell_type": "code",
     "collapsed": false,
     "input": [
      "def purge1_X(X,good_molecular_descriptors=None):\n",
      "    if good_molecular_descriptors is None:\n",
      "        good_molecular_descriptors = range(X.shape[1])\n",
      "        threshold = 0.25\n",
      "        # Which columns of X (which molecular descriptors) have NaNs for at least 'threshold' fraction of the molecules?  \n",
      "        nan_molecular_descriptors = np.where(np.isnan(X).sum(axis=0) > X.shape[0]*threshold)[0] # At least 'threshold' NaNs.  \n",
      "        # Purge these bad descriptors from the X matrix.  \n",
      "        good_molecular_descriptors = list(set(range(X.shape[1])).difference(nan_molecular_descriptors))\n",
      "    X = X[:,good_molecular_descriptors]\n",
      "    print(\"The X matrix has shape (%dx%d) (molecules by good molecular descriptors)\" % X.shape)\n",
      "    return X,good_molecular_descriptors\n",
      "\n",
      "X_obs_mask = np.ma.array(X_obs,mask=np.isnan(X_obs))\n",
      "X_obs,good1_molecular_descriptors = purge1_X(X_obs)"
     ],
     "language": "python",
     "metadata": {},
     "outputs": [
      {
       "output_type": "stream",
       "stream": "stdout",
       "text": [
        "The X matrix has shape (676x4870) (molecules by good molecular descriptors)\n"
       ]
      }
     ],
     "prompt_number": 30
    },
    {
     "cell_type": "code",
     "collapsed": false,
     "input": [
      "def impute_X(X):\n",
      "    # The X_obs matrix (molecular descriptors) still has NaN values which need to be imputed.  \n",
      "    X = imputer.fit_transform(X)\n",
      "    print(\"The X matrix now has shape (%dx%d) (molecules by non-NaN good molecular descriptors)\" % X.shape)\n",
      "    return X\n",
      "\n",
      "X_obs = impute_X(X_obs)"
     ],
     "language": "python",
     "metadata": {},
     "outputs": [
      {
       "output_type": "stream",
       "stream": "stdout",
       "text": [
        "The X matrix now has shape (676x4870) (molecules by non-NaN good molecular descriptors)\n"
       ]
      }
     ],
     "prompt_number": 31
    },
    {
     "cell_type": "code",
     "collapsed": false,
     "input": [
      "def purge2_X(X,good_molecular_descriptors=None):\n",
      "    if good_molecular_descriptors is None:\n",
      "        good_molecular_descriptors = range(X.shape[1])\n",
      "        zero_molecular_descriptors = np.where(np.abs(np.sum(X,axis=0))==0)[0] # All zeroes.  \n",
      "        invariant_molecular_descriptors = np.where(np.std(X,axis=0)==0)[0] # Same value for all molecules.  \n",
      "        bad_molecular_descriptors = set(zero_molecular_descriptors).union(invariant_molecular_descriptors) # Both of the above.  \n",
      "        # Purge these bad descriptors from the X matrix.  \n",
      "        good_molecular_descriptors = list(set(good_molecular_descriptors).difference(bad_molecular_descriptors))\n",
      "    X = X[:,good_molecular_descriptors]\n",
      "    print(\"The X matrix has shape (%dx%d) (molecules by good molecular descriptors)\" % X.shape)\n",
      "    return X,good_molecular_descriptors\n",
      "\n",
      "X_obs,good2_molecular_descriptors = purge2_X(X_obs)"
     ],
     "language": "python",
     "metadata": {},
     "outputs": [
      {
       "output_type": "stream",
       "stream": "stdout",
       "text": [
        "The X matrix has shape (676x3032) (molecules by good molecular descriptors)\n"
       ]
      }
     ],
     "prompt_number": 32
    },
    {
     "cell_type": "code",
     "collapsed": false,
     "input": [
      "def normalize_X(X,means=None,stds=None):#,logs=None):\n",
      "    #if logs is None:\n",
      "    #    logs = np.where(np.min(X,axis=0)>0)[0]\n",
      "    num_cols = X.shape[1]\n",
      "    if target_dilution is None:\n",
      "        num_cols -= 1\n",
      "    #for col in range(num_cols):\n",
      "    #    if col in logs:\n",
      "    #        X[:,col] = np.sign(X[:,col])*np.abs(X[:,col])**(1.0/3)\n",
      "    X = np.sign(X)*np.abs(X)**(1.0/3)\n",
      "    if means is None:\n",
      "        means = np.mean(X,axis=0)\n",
      "    if stds is None:\n",
      "        stds = np.std(X,axis=0)\n",
      "    X[:,:num_cols] -= means[np.newaxis,:num_cols]\n",
      "    X[:,:num_cols] /= stds[np.newaxis,:num_cols]\n",
      "    return X,means,stds\n",
      "\n",
      "X_obs,X_means,X_stds = normalize_X(X_obs)"
     ],
     "language": "python",
     "metadata": {},
     "outputs": [],
     "prompt_number": 33
    },
    {
     "cell_type": "code",
     "collapsed": false,
     "input": [
      "# Show the range of values for the molecular and perceptual descriptors.  \n",
      "plt.hist(X_obs.ravel())\n",
      "plt.yscale('log')\n",
      "plt.ylabel('Count')\n",
      "plt.xlabel('Cube root transformed, N(0,1) normalized molecular descriptor values')\n",
      "plt.figure()\n",
      "plt.hist(Y_obs['mean'].ravel())\n",
      "plt.yscale('log')\n",
      "plt.ylabel('Count')\n",
      "plt.xlabel('Perceptual descriptor subject-averaged values')"
     ],
     "language": "python",
     "metadata": {},
     "outputs": [
      {
       "metadata": {},
       "output_type": "pyout",
       "prompt_number": 34,
       "text": [
        "<matplotlib.text.Text at 0x114ff2550>"
       ]
      },
      {
       "metadata": {},
       "output_type": "display_data",
       "png": "[encoded data removed]",
       "text": [
        "<matplotlib.figure.Figure at 0x10a62cef0>"
       ]
      },
      {
       "metadata": {},
       "output_type": "display_data",
       "png": "[encoded data removed]",
       "text": [
        "<matplotlib.figure.Figure at 0x114f8ef28>"
       ]
      }
     ],
     "prompt_number": 34
    },
    {
     "cell_type": "code",
     "collapsed": false,
     "input": [
      "# Show that random forest regression can also be used to fit all the data in-sample.  \n",
      "\n",
      "def rfc_(X,Y,subchallenge,max_features=1500,n_estimators=1000,max_depth=None,min_samples_leaf=1):\n",
      "    def rfc_maker():\n",
      "        return RandomForestRegressor(max_features=max_features,\n",
      "                                     n_estimators=n_estimators,\n",
      "                                     max_depth=max_depth,\n",
      "                                     min_samples_leaf=min_samples_leaf,\n",
      "                                     n_jobs=-1,\n",
      "                                     oob_score=True)\n",
      "    if subchallenge == 1:\n",
      "        n_subjects = 49\n",
      "        predicted_ = []\n",
      "        observed_ = []\n",
      "        rfcs = {subject:rfc_maker() for subject in range(1,n_subjects+1)}\n",
      "        for subject in range(1,n_subjects+1):\n",
      "            observed = Y[subject]\n",
      "            rfc = rfcs[subject]\n",
      "            rfc.fit(X,observed)\n",
      "            predicted = rfc.predict(X)\n",
      "            predicted = rfc.oob_prediction_\n",
      "            observed_.append(observed)\n",
      "            predicted_.append(predicted)\n",
      "            #scatter(x,y)\n",
      "        predicted = np.dstack(predicted_)\n",
      "        observed = np.dstack(observed_)\n",
      "        predicted_mean = np.mean(predicted,axis=2,keepdims=True)\n",
      "        regularize = 0.8\n",
      "        predicted = regularize*(predicted_mean) + (1-regularize)*predicted\n",
      "        score = dream.score(predicted,observed,n_subjects=n_subjects)\n",
      "        r_int = dream.r('int',predicted,observed)\n",
      "        r_ple = dream.r('ple',predicted,observed)\n",
      "        r_dec = dream.r('dec',predicted,observed)\n",
      "        print(\"For subchallenge %d, score = %.2f (%.2f,%.2f,%.2f)\" % (subchallenge,score,r_int,r_ple,r_dec))\n",
      "        return rfcs\n",
      "        \n",
      "    if subchallenge == 2:\n",
      "        rfc = rfc_maker()\n",
      "        rfc.fit(X,Y)\n",
      "        x = rfc.predict(X)\n",
      "        x = rfc.oob_prediction_\n",
      "        y = Y\n",
      "        #scatter(x.ravel(),y.ravel())\n",
      "        score = dream.score2(x,y)\n",
      "        r_int = dream.r2('int','mean',x,y)\n",
      "        r_ple = dream.r2('ple','mean',x,y)\n",
      "        r_dec = dream.r2('dec','mean',x,y)\n",
      "        r_int_sig = dream.r2('int','sigma',x,y)\n",
      "        r_ple_sig = dream.r2('ple','sigma',x,y)\n",
      "        r_dec_sig = dream.r2('dec','sigma',x,y)\n",
      "        print(\"For subchallenge %d, score = %.2f (%.2f,%.2f,%.2f,%.2f,%.2f,%.2f)\" \\\n",
      "           % (subchallenge,score,r_int,r_ple,r_dec,r_int_sig,r_ple_sig,r_dec_sig))\n",
      "        return rfc\n",
      "\n",
      "rfcs = {}\n",
      "if 1 in subchallenges:\n",
      "    plt.subplot(1,2,1)\n",
      "    rfcs[1] = rfc_(X_obs,Y_obs['subject'],1)\n",
      "if 2 in subchallenges:\n",
      "    plt.subplot(1,2,2)\n",
      "    rfcs[2] = rfc_(X_obs,Y_obs['mean_std'],2)\n",
      "    #ns = [100,200,400,700,1000,1500,2250,3000]\n",
      "    #plt.scatter(ns,scores)"
     ],
     "language": "python",
     "metadata": {},
     "outputs": [
      {
       "output_type": "stream",
       "stream": "stdout",
       "text": [
        "For subchallenge 2, score = 8.68 (0.64,0.60,0.53,0.15,0.56,0.44)\n"
       ]
      },
      {
       "metadata": {},
       "output_type": "display_data",
       "png": "[encoded data removed]",
       "text": [
        "<matplotlib.figure.Figure at 0x108982860>"
       ]
      }
     ],
     "prompt_number": 205
    },
    {
     "cell_type": "code",
     "collapsed": false,
     "input": [
      "# Show that random forest regression can also be used to fit all the data in-sample.  \n",
      "\n",
      "def rfc_(X,Y,subchallenge,max_features=1500,n_estimators=1000,max_depth=None,min_samples_leaf=1):\n",
      "    def rfc_maker(max_features=max_features,n_estimators=n_estimators,max_depth=max_depth,min_samples_leaf=min_samples_leaf):\n",
      "        return RandomForestRegressor(max_features=max_features,\n",
      "                                     n_estimators=n_estimators,\n",
      "                                     max_depth=max_depth,\n",
      "                                     min_samples_leaf=min_samples_leaf,\n",
      "                                     n_jobs=-1,\n",
      "                                     oob_score=True)\n",
      "        \n",
      "    if subchallenge == 2:\n",
      "        x = np.zeros(Y.shape)\n",
      "        y = Y\n",
      "        \n",
      "        rfc_int_mean = rfc_maker(max_features=None,min_samples_leaf=1)\n",
      "        rfc_ple_mean = rfc_maker(max_features=60,min_samples_leaf=1)\n",
      "        rfc_dec_mean = rfc_maker(max_features=700,min_samples_leaf=1)\n",
      "        rfc_int_sigma = rfc_maker(max_features=None,min_samples_leaf=16)\n",
      "        rfc_ple_sigma = rfc_maker(max_features=None,min_samples_leaf=1)\n",
      "        rfc_dec_sigma = rfc_maker(max_features=None,min_samples_leaf=1)\n",
      "        \n",
      "        rfc_int_mean.fit(X,Y)\n",
      "        rfc_ple_mean.fit(X,Y)\n",
      "        rfc_dec_mean.fit(X,Y)\n",
      "        rfc_int_sigma.fit(X,Y)\n",
      "        rfc_ple_sigma.fit(X,Y)\n",
      "        rfc_dec_sigma.fit(X,Y)\n",
      "        #x = rfc.predict(X)\n",
      "        x_int_mean = rfc_int_mean.oob_prediction_\n",
      "        x_ple_mean = rfc_ple_mean.oob_prediction_\n",
      "        x_dec_mean = rfc_dec_mean.oob_prediction_\n",
      "        x_int_sigma = rfc_int_sigma.oob_prediction_\n",
      "        x_ple_sigma = rfc_ple_sigma.oob_prediction_\n",
      "        x_dec_sigma = rfc_dec_sigma.oob_prediction_\n",
      "        x = x_int_mean.copy()\n",
      "        x[:,1] = x_ple_mean[:,1]\n",
      "        x[:,2:21] = x_dec_mean[:,2:21]\n",
      "        x[:,21] = x_int_sigma[:,21]\n",
      "        x[:,22] = x_ple_sigma[:,22]\n",
      "        x[:,23:] = x_dec_sigma[:,23:42]\n",
      "        \n",
      "        #scatter(x.ravel(),y.ravel())\n",
      "        score = dream.score2(x,y)\n",
      "        r_int = dream.r2('int','mean',x,y)\n",
      "        r_ple = dream.r2('ple','mean',x,y)\n",
      "        r_dec = dream.r2('dec','mean',x,y)\n",
      "        r_int_sig = dream.r2('int','sigma',x,y)\n",
      "        r_ple_sig = dream.r2('ple','sigma',x,y)\n",
      "        r_dec_sig = dream.r2('dec','sigma',x,y)\n",
      "        print(\"For subchallenge %d, score = %.2f (%.2f,%.2f,%.2f,%.2f,%.2f,%.2f)\" \\\n",
      "           % (subchallenge,score,r_int,r_ple,r_dec,r_int_sig,r_ple_sig,r_dec_sig))\n",
      "        #print([dream.r2(_,'mean',x,y) for _ in range(19)])\n",
      "        #print([dream.r2(_,'sigma',x,y) for _ in range(19)])\n",
      "        return [rfc_int_mean,rfc_ple_mean,rfc_dec_mean,rfc_int_sigma,rfc_ple_sigma,rfc_dec_sigma],\\\n",
      "               [r_int,r_ple,r_dec,r_int_sig,r_ple_sig,r_dec_sig],\\\n",
      "               [dream.r2(_,'mean',x,y) for _ in range(19)]+[dream.r2(_,'sigma',x,y) for _ in range(19)]\n",
      "\n",
      "if 2 in subchallenges:\n",
      "    plt.subplot(1,2,2)\n",
      "    #ns = [10,100,1000]\n",
      "    #rs = [rfc_(X_obs,Y_obs['mean_std'],2,max_features=n) for n in ns]\n",
      "    #plt.scatter(ns,rs)\n",
      "    rfcs[2] = rfc_(X_obs,Y_obs['mean_std'],2)\n",
      "    #ns = [1,3,10,30,100,300,1000,3000]\n",
      "    #rs = {n:[] for n in ns}\n",
      "    #for i in range(5):\n",
      "    #    for n in ns:\n",
      "    #        print(i,n)\n",
      "    #        try:\n",
      "    #            rs[n].append(rfc_(X_obs,Y_obs['mean_std'],2,max_features=500,max_depth=n,min_samples_leaf=1))\n",
      "    #        except KeyError:\n",
      "    #            pass\n",
      "    #plt.scatter(ns,scores)"
     ],
     "language": "python",
     "metadata": {},
     "outputs": [
      {
       "output_type": "stream",
       "stream": "stdout",
       "text": [
        "For subchallenge 2, score = 7.68 (0.66,0.66,0.48,0.17,0.29,0.37)\n"
       ]
      },
      {
       "ename": "NameError",
       "evalue": "name 'rfcs' is not defined",
       "output_type": "pyerr",
       "traceback": [
        "\u001b[0;31m---------------------------------------------------------------------------\u001b[0m\n\u001b[0;31mNameError\u001b[0m                                 Traceback (most recent call last)",
        "\u001b[0;32m<ipython-input-34-5018ae276860>\u001b[0m in \u001b[0;36m<module>\u001b[0;34m()\u001b[0m\n\u001b[1;32m     59\u001b[0m     \u001b[0;31m#rs = [rfc_(X_obs,Y_obs['mean_std'],2,max_features=n) for n in ns]\u001b[0m\u001b[0;34m\u001b[0m\u001b[0;34m\u001b[0m\u001b[0m\n\u001b[1;32m     60\u001b[0m     \u001b[0;31m#plt.scatter(ns,rs)\u001b[0m\u001b[0;34m\u001b[0m\u001b[0;34m\u001b[0m\u001b[0m\n\u001b[0;32m---> 61\u001b[0;31m     \u001b[0mrfcs\u001b[0m\u001b[0;34m[\u001b[0m\u001b[0;36m2\u001b[0m\u001b[0;34m]\u001b[0m \u001b[0;34m=\u001b[0m \u001b[0mrfc_\u001b[0m\u001b[0;34m(\u001b[0m\u001b[0mX_obs\u001b[0m\u001b[0;34m,\u001b[0m\u001b[0mY_obs\u001b[0m\u001b[0;34m[\u001b[0m\u001b[0;34m'mean_std'\u001b[0m\u001b[0;34m]\u001b[0m\u001b[0;34m,\u001b[0m\u001b[0;36m2\u001b[0m\u001b[0;34m)\u001b[0m\u001b[0;34m\u001b[0m\u001b[0m\n\u001b[0m\u001b[1;32m     62\u001b[0m     \u001b[0;31m#ns = [1,3,10,30,100,300,1000,3000]\u001b[0m\u001b[0;34m\u001b[0m\u001b[0;34m\u001b[0m\u001b[0m\n\u001b[1;32m     63\u001b[0m     \u001b[0;31m#rs = {n:[] for n in ns}\u001b[0m\u001b[0;34m\u001b[0m\u001b[0;34m\u001b[0m\u001b[0m\n",
        "\u001b[0;31mNameError\u001b[0m: name 'rfcs' is not defined"
       ]
      },
      {
       "metadata": {},
       "output_type": "display_data",
       "png": "[encoded data removed]",
       "text": [
        "<matplotlib.figure.Figure at 0x11c696cf8>"
       ]
      }
     ],
     "prompt_number": 34
    },
    {
     "cell_type": "code",
     "collapsed": false,
     "input": [
      "np.zeros(10).reshape(-1,1).shape"
     ],
     "language": "python",
     "metadata": {},
     "outputs": [
      {
       "metadata": {},
       "output_type": "pyout",
       "prompt_number": 48,
       "text": [
        "(10, 1)"
       ]
      }
     ],
     "prompt_number": 48
    },
    {
     "cell_type": "code",
     "collapsed": false,
     "input": [
      "# Figure out for what value of a RandomForestRegressor parameter (e.g. max_features) the OOB correlation is maximized.  \n",
      "x = np.array(sorted(list(rs.keys())))\n",
      "for i in [1,3]:\n",
      "    y = []\n",
      "    for j in range(5):\n",
      "        y.append(np.array([rs[_][j][i]+rs[_][j][i+1] for _ in x]))\n",
      "    y = np.dstack(y)\n",
      "    y = np.mean(y,axis=2)\n",
      "    plt.figure()\n",
      "    plt.plot(x,y)\n",
      "    plt.xscale('log')\n",
      "    max_indices = y.argmax(axis=0)\n",
      "    print(x[max_indices])"
     ],
     "language": "python",
     "metadata": {},
     "outputs": [
      {
       "ename": "NameError",
       "evalue": "name 'rs' is not defined",
       "output_type": "pyerr",
       "traceback": [
        "\u001b[0;31m---------------------------------------------------------------------------\u001b[0m\n\u001b[0;31mNameError\u001b[0m                                 Traceback (most recent call last)",
        "\u001b[0;32m<ipython-input-50-5376fcf7e421>\u001b[0m in \u001b[0;36m<module>\u001b[0;34m()\u001b[0m\n\u001b[1;32m      1\u001b[0m \u001b[0;31m# Figure out for what value of a RandomForestRegressor parameter (e.g. max_features) the OOB correlation is maximized.\u001b[0m\u001b[0;34m\u001b[0m\u001b[0;34m\u001b[0m\u001b[0m\n\u001b[0;32m----> 2\u001b[0;31m \u001b[0mx\u001b[0m \u001b[0;34m=\u001b[0m \u001b[0mnp\u001b[0m\u001b[0;34m.\u001b[0m\u001b[0marray\u001b[0m\u001b[0;34m(\u001b[0m\u001b[0msorted\u001b[0m\u001b[0;34m(\u001b[0m\u001b[0mlist\u001b[0m\u001b[0;34m(\u001b[0m\u001b[0mrs\u001b[0m\u001b[0;34m.\u001b[0m\u001b[0mkeys\u001b[0m\u001b[0;34m(\u001b[0m\u001b[0;34m)\u001b[0m\u001b[0;34m)\u001b[0m\u001b[0;34m)\u001b[0m\u001b[0;34m)\u001b[0m\u001b[0;34m\u001b[0m\u001b[0m\n\u001b[0m\u001b[1;32m      3\u001b[0m \u001b[0;32mfor\u001b[0m \u001b[0mi\u001b[0m \u001b[0;32min\u001b[0m \u001b[0;34m[\u001b[0m\u001b[0;36m1\u001b[0m\u001b[0;34m,\u001b[0m\u001b[0;36m3\u001b[0m\u001b[0;34m]\u001b[0m\u001b[0;34m:\u001b[0m\u001b[0;34m\u001b[0m\u001b[0m\n\u001b[1;32m      4\u001b[0m     \u001b[0my\u001b[0m \u001b[0;34m=\u001b[0m \u001b[0;34m[\u001b[0m\u001b[0;34m]\u001b[0m\u001b[0;34m\u001b[0m\u001b[0m\n\u001b[1;32m      5\u001b[0m     \u001b[0;32mfor\u001b[0m \u001b[0mj\u001b[0m \u001b[0;32min\u001b[0m \u001b[0mrange\u001b[0m\u001b[0;34m(\u001b[0m\u001b[0;36m5\u001b[0m\u001b[0;34m)\u001b[0m\u001b[0;34m:\u001b[0m\u001b[0;34m\u001b[0m\u001b[0m\n",
        "\u001b[0;31mNameError\u001b[0m: name 'rs' is not defined"
       ]
      }
     ],
     "prompt_number": 50
    },
    {
     "cell_type": "code",
     "collapsed": false,
     "input": [
      "# Show that random forest regression also works really well out of sample.  \n",
      "\n",
      "def rfc_cv2(X,Y,subchallenge,max_features=1500,n_estimators=100,min_samples_leaf=1,rfc=True):\n",
      "    if rfc:\n",
      "        rfc = RandomForestRegressor(max_features=max_features,\n",
      "                                n_estimators=n_estimators,\n",
      "                                max_depth=None,\n",
      "                                min_samples_leaf=min_samples_leaf,\n",
      "                                oob_score=False,\n",
      "                                n_jobs=-1)\n",
      "    else:\n",
      "        rfc = ExtraTreesRegressor(max_features=max_features,\n",
      "                                n_estimators=n_estimators,\n",
      "                                max_depth=None,\n",
      "                                min_samples_leaf=min_samples_leaf,\n",
      "                                oob_score=False,\n",
      "                                n_jobs=-1)\n",
      "    test_size = 0.2\n",
      "    shuffle_split = ShuffleSplit(len(Y),10,test_size=test_size)\n",
      "    test_size *= len(Y)\n",
      "    rs = []\n",
      "    ps = []\n",
      "    scores = []\n",
      "    for train_index,test_index in shuffle_split:\n",
      "        rfc.fit(X[train_index],Y[train_index])\n",
      "        Y_predict1 = rfc.predict(X[test_index])[:,0]\n",
      "        Y_predict1 = np.array([f(xi) for xi in Y_predict1])\n",
      "        Y_predict2 = rfc.predict(X[test_index])[:,21]\n",
      "        Y_obs = Y[test_index][:,21]\n",
      "        r1,_ = pearsonr(Y_obs.ravel(),Y_predict1.ravel())\n",
      "        r2,_ = pearsonr(Y_obs.ravel(),Y_predict2.ravel())\n",
      "        rs.append((r1,r2))\n",
      "        print(r1,r2)\n",
      "        #ps.append(p)\n",
      "        #score = dream.score2(Y_predict,Y_obs)\n",
      "        #scores.append(score)\n",
      "        #print(score)\n",
      "    #print(\"For subchallenge %d, R = %.2f +/- %.2f, score = %.2f +/- %.2f\" % (subchallenge,\n",
      "    #                                                                 np.mean(rs),\n",
      "    #                                                                 np.std(rs)/np.sqrt(len(rs)),\n",
      "    #                                                                 np.mean(scores),\n",
      "    #                                                                 np.std(scores)/np.sqrt(len(scores))))\n",
      "    #scatter(range(len(scores)),sorted(scores),color='r')\n",
      "    #xlabel('Rank')\n",
      "    #ylabel('Score')\n",
      "    return np.mean(list(zip(*rs))[0]),np.mean(list(zip(*rs))[1])\n",
      "    \n",
      "if 2 in subchallenges:\n",
      "    plt.subplot(1,2,2)\n",
      "    #ns = [1,2,4,8,16,32,64]#ns = [500,1000,2000,X_obs.shape[1]]#30,100,300,700,1000,2000,3000,X_obs.shape[1]]\n",
      "    #rs = [rfc_cv2(X_obs,Y_obs['mean_std'],2,min_samples_leaf=n,rfc=True) for n in ns]\n",
      "    rfc_cv2(X_obs,Y_obs['mean_std'],2,rfc=True)\n",
      "    #plt.scatter(ns,rs)"
     ],
     "language": "python",
     "metadata": {},
     "outputs": [
      {
       "output_type": "stream",
       "stream": "stdout",
       "text": [
        "0.233370546578 0.0771133040101\n",
        "0.137379561425"
       ]
      },
      {
       "output_type": "stream",
       "stream": "stdout",
       "text": [
        " 0.0372854100051\n",
        "0.168328732246"
       ]
      },
      {
       "output_type": "stream",
       "stream": "stdout",
       "text": [
        " 0.0882849692461\n",
        "0.193595221999"
       ]
      },
      {
       "output_type": "stream",
       "stream": "stdout",
       "text": [
        " 0.0391461363146\n",
        "0.22165541855"
       ]
      },
      {
       "output_type": "stream",
       "stream": "stdout",
       "text": [
        " 0.10956167973\n",
        "0.178662376695"
       ]
      },
      {
       "output_type": "stream",
       "stream": "stdout",
       "text": [
        " 0.147024007668\n",
        "0.298469320729"
       ]
      },
      {
       "output_type": "stream",
       "stream": "stdout",
       "text": [
        " 0.256430426982\n",
        "0.363475255079"
       ]
      },
      {
       "output_type": "stream",
       "stream": "stdout",
       "text": [
        " 0.194015976303\n",
        "0.25818010384"
       ]
      },
      {
       "output_type": "stream",
       "stream": "stdout",
       "text": [
        " 0.161789838587\n",
        "0.163482000393"
       ]
      },
      {
       "output_type": "stream",
       "stream": "stdout",
       "text": [
        " -0.0740578603139\n"
       ]
      },
      {
       "ename": "TypeError",
       "evalue": "'zip' object is not subscriptable",
       "output_type": "pyerr",
       "traceback": [
        "\u001b[0;31m---------------------------------------------------------------------------\u001b[0m\n\u001b[0;31mTypeError\u001b[0m                                 Traceback (most recent call last)",
        "\u001b[0;32m<ipython-input-42-80bec543d1ae>\u001b[0m in \u001b[0;36m<module>\u001b[0;34m()\u001b[0m\n\u001b[1;32m     50\u001b[0m     \u001b[0;31m#ns = [1,2,4,8,16,32,64]#ns = [500,1000,2000,X_obs.shape[1]]#30,100,300,700,1000,2000,3000,X_obs.shape[1]]\u001b[0m\u001b[0;34m\u001b[0m\u001b[0;34m\u001b[0m\u001b[0m\n\u001b[1;32m     51\u001b[0m     \u001b[0;31m#rs = [rfc_cv2(X_obs,Y_obs['mean_std'],2,min_samples_leaf=n,rfc=True) for n in ns]\u001b[0m\u001b[0;34m\u001b[0m\u001b[0;34m\u001b[0m\u001b[0m\n\u001b[0;32m---> 52\u001b[0;31m     \u001b[0mrfc_cv2\u001b[0m\u001b[0;34m(\u001b[0m\u001b[0mX_obs\u001b[0m\u001b[0;34m,\u001b[0m\u001b[0mY_obs\u001b[0m\u001b[0;34m[\u001b[0m\u001b[0;34m'mean_std'\u001b[0m\u001b[0;34m]\u001b[0m\u001b[0;34m,\u001b[0m\u001b[0;36m2\u001b[0m\u001b[0;34m,\u001b[0m\u001b[0mrfc\u001b[0m\u001b[0;34m=\u001b[0m\u001b[0;32mTrue\u001b[0m\u001b[0;34m)\u001b[0m\u001b[0;34m\u001b[0m\u001b[0m\n\u001b[0m\u001b[1;32m     53\u001b[0m     \u001b[0;31m#plt.scatter(ns,rs)\u001b[0m\u001b[0;34m\u001b[0m\u001b[0;34m\u001b[0m\u001b[0m\n",
        "\u001b[0;32m<ipython-input-42-80bec543d1ae>\u001b[0m in \u001b[0;36mrfc_cv2\u001b[0;34m(X, Y, subchallenge, max_features, n_estimators, min_samples_leaf, rfc)\u001b[0m\n\u001b[1;32m     44\u001b[0m     \u001b[0;31m#xlabel('Rank')\u001b[0m\u001b[0;34m\u001b[0m\u001b[0;34m\u001b[0m\u001b[0m\n\u001b[1;32m     45\u001b[0m     \u001b[0;31m#ylabel('Score')\u001b[0m\u001b[0;34m\u001b[0m\u001b[0;34m\u001b[0m\u001b[0m\n\u001b[0;32m---> 46\u001b[0;31m     \u001b[0;32mreturn\u001b[0m \u001b[0mnp\u001b[0m\u001b[0;34m.\u001b[0m\u001b[0mmean\u001b[0m\u001b[0;34m(\u001b[0m\u001b[0mzip\u001b[0m\u001b[0;34m(\u001b[0m\u001b[0;34m*\u001b[0m\u001b[0mrs\u001b[0m\u001b[0;34m)\u001b[0m\u001b[0;34m[\u001b[0m\u001b[0;36m0\u001b[0m\u001b[0;34m]\u001b[0m\u001b[0;34m)\u001b[0m\u001b[0;34m,\u001b[0m\u001b[0mnp\u001b[0m\u001b[0;34m.\u001b[0m\u001b[0mmean\u001b[0m\u001b[0;34m(\u001b[0m\u001b[0mzip\u001b[0m\u001b[0;34m(\u001b[0m\u001b[0;34m*\u001b[0m\u001b[0mrs\u001b[0m\u001b[0;34m)\u001b[0m\u001b[0;34m[\u001b[0m\u001b[0;36m1\u001b[0m\u001b[0;34m]\u001b[0m\u001b[0;34m)\u001b[0m\u001b[0;34m\u001b[0m\u001b[0m\n\u001b[0m\u001b[1;32m     47\u001b[0m \u001b[0;34m\u001b[0m\u001b[0m\n\u001b[1;32m     48\u001b[0m \u001b[0;32mif\u001b[0m \u001b[0;36m2\u001b[0m \u001b[0;32min\u001b[0m \u001b[0msubchallenges\u001b[0m\u001b[0;34m:\u001b[0m\u001b[0;34m\u001b[0m\u001b[0m\n",
        "\u001b[0;31mTypeError\u001b[0m: 'zip' object is not subscriptable"
       ]
      },
      {
       "metadata": {},
       "output_type": "display_data",
       "png": "[encoded data removed]",
       "text": [
        "<matplotlib.figure.Figure at 0x12443fc50>"
       ]
      }
     ],
     "prompt_number": 42
    },
    {
     "cell_type": "heading",
     "level": 3,
     "metadata": {},
     "source": [
      "Generate what is needed to make the output files"
     ]
    },
    {
     "cell_type": "code",
     "collapsed": false,
     "input": [
      "rfcs[2]"
     ],
     "language": "python",
     "metadata": {},
     "outputs": [
      {
       "metadata": {},
       "output_type": "pyout",
       "prompt_number": 38,
       "text": [
        "([RandomForestRegressor(bootstrap=True, compute_importances=None,\n",
        "             criterion='mse', max_depth=None, max_features=None,\n",
        "             max_leaf_nodes=None, min_density=None, min_samples_leaf=1,\n",
        "             min_samples_split=2, n_estimators=1000, n_jobs=-1,\n",
        "             oob_score=True, random_state=None, verbose=0),\n",
        "  RandomForestRegressor(bootstrap=True, compute_importances=None,\n",
        "             criterion='mse', max_depth=None, max_features=60,\n",
        "             max_leaf_nodes=None, min_density=None, min_samples_leaf=1,\n",
        "             min_samples_split=2, n_estimators=1000, n_jobs=-1,\n",
        "             oob_score=True, random_state=None, verbose=0),\n",
        "  RandomForestRegressor(bootstrap=True, compute_importances=None,\n",
        "             criterion='mse', max_depth=None, max_features=700,\n",
        "             max_leaf_nodes=None, min_density=None, min_samples_leaf=1,\n",
        "             min_samples_split=2, n_estimators=1000, n_jobs=-1,\n",
        "             oob_score=True, random_state=None, verbose=0),\n",
        "  RandomForestRegressor(bootstrap=True, compute_importances=None,\n",
        "             criterion='mse', max_depth=None, max_features=None,\n",
        "             max_leaf_nodes=None, min_density=None, min_samples_leaf=16,\n",
        "             min_samples_split=2, n_estimators=1000, n_jobs=-1,\n",
        "             oob_score=True, random_state=None, verbose=0),\n",
        "  RandomForestRegressor(bootstrap=True, compute_importances=None,\n",
        "             criterion='mse', max_depth=None, max_features=None,\n",
        "             max_leaf_nodes=None, min_density=None, min_samples_leaf=1,\n",
        "             min_samples_split=2, n_estimators=1000, n_jobs=-1,\n",
        "             oob_score=True, random_state=None, verbose=0),\n",
        "  RandomForestRegressor(bootstrap=True, compute_importances=None,\n",
        "             criterion='mse', max_depth=None, max_features=None,\n",
        "             max_leaf_nodes=None, min_density=None, min_samples_leaf=1,\n",
        "             min_samples_split=2, n_estimators=1000, n_jobs=-1,\n",
        "             oob_score=True, random_state=None, verbose=0)],\n",
        " [0.66515165695765444,\n",
        "  0.67004756650005359,\n",
        "  0.54103705556745663,\n",
        "  0.17193646000342669,\n",
        "  0.58142227320871032,\n",
        "  0.44378515015534259],\n",
        " [0.70470577189862349,\n",
        "  0.71109668005886728,\n",
        "  0.69060314097081055,\n",
        "  0.51196056022431047,\n",
        "  0.69644889030037316,\n",
        "  0.4484243048817233,\n",
        "  0.52253200935375921,\n",
        "  0.55539033229669121,\n",
        "  0.6112395417252533,\n",
        "  0.47461508950289738,\n",
        "  0.44953633387039121,\n",
        "  0.43822280820201071,\n",
        "  0.50356165251984786,\n",
        "  0.41295998791549404,\n",
        "  0.6515851505870951,\n",
        "  0.39217741213769064,\n",
        "  0.31324483396010133,\n",
        "  0.567087456798404,\n",
        "  0.62431209857733028,\n",
        "  0.38628528397917183,\n",
        "  0.55097684907314315,\n",
        "  0.57278955368243378,\n",
        "  0.46842919184370913,\n",
        "  0.54831359947374247,\n",
        "  0.45172366938519803,\n",
        "  0.47842401377859345,\n",
        "  0.43502618253167941,\n",
        "  0.494444282488813,\n",
        "  0.49886258923449223,\n",
        "  0.40205037228469309,\n",
        "  0.35473959650587372,\n",
        "  0.38278158792669181,\n",
        "  0.43112194348062849,\n",
        "  0.45152032936368353,\n",
        "  0.31071463106221564,\n",
        "  0.18464300350230012,\n",
        "  0.43987698368440603,\n",
        "  0.58919418967004067])"
       ]
      }
     ],
     "prompt_number": 38
    },
    {
     "cell_type": "code",
     "collapsed": false,
     "input": [
      "CID_dilutions_leaderboard = dream.test_CIDs('leaderboard')\n",
      "#CIDs_testset = dream.testset_CIDs()"
     ],
     "language": "python",
     "metadata": {},
     "outputs": [],
     "prompt_number": 61
    },
    {
     "cell_type": "code",
     "collapsed": false,
     "input": [
      "# Compute molecular descriptor vectors for the molecules in the leaderboard sample.  \n",
      "CIDs_leaderboard = [int(CID_dilution.split('_')[0]) for CID_dilution in CID_dilutions_leaderboard]\n",
      "CID_dilutions_leaderboard_intensity = [CID_dilution.split('_')[0]+'_-3' for CID_dilution in CID_dilutions_leaderboard]\n",
      "\n",
      "molecular_vectors = dream.get_molecular_vectors(molecular_data,CIDs_leaderboard)\n",
      "\n",
      "molecular_vectors_intensity = add_dilutions(molecular_vectors,CID_dilutions_leaderboard_intensity)\n",
      "molecular_vectors = add_dilutions(molecular_vectors,CID_dilutions_leaderboard)"
     ],
     "language": "python",
     "metadata": {},
     "outputs": [
      {
       "output_type": "stream",
       "stream": "stdout",
       "text": [
        "There are now 69 molecular vectors of length 4870, one for each molecule and dilution\n",
        "There are now 69 molecular vectors of length 4870, one for each molecule and dilution\n"
       ]
      }
     ],
     "prompt_number": 62
    },
    {
     "cell_type": "code",
     "collapsed": false,
     "input": [
      "X_leaderboard = build_X(molecular_vectors)\n",
      "X_leaderboard = X_leaderboard[:,good1_molecular_descriptors]\n",
      "X_leaderboard = impute_X(X_leaderboard)\n",
      "X_leaderboard = X_leaderboard[:,good2_molecular_descriptors]\n",
      "X_leaderboard,_,_ = normalize_X(X_leaderboard,means=X_means,stds=X_stds)\n",
      "print(\"The X matrix now has shape (%dx%d) molecules by non-NaN good molecular descriptors\" % X_leaderboard.shape)\n",
      "\n",
      "X_leaderboard_intensity = build_X(molecular_vectors_intensity)\n",
      "X_leaderboard_intensity = X_leaderboard_intensity[:,good1_molecular_descriptors]\n",
      "X_leaderboard_intensity = impute_X(X_leaderboard_intensity)\n",
      "X_leaderboard_intensity = X_leaderboard_intensity[:,good2_molecular_descriptors]\n",
      "X_leaderboard_intensity,_,_ = normalize_X(X_leaderboard_intensity,means=X_means,stds=X_stds)\n",
      "print(\"The X matrix now has shape (%dx%d) molecules by non-NaN good molecular descriptors\" % X_leaderboard.shape)"
     ],
     "language": "python",
     "metadata": {},
     "outputs": [
      {
       "output_type": "stream",
       "stream": "stdout",
       "text": [
        "The X matrix has shape (69x4870) (molecules by molecular descriptors)\n",
        "The X matrix now has shape (69x4870) (molecules by non-NaN good molecular descriptors)\n",
        "The X matrix now has shape (69x3032) molecules by non-NaN good molecular descriptors\n",
        "The X matrix has shape (69x4870) (molecules by molecular descriptors)\n",
        "The X matrix now has shape (69x4870) (molecules by non-NaN good molecular descriptors)\n",
        "The X matrix now has shape (69x3032) molecules by non-NaN good molecular descriptors\n"
       ]
      }
     ],
     "prompt_number": 63
    },
    {
     "cell_type": "code",
     "collapsed": false,
     "input": [
      "Y_leaderboard = {'subject':{'mean':0}}\n",
      "if 1 in subchallenges:\n",
      "    regularize = 0.8\n",
      "    y_list = [rfcs[1][subject].predict(X_leaderboard) for subject in range(1,num_subjects+1)]\n",
      "    Y_leaderboard['subject']['mean'] = np.mean(np.dstack(y_list),axis=2)\n",
      "    for subject in range(1,num_subjects+1):\n",
      "        Y_leaderboard['subject'][subject] = (1-regularize)*rfcs[1][subject].predict(X_leaderboard) \\\n",
      "                                          + regularize*Y_leaderboard['subject']['mean']\n",
      "    del Y_leaderboard['subject']['mean']\n",
      "    y_list = [rfcs[1][subject].predict(X_leaderboard_intensity) for subject in range(1,num_subjects+1)]\n",
      "    Y_leaderboard['subject']['mean'] = np.mean(np.dstack(y_list),axis=2)\n",
      "    for subject in range(1,num_subjects+1):\n",
      "        Y_leaderboard['subject'][subject][:,0] = (1-regularize)*rfcs[1][subject].predict(X_leaderboard_intensity)[:,0] \\\n",
      "                                          + regularize*Y_leaderboard['subject']['mean'][:,0]\n",
      "if 2 in subchallenges:\n",
      "    if type(rfcs[2])==tuple:\n",
      "        Y_leaderboard['mean_std'] = rfcs[2][0][0].predict(X_leaderboard_intensity)\n",
      "        Y_leaderboard['mean_std'][:,1] = rfcs[2][0][1].predict(X_leaderboard)[:,1]\n",
      "        Y_leaderboard['mean_std'][:,2:21] = rfcs[2][0][2].predict(X_leaderboard)[:,2:21]\n",
      "        Y_leaderboard['mean_std'][:,21] = rfcs[2][0][3].predict(X_leaderboard_intensity)[:,21]\n",
      "        Y_leaderboard['mean_std'][:,22] = rfcs[2][0][4].predict(X_leaderboard)[:,22]\n",
      "        Y_leaderboard['mean_std'][:,23:42] = rfcs[2][0][5].predict(X_leaderboard)[:,23:42]\n",
      "    else:\n",
      "        Y_leaderboard['mean_std'] = rfcs[2].predict(X_leaderboard)\n",
      "        Y_leaderboard['mean_std'][:,[0,21]] = rfcs[2].predict(X_leaderboard_intensity)[:,[0,21]]"
     ],
     "language": "python",
     "metadata": {},
     "outputs": [],
     "prompt_number": 89
    },
    {
     "cell_type": "code",
     "collapsed": false,
     "input": [
      "rfcs[2][0][0].predict(X_leaderboard)"
     ],
     "language": "python",
     "metadata": {},
     "outputs": [
      {
       "metadata": {},
       "output_type": "pyout",
       "prompt_number": 90,
       "text": [
        "array([[ 31.85761224,  43.53593878,   2.75797959, ...,   7.59176307,\n",
        "         11.82398344,  19.29138595],\n",
        "       [ 26.34328571,  41.91678571,   2.15984694, ...,   9.36176238,\n",
        "          9.92054665,  18.66558671],\n",
        "       [ 69.14132653,  43.65756122,   4.98682653, ...,   9.1026662 ,\n",
        "         15.65628492,  28.51835306],\n",
        "       ..., \n",
        "       [ 60.92426531,  55.27066327,  11.83759184, ...,  10.2159641 ,\n",
        "         17.76863646,  21.36695329],\n",
        "       [ 40.75393878,  50.91156122,   1.5727551 , ...,  11.48904667,\n",
        "         23.10474025,  24.56005624],\n",
        "       [ 55.61904082,  50.17364286,   3.21615306, ...,  11.85654307,\n",
        "         19.08169248,  25.02041135]])"
       ]
      }
     ],
     "prompt_number": 90
    },
    {
     "cell_type": "code",
     "collapsed": false,
     "input": [
      "#y_obs = np.dstack([Y_obs['subject'][subject] for subject in range(1,num_subjects+1)])\n",
      "#y_pred = np.dstack([Y_leaderboard['subject'][subject] for subject in range(1,num_subjects+1)])\n",
      "#dream.score(y_obs,y_pred),dream.score2(Y_obs['mean_std'],Y_leaderboard['mean_std'])"
     ],
     "language": "python",
     "metadata": {},
     "outputs": [],
     "prompt_number": 91
    },
    {
     "cell_type": "code",
     "collapsed": false,
     "input": [
      "# Write predictions for each subchallenge to a file.  \n",
      "import csv\n",
      "def open_prediction_file(subchallenge,name=''):\n",
      "    f = open('submission_challenge%d_%s.txt' % (subchallenge,name),'w')\n",
      "    writer = csv.writer(f,delimiter='\\t')\n",
      "    return f,writer\n",
      "\n",
      "def write_prediction_files(name=''):\n",
      "    # Subchallenge 1.\n",
      "    if 1 in subchallenges:\n",
      "        Y = Y_leaderboard['subject']\n",
      "        f,writer = open_prediction_file(1,name=name)\n",
      "        writer.writerow([\"#oID\",\"individual\",\"descriptor\",\"value\"])\n",
      "        for subject in range(1,num_subjects+1):\n",
      "            for j in range(num_descriptors):\n",
      "                for i,CID_dilution in enumerate(CID_dilutions_leaderboard):\n",
      "                    descriptor = perceptual_headers[-num_descriptors:][j]\n",
      "                    value = Y[subject][i,j].round(3)\n",
      "                    writer.writerow([CID_dilution.split('_')[0],subject,descriptor,value])\n",
      "        f.close()\n",
      "\n",
      "    # Subchallenge 2.\n",
      "    if 2 in subchallenges:\n",
      "        Y = Y_leaderboard['mean_std']\n",
      "        f,writer = open_prediction_file(2,name=name)\n",
      "        writer.writerow([\"#oID\",\"descriptor\",\"value\",\"sigma\"])\n",
      "        for j in range(num_descriptors):\n",
      "            for i,CID_dilution in enumerate(CID_dilutions_leaderboard):\n",
      "                descriptor = perceptual_headers[-num_descriptors:][j]\n",
      "                value = Y[i,j].round(3)\n",
      "                sigma = Y[i,j+num_descriptors].round(3)\n",
      "                writer.writerow([CID_dilution.split('_')[0],descriptor,value,sigma])\n",
      "        f.close()\n",
      "        \n",
      "write_prediction_files()\n",
      "Y = None"
     ],
     "language": "python",
     "metadata": {},
     "outputs": [],
     "prompt_number": 74
    },
    {
     "cell_type": "heading",
     "level": 3,
     "metadata": {},
     "source": [
      "Extras"
     ]
    },
    {
     "cell_type": "code",
     "collapsed": false,
     "input": [
      "#regs = np.linspace(0.3,1,25)\n",
      "def pred_obs_stack():\n",
      "    predicted_ = []\n",
      "    observed_ = []\n",
      "    for subject,rfc in rfcs[1].items():\n",
      "        predicted = rfc.predict(X_obs)\n",
      "        predicted = rfc.oob_prediction_\n",
      "        predicted_.append(predicted)\n",
      "        observed_.append(Y_obs['subject'][subject])\n",
      "    predicted = np.dstack(predicted_)\n",
      "    observed = np.dstack(observed_)\n",
      "    return predicted,observed\n",
      "\n",
      "predicted,observed = pred_obs_stack()"
     ],
     "language": "python",
     "metadata": {},
     "outputs": [],
     "prompt_number": 62
    },
    {
     "cell_type": "code",
     "collapsed": false,
     "input": [
      "def reg_score(regularize,predicted,observed):\n",
      "    p = predicted.copy()\n",
      "    o = observed.copy()\n",
      "    p_mean0 = np.mean(p,axis=0,keepdims=True)\n",
      "    p_mean1 = np.mean(p,axis=1,keepdims=True)\n",
      "    p_mean2 = np.mean(p,axis=2,keepdims=True)\n",
      "    p[:,0,:] = regularize[0]*(p_mean2[:,0,:])+(1-regularize[0])*p[:,0,:]\n",
      "    p[:,1,:] = regularize[1]*(p_mean2[:,1,:])+(1-regularize[1])*p[:,1,:]\n",
      "    p[:,2:,:] = regularize[2]*(p_mean2[:,2:,:])+(1-regularize[2])*p[:,2:,:]\n",
      "    score = dream.score(p,o,n_subjects=len(rfcs[1]))\n",
      "    r_int = dream.r('int',p,o)\n",
      "    r_ple = dream.r('ple',p,o)\n",
      "    r_dec = dream.r('dec',p,o)\n",
      "    return (r_int,r_ple,r_dec,score)\n",
      "    \n",
      "x = np.linspace(0,1,20)\n",
      "y_int = [reg_score([xi,0,0],predicted,observed)[0] for xi in x]\n",
      "y_ple = [reg_score([0,xi,0],predicted,observed)[1] for xi in x]\n",
      "y_dec = [reg_score([0,0,xi],predicted,observed)[2] for xi in x]\n",
      "plt.plot(x,y_int,'r')\n",
      "plt.plot(x,y_ple,'b')\n",
      "plt.plot(x,y_dec,'k')\n",
      "print(reg_score([0.8,0.7,0.8],predicted,observed)[3])\n",
      "#from scipy.optimize import fmin_tnc\n",
      "#fmin_tnc(reg_score,(0.8),bounds=[(0.0,1.0)],approx_grad=True)"
     ],
     "language": "python",
     "metadata": {},
     "outputs": [
      {
       "output_type": "stream",
       "stream": "stdout",
       "text": [
        "29.436920657\n"
       ]
      },
      {
       "metadata": {},
       "output_type": "display_data",
       "png": "[encoded data removed]",
       "text": [
        "<matplotlib.figure.Figure at 0x111fc8a58>"
       ]
      }
     ],
     "prompt_number": 65
    },
    {
     "cell_type": "code",
     "collapsed": false,
     "input": [
      "rfc = RandomForestRegressor(max_features=None,\n",
      "                                n_estimators=250,\n",
      "                                max_depth=None,\n",
      "                                min_samples_leaf=1,\n",
      "                                n_jobs=1,\n",
      "                                oob_score=False)\n",
      "n_molecules = len(Y_obs['mean_std'])\n",
      "shuffle_split = ShuffleSplit(n_molecules,2,test_size=0.2)\n",
      "grid = GridSearchCV(rfc,{'n_estimators':[10,200]}, scoring=dream.scorer2, cv=shuffle_split, n_jobs=-1, verbose=1)\n",
      "#grid.fit(X_obs,Y_obs['mean_std']) # Find best parameters for random forest.  "
     ],
     "language": "python",
     "metadata": {},
     "outputs": [],
     "prompt_number": 36
    },
    {
     "cell_type": "code",
     "collapsed": false,
     "input": [
      "# Show that random forest regrssion also works really well out of sample.  \n",
      "from sklearn.cross_validation import ShuffleSplit,cross_val_score\n",
      "def rfc_cv1(X,Y,subchallenge,max_features=1500,n_estimators=75,regularize=0.8,Y_obs_mean_std=None):\n",
      "    test_size = 0.2\n",
      "    n_molecules = X.shape[0]\n",
      "    shuffle_split = ShuffleSplit(n_molecules,3,test_size=test_size)\n",
      "    test_size *= n_molecules\n",
      "    rfcs = {}\n",
      "    n_subjects = 49\n",
      "    for subject in range(1,n_subjects+1):\n",
      "        rfc = RandomForestRegressor(max_features=max_features,\n",
      "                                    n_estimators=n_estimators,\n",
      "                                    max_depth=None,\n",
      "                                    oob_score=False,\n",
      "                                    n_jobs=-1,\n",
      "                                    random_state=0)\n",
      "        rfcs[subject] = rfc\n",
      "    scores = []\n",
      "    rs = []\n",
      "    ps = []\n",
      "    for train_index,test_index in shuffle_split:\n",
      "        Y_obs_list = []\n",
      "        Y_predict_list = []\n",
      "        rs_=[]\n",
      "        for subject in range(1,n_subjects+1):\n",
      "            rfc = rfcs[subject]\n",
      "            X_train = X[train_index]\n",
      "            Y_train = Y[subject][train_index]\n",
      "            rfc.fit(X_train,Y_train)\n",
      "            X_test = X[test_index]\n",
      "            Y_predict = rfc.predict(X_test)\n",
      "            Y_obs = Y[subject][test_index]\n",
      "            r,p = pearsonr(Y_predict.ravel(),Y_obs.ravel())\n",
      "            rs_.append(r)\n",
      "            ps.append(p)\n",
      "            #print(\"Subject %d, r=%.2f\" % (subject,r))\n",
      "            Y_obs_list.append(Y_obs)\n",
      "            Y_predict_list.append(Y_predict)\n",
      "        rs.append(np.mean(rs_))\n",
      "        Y_obs = np.dstack(Y_obs_list)\n",
      "        Y_predict = np.dstack(Y_predict_list)\n",
      "        Y_predict_mean = np.mean(Y_predict,axis=2)\n",
      "        Y_predict_mean_ = np.dstack([Y_predict_mean for _ in range(n_subjects)])\n",
      "        Y_predict = regularize*(Y_predict_mean_) + (1-regularize)*Y_predict\n",
      "        score = dream.score(Y_predict,Y_obs)\n",
      "        print(score)\n",
      "        scores.append(score)\n",
      "            \n",
      "    print(\"For subchallenge %d, R = %.2f +/- %.2f, score = %.2f +/- %.2f\" % (subchallenge,\n",
      "                                                                     np.mean(rs),\n",
      "                                                                     np.std(rs)/np.sqrt(len(rs)),\n",
      "                                                                     np.mean(scores),\n",
      "                                                                     np.std(scores)/np.sqrt(len(scores))))\n",
      "    #scatter(range(len(scores)),sorted(scores),color='r')\n",
      "    #xlabel('Rank')\n",
      "    #ylabel('Score')\n",
      "    return np.mean(scores)\n",
      "    \n",
      "ns = [0,0.25,0.5,0.75,1]\n",
      "if 1 in subchallenges:\n",
      "    #rfc_cv2(X_obs,Y_obs['mean_std'],2)\n",
      "    #rfc_cv1(X_obs,Y_obs['subject'],1)\n",
      "    pass#plt.subplot(1,2,1)\n",
      "    #scores = [rfc_cv(X_obs,Y_obs['subject'],1,max_ for n in ns]\n",
      "    #plt.scatter(ns,scores)"
     ],
     "language": "python",
     "metadata": {},
     "outputs": [],
     "prompt_number": 39
    },
    {
     "cell_type": "code",
     "collapsed": false,
     "input": [
      "from sklearn.decomposition import PCA"
     ],
     "language": "python",
     "metadata": {},
     "outputs": [],
     "prompt_number": 38
    },
    {
     "cell_type": "code",
     "collapsed": false,
     "input": [
      "pca = PCA(n_components=100)"
     ],
     "language": "python",
     "metadata": {},
     "outputs": [],
     "prompt_number": 58
    },
    {
     "cell_type": "code",
     "collapsed": false,
     "input": [
      "pca.fit_transform(X_obs).shape"
     ],
     "language": "python",
     "metadata": {},
     "outputs": [
      {
       "metadata": {},
       "output_type": "pyout",
       "prompt_number": 59,
       "text": [
        "(676, 100)"
       ]
      }
     ],
     "prompt_number": 59
    },
    {
     "cell_type": "code",
     "collapsed": false,
     "input": [
      "plt.plot(pca.explained_variance_ratio_.cumsum())"
     ],
     "language": "python",
     "metadata": {},
     "outputs": [
      {
       "metadata": {},
       "output_type": "pyout",
       "prompt_number": 60,
       "text": [
        "[<matplotlib.lines.Line2D at 0x1191a73c8>]"
       ]
      },
      {
       "metadata": {},
       "output_type": "display_data",
       "png": "[encoded data removed]",
       "text": [
        "<matplotlib.figure.Figure at 0x11c632320>"
       ]
      }
     ],
     "prompt_number": 60
    },
    {
     "cell_type": "code",
     "collapsed": false,
     "input": [
      "y_ = np.dstack(Y_obs['subject'].values())/100.0\n",
      "y_[np.where(y_==0)] = 0.001\n",
      "y_[np.where(y_==1)] = 0.999\n",
      "#y_ = np.log(y_/(1-y_))\n",
      "y_mask = np.zeros(y_.shape)\n",
      "y_mask[np.where(np.isnan(y_))] = 1\n",
      "y_ = np.ma.array(y_,mask=y_mask)\n",
      "y_mean = np.mean(y_,axis=2)\n",
      "y_std = np.std(y_,axis=2)"
     ],
     "language": "python",
     "metadata": {},
     "outputs": [
      {
       "output_type": "stream",
       "stream": "stderr",
       "text": [
        "/Users/rgerkin/Dropbox/python3/lib/python3.4/site-packages/numpy/ma/core.py:785: RuntimeWarning: invalid value encountered in greater_equal\n",
        "  return umath.absolute(a) * self.tolerance >= umath.absolute(b)\n"
       ]
      }
     ],
     "prompt_number": 38
    },
    {
     "cell_type": "code",
     "collapsed": false,
     "input": [
      "from scipy.optimize import curve_fit\n",
      "x = y_mean[:,0]\n",
      "y = y_std[:,0]\n",
      "def f(x,k0,k1):\n",
      "    return k0*x**(k1*0.5) - k0*x**(k1*2)\n",
      "k0,k1=curve_fit(f,x,y,p0=[0.7,1],maxfev=10000)[0]\n",
      "print(k0,k1)\n",
      "plt.scatter(x,y,label='Data')\n",
      "x_ = np.linspace(0,1.0,100)\n",
      "plt.plot(x_,f(x_,k0,k1),color='r',linewidth=3,label='Fit')\n",
      "plt.xlabel('Intensity Mean')\n",
      "plt.ylabel('Intensity StDev')\n",
      "plt.legend()\n",
      "plt.figure()\n",
      "plt.scatter(x,y-f(x,k0,k1))\n",
      "def f(x):\n",
      "    return 100*(k0*(x/100)**(k1*0.5) - k0*(x/100)**(k1*2))"
     ],
     "language": "python",
     "metadata": {},
     "outputs": [
      {
       "output_type": "stream",
       "stream": "stdout",
       "text": [
        "0.709844482644 1.08079577199\n"
       ]
      },
      {
       "metadata": {},
       "output_type": "display_data",
       "png": "[encoded data removed]",
       "text": [
        "<matplotlib.figure.Figure at 0x11df6bf28>"
       ]
      },
      {
       "metadata": {},
       "output_type": "display_data",
       "png": "[encoded data removed]",
       "text": [
        "<matplotlib.figure.Figure at 0x1d65a7c18>"
       ]
      }
     ],
     "prompt_number": 69
    },
    {
     "cell_type": "code",
     "collapsed": false,
     "input": [
      "from scipy.optimize import curve_fit\n",
      "x = y_mean[:,1]\n",
      "y = y_std[:,1]\n",
      "def f(x,k0,k1):\n",
      "    return k0*x**(k1*0.5) - k0*x**(k1*2)\n",
      "k0,k1=curve_fit(f,x,y,p0=[0.7,1])[0]\n",
      "print(k0,k1)\n",
      "plt.scatter(x,y,label='Data')\n",
      "x_ = np.linspace(0,1.0,100)\n",
      "plt.plot(x_,f(x_,k0,k1),color='r',linewidth=3,label='Fit')\n",
      "plt.xlabel('Pleasantness Mean')\n",
      "plt.ylabel('Pleasantness StDev')\n",
      "plt.legend()\n",
      "plt.legend()\n",
      "plt.figure()\n",
      "plt.scatter(x,y-f(x,k0,k1))\n",
      "def f(x):\n",
      "    return k0*x**k2 + k1*x**k3"
     ],
     "language": "python",
     "metadata": {},
     "outputs": [
      {
       "output_type": "stream",
       "stream": "stdout",
       "text": [
        "0.631872938756 1.03100929222\n"
       ]
      },
      {
       "metadata": {},
       "output_type": "display_data",
       "png": "[encoded data removed]",
       "text": [
        "<matplotlib.figure.Figure at 0x11bdf4e10>"
       ]
      },
      {
       "metadata": {},
       "output_type": "display_data",
       "png": "[encoded data removed]",
       "text": [
        "<matplotlib.figure.Figure at 0x11232a9b0>"
       ]
      }
     ],
     "prompt_number": 55
    },
    {
     "cell_type": "code",
     "collapsed": false,
     "input": [
      "from scipy.optimize import curve_fit\n",
      "x = y_mean[:,2:21].ravel()\n",
      "y = y_std[:,2:21].ravel()\n",
      "def f(x,k0,k1):\n",
      "    return k0*x**(k1*0.5) - k0*x**(k1*2)\n",
      "k0,k1=curve_fit(f,x,y,p0=[0.7,1])[0]\n",
      "print(k0,k1)\n",
      "plt.scatter(x,y,label='Data')#Y_obs['mean_std'][:,0],Y_obs['mean_std'][:,21])\n",
      "x_ = np.linspace(0,1.0,100)\n",
      "plt.plot(x_,f(x_,k0,k1),color='r',linewidth=3,label='Fit')\n",
      "plt.xlabel('Other Descriptors Mean')\n",
      "plt.ylabel('Other Descriptors StDev')\n",
      "plt.legend()\n",
      "plt.legend()\n",
      "plt.figure()\n",
      "plt.scatter(x,y-f(x,k0,k1))\n",
      "#def f(x):\n",
      "#    return k0*x**k2 + k1*x**k3"
     ],
     "language": "python",
     "metadata": {},
     "outputs": [
      {
       "output_type": "stream",
       "stream": "stdout",
       "text": [
        "0.846232759807 1.13758313625\n"
       ]
      },
      {
       "metadata": {},
       "output_type": "pyout",
       "prompt_number": 56,
       "text": [
        "<matplotlib.collections.PathCollection at 0x111f10a58>"
       ]
      },
      {
       "metadata": {},
       "output_type": "display_data",
       "png": "[encoded data removed]",
       "text": [
        "<matplotlib.figure.Figure at 0x11224d588>"
       ]
      },
      {
       "metadata": {},
       "output_type": "display_data",
       "png": "[encoded data removed]",
       "text": [
        "<matplotlib.figure.Figure at 0x111f14e10>"
       ]
      }
     ],
     "prompt_number": 56
    },
    {
     "cell_type": "code",
     "collapsed": false,
     "input": [
      "plt.scatter(y_mean[:,0],y_std[:,0])\n",
      "plt.scatter(y_mean[:,1],y_std[:,1],color='r')\n",
      "plt.scatter(y_mean[:,2:21],y_std[:,2:21],color='g')"
     ],
     "language": "python",
     "metadata": {},
     "outputs": [
      {
       "metadata": {},
       "output_type": "pyout",
       "prompt_number": 251,
       "text": [
        "<matplotlib.collections.PathCollection at 0x10bd80e80>"
       ]
      },
      {
       "metadata": {},
       "output_type": "display_data",
       "png": "[encoded data removed]",
       "text": [
        "<matplotlib.figure.Figure at 0x10b139b38>"
       ]
      }
     ],
     "prompt_number": 251
    },
    {
     "cell_type": "code",
     "collapsed": false,
     "input": [
      "rf = RandomForestRegressor()"
     ],
     "language": "python",
     "metadata": {},
     "outputs": [],
     "prompt_number": 293
    },
    {
     "cell_type": "code",
     "collapsed": false,
     "input": [
      "rf.fit(X_obs,y_mean)"
     ],
     "language": "python",
     "metadata": {},
     "outputs": [
      {
       "metadata": {},
       "output_type": "pyout",
       "prompt_number": 297,
       "text": [
        "RandomForestRegressor(bootstrap=True, compute_importances=None,\n",
        "           criterion='mse', max_depth=None, max_features='auto',\n",
        "           max_leaf_nodes=None, min_density=None, min_samples_leaf=1,\n",
        "           min_samples_split=2, n_estimators=10, n_jobs=1, oob_score=False,\n",
        "           random_state=None, verbose=0)"
       ]
      }
     ],
     "prompt_number": 297
    },
    {
     "cell_type": "code",
     "collapsed": false,
     "input": [
      "pearsonr(rf.predict(X_obs).ravel(),y_mean.ravel())"
     ],
     "language": "python",
     "metadata": {},
     "outputs": [
      {
       "metadata": {},
       "output_type": "pyout",
       "prompt_number": 319,
       "text": [
        "(0.97986910372853464, 0.0)"
       ]
      }
     ],
     "prompt_number": 319
    },
    {
     "cell_type": "code",
     "collapsed": false,
     "input": [
      "y_mean.mask.sum()"
     ],
     "language": "python",
     "metadata": {},
     "outputs": [
      {
       "metadata": {},
       "output_type": "pyout",
       "prompt_number": 302,
       "text": [
        "0"
       ]
      }
     ],
     "prompt_number": 302
    },
    {
     "cell_type": "code",
     "collapsed": false,
     "input": [
      "np.ma.mean(y_,axis=0).shape"
     ],
     "language": "python",
     "metadata": {},
     "outputs": [
      {
       "metadata": {},
       "output_type": "pyout",
       "prompt_number": 317,
       "text": [
        "(21, 49)"
       ]
      }
     ],
     "prompt_number": 317
    },
    {
     "cell_type": "code",
     "collapsed": false,
     "input": [
      "X_obs.sum()"
     ],
     "language": "python",
     "metadata": {},
     "outputs": [
      {
       "metadata": {},
       "output_type": "pyout",
       "prompt_number": 86,
       "text": [
        "26749687.13519999"
       ]
      }
     ],
     "prompt_number": 86
    },
    {
     "cell_type": "code",
     "collapsed": false,
     "input": [
      "X_obs.shape"
     ],
     "language": "python",
     "metadata": {},
     "outputs": [
      {
       "metadata": {},
       "output_type": "pyout",
       "prompt_number": 93,
       "text": [
        "(676, 3032)"
       ]
      }
     ],
     "prompt_number": 93
    },
    {
     "cell_type": "code",
     "collapsed": false,
     "input": [
      "Y_obs['mean'].shape"
     ],
     "language": "python",
     "metadata": {},
     "outputs": []
    },
    {
     "cell_type": "heading",
     "level": 3,
     "metadata": {},
     "source": [
      "Imputation and Masks"
     ]
    },
    {
     "cell_type": "code",
     "collapsed": false,
     "input": [
      "mv_mask,sv_mask = get_perceptual_obs_mean_std_vectors(perceptual_obs_matrices,'mask')\n",
      "mv_imputed,sv_imputed = get_perceptual_obs_mean_std_vectors(perceptual_obs_matrices,imputer)\n",
      "mv_zero,sv_zero = get_perceptual_obs_mean_std_vectors(perceptual_obs_matrices,'zero')\n",
      "Y_obs_mask = get_Y_obs(mv_mask,sv_mask,perceptual_obs_subject_vectors)\n",
      "Y_obs_imputed = get_Y_obs(mv_imputed,sv_imputed,perceptual_obs_subject_vectors)\n",
      "Y_obs_zero = get_Y_obs(mv_zero,sv_zero,perceptual_obs_subject_vectors)"
     ],
     "language": "python",
     "metadata": {},
     "outputs": [
      {
       "output_type": "stream",
       "stream": "stdout",
       "text": [
        "Subject-averaged observed perceptual vector has length 21 (perceptual descriptors)\n",
        "There are 676 such vectors, one for each molecule tested at None dilution\n",
        "Subject-averaged observed perceptual vector has length 21 (perceptual descriptors)"
       ]
      },
      {
       "output_type": "stream",
       "stream": "stdout",
       "text": [
        "\n",
        "There are 676 such vectors, one for each molecule tested at None dilution\n",
        "Subject-averaged observed perceptual vector has length 21 (perceptual descriptors)\n",
        "There are 676 such vectors, one for each molecule tested at None dilution\n",
        "Y_obs['subject'] contains 49 matrices each with shape (676x21) (molecules by perceptual descriptors)"
       ]
      },
      {
       "output_type": "stream",
       "stream": "stdout",
       "text": [
        "\n",
        "The Y_obs['mean'] matrix has shape (676x21) (molecules by perceptual descriptors)\n",
        "The Y_obs['mean_std'] matrix has shape (676x42) (molecules by 2 x perceptual descriptors)\n",
        "Y_obs['subject'] contains 49 matrices each with shape (676x21) (molecules by perceptual descriptors)"
       ]
      },
      {
       "output_type": "stream",
       "stream": "stdout",
       "text": [
        "\n",
        "The Y_obs['mean'] matrix has shape (676x21) (molecules by perceptual descriptors)\n",
        "The Y_obs['mean_std'] matrix has shape (676x42) (molecules by 2 x perceptual descriptors)\n",
        "Y_obs['subject'] contains 49 matrices each with shape (676x21) (molecules by perceptual descriptors)"
       ]
      },
      {
       "output_type": "stream",
       "stream": "stdout",
       "text": [
        "\n",
        "The Y_obs['mean'] matrix has shape (676x21) (molecules by perceptual descriptors)\n",
        "The Y_obs['mean_std'] matrix has shape (676x42) (molecules by 2 x perceptual descriptors)\n"
       ]
      }
     ],
     "prompt_number": 35
    },
    {
     "cell_type": "heading",
     "level": 4,
     "metadata": {},
     "source": [
      "Intensity Mean"
     ]
    },
    {
     "cell_type": "code",
     "collapsed": false,
     "input": [
      "y_mask = Y_obs_mask['mean'][:,0]\n",
      "y_imputed = Y_obs_imputed['mean'][:,0]\n",
      "\n",
      "rf = RandomForestRegressor(max_features=None,n_estimators=100,oob_score=True)\n",
      "rf.fit(X_obs,y_imputed)\n",
      "# Always check against y_mask because NaNs will be ignored in actual scoring.  \n",
      "print(dream.r2(None,None,rf.oob_prediction_,y_mask)) "
     ],
     "language": "python",
     "metadata": {},
     "outputs": [
      {
       "output_type": "stream",
       "stream": "stdout",
       "text": [
        "0.662535403324\n"
       ]
      }
     ],
     "prompt_number": 174
    },
    {
     "cell_type": "heading",
     "level": 4,
     "metadata": {},
     "source": [
      "Pleasantness Mean"
     ]
    },
    {
     "cell_type": "code",
     "collapsed": false,
     "input": [
      "y_mask = Y_obs_mask['mean'][:,1]\n",
      "y_imputed = Y_obs_imputed['mean'][:,1]\n",
      "\n",
      "rf = RandomForestRegressor(max_features=None,n_estimators=100,oob_score=True)\n",
      "rf.fit(X_obs,y_imputed)\n",
      "# Always check against y_mask because NaNs will be ignored in actual scoring.  \n",
      "print(dream.r2(None,None,rf.oob_prediction_,y_mask)) \n",
      "\n",
      "rf.fit(X_obs,y_mask)\n",
      "print(dream.r2(None,None,rf.oob_prediction_,y_mask))"
     ],
     "language": "python",
     "metadata": {},
     "outputs": [
      {
       "output_type": "stream",
       "stream": "stdout",
       "text": [
        "0.684404084367\n",
        "0.682222803598"
       ]
      },
      {
       "output_type": "stream",
       "stream": "stdout",
       "text": [
        "\n"
       ]
      }
     ],
     "prompt_number": 175
    },
    {
     "cell_type": "heading",
     "level": 4,
     "metadata": {},
     "source": [
      "Other Descriptors Mean"
     ]
    },
    {
     "cell_type": "code",
     "collapsed": false,
     "input": [
      "y_mask = Y_obs_mask['mean'][:,2:21]\n",
      "y_imputed = Y_obs_imputed['mean'][:,2:21]\n",
      "\n",
      "rf = RandomForestRegressor(max_features=None,n_estimators=100,oob_score=True)\n",
      "rf.fit(X_obs,y_imputed)\n",
      "# Always check against y_mask because NaNs will be ignored in actual scoring.  \n",
      "print(dream.r2(None,None,rf.oob_prediction_,y_mask)) \n",
      "\n",
      "rf.fit(X_obs,y_mask)\n",
      "print(dream.r2(None,None,rf.oob_prediction_,y_mask))"
     ],
     "language": "python",
     "metadata": {},
     "outputs": []
    },
    {
     "cell_type": "heading",
     "level": 4,
     "metadata": {},
     "source": [
      "Intensity StDev"
     ]
    },
    {
     "cell_type": "code",
     "collapsed": false,
     "input": [
      "y_mask = Y_obs_mask['mean_std']\n",
      "y_imputed = Y_obs_imputed['mean_std']\n",
      "\n",
      "rf = RandomForestRegressor(max_features=None,n_estimators=100,oob_score=True)\n",
      "rf.fit(X_obs,y_imputed)\n",
      "# Always check against y_mask because NaNs will be ignored in actual scoring.  \n",
      "print(dream.r2('int','sigma',rf.oob_prediction_,y_mask)) \n",
      "\n",
      "rf.fit(X_obs,y_mask)\n",
      "print(dream.r2('int','sigma',rf.oob_prediction_,y_mask))"
     ],
     "language": "python",
     "metadata": {},
     "outputs": [
      {
       "output_type": "stream",
       "stream": "stdout",
       "text": [
        "0.178720613173\n",
        "0.173627784149"
       ]
      },
      {
       "output_type": "stream",
       "stream": "stdout",
       "text": [
        "\n"
       ]
      }
     ],
     "prompt_number": 176
    },
    {
     "cell_type": "code",
     "collapsed": false,
     "input": [
      "y_mask = Y_obs_mask['mean_std']\n",
      "y_pretend = rf.oob_prediction_.copy()\n",
      "y_pretend[:,21] = f(y_pretend[:,0])\n",
      "print(dream.r2('int','sigma',y_pretend,y_mask))"
     ],
     "language": "python",
     "metadata": {},
     "outputs": [
      {
       "output_type": "stream",
       "stream": "stdout",
       "text": [
        "0.293620214809\n"
       ]
      }
     ],
     "prompt_number": 177
    },
    {
     "cell_type": "heading",
     "level": 4,
     "metadata": {},
     "source": [
      "Pleasantness StDev"
     ]
    },
    {
     "cell_type": "code",
     "collapsed": false,
     "input": [
      "y_mask = Y_obs_mask['mean_std']\n",
      "y_imputed = Y_obs_imputed['mean_std']\n",
      "\n",
      "rf = RandomForestRegressor(max_features=None,n_estimators=100,oob_score=True)\n",
      "rf.fit(X_obs,y_imputed)\n",
      "# Always check against y_mask because NaNs will be ignored in actual scoring.  \n",
      "print(dream.r2('ple','sigma',rf.oob_prediction_,y_mask)) \n",
      "\n",
      "rf.fit(X_obs,y_mask)\n",
      "print(dream.r2('ple','sigma',rf.oob_prediction_,y_mask))"
     ],
     "language": "python",
     "metadata": {},
     "outputs": [
      {
       "output_type": "stream",
       "stream": "stdout",
       "text": [
        "0.277340554378\n",
        "0.282918106124"
       ]
      },
      {
       "output_type": "stream",
       "stream": "stdout",
       "text": [
        "\n"
       ]
      }
     ],
     "prompt_number": 40
    },
    {
     "cell_type": "code",
     "collapsed": false,
     "input": [
      "n_estimators = 1000\n",
      "max_features = 1500\n",
      "\n",
      "y_mask = Y_obs_mask['mean_std']\n",
      "rf_mask = RandomForestRegressor(max_features=max_features,n_estimators=n_estimators,oob_score=True)\n",
      "rf_mask_int = RandomForestRegressor(max_features=max_features,n_estimators=n_estimators,oob_score=True)\n",
      "rf_mask_ple = RandomForestRegressor(max_features=60,n_estimators=n_estimators,oob_score=True)\n",
      "rf_mask_dec = RandomForestRegressor(max_features=700,n_estimators=n_estimators,oob_score=True)\n",
      "rf_mask_int_sig = RandomForestRegressor(max_features=max_features,n_estimators=n_estimators,min_samples_leaf=16,oob_score=True)\n",
      "rf_mask_ple_sig = RandomForestRegressor(max_features=max_features,n_estimators=n_estimators,oob_score=True)\n",
      "rf_mask_dec_sig = RandomForestRegressor(max_features=max_features,n_estimators=n_estimators,oob_score=True)\n",
      "rf_mask.fit(X_obs,y_imputed)\n",
      "rf_mask_int.fit(X_obs,y_imputed[:,0])\n",
      "rf_mask_ple.fit(X_obs,y_imputed[:,1])\n",
      "rf_mask_dec.fit(X_obs,y_imputed[:,2:21])\n",
      "rf_mask_int_sig.fit(X_obs,y_imputed[:,21])\n",
      "rf_mask_ple_sig.fit(X_obs,y_imputed[:,22])\n",
      "rf_mask_dec_sig.fit(X_obs,y_imputed[:,23:42])\n",
      "\n",
      "y_imputed = Y_obs_imputed['mean_std']\n",
      "rf_imputed = RandomForestRegressor(max_features=max_features,n_estimators=n_estimators,oob_score=True)\n",
      "rf_imputed_int = RandomForestRegressor(max_features=max_features,n_estimators=n_estimators,oob_score=True)\n",
      "rf_imputed_ple = RandomForestRegressor(max_features=60,n_estimators=n_estimators,oob_score=True)\n",
      "rf_imputed_dec = RandomForestRegressor(max_features=700,n_estimators=n_estimators,oob_score=True)\n",
      "rf_imputed_int_sig = RandomForestRegressor(max_features=max_features,n_estimators=n_estimators,min_samples_leaf=16,oob_score=True)\n",
      "rf_imputed_ple_sig = RandomForestRegressor(max_features=max_features,n_estimators=n_estimators,oob_score=True)\n",
      "rf_imputed_dec_sig = RandomForestRegressor(max_features=max_features,n_estimators=n_estimators,oob_score=True)\n",
      "rf_imputed.fit(X_obs,y_mask)\n",
      "rf_imputed_int.fit(X_obs,y_mask[:,0])\n",
      "rf_imputed_ple.fit(X_obs,y_mask[:,1])\n",
      "rf_imputed_dec.fit(X_obs,y_mask[:,2:21])\n",
      "rf_imputed_int_sig.fit(X_obs,y_mask[:,21])\n",
      "rf_imputed_ple_sig.fit(X_obs,y_mask[:,22])\n",
      "rf_imputed_dec_sig.fit(X_obs,y_mask[:,23:42])\n",
      "\n",
      "y_zero = Y_obs_zero['mean_std']\n",
      "rf_zero = RandomForestRegressor(max_features=max_features,n_estimators=n_estimators,oob_score=True)\n",
      "rf_zero_int = RandomForestRegressor(max_features=max_features,n_estimators=n_estimators,oob_score=True)\n",
      "rf_zero_ple = RandomForestRegressor(max_features=60,n_estimators=n_estimators,oob_score=True)\n",
      "rf_zero_dec = RandomForestRegressor(max_features=700,n_estimators=n_estimators,oob_score=True)\n",
      "rf_zero_int_sig = RandomForestRegressor(max_features=max_features,n_estimators=n_estimators,min_samples_leaf=16,oob_score=True)\n",
      "rf_zero_ple_sig = RandomForestRegressor(max_features=max_features,n_estimators=n_estimators,oob_score=True)\n",
      "rf_zero_dec_sig = RandomForestRegressor(max_features=max_features,n_estimators=n_estimators,oob_score=True)\n",
      "rf_zero.fit(X_obs,y_zero)\n",
      "rf_zero_int.fit(X_obs,y_zero[:,0])\n",
      "rf_zero_ple.fit(X_obs,y_zero[:,1])\n",
      "rf_zero_dec.fit(X_obs,y_zero[:,2:21])\n",
      "rf_zero_int_sig.fit(X_obs,y_zero[:,21])\n",
      "rf_zero_ple_sig.fit(X_obs,y_zero[:,22])\n",
      "rf_zero_dec_sig.fit(X_obs,y_zero[:,23:42])\n",
      "\n",
      "y = y_imputed\n",
      "\n",
      "# Always check against y_mask because NaNs will be ignored in actual scoring.  \n",
      "def get_rs(rf,f=None):\n",
      "    prediction = rf.oob_prediction_.copy()\n",
      "    if f:\n",
      "        for i in range(21):\n",
      "            prediction[:,21+i] = f(prediction[:,0+i])\n",
      "    rs = []\n",
      "    rs.append(dream.r2('int','mean',prediction,y))\n",
      "    rs.append(dream.r2('ple','mean',prediction,y))\n",
      "    rs.append(dream.r2('dec','mean',prediction,y))\n",
      "    rs.append(dream.r2('int','sigma',prediction,y))\n",
      "    rs.append(dream.r2('ple','sigma',prediction,y))\n",
      "    rs.append(dream.r2('dec','sigma',prediction,y))\n",
      "    rs = [int(_*1000) for _ in rs]\n",
      "    return rs\n",
      "\n",
      "def get_rs2(rfs,f=None):\n",
      "    rs = []\n",
      "    indices = [[0],[1],np.arange(2,21),[21],[22],np.arange(23,42)]\n",
      "    for i in range(len(rfs)):\n",
      "        if f:\n",
      "            j = i % 3\n",
      "        else:\n",
      "            j = i\n",
      "        if f and i>=3:\n",
      "            rfs[i].oob_prediction_ = f(rfs[j].oob_prediction_)\n",
      "        if len(rfs[i].oob_prediction_.shape)==1:\n",
      "            rfs[i].oob_prediction_ = rfs[i].oob_prediction_.reshape(-1,1)\n",
      "        rs.append(int(1000*dream.r2(None,None,rfs[i].oob_prediction_,y[:,indices[i]])))\n",
      "    return rs\n",
      "\n",
      "print(get_rs(rf_mask))\n",
      "print(get_rs(rf_mask,f))\n",
      "print(get_rs2([rf_mask_int,rf_mask_ple,rf_mask_dec,rf_mask_int_sig,rf_mask_ple_sig,rf_mask_dec_sig]))  \n",
      "print(get_rs2([rf_mask_int,rf_mask_ple,rf_mask_dec,rf_mask_int_sig,rf_mask_ple_sig,rf_mask_dec_sig],f))  \n",
      "print(\"---\")\n",
      "print(get_rs(rf_imputed))\n",
      "print(get_rs(rf_imputed,f))\n",
      "print(get_rs2([rf_imputed_int,rf_imputed_ple,rf_imputed_dec,rf_imputed_int_sig,rf_imputed_ple_sig,rf_imputed_dec_sig]))  \n",
      "print(get_rs2([rf_imputed_int,rf_imputed_ple,rf_imputed_dec,rf_imputed_int_sig,rf_imputed_ple_sig,rf_imputed_dec_sig],f)) \n",
      "print(\"---\")\n",
      "print(get_rs(rf_zero))\n",
      "print(get_rs(rf_zero,f))\n",
      "print(get_rs2([rf_zero_int,rf_zero_ple,rf_zero_dec,rf_zero_int_sig,rf_zero_ple_sig,rf_zero_dec_sig]))  \n",
      "print(get_rs2([rf_zero_int,rf_zero_ple,rf_zero_dec,rf_zero_int_sig,rf_zero_ple_sig,rf_zero_dec_sig],f))  "
     ],
     "language": "python",
     "metadata": {},
     "outputs": [
      {
       "output_type": "stream",
       "stream": "stdout",
       "text": [
        "[639, 599, 529, 138, 555, 438]\n",
        "[639, 599, 529, 282, -20, 460]\n",
        "[659, 671, 540, -117, 538, 439]\n",
        "[659, 671, 540, 312, -27, 462]\n",
        "---\n",
        "[627, 600, 481, 113, 388, 392]\n",
        "[627, 600, 481, 271, -20, 407]\n",
        "[663, 665, 490, -110, 242, 391]\n",
        "[663, 665, 490, 308, -28, 404]\n",
        "---\n",
        "[642, 429, 533, 144, -98, 441]\n",
        "[642, 429, 533, 298, 338, 462]\n",
        "[657, 572, 539, -120, 81, 443]\n",
        "[657, 572, 539, 311, 157, 462]\n"
       ]
      }
     ],
     "prompt_number": 42
    },
    {
     "cell_type": "code",
     "collapsed": false,
     "input": [
      "(0.658/0.1193 + 0.668/0.1265 + 0.539/0.0265 + 0.308/0.1194 + 0.544/0.1149 + 0.450/0.0281)/6"
     ],
     "language": "python",
     "metadata": {},
     "outputs": [
      {
       "metadata": {},
       "output_type": "pyout",
       "prompt_number": 218,
       "text": [
        "9.07735222103151"
       ]
      }
     ],
     "prompt_number": 218
    },
    {
     "cell_type": "code",
     "collapsed": false,
     "input": [
      "[648, 571, 434, 182, 283, 358]\n",
      "[648, 571, 434, 269, 117, 367]\n",
      "[667, 683, 436, -94, 258, 376]\n",
      "[652, 576, 446, 162, 268, 357]\n",
      "[652, 576, 446, 273, 94, 371]\n",
      "[679, 686, 496, -114, 253, 379]\n",
      "[649, 561, 433, 195, 288, 362]\n",
      "[649, 561, 433, 289, 74, 372]\n",
      "[668, 677, 441, -108, 264, 366]"
     ],
     "language": "python",
     "metadata": {},
     "outputs": [
      {
       "metadata": {},
       "output_type": "pyout",
       "prompt_number": 201,
       "text": [
        "[668, 677, 441, -108, 264, 366]"
       ]
      }
     ],
     "prompt_number": 201
    },
    {
     "cell_type": "code",
     "collapsed": false,
     "input": [
      "[641, 597, 464, 129, 289, 379]\n",
      "[641, 597, 464, 288, 106, 394]\n",
      "[658, 662, 493, -112, 274, 386]\n",
      "[635, 598, 466, 106, 288, 367]\n",
      "[635, 598, 466, 280, 120, 387]\n",
      "[664, 658, 488, -115, 259, 376]\n",
      "[644, 605, 468, 136, 292, 380]\n",
      "[644, 605, 468, 296, 108, 397]\n",
      "[658, 665, 497, -114, 268, 387]"
     ],
     "language": "python",
     "metadata": {},
     "outputs": [
      {
       "metadata": {},
       "output_type": "pyout",
       "prompt_number": 203,
       "text": [
        "[658, 665, 497, -114, 268, 387]"
       ]
      }
     ],
     "prompt_number": 203
    },
    {
     "cell_type": "code",
     "collapsed": false,
     "input": [
      "[641, 600, 532, 129, 552, 440]\n",
      "[641, 600, 532, 288, -33, 461]\n",
      "[658, 668, 539, -112, 544, 441]\n",
      "[129, -267, 517, 304, -14, 450]\n",
      "---\n",
      "[635, 602, 482, 106, 386, 394]\n",
      "[635, 602, 482, 280, -12, 409]\n",
      "[664, 664, 491, -115, 240, 392]\n",
      "[143, -283, 457, 315, -16, 389]\n",
      "---\n",
      "[640, 429, 532, 140, -101, 441]\n",
      "[640, 429, 532, 295, 337, 462]\n",
      "[657, 573, 540, -117, 73, 445]\n",
      "[137, 308, 519, 308, 147, 454]"
     ],
     "language": "python",
     "metadata": {},
     "outputs": [
      {
       "ename": "SyntaxError",
       "evalue": "invalid syntax (<ipython-input-216-e29728c38c18>, line 5)",
       "output_type": "pyerr",
       "traceback": [
        "\u001b[0;36m  File \u001b[0;32m\"<ipython-input-216-e29728c38c18>\"\u001b[0;36m, line \u001b[0;32m5\u001b[0m\n\u001b[0;31m    ---\u001b[0m\n\u001b[0m       ^\u001b[0m\n\u001b[0;31mSyntaxError\u001b[0m\u001b[0;31m:\u001b[0m invalid syntax\n"
       ]
      }
     ],
     "prompt_number": 216
    },
    {
     "cell_type": "code",
     "collapsed": false,
     "input": [
      "Y_leaderboard = {}\n",
      "method = 'mask'\n",
      "rf = eval('rf_%s' % method)\n",
      "rf_int = eval('rf_%s_int' % method)\n",
      "rf_ple = eval('rf_%s_ple' % method)\n",
      "rf_dec = eval('rf_%s_dec' % method)\n",
      "Y_leaderboard['mean_std'] = rf.predict(X_leaderboard)\n",
      "Y_leaderboard['mean_std'][:,0] = rf_int.predict(X_leaderboard_intensity)\n",
      "Y_leaderboard['mean_std'][:,1] = rf_ple.predict(X_leaderboard)\n",
      "Y_leaderboard['mean_std'][:,2:21] = rf_dec.predict(X_leaderboard)\n",
      "Y_leaderboard['mean_std'][:,21] = f(rf_int.predict(X_leaderboard_intensity))\n",
      "Y_leaderboard['mean_std'][:,22] = rf.predict(X_leaderboard)[:,22]\n",
      "Y_leaderboard['mean_std'][:,23:42] = f(rf_dec.predict(X_leaderboard))\n",
      "write_prediction_files(name=method)"
     ],
     "language": "python",
     "metadata": {},
     "outputs": [],
     "prompt_number": 77
    },
    {
     "cell_type": "code",
     "collapsed": false,
     "input": [
      "stuff = [eval(_) for _ in dir() if _.startswith('rf_')]"
     ],
     "language": "python",
     "metadata": {},
     "outputs": [],
     "prompt_number": 247
    },
    {
     "cell_type": "code",
     "collapsed": false,
     "input": [
      "import pickle\n",
      "pickle.dumps(stuff)"
     ],
     "language": "python",
     "metadata": {},
     "outputs": []
    },
    {
     "cell_type": "code",
     "collapsed": false,
     "input": [
      "with open('stuff.pickle','w') as file_:\n",
      "    pickle.dump(stuff,file_)"
     ],
     "language": "python",
     "metadata": {},
     "outputs": []
    },
    {
     "cell_type": "code",
     "collapsed": false,
     "input": [],
     "language": "python",
     "metadata": {},
     "outputs": []
    }
   ],
   "metadata": {}
  }
 ]
}