{
 "metadata": {
  "name": "",
  "signature": "sha256:43024271659cd13a01e498e4da1526b6bae7287e7cad5db480d1147920abaf31"
 },
 "nbformat": 3,
 "nbformat_minor": 0,
 "worksheets": [
  {
   "cells": [
    {
     "cell_type": "heading",
     "level": 3,
     "metadata": {},
     "source": [
      "Preliminaries"
     ]
    },
    {
     "cell_type": "code",
     "collapsed": false,
     "input": [
      "# Preliminaries to setup the notebook.  \n",
      "%matplotlib inline\n",
      "%load_ext autoreload\n",
      "%autoreload 2"
     ],
     "language": "python",
     "metadata": {},
     "outputs": [
      {
       "output_type": "stream",
       "stream": "stdout",
       "text": [
        "The autoreload extension is already loaded. To reload it, use:\n",
        "  %reload_ext autoreload\n"
       ]
      }
     ],
     "prompt_number": 1
    },
    {
     "cell_type": "code",
     "collapsed": false,
     "input": [
      "# For which subchallenges to execute code.\n",
      "subchallenges = [1,2]"
     ],
     "language": "python",
     "metadata": {},
     "outputs": [],
     "prompt_number": 2
    },
    {
     "cell_type": "code",
     "collapsed": false,
     "input": [
      "# Import numerical libraries.  \n",
      "import numpy as np\n",
      "import matplotlib.pyplot as plt\n",
      "from scipy.stats import pearsonr\n",
      "from sklearn.ensemble import RandomForestRegressor,ExtraTreesRegressor\n",
      "from sklearn.cross_validation import ShuffleSplit,cross_val_score\n",
      "from sklearn.grid_search import GridSearchCV"
     ],
     "language": "python",
     "metadata": {},
     "outputs": [],
     "prompt_number": 3
    },
    {
     "cell_type": "code",
     "collapsed": false,
     "input": [
      "# Import the file I wrote to load the data from the tab-delimited text files.  \n",
      "import dream\n",
      "import imp\n",
      "imp.reload(dream)"
     ],
     "language": "python",
     "metadata": {},
     "outputs": [
      {
       "metadata": {},
       "output_type": "pyout",
       "prompt_number": 4,
       "text": [
        "<module 'dream' from '/Users/rgerkin/Dropbox/science/dream/dream.py'>"
       ]
      }
     ],
     "prompt_number": 4
    },
    {
     "cell_type": "code",
     "collapsed": false,
     "input": [
      "# Load the perceptual descriptors data.  \n",
      "perceptual_headers, perceptual_obs_data = dream.load_perceptual_data()"
     ],
     "language": "python",
     "metadata": {},
     "outputs": [],
     "prompt_number": 5
    },
    {
     "cell_type": "code",
     "collapsed": false,
     "input": [
      "# Show the perceptual metadata types and perceptual descriptor names.\n",
      "print(perceptual_headers)"
     ],
     "language": "python",
     "metadata": {},
     "outputs": [
      {
       "output_type": "stream",
       "stream": "stdout",
       "text": [
        "['Compound Identifier', 'Odor', 'Replicate', 'Intensity', 'Dilution', 'subject #', 'INTENSITY/STRENGTH', 'VALENCE/PLEASANTNESS', 'BAKERY', 'SWEET', 'FRUIT', 'FISH', 'GARLIC', 'SPICES', 'COLD', 'SOUR', 'BURNT', 'ACID', 'WARM', 'MUSKY', 'SWEATY', 'AMMONIA/URINOUS', 'DECAYED', 'WOOD', 'GRASS', 'FLOWER', 'CHEMICAL']\n"
       ]
      }
     ],
     "prompt_number": 6
    },
    {
     "cell_type": "code",
     "collapsed": false,
     "input": [
      "# Show the metadata and perceptual descriptor values for the first compound.\n",
      "print(perceptual_obs_data[1])"
     ],
     "language": "python",
     "metadata": {},
     "outputs": [
      {
       "output_type": "stream",
       "stream": "stdout",
       "text": [
        "['126', '4-Hydroxybenzaldehyde', False, 'high', '1/10', '1', 37, 60, 0, 72, 0, 0, 0, 0, 0, 0, 0, 0, 0, 0, 0, 0, 0, 0, 0, 0, 0]\n"
       ]
      }
     ],
     "prompt_number": 7
    },
    {
     "cell_type": "code",
     "collapsed": false,
     "input": [
      "num_descriptors = len(perceptual_headers[6:])\n",
      "num_subjects = 49\n",
      "print('There are %d different perceptual descriptors and %d different subjects' % (num_descriptors,num_subjects))"
     ],
     "language": "python",
     "metadata": {},
     "outputs": [
      {
       "output_type": "stream",
       "stream": "stdout",
       "text": [
        "There are 21 different perceptual descriptors and 49 different subjects\n"
       ]
      }
     ],
     "prompt_number": 8
    },
    {
     "cell_type": "code",
     "collapsed": false,
     "input": [
      "# Load the molecular descriptors data.  \n",
      "molecular_headers, molecular_data = dream.load_molecular_data()"
     ],
     "language": "python",
     "metadata": {},
     "outputs": [],
     "prompt_number": 9
    },
    {
     "cell_type": "code",
     "collapsed": false,
     "input": [
      "# Show first 10 molecular descriptors types (zeroth is just the compound identifier).  \n",
      "print(molecular_headers[:10])"
     ],
     "language": "python",
     "metadata": {},
     "outputs": [
      {
       "output_type": "stream",
       "stream": "stdout",
       "text": [
        "['CID', 'complexity from pubmed', 'MW', 'AMW', 'Sv', 'Se', 'Sp', 'Si', 'Mv', 'Me']\n"
       ]
      }
     ],
     "prompt_number": 10
    },
    {
     "cell_type": "code",
     "collapsed": false,
     "input": [
      "# Show first 10 molecular descriptors values for the first compound (zeroth is just the compound identifier).  \n",
      "print(molecular_data[0][:10])"
     ],
     "language": "python",
     "metadata": {},
     "outputs": [
      {
       "output_type": "stream",
       "stream": "stdout",
       "text": [
        "['126', 10.193, 16.664, 0.667, 1.02, 0.68, 1.111, 15.0, 9.0, 15.0]\n"
       ]
      }
     ],
     "prompt_number": 11
    },
    {
     "cell_type": "code",
     "collapsed": false,
     "input": [
      "# How many unique molecules do we have perceptual data for?  \n",
      "training_size = len(set([int(row[0]) for row in perceptual_obs_data]))\n",
      "print(training_size)"
     ],
     "language": "python",
     "metadata": {},
     "outputs": [
      {
       "output_type": "stream",
       "stream": "stdout",
       "text": [
        "338\n"
       ]
      }
     ],
     "prompt_number": 12
    },
    {
     "cell_type": "code",
     "collapsed": false,
     "input": [
      "# How many unique molecules do we have descriptors for?  \n",
      "total_size = len(set([int(row[0]) for row in molecular_data]))\n",
      "print(total_size)"
     ],
     "language": "python",
     "metadata": {},
     "outputs": [
      {
       "output_type": "stream",
       "stream": "stdout",
       "text": [
        "476\n"
       ]
      }
     ],
     "prompt_number": 13
    },
    {
     "cell_type": "code",
     "collapsed": false,
     "input": [
      "# How many are left out for testing in the competition?  Note that half of these will be used for the leaderboard\n",
      "print(total_size - training_size)"
     ],
     "language": "python",
     "metadata": {},
     "outputs": [
      {
       "output_type": "stream",
       "stream": "stdout",
       "text": [
        "138\n"
       ]
      }
     ],
     "prompt_number": 14
    },
    {
     "cell_type": "code",
     "collapsed": false,
     "input": [
      "# How many total rows are there in the perceptual data set (there can be at least one for each subject and molecule)?  \n",
      "print(len(perceptual_obs_data))"
     ],
     "language": "python",
     "metadata": {},
     "outputs": [
      {
       "output_type": "stream",
       "stream": "stdout",
       "text": [
        "35084\n"
       ]
      }
     ],
     "prompt_number": 15
    },
    {
     "cell_type": "code",
     "collapsed": false,
     "input": [
      "# How many of those descriptor vectors are replicates (same subject and compound)?\n",
      "print(sum([x[2] for x in perceptual_obs_data]))"
     ],
     "language": "python",
     "metadata": {},
     "outputs": [
      {
       "output_type": "stream",
       "stream": "stdout",
       "text": [
        "1960\n"
       ]
      }
     ],
     "prompt_number": 16
    },
    {
     "cell_type": "heading",
     "level": 3,
     "metadata": {},
     "source": [
      "Data preparation"
     ]
    },
    {
     "cell_type": "code",
     "collapsed": false,
     "input": [
      "all_CIDs = sorted([int(_[0]) for _ in molecular_data])\n",
      "len(all_CIDs)"
     ],
     "language": "python",
     "metadata": {},
     "outputs": [
      {
       "metadata": {},
       "output_type": "pyout",
       "prompt_number": 17,
       "text": [
        "476"
       ]
      }
     ],
     "prompt_number": 17
    },
    {
     "cell_type": "code",
     "collapsed": false,
     "input": [
      "# Delete replicates because I don't know how to deal with them right now.  \n",
      "perceptual_obs_data = [row for row in perceptual_obs_data if row[2] is False]\n",
      "print(\"There are %d non-replicated rows in the observed perceptual data\" % len(perceptual_obs_data))"
     ],
     "language": "python",
     "metadata": {},
     "outputs": [
      {
       "output_type": "stream",
       "stream": "stdout",
       "text": [
        "There are 33124 non-replicated rows in the observed perceptual data\n"
       ]
      }
     ],
     "prompt_number": 18
    },
    {
     "cell_type": "code",
     "collapsed": false,
     "input": [
      "# Compute perceptual descriptor matrices for molecules tested at a given dilution.  \n",
      "target_dilution = None # None means use all dilutions.  \n",
      "perceptual_obs_matrices = dream.get_perceptual_matrices(perceptual_obs_data, target_dilution)\n",
      "print(\"Each observed perceptual matrix has shape %d (subjects) x %d (perceptual descriptors)\" % list(perceptual_obs_matrices.values())[0].shape)\n",
      "print(\"There are %d such matrices, one for each molecule tested at 10^%s dilution\" % (len(perceptual_obs_matrices),target_dilution))"
     ],
     "language": "python",
     "metadata": {},
     "outputs": [
      {
       "output_type": "stream",
       "stream": "stdout",
       "text": [
        "Each observed perceptual matrix has shape 49 (subjects) x 21 (perceptual descriptors)\n",
        "There are 676 such matrices, one for each molecule tested at 10^None dilution\n"
       ]
      }
     ],
     "prompt_number": 19
    },
    {
     "cell_type": "code",
     "collapsed": false,
     "input": [
      "# Compute molecular descriptor vectors for the molecules tested above.  \n",
      "CID_dilutions_obs = list(perceptual_obs_matrices.keys())\n",
      "CIDs_obs = [int(_.split('_')[0]) for _ in CID_dilutions_obs]\n",
      "molecular_vectors = dream.get_molecular_vectors(molecular_data,CIDs_obs)\n",
      "print(\"Each molecular vector has length %d\" % list(molecular_vectors.values())[0].shape)\n",
      "print(\"There are %d such vectors, one for each molecule tested at %s dilution that could be located in the molecular data\" \\\n",
      "      % (len(molecular_vectors),target_dilution))\n",
      "   "
     ],
     "language": "python",
     "metadata": {},
     "outputs": [
      {
       "output_type": "stream",
       "stream": "stdout",
       "text": [
        "Each molecular vector has length 4864\n",
        "There are 338 such vectors, one for each molecule tested at None dilution that could be located in the molecular data\n"
       ]
      }
     ],
     "prompt_number": 20
    },
    {
     "cell_type": "code",
     "collapsed": false,
     "input": [
      "list(molecular_vectors.keys())[:10],sorted(molecular_vectors)[:10]"
     ],
     "language": "python",
     "metadata": {},
     "outputs": [
      {
       "metadata": {},
       "output_type": "pyout",
       "prompt_number": 21,
       "text": [
        "([8193, 6658, 61185, 8712, 12297, 12810, 440967, 31244, 12813, 31246],\n",
        " [126, 176, 177, 196, 239, 240, 241, 244, 261, 263])"
       ]
      }
     ],
     "prompt_number": 21
    },
    {
     "cell_type": "code",
     "collapsed": false,
     "input": [
      "def add_dilutions(molecular_vectors,CID_dilutions):\n",
      "    if target_dilution is None:\n",
      "        molecular_vectors_ = {}\n",
      "        for CID_dilution in CID_dilutions:\n",
      "            CID,dilution = CID_dilution.split('_')\n",
      "            molecular_vectors_[CID_dilution] = np.concatenate((molecular_vectors[int(CID)],[int(dilution)]))\n",
      "        molecular_vectors = molecular_vectors_\n",
      "        print('There are now %d molecular vectors, one for each molecule and dilution' % (len(molecular_vectors)))\n",
      "    return molecular_vectors\n",
      "\n",
      "molecular_vectors = add_dilutions(molecular_vectors,perceptual_obs_matrices.keys())"
     ],
     "language": "python",
     "metadata": {},
     "outputs": [
      {
       "output_type": "stream",
       "stream": "stdout",
       "text": [
        "There are now 676 molecular vectors, one for each molecule and dilution\n"
       ]
      }
     ],
     "prompt_number": 22
    },
    {
     "cell_type": "code",
     "collapsed": false,
     "input": [
      "list(molecular_vectors.keys())[:10],sorted(molecular_vectors)[:10]"
     ],
     "language": "python",
     "metadata": {},
     "outputs": [
      {
       "metadata": {},
       "output_type": "pyout",
       "prompt_number": 23,
       "text": [
        "(['176_-5',\n",
        "  '62902_-3',\n",
        "  '11902_-5',\n",
        "  '6106_-1',\n",
        "  '14286_-3',\n",
        "  '16255_-3',\n",
        "  '7795_-3',\n",
        "  '7761_-5',\n",
        "  '3776_-3',\n",
        "  '17525_-5'],\n",
        " ['1001_-3',\n",
        "  '1001_-5',\n",
        "  '101010_-5',\n",
        "  '101010_-7',\n",
        "  '101604_-3',\n",
        "  '101604_-5',\n",
        "  '10285_-5',\n",
        "  '10285_-7',\n",
        "  '1032_-5',\n",
        "  '1032_-7'])"
       ]
      }
     ],
     "prompt_number": 23
    },
    {
     "cell_type": "code",
     "collapsed": false,
     "input": [
      "# Here we setup an imputer to impute new values based on column means.  \n",
      "from sklearn.preprocessing import Imputer\n",
      "imputer = Imputer(missing_values=np.nan,strategy='median',axis=0)"
     ],
     "language": "python",
     "metadata": {},
     "outputs": [],
     "prompt_number": 24
    },
    {
     "cell_type": "code",
     "collapsed": false,
     "input": [
      "# Compute subject-averaged perceptual descriptor vectors from the matrices.  \n",
      "# This is basically just computing the column means.  \n",
      "perceptual_obs_mean_vectors = dream.get_perceptual_vectors(perceptual_obs_matrices,imputer=imputer,statistic='mean')\n",
      "perceptual_obs_std_vectors = dream.get_perceptual_vectors(perceptual_obs_matrices,imputer=imputer,statistic='std')\n",
      "print(\"Subject-averaged observed perceptual vector has length %d (perceptual descriptors)\" % list(perceptual_obs_mean_vectors.values())[0].shape)\n",
      "print(\"There are %d such vectors, one for each molecule tested at %s dilution\" % (len(perceptual_obs_mean_vectors),target_dilution))"
     ],
     "language": "python",
     "metadata": {},
     "outputs": [
      {
       "output_type": "stream",
       "stream": "stdout",
       "text": [
        "Subject-averaged observed perceptual vector has length 21 (perceptual descriptors)\n",
        "There are 676 such vectors, one for each molecule tested at None dilution\n"
       ]
      }
     ],
     "prompt_number": 25
    },
    {
     "cell_type": "code",
     "collapsed": false,
     "input": [
      "list(perceptual_obs_mean_vectors.keys())[:10],sorted(perceptual_obs_mean_vectors)[:10]"
     ],
     "language": "python",
     "metadata": {},
     "outputs": [
      {
       "metadata": {},
       "output_type": "pyout",
       "prompt_number": 26,
       "text": [
        "(['176_-5',\n",
        "  '62902_-3',\n",
        "  '11902_-5',\n",
        "  '6106_-1',\n",
        "  '14286_-3',\n",
        "  '16255_-3',\n",
        "  '7795_-3',\n",
        "  '7761_-5',\n",
        "  '3776_-3',\n",
        "  '17525_-5'],\n",
        " ['1001_-3',\n",
        "  '1001_-5',\n",
        "  '101010_-5',\n",
        "  '101010_-7',\n",
        "  '101604_-3',\n",
        "  '101604_-5',\n",
        "  '10285_-5',\n",
        "  '10285_-7',\n",
        "  '1032_-5',\n",
        "  '1032_-7'])"
       ]
      }
     ],
     "prompt_number": 26
    },
    {
     "cell_type": "code",
     "collapsed": false,
     "input": [
      "# Compute subject-specific perceptual descriptor vectors from the matrices.  \n",
      "# This is basically just unraveling the matrices.  \n",
      "perceptual_obs_subject_vectors = dream.get_perceptual_vectors(perceptual_obs_matrices,imputer='zero',statistic=None)\n",
      "print(\"Each subject-specific observed perceptual vector has length %d (perceptual descriptors)\" % \\\n",
      "      list(perceptual_obs_subject_vectors.values())[0][1].shape)\n",
      "print(\"There are %d x %d such vectors, one for each molecule and subject tested at %s dilution\" % \\\n",
      "      (len(perceptual_obs_subject_vectors),len(list(perceptual_obs_subject_vectors.values())[0]),target_dilution))"
     ],
     "language": "python",
     "metadata": {},
     "outputs": [
      {
       "output_type": "stream",
       "stream": "stdout",
       "text": [
        "Each subject-specific observed perceptual vector has length 21 (perceptual descriptors)\n",
        "There are 676 x 49 such vectors, one for each molecule and subject tested at None dilution\n"
       ]
      }
     ],
     "prompt_number": 27
    },
    {
     "cell_type": "code",
     "collapsed": false,
     "input": [
      "# Purge molecules from perceptual_vectors that are not in molecular_vectors.\n",
      "for perceptual_vectors in [perceptual_obs_mean_vectors,perceptual_obs_std_vectors,perceptual_obs_subject_vectors]:\n",
      "    perceptual_vectors = dream.retain(molecular_vectors,perceptual_vectors)\n",
      "print(\"There are now %d x %d such vectors, one for each molecule and subject tested at %s dilution\" % \\\n",
      "      (len(perceptual_obs_subject_vectors),len(list(perceptual_obs_subject_vectors.values())[0]),target_dilution))"
     ],
     "language": "python",
     "metadata": {},
     "outputs": [
      {
       "output_type": "stream",
       "stream": "stdout",
       "text": [
        "There are now 676 x 49 such vectors, one for each molecule and subject tested at None dilution\n"
       ]
      }
     ],
     "prompt_number": 28
    },
    {
     "cell_type": "code",
     "collapsed": false,
     "input": [
      "# Make sure we have the same number of molecules in both sets of vectors.  \n",
      "print(\"There are now %d molecules in perceptual_vectors and %d molecules in molecular_vectors\" % \\\n",
      "      (len(perceptual_obs_mean_vectors),len(molecular_vectors)))\n",
      "print(\"These should be the same number.\")"
     ],
     "language": "python",
     "metadata": {},
     "outputs": [
      {
       "output_type": "stream",
       "stream": "stdout",
       "text": [
        "There are now 676 molecules in perceptual_vectors and 676 molecules in molecular_vectors\n",
        "These should be the same number.\n"
       ]
      }
     ],
     "prompt_number": 29
    },
    {
     "cell_type": "code",
     "collapsed": false,
     "input": [
      "# Build the Y matrix out of perceptual descriptors.\n",
      "Y_obs = {'subject':{}}\n",
      "for kind,perceptual_vectors in [('mean',perceptual_obs_mean_vectors),\n",
      "                           ('std',perceptual_obs_std_vectors)]:\n",
      "    Y_obs[kind] = np.vstack([perceptual_vectors[CID] for CID in sorted(perceptual_vectors)])\n",
      "for subject in range(1,50):\n",
      "    Y_obs['subject'][subject] = np.vstack([perceptual_obs_subject_vectors[CID][subject]\n",
      "                                        for CID in sorted(perceptual_obs_subject_vectors)])\n",
      "print(\"Y_obs['subject'] contains %d matrices each with shape (%dx%d) (molecules by perceptual descriptors)\" \\\n",
      "      % (len(Y_obs['subject']),Y_obs['subject'][1].shape[0],Y_obs['subject'][1].shape[1]))\n",
      "print(\"The Y_obs['mean'] matrix has shape (%dx%d) (molecules by perceptual descriptors)\" % Y_obs['mean'].shape)\n",
      "Y_obs['mean_std'] = np.hstack((Y_obs['mean'],Y_obs['std']))\n",
      "print(\"The Y_obs['mean_std'] matrix has shape (%dx%d) (molecules by 2 x perceptual descriptors)\" % Y_obs['mean_std'].shape)"
     ],
     "language": "python",
     "metadata": {},
     "outputs": [
      {
       "output_type": "stream",
       "stream": "stdout",
       "text": [
        "Y_obs['subject'] contains 49 matrices each with shape (676x21) (molecules by perceptual descriptors)\n",
        "The Y_obs['mean'] matrix has shape (676x21) (molecules by perceptual descriptors)\n",
        "The Y_obs['mean_std'] matrix has shape (676x42) (molecules by 2 x perceptual descriptors)\n"
       ]
      }
     ],
     "prompt_number": 30
    },
    {
     "cell_type": "code",
     "collapsed": false,
     "input": [
      "# Build the X_obs matrix out of molecular descriptors.  \n",
      "def build_X(molecular_vectors):\n",
      "    X = np.vstack([molecular_vectors[key] for key in sorted(molecular_vectors)]) # Key could be CID or CID_dilution.  \n",
      "    print(\"The X matrix has shape (%dx%d) (molecules by molecular descriptors)\" % X.shape)\n",
      "    return X\n",
      "\n",
      "X_obs = build_X(molecular_vectors)"
     ],
     "language": "python",
     "metadata": {},
     "outputs": [
      {
       "output_type": "stream",
       "stream": "stdout",
       "text": [
        "The X matrix has shape (676x4865) (molecules by molecular descriptors)\n"
       ]
      }
     ],
     "prompt_number": 31
    },
    {
     "cell_type": "code",
     "collapsed": false,
     "input": [
      "def purge1_X(X,good_molecular_descriptors=None):\n",
      "    if good_molecular_descriptors is None:\n",
      "        good_molecular_descriptors = range(X.shape[1])\n",
      "        threshold = 0.25\n",
      "        # Which columns of X (which molecular descriptors) have NaNs for at least 'threshold' fraction of the molecules?  \n",
      "        nan_molecular_descriptors = np.where(np.isnan(X).sum(axis=0) > X.shape[0]*threshold)[0] # At least 'threshold' NaNs.  \n",
      "        # Purge these bad descriptors from the X matrix.  \n",
      "        good_molecular_descriptors = list(set(range(X.shape[1])).difference(nan_molecular_descriptors))\n",
      "    X = X[:,good_molecular_descriptors]\n",
      "    print(\"The X matrix has shape (%dx%d) (molecules by good molecular descriptors)\" % X.shape)\n",
      "    return X,good_molecular_descriptors\n",
      "\n",
      "X_obs,good1_molecular_descriptors = purge1_X(X_obs)"
     ],
     "language": "python",
     "metadata": {},
     "outputs": [
      {
       "output_type": "stream",
       "stream": "stdout",
       "text": [
        "The X matrix has shape (676x4865) (molecules by good molecular descriptors)\n"
       ]
      }
     ],
     "prompt_number": 32
    },
    {
     "cell_type": "code",
     "collapsed": false,
     "input": [
      "def impute_X(X):\n",
      "    # The X_obs matrix (molecular descriptors) still has NaN values which need to be imputed.  \n",
      "    X = imputer.fit_transform(X)\n",
      "    print(\"The X matrix now has shape (%dx%d) (molecules by non-NaN good molecular descriptors)\" % X.shape)\n",
      "    return X\n",
      "\n",
      "X_obs = impute_X(X_obs)"
     ],
     "language": "python",
     "metadata": {},
     "outputs": [
      {
       "output_type": "stream",
       "stream": "stdout",
       "text": [
        "The X matrix now has shape (676x4865) (molecules by non-NaN good molecular descriptors)\n"
       ]
      }
     ],
     "prompt_number": 33
    },
    {
     "cell_type": "code",
     "collapsed": false,
     "input": [
      "def purge2_X(X,good_molecular_descriptors=None):\n",
      "    if good_molecular_descriptors is None:\n",
      "        good_molecular_descriptors = range(X.shape[1])\n",
      "        zero_molecular_descriptors = np.where(np.abs(np.sum(X,axis=0))==0)[0] # All zeroes.  \n",
      "        invariant_molecular_descriptors = np.where(np.std(X,axis=0)==0)[0] # Same value for all molecules.  \n",
      "        bad_molecular_descriptors = set(zero_molecular_descriptors).union(invariant_molecular_descriptors) # Both of the above.  \n",
      "        # Purge these bad descriptors from the X matrix.  \n",
      "        good_molecular_descriptors = list(set(good_molecular_descriptors).difference(bad_molecular_descriptors))\n",
      "    X = X[:,good_molecular_descriptors]\n",
      "    print(\"The X matrix has shape (%dx%d) (molecules by good molecular descriptors)\" % X.shape)\n",
      "    return X,good_molecular_descriptors\n",
      "\n",
      "X_obs,good2_molecular_descriptors = purge2_X(X_obs)"
     ],
     "language": "python",
     "metadata": {},
     "outputs": [
      {
       "output_type": "stream",
       "stream": "stdout",
       "text": [
        "The X matrix has shape (676x2692) (molecules by good molecular descriptors)\n"
       ]
      }
     ],
     "prompt_number": 34
    },
    {
     "cell_type": "code",
     "collapsed": false,
     "input": [
      "def normalize_X(X,means=None,stds=None,logs=None):\n",
      "    if logs is None:\n",
      "        logs = np.where(np.min(X,axis=0)>0)[0]\n",
      "    num_cols = X.shape[1]\n",
      "    if target_dilution is None:\n",
      "        num_cols -= 1\n",
      "    for col in range(num_cols):\n",
      "        if col in logs:\n",
      "            X[:,col] = np.sign(X[:,col])*np.abs(X[:,col])**(1.0/3)\n",
      "    if means is None:\n",
      "        means = np.mean(X,axis=0)\n",
      "    if stds is None:\n",
      "        stds = np.std(X,axis=0)\n",
      "    X[:,:num_cols] -= means[np.newaxis,:num_cols]\n",
      "    X[:,:num_cols] /= stds[np.newaxis,:num_cols]\n",
      "    return X,means,stds,logs\n",
      "\n",
      "X_obs,X_means,X_stds,X_logs = normalize_X(X_obs)"
     ],
     "language": "python",
     "metadata": {},
     "outputs": [],
     "prompt_number": 35
    },
    {
     "cell_type": "code",
     "collapsed": false,
     "input": [
      "np.mean(X_obs,axis=0)"
     ],
     "language": "python",
     "metadata": {},
     "outputs": [
      {
       "metadata": {},
       "output_type": "pyout",
       "prompt_number": 36,
       "text": [
        "array([  2.62774680e-17,  -2.62774680e-17,   1.57664808e-17, ...,\n",
        "        -1.57664808e-16,  -2.62774680e-17,  -3.85798817e+00])"
       ]
      }
     ],
     "prompt_number": 36
    },
    {
     "cell_type": "code",
     "collapsed": false,
     "input": [
      "# Show the range of values for the molecular and perceptual descriptors.  \n",
      "plt.hist(X_obs.ravel())\n",
      "plt.yscale('log')\n",
      "plt.ylabel('Count')\n",
      "plt.xlabel('Cube root transformed molecular descriptor values')\n",
      "plt.figure()\n",
      "plt.hist(Y_obs['mean'].ravel())\n",
      "plt.yscale('log')\n",
      "plt.ylabel('Count')\n",
      "plt.xlabel('Perceptual descriptor subject-averaged values')"
     ],
     "language": "python",
     "metadata": {},
     "outputs": [
      {
       "metadata": {},
       "output_type": "pyout",
       "prompt_number": 37,
       "text": [
        "<matplotlib.text.Text at 0x108eecef0>"
       ]
      },
      {
       "metadata": {},
       "output_type": "display_data",
       "png": "[encoded data removed]",
       "text": [
        "<matplotlib.figure.Figure at 0x1089916a0>"
       ]
      },
      {
       "metadata": {},
       "output_type": "display_data",
       "png": "[encoded data removed]",
       "text": [
        "<matplotlib.figure.Figure at 0x1089a1278>"
       ]
      }
     ],
     "prompt_number": 37
    },
    {
     "cell_type": "code",
     "collapsed": false,
     "input": [
      "# Show that random forest regression can also be used to fit all the data in-sample.  \n",
      "\n",
      "def rfc_(X,Y,subchallenge,max_features=1500,n_estimators=200,max_depth=None,min_samples_leaf=1):\n",
      "    def rfc_maker():\n",
      "        return RandomForestRegressor(max_features=max_features,\n",
      "                                     n_estimators=n_estimators,\n",
      "                                     max_depth=max_depth,\n",
      "                                     min_samples_leaf=min_samples_leaf,\n",
      "                                     n_jobs=-1,\n",
      "                                     oob_score=True)\n",
      "    if subchallenge == 1:\n",
      "        n_subjects = 49\n",
      "        predicted_ = []\n",
      "        observed_ = []\n",
      "        rfcs = {subject:rfc_maker() for subject in range(1,n_subjects+1)}\n",
      "        for subject in range(1,n_subjects+1):\n",
      "            observed = Y[subject]\n",
      "            rfc = rfcs[subject]\n",
      "            rfc.fit(X,observed)\n",
      "            predicted = rfc.predict(X)\n",
      "            predicted = rfc.oob_prediction_\n",
      "            observed_.append(observed)\n",
      "            predicted_.append(predicted)\n",
      "            #scatter(x,y)\n",
      "        predicted = np.dstack(predicted_)\n",
      "        observed = np.dstack(observed_)\n",
      "        predicted_mean = np.mean(predicted,axis=2,keepdims=True)\n",
      "        regularize = 0.8\n",
      "        predicted = regularize*(predicted_mean) + (1-regularize)*predicted\n",
      "        score = dream.score(predicted,observed,n_subjects=n_subjects)\n",
      "        print(\"For subchallenge %d, score = %.2f\" % (subchallenge,score))\n",
      "        return rfcs\n",
      "        \n",
      "    if subchallenge == 2:\n",
      "        rfc = rfc_maker()\n",
      "        rfc.fit(X,Y)\n",
      "        x = rfc.predict(X)\n",
      "        x = rfc.oob_prediction_\n",
      "        y = Y\n",
      "        #scatter(x.ravel(),y.ravel())\n",
      "        score = dream.score2(x,y)\n",
      "        print(\"For subchallenge %d, score = %.2f\" % (subchallenge,score))\n",
      "        return rfc\n",
      "\n",
      "rfcs = {}\n",
      "if 1 in subchallenges:\n",
      "    plt.subplot(1,2,1)\n",
      "    rfcs[1] = rfc_(X_obs,Y_obs['subject'],1)\n",
      "if 2 in subchallenges:\n",
      "    plt.subplot(1,2,2)\n",
      "    rfcs[2] = rfc_(X_obs,Y_obs['mean_std'],2)\n",
      "    #ns = [100,200,400,700,1000,1500,2250,3000]\n",
      "    #plt.scatter(ns,scores)"
     ],
     "language": "python",
     "metadata": {},
     "outputs": [
      {
       "output_type": "stream",
       "stream": "stdout",
       "text": [
        "For subchallenge 1, score = 29.48\n",
        "For subchallenge 2, score = 8.64"
       ]
      },
      {
       "output_type": "stream",
       "stream": "stdout",
       "text": [
        "\n"
       ]
      },
      {
       "output_type": "stream",
       "stream": "stderr",
       "text": [
        "/Users/rgerkin/Dropbox/python3/lib/python3.4/site-packages/scipy/stats/stats.py:2436: RuntimeWarning: invalid value encountered in double_scalars\n",
        "  r = r_num / r_den\n"
       ]
      },
      {
       "metadata": {},
       "output_type": "display_data",
       "png": "[encoded data removed]",
       "text": [
        "<matplotlib.figure.Figure at 0x108ec7a90>"
       ]
      }
     ],
     "prompt_number": 38
    },
    {
     "cell_type": "code",
     "collapsed": false,
     "input": [
      "# Show that random forest regression also works really well out of sample.  \n",
      "\n",
      "def rfc_cv2(X,Y,subchallenge,max_features=1500,n_estimators=75,rfc=True):\n",
      "    if rfc:\n",
      "        rfc = RandomForestRegressor(max_features=max_features,\n",
      "                                n_estimators=n_estimators,\n",
      "                                max_depth=None,\n",
      "                                oob_score=False,\n",
      "                                n_jobs=-1)\n",
      "    else:\n",
      "        rfc = ExtraTreesRegressor(max_features=max_features,\n",
      "                                n_estimators=n_estimators,\n",
      "                                max_depth=None,\n",
      "                                oob_score=False,\n",
      "                                n_jobs=-1)\n",
      "    test_size = 0.2\n",
      "    shuffle_split = ShuffleSplit(len(Y),25,test_size=test_size)\n",
      "    test_size *= len(Y)\n",
      "    rs = []\n",
      "    ps = []\n",
      "    scores = []\n",
      "    for train_index,test_index in shuffle_split:\n",
      "        rfc.fit(X[train_index],Y[train_index])\n",
      "        Y_predict = rfc.predict(X[test_index])\n",
      "        Y_obs = Y[test_index]\n",
      "        r,p = pearsonr(Y_obs.ravel(),Y_predict.ravel())\n",
      "        rs.append(r)\n",
      "        ps.append(p)\n",
      "        score = dream.score2(Y_predict,Y_obs)\n",
      "        scores.append(score)\n",
      "        print(score)\n",
      "    print(\"For subchallenge %d, R = %.2f +/- %.2f, score = %.2f +/- %.2f\" % (subchallenge,\n",
      "                                                                     np.mean(rs),\n",
      "                                                                     np.std(rs)/np.sqrt(len(rs)),\n",
      "                                                                     np.mean(scores),\n",
      "                                                                     np.std(scores)/np.sqrt(len(scores))))\n",
      "    scatter(range(len(scores)),sorted(scores),color='r')\n",
      "    xlabel('Rank')\n",
      "    ylabel('Score')\n",
      "    return np.mean(scores)\n",
      "    \n",
      "if 2 in subchallenges:\n",
      "    plt.subplot(1,2,2)\n",
      "    #ns = [10,30,100,300,700,1000,2000,3000,X_obs.shape[1]]\n",
      "    rfc_cv2(X_obs,Y_obs['mean_std'],2,rfc=True)\n",
      "    #rfc_cv2(X_obs,Y_obs['mean_std'],2,rfc=False)\n",
      "    #plt.scatter(ns,scores)"
     ],
     "language": "python",
     "metadata": {},
     "outputs": [
      {
       "output_type": "stream",
       "stream": "stdout",
       "text": [
        "7.92710273109\n",
        "8.0615468998"
       ]
      },
      {
       "output_type": "stream",
       "stream": "stdout",
       "text": [
        "\n",
        "9.09392699915"
       ]
      },
      {
       "output_type": "stream",
       "stream": "stdout",
       "text": [
        "\n",
        "7.94719031969"
       ]
      },
      {
       "output_type": "stream",
       "stream": "stdout",
       "text": [
        "\n",
        "8.45519728011"
       ]
      },
      {
       "output_type": "stream",
       "stream": "stdout",
       "text": [
        "\n",
        "8.46090883437"
       ]
      },
      {
       "output_type": "stream",
       "stream": "stdout",
       "text": [
        "\n",
        "7.25078610999"
       ]
      },
      {
       "output_type": "stream",
       "stream": "stdout",
       "text": [
        "\n",
        "8.64233783508"
       ]
      },
      {
       "output_type": "stream",
       "stream": "stdout",
       "text": [
        "\n",
        "7.97598974497"
       ]
      },
      {
       "output_type": "stream",
       "stream": "stdout",
       "text": [
        "\n",
        "8.51918603843"
       ]
      },
      {
       "output_type": "stream",
       "stream": "stdout",
       "text": [
        "\n",
        "8.5881844506"
       ]
      },
      {
       "output_type": "stream",
       "stream": "stdout",
       "text": [
        "\n",
        "7.59474693866"
       ]
      },
      {
       "output_type": "stream",
       "stream": "stdout",
       "text": [
        "\n",
        "8.08270819584"
       ]
      },
      {
       "output_type": "stream",
       "stream": "stdout",
       "text": [
        "\n",
        "7.42035063621"
       ]
      },
      {
       "output_type": "stream",
       "stream": "stdout",
       "text": [
        "\n",
        "8.47330082027"
       ]
      },
      {
       "output_type": "stream",
       "stream": "stdout",
       "text": [
        "\n",
        "7.9730725399"
       ]
      },
      {
       "output_type": "stream",
       "stream": "stdout",
       "text": [
        "\n",
        "8.01956356638"
       ]
      },
      {
       "output_type": "stream",
       "stream": "stdout",
       "text": [
        "\n",
        "9.78844690427"
       ]
      },
      {
       "output_type": "stream",
       "stream": "stdout",
       "text": [
        "\n",
        "8.09122518613"
       ]
      },
      {
       "output_type": "stream",
       "stream": "stdout",
       "text": [
        "\n"
       ]
      },
      {
       "ename": "KeyboardInterrupt",
       "evalue": "",
       "output_type": "pyerr",
       "traceback": [
        "\u001b[0;31m---------------------------------------------------------------------------\u001b[0m\n\u001b[0;31mKeyboardInterrupt\u001b[0m                         Traceback (most recent call last)",
        "\u001b[0;32m<ipython-input-39-0cdf9e53c8af>\u001b[0m in \u001b[0;36m<module>\u001b[0;34m()\u001b[0m\n\u001b[1;32m     43\u001b[0m     \u001b[0mplt\u001b[0m\u001b[0;34m.\u001b[0m\u001b[0msubplot\u001b[0m\u001b[0;34m(\u001b[0m\u001b[0;36m1\u001b[0m\u001b[0;34m,\u001b[0m\u001b[0;36m2\u001b[0m\u001b[0;34m,\u001b[0m\u001b[0;36m2\u001b[0m\u001b[0;34m)\u001b[0m\u001b[0;34m\u001b[0m\u001b[0m\n\u001b[1;32m     44\u001b[0m     \u001b[0;31m#ns = [10,30,100,300,700,1000,2000,3000,X_obs.shape[1]]\u001b[0m\u001b[0;34m\u001b[0m\u001b[0;34m\u001b[0m\u001b[0m\n\u001b[0;32m---> 45\u001b[0;31m     \u001b[0mrfc_cv2\u001b[0m\u001b[0;34m(\u001b[0m\u001b[0mX_obs\u001b[0m\u001b[0;34m,\u001b[0m\u001b[0mY_obs\u001b[0m\u001b[0;34m[\u001b[0m\u001b[0;34m'mean_std'\u001b[0m\u001b[0;34m]\u001b[0m\u001b[0;34m,\u001b[0m\u001b[0;36m2\u001b[0m\u001b[0;34m,\u001b[0m\u001b[0mrfc\u001b[0m\u001b[0;34m=\u001b[0m\u001b[0;32mTrue\u001b[0m\u001b[0;34m)\u001b[0m\u001b[0;34m\u001b[0m\u001b[0m\n\u001b[0m\u001b[1;32m     46\u001b[0m     \u001b[0;31m#rfc_cv2(X_obs,Y_obs['mean_std'],2,rfc=False)\u001b[0m\u001b[0;34m\u001b[0m\u001b[0;34m\u001b[0m\u001b[0m\n\u001b[1;32m     47\u001b[0m     \u001b[0;31m#plt.scatter(ns,scores)\u001b[0m\u001b[0;34m\u001b[0m\u001b[0;34m\u001b[0m\u001b[0m\n",
        "\u001b[0;32m<ipython-input-39-0cdf9e53c8af>\u001b[0m in \u001b[0;36mrfc_cv2\u001b[0;34m(X, Y, subchallenge, max_features, n_estimators, rfc)\u001b[0m\n\u001b[1;32m     21\u001b[0m     \u001b[0mscores\u001b[0m \u001b[0;34m=\u001b[0m \u001b[0;34m[\u001b[0m\u001b[0;34m]\u001b[0m\u001b[0;34m\u001b[0m\u001b[0m\n\u001b[1;32m     22\u001b[0m     \u001b[0;32mfor\u001b[0m \u001b[0mtrain_index\u001b[0m\u001b[0;34m,\u001b[0m\u001b[0mtest_index\u001b[0m \u001b[0;32min\u001b[0m \u001b[0mshuffle_split\u001b[0m\u001b[0;34m:\u001b[0m\u001b[0;34m\u001b[0m\u001b[0m\n\u001b[0;32m---> 23\u001b[0;31m         \u001b[0mrfc\u001b[0m\u001b[0;34m.\u001b[0m\u001b[0mfit\u001b[0m\u001b[0;34m(\u001b[0m\u001b[0mX\u001b[0m\u001b[0;34m[\u001b[0m\u001b[0mtrain_index\u001b[0m\u001b[0;34m]\u001b[0m\u001b[0;34m,\u001b[0m\u001b[0mY\u001b[0m\u001b[0;34m[\u001b[0m\u001b[0mtrain_index\u001b[0m\u001b[0;34m]\u001b[0m\u001b[0;34m)\u001b[0m\u001b[0;34m\u001b[0m\u001b[0m\n\u001b[0m\u001b[1;32m     24\u001b[0m         \u001b[0mY_predict\u001b[0m \u001b[0;34m=\u001b[0m \u001b[0mrfc\u001b[0m\u001b[0;34m.\u001b[0m\u001b[0mpredict\u001b[0m\u001b[0;34m(\u001b[0m\u001b[0mX\u001b[0m\u001b[0;34m[\u001b[0m\u001b[0mtest_index\u001b[0m\u001b[0;34m]\u001b[0m\u001b[0;34m)\u001b[0m\u001b[0;34m\u001b[0m\u001b[0m\n\u001b[1;32m     25\u001b[0m         \u001b[0mY_obs\u001b[0m \u001b[0;34m=\u001b[0m \u001b[0mY\u001b[0m\u001b[0;34m[\u001b[0m\u001b[0mtest_index\u001b[0m\u001b[0;34m]\u001b[0m\u001b[0;34m\u001b[0m\u001b[0m\n",
        "\u001b[0;32m/Users/rgerkin/Dropbox/python3/lib/python3.4/site-packages/sklearn/ensemble/forest.py\u001b[0m in \u001b[0;36mfit\u001b[0;34m(self, X, y, sample_weight)\u001b[0m\n\u001b[1;32m    277\u001b[0m                 \u001b[0msample_weight\u001b[0m\u001b[0;34m,\u001b[0m\u001b[0;34m\u001b[0m\u001b[0m\n\u001b[1;32m    278\u001b[0m                 verbose=self.verbose)\n\u001b[0;32m--> 279\u001b[0;31m             for i in range(n_jobs))\n\u001b[0m\u001b[1;32m    280\u001b[0m \u001b[0;34m\u001b[0m\u001b[0m\n\u001b[1;32m    281\u001b[0m         \u001b[0;31m# Reduce\u001b[0m\u001b[0;34m\u001b[0m\u001b[0;34m\u001b[0m\u001b[0m\n",
        "\u001b[0;32m/Users/rgerkin/Dropbox/python3/lib/python3.4/site-packages/sklearn/externals/joblib/parallel.py\u001b[0m in \u001b[0;36m__call__\u001b[0;34m(self, iterable)\u001b[0m\n\u001b[1;32m    658\u001b[0m                 \u001b[0;31m# consumption.\u001b[0m\u001b[0;34m\u001b[0m\u001b[0;34m\u001b[0m\u001b[0m\n\u001b[1;32m    659\u001b[0m                 \u001b[0mself\u001b[0m\u001b[0;34m.\u001b[0m\u001b[0m_iterating\u001b[0m \u001b[0;34m=\u001b[0m \u001b[0;32mFalse\u001b[0m\u001b[0;34m\u001b[0m\u001b[0m\n\u001b[0;32m--> 660\u001b[0;31m             \u001b[0mself\u001b[0m\u001b[0;34m.\u001b[0m\u001b[0mretrieve\u001b[0m\u001b[0;34m(\u001b[0m\u001b[0;34m)\u001b[0m\u001b[0;34m\u001b[0m\u001b[0m\n\u001b[0m\u001b[1;32m    661\u001b[0m             \u001b[0;31m# Make sure that we get a last message telling us we are done\u001b[0m\u001b[0;34m\u001b[0m\u001b[0;34m\u001b[0m\u001b[0m\n\u001b[1;32m    662\u001b[0m             \u001b[0melapsed_time\u001b[0m \u001b[0;34m=\u001b[0m \u001b[0mtime\u001b[0m\u001b[0;34m.\u001b[0m\u001b[0mtime\u001b[0m\u001b[0;34m(\u001b[0m\u001b[0;34m)\u001b[0m \u001b[0;34m-\u001b[0m \u001b[0mself\u001b[0m\u001b[0;34m.\u001b[0m\u001b[0m_start_time\u001b[0m\u001b[0;34m\u001b[0m\u001b[0m\n",
        "\u001b[0;32m/Users/rgerkin/Dropbox/python3/lib/python3.4/site-packages/sklearn/externals/joblib/parallel.py\u001b[0m in \u001b[0;36mretrieve\u001b[0;34m(self)\u001b[0m\n\u001b[1;32m    510\u001b[0m                 \u001b[0mself\u001b[0m\u001b[0;34m.\u001b[0m\u001b[0m_lock\u001b[0m\u001b[0;34m.\u001b[0m\u001b[0mrelease\u001b[0m\u001b[0;34m(\u001b[0m\u001b[0;34m)\u001b[0m\u001b[0;34m\u001b[0m\u001b[0m\n\u001b[1;32m    511\u001b[0m             \u001b[0;32mtry\u001b[0m\u001b[0;34m:\u001b[0m\u001b[0;34m\u001b[0m\u001b[0m\n\u001b[0;32m--> 512\u001b[0;31m                 \u001b[0mself\u001b[0m\u001b[0;34m.\u001b[0m\u001b[0m_output\u001b[0m\u001b[0;34m.\u001b[0m\u001b[0mappend\u001b[0m\u001b[0;34m(\u001b[0m\u001b[0mjob\u001b[0m\u001b[0;34m.\u001b[0m\u001b[0mget\u001b[0m\u001b[0;34m(\u001b[0m\u001b[0;34m)\u001b[0m\u001b[0;34m)\u001b[0m\u001b[0;34m\u001b[0m\u001b[0m\n\u001b[0m\u001b[1;32m    513\u001b[0m             \u001b[0;32mexcept\u001b[0m \u001b[0mtuple\u001b[0m\u001b[0;34m(\u001b[0m\u001b[0mself\u001b[0m\u001b[0;34m.\u001b[0m\u001b[0mexceptions\u001b[0m\u001b[0;34m)\u001b[0m \u001b[0;32mas\u001b[0m \u001b[0mexception\u001b[0m\u001b[0;34m:\u001b[0m\u001b[0;34m\u001b[0m\u001b[0m\n\u001b[1;32m    514\u001b[0m                 \u001b[0;32mtry\u001b[0m\u001b[0;34m:\u001b[0m\u001b[0;34m\u001b[0m\u001b[0m\n",
        "\u001b[0;32m/Library/Frameworks/Python.framework/Versions/3.4/lib/python3.4/multiprocessing/pool.py\u001b[0m in \u001b[0;36mget\u001b[0;34m(self, timeout)\u001b[0m\n\u001b[1;32m    591\u001b[0m \u001b[0;34m\u001b[0m\u001b[0m\n\u001b[1;32m    592\u001b[0m     \u001b[0;32mdef\u001b[0m \u001b[0mget\u001b[0m\u001b[0;34m(\u001b[0m\u001b[0mself\u001b[0m\u001b[0;34m,\u001b[0m \u001b[0mtimeout\u001b[0m\u001b[0;34m=\u001b[0m\u001b[0;32mNone\u001b[0m\u001b[0;34m)\u001b[0m\u001b[0;34m:\u001b[0m\u001b[0;34m\u001b[0m\u001b[0m\n\u001b[0;32m--> 593\u001b[0;31m         \u001b[0mself\u001b[0m\u001b[0;34m.\u001b[0m\u001b[0mwait\u001b[0m\u001b[0;34m(\u001b[0m\u001b[0mtimeout\u001b[0m\u001b[0;34m)\u001b[0m\u001b[0;34m\u001b[0m\u001b[0m\n\u001b[0m\u001b[1;32m    594\u001b[0m         \u001b[0;32mif\u001b[0m \u001b[0;32mnot\u001b[0m \u001b[0mself\u001b[0m\u001b[0;34m.\u001b[0m\u001b[0mready\u001b[0m\u001b[0;34m(\u001b[0m\u001b[0;34m)\u001b[0m\u001b[0;34m:\u001b[0m\u001b[0;34m\u001b[0m\u001b[0m\n\u001b[1;32m    595\u001b[0m             \u001b[0;32mraise\u001b[0m \u001b[0mTimeoutError\u001b[0m\u001b[0;34m\u001b[0m\u001b[0m\n",
        "\u001b[0;32m/Library/Frameworks/Python.framework/Versions/3.4/lib/python3.4/multiprocessing/pool.py\u001b[0m in \u001b[0;36mwait\u001b[0;34m(self, timeout)\u001b[0m\n\u001b[1;32m    588\u001b[0m \u001b[0;34m\u001b[0m\u001b[0m\n\u001b[1;32m    589\u001b[0m     \u001b[0;32mdef\u001b[0m \u001b[0mwait\u001b[0m\u001b[0;34m(\u001b[0m\u001b[0mself\u001b[0m\u001b[0;34m,\u001b[0m \u001b[0mtimeout\u001b[0m\u001b[0;34m=\u001b[0m\u001b[0;32mNone\u001b[0m\u001b[0;34m)\u001b[0m\u001b[0;34m:\u001b[0m\u001b[0;34m\u001b[0m\u001b[0m\n\u001b[0;32m--> 590\u001b[0;31m         \u001b[0mself\u001b[0m\u001b[0;34m.\u001b[0m\u001b[0m_event\u001b[0m\u001b[0;34m.\u001b[0m\u001b[0mwait\u001b[0m\u001b[0;34m(\u001b[0m\u001b[0mtimeout\u001b[0m\u001b[0;34m)\u001b[0m\u001b[0;34m\u001b[0m\u001b[0m\n\u001b[0m\u001b[1;32m    591\u001b[0m \u001b[0;34m\u001b[0m\u001b[0m\n\u001b[1;32m    592\u001b[0m     \u001b[0;32mdef\u001b[0m \u001b[0mget\u001b[0m\u001b[0;34m(\u001b[0m\u001b[0mself\u001b[0m\u001b[0;34m,\u001b[0m \u001b[0mtimeout\u001b[0m\u001b[0;34m=\u001b[0m\u001b[0;32mNone\u001b[0m\u001b[0;34m)\u001b[0m\u001b[0;34m:\u001b[0m\u001b[0;34m\u001b[0m\u001b[0m\n",
        "\u001b[0;32m/Library/Frameworks/Python.framework/Versions/3.4/lib/python3.4/threading.py\u001b[0m in \u001b[0;36mwait\u001b[0;34m(self, timeout)\u001b[0m\n\u001b[1;32m    550\u001b[0m             \u001b[0msignaled\u001b[0m \u001b[0;34m=\u001b[0m \u001b[0mself\u001b[0m\u001b[0;34m.\u001b[0m\u001b[0m_flag\u001b[0m\u001b[0;34m\u001b[0m\u001b[0m\n\u001b[1;32m    551\u001b[0m             \u001b[0;32mif\u001b[0m \u001b[0;32mnot\u001b[0m \u001b[0msignaled\u001b[0m\u001b[0;34m:\u001b[0m\u001b[0;34m\u001b[0m\u001b[0m\n\u001b[0;32m--> 552\u001b[0;31m                 \u001b[0msignaled\u001b[0m \u001b[0;34m=\u001b[0m \u001b[0mself\u001b[0m\u001b[0;34m.\u001b[0m\u001b[0m_cond\u001b[0m\u001b[0;34m.\u001b[0m\u001b[0mwait\u001b[0m\u001b[0;34m(\u001b[0m\u001b[0mtimeout\u001b[0m\u001b[0;34m)\u001b[0m\u001b[0;34m\u001b[0m\u001b[0m\n\u001b[0m\u001b[1;32m    553\u001b[0m             \u001b[0;32mreturn\u001b[0m \u001b[0msignaled\u001b[0m\u001b[0;34m\u001b[0m\u001b[0m\n\u001b[1;32m    554\u001b[0m         \u001b[0;32mfinally\u001b[0m\u001b[0;34m:\u001b[0m\u001b[0;34m\u001b[0m\u001b[0m\n",
        "\u001b[0;32m/Library/Frameworks/Python.framework/Versions/3.4/lib/python3.4/threading.py\u001b[0m in \u001b[0;36mwait\u001b[0;34m(self, timeout)\u001b[0m\n\u001b[1;32m    287\u001b[0m         \u001b[0;32mtry\u001b[0m\u001b[0;34m:\u001b[0m    \u001b[0;31m# restore state no matter what (e.g., KeyboardInterrupt)\u001b[0m\u001b[0;34m\u001b[0m\u001b[0m\n\u001b[1;32m    288\u001b[0m             \u001b[0;32mif\u001b[0m \u001b[0mtimeout\u001b[0m \u001b[0;32mis\u001b[0m \u001b[0;32mNone\u001b[0m\u001b[0;34m:\u001b[0m\u001b[0;34m\u001b[0m\u001b[0m\n\u001b[0;32m--> 289\u001b[0;31m                 \u001b[0mwaiter\u001b[0m\u001b[0;34m.\u001b[0m\u001b[0macquire\u001b[0m\u001b[0;34m(\u001b[0m\u001b[0;34m)\u001b[0m\u001b[0;34m\u001b[0m\u001b[0m\n\u001b[0m\u001b[1;32m    290\u001b[0m                 \u001b[0mgotit\u001b[0m \u001b[0;34m=\u001b[0m \u001b[0;32mTrue\u001b[0m\u001b[0;34m\u001b[0m\u001b[0m\n\u001b[1;32m    291\u001b[0m             \u001b[0;32melse\u001b[0m\u001b[0;34m:\u001b[0m\u001b[0;34m\u001b[0m\u001b[0m\n",
        "\u001b[0;31mKeyboardInterrupt\u001b[0m: "
       ]
      },
      {
       "metadata": {},
       "output_type": "display_data",
       "png": "[encoded data removed]",
       "text": [
        "<matplotlib.figure.Figure at 0x10966bb38>"
       ]
      }
     ],
     "prompt_number": 39
    },
    {
     "cell_type": "heading",
     "level": 3,
     "metadata": {},
     "source": [
      "Generate what is needed to make the output files"
     ]
    },
    {
     "cell_type": "code",
     "collapsed": false,
     "input": [
      "CID_dilutions_leaderboard = dream.leaderboard_CIDs()\n",
      "#CIDs_testset = dream.testset_CIDs()"
     ],
     "language": "python",
     "metadata": {},
     "outputs": [],
     "prompt_number": 39
    },
    {
     "cell_type": "code",
     "collapsed": false,
     "input": [
      "# Compute molecular descriptor vectors for the molecules in the leaderboard sample.  \n",
      "CIDs_leaderboard = [int(CID_dilution.split('_')[0]) for CID_dilution in CID_dilutions_leaderboard]\n",
      "CID_dilutions_leaderboard_intensity = [CID_dilution.split('_')[0]+'_-3' for CID_dilution in CID_dilutions_leaderboard]\n",
      "\n",
      "molecular_vectors = dream.get_molecular_vectors(molecular_data,CIDs_leaderboard)\n",
      "\n",
      "molecular_vectors_intensity = add_dilutions(molecular_vectors,CID_dilutions_leaderboard_intensity)\n",
      "molecular_vectors = add_dilutions(molecular_vectors,CID_dilutions_leaderboard)\n",
      "#len(CIDs),len(set(CIDs))"
     ],
     "language": "python",
     "metadata": {},
     "outputs": [
      {
       "output_type": "stream",
       "stream": "stdout",
       "text": [
        "There are now 69 molecular vectors, one for each molecule and dilution\n",
        "There are now 69 molecular vectors, one for each molecule and dilution\n"
       ]
      }
     ],
     "prompt_number": 40
    },
    {
     "cell_type": "code",
     "collapsed": false,
     "input": [
      "list(molecular_vectors.keys())[:10],sorted(molecular_vectors)"
     ],
     "language": "python",
     "metadata": {},
     "outputs": [
      {
       "metadata": {},
       "output_type": "pyout",
       "prompt_number": 41,
       "text": [
        "(['11419_-5',\n",
        "  '61252_-5',\n",
        "  '1030_-1',\n",
        "  '7601_-5',\n",
        "  '7792_-5',\n",
        "  '8467_-1',\n",
        "  '8205_-5',\n",
        "  '1549778_-5',\n",
        "  '6114390_-5',\n",
        "  '8175_-1'],\n",
        " ['1030_-1',\n",
        "  '1060_-5',\n",
        "  '10722_-5',\n",
        "  '11124_-5',\n",
        "  '11419_-5',\n",
        "  '12206_-5',\n",
        "  '12348_-5',\n",
        "  '12748_-5',\n",
        "  '13187_-5',\n",
        "  '13204_-5',\n",
        "  '13216_-5',\n",
        "  '13436_-5',\n",
        "  '14328_-1',\n",
        "  '1549778_-5',\n",
        "  '1550470_-5',\n",
        "  '15606_-5',\n",
        "  '16220109_-1',\n",
        "  '22386_-5',\n",
        "  '24020_-5',\n",
        "  '243_-5',\n",
        "  '24473_-1',\n",
        "  '2682_-1',\n",
        "  '31210_-5',\n",
        "  '31266_-5',\n",
        "  '33032_-1',\n",
        "  '454_-5',\n",
        "  '520108_-5',\n",
        "  '5352539_-5',\n",
        "  '5355850_-5',\n",
        "  '5363233_-5',\n",
        "  '5367698_-5',\n",
        "  '61024_-5',\n",
        "  '6114390_-5',\n",
        "  '61151_-5',\n",
        "  '61155_-5',\n",
        "  '61177_-5',\n",
        "  '61252_-5',\n",
        "  '6137_-1',\n",
        "  '61771_-1',\n",
        "  '62572_-5',\n",
        "  '638024_-1',\n",
        "  '6386_-1',\n",
        "  '641256_-5',\n",
        "  '679_-1',\n",
        "  '6826_-5',\n",
        "  '6989_-5',\n",
        "  '7047_-5',\n",
        "  '7409_-5',\n",
        "  '7601_-5',\n",
        "  '7632_-5',\n",
        "  '778574_-1',\n",
        "  '7792_-5',\n",
        "  '7820_-1',\n",
        "  '7826_-5',\n",
        "  '8038_-5',\n",
        "  '8048_-1',\n",
        "  '8051_-5',\n",
        "  '8078_-1',\n",
        "  '8137_-5',\n",
        "  '8159_-1',\n",
        "  '8163_-1',\n",
        "  '8175_-1',\n",
        "  '8180_-1',\n",
        "  '8205_-5',\n",
        "  '8294_-5',\n",
        "  '8452_-1',\n",
        "  '8467_-1',\n",
        "  '8615_-1',\n",
        "  '9024_-1'])"
       ]
      }
     ],
     "prompt_number": 41
    },
    {
     "cell_type": "code",
     "collapsed": false,
     "input": [
      "X_leaderboard = build_X(molecular_vectors)\n",
      "X_leaderboard = X_leaderboard[:,good1_molecular_descriptors]\n",
      "X_leaderboard = impute_X(X_leaderboard)\n",
      "X_leaderboard = X_leaderboard[:,good2_molecular_descriptors]\n",
      "X_leaderboard,_,_,_ = normalize_X(X_leaderboard,means=X_means,stds=X_stds,logs=X_logs)\n",
      "print(\"The X matrix now has shape (%dx%d) molecules by non-NaN good molecular descriptors\" % X_leaderboard.shape)\n",
      "\n",
      "X_leaderboard_intensity = build_X(molecular_vectors_intensity)\n",
      "X_leaderboard_intensity = X_leaderboard_intensity[:,good1_molecular_descriptors]\n",
      "X_leaderboard_intensity = impute_X(X_leaderboard_intensity)\n",
      "X_leaderboard_intensity = X_leaderboard_intensity[:,good2_molecular_descriptors]\n",
      "X_leaderboard_intensity,_,_,_ = normalize_X(X_leaderboard_intensity,means=X_means,stds=X_stds,logs=X_logs)\n",
      "print(\"The X matrix now has shape (%dx%d) molecules by non-NaN good molecular descriptors\" % X_leaderboard.shape)"
     ],
     "language": "python",
     "metadata": {},
     "outputs": [
      {
       "output_type": "stream",
       "stream": "stdout",
       "text": [
        "The X matrix has shape (69x4865) (molecules by molecular descriptors)\n",
        "The X matrix now has shape (69x4865) (molecules by non-NaN good molecular descriptors)\n",
        "The X matrix now has shape (69x2692) molecules by non-NaN good molecular descriptors\n",
        "The X matrix has shape (69x4865) (molecules by molecular descriptors)\n",
        "The X matrix now has shape (69x4865) (molecules by non-NaN good molecular descriptors)\n",
        "The X matrix now has shape (69x2692) molecules by non-NaN good molecular descriptors\n"
       ]
      }
     ],
     "prompt_number": 42
    },
    {
     "cell_type": "code",
     "collapsed": false,
     "input": [
      "np.std(X_leaderboard,axis=0)"
     ],
     "language": "python",
     "metadata": {},
     "outputs": [
      {
       "metadata": {},
       "output_type": "pyout",
       "prompt_number": 43,
       "text": [
        "array([ 1.01429675,  0.9312257 ,  0.        , ...,  1.07127269,\n",
        "        2.17428852,  1.88561808])"
       ]
      }
     ],
     "prompt_number": 43
    },
    {
     "cell_type": "code",
     "collapsed": false,
     "input": [
      "Y_leaderboard = {'subject':{'mean':0}}\n",
      "if 1 in subchallenges:\n",
      "    regularize = 0.8\n",
      "    y_list = [rfcs[1][subject].predict(X_leaderboard) for subject in range(1,num_subjects+1)]\n",
      "    Y_leaderboard['subject']['mean'] = np.mean(np.dstack(y_list),axis=2)\n",
      "    for subject in range(1,num_subjects+1):\n",
      "        Y_leaderboard['subject'][subject] = (1-regularize)*rfcs[1][subject].predict(X_leaderboard) \\\n",
      "                                          + regularize*Y_leaderboard['subject']['mean']\n",
      "    del Y_leaderboard['subject']['mean']\n",
      "    y_list = [rfcs[1][subject].predict(X_leaderboard_intensity) for subject in range(1,num_subjects+1)]\n",
      "    Y_leaderboard['subject']['mean'] = np.mean(np.dstack(y_list),axis=2)\n",
      "    for subject in range(1,num_subjects+1):\n",
      "        Y_leaderboard['subject'][subject][:,0] = (1-regularize)*rfcs[1][subject].predict(X_leaderboard_intensity)[:,0] \\\n",
      "                                          + regularize*Y_leaderboard['subject']['mean'][:,0]\n",
      "if 2 in subchallenges:\n",
      "    Y_leaderboard['mean_std'] = rfcs[2].predict(X_leaderboard)\n",
      "    Y_leaderboard['mean_std'][:,[0,21]] = rfcs[2].predict(X_leaderboard_intensity)[:,[0,21]]"
     ],
     "language": "python",
     "metadata": {},
     "outputs": [],
     "prompt_number": 44
    },
    {
     "cell_type": "code",
     "collapsed": false,
     "input": [
      "#y_obs = np.dstack([Y_obs['subject'][subject] for subject in range(1,num_subjects+1)])\n",
      "#y_pred = np.dstack([Y_leaderboard['subject'][subject] for subject in range(1,num_subjects+1)])\n",
      "#dream.score(y_obs,y_pred),dream.score2(Y_obs['mean_std'],Y_leaderboard['mean_std'])"
     ],
     "language": "python",
     "metadata": {},
     "outputs": [],
     "prompt_number": 45
    },
    {
     "cell_type": "code",
     "collapsed": false,
     "input": [
      "# Write predictions for each subchallenge to a file.  \n",
      "import csv\n",
      "def open_prediction_file(subchallenge):\n",
      "    f = open('submission_challenge%d.txt' % subchallenge,'w')\n",
      "    writer = csv.writer(f,delimiter='\\t')\n",
      "    return f,writer\n",
      "\n",
      "# Subchallenge 1.\n",
      "if 1 in subchallenges:\n",
      "    Y = Y_leaderboard['subject']\n",
      "    f,writer = open_prediction_file(1)\n",
      "    writer.writerow([\"#oID\",\"individual\",\"descriptor\",\"value\"])\n",
      "    for subject in range(1,num_subjects+1):\n",
      "        for j in range(num_descriptors):\n",
      "            for i,CID_dilution in enumerate(CID_dilutions_leaderboard):\n",
      "                descriptor = perceptual_headers[-num_descriptors:][j]\n",
      "                value = Y[subject][i,j].round(3)\n",
      "                writer.writerow([CID_dilution.split('_')[0],subject,descriptor,value])\n",
      "    f.close()\n",
      "            \n",
      "# Subchallenge 2.\n",
      "if 2 in subchallenges:\n",
      "    Y = Y_leaderboard['mean_std']\n",
      "    f,writer = open_prediction_file(2)\n",
      "    writer.writerow([\"#oID\",\"descriptor\",\"value\",\"sigma\"])\n",
      "    for j in range(num_descriptors):\n",
      "        for i,CID_dilution in enumerate(CID_dilutions_leaderboard):\n",
      "            descriptor = perceptual_headers[-num_descriptors:][j]\n",
      "            value = Y[i,j].round(3)\n",
      "            sigma = Y[i,j+num_descriptors].round(3)\n",
      "            writer.writerow([CID_dilution.split('_')[0],descriptor,value,sigma])\n",
      "    f.close()\n",
      "\n",
      "Y = None"
     ],
     "language": "python",
     "metadata": {},
     "outputs": [],
     "prompt_number": 49
    },
    {
     "cell_type": "code",
     "collapsed": false,
     "input": [
      "CID_dilutions_leaderboard"
     ],
     "language": "python",
     "metadata": {},
     "outputs": [
      {
       "metadata": {},
       "output_type": "pyout",
       "prompt_number": 107,
       "text": [
        "['1030_-1',\n",
        " '1060_-5',\n",
        " '10722_-5',\n",
        " '11124_-5',\n",
        " '11419_-5',\n",
        " '12206_-5',\n",
        " '12348_-5',\n",
        " '12748_-5',\n",
        " '13187_-5',\n",
        " '13204_-5',\n",
        " '13216_-5',\n",
        " '13436_-5',\n",
        " '14328_-1',\n",
        " '1549778_-5',\n",
        " '1550470_-5',\n",
        " '15606_-5',\n",
        " '16220109_-1',\n",
        " '22386_-5',\n",
        " '24020_-5',\n",
        " '243_-5',\n",
        " '24473_-1',\n",
        " '2682_-1',\n",
        " '31210_-5',\n",
        " '31266_-5',\n",
        " '33032_-1',\n",
        " '454_-5',\n",
        " '520108_-5',\n",
        " '5352539_-5',\n",
        " '5355850_-5',\n",
        " '5363233_-5',\n",
        " '5367698_-5',\n",
        " '61024_-5',\n",
        " '6114390_-5',\n",
        " '61151_-5',\n",
        " '61155_-5',\n",
        " '61177_-5',\n",
        " '61252_-5',\n",
        " '6137_-1',\n",
        " '61771_-1',\n",
        " '62572_-5',\n",
        " '638024_-1',\n",
        " '6386_-1',\n",
        " '641256_-5',\n",
        " '679_-1',\n",
        " '6826_-5',\n",
        " '6989_-5',\n",
        " '7047_-5',\n",
        " '7409_-5',\n",
        " '7601_-5',\n",
        " '7632_-5',\n",
        " '778574_-1',\n",
        " '7792_-5',\n",
        " '7820_-1',\n",
        " '7826_-5',\n",
        " '8038_-5',\n",
        " '8048_-1',\n",
        " '8051_-5',\n",
        " '8078_-1',\n",
        " '8137_-5',\n",
        " '8159_-1',\n",
        " '8163_-1',\n",
        " '8175_-1',\n",
        " '8180_-1',\n",
        " '8205_-5',\n",
        " '8294_-5',\n",
        " '8452_-1',\n",
        " '8467_-1',\n",
        " '8615_-1',\n",
        " '9024_-1']"
       ]
      }
     ],
     "prompt_number": 107
    },
    {
     "cell_type": "code",
     "collapsed": false,
     "input": [
      "from scipy.optimize import fmin_tnc\n",
      "#fmin_tnc(reg_score,np.array([0.4,0.05,0.4]),bounds=[(0.0,1.0),(0.0,1.0),(0.0,1.0)])"
     ],
     "language": "python",
     "metadata": {},
     "outputs": [],
     "prompt_number": 47
    },
    {
     "cell_type": "code",
     "collapsed": false,
     "input": [
      "Y_leaderboard['mean_std']"
     ],
     "language": "python",
     "metadata": {},
     "outputs": [
      {
       "metadata": {},
       "output_type": "pyout",
       "prompt_number": 198,
       "text": [
        "array([[ 36.18183673,  40.50647959,   2.49193878, ...,   7.18569725,\n",
        "         11.16011421,  20.44792715],\n",
        "       [ 26.80244898,  41.35658163,   2.10510204, ...,   8.68539881,\n",
        "         11.03631438,  16.81480808],\n",
        "       [ 34.15377551,  45.56846939,   2.65693878, ...,  10.32545831,\n",
        "         14.3463583 ,  20.30463977],\n",
        "       ..., \n",
        "       [ 61.22265306,  55.15897959,  14.86418367, ...,   8.80647724,\n",
        "         16.2814015 ,  20.35128912],\n",
        "       [ 49.29428571,  49.6955102 ,   3.19918367, ...,   9.56110777,\n",
        "         19.4896124 ,  24.02730263],\n",
        "       [ 58.92714286,  49.88602041,   3.69112245, ...,  10.68653488,\n",
        "         17.40383   ,  24.83568373]])"
       ]
      }
     ],
     "prompt_number": 198
    },
    {
     "cell_type": "code",
     "collapsed": false,
     "input": [
      "molecular_vectors = dream.get_molecular_vectors(molecular_data,CIDs_leaderboard)\n",
      "list(molecular_vectors.keys())[:10],sorted(molecular_vectors)[:10]"
     ],
     "language": "python",
     "metadata": {},
     "outputs": [
      {
       "metadata": {},
       "output_type": "pyout",
       "prompt_number": 251,
       "text": [
        "([13187, 8452, 1030, 7047, 33032, 7820, 8205, 8078, 7826, 8467],\n",
        " [243, 454, 679, 1030, 1060, 2682, 6137, 6386, 6826, 6989])"
       ]
      }
     ],
     "prompt_number": 251
    },
    {
     "cell_type": "code",
     "collapsed": false,
     "input": [
      "X_obs[:,0].std()"
     ],
     "language": "python",
     "metadata": {},
     "outputs": [
      {
       "metadata": {},
       "output_type": "pyout",
       "prompt_number": 328,
       "text": [
        "0.072285439352219136"
       ]
      }
     ],
     "prompt_number": 328
    },
    {
     "cell_type": "code",
     "collapsed": false,
     "input": [
      "molecular_vectors['1030_-1']"
     ],
     "language": "python",
     "metadata": {},
     "outputs": [
      {
       "metadata": {},
       "output_type": "pyout",
       "prompt_number": 318,
       "text": [
        "array([ 6, 15,  0, ...,  0,  0, -1])"
       ]
      }
     ],
     "prompt_number": 318
    },
    {
     "cell_type": "heading",
     "level": 3,
     "metadata": {},
     "source": [
      "Extras"
     ]
    },
    {
     "cell_type": "code",
     "collapsed": false,
     "input": [
      "regs = np.linspace(0.3,1,25)\n",
      "def reg_score(regularize):\n",
      "    predicted_ = []\n",
      "    observed_ = []\n",
      "    for subject,rfc in rfcs[1].items():\n",
      "        predicted = rfc.predict(X_obs)\n",
      "        predicted = rfc.oob_prediction_\n",
      "        predicted_.append(predicted)\n",
      "        observed_.append(Y_obs['subject'][subject])\n",
      "    predicted = np.dstack(predicted_)\n",
      "    observed = np.dstack(observed_)\n",
      "    predicted_mean0 = np.mean(predicted,axis=0,keepdims=True)\n",
      "    predicted_mean1 = np.mean(predicted,axis=1,keepdims=True)\n",
      "    predicted_mean2 = np.mean(predicted,axis=2,keepdims=True)\n",
      "    predicted = regularize[0]*(predicted_mean0) \\\n",
      "              + regularize[1]*(predicted_mean1) \\\n",
      "              + regularize[2]*(predicted_mean2) \\\n",
      "              + (1-np.sum(regularize))*predicted\n",
      "    score = dream.score(predicted,observed,n_subjects=len(rfcs[1]))\n",
      "    #print(regularize,score)\n",
      "    return -score\n",
      "values = []\n",
      "for reg0 in [0.0]:\n",
      "    for reg1 in [0.0]:\n",
      "        for reg2 in np.linspace(0,1,20):\n",
      "            if reg0+reg1+reg2 <= 1.0:\n",
      "                values.append((reg0,reg1,reg2,-reg_score([reg0,reg1,reg2])))\n",
      "_,_,vals,scores = zip(*values)\n",
      "plt.scatter(vals,scores) # Plot score vs. regularization value.  "
     ],
     "language": "python",
     "metadata": {},
     "outputs": [
      {
       "metadata": {},
       "output_type": "pyout",
       "prompt_number": 40,
       "text": [
        "<matplotlib.collections.PathCollection at 0x1185eab38>"
       ]
      },
      {
       "metadata": {},
       "output_type": "display_data",
       "png": "[encoded data removed]",
       "text": [
        "<matplotlib.figure.Figure at 0x11badb128>"
       ]
      }
     ],
     "prompt_number": 40
    },
    {
     "cell_type": "code",
     "collapsed": false,
     "input": [
      "rfc = RandomForestRegressor(max_features=None,\n",
      "                                n_estimators=250,\n",
      "                                max_depth=None,\n",
      "                                min_samples_leaf=1,\n",
      "                                n_jobs=1,\n",
      "                                oob_score=False)\n",
      "n_molecules = len(Y_obs['mean_std'])\n",
      "shuffle_split = ShuffleSplit(n_molecules,2,test_size=0.2)\n",
      "grid = GridSearchCV(rfc,{'n_estimators':[10,200]}, scoring=dream.scorer2, cv=shuffle_split, n_jobs=-1, verbose=1)\n",
      "#grid.fit(X_obs,Y_obs['mean_std']) # Find best parameters for random forest.  "
     ],
     "language": "python",
     "metadata": {},
     "outputs": [],
     "prompt_number": 36
    },
    {
     "cell_type": "code",
     "collapsed": false,
     "input": [
      "# Show that random forest regrssion also works really well out of sample.  \n",
      "from sklearn.cross_validation import ShuffleSplit,cross_val_score\n",
      "def rfc_cv1(X,Y,subchallenge,max_features=1500,n_estimators=75,regularize=0.8,Y_obs_mean_std=None):\n",
      "    test_size = 0.2\n",
      "    n_molecules = X.shape[0]\n",
      "    shuffle_split = ShuffleSplit(n_molecules,3,test_size=test_size)\n",
      "    test_size *= n_molecules\n",
      "    rfcs = {}\n",
      "    n_subjects = 49\n",
      "    for subject in range(1,n_subjects+1):\n",
      "        rfc = RandomForestRegressor(max_features=max_features,\n",
      "                                    n_estimators=n_estimators,\n",
      "                                    max_depth=None,\n",
      "                                    oob_score=False,\n",
      "                                    n_jobs=-1,\n",
      "                                    random_state=0)\n",
      "        rfcs[subject] = rfc\n",
      "    scores = []\n",
      "    rs = []\n",
      "    ps = []\n",
      "    for train_index,test_index in shuffle_split:\n",
      "        Y_obs_list = []\n",
      "        Y_predict_list = []\n",
      "        rs_=[]\n",
      "        for subject in range(1,n_subjects+1):\n",
      "            rfc = rfcs[subject]\n",
      "            X_train = X[train_index]\n",
      "            Y_train = Y[subject][train_index]\n",
      "            rfc.fit(X_train,Y_train)\n",
      "            X_test = X[test_index]\n",
      "            Y_predict = rfc.predict(X_test)\n",
      "            Y_obs = Y[subject][test_index]\n",
      "            r,p = pearsonr(Y_predict.ravel(),Y_obs.ravel())\n",
      "            rs_.append(r)\n",
      "            ps.append(p)\n",
      "            #print(\"Subject %d, r=%.2f\" % (subject,r))\n",
      "            Y_obs_list.append(Y_obs)\n",
      "            Y_predict_list.append(Y_predict)\n",
      "        rs.append(np.mean(rs_))\n",
      "        Y_obs = np.dstack(Y_obs_list)\n",
      "        Y_predict = np.dstack(Y_predict_list)\n",
      "        Y_predict_mean = np.mean(Y_predict,axis=2)\n",
      "        Y_predict_mean_ = np.dstack([Y_predict_mean for _ in range(n_subjects)])\n",
      "        Y_predict = regularize*(Y_predict_mean_) + (1-regularize)*Y_predict\n",
      "        score = dream.score(Y_predict,Y_obs)\n",
      "        print(score)\n",
      "        scores.append(score)\n",
      "            \n",
      "    print(\"For subchallenge %d, R = %.2f +/- %.2f, score = %.2f +/- %.2f\" % (subchallenge,\n",
      "                                                                     np.mean(rs),\n",
      "                                                                     np.std(rs)/np.sqrt(len(rs)),\n",
      "                                                                     np.mean(scores),\n",
      "                                                                     np.std(scores)/np.sqrt(len(scores))))\n",
      "    #scatter(range(len(scores)),sorted(scores),color='r')\n",
      "    #xlabel('Rank')\n",
      "    #ylabel('Score')\n",
      "    return np.mean(scores)\n",
      "    \n",
      "ns = [0,0.25,0.5,0.75,1]\n",
      "if 1 in subchallenges:\n",
      "    #rfc_cv2(X_obs,Y_obs['mean_std'],2)\n",
      "    #rfc_cv1(X_obs,Y_obs['subject'],1)\n",
      "    pass#plt.subplot(1,2,1)\n",
      "    #scores = [rfc_cv(X_obs,Y_obs['subject'],1,max_ for n in ns]\n",
      "    #plt.scatter(ns,scores)"
     ],
     "language": "python",
     "metadata": {},
     "outputs": [],
     "prompt_number": 39
    },
    {
     "cell_type": "code",
     "collapsed": false,
     "input": [
      "sorted(molecular_vectors)[:20]"
     ],
     "language": "python",
     "metadata": {},
     "outputs": [
      {
       "metadata": {},
       "output_type": "pyout",
       "prompt_number": 59,
       "text": [
        "['1030_-1',\n",
        " '1060_-5',\n",
        " '10722_-5',\n",
        " '11124_-5',\n",
        " '11419_-5',\n",
        " '12206_-5',\n",
        " '12348_-5',\n",
        " '12748_-5',\n",
        " '13187_-5',\n",
        " '13204_-5',\n",
        " '13216_-5',\n",
        " '13436_-5',\n",
        " '14328_-1',\n",
        " '1549778_-5',\n",
        " '1550470_-5',\n",
        " '15606_-5',\n",
        " '16220109_-1',\n",
        " '22386_-5',\n",
        " '24020_-5',\n",
        " '243_-5']"
       ]
      }
     ],
     "prompt_number": 59
    },
    {
     "cell_type": "code",
     "collapsed": false,
     "input": [
      "sorted(molecular_vectors_intensity)[:20]"
     ],
     "language": "python",
     "metadata": {},
     "outputs": [
      {
       "metadata": {},
       "output_type": "pyout",
       "prompt_number": 60,
       "text": [
        "['1030_-3',\n",
        " '1060_-3',\n",
        " '10722_-3',\n",
        " '11124_-3',\n",
        " '11419_-3',\n",
        " '12206_-3',\n",
        " '12348_-3',\n",
        " '12748_-3',\n",
        " '13187_-3',\n",
        " '13204_-3',\n",
        " '13216_-3',\n",
        " '13436_-3',\n",
        " '14328_-3',\n",
        " '1549778_-3',\n",
        " '1550470_-3',\n",
        " '15606_-3',\n",
        " '16220109_-3',\n",
        " '22386_-3',\n",
        " '24020_-3',\n",
        " '243_-3']"
       ]
      }
     ],
     "prompt_number": 60
    },
    {
     "cell_type": "code",
     "collapsed": false,
     "input": [],
     "language": "python",
     "metadata": {},
     "outputs": []
    }
   ],
   "metadata": {}
  }
 ]
}