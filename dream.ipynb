{
 "metadata": {
  "name": "",
  "signature": "sha256:339d38e9c95d06fe6c7ddb7007639dd938bf7a057c2499903c36765dfbe22b36"
 },
 "nbformat": 3,
 "nbformat_minor": 0,
 "worksheets": [
  {
   "cells": [
    {
     "cell_type": "code",
     "collapsed": false,
     "input": [
      "# Preliminaries to setup the notebook.  \n",
      "%pylab inline\n",
      "%load_ext autoreload\n",
      "%autoreload 2"
     ],
     "language": "python",
     "metadata": {},
     "outputs": [
      {
       "output_type": "stream",
       "stream": "stdout",
       "text": [
        "Populating the interactive namespace from numpy and matplotlib\n"
       ]
      }
     ],
     "prompt_number": 1
    },
    {
     "cell_type": "code",
     "collapsed": false,
     "input": [
      "# Import numerical libraries.  \n",
      "from scipy.stats import pearsonr"
     ],
     "language": "python",
     "metadata": {},
     "outputs": [],
     "prompt_number": 2
    },
    {
     "cell_type": "code",
     "collapsed": false,
     "input": [
      "# Import the file I wrote to load the data from the tab-delimited text files.  \n",
      "import dream"
     ],
     "language": "python",
     "metadata": {},
     "outputs": [],
     "prompt_number": 3
    },
    {
     "cell_type": "code",
     "collapsed": false,
     "input": [
      "# Load the perceptual descriptors data.  \n",
      "perceptual_headers, perceptual_data = dream.load_perceptual_data()"
     ],
     "language": "python",
     "metadata": {},
     "outputs": [],
     "prompt_number": 4
    },
    {
     "cell_type": "code",
     "collapsed": false,
     "input": [
      "# Show the perceptual metadata types and perceptual descriptor names.\n",
      "print(perceptual_headers)"
     ],
     "language": "python",
     "metadata": {},
     "outputs": [
      {
       "output_type": "stream",
       "stream": "stdout",
       "text": [
        "['Compound Identifier', 'Odor', 'Replicate', 'Intensity', 'Dilution', 'subject #', 'INTENSITY/STRENGTH', 'VALENCE/PLEASANTNESS', 'BAKERY', 'SWEET', 'FRUIT', 'FISH', 'GARLIC', 'SPICES', 'COLD', 'SOUR', 'BURNT', 'ACID', 'WARM', 'MUSKY', 'SWEATY', 'AMMONIA/URINOUS', 'DECAYED', 'WOOD', 'GRASS', 'FLOWER', 'CHEMICAL']\n"
       ]
      }
     ],
     "prompt_number": 5
    },
    {
     "cell_type": "code",
     "collapsed": false,
     "input": [
      "# Show the metadata and perceptual descriptor values for the first compound.\n",
      "print(perceptual_data[1])"
     ],
     "language": "python",
     "metadata": {},
     "outputs": [
      {
       "output_type": "stream",
       "stream": "stdout",
       "text": [
        "['126', '4-Hydroxybenzaldehyde', False, 'high', '1/10', '1', 37, 60, 0, 72, 0, 0, 0, 0, 0, 0, 0, 0, 0, 0, 0, 0, 0, 0, 0, 0, 0]\n"
       ]
      }
     ],
     "prompt_number": 6
    },
    {
     "cell_type": "code",
     "collapsed": false,
     "input": [
      "# Load the molecular descriptors data.  \n",
      "molecular_headers, molecular_data = dream.load_molecular_data()"
     ],
     "language": "python",
     "metadata": {},
     "outputs": [],
     "prompt_number": 7
    },
    {
     "cell_type": "code",
     "collapsed": false,
     "input": [
      "# Show first 10 molecular descriptors types (zeroth is just the compound identifier).  \n",
      "print(molecular_headers[:10])"
     ],
     "language": "python",
     "metadata": {},
     "outputs": [
      {
       "output_type": "stream",
       "stream": "stdout",
       "text": [
        "['CID', 'complexity from pubmed', 'MW', 'AMW', 'Sv', 'Se', 'Sp', 'Si', 'Mv', 'Me']\n"
       ]
      }
     ],
     "prompt_number": 8
    },
    {
     "cell_type": "code",
     "collapsed": false,
     "input": [
      "# Show first 10 molecular descriptors values for the first compound (zeroth is just the compound identifier).  \n",
      "print(molecular_data[0][:10])"
     ],
     "language": "python",
     "metadata": {},
     "outputs": [
      {
       "output_type": "stream",
       "stream": "stdout",
       "text": [
        "['126', 10.193, 16.664, 0.667, 1.02, 0.68, 1.111, 15.0, 9.0, 15.0]\n"
       ]
      }
     ],
     "prompt_number": 9
    },
    {
     "cell_type": "code",
     "collapsed": false,
     "input": [
      "# How many unique molecules do we have perceptual data for?  \n",
      "training_size = len(set([int(row[0]) for row in perceptual_data]))\n",
      "print(training_size)"
     ],
     "language": "python",
     "metadata": {},
     "outputs": [
      {
       "output_type": "stream",
       "stream": "stdout",
       "text": [
        "336\n"
       ]
      }
     ],
     "prompt_number": 10
    },
    {
     "cell_type": "code",
     "collapsed": false,
     "input": [
      "# How many unique molecules do we have descriptors for?  \n",
      "total_size = len(set([int(row[0]) for row in molecular_data]))\n",
      "print(total_size)"
     ],
     "language": "python",
     "metadata": {},
     "outputs": [
      {
       "output_type": "stream",
       "stream": "stdout",
       "text": [
        "476\n"
       ]
      }
     ],
     "prompt_number": 11
    },
    {
     "cell_type": "code",
     "collapsed": false,
     "input": [
      "# How many are left out for testing in the competition?  Note that half of these will be used for the leaderboard\n",
      "print(total_size - training_size)"
     ],
     "language": "python",
     "metadata": {},
     "outputs": [
      {
       "output_type": "stream",
       "stream": "stdout",
       "text": [
        "140\n"
       ]
      }
     ],
     "prompt_number": 12
    },
    {
     "cell_type": "code",
     "collapsed": false,
     "input": [
      "# How many total rows are there in the perceptual data set (there can be at least one for each subject and molecule)?  \n",
      "print(len(perceptual_data))"
     ],
     "language": "python",
     "metadata": {},
     "outputs": [
      {
       "output_type": "stream",
       "stream": "stdout",
       "text": [
        "35084\n"
       ]
      }
     ],
     "prompt_number": 13
    },
    {
     "cell_type": "code",
     "collapsed": false,
     "input": [
      "# How many of those descriptor vectors are replicates (same subject and compound)?\n",
      "print(sum([x[2] for x in perceptual_data]))"
     ],
     "language": "python",
     "metadata": {},
     "outputs": [
      {
       "output_type": "stream",
       "stream": "stdout",
       "text": [
        "1960\n"
       ]
      }
     ],
     "prompt_number": 14
    },
    {
     "cell_type": "code",
     "collapsed": false,
     "input": [
      "# Compute perceptual descriptor matrices for molecules test at a given dilution.  \n",
      "perceptual_matrices = {}\n",
      "CIDs = []\n",
      "target_dilution = '1/10'\n",
      "for row in perceptual_data:\n",
      "    CID = int(row[0])\n",
      "    CIDs.append(CID)\n",
      "    dilution = row[4]\n",
      "    if dilution == target_dilution:\n",
      "        if CID in perceptual_matrices:\n",
      "            existing_data = perceptual_matrices[CID]\n",
      "            new_data = array(row[6:])\n",
      "            perceptual_matrices[CID] = vstack((existing_data,new_data))\n",
      "        else:\n",
      "            perceptual_matrices[CID] = array(row[6:])\n",
      "print(\"Each perceptual matrix has shape %dx%d\" % list(perceptual_matrices.values())[0].shape)\n",
      "print(\"There are %d such matrices, one for each molecule tested at %s dilution\" % (len(perceptual_matrices),target_dilution))"
     ],
     "language": "python",
     "metadata": {},
     "outputs": [
      {
       "output_type": "stream",
       "stream": "stdout",
       "text": [
        "Each perceptual matrix has shape 49x21\n",
        "There are 82 such matrices, one for each molecule tested at 1/10 dilution\n"
       ]
      }
     ],
     "prompt_number": 21
    },
    {
     "cell_type": "code",
     "collapsed": false,
     "input": [
      "# The loader I wrote replaced all NaN values with 9999.  \n",
      "# Here we setup an imputer to impute new values based on row and column means.  \n",
      "from sklearn.preprocessing import Imputer\n",
      "imputer = Imputer(missing_values=9999)"
     ],
     "language": "python",
     "metadata": {},
     "outputs": [],
     "prompt_number": 16
    },
    {
     "cell_type": "code",
     "collapsed": false,
     "input": [
      "# Compute subject-averaged perceptual descriptor vectors from the matrices.  \n",
      "perceptual_vectors = {}\n",
      "for CID,matrix in perceptual_matrices.items():\n",
      "    imputed_matrix = imputer.fit_transform(matrix) # Impute the NaNs.  \n",
      "    perceptual_vectors[CID] = imputed_matrix.mean(axis=0)\n",
      "print(\"Subject-averaged perceptual vector has length %d\" % list(perceptual_vectors.values())[0].shape)\n",
      "print(\"There are %d such vectors, one for each molecule tested at %s dilution\" % (len(perceptual_vectors),target_dilution))"
     ],
     "language": "python",
     "metadata": {},
     "outputs": [
      {
       "output_type": "stream",
       "stream": "stdout",
       "text": [
        "Subject-averaged perceptual vector has length 21\n",
        "There are 82 such vectors, one for each molecule tested at 1/10 dilution\n"
       ]
      }
     ],
     "prompt_number": 17
    },
    {
     "cell_type": "code",
     "collapsed": false,
     "input": [
      "# Compute molecular descriptor vectors for the molecules tested above.  \n",
      "molecular_vectors = {}\n",
      "for row in molecular_data:\n",
      "    CID = int(row[0])\n",
      "    if CID in perceptual_vectors:\n",
      "        molecular_vectors[CID] = array(row[1:])\n",
      "print(\"Each molecular vector has length %d\" % list(molecular_vectors.values())[0].shape)\n",
      "print(\"There are %d such vectors, one for each molecule tested at %s dilution that could be located in the molecular data\" \\\n",
      "      % (len(molecular_vectors),target_dilution))"
     ],
     "language": "python",
     "metadata": {},
     "outputs": [
      {
       "output_type": "stream",
       "stream": "stdout",
       "text": [
        "Each molecular vector has length 4864\n",
        "There are 69 such vectors, one for each molecule tested at 1/10 dilution that could be located in the molecular data\n"
       ]
      }
     ],
     "prompt_number": 22
    },
    {
     "cell_type": "code",
     "collapsed": false,
     "input": [
      "# Purge molecules from perceptual_vectors that are not in molecular_vectors.  \n",
      "perceptual_vectors = {key:value for key,value in perceptual_vectors.items() if key in molecular_vectors}"
     ],
     "language": "python",
     "metadata": {},
     "outputs": [],
     "prompt_number": 23
    },
    {
     "cell_type": "code",
     "collapsed": false,
     "input": [
      "# Make sure we have the same number of molecules in both sets of vectors.  \n",
      "print(\"There are now %d molecules in perceptual_vectors and %d molecules in molecular_vectors\" % \\\n",
      "      (len(perceptual_vectors),len(molecular_vectors)))\n",
      "print(\"These should be the same number.\")"
     ],
     "language": "python",
     "metadata": {},
     "outputs": [
      {
       "output_type": "stream",
       "stream": "stdout",
       "text": [
        "There are now 69 molecules in perceptual_vectors and 69 molecules in molecular_vectors\n",
        "These should be the same number.\n"
       ]
      }
     ],
     "prompt_number": 24
    },
    {
     "cell_type": "code",
     "collapsed": false,
     "input": [
      "# Build the Y matrix out of perceptual descriptors.\n",
      "Y = vstack([perceptual_vectors[CID] for CID in sorted(perceptual_vectors)])\n",
      "print(\"The Y matrix has shape (%dx%d) (molecules by perceptual descriptors)\" % Y.shape)"
     ],
     "language": "python",
     "metadata": {},
     "outputs": [
      {
       "output_type": "stream",
       "stream": "stdout",
       "text": [
        "The Y matrix has shape (69x21) (molecules by perceptual descriptors)\n"
       ]
      }
     ],
     "prompt_number": 25
    },
    {
     "cell_type": "code",
     "collapsed": false,
     "input": [
      "# Build the X matrix out of molecular descriptors.  \n",
      "# Also cube-root transform them to get this on a similar scale to the perceptual vectors.    \n",
      "X = vstack([molecular_vectors[CID] for CID in sorted(molecular_vectors)])\n",
      "X = X**(1.0/3)\n",
      "print(\"The X matrix has shape (%dx%d) (molecules by molecular descriptors)\" % X.shape)"
     ],
     "language": "python",
     "metadata": {},
     "outputs": [
      {
       "output_type": "stream",
       "stream": "stdout",
       "text": [
        "The X matrix has shape (69x4864) (molecules by molecular descriptors)\n"
       ]
      },
      {
       "output_type": "stream",
       "stream": "stderr",
       "text": [
        "-c:4: RuntimeWarning: invalid value encountered in power\n"
       ]
      }
     ],
     "prompt_number": 26
    },
    {
     "cell_type": "code",
     "collapsed": false,
     "input": [
      "# The X matrix (molecular descriptors) still has NaN values (converted to 9999 when loaded) which need to be imputed.  \n",
      "X = imputer.fit_transform(X)\n",
      "print(\"The X matrix now has shape (%dx%d) (molecules by non-NaN molecular descriptors)\" % X.shape)"
     ],
     "language": "python",
     "metadata": {},
     "outputs": [
      {
       "output_type": "stream",
       "stream": "stdout",
       "text": [
        "The X matrix now has shape (69x4404) (molecules by non-NaN molecular descriptors)\n"
       ]
      },
      {
       "output_type": "stream",
       "stream": "stderr",
       "text": [
        "/Users/rgerkin/Dropbox/python3/lib/python3.4/site-packages/numpy/ma/core.py:785: RuntimeWarning: invalid value encountered in greater_equal\n",
        "  return umath.absolute(a) * self.tolerance >= umath.absolute(b)\n"
       ]
      }
     ],
     "prompt_number": 27
    },
    {
     "cell_type": "code",
     "collapsed": false,
     "input": [
      "# Show the range of values for the molecular and perceptual descriptors.  \n",
      "hist(X.ravel())\n",
      "yscale('log')\n",
      "ylabel('Count')\n",
      "xlabel('Cube root transformed molecular descriptor values')\n",
      "figure()\n",
      "hist(Y.ravel())\n",
      "yscale('log')\n",
      "ylabel('Count')\n",
      "xlabel('Perceptual descriptor values')"
     ],
     "language": "python",
     "metadata": {},
     "outputs": [
      {
       "metadata": {},
       "output_type": "pyout",
       "prompt_number": 28,
       "text": [
        "<matplotlib.text.Text at 0x10f2c6eb8>"
       ]
      },
      {
       "metadata": {},
       "output_type": "display_data",
       "png": "[encoded data removed]",
       "text": [
        "<matplotlib.figure.Figure at 0x10f0212e8>"
       ]
      },
      {
       "metadata": {},
       "output_type": "display_data",
       "png": "[encoded data removed]",
       "text": [
        "<matplotlib.figure.Figure at 0x10ef89b70>"
       ]
      }
     ],
     "prompt_number": 28
    },
    {
     "cell_type": "code",
     "collapsed": false,
     "input": [
      "# Canonical correlation analysis class.  Solves Y = A * X to yield A.    \n",
      "from sklearn.cross_decomposition import CCA\n",
      "cca = CCA(n_components=1)\n",
      "cca.fit(X,Y)"
     ],
     "language": "python",
     "metadata": {},
     "outputs": [
      {
       "metadata": {},
       "output_type": "pyout",
       "prompt_number": 30,
       "text": [
        "CCA(copy=True, max_iter=500, n_components=1, scale=True, tol=1e-06)"
       ]
      }
     ],
     "prompt_number": 30
    },
    {
     "cell_type": "code",
     "collapsed": false,
     "input": [
      "# Show that we can trivially over-fit to perfectly predict in-sample.  \n",
      "x,y = cca.transform(X,Y)\n",
      "scatter(x,y)\n",
      "print(\"R = %.2f\" % pearsonr(x,y)[0])"
     ],
     "language": "python",
     "metadata": {},
     "outputs": [
      {
       "output_type": "stream",
       "stream": "stdout",
       "text": [
        "R = 1.00\n"
       ]
      },
      {
       "metadata": {},
       "output_type": "display_data",
       "png": "[encoded data removed]",
       "text": [
        "<matplotlib.figure.Figure at 0x10face550>"
       ]
      }
     ],
     "prompt_number": 31
    },
    {
     "cell_type": "code",
     "collapsed": false,
     "input": [
      "# Show that CCA is crappy for this data set because we are using way too many predictors. \n",
      "from sklearn.cross_validation import ShuffleSplit,cross_val_score\n",
      "shuffle_split = ShuffleSplit(len(Y),25,test_size=0.8)\n",
      "rs = []\n",
      "ps = []\n",
      "for train_index,test_index in shuffle_split:\n",
      "    cca.fit(X[train_index],Y[train_index])\n",
      "    x,y = cca.transform(X[test_index],Y[test_index])\n",
      "    r,p = pearsonr(x,y)\n",
      "    #print(\"R = %.2f\" % r)\n",
      "    rs.append(r)\n",
      "    ps.append(p)\n",
      "print(\"Mean R = %.2f\" % np.mean(rs))\n",
      "scatter(range(len(rs)),sorted(rs))\n",
      "xlabel('Rank')\n",
      "ylabel('Pearson correlation R')"
     ],
     "language": "python",
     "metadata": {},
     "outputs": [
      {
       "output_type": "stream",
       "stream": "stdout",
       "text": [
        "Mean R = 0.03\n"
       ]
      },
      {
       "output_type": "stream",
       "stream": "stderr",
       "text": [
        "/Users/rgerkin/Dropbox/python3/lib/python3.4/site-packages/sklearn/cross_decomposition/pls_.py:66: UserWarning: Maximum number of iterations reached\n",
        "  warnings.warn('Maximum number of iterations reached')\n"
       ]
      },
      {
       "metadata": {},
       "output_type": "pyout",
       "prompt_number": 32,
       "text": [
        "<matplotlib.text.Text at 0x1109a72e8>"
       ]
      },
      {
       "metadata": {},
       "output_type": "display_data",
       "png": "[encoded data removed]",
       "text": [
        "<matplotlib.figure.Figure at 0x10f431b70>"
       ]
      }
     ],
     "prompt_number": 32
    },
    {
     "cell_type": "code",
     "collapsed": false,
     "input": [
      "from sklearn.ensemble import RandomForestRegressor\n",
      "rfc = RandomForestRegressor()"
     ],
     "language": "python",
     "metadata": {},
     "outputs": [],
     "prompt_number": 33
    },
    {
     "cell_type": "code",
     "collapsed": false,
     "input": [
      "rfc.fit(X,Y)"
     ],
     "language": "python",
     "metadata": {},
     "outputs": [
      {
       "metadata": {},
       "output_type": "pyout",
       "prompt_number": 34,
       "text": [
        "RandomForestRegressor(bootstrap=True, compute_importances=None,\n",
        "           criterion='mse', max_depth=None, max_features='auto',\n",
        "           max_leaf_nodes=None, min_density=None, min_samples_leaf=1,\n",
        "           min_samples_split=2, n_estimators=10, n_jobs=1, oob_score=False,\n",
        "           random_state=None, verbose=0)"
       ]
      }
     ],
     "prompt_number": 34
    },
    {
     "cell_type": "code",
     "collapsed": false,
     "input": [
      "# Show that random forest regression can also be used to fit all the data in-sample.  \n",
      "x = rfc.predict(X).ravel()\n",
      "y = Y.ravel()\n",
      "scatter(x,y)\n",
      "print(\"R = %.2f\" % pearsonr(x,y)[0])"
     ],
     "language": "python",
     "metadata": {},
     "outputs": [
      {
       "output_type": "stream",
       "stream": "stdout",
       "text": [
        "R = 0.98\n"
       ]
      },
      {
       "metadata": {},
       "output_type": "display_data",
       "png": "[encoded data removed]",
       "text": [
        "<matplotlib.figure.Figure at 0x111263a90>"
       ]
      }
     ],
     "prompt_number": 35
    },
    {
     "cell_type": "code",
     "collapsed": false,
     "input": [
      "# Show that random forest regrssion also works really well out of sample.  \n",
      "from sklearn.cross_validation import ShuffleSplit,cross_val_score\n",
      "shuffle_split = ShuffleSplit(len(Y),25,test_size=0.8)\n",
      "rs = []\n",
      "ps = []\n",
      "for train_index,test_index in shuffle_split:\n",
      "    rfc.fit(X[train_index],Y[train_index])\n",
      "    Y_predict = rfc.predict(X[test_index])\n",
      "    r,p = pearsonr(Y[test_index].ravel(),Y_predict.ravel())\n",
      "    #print(\"R = %.2f\" % r)\n",
      "    rs.append(r)\n",
      "    ps.append(p)\n",
      "print(\"Mean R = %.2f\" % np.mean(rs))\n",
      "scatter(range(len(rs)),sorted(rs))\n",
      "xlabel('Rank')\n",
      "ylabel('Pearson correlation R')"
     ],
     "language": "python",
     "metadata": {},
     "outputs": [
      {
       "output_type": "stream",
       "stream": "stdout",
       "text": [
        "Mean R = 0.85\n"
       ]
      },
      {
       "metadata": {},
       "output_type": "pyout",
       "prompt_number": 36,
       "text": [
        "<matplotlib.text.Text at 0x11160f198>"
       ]
      },
      {
       "metadata": {},
       "output_type": "display_data",
       "png": "[encoded data removed]",
       "text": [
        "<matplotlib.figure.Figure at 0x10f3b9a90>"
       ]
      }
     ],
     "prompt_number": 36
    }
   ],
   "metadata": {}
  }
 ]
}