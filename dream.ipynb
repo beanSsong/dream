{
 "metadata": {
  "name": "",
  "signature": "sha256:36da945a3489ac29b635de1644855dfef5cec88354df36585c60266c304b370a"
 },
 "nbformat": 3,
 "nbformat_minor": 0,
 "worksheets": [
  {
   "cells": [
    {
     "cell_type": "heading",
     "level": 3,
     "metadata": {},
     "source": [
      "Preliminaries"
     ]
    },
    {
     "cell_type": "code",
     "collapsed": false,
     "input": [
      "# Preliminaries to setup the notebook.  \n",
      "%pylab inline\n",
      "%load_ext autoreload\n",
      "%autoreload 2"
     ],
     "language": "python",
     "metadata": {},
     "outputs": [
      {
       "output_type": "stream",
       "stream": "stdout",
       "text": [
        "Populating the interactive namespace from numpy and matplotlib\n"
       ]
      }
     ],
     "prompt_number": 1
    },
    {
     "cell_type": "code",
     "collapsed": false,
     "input": [
      "# For which subchallenges to execute code.\n",
      "subchallenges = [1,2]"
     ],
     "language": "python",
     "metadata": {},
     "outputs": [],
     "prompt_number": 2
    },
    {
     "cell_type": "code",
     "collapsed": false,
     "input": [
      "# Import numerical libraries.  \n",
      "from scipy.stats import pearsonr\n",
      "from sklearn.ensemble import RandomForestRegressor,ExtraTreesRegressor\n",
      "from sklearn.cross_validation import ShuffleSplit,cross_val_score\n",
      "from sklearn.grid_search import GridSearchCV"
     ],
     "language": "python",
     "metadata": {},
     "outputs": [],
     "prompt_number": 3
    },
    {
     "cell_type": "code",
     "collapsed": false,
     "input": [
      "# Import the file I wrote to load the data from the tab-delimited text files.  \n",
      "import dream\n",
      "import imp\n",
      "imp.reload(dream)"
     ],
     "language": "python",
     "metadata": {},
     "outputs": [
      {
       "metadata": {},
       "output_type": "pyout",
       "prompt_number": 4,
       "text": [
        "<module 'dream' from '/Users/rgerkin/Dropbox/science/dream/dream.py'>"
       ]
      }
     ],
     "prompt_number": 4
    },
    {
     "cell_type": "code",
     "collapsed": false,
     "input": [
      "# Load the perceptual descriptors data.  \n",
      "perceptual_headers, perceptual_obs_data = dream.load_perceptual_data()"
     ],
     "language": "python",
     "metadata": {},
     "outputs": [],
     "prompt_number": 5
    },
    {
     "cell_type": "code",
     "collapsed": false,
     "input": [
      "# Show the perceptual metadata types and perceptual descriptor names.\n",
      "print(perceptual_headers)"
     ],
     "language": "python",
     "metadata": {},
     "outputs": [
      {
       "output_type": "stream",
       "stream": "stdout",
       "text": [
        "['Compound Identifier', 'Odor', 'Replicate', 'Intensity', 'Dilution', 'subject #', 'INTENSITY/STRENGTH', 'VALENCE/PLEASANTNESS', 'BAKERY', 'SWEET', 'FRUIT', 'FISH', 'GARLIC', 'SPICES', 'COLD', 'SOUR', 'BURNT', 'ACID', 'WARM', 'MUSKY', 'SWEATY', 'AMMONIA/URINOUS', 'DECAYED', 'WOOD', 'GRASS', 'FLOWER', 'CHEMICAL']\n"
       ]
      }
     ],
     "prompt_number": 6
    },
    {
     "cell_type": "code",
     "collapsed": false,
     "input": [
      "# Show the metadata and perceptual descriptor values for the first compound.\n",
      "print(perceptual_obs_data[1])"
     ],
     "language": "python",
     "metadata": {},
     "outputs": [
      {
       "output_type": "stream",
       "stream": "stdout",
       "text": [
        "['126', '4-Hydroxybenzaldehyde', False, 'high', '1/10', '1', 37, 60, 0, 72, 0, 0, 0, 0, 0, 0, 0, 0, 0, 0, 0, 0, 0, 0, 0, 0, 0]\n"
       ]
      }
     ],
     "prompt_number": 7
    },
    {
     "cell_type": "code",
     "collapsed": false,
     "input": [
      "num_descriptors = len(perceptual_headers[6:])\n",
      "num_subjects = 49\n",
      "print('There are %d different perceptual descriptors and %d different subjects' % (num_descriptors,num_subjects))"
     ],
     "language": "python",
     "metadata": {},
     "outputs": [
      {
       "output_type": "stream",
       "stream": "stdout",
       "text": [
        "There are 21 different perceptual descriptors and 49 different subjects\n"
       ]
      }
     ],
     "prompt_number": 8
    },
    {
     "cell_type": "code",
     "collapsed": false,
     "input": [
      "# Load the molecular descriptors data.  \n",
      "molecular_headers, molecular_data = dream.load_molecular_data()"
     ],
     "language": "python",
     "metadata": {},
     "outputs": [],
     "prompt_number": 9
    },
    {
     "cell_type": "code",
     "collapsed": false,
     "input": [
      "# Show first 10 molecular descriptors types (zeroth is just the compound identifier).  \n",
      "print(molecular_headers[:10])"
     ],
     "language": "python",
     "metadata": {},
     "outputs": [
      {
       "output_type": "stream",
       "stream": "stdout",
       "text": [
        "['CID', 'complexity from pubmed', 'MW', 'AMW', 'Sv', 'Se', 'Sp', 'Si', 'Mv', 'Me']\n"
       ]
      }
     ],
     "prompt_number": 10
    },
    {
     "cell_type": "code",
     "collapsed": false,
     "input": [
      "# Show first 10 molecular descriptors values for the first compound (zeroth is just the compound identifier).  \n",
      "print(molecular_data[0][:10])"
     ],
     "language": "python",
     "metadata": {},
     "outputs": [
      {
       "output_type": "stream",
       "stream": "stdout",
       "text": [
        "['126', 10.193, 16.664, 0.667, 1.02, 0.68, 1.111, 15.0, 9.0, 15.0]\n"
       ]
      }
     ],
     "prompt_number": 11
    },
    {
     "cell_type": "code",
     "collapsed": false,
     "input": [
      "# How many unique molecules do we have perceptual data for?  \n",
      "training_size = len(set([int(row[0]) for row in perceptual_obs_data]))\n",
      "print(training_size)"
     ],
     "language": "python",
     "metadata": {},
     "outputs": [
      {
       "output_type": "stream",
       "stream": "stdout",
       "text": [
        "338\n"
       ]
      }
     ],
     "prompt_number": 12
    },
    {
     "cell_type": "code",
     "collapsed": false,
     "input": [
      "# How many unique molecules do we have descriptors for?  \n",
      "total_size = len(set([int(row[0]) for row in molecular_data]))\n",
      "print(total_size)"
     ],
     "language": "python",
     "metadata": {},
     "outputs": [
      {
       "output_type": "stream",
       "stream": "stdout",
       "text": [
        "476\n"
       ]
      }
     ],
     "prompt_number": 13
    },
    {
     "cell_type": "code",
     "collapsed": false,
     "input": [
      "# How many are left out for testing in the competition?  Note that half of these will be used for the leaderboard\n",
      "print(total_size - training_size)"
     ],
     "language": "python",
     "metadata": {},
     "outputs": [
      {
       "output_type": "stream",
       "stream": "stdout",
       "text": [
        "138\n"
       ]
      }
     ],
     "prompt_number": 14
    },
    {
     "cell_type": "code",
     "collapsed": false,
     "input": [
      "# How many total rows are there in the perceptual data set (there can be at least one for each subject and molecule)?  \n",
      "print(len(perceptual_obs_data))"
     ],
     "language": "python",
     "metadata": {},
     "outputs": [
      {
       "output_type": "stream",
       "stream": "stdout",
       "text": [
        "35084\n"
       ]
      }
     ],
     "prompt_number": 15
    },
    {
     "cell_type": "code",
     "collapsed": false,
     "input": [
      "# How many of those descriptor vectors are replicates (same subject and compound)?\n",
      "print(sum([x[2] for x in perceptual_obs_data]))"
     ],
     "language": "python",
     "metadata": {},
     "outputs": [
      {
       "output_type": "stream",
       "stream": "stdout",
       "text": [
        "1960\n"
       ]
      }
     ],
     "prompt_number": 16
    },
    {
     "cell_type": "heading",
     "level": 3,
     "metadata": {},
     "source": [
      "Data preparation"
     ]
    },
    {
     "cell_type": "code",
     "collapsed": false,
     "input": [
      "# Delete replicates because I don't know how to deal with them right now.  \n",
      "perceptual_obs_data = [row for row in perceptual_obs_data if row[2] is False]\n",
      "print(\"There are %d non-replicated rows in the observed perceptual data\" % len(perceptual_obs_data))"
     ],
     "language": "python",
     "metadata": {},
     "outputs": [
      {
       "output_type": "stream",
       "stream": "stdout",
       "text": [
        "There are 33124 non-replicated rows in the observed perceptual data\n"
       ]
      }
     ],
     "prompt_number": 17
    },
    {
     "cell_type": "code",
     "collapsed": false,
     "input": [
      "# Compute perceptual descriptor matrices for molecules tested at a given dilution.  \n",
      "target_dilution = '1/1,000'\n",
      "perceptual_obs_matrices = dream.get_perceptual_matrices(perceptual_obs_data, target_dilution)\n",
      "print(\"Each observed perceptual matrix has shape %d (subjects) x %d (perceptual descriptors)\" % list(perceptual_obs_matrices.values())[0].shape)\n",
      "print(\"There are %d such matrices, one for each molecule tested at %s dilution\" % (len(perceptual_obs_matrices),target_dilution))"
     ],
     "language": "python",
     "metadata": {},
     "outputs": [
      {
       "output_type": "stream",
       "stream": "stdout",
       "text": [
        "Each observed perceptual matrix has shape 49 (subjects) x 21 (perceptual descriptors)\n",
        "There are 280 such matrices, one for each molecule tested at 1/1,000 dilution\n"
       ]
      }
     ],
     "prompt_number": 18
    },
    {
     "cell_type": "code",
     "collapsed": false,
     "input": [
      "# Compute molecular descriptor vectors for the molecules tested above.  \n",
      "CIDs_obs = list(perceptual_obs_matrices.keys())\n",
      "molecular_vectors = dream.get_molecular_vectors(molecular_data,CIDs_obs)\n",
      "print(\"Each molecular vector has length %d\" % list(molecular_vectors.values())[0].shape)\n",
      "print(\"There are %d such vectors, one for each molecule tested at %s dilution that could be located in the molecular data\" \\\n",
      "      % (len(molecular_vectors),target_dilution))\n",
      "   "
     ],
     "language": "python",
     "metadata": {},
     "outputs": [
      {
       "output_type": "stream",
       "stream": "stdout",
       "text": [
        "Each molecular vector has length 4864\n",
        "There are 280 such vectors, one for each molecule tested at 1/1,000 dilution that could be located in the molecular data\n"
       ]
      }
     ],
     "prompt_number": 19
    },
    {
     "cell_type": "code",
     "collapsed": false,
     "input": [
      "# Here we setup an imputer to impute new values based on row and column means.  \n",
      "from sklearn.preprocessing import Imputer\n",
      "imputer = Imputer(missing_values=np.nan,axis=0)"
     ],
     "language": "python",
     "metadata": {},
     "outputs": [],
     "prompt_number": 20
    },
    {
     "cell_type": "code",
     "collapsed": false,
     "input": [
      "# Compute subject-averaged perceptual descriptor vectors from the matrices.  \n",
      "# This is basically just computing the column means.  \n",
      "perceptual_obs_mean_vectors = dream.get_perceptual_vectors(perceptual_obs_matrices,imputer=imputer,statistic='mean')\n",
      "perceptual_obs_std_vectors = dream.get_perceptual_vectors(perceptual_obs_matrices,imputer=imputer,statistic='std')\n",
      "print(\"Subject-averaged observed perceptual vector has length %d (perceptual descriptors)\" % list(perceptual_obs_mean_vectors.values())[0].shape)\n",
      "print(\"There are %d such vectors, one for each molecule tested at %s dilution\" % (len(perceptual_obs_mean_vectors),target_dilution))"
     ],
     "language": "python",
     "metadata": {},
     "outputs": [
      {
       "output_type": "stream",
       "stream": "stdout",
       "text": [
        "Subject-averaged observed perceptual vector has length 21 (perceptual descriptors)\n",
        "There are 280 such vectors, one for each molecule tested at 1/1,000 dilution\n"
       ]
      }
     ],
     "prompt_number": 21
    },
    {
     "cell_type": "code",
     "collapsed": false,
     "input": [
      "# Compute subject-specific perceptual descriptor vectors from the matrices.  \n",
      "# This is basically just unraveling the matrices.  \n",
      "perceptual_obs_subject_vectors = dream.get_perceptual_vectors(perceptual_obs_matrices,imputer='zero',statistic=None)\n",
      "print(\"Each subject-specific observed perceptual vector has length %d (perceptual descriptors)\" % \\\n",
      "      list(perceptual_obs_subject_vectors.values())[0][1].shape)\n",
      "print(\"There are %d x %d such vectors, one for each molecule and subject tested at %s dilution\" % \\\n",
      "      (len(perceptual_obs_subject_vectors),len(list(perceptual_obs_subject_vectors.values())[0]),target_dilution))"
     ],
     "language": "python",
     "metadata": {},
     "outputs": [
      {
       "output_type": "stream",
       "stream": "stdout",
       "text": [
        "Each subject-specific observed perceptual vector has length 21 (perceptual descriptors)\n",
        "There are 280 x 49 such vectors, one for each molecule and subject tested at 1/1,000 dilution\n"
       ]
      }
     ],
     "prompt_number": 22
    },
    {
     "cell_type": "code",
     "collapsed": false,
     "input": [
      "# Purge molecules from perceptual_vectors that are not in molecular_vectors.\n",
      "for perceptual_vectors in [perceptual_obs_mean_vectors,perceptual_obs_std_vectors,perceptual_obs_subject_vectors]:\n",
      "    perceptual_vectors = dream.retain(molecular_vectors,perceptual_vectors)\n",
      "print(\"There are now %d x %d such vectors, one for each molecule and subject tested at %s dilution\" % \\\n",
      "      (len(perceptual_obs_subject_vectors),len(list(perceptual_obs_subject_vectors.values())[0]),target_dilution))"
     ],
     "language": "python",
     "metadata": {},
     "outputs": [
      {
       "output_type": "stream",
       "stream": "stdout",
       "text": [
        "There are now 280 x 49 such vectors, one for each molecule and subject tested at 1/1,000 dilution\n"
       ]
      }
     ],
     "prompt_number": 23
    },
    {
     "cell_type": "code",
     "collapsed": false,
     "input": [
      "# Make sure we have the same number of molecules in both sets of vectors.  \n",
      "print(\"There are now %d molecules in perceptual_vectors and %d molecules in molecular_vectors\" % \\\n",
      "      (len(perceptual_obs_mean_vectors),len(molecular_vectors)))\n",
      "print(\"These should be the same number.\")"
     ],
     "language": "python",
     "metadata": {},
     "outputs": [
      {
       "output_type": "stream",
       "stream": "stdout",
       "text": [
        "There are now 280 molecules in perceptual_vectors and 280 molecules in molecular_vectors\n",
        "These should be the same number.\n"
       ]
      }
     ],
     "prompt_number": 24
    },
    {
     "cell_type": "code",
     "collapsed": false,
     "input": [
      "# Build the Y matrix out of perceptual descriptors.\n",
      "Y_obs = {'subject':{}}\n",
      "for kind,perceptual_vectors in [('mean',perceptual_obs_mean_vectors),\n",
      "                           ('std',perceptual_obs_std_vectors)]:\n",
      "    Y_obs[kind] = vstack([perceptual_vectors[CID] for CID in sorted(perceptual_vectors)])\n",
      "for subject in range(1,50):\n",
      "    Y_obs['subject'][subject] = vstack([perceptual_obs_subject_vectors[CID][subject]\n",
      "                                        for CID in sorted(perceptual_obs_subject_vectors)])\n",
      "print(\"Y_obs['subject'] contains %d matrices each with shape (%dx%d) (molecules by perceptual descriptors)\" \\\n",
      "      % (len(Y_obs['subject']),Y_obs['subject'][1].shape[0],Y_obs['subject'][1].shape[1]))\n",
      "print(\"The Y_obs['mean'] matrix has shape (%dx%d) (molecules by perceptual descriptors)\" % Y_obs['mean'].shape)\n",
      "Y_obs['mean_std'] = hstack((Y_obs['mean'],Y_obs['std']))\n",
      "print(\"The Y_obs['mean_std'] matrix has shape (%dx%d) (molecules by 2 x perceptual descriptors)\" % Y_obs['mean_std'].shape)"
     ],
     "language": "python",
     "metadata": {},
     "outputs": [
      {
       "output_type": "stream",
       "stream": "stdout",
       "text": [
        "Y_obs['subject'] contains 49 matrices each with shape (280x21) (molecules by perceptual descriptors)\n",
        "The Y_obs['mean'] matrix has shape (280x21) (molecules by perceptual descriptors)\n",
        "The Y_obs['mean_std'] matrix has shape (280x42) (molecules by 2 x perceptual descriptors)\n"
       ]
      }
     ],
     "prompt_number": 25
    },
    {
     "cell_type": "code",
     "collapsed": false,
     "input": [
      "# Build the X_obs matrix out of molecular descriptors.  \n",
      "# Also cube-root transform them to get this on a similar scale to the perceptual vectors.    \n",
      "def build_X(molecular_vectors):\n",
      "    X = vstack([molecular_vectors[CID] for CID in sorted(molecular_vectors)])\n",
      "    X = np.sign(X)*np.abs(X)**(1.0/3)\n",
      "    print(\"The X matrix has shape (%dx%d) (molecules by molecular descriptors)\" % X.shape)\n",
      "    return X\n",
      "\n",
      "X_obs = build_X(molecular_vectors)"
     ],
     "language": "python",
     "metadata": {},
     "outputs": [
      {
       "output_type": "stream",
       "stream": "stdout",
       "text": [
        "The X matrix has shape (280x4864) (molecules by molecular descriptors)\n"
       ]
      }
     ],
     "prompt_number": 26
    },
    {
     "cell_type": "code",
     "collapsed": false,
     "input": [
      "def purge_X(X,good_molecular_descriptors=None):\n",
      "    if good_molecular_descriptors is None:\n",
      "        threshold = 0.25\n",
      "        # Which columns of X (which molecular descriptors) have NaNs for at least 'threshold' fraction of the molecules?  \n",
      "        bad_molecular_descriptors = np.where(np.isnan(X).sum(axis=0) > X.shape[0]*threshold)[0]\n",
      "        # Purge these bad descriptors from the X matrix.  \n",
      "        good_molecular_descriptors = list(set(range(X.shape[1])).difference(bad_molecular_descriptors))\n",
      "    X = X[:,good_molecular_descriptors]\n",
      "    print(\"The X matrix has shape (%dx%d) (molecules by good molecular descriptors)\" % X.shape)\n",
      "    return X,good_molecular_descriptors\n",
      "\n",
      "X_obs,good_molecular_descriptors = purge_X(X_obs)"
     ],
     "language": "python",
     "metadata": {},
     "outputs": [
      {
       "output_type": "stream",
       "stream": "stdout",
       "text": [
        "The X matrix has shape (280x4864) (molecules by good molecular descriptors)\n"
       ]
      }
     ],
     "prompt_number": 27
    },
    {
     "cell_type": "code",
     "collapsed": false,
     "input": [
      "def impute_X(X):\n",
      "    # The X_obs matrix (molecular descriptors) still has NaN values which need to be imputed.  \n",
      "    X = imputer.fit_transform(X)\n",
      "    print(\"The X matrix now has shape (%dx%d) (molecules by non-NaN good molecular descriptors)\" % X.shape)\n",
      "    return X\n",
      "\n",
      "X_obs = impute_X(X_obs)"
     ],
     "language": "python",
     "metadata": {},
     "outputs": [
      {
       "output_type": "stream",
       "stream": "stdout",
       "text": [
        "The X matrix now has shape (280x4864) (molecules by non-NaN good molecular descriptors)\n"
       ]
      }
     ],
     "prompt_number": 28
    },
    {
     "cell_type": "code",
     "collapsed": false,
     "input": [
      "def add_subjects_to_X(X):\n",
      "    X_subject = np.tile(X,(num_subjects,1)) # Tile the X_obs matrix over n_subjects times as many rows.  \n",
      "    new_column = np.tile(np.arange(1,num_subjects+1),(1,X.shape[0])).transpose() # New column just with subject numbers repeating.\n",
      "    X_subject = np.hstack((X_subject,new_column))\n",
      "    print(\"The X matrix with subjects now has shape (%dx%d) (molecules*subjects by non-NaN good molecular descriptors + 1)\" % \\\n",
      "          X_subject.shape)\n",
      "    return X_subject\n",
      "\n",
      "#X_obs_subject = add_subjects_to_X(X_obs)"
     ],
     "language": "python",
     "metadata": {},
     "outputs": [],
     "prompt_number": 29
    },
    {
     "cell_type": "code",
     "collapsed": false,
     "input": [
      "# Show the range of values for the molecular and perceptual descriptors.  \n",
      "hist(X_obs.ravel())\n",
      "yscale('log')\n",
      "ylabel('Count')\n",
      "xlabel('Cube root transformed molecular descriptor values')\n",
      "figure()\n",
      "hist(Y_obs['mean'].ravel())\n",
      "yscale('log')\n",
      "ylabel('Count')\n",
      "xlabel('Perceptual descriptor subject-averaged values')"
     ],
     "language": "python",
     "metadata": {},
     "outputs": [
      {
       "metadata": {},
       "output_type": "pyout",
       "prompt_number": 30,
       "text": [
        "<matplotlib.text.Text at 0x1094b1f60>"
       ]
      },
      {
       "metadata": {},
       "output_type": "display_data",
       "png": "[encoded data removed]",
       "text": [
        "<matplotlib.figure.Figure at 0x10914f8d0>"
       ]
      },
      {
       "metadata": {},
       "output_type": "display_data",
       "png": "[encoded data removed]",
       "text": [
        "<matplotlib.figure.Figure at 0x109146358>"
       ]
      }
     ],
     "prompt_number": 30
    },
    {
     "cell_type": "code",
     "collapsed": false,
     "input": [
      "# Show that random forest regression can also be used to fit all the data in-sample.  \n",
      "\n",
      "def rfc_(X,Y,subchallenge,max_features=1500,n_estimators=200,max_depth=None,min_samples_leaf=1):\n",
      "    def rfc_maker():\n",
      "        return RandomForestRegressor(max_features=max_features,\n",
      "                                     n_estimators=n_estimators,\n",
      "                                     max_depth=max_depth,\n",
      "                                     min_samples_leaf=min_samples_leaf,\n",
      "                                     n_jobs=-1,\n",
      "                                     oob_score=True)\n",
      "    if subchallenge == 1:\n",
      "        n_subjects = 49\n",
      "        predicted_ = []\n",
      "        observed_ = []\n",
      "        rfcs = {subject:rfc_maker() for subject in range(1,n_subjects+1)}\n",
      "        for subject in range(1,n_subjects+1):\n",
      "            observed = Y[subject]\n",
      "            rfc = rfcs[subject]\n",
      "            rfc.fit(X,observed)\n",
      "            predicted = rfc.predict(X)\n",
      "            predicted = rfc.oob_prediction_\n",
      "            observed_.append(observed)\n",
      "            predicted_.append(predicted)\n",
      "            #scatter(x,y)\n",
      "        predicted = np.dstack(predicted_)\n",
      "        observed = np.dstack(observed_)\n",
      "        predicted_mean = np.mean(predicted,axis=2,keepdims=True)\n",
      "        regularize = 0.8\n",
      "        predicted = regularize*(predicted_mean) + (1-regularize)*predicted\n",
      "        score = dream.score(predicted,observed,n_subjects=n_subjects)\n",
      "        print(\"For subchallenge %d, score = %.2f\" % (subchallenge,score))\n",
      "        return rfcs\n",
      "        \n",
      "    if subchallenge == 2:\n",
      "        rfc = rfc_maker()\n",
      "        rfc.fit(X,Y)\n",
      "        x = rfc.predict(X)\n",
      "        x = rfc.oob_prediction_\n",
      "        y = Y\n",
      "        #scatter(x.ravel(),y.ravel())\n",
      "        score = dream.score2(x,y)\n",
      "        print(\"For subchallenge %d, score = %.2f\" % (subchallenge,score))\n",
      "        return rfc\n",
      "\n",
      "rfcs = {}\n",
      "if 1 in subchallenges:\n",
      "    plt.subplot(1,2,1)\n",
      "    rfcs[1] = rfc_(X_obs,Y_obs['subject'],1)\n",
      "if 2 in subchallenges:\n",
      "    plt.subplot(1,2,2)\n",
      "    rfcs[2] = rfc_(X_obs,Y_obs['mean_std'],2)\n",
      "    #ns = [100,200,400,700,1000,1500,2250,3000]\n",
      "    #plt.scatter(ns,scores)"
     ],
     "language": "python",
     "metadata": {},
     "outputs": [
      {
       "output_type": "stream",
       "stream": "stdout",
       "text": [
        "For subchallenge 1, score = 25.83\n",
        "For subchallenge 2, score = 7.60"
       ]
      },
      {
       "output_type": "stream",
       "stream": "stdout",
       "text": [
        "\n"
       ]
      },
      {
       "metadata": {},
       "output_type": "display_data",
       "png": "[encoded data removed]",
       "text": [
        "<matplotlib.figure.Figure at 0x11268c860>"
       ]
      }
     ],
     "prompt_number": 33
    },
    {
     "cell_type": "code",
     "collapsed": false,
     "input": [
      "regs = np.linspace(0.3,1,25)\n",
      "def reg_score(regularize):\n",
      "    predicted_ = []\n",
      "    observed_ = []\n",
      "    for subject,rfc in rfcs[1].items():\n",
      "        predicted = rfc.predict(X_obs)\n",
      "        predicted = rfc.oob_prediction_\n",
      "        predicted_.append(predicted)\n",
      "        observed_.append(Y_obs['subject'][subject])\n",
      "    predicted = np.dstack(predicted_)\n",
      "    observed = np.dstack(observed_)\n",
      "    predicted_mean0 = np.mean(predicted,axis=0,keepdims=True)\n",
      "    predicted_mean1 = np.mean(predicted,axis=1,keepdims=True)\n",
      "    predicted_mean2 = np.mean(predicted,axis=2,keepdims=True)\n",
      "    predicted = regularize[0]*(predicted_mean0) \\\n",
      "              + regularize[1]*(predicted_mean1) \\\n",
      "              + regularize[2]*(predicted_mean2) \\\n",
      "              + (1-np.sum(regularize))*predicted\n",
      "    score = dream.score(predicted,observed,n_subjects=len(rfcs[1]))\n",
      "    #print(regularize,score)\n",
      "    return -score\n",
      "values = []\n",
      "for reg0 in [0.0]:\n",
      "    for reg1 in [0.0]:\n",
      "        for reg2 in np.linspace(0,1,20):\n",
      "            if reg0+reg1+reg2 <= 1.0:\n",
      "                values.append((reg0,reg1,reg2,-reg_score([reg0,reg1,reg2])))\n",
      "_,_,vals,scores = zip(*values)\n",
      "plt.scatter(vals,scores) # Plot score vs. regularization value.  "
     ],
     "language": "python",
     "metadata": {},
     "outputs": [
      {
       "metadata": {},
       "output_type": "pyout",
       "prompt_number": 35,
       "text": [
        "<matplotlib.collections.PathCollection at 0x117de9898>"
       ]
      },
      {
       "metadata": {},
       "output_type": "display_data",
       "png": "[encoded data removed]",
       "text": [
        "<matplotlib.figure.Figure at 0x1125f5828>"
       ]
      }
     ],
     "prompt_number": 35
    },
    {
     "cell_type": "code",
     "collapsed": false,
     "input": [
      "rfc = RandomForestRegressor(max_features=None,\n",
      "                                n_estimators=250,\n",
      "                                max_depth=None,\n",
      "                                min_samples_leaf=1,\n",
      "                                n_jobs=1,\n",
      "                                oob_score=False)\n",
      "n_molecules = len(Y_obs['mean_std'])\n",
      "shuffle_split = ShuffleSplit(n_molecules,2,test_size=0.2)\n",
      "grid = GridSearchCV(rfc,{'n_estimators':[10,200]}, scoring=dream.scorer2, cv=shuffle_split, n_jobs=-1, verbose=1)\n",
      "#grid.fit(X_obs,Y_obs['mean_std']) # Find best parameters for random forest.  "
     ],
     "language": "python",
     "metadata": {},
     "outputs": [],
     "prompt_number": 36
    },
    {
     "cell_type": "code",
     "collapsed": false,
     "input": [
      "# Show that random forest regression also works really well out of sample.  \n",
      "\n",
      "def rfc_cv2(X,Y,subchallenge,max_features=1500,n_estimators=75,rfc=True):\n",
      "    if rfc:\n",
      "        rfc = RandomForestRegressor(max_features=max_features,\n",
      "                                n_estimators=n_estimators,\n",
      "                                max_depth=None,\n",
      "                                oob_score=False,\n",
      "                                n_jobs=-1)\n",
      "    else:\n",
      "        rfc = ExtraTreesRegressor(max_features=max_features,\n",
      "                                n_estimators=n_estimators,\n",
      "                                max_depth=None,\n",
      "                                oob_score=False,\n",
      "                                n_jobs=-1)\n",
      "    test_size = 0.2\n",
      "    shuffle_split = ShuffleSplit(len(Y),25,test_size=test_size)\n",
      "    test_size *= len(Y)\n",
      "    rs = []\n",
      "    ps = []\n",
      "    scores = []\n",
      "    for train_index,test_index in shuffle_split:\n",
      "        rfc.fit(X[train_index],Y[train_index])\n",
      "        Y_predict = rfc.predict(X[test_index])\n",
      "        Y_obs = Y[test_index]\n",
      "        r,p = pearsonr(Y_obs.ravel(),Y_predict.ravel())\n",
      "        rs.append(r)\n",
      "        ps.append(p)\n",
      "        score = dream.score2(Y_predict,Y_obs)\n",
      "        scores.append(score)\n",
      "        print(score)\n",
      "    print(\"For subchallenge %d, R = %.2f +/- %.2f, score = %.2f +/- %.2f\" % (subchallenge,\n",
      "                                                                     np.mean(rs),\n",
      "                                                                     np.std(rs)/np.sqrt(len(rs)),\n",
      "                                                                     np.mean(scores),\n",
      "                                                                     np.std(scores)/np.sqrt(len(scores))))\n",
      "    scatter(range(len(scores)),sorted(scores),color='r')\n",
      "    xlabel('Rank')\n",
      "    ylabel('Score')\n",
      "    return np.mean(scores)\n",
      "    \n",
      "if 2 in subchallenges:\n",
      "    plt.subplot(1,2,2)\n",
      "    #ns = [10,30,100,300,700,1000,2000,3000,X_obs.shape[1]]\n",
      "    #rfc_cv2(X_obs,Y_obs['mean_std'],2,rfc=True)\n",
      "    #rfc_cv2(X_obs,Y_obs['mean_std'],2,rfc=False)\n",
      "    #plt.scatter(ns,scores)"
     ],
     "language": "python",
     "metadata": {},
     "outputs": [
      {
       "metadata": {},
       "output_type": "display_data",
       "png": "[encoded data removed]",
       "text": [
        "<matplotlib.figure.Figure at 0x10918ff28>"
       ]
      }
     ],
     "prompt_number": 37
    },
    {
     "cell_type": "code",
     "collapsed": false,
     "input": [
      "# Show that random forest regrssion also works really well out of sample.  \n",
      "from sklearn.cross_validation import ShuffleSplit,cross_val_score\n",
      "def rfc_cv1(X,Y,subchallenge,max_features=1500,n_estimators=75,regularize=0.8,Y_obs_mean_std=None):\n",
      "    test_size = 0.2\n",
      "    n_molecules = X.shape[0]\n",
      "    shuffle_split = ShuffleSplit(n_molecules,3,test_size=test_size)\n",
      "    test_size *= n_molecules\n",
      "    rfcs = {}\n",
      "    n_subjects = 49\n",
      "    for subject in range(1,n_subjects+1):\n",
      "        rfc = RandomForestRegressor(max_features=max_features,\n",
      "                                    n_estimators=n_estimators,\n",
      "                                    max_depth=None,\n",
      "                                    oob_score=False,\n",
      "                                    n_jobs=-1,\n",
      "                                    random_state=0)\n",
      "        rfcs[subject] = rfc\n",
      "    scores = []\n",
      "    rs = []\n",
      "    ps = []\n",
      "    for train_index,test_index in shuffle_split:\n",
      "        Y_obs_list = []\n",
      "        Y_predict_list = []\n",
      "        rs_=[]\n",
      "        for subject in range(1,n_subjects+1):\n",
      "            rfc = rfcs[subject]\n",
      "            X_train = X[train_index]\n",
      "            Y_train = Y[subject][train_index]\n",
      "            rfc.fit(X_train,Y_train)\n",
      "            X_test = X[test_index]\n",
      "            Y_predict = rfc.predict(X_test)\n",
      "            Y_obs = Y[subject][test_index]\n",
      "            r,p = pearsonr(Y_predict.ravel(),Y_obs.ravel())\n",
      "            rs_.append(r)\n",
      "            ps.append(p)\n",
      "            #print(\"Subject %d, r=%.2f\" % (subject,r))\n",
      "            Y_obs_list.append(Y_obs)\n",
      "            Y_predict_list.append(Y_predict)\n",
      "        rs.append(np.mean(rs_))\n",
      "        Y_obs = np.dstack(Y_obs_list)\n",
      "        Y_predict = np.dstack(Y_predict_list)\n",
      "        Y_predict_mean = np.mean(Y_predict,axis=2)\n",
      "        Y_predict_mean_ = np.dstack([Y_predict_mean for _ in range(n_subjects)])\n",
      "        Y_predict = regularize*(Y_predict_mean_) + (1-regularize)*Y_predict\n",
      "        score = dream.score(Y_predict,Y_obs)\n",
      "        print(score)\n",
      "        scores.append(score)\n",
      "            \n",
      "    print(\"For subchallenge %d, R = %.2f +/- %.2f, score = %.2f +/- %.2f\" % (subchallenge,\n",
      "                                                                     np.mean(rs),\n",
      "                                                                     np.std(rs)/np.sqrt(len(rs)),\n",
      "                                                                     np.mean(scores),\n",
      "                                                                     np.std(scores)/np.sqrt(len(scores))))\n",
      "    #scatter(range(len(scores)),sorted(scores),color='r')\n",
      "    #xlabel('Rank')\n",
      "    #ylabel('Score')\n",
      "    return np.mean(scores)\n",
      "    \n",
      "ns = [0,0.25,0.5,0.75,1]\n",
      "if 1 in subchallenges:\n",
      "    #rfc_cv2(X_obs,Y_obs['mean_std'],2)\n",
      "    #rfc_cv1(X_obs,Y_obs['subject'],1)\n",
      "    pass#plt.subplot(1,2,1)\n",
      "    #scores = [rfc_cv(X_obs,Y_obs['subject'],1,max_ for n in ns]\n",
      "    #plt.scatter(ns,scores)"
     ],
     "language": "python",
     "metadata": {},
     "outputs": [],
     "prompt_number": 39
    },
    {
     "cell_type": "heading",
     "level": 3,
     "metadata": {},
     "source": [
      "Generate what is needed to make the output files"
     ]
    },
    {
     "cell_type": "code",
     "collapsed": false,
     "input": [
      "CIDs_leaderboard = dream.leaderboard_CIDs()\n",
      "CIDs_testset = dream.testset_CIDs()"
     ],
     "language": "python",
     "metadata": {},
     "outputs": [],
     "prompt_number": 40
    },
    {
     "cell_type": "code",
     "collapsed": false,
     "input": [
      "# Compute molecular descriptor vectors for the molecules in the leaderboard sample.  \n",
      "molecular_vectors = dream.get_molecular_vectors(molecular_data,CIDs_leaderboard)"
     ],
     "language": "python",
     "metadata": {},
     "outputs": [],
     "prompt_number": 41
    },
    {
     "cell_type": "code",
     "collapsed": false,
     "input": [
      "X_leaderboard = build_X(molecular_vectors)\n",
      "X_leaderboard,_ = purge_X(X_leaderboard,good_molecular_descriptors)\n",
      "X_leaderboard = impute_X(X_leaderboard)\n",
      "#X_leaderboard_subject = add_subjects_to_X(X_leaderboard)"
     ],
     "language": "python",
     "metadata": {},
     "outputs": [
      {
       "output_type": "stream",
       "stream": "stdout",
       "text": [
        "The X matrix has shape (69x4864) (molecules by molecular descriptors)\n",
        "The X matrix has shape (69x4864) (molecules by good molecular descriptors)\n",
        "The X matrix now has shape (69x4864) (molecules by non-NaN good molecular descriptors)\n"
       ]
      }
     ],
     "prompt_number": 42
    },
    {
     "cell_type": "code",
     "collapsed": false,
     "input": [
      "Y_leaderboard = {'subject':{'mean':0}}\n",
      "if 1 in subchallenges:\n",
      "    regularize = 0.8\n",
      "    y_list = [rfcs[1][subject].predict(X_leaderboard) for subject in range(1,num_subjects+1)]\n",
      "    Y_leaderboard['subject']['mean'] = np.mean(np.dstack(y_list),axis=2)\n",
      "    for subject in range(1,num_subjects+1):\n",
      "        Y_leaderboard['subject'][subject] = (1-regularize)*rfcs[1][subject].predict(X_leaderboard) \\\n",
      "                                          + regularize*Y_leaderboard['subject']['mean']\n",
      "if 2 in subchallenges:\n",
      "    Y_leaderboard['mean_std'] = rfcs[2].predict(X_leaderboard)"
     ],
     "language": "python",
     "metadata": {},
     "outputs": [],
     "prompt_number": 44
    },
    {
     "cell_type": "code",
     "collapsed": false,
     "input": [
      "# Write predictions for each subchallenge to a file.  \n",
      "import csv\n",
      "def open_prediction_file(subchallenge):\n",
      "    f = open('submission_challenge%d.txt' % subchallenge,'w')\n",
      "    writer = csv.writer(f,delimiter='\\t')\n",
      "    return f,writer\n",
      "\n",
      "# Subchallenge 1.\n",
      "if 1 in subchallenges:\n",
      "    Y = Y_leaderboard['subject']\n",
      "    f,writer = open_prediction_file(1)\n",
      "    writer.writerow([\"#oID\",\"individual\",\"descriptor\",\"value\"])\n",
      "    num_CIDs = len(CIDs_leaderboard)\n",
      "    for subject in range(1,num_subjects+1):\n",
      "        for j in range(num_descriptors):\n",
      "            for i,CID in enumerate(CIDs_leaderboard):\n",
      "                descriptor = perceptual_headers[-21:][j]\n",
      "                value = Y[subject][i,j].round(3)\n",
      "                writer.writerow([CID,subject,descriptor,value])\n",
      "    f.close()\n",
      "            \n",
      "# Subchallenge 2.\n",
      "if 2 in subchallenges:\n",
      "    Y = Y_leaderboard['mean_std']\n",
      "    f,writer = open_prediction_file(2)\n",
      "    writer.writerow([\"#oID\",\"descriptor\",\"value\",\"sigma\"])\n",
      "    for j in range(num_descriptors):\n",
      "        for i in range(Y.shape[0]):\n",
      "            CID = CIDs_leaderboard[i]\n",
      "            descriptor = perceptual_headers[-num_descriptors:][j]\n",
      "            value = Y[i,j].round(3)\n",
      "            sigma = Y[i,j+num_descriptors].round(3)\n",
      "            writer.writerow([CID,descriptor,value,sigma])\n",
      "    f.close()\n",
      "\n",
      "Y = None"
     ],
     "language": "python",
     "metadata": {},
     "outputs": [],
     "prompt_number": 45
    },
    {
     "cell_type": "code",
     "collapsed": false,
     "input": [
      "def plot_(mean,std):\n",
      "    plt.scatter(mean,std)\n",
      "    plt.xlim(0,100)\n",
      "    plt.ylim(0,45)\n",
      "    plt.xlabel('Mean Perceptual Descriptor')\n",
      "    plt.ylabel('StDev of Perceptual Descriptor')\n",
      "\n",
      "if 2 in subchallenges:\n",
      "    # StDev vs Mean for predicted leaderboard data.  \n",
      "    plt.subplot(1,2,1)\n",
      "    plot_(Y_leaderboard['mean_std'][:,:num_descriptors],Y_leaderboard['mean_std'][:,num_descriptors:])\n",
      "    # StDev vs Mean for observed training data.  \n",
      "    plt.subplot(1,2,2)\n",
      "    plot_(Y_obs['mean'],Y_obs['std'])"
     ],
     "language": "python",
     "metadata": {},
     "outputs": [
      {
       "metadata": {},
       "output_type": "display_data",
       "png": "[encoded data removed]",
       "text": [
        "<matplotlib.figure.Figure at 0x109358358>"
       ]
      }
     ],
     "prompt_number": 46
    },
    {
     "cell_type": "code",
     "collapsed": false,
     "input": [
      "from scipy.optimize import fmin_tnc\n",
      "#fmin_tnc(reg_score,np.array([0.4,0.05,0.4]),bounds=[(0.0,1.0),(0.0,1.0),(0.0,1.0)])"
     ],
     "language": "python",
     "metadata": {},
     "outputs": [],
     "prompt_number": 47
    }
   ],
   "metadata": {}
  }
 ]
}