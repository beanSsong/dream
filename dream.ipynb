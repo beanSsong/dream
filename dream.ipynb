{
 "metadata": {
  "name": "",
  "signature": "sha256:d06681d4e3bf09640f405258435ec89cbe866d4a36c561a15ec2b4d14ca27214"
 },
 "nbformat": 3,
 "nbformat_minor": 0,
 "worksheets": [
  {
   "cells": [
    {
     "cell_type": "heading",
     "level": 3,
     "metadata": {},
     "source": [
      "Preliminaries"
     ]
    },
    {
     "cell_type": "code",
     "collapsed": false,
     "input": [
      "# Preliminaries to setup the notebook.  \n",
      "%matplotlib inline\n",
      "%load_ext autoreload\n",
      "%autoreload 2\n",
      "\n",
      "# Import numerical libraries.  \n",
      "import numpy as np\n",
      "import matplotlib.pyplot as plt\n",
      "from scipy.stats import pearsonr\n",
      "from sklearn.ensemble import RandomForestRegressor,ExtraTreesRegressor\n",
      "from sklearn.cross_validation import ShuffleSplit,cross_val_score\n",
      "from sklearn.grid_search import GridSearchCV"
     ],
     "language": "python",
     "metadata": {},
     "outputs": [
      {
       "output_type": "stream",
       "stream": "stdout",
       "text": [
        "The autoreload extension is already loaded. To reload it, use:\n",
        "  %reload_ext autoreload\n"
       ]
      }
     ],
     "prompt_number": 1
    },
    {
     "cell_type": "code",
     "collapsed": false,
     "input": [
      "# Import the file I wrote to load the data from the tab-delimited text files.  \n",
      "import dream\n",
      "import loading\n",
      "import scoring\n",
      "# For which subchallenges to execute code.\n",
      "subchallenges = [2]"
     ],
     "language": "python",
     "metadata": {},
     "outputs": [],
     "prompt_number": 22
    },
    {
     "cell_type": "code",
     "collapsed": false,
     "input": [
      "# Load the perceptual descriptors data.  \n",
      "perceptual_headers, perceptual_obs_data = loading.load_perceptual_data()\n",
      "# Show the perceptual metadata types and perceptual descriptor names.\n",
      "print(perceptual_headers)"
     ],
     "language": "python",
     "metadata": {},
     "outputs": [
      {
       "output_type": "stream",
       "stream": "stdout",
       "text": [
        "['Compound Identifier', 'Odor', 'Replicate', 'Intensity', 'Dilution', 'subject #', 'INTENSITY/STRENGTH', 'VALENCE/PLEASANTNESS', 'BAKERY', 'SWEET', 'FRUIT', 'FISH', 'GARLIC', 'SPICES', 'COLD', 'SOUR', 'BURNT', 'ACID', 'WARM', 'MUSKY', 'SWEATY', 'AMMONIA/URINOUS', 'DECAYED', 'WOOD', 'GRASS', 'FLOWER', 'CHEMICAL']\n"
       ]
      }
     ],
     "prompt_number": 3
    },
    {
     "cell_type": "code",
     "collapsed": false,
     "input": [
      "# Show the metadata and perceptual descriptor values for the first compound.\n",
      "print(perceptual_obs_data[1])"
     ],
     "language": "python",
     "metadata": {},
     "outputs": [
      {
       "output_type": "stream",
       "stream": "stdout",
       "text": [
        "['126', '4-Hydroxybenzaldehyde', False, 'high', '1/10', '1', 37, 60, 0, 72, 0, 0, 0, 0, 0, 0, 0, 0, 0, 0, 0, 0, 0, 0, 0, 0, 0]\n"
       ]
      }
     ],
     "prompt_number": 4
    },
    {
     "cell_type": "code",
     "collapsed": false,
     "input": [
      "num_descriptors = len(perceptual_headers[6:])\n",
      "num_subjects = 49\n",
      "print('There are %d different perceptual descriptors and %d different subjects' % (num_descriptors,num_subjects))"
     ],
     "language": "python",
     "metadata": {},
     "outputs": [
      {
       "output_type": "stream",
       "stream": "stdout",
       "text": [
        "There are 21 different perceptual descriptors and 49 different subjects\n"
       ]
      }
     ],
     "prompt_number": 5
    },
    {
     "cell_type": "code",
     "collapsed": false,
     "input": [
      "# Load the molecular descriptors data.  \n",
      "molecular_headers, molecular_data = loading.load_molecular_data()\n",
      "print(\"First ten molecular descriptor types are %s\" % molecular_headers[:10])\n",
      "print(\"First ten descriptor values for the first compound are %s\" % molecular_data[0][:10])\n",
      "total_size = len(set([int(row[0]) for row in molecular_data]))\n",
      "print(\"We have molecular descriptors for %d unique molecules\" % total_size)"
     ],
     "language": "python",
     "metadata": {},
     "outputs": [
      {
       "output_type": "stream",
       "stream": "stdout",
       "text": [
        "First ten molecular descriptor types are ['CID', 'complexity from pubmed', 'MW', 'AMW', 'Sv', 'Se', 'Sp', 'Si', 'Mv', 'Me']\n",
        "First ten descriptor values for the first compound are ['126', 93.1, 122.13, 8.142, 10.01, 15.305, 10.193, 16.664, 0.667, 1.02]\n",
        "We have molecular descriptors for 476 unique molecules\n"
       ]
      }
     ],
     "prompt_number": 6
    },
    {
     "cell_type": "code",
     "collapsed": false,
     "input": [
      "training_size = len(set([int(row[0]) for row in perceptual_obs_data]))\n",
      "print(\"We have perceptual data for %d unique molecules\" % training_size)\n",
      "remaining_size = total_size - training_size\n",
      "print (\"%d are left out for testing in the competition; half of these (%d) are used for the leaderboard.\" \\\n",
      "       % (remaining_size,remaining_size/2))"
     ],
     "language": "python",
     "metadata": {},
     "outputs": [
      {
       "output_type": "stream",
       "stream": "stdout",
       "text": [
        "We have perceptual data for 338 unique molecules\n",
        "138 are left out for testing in the competition; half of these (69) are used for the leaderboard.\n"
       ]
      }
     ],
     "prompt_number": 7
    },
    {
     "cell_type": "code",
     "collapsed": false,
     "input": [
      "print(\"There are %d rows in the perceptual data set (at least one for each subject and molecule)\" % len(perceptual_obs_data))\n",
      "print(\"%d of these are replicates (same subject and molecules)\" % sum([x[2] for x in perceptual_obs_data]))"
     ],
     "language": "python",
     "metadata": {},
     "outputs": [
      {
       "output_type": "stream",
       "stream": "stdout",
       "text": [
        "There are 35084 rows in the perceptual data set (at least one for each subject and molecule)\n",
        "1960 of these are replicates (same subject and molecules)\n"
       ]
      }
     ],
     "prompt_number": 8
    },
    {
     "cell_type": "heading",
     "level": 3,
     "metadata": {},
     "source": [
      "Create Molecular Matrix"
     ]
    },
    {
     "cell_type": "code",
     "collapsed": false,
     "input": [
      "X_training,good1,good2,means,stds,imputer = dream.make_X(molecular_data,\"training\")\n",
      "X_training.shape"
     ],
     "language": "python",
     "metadata": {},
     "outputs": [
      {
       "output_type": "stream",
       "stream": "stdout",
       "text": [
        "Getting CIDs and dilutions...\n",
        "Getting basic molecular data..."
       ]
      },
      {
       "output_type": "stream",
       "stream": "stdout",
       "text": [
        "\n",
        "Adding dilution data..."
       ]
      },
      {
       "output_type": "stream",
       "stream": "stdout",
       "text": [
        "\n",
        "There are now 676 molecular vectors of length 4871, one for each molecule and dilution\n",
        "Building a matrix...\n",
        "The X matrix has shape (676x4871) (molecules by molecular descriptors)\n",
        "Purging data with too many NaNs...\n",
        "The X matrix has shape (676x4871) (molecules by good molecular descriptors)"
       ]
      },
      {
       "output_type": "stream",
       "stream": "stdout",
       "text": [
        "\n",
        "Imputing remaining NaN data...\n",
        "The X matrix now has shape (676x4871) (molecules by non-NaN good molecular descriptors)"
       ]
      },
      {
       "output_type": "stream",
       "stream": "stdout",
       "text": [
        "\n",
        "Purging data that is still bad, if any...\n",
        "The X matrix has shape (676x3033) (molecules by good molecular descriptors)\n",
        "Normalizing data for fitting...\n",
        "The X matrix now has shape (676x3033) molecules by non-NaN good molecular descriptors"
       ]
      },
      {
       "output_type": "stream",
       "stream": "stdout",
       "text": [
        "\n"
       ]
      },
      {
       "metadata": {},
       "output_type": "pyout",
       "prompt_number": 9,
       "text": [
        "(676, 3033)"
       ]
      }
     ],
     "prompt_number": 9
    },
    {
     "cell_type": "code",
     "collapsed": false,
     "input": [
      "X_leaderboard,good1,good2,means,stds,imputer = dream.make_X(molecular_data,\"leaderboard\",target_dilution=-3,good1=good1,good2=good2,means=means,stds=stds)\n",
      "X_leaderboard.shape"
     ],
     "language": "python",
     "metadata": {},
     "outputs": [
      {
       "output_type": "stream",
       "stream": "stdout",
       "text": [
        "Getting CIDs and dilutions...\n",
        "Getting basic molecular data...\n",
        "Adding dilution data..."
       ]
      },
      {
       "output_type": "stream",
       "stream": "stdout",
       "text": [
        "\n",
        "There are now 69 molecular vectors of length 4871, one for each molecule and dilution\n",
        "Building a matrix...\n",
        "The X matrix has shape (69x4871) (molecules by molecular descriptors)\n",
        "Purging data with too many NaNs...\n",
        "The X matrix has shape (69x4871) (molecules by good molecular descriptors)\n",
        "Imputing remaining NaN data...\n",
        "The X matrix now has shape (69x4871) (molecules by non-NaN good molecular descriptors)\n",
        "Purging data that is still bad, if any...\n",
        "The X matrix has shape (69x3033) (molecules by good molecular descriptors)\n",
        "Normalizing data for fitting...\n",
        "The X matrix now has shape (69x3033) molecules by non-NaN good molecular descriptors\n"
       ]
      },
      {
       "metadata": {},
       "output_type": "pyout",
       "prompt_number": 141,
       "text": [
        "(69, 3033)"
       ]
      }
     ],
     "prompt_number": 141
    },
    {
     "cell_type": "code",
     "collapsed": false,
     "input": [
      "X_testset,good1,good2,means,stds,imputer = dream.make_X(molecular_data,\"testset\",good1=good1,good2=good2,means=means,stds=stds)\n",
      "X_testset.shape"
     ],
     "language": "python",
     "metadata": {},
     "outputs": [
      {
       "output_type": "stream",
       "stream": "stdout",
       "text": [
        "Getting CIDs and dilutions...\n",
        "Getting basic molecular data...\n",
        "Adding dilution data..."
       ]
      },
      {
       "output_type": "stream",
       "stream": "stdout",
       "text": [
        "\n",
        "There are now 138 molecular vectors of length 4871, one for each molecule and dilution\n",
        "Building a matrix...\n",
        "The X matrix has shape (138x4871) (molecules by molecular descriptors)\n",
        "Purging data with too many NaNs...\n",
        "The X matrix has shape (138x4871) (molecules by good molecular descriptors)\n",
        "Imputing remaining NaN data...\n",
        "The X matrix now has shape (138x4871) (molecules by non-NaN good molecular descriptors)"
       ]
      },
      {
       "output_type": "stream",
       "stream": "stdout",
       "text": [
        "\n",
        "Purging data that is still bad, if any...\n",
        "The X matrix has shape (138x3033) (molecules by good molecular descriptors)\n",
        "Normalizing data for fitting...\n",
        "The X matrix now has shape (138x3033) molecules by non-NaN good molecular descriptors\n"
       ]
      },
      {
       "metadata": {},
       "output_type": "pyout",
       "prompt_number": 11,
       "text": [
        "(138, 3033)"
       ]
      }
     ],
     "prompt_number": 11
    },
    {
     "cell_type": "code",
     "collapsed": false,
     "input": [
      "Y_training,imputer = dream.make_Y_obs('training',target_dilution=None)"
     ],
     "language": "python",
     "metadata": {},
     "outputs": [
      {
       "output_type": "stream",
       "stream": "stdout",
       "text": [
        "Getting CIDs and dilutions...\n",
        "Getting CIDs and dilutions for training data\n",
        "Getting basic perceptual data..."
       ]
      },
      {
       "output_type": "stream",
       "stream": "stdout",
       "text": [
        "\n",
        "Flattening into vectors..."
       ]
      },
      {
       "output_type": "stream",
       "stream": "stdout",
       "text": [
        "\n",
        "Assembling into matrices..."
       ]
      },
      {
       "output_type": "stream",
       "stream": "stdout",
       "text": [
        "\n",
        "Y_obs['subject'] contains 49 matrices each with shape (676x21) (molecules by perceptual descriptors)"
       ]
      },
      {
       "output_type": "stream",
       "stream": "stdout",
       "text": [
        "\n",
        "The Y_obs['mean'] matrix has shape (676x21) (molecules by perceptual descriptors)\n",
        "The Y_obs['mean_std'] matrix has shape (676x42) (molecules by 2 x perceptual descriptors)\n",
        "Combining Y matrices...\n",
        "The Y['mean_std'] matrix now has shape (676x42) molecules by 2 x perceptual descriptors\n",
        "The Y['subject'] dict now has 49 matrices of shape (676x21) molecules by perceptual descriptors, one for each subject\n"
       ]
      }
     ],
     "prompt_number": 30
    },
    {
     "cell_type": "code",
     "collapsed": false,
     "input": [
      "Y_leaderboard,imputer = dream.make_Y_obs('leaderboard',target_dilution=-3)"
     ],
     "language": "python",
     "metadata": {},
     "outputs": [
      {
       "output_type": "stream",
       "stream": "stdout",
       "text": [
        "Getting CIDs and dilutions...\n",
        "Getting CIDs and dilutions for leaderboard data\n",
        "Combining Y matrices..."
       ]
      },
      {
       "output_type": "stream",
       "stream": "stdout",
       "text": [
        "\n",
        "The Y['mean_std'] matrix now has shape (69x42) molecules by 2 x perceptual descriptors\n",
        "The Y['subject'] dict now has 49 matrices of shape (69x21) molecules by perceptual descriptors, one for each subject\n"
       ]
      }
     ],
     "prompt_number": 142
    },
    {
     "cell_type": "code",
     "collapsed": false,
     "input": [
      "Y_all,imputer = dream.make_Y_obs(['training','leaderboard'])"
     ],
     "language": "python",
     "metadata": {},
     "outputs": [
      {
       "output_type": "stream",
       "stream": "stdout",
       "text": [
        "Getting CIDs and dilutions...\n",
        "Getting CIDs and dilutions for training data\n",
        "Getting basic perceptual data..."
       ]
      },
      {
       "output_type": "stream",
       "stream": "stdout",
       "text": [
        "\n",
        "Flattening into vectors..."
       ]
      },
      {
       "output_type": "stream",
       "stream": "stdout",
       "text": [
        "\n",
        "Assembling into matrices..."
       ]
      },
      {
       "output_type": "stream",
       "stream": "stdout",
       "text": [
        "\n",
        "Y_obs['subject'] contains 49 matrices each with shape (676x21) (molecules by perceptual descriptors)"
       ]
      },
      {
       "output_type": "stream",
       "stream": "stdout",
       "text": [
        "\n",
        "The Y_obs['mean'] matrix has shape (676x21) (molecules by perceptual descriptors)\n",
        "The Y_obs['mean_std'] matrix has shape (676x42) (molecules by 2 x perceptual descriptors)\n",
        "Getting CIDs and dilutions for leaderboard data\n",
        "Combining Y matrices..."
       ]
      },
      {
       "output_type": "stream",
       "stream": "stdout",
       "text": [
        "\n",
        "The Y['mean_std'] matrix now has shape (814x42) molecules by 2 x perceptual descriptors\n",
        "The Y['subject'] dict now has 49 matrices of shape (814x21) molecules by perceptual descriptors, one for each subject\n"
       ]
      }
     ],
     "prompt_number": 14
    },
    {
     "cell_type": "heading",
     "level": 3,
     "metadata": {},
     "source": [
      "Data preparation"
     ]
    },
    {
     "cell_type": "code",
     "collapsed": false,
     "input": [
      "# Delete replicates because I don't know how to deal with them right now.  \n",
      "#perceptual_obs_data = [row for row in perceptual_obs_data if row[2] is False]\n",
      "#print(\"There are %d non-replicated rows in the observed perceptual data\" % len(perceptual_obs_data))\n",
      "# Purge molecules from perceptual_vectors that are not in molecular_vectors.\n",
      "#for perceptual_vectors in [perceptual_obs_mean_vectors,perceptual_obs_std_vectors,perceptual_obs_subject_vectors]:\n",
      "#    perceptual_vectors = dream.retain(molecular_vectors,perceptual_vectors)\n",
      "#print(\"There are now %d x %d such vectors, one for each molecule and subject tested at %s dilution\" % \\\n",
      "#      (len(perceptual_obs_subject_vectors),len(list(perceptual_obs_subject_vectors.values())[0]),target_dilution))\n",
      "# Make sure we have the same number of molecules in both sets of vectors.  \n",
      "#print(\"There are now %d molecules in perceptual_vectors and %d molecules in molecular_vectors\" % \\\n",
      "#      (len(perceptual_obs_mean_vectors),len(molecular_vectors)))\n",
      "#print(\"These should be the same number.\")"
     ],
     "language": "python",
     "metadata": {},
     "outputs": [],
     "prompt_number": 15
    },
    {
     "cell_type": "code",
     "collapsed": false,
     "input": [
      "# Show the range of values for the molecular and perceptual descriptors.  \n",
      "plt.hist(X_training.ravel())\n",
      "plt.yscale('log')\n",
      "plt.ylabel('Count')\n",
      "plt.xlabel('Cube root transformed, N(0,1) normalized molecular descriptor values')\n",
      "plt.figure()\n",
      "plt.hist(Y_training['mean_std'][:21].ravel())\n",
      "plt.yscale('log')\n",
      "plt.ylabel('Count')\n",
      "plt.xlabel('Perceptual descriptor subject-averaged values')"
     ],
     "language": "python",
     "metadata": {},
     "outputs": [
      {
       "metadata": {},
       "output_type": "pyout",
       "prompt_number": 16,
       "text": [
        "<matplotlib.text.Text at 0x10e4dbbe0>"
       ]
      },
      {
       "metadata": {},
       "output_type": "display_data",
       "png": "[encoded data removed]",
       "text": [
        "<matplotlib.figure.Figure at 0x10a6bfdd8>"
       ]
      },
      {
       "metadata": {},
       "output_type": "display_data",
       "png": "[encoded data removed]",
       "text": [
        "<matplotlib.figure.Figure at 0x10fbcfd30>"
       ]
      }
     ],
     "prompt_number": 16
    },
    {
     "cell_type": "heading",
     "level": 2,
     "metadata": {},
     "source": [
      "Analysis"
     ]
    },
    {
     "cell_type": "code",
     "collapsed": false,
     "input": [
      "# Use random forest regression to fit the entire training data set.  \n",
      "\n",
      "def rfc_(X,Y,subchallenge,max_features=1500,n_estimators=1000,max_depth=None,min_samples_leaf=1):\n",
      "    def rfc_maker():\n",
      "        return RandomForestRegressor(max_features=max_features,\n",
      "                                     n_estimators=n_estimators,\n",
      "                                     max_depth=max_depth,\n",
      "                                     min_samples_leaf=min_samples_leaf,\n",
      "                                     n_jobs=-1,\n",
      "                                     oob_score=True)\n",
      "    if subchallenge == 1:\n",
      "        n_subjects = 49\n",
      "        predicted_ = []\n",
      "        observed_ = []\n",
      "        rfcs = {subject:rfc_maker() for subject in range(1,n_subjects+1)}\n",
      "        for subject in range(1,n_subjects+1):\n",
      "            observed = Y[subject]\n",
      "            rfc = rfcs[subject]\n",
      "            rfc.fit(X,observed)\n",
      "            predicted = rfc.predict(X)\n",
      "            predicted = rfc.oob_prediction_\n",
      "            observed_.append(observed)\n",
      "            predicted_.append(predicted)\n",
      "            #scatter(x,y)\n",
      "        predicted = np.dstack(predicted_)\n",
      "        observed = np.dstack(observed_)\n",
      "        predicted_mean = np.mean(predicted,axis=2,keepdims=True)\n",
      "        regularize = 0.8\n",
      "        predicted = regularize*(predicted_mean) + (1-regularize)*predicted\n",
      "        score = scoring.score(predicted,observed,n_subjects=n_subjects)\n",
      "        r_int = scoring.r('int',predicted,observed)\n",
      "        r_ple = scoring.r('ple',predicted,observed)\n",
      "        r_dec = scoring.r('dec',predicted,observed)\n",
      "        print(\"For subchallenge %d, score = %.2f (%.2f,%.2f,%.2f)\" % (subchallenge,score,r_int,r_ple,r_dec))\n",
      "        return rfcs\n",
      "        \n",
      "    if subchallenge == 2:\n",
      "        rfc = rfc_maker()\n",
      "        rfc.fit(X,Y)\n",
      "        x = rfc.predict(X)\n",
      "        x = rfc.oob_prediction_\n",
      "        y = Y\n",
      "        #scatter(x.ravel(),y.ravel())\n",
      "        score = scoring.score2(x,y)\n",
      "        r_int = scoring.r2('int','mean',x,y)\n",
      "        r_ple = scoring.r2('ple','mean',x,y)\n",
      "        r_dec = scoring.r2('dec','mean',x,y)\n",
      "        r_int_sig = scoring.r2('int','sigma',x,y)\n",
      "        r_ple_sig = scoring.r2('ple','sigma',x,y)\n",
      "        r_dec_sig = scoring.r2('dec','sigma',x,y)\n",
      "        print(\"For subchallenge %d, score = %.2f (%.2f,%.2f,%.2f,%.2f,%.2f,%.2f)\" \\\n",
      "           % (subchallenge,score,r_int,r_ple,r_dec,r_int_sig,r_ple_sig,r_dec_sig))\n",
      "        return rfc\n",
      "\n",
      "rfcs = {}\n",
      "if 1 in subchallenges:\n",
      "    plt.subplot(1,2,1)\n",
      "    rfcs[1] = rfc_(X_obs,Y_obs['subject'],1)\n",
      "if 2 in subchallenges:\n",
      "    plt.subplot(1,2,2)\n",
      "    rfcs[2] = rfc_(X_training,Y_training['mean_std'],2)\n",
      "    #ns = [100,200,400,700,1000,1500,2250,3000]\n",
      "    #plt.scatter(ns,scores)"
     ],
     "language": "python",
     "metadata": {},
     "outputs": [
      {
       "output_type": "stream",
       "stream": "stdout",
       "text": [
        "int mean 0.708565626394\n",
        "ple mean 0.558748396172\n",
        "dec mean 0.505937548619\n",
        "int sigma 0.708565626394\n",
        "ple sigma 0.558748396172\n",
        "dec sigma 0.505937548619\n",
        "For subchallenge 2, score = 9.71 (0.71,0.56,0.51,0.71,0.56,0.51)\n"
       ]
      },
      {
       "metadata": {},
       "output_type": "display_data",
       "png": "[encoded data removed]",
       "text": [
        "<matplotlib.figure.Figure at 0x10eca2d68>"
       ]
      }
     ],
     "prompt_number": 28
    },
    {
     "cell_type": "code",
     "collapsed": false,
     "input": [
      "# Use random forest regression to fit the entire training data set, one descriptor set at a time.  \n",
      "\n",
      "def rfc_(X,Y,subchallenge,max_features=1500,n_estimators=1000,max_depth=None,min_samples_leaf=1):\n",
      "    def rfc_maker(max_features=max_features,n_estimators=n_estimators,max_depth=max_depth,min_samples_leaf=min_samples_leaf):\n",
      "        return RandomForestRegressor(max_features=max_features,\n",
      "                                     n_estimators=n_estimators,\n",
      "                                     max_depth=max_depth,\n",
      "                                     min_samples_leaf=min_samples_leaf,\n",
      "                                     n_jobs=-1,\n",
      "                                     oob_score=True)\n",
      "        \n",
      "    if subchallenge == 2:\n",
      "        x = np.zeros(Y.shape)\n",
      "        y = Y\n",
      "        \n",
      "        rfc_int_mean = rfc_maker(max_features=None,min_samples_leaf=1)\n",
      "        rfc_ple_mean = rfc_maker(max_features=60,min_samples_leaf=1)\n",
      "        rfc_dec_mean = rfc_maker(max_features=700,min_samples_leaf=1)\n",
      "        rfc_int_sigma = rfc_maker(max_features=None,min_samples_leaf=16)\n",
      "        rfc_ple_sigma = rfc_maker(max_features=None,min_samples_leaf=1)\n",
      "        rfc_dec_sigma = rfc_maker(max_features=None,min_samples_leaf=1)\n",
      "        \n",
      "        rfc_int_mean.fit(X,Y)\n",
      "        rfc_ple_mean.fit(X,Y)\n",
      "        rfc_dec_mean.fit(X,Y)\n",
      "        rfc_int_sigma.fit(X,Y)\n",
      "        rfc_ple_sigma.fit(X,Y)\n",
      "        rfc_dec_sigma.fit(X,Y)\n",
      "        #x = rfc.predict(X)\n",
      "        x_int_mean = rfc_int_mean.oob_prediction_\n",
      "        x_ple_mean = rfc_ple_mean.oob_prediction_\n",
      "        x_dec_mean = rfc_dec_mean.oob_prediction_\n",
      "        x_int_sigma = rfc_int_sigma.oob_prediction_\n",
      "        x_ple_sigma = rfc_ple_sigma.oob_prediction_\n",
      "        x_dec_sigma = rfc_dec_sigma.oob_prediction_\n",
      "        x = x_int_mean.copy()\n",
      "        x[:,1] = x_ple_mean[:,1]\n",
      "        x[:,2:21] = x_dec_mean[:,2:21]\n",
      "        x[:,21] = x_int_sigma[:,21]\n",
      "        x[:,22] = x_ple_sigma[:,22]\n",
      "        x[:,23:] = x_dec_sigma[:,23:42]\n",
      "        \n",
      "        #scatter(x.ravel(),y.ravel())\n",
      "        score = scoring.score2(x,y)\n",
      "        r_int = scoring.r2('int','mean',x,y)\n",
      "        r_ple = scoring.r2('ple','mean',x,y)\n",
      "        r_dec = scoring.r2('dec','mean',x,y)\n",
      "        r_int_sig = scoring.r2('int','sigma',x,y)\n",
      "        r_ple_sig = scoring.r2('ple','sigma',x,y)\n",
      "        r_dec_sig = scoring.r2('dec','sigma',x,y)\n",
      "        print(\"For subchallenge %d, score = %.2f (%.2f,%.2f,%.2f,%.2f,%.2f,%.2f)\" \\\n",
      "           % (subchallenge,score,r_int,r_ple,r_dec,r_int_sig,r_ple_sig,r_dec_sig))\n",
      "        #print([dream.r2(_,'mean',x,y) for _ in range(19)])\n",
      "        #print([dream.r2(_,'sigma',x,y) for _ in range(19)])\n",
      "        return [rfc_int_mean,rfc_ple_mean,rfc_dec_mean,rfc_int_sigma,rfc_ple_sigma,rfc_dec_sigma],\\\n",
      "               [r_int,r_ple,r_dec,r_int_sig,r_ple_sig,r_dec_sig],\\\n",
      "               [scoring.r2(_,'mean',x,y) for _ in range(19)]+[scoring.r2(_,'sigma',x,y) for _ in range(19)]\n",
      "\n",
      "if 2 in subchallenges:\n",
      "    #plt.subplot(1,2,2)\n",
      "    #ns = [10,100,1000]\n",
      "    #rs = [rfc_(X_obs,Y_obs['mean_std'],2,max_features=n) for n in ns]\n",
      "    #plt.scatter(ns,rs)\n",
      "    rfcs[2] = rfc_(X_training,Y_training['mean_std'],2)\n",
      "    #ns = [1,3,10,30,100,300,1000,3000]\n",
      "    #rs = {n:[] for n in ns}\n",
      "    #for i in range(5):\n",
      "    #    for n in ns:\n",
      "    #        print(i,n)\n",
      "    #        try:\n",
      "    #            rs[n].append(rfc_(X_obs,Y_obs['mean_std'],2,max_features=500,max_depth=n,min_samples_leaf=1))\n",
      "    #        except KeyError:\n",
      "    #            pass\n",
      "    #plt.scatter(ns,scores)"
     ],
     "language": "python",
     "metadata": {},
     "outputs": [
      {
       "output_type": "stream",
       "stream": "stdout",
       "text": [
        "1000\n",
        "1000\n",
        "1000\n",
        "1000\n",
        "1000\n",
        "1000\n",
        "int"
       ]
      },
      {
       "output_type": "stream",
       "stream": "stdout",
       "text": [
        " mean 0.670501156079\n",
        "ple mean 0.683321395665\n",
        "dec mean 0.558921885511\n",
        "int sigma 0.171139848451\n",
        "ple sigma 0.566402282556\n",
        "dec sigma 0.43961607973\n",
        "For subchallenge 2, score = 9.02 (0.67,0.68,0.56,0.17,0.57,0.44)\n"
       ]
      }
     ],
     "prompt_number": 39
    },
    {
     "cell_type": "code",
     "collapsed": false,
     "input": [
      "# Figure out for what value of a RandomForestRegressor parameter (e.g. max_features) the OOB correlation is maximized.  \n",
      "x = np.array(sorted(list(rs.keys())))\n",
      "for i in [1,3]:\n",
      "    y = []\n",
      "    for j in range(5):\n",
      "        y.append(np.array([rs[_][j][i]+rs[_][j][i+1] for _ in x]))\n",
      "    y = np.dstack(y)\n",
      "    y = np.mean(y,axis=2)\n",
      "    plt.figure()\n",
      "    plt.plot(x,y)\n",
      "    plt.xscale('log')\n",
      "    max_indices = y.argmax(axis=0)\n",
      "    print(x[max_indices])"
     ],
     "language": "python",
     "metadata": {},
     "outputs": [
      {
       "ename": "NameError",
       "evalue": "name 'rs' is not defined",
       "output_type": "pyerr",
       "traceback": [
        "\u001b[0;31m---------------------------------------------------------------------------\u001b[0m\n\u001b[0;31mNameError\u001b[0m                                 Traceback (most recent call last)",
        "\u001b[0;32m<ipython-input-50-5376fcf7e421>\u001b[0m in \u001b[0;36m<module>\u001b[0;34m()\u001b[0m\n\u001b[1;32m      1\u001b[0m \u001b[0;31m# Figure out for what value of a RandomForestRegressor parameter (e.g. max_features) the OOB correlation is maximized.\u001b[0m\u001b[0;34m\u001b[0m\u001b[0;34m\u001b[0m\u001b[0m\n\u001b[0;32m----> 2\u001b[0;31m \u001b[0mx\u001b[0m \u001b[0;34m=\u001b[0m \u001b[0mnp\u001b[0m\u001b[0;34m.\u001b[0m\u001b[0marray\u001b[0m\u001b[0;34m(\u001b[0m\u001b[0msorted\u001b[0m\u001b[0;34m(\u001b[0m\u001b[0mlist\u001b[0m\u001b[0;34m(\u001b[0m\u001b[0mrs\u001b[0m\u001b[0;34m.\u001b[0m\u001b[0mkeys\u001b[0m\u001b[0;34m(\u001b[0m\u001b[0;34m)\u001b[0m\u001b[0;34m)\u001b[0m\u001b[0;34m)\u001b[0m\u001b[0;34m)\u001b[0m\u001b[0;34m\u001b[0m\u001b[0m\n\u001b[0m\u001b[1;32m      3\u001b[0m \u001b[0;32mfor\u001b[0m \u001b[0mi\u001b[0m \u001b[0;32min\u001b[0m \u001b[0;34m[\u001b[0m\u001b[0;36m1\u001b[0m\u001b[0;34m,\u001b[0m\u001b[0;36m3\u001b[0m\u001b[0;34m]\u001b[0m\u001b[0;34m:\u001b[0m\u001b[0;34m\u001b[0m\u001b[0m\n\u001b[1;32m      4\u001b[0m     \u001b[0my\u001b[0m \u001b[0;34m=\u001b[0m \u001b[0;34m[\u001b[0m\u001b[0;34m]\u001b[0m\u001b[0;34m\u001b[0m\u001b[0m\n\u001b[1;32m      5\u001b[0m     \u001b[0;32mfor\u001b[0m \u001b[0mj\u001b[0m \u001b[0;32min\u001b[0m \u001b[0mrange\u001b[0m\u001b[0;34m(\u001b[0m\u001b[0;36m5\u001b[0m\u001b[0;34m)\u001b[0m\u001b[0;34m:\u001b[0m\u001b[0;34m\u001b[0m\u001b[0m\n",
        "\u001b[0;31mNameError\u001b[0m: name 'rs' is not defined"
       ]
      }
     ],
     "prompt_number": 50
    },
    {
     "cell_type": "code",
     "collapsed": false,
     "input": [
      "# Show that random forest regression also works really well out of sample.  \n",
      "\n",
      "def rfc_cv2(X,Y,subchallenge,max_features=1500,n_estimators=100,min_samples_leaf=1,rfc=True):\n",
      "    if rfc:\n",
      "        rfc = RandomForestRegressor(max_features=max_features,\n",
      "                                n_estimators=n_estimators,\n",
      "                                max_depth=None,\n",
      "                                min_samples_leaf=min_samples_leaf,\n",
      "                                oob_score=False,\n",
      "                                n_jobs=-1)\n",
      "    else:\n",
      "        rfc = ExtraTreesRegressor(max_features=max_features,\n",
      "                                n_estimators=n_estimators,\n",
      "                                max_depth=None,\n",
      "                                min_samples_leaf=min_samples_leaf,\n",
      "                                oob_score=False,\n",
      "                                n_jobs=-1)\n",
      "    test_size = 0.2\n",
      "    shuffle_split = ShuffleSplit(len(Y),10,test_size=test_size)\n",
      "    test_size *= len(Y)\n",
      "    rs = []\n",
      "    ps = []\n",
      "    scores = []\n",
      "    for train_index,test_index in shuffle_split:\n",
      "        rfc.fit(X[train_index],Y[train_index])\n",
      "        Y_predict1 = rfc.predict(X[test_index])[:,0]\n",
      "        Y_predict1 = np.array([f(xi) for xi in Y_predict1])\n",
      "        Y_predict2 = rfc.predict(X[test_index])[:,21]\n",
      "        Y_obs = Y[test_index][:,21]\n",
      "        r1,_ = pearsonr(Y_obs.ravel(),Y_predict1.ravel())\n",
      "        r2,_ = pearsonr(Y_obs.ravel(),Y_predict2.ravel())\n",
      "        rs.append((r1,r2))\n",
      "        print(r1,r2)\n",
      "        #ps.append(p)\n",
      "        #score = dream.score2(Y_predict,Y_obs)\n",
      "        #scores.append(score)\n",
      "        #print(score)\n",
      "    #print(\"For subchallenge %d, R = %.2f +/- %.2f, score = %.2f +/- %.2f\" % (subchallenge,\n",
      "    #                                                                 np.mean(rs),\n",
      "    #                                                                 np.std(rs)/np.sqrt(len(rs)),\n",
      "    #                                                                 np.mean(scores),\n",
      "    #                                                                 np.std(scores)/np.sqrt(len(scores))))\n",
      "    #scatter(range(len(scores)),sorted(scores),color='r')\n",
      "    #xlabel('Rank')\n",
      "    #ylabel('Score')\n",
      "    return np.mean(list(zip(*rs))[0]),np.mean(list(zip(*rs))[1])\n",
      "    \n",
      "if 2 in subchallenges:\n",
      "    pass\n",
      "    #plt.subplot(1,2,2)\n",
      "    #ns = [1,2,4,8,16,32,64]#ns = [500,1000,2000,X_obs.shape[1]]#30,100,300,700,1000,2000,3000,X_obs.shape[1]]\n",
      "    #rs = [rfc_cv2(X_obs,Y_obs['mean_std'],2,min_samples_leaf=n,rfc=True) for n in ns]\n",
      "    #rfc_cv2(X_obs,Y_obs['mean_std'],2,rfc=True)\n",
      "    #plt.scatter(ns,rs)"
     ],
     "language": "python",
     "metadata": {},
     "outputs": [
      {
       "output_type": "stream",
       "stream": "stdout",
       "text": [
        "0.233370546578 0.0771133040101\n",
        "0.137379561425"
       ]
      },
      {
       "output_type": "stream",
       "stream": "stdout",
       "text": [
        " 0.0372854100051\n",
        "0.168328732246"
       ]
      },
      {
       "output_type": "stream",
       "stream": "stdout",
       "text": [
        " 0.0882849692461\n",
        "0.193595221999"
       ]
      },
      {
       "output_type": "stream",
       "stream": "stdout",
       "text": [
        " 0.0391461363146\n",
        "0.22165541855"
       ]
      },
      {
       "output_type": "stream",
       "stream": "stdout",
       "text": [
        " 0.10956167973\n",
        "0.178662376695"
       ]
      },
      {
       "output_type": "stream",
       "stream": "stdout",
       "text": [
        " 0.147024007668\n",
        "0.298469320729"
       ]
      },
      {
       "output_type": "stream",
       "stream": "stdout",
       "text": [
        " 0.256430426982\n",
        "0.363475255079"
       ]
      },
      {
       "output_type": "stream",
       "stream": "stdout",
       "text": [
        " 0.194015976303\n",
        "0.25818010384"
       ]
      },
      {
       "output_type": "stream",
       "stream": "stdout",
       "text": [
        " 0.161789838587\n",
        "0.163482000393"
       ]
      },
      {
       "output_type": "stream",
       "stream": "stdout",
       "text": [
        " -0.0740578603139\n"
       ]
      },
      {
       "ename": "TypeError",
       "evalue": "'zip' object is not subscriptable",
       "output_type": "pyerr",
       "traceback": [
        "\u001b[0;31m---------------------------------------------------------------------------\u001b[0m\n\u001b[0;31mTypeError\u001b[0m                                 Traceback (most recent call last)",
        "\u001b[0;32m<ipython-input-42-80bec543d1ae>\u001b[0m in \u001b[0;36m<module>\u001b[0;34m()\u001b[0m\n\u001b[1;32m     50\u001b[0m     \u001b[0;31m#ns = [1,2,4,8,16,32,64]#ns = [500,1000,2000,X_obs.shape[1]]#30,100,300,700,1000,2000,3000,X_obs.shape[1]]\u001b[0m\u001b[0;34m\u001b[0m\u001b[0;34m\u001b[0m\u001b[0m\n\u001b[1;32m     51\u001b[0m     \u001b[0;31m#rs = [rfc_cv2(X_obs,Y_obs['mean_std'],2,min_samples_leaf=n,rfc=True) for n in ns]\u001b[0m\u001b[0;34m\u001b[0m\u001b[0;34m\u001b[0m\u001b[0m\n\u001b[0;32m---> 52\u001b[0;31m     \u001b[0mrfc_cv2\u001b[0m\u001b[0;34m(\u001b[0m\u001b[0mX_obs\u001b[0m\u001b[0;34m,\u001b[0m\u001b[0mY_obs\u001b[0m\u001b[0;34m[\u001b[0m\u001b[0;34m'mean_std'\u001b[0m\u001b[0;34m]\u001b[0m\u001b[0;34m,\u001b[0m\u001b[0;36m2\u001b[0m\u001b[0;34m,\u001b[0m\u001b[0mrfc\u001b[0m\u001b[0;34m=\u001b[0m\u001b[0;32mTrue\u001b[0m\u001b[0;34m)\u001b[0m\u001b[0;34m\u001b[0m\u001b[0m\n\u001b[0m\u001b[1;32m     53\u001b[0m     \u001b[0;31m#plt.scatter(ns,rs)\u001b[0m\u001b[0;34m\u001b[0m\u001b[0;34m\u001b[0m\u001b[0m\n",
        "\u001b[0;32m<ipython-input-42-80bec543d1ae>\u001b[0m in \u001b[0;36mrfc_cv2\u001b[0;34m(X, Y, subchallenge, max_features, n_estimators, min_samples_leaf, rfc)\u001b[0m\n\u001b[1;32m     44\u001b[0m     \u001b[0;31m#xlabel('Rank')\u001b[0m\u001b[0;34m\u001b[0m\u001b[0;34m\u001b[0m\u001b[0m\n\u001b[1;32m     45\u001b[0m     \u001b[0;31m#ylabel('Score')\u001b[0m\u001b[0;34m\u001b[0m\u001b[0;34m\u001b[0m\u001b[0m\n\u001b[0;32m---> 46\u001b[0;31m     \u001b[0;32mreturn\u001b[0m \u001b[0mnp\u001b[0m\u001b[0;34m.\u001b[0m\u001b[0mmean\u001b[0m\u001b[0;34m(\u001b[0m\u001b[0mzip\u001b[0m\u001b[0;34m(\u001b[0m\u001b[0;34m*\u001b[0m\u001b[0mrs\u001b[0m\u001b[0;34m)\u001b[0m\u001b[0;34m[\u001b[0m\u001b[0;36m0\u001b[0m\u001b[0;34m]\u001b[0m\u001b[0;34m)\u001b[0m\u001b[0;34m,\u001b[0m\u001b[0mnp\u001b[0m\u001b[0;34m.\u001b[0m\u001b[0mmean\u001b[0m\u001b[0;34m(\u001b[0m\u001b[0mzip\u001b[0m\u001b[0;34m(\u001b[0m\u001b[0;34m*\u001b[0m\u001b[0mrs\u001b[0m\u001b[0;34m)\u001b[0m\u001b[0;34m[\u001b[0m\u001b[0;36m1\u001b[0m\u001b[0;34m]\u001b[0m\u001b[0;34m)\u001b[0m\u001b[0;34m\u001b[0m\u001b[0m\n\u001b[0m\u001b[1;32m     47\u001b[0m \u001b[0;34m\u001b[0m\u001b[0m\n\u001b[1;32m     48\u001b[0m \u001b[0;32mif\u001b[0m \u001b[0;36m2\u001b[0m \u001b[0;32min\u001b[0m \u001b[0msubchallenges\u001b[0m\u001b[0;34m:\u001b[0m\u001b[0;34m\u001b[0m\u001b[0m\n",
        "\u001b[0;31mTypeError\u001b[0m: 'zip' object is not subscriptable"
       ]
      },
      {
       "metadata": {},
       "output_type": "display_data",
       "png": "[encoded data removed]",
       "text": [
        "<matplotlib.figure.Figure at 0x12443fc50>"
       ]
      }
     ],
     "prompt_number": 42
    },
    {
     "cell_type": "heading",
     "level": 2,
     "metadata": {},
     "source": [
      "Output"
     ]
    },
    {
     "cell_type": "code",
     "collapsed": false,
     "input": [
      "# Compute molecular descriptor vectors for the molecules in the leaderboard sample.  \n",
      "CID_dilutions_leaderboard = dream.test_CIDs('leaderboard')\n",
      "CIDs_leaderboard = [int(CID_dilution.split('_')[0]) for CID_dilution in CID_dilutions_leaderboard]\n",
      "CID_dilutions_leaderboard_intensity = [CID_dilution.split('_')[0]+'_-3' for CID_dilution in CID_dilutions_leaderboard]\n",
      "\n",
      "molecular_vectors = dream.get_molecular_vectors(molecular_data,CIDs_leaderboard)\n",
      "\n",
      "molecular_vectors_intensity = add_dilutions(molecular_vectors,CID_dilutions_leaderboard_intensity)\n",
      "molecular_vectors = add_dilutions(molecular_vectors,CID_dilutions_leaderboard)"
     ],
     "language": "python",
     "metadata": {},
     "outputs": [
      {
       "output_type": "stream",
       "stream": "stdout",
       "text": [
        "There are now 69 molecular vectors of length 4870, one for each molecule and dilution\n",
        "There are now 69 molecular vectors of length 4870, one for each molecule and dilution\n"
       ]
      }
     ],
     "prompt_number": 37
    },
    {
     "cell_type": "code",
     "collapsed": false,
     "input": [
      "X_leaderboard = build_X(molecular_vectors)\n",
      "X_leaderboard = X_leaderboard[:,good1_molecular_descriptors]\n",
      "X_leaderboard = impute_X(X_leaderboard)\n",
      "X_leaderboard = X_leaderboard[:,good2_molecular_descriptors]\n",
      "X_leaderboard,_,_ = normalize_X(X_leaderboard,means=X_means,stds=X_stds)\n",
      "print(\"The X matrix now has shape (%dx%d) molecules by non-NaN good molecular descriptors\" % X_leaderboard.shape)\n",
      "\n",
      "X_leaderboard_intensity = build_X(molecular_vectors_intensity)\n",
      "X_leaderboard_intensity = X_leaderboard_intensity[:,good1_molecular_descriptors]\n",
      "X_leaderboard_intensity = impute_X(X_leaderboard_intensity)\n",
      "X_leaderboard_intensity = X_leaderboard_intensity[:,good2_molecular_descriptors]\n",
      "X_leaderboard_intensity,_,_ = normalize_X(X_leaderboard_intensity,means=X_means,stds=X_stds)\n",
      "print(\"The X matrix now has shape (%dx%d) molecules by non-NaN good molecular descriptors\" % X_leaderboard.shape)"
     ],
     "language": "python",
     "metadata": {},
     "outputs": [
      {
       "output_type": "stream",
       "stream": "stdout",
       "text": [
        "The X matrix has shape (69x4870) (molecules by molecular descriptors)\n",
        "The X matrix now has shape (69x4870) (molecules by non-NaN good molecular descriptors)\n",
        "The X matrix now has shape (69x3032) molecules by non-NaN good molecular descriptors\n",
        "The X matrix has shape (69x4870) (molecules by molecular descriptors)\n",
        "The X matrix now has shape (69x4870) (molecules by non-NaN good molecular descriptors)\n",
        "The X matrix now has shape (69x3032) molecules by non-NaN good molecular descriptors\n"
       ]
      }
     ],
     "prompt_number": 38
    },
    {
     "cell_type": "code",
     "collapsed": false,
     "input": [
      "Y_leaderboard = {'subject':{'mean':0}}\n",
      "if 1 in subchallenges:\n",
      "    regularize = 0.8\n",
      "    y_list = [rfcs[1][subject].predict(X_leaderboard) for subject in range(1,num_subjects+1)]\n",
      "    Y_leaderboard['subject']['mean'] = np.mean(np.dstack(y_list),axis=2)\n",
      "    for subject in range(1,num_subjects+1):\n",
      "        Y_leaderboard['subject'][subject] = (1-regularize)*rfcs[1][subject].predict(X_leaderboard) \\\n",
      "                                          + regularize*Y_leaderboard['subject']['mean']\n",
      "    del Y_leaderboard['subject']['mean']\n",
      "    y_list = [rfcs[1][subject].predict(X_leaderboard_intensity) for subject in range(1,num_subjects+1)]\n",
      "    Y_leaderboard['subject']['mean'] = np.mean(np.dstack(y_list),axis=2)\n",
      "    for subject in range(1,num_subjects+1):\n",
      "        Y_leaderboard['subject'][subject][:,0] = (1-regularize)*rfcs[1][subject].predict(X_leaderboard_intensity)[:,0] \\\n",
      "                                          + regularize*Y_leaderboard['subject']['mean'][:,0]\n",
      "if 2 in subchallenges:\n",
      "    if type(rfcs[2])==tuple:\n",
      "        Y_leaderboard['mean_std'] = rfcs[2][0][0].predict(X_leaderboard_intensity)\n",
      "        Y_leaderboard['mean_std'][:,1] = rfcs[2][0][1].predict(X_leaderboard)[:,1]\n",
      "        Y_leaderboard['mean_std'][:,2:21] = rfcs[2][0][2].predict(X_leaderboard)[:,2:21]\n",
      "        Y_leaderboard['mean_std'][:,21] = rfcs[2][0][3].predict(X_leaderboard_intensity)[:,21]\n",
      "        Y_leaderboard['mean_std'][:,22] = rfcs[2][0][4].predict(X_leaderboard)[:,22]\n",
      "        Y_leaderboard['mean_std'][:,23:42] = rfcs[2][0][5].predict(X_leaderboard)[:,23:42]\n",
      "    else:\n",
      "        Y_leaderboard['mean_std'] = rfcs[2].predict(X_leaderboard)\n",
      "        Y_leaderboard['mean_std'][:,[0,21]] = rfcs[2].predict(X_leaderboard_intensity)[:,[0,21]]"
     ],
     "language": "python",
     "metadata": {},
     "outputs": [],
     "prompt_number": 89
    },
    {
     "cell_type": "heading",
     "level": 2,
     "metadata": {},
     "source": [
      "Extras"
     ]
    },
    {
     "cell_type": "heading",
     "level": 3,
     "metadata": {},
     "source": [
      "Predicting the standard deviation from the mean"
     ]
    },
    {
     "cell_type": "code",
     "collapsed": false,
     "input": [
      "Y_training_mask,_ = dream.make_Y_obs(['training'],imputer='mask')\n",
      "Y_training_median,_ = dream.make_Y_obs(['training'],imputer='median')\n",
      "Y_training_zero,_ = dream.make_Y_obs(['training'],imputer='zero')"
     ],
     "language": "python",
     "metadata": {},
     "outputs": [
      {
       "output_type": "stream",
       "stream": "stdout",
       "text": [
        "Getting CIDs and dilutions...\n",
        "Getting CIDs and dilutions for training data\n",
        "Getting basic perceptual data..."
       ]
      },
      {
       "output_type": "stream",
       "stream": "stdout",
       "text": [
        "\n",
        "Flattening into vectors..."
       ]
      },
      {
       "output_type": "stream",
       "stream": "stdout",
       "text": [
        "\n",
        "Assembling into matrices..."
       ]
      },
      {
       "output_type": "stream",
       "stream": "stdout",
       "text": [
        "\n",
        "Y_obs['subject'] contains 49 matrices each with shape (676x21) (molecules by perceptual descriptors)"
       ]
      },
      {
       "output_type": "stream",
       "stream": "stdout",
       "text": [
        "\n",
        "The Y_obs['mean'] matrix has shape (676x21) (molecules by perceptual descriptors)\n",
        "The Y_obs['mean_std'] matrix has shape (676x42) (molecules by 2 x perceptual descriptors)\n",
        "Combining Y matrices...\n",
        "The Y['mean_std'] matrix now has shape (676x42) molecules by 2 x perceptual descriptors\n",
        "The Y['subject'] dict now has 49 matrices of shape (676x21) molecules by perceptual descriptors, one for each subject\n",
        "Getting CIDs and dilutions..."
       ]
      },
      {
       "output_type": "stream",
       "stream": "stdout",
       "text": [
        "\n",
        "Getting CIDs and dilutions for training data\n",
        "Getting basic perceptual data..."
       ]
      },
      {
       "output_type": "stream",
       "stream": "stdout",
       "text": [
        "\n",
        "Flattening into vectors..."
       ]
      },
      {
       "output_type": "stream",
       "stream": "stdout",
       "text": [
        "\n",
        "Assembling into matrices..."
       ]
      },
      {
       "output_type": "stream",
       "stream": "stdout",
       "text": [
        "\n",
        "Y_obs['subject'] contains 49 matrices each with shape (676x21) (molecules by perceptual descriptors)"
       ]
      },
      {
       "output_type": "stream",
       "stream": "stdout",
       "text": [
        "\n",
        "The Y_obs['mean'] matrix has shape (676x21) (molecules by perceptual descriptors)\n",
        "The Y_obs['mean_std'] matrix has shape (676x42) (molecules by 2 x perceptual descriptors)\n",
        "Combining Y matrices...\n",
        "The Y['mean_std'] matrix now has shape (676x42) molecules by 2 x perceptual descriptors\n",
        "The Y['subject'] dict now has 49 matrices of shape (676x21) molecules by perceptual descriptors, one for each subject\n",
        "Getting CIDs and dilutions..."
       ]
      },
      {
       "output_type": "stream",
       "stream": "stdout",
       "text": [
        "\n",
        "Getting CIDs and dilutions for training data\n",
        "Getting basic perceptual data..."
       ]
      },
      {
       "output_type": "stream",
       "stream": "stdout",
       "text": [
        "\n",
        "Flattening into vectors..."
       ]
      },
      {
       "output_type": "stream",
       "stream": "stdout",
       "text": [
        "\n",
        "Assembling into matrices..."
       ]
      },
      {
       "output_type": "stream",
       "stream": "stdout",
       "text": [
        "\n",
        "Y_obs['subject'] contains 49 matrices each with shape (676x21) (molecules by perceptual descriptors)"
       ]
      },
      {
       "output_type": "stream",
       "stream": "stdout",
       "text": [
        "\n",
        "The Y_obs['mean'] matrix has shape (676x21) (molecules by perceptual descriptors)\n",
        "The Y_obs['mean_std'] matrix has shape (676x42) (molecules by 2 x perceptual descriptors)\n",
        "Combining Y matrices...\n",
        "The Y['mean_std'] matrix now has shape (676x42) molecules by 2 x perceptual descriptors\n",
        "The Y['subject'] dict now has 49 matrices of shape (676x21) molecules by perceptual descriptors, one for each subject\n"
       ]
      }
     ],
     "prompt_number": 62
    },
    {
     "cell_type": "code",
     "collapsed": false,
     "input": [
      "rfc = RandomForestRegressor(max_features=None,\n",
      "                                n_estimators=250,\n",
      "                                max_depth=None,\n",
      "                                min_samples_leaf=1,\n",
      "                                n_jobs=1,\n",
      "                                oob_score=False)\n",
      "n_molecules = len(Y_obs['mean_std'])\n",
      "shuffle_split = ShuffleSplit(n_molecules,2,test_size=0.2)\n",
      "grid = GridSearchCV(rfc,{'n_estimators':[10,200]}, scoring=dream.scorer2, cv=shuffle_split, n_jobs=-1, verbose=1)\n",
      "#grid.fit(X_obs,Y_obs['mean_std']) # Find best parameters for random forest.  "
     ],
     "language": "python",
     "metadata": {},
     "outputs": [],
     "prompt_number": 36
    },
    {
     "cell_type": "code",
     "collapsed": false,
     "input": [
      "# Show that random forest regrssion also works really well out of sample.  \n",
      "from sklearn.cross_validation import ShuffleSplit,cross_val_score\n",
      "def rfc_cv1(X,Y,subchallenge,max_features=1500,n_estimators=75,regularize=0.8,Y_obs_mean_std=None):\n",
      "    test_size = 0.2\n",
      "    n_molecules = X.shape[0]\n",
      "    shuffle_split = ShuffleSplit(n_molecules,3,test_size=test_size)\n",
      "    test_size *= n_molecules\n",
      "    rfcs = {}\n",
      "    n_subjects = 49\n",
      "    for subject in range(1,n_subjects+1):\n",
      "        rfc = RandomForestRegressor(max_features=max_features,\n",
      "                                    n_estimators=n_estimators,\n",
      "                                    max_depth=None,\n",
      "                                    oob_score=False,\n",
      "                                    n_jobs=-1,\n",
      "                                    random_state=0)\n",
      "        rfcs[subject] = rfc\n",
      "    scores = []\n",
      "    rs = []\n",
      "    ps = []\n",
      "    for train_index,test_index in shuffle_split:\n",
      "        Y_obs_list = []\n",
      "        Y_predict_list = []\n",
      "        rs_=[]\n",
      "        for subject in range(1,n_subjects+1):\n",
      "            rfc = rfcs[subject]\n",
      "            X_train = X[train_index]\n",
      "            Y_train = Y[subject][train_index]\n",
      "            rfc.fit(X_train,Y_train)\n",
      "            X_test = X[test_index]\n",
      "            Y_predict = rfc.predict(X_test)\n",
      "            Y_obs = Y[subject][test_index]\n",
      "            r,p = pearsonr(Y_predict.ravel(),Y_obs.ravel())\n",
      "            rs_.append(r)\n",
      "            ps.append(p)\n",
      "            #print(\"Subject %d, r=%.2f\" % (subject,r))\n",
      "            Y_obs_list.append(Y_obs)\n",
      "            Y_predict_list.append(Y_predict)\n",
      "        rs.append(np.mean(rs_))\n",
      "        Y_obs = np.dstack(Y_obs_list)\n",
      "        Y_predict = np.dstack(Y_predict_list)\n",
      "        Y_predict_mean = np.mean(Y_predict,axis=2)\n",
      "        Y_predict_mean_ = np.dstack([Y_predict_mean for _ in range(n_subjects)])\n",
      "        Y_predict = regularize*(Y_predict_mean_) + (1-regularize)*Y_predict\n",
      "        score = dream.score(Y_predict,Y_obs)\n",
      "        print(score)\n",
      "        scores.append(score)\n",
      "            \n",
      "    print(\"For subchallenge %d, R = %.2f +/- %.2f, score = %.2f +/- %.2f\" % (subchallenge,\n",
      "                                                                     np.mean(rs),\n",
      "                                                                     np.std(rs)/np.sqrt(len(rs)),\n",
      "                                                                     np.mean(scores),\n",
      "                                                                     np.std(scores)/np.sqrt(len(scores))))\n",
      "    #scatter(range(len(scores)),sorted(scores),color='r')\n",
      "    #xlabel('Rank')\n",
      "    #ylabel('Score')\n",
      "    return np.mean(scores)\n",
      "    \n",
      "ns = [0,0.25,0.5,0.75,1]\n",
      "if 1 in subchallenges:\n",
      "    #rfc_cv2(X_obs,Y_obs['mean_std'],2)\n",
      "    #rfc_cv1(X_obs,Y_obs['subject'],1)\n",
      "    pass#plt.subplot(1,2,1)\n",
      "    #scores = [rfc_cv(X_obs,Y_obs['subject'],1,max_ for n in ns]\n",
      "    #plt.scatter(ns,scores)"
     ],
     "language": "python",
     "metadata": {},
     "outputs": [],
     "prompt_number": 39
    },
    {
     "cell_type": "code",
     "collapsed": false,
     "input": [
      "y = Y_training_mask\n",
      "y_mean = y['mean_std'][:,:21]/100.0\n",
      "y_std = y['mean_std'][:,21:]/100.0"
     ],
     "language": "python",
     "metadata": {},
     "outputs": [],
     "prompt_number": 67
    },
    {
     "cell_type": "code",
     "collapsed": false,
     "input": [
      "from scipy.optimize import curve_fit\n",
      "x = y_mean[:,0]\n",
      "y = y_std[:,0]\n",
      "def f(x,k0,k1):\n",
      "    return k0*x**(k1*0.5) - k0*x**(k1*2)\n",
      "k0,k1=curve_fit(f,x,y,p0=[0.7,1],maxfev=10000)[0]\n",
      "print(\"k0=%.3g; k1=%.3g\" % (k0,k1))\n",
      "plt.scatter(x,y,label='Data')\n",
      "x_ = np.linspace(0,1.0,100)\n",
      "plt.plot(x_,f(x_,k0,k1),color='r',linewidth=3,label='Fit')\n",
      "plt.xlabel('Intensity Mean')\n",
      "plt.ylabel('Intensity StDev')\n",
      "plt.legend()\n",
      "plt.figure()\n",
      "plt.scatter(x,y-f(x,k0,k1))\n",
      "def f_int(x):\n",
      "    return 100*(k0*(x/100)**(k1*0.5) - k0*(x/100)**(k1*2))\n",
      "\n",
      "print('r using fit itself = %.3g' % scoring.r2(None,None,rfcs[2][0][3].oob_prediction_[:,21],Y_training['mean_std'][:,21]))\n",
      "print('r using f_int = %.3g' % scoring.r2(None,None,f_int(rfcs[2][0][0].oob_prediction_[:,0]),Y_training['mean_std'][:,21]))\n",
      "print('r using f_int = %.3g' % scoring.r2(None,None,rfcs[2][0][0].oob_prediction_[:,0],Y_training['mean_std'][:,0]))"
     ],
     "language": "python",
     "metadata": {},
     "outputs": [
      {
       "output_type": "stream",
       "stream": "stdout",
       "text": [
        "k0=0.718; k1=1.08\n",
        "r using fit itself = 0.171"
       ]
      },
      {
       "output_type": "stream",
       "stream": "stdout",
       "text": [
        "\n",
        "r using f_int = 0.191\n",
        "r using f_int = 0.671\n"
       ]
      },
      {
       "metadata": {},
       "output_type": "display_data",
       "png": "[encoded data removed]",
       "text": [
        "<matplotlib.figure.Figure at 0x1156076d8>"
       ]
      },
      {
       "metadata": {},
       "output_type": "display_data",
       "png": "[encoded data removed]",
       "text": [
        "<matplotlib.figure.Figure at 0x115838320>"
       ]
      }
     ],
     "prompt_number": 87
    },
    {
     "cell_type": "code",
     "collapsed": false,
     "input": [
      "# Use random forest regression to fit the entire training data set, one descriptor set at a time.  \n",
      "\n",
      "rf1 = RandomForestRegressor(max_features=1500,n_estimators=1000,\n",
      "                                     n_jobs=-1,\n",
      "                                     oob_score=True)\n",
      "rf2 = RandomForestRegressor(max_features=1500,n_estimators=1000,\n",
      "                                     n_jobs=-1,\n",
      "                                     oob_score=True)\n",
      "x = X_training\n",
      "y = Y_training['mean_std'][:,0]\n",
      "rf1.fit(x[:,:],y)\n",
      "rf2.fit(x[:,:-1],y)\n",
      "print(scoring.r2(None,None,rf1.oob_prediction_,y))\n",
      "print(scoring.r2(None,None,rf2.oob_prediction_,y))"
     ],
     "language": "python",
     "metadata": {},
     "outputs": [
      {
       "output_type": "stream",
       "stream": "stdout",
       "text": [
        "0.698899374992\n",
        "0.660371401156\n"
       ]
      }
     ],
     "prompt_number": 104
    },
    {
     "cell_type": "code",
     "collapsed": false,
     "input": [
      "print('r using f_int = %.3g' % scoring.r2(None,None,f_int(rf1.oob_prediction_),Y_training['mean_std'][:,21]))\n",
      "print('r using f_int = %.3g' % scoring.r2(None,None,f_int(rf2.oob_prediction_),Y_training['mean_std'][:,21]))"
     ],
     "language": "python",
     "metadata": {},
     "outputs": [
      {
       "output_type": "stream",
       "stream": "stdout",
       "text": [
        "r using f_int = 0.279\n",
        "r using f_int = 0.311\n"
       ]
      }
     ],
     "prompt_number": 108
    },
    {
     "cell_type": "code",
     "collapsed": false,
     "input": [
      "print('r using f_int = %.3g' % scoring.r2(None,None,f_int(rf1.predict(X_leaderboard[:,:])),Y_leaderboard['mean_std'][:,21]))\n",
      "print('r using f_int = %.3g' % scoring.r2(None,None,f_int(rf2.predict(X_leaderboard[:,:-1])),Y_leaderboard['mean_std'][:,21]))"
     ],
     "language": "python",
     "metadata": {},
     "outputs": [
      {
       "output_type": "stream",
       "stream": "stdout",
       "text": [
        "r using f_int = 0.283\n",
        "r using f_int = -0.244"
       ]
      },
      {
       "output_type": "stream",
       "stream": "stdout",
       "text": [
        "\n"
       ]
      }
     ],
     "prompt_number": 143
    },
    {
     "cell_type": "code",
     "collapsed": false,
     "input": [
      "X_leaderboard.shape"
     ],
     "language": "python",
     "metadata": {},
     "outputs": [
      {
       "metadata": {},
       "output_type": "pyout",
       "prompt_number": 139,
       "text": [
        "(69, 3033)"
       ]
      }
     ],
     "prompt_number": 139
    },
    {
     "cell_type": "code",
     "collapsed": false,
     "input": [
      "plt.scatter(f_int(rfcs[2][0][0].oob_prediction_[:,0]),Y_training['mean_std'][:,21])"
     ],
     "language": "python",
     "metadata": {},
     "outputs": [
      {
       "metadata": {},
       "output_type": "pyout",
       "prompt_number": 94,
       "text": [
        "<matplotlib.collections.PathCollection at 0x16175f860>"
       ]
      },
      {
       "metadata": {},
       "output_type": "display_data",
       "png": "[encoded data removed]",
       "text": [
        "<matplotlib.figure.Figure at 0x1165bba20>"
       ]
      }
     ],
     "prompt_number": 94
    },
    {
     "cell_type": "code",
     "collapsed": false,
     "input": [
      "plt.scatter(f_int(Y_training['mean_std'][:,0]),Y_training['mean_std'][:,21])"
     ],
     "language": "python",
     "metadata": {},
     "outputs": [
      {
       "metadata": {},
       "output_type": "pyout",
       "prompt_number": 93,
       "text": [
        "<matplotlib.collections.PathCollection at 0x11662da58>"
       ]
      },
      {
       "metadata": {},
       "output_type": "display_data",
       "png": "[encoded data removed]",
       "text": [
        "<matplotlib.figure.Figure at 0x113c03240>"
       ]
      }
     ],
     "prompt_number": 93
    },
    {
     "cell_type": "code",
     "collapsed": false,
     "input": [
      "plt.scatter(rf2.oob_prediction_,Y_training['mean_std'][:,0])"
     ],
     "language": "python",
     "metadata": {},
     "outputs": [
      {
       "metadata": {},
       "output_type": "pyout",
       "prompt_number": 107,
       "text": [
        "<matplotlib.collections.PathCollection at 0x188feb7f0>"
       ]
      },
      {
       "metadata": {},
       "output_type": "display_data",
       "png": "[encoded data removed]",
       "text": [
        "<matplotlib.figure.Figure at 0x178fd8cc0>"
       ]
      }
     ],
     "prompt_number": 107
    },
    {
     "cell_type": "code",
     "collapsed": false,
     "input": [
      "rfcs[2][0][3].oob_prediction_.shape,Y_training['mean_std'][:,21].shape"
     ],
     "language": "python",
     "metadata": {},
     "outputs": [
      {
       "metadata": {},
       "output_type": "pyout",
       "prompt_number": 82,
       "text": [
        "((676, 42), (676,))"
       ]
      }
     ],
     "prompt_number": 82
    },
    {
     "cell_type": "code",
     "collapsed": false,
     "input": [
      "from scipy.optimize import curve_fit\n",
      "x = y_mean[:,1]\n",
      "y = y_std[:,1]\n",
      "def f(x,k0,k1):\n",
      "    return k0*x**(k1*0.5) - k0*x**(k1*2)\n",
      "k0,k1=curve_fit(f,x,y,p0=[0.7,1])[0]\n",
      "print(k0,k1)\n",
      "plt.scatter(x,y,label='Data')\n",
      "x_ = np.linspace(0,1.0,100)\n",
      "plt.plot(x_,f(x_,k0,k1),color='r',linewidth=3,label='Fit')\n",
      "plt.xlabel('Pleasantness Mean')\n",
      "plt.ylabel('Pleasantness StDev')\n",
      "plt.legend()\n",
      "plt.legend()\n",
      "plt.figure()\n",
      "plt.scatter(x,y-f(x,k0,k1))\n",
      "def f_ple(x):\n",
      "    return 100*(k0*(x/100)**(k1*0.5) - k0*(x/100)**(k1*2))"
     ],
     "language": "python",
     "metadata": {},
     "outputs": [
      {
       "output_type": "stream",
       "stream": "stdout",
       "text": [
        "0.538255779759 1.10230197482\n"
       ]
      },
      {
       "metadata": {},
       "output_type": "display_data",
       "png": "[encoded data removed]",
       "text": [
        "<matplotlib.figure.Figure at 0x116a06e48>"
       ]
      },
      {
       "metadata": {},
       "output_type": "display_data",
       "png": "[encoded data removed]",
       "text": [
        "<matplotlib.figure.Figure at 0x11631fd68>"
       ]
      }
     ],
     "prompt_number": 69
    },
    {
     "cell_type": "code",
     "collapsed": false,
     "input": [
      "from scipy.optimize import curve_fit\n",
      "x = y_mean[:,2:21].ravel()\n",
      "y = y_std[:,2:21].ravel()\n",
      "def f(x,k0,k1):\n",
      "    return k0*x**(k1*0.5) - k0*x**(k1*2)\n",
      "k0,k1=curve_fit(f,x,y,p0=[0.7,1])[0]\n",
      "print(k0,k1)\n",
      "plt.scatter(x,y,label='Data')#Y_obs['mean_std'][:,0],Y_obs['mean_std'][:,21])\n",
      "x_ = np.linspace(0,1.0,100)\n",
      "plt.plot(x_,f(x_,k0,k1),color='r',linewidth=3,label='Fit')\n",
      "plt.xlabel('Other Descriptors Mean')\n",
      "plt.ylabel('Other Descriptors StDev')\n",
      "plt.legend()\n",
      "plt.legend()\n",
      "plt.figure()\n",
      "plt.scatter(x,y-f(x,k0,k1))\n",
      "def f_dec(x):\n",
      "    return 100*(k0*(x/100)**(k1*0.5) - k0*(x/100)**(k1*2))"
     ],
     "language": "python",
     "metadata": {},
     "outputs": [
      {
       "output_type": "stream",
       "stream": "stdout",
       "text": [
        "0.84174532839 1.13431226201\n"
       ]
      },
      {
       "metadata": {},
       "output_type": "display_data",
       "png": "[encoded data removed]",
       "text": [
        "<matplotlib.figure.Figure at 0x116603240>"
       ]
      },
      {
       "metadata": {},
       "output_type": "display_data",
       "png": "[encoded data removed]",
       "text": [
        "<matplotlib.figure.Figure at 0x11608ff60>"
       ]
      }
     ],
     "prompt_number": 70
    },
    {
     "cell_type": "code",
     "collapsed": false,
     "input": [
      "#regs = np.linspace(0.3,1,25)\n",
      "def pred_obs_stack():\n",
      "    predicted_ = []\n",
      "    observed_ = []\n",
      "    for subject,rfc in rfcs[1].items():\n",
      "        predicted = rfc.predict(X_obs)\n",
      "        predicted = rfc.oob_prediction_\n",
      "        predicted_.append(predicted)\n",
      "        observed_.append(Y_obs['subject'][subject])\n",
      "    predicted = np.dstack(predicted_)\n",
      "    observed = np.dstack(observed_)\n",
      "    return predicted,observed\n",
      "\n",
      "predicted,observed = pred_obs_stack()"
     ],
     "language": "python",
     "metadata": {},
     "outputs": [],
     "prompt_number": 62
    },
    {
     "cell_type": "code",
     "collapsed": false,
     "input": [
      "def reg_score(regularize,predicted,observed):\n",
      "    p = predicted.copy()\n",
      "    o = observed.copy()\n",
      "    p_mean0 = np.mean(p,axis=0,keepdims=True)\n",
      "    p_mean1 = np.mean(p,axis=1,keepdims=True)\n",
      "    p_mean2 = np.mean(p,axis=2,keepdims=True)\n",
      "    p[:,0,:] = regularize[0]*(p_mean2[:,0,:])+(1-regularize[0])*p[:,0,:]\n",
      "    p[:,1,:] = regularize[1]*(p_mean2[:,1,:])+(1-regularize[1])*p[:,1,:]\n",
      "    p[:,2:,:] = regularize[2]*(p_mean2[:,2:,:])+(1-regularize[2])*p[:,2:,:]\n",
      "    score = dream.score(p,o,n_subjects=len(rfcs[1]))\n",
      "    r_int = dream.r('int',p,o)\n",
      "    r_ple = dream.r('ple',p,o)\n",
      "    r_dec = dream.r('dec',p,o)\n",
      "    return (r_int,r_ple,r_dec,score)\n",
      "    \n",
      "x = np.linspace(0,1,20)\n",
      "y_int = [reg_score([xi,0,0],predicted,observed)[0] for xi in x]\n",
      "y_ple = [reg_score([0,xi,0],predicted,observed)[1] for xi in x]\n",
      "y_dec = [reg_score([0,0,xi],predicted,observed)[2] for xi in x]\n",
      "plt.plot(x,y_int,'r')\n",
      "plt.plot(x,y_ple,'b')\n",
      "plt.plot(x,y_dec,'k')\n",
      "print(reg_score([0.8,0.7,0.8],predicted,observed)[3])\n",
      "#from scipy.optimize import fmin_tnc\n",
      "#fmin_tnc(reg_score,(0.8),bounds=[(0.0,1.0)],approx_grad=True)"
     ],
     "language": "python",
     "metadata": {},
     "outputs": [
      {
       "output_type": "stream",
       "stream": "stdout",
       "text": [
        "29.436920657\n"
       ]
      },
      {
       "metadata": {},
       "output_type": "display_data",
       "png": "[encoded data removed]",
       "text": [
        "<matplotlib.figure.Figure at 0x111fc8a58>"
       ]
      }
     ],
     "prompt_number": 65
    },
    {
     "cell_type": "heading",
     "level": 3,
     "metadata": {},
     "source": [
      "Imputation and Masks"
     ]
    },
    {
     "cell_type": "heading",
     "level": 4,
     "metadata": {},
     "source": [
      "Intensity Mean"
     ]
    },
    {
     "cell_type": "code",
     "collapsed": false,
     "input": [
      "y_mask = Y_obs_mask['mean'][:,0]\n",
      "y_imputed = Y_obs_imputed['mean'][:,0]\n",
      "\n",
      "rf = RandomForestRegressor(max_features=None,n_estimators=100,oob_score=True)\n",
      "rf.fit(X_obs,y_imputed)\n",
      "# Always check against y_mask because NaNs will be ignored in actual scoring.  \n",
      "print(dream.r2(None,None,rf.oob_prediction_,y_mask)) "
     ],
     "language": "python",
     "metadata": {},
     "outputs": [
      {
       "output_type": "stream",
       "stream": "stdout",
       "text": [
        "0.662535403324\n"
       ]
      }
     ],
     "prompt_number": 174
    },
    {
     "cell_type": "heading",
     "level": 4,
     "metadata": {},
     "source": [
      "Pleasantness Mean"
     ]
    },
    {
     "cell_type": "code",
     "collapsed": false,
     "input": [
      "y_mask = Y_obs_mask['mean'][:,1]\n",
      "y_imputed = Y_obs_imputed['mean'][:,1]\n",
      "\n",
      "rf = RandomForestRegressor(max_features=None,n_estimators=100,oob_score=True)\n",
      "rf.fit(X_obs,y_imputed)\n",
      "# Always check against y_mask because NaNs will be ignored in actual scoring.  \n",
      "print(dream.r2(None,None,rf.oob_prediction_,y_mask)) \n",
      "\n",
      "rf.fit(X_obs,y_mask)\n",
      "print(dream.r2(None,None,rf.oob_prediction_,y_mask))"
     ],
     "language": "python",
     "metadata": {},
     "outputs": [
      {
       "output_type": "stream",
       "stream": "stdout",
       "text": [
        "0.684404084367\n",
        "0.682222803598"
       ]
      },
      {
       "output_type": "stream",
       "stream": "stdout",
       "text": [
        "\n"
       ]
      }
     ],
     "prompt_number": 175
    },
    {
     "cell_type": "heading",
     "level": 4,
     "metadata": {},
     "source": [
      "Other Descriptors Mean"
     ]
    },
    {
     "cell_type": "code",
     "collapsed": false,
     "input": [
      "y_mask = Y_obs_mask['mean'][:,2:21]\n",
      "y_imputed = Y_obs_imputed['mean'][:,2:21]\n",
      "\n",
      "rf = RandomForestRegressor(max_features=None,n_estimators=100,oob_score=True)\n",
      "rf.fit(X_obs,y_imputed)\n",
      "# Always check against y_mask because NaNs will be ignored in actual scoring.  \n",
      "print(dream.r2(None,None,rf.oob_prediction_,y_mask)) \n",
      "\n",
      "rf.fit(X_obs,y_mask)\n",
      "print(dream.r2(None,None,rf.oob_prediction_,y_mask))"
     ],
     "language": "python",
     "metadata": {},
     "outputs": []
    },
    {
     "cell_type": "heading",
     "level": 4,
     "metadata": {},
     "source": [
      "Intensity StDev"
     ]
    },
    {
     "cell_type": "code",
     "collapsed": false,
     "input": [
      "y_mask = Y_obs_mask['mean_std']\n",
      "y_imputed = Y_obs_imputed['mean_std']\n",
      "\n",
      "rf = RandomForestRegressor(max_features=None,n_estimators=100,oob_score=True)\n",
      "rf.fit(X_obs,y_imputed)\n",
      "# Always check against y_mask because NaNs will be ignored in actual scoring.  \n",
      "print(dream.r2('int','sigma',rf.oob_prediction_,y_mask)) \n",
      "\n",
      "rf.fit(X_obs,y_mask)\n",
      "print(dream.r2('int','sigma',rf.oob_prediction_,y_mask))"
     ],
     "language": "python",
     "metadata": {},
     "outputs": [
      {
       "output_type": "stream",
       "stream": "stdout",
       "text": [
        "0.178720613173\n",
        "0.173627784149"
       ]
      },
      {
       "output_type": "stream",
       "stream": "stdout",
       "text": [
        "\n"
       ]
      }
     ],
     "prompt_number": 176
    },
    {
     "cell_type": "code",
     "collapsed": false,
     "input": [
      "y_mask = Y_obs_mask['mean_std']\n",
      "y_pretend = rf.oob_prediction_.copy()\n",
      "y_pretend[:,21] = f(y_pretend[:,0])\n",
      "print(dream.r2('int','sigma',y_pretend,y_mask))"
     ],
     "language": "python",
     "metadata": {},
     "outputs": [
      {
       "output_type": "stream",
       "stream": "stdout",
       "text": [
        "0.293620214809\n"
       ]
      }
     ],
     "prompt_number": 177
    },
    {
     "cell_type": "heading",
     "level": 4,
     "metadata": {},
     "source": [
      "Pleasantness StDev"
     ]
    },
    {
     "cell_type": "code",
     "collapsed": false,
     "input": [
      "y_mask = Y_obs_mask['mean_std']\n",
      "y_imputed = Y_obs_imputed['mean_std']\n",
      "\n",
      "rf = RandomForestRegressor(max_features=None,n_estimators=100,oob_score=True)\n",
      "rf.fit(X_obs,y_imputed)\n",
      "# Always check against y_mask because NaNs will be ignored in actual scoring.  \n",
      "print(dream.r2('ple','sigma',rf.oob_prediction_,y_mask)) \n",
      "\n",
      "rf.fit(X_obs,y_mask)\n",
      "print(dream.r2('ple','sigma',rf.oob_prediction_,y_mask))"
     ],
     "language": "python",
     "metadata": {},
     "outputs": [
      {
       "output_type": "stream",
       "stream": "stdout",
       "text": [
        "0.277340554378\n",
        "0.282918106124"
       ]
      },
      {
       "output_type": "stream",
       "stream": "stdout",
       "text": [
        "\n"
       ]
      }
     ],
     "prompt_number": 40
    },
    {
     "cell_type": "code",
     "collapsed": false,
     "input": [
      "n_estimators = 1000\n",
      "max_features = 1500\n",
      "\n",
      "y_mask = Y_obs_mask['mean_std']\n",
      "rf_mask = RandomForestRegressor(max_features=max_features,n_estimators=n_estimators,oob_score=True)\n",
      "#rf_mask_int = RandomForestRegressor(max_features=max_features,n_estimators=n_estimators,oob_score=True)\n",
      "rf_mask_ple = RandomForestRegressor(max_features=None,n_estimators=n_estimators,oob_score=True)\n",
      "#rf_mask_dec = RandomForestRegressor(max_features=700,n_estimators=n_estimators,oob_score=True)\n",
      "#rf_mask_int_sig = RandomForestRegressor(max_features=max_features,n_estimators=n_estimators,min_samples_leaf=16,oob_score=True)\n",
      "#rf_mask_ple_sig = RandomForestRegressor(max_features=max_features,n_estimators=n_estimators,oob_score=True)\n",
      "#rf_mask_dec_sig = RandomForestRegressor(max_features=max_features,n_estimators=n_estimators,oob_score=True)\n",
      "rf_mask.fit(X_obs,y_mask)\n",
      "#rf_mask_int.fit(X_obs,y_mask[:,0])\n",
      "rf_mask_ple.fit(X_obs,y_mask[:,1])\n",
      "#rf_mask_dec.fit(X_obs,y_mask[:,2:21])\n",
      "#rf_mask_int_sig.fit(X_obs,y_mask[:,21])\n",
      "#rf_mask_ple_sig.fit(X_obs,y_mask[:,22])\n",
      "#rf_mask_dec_sig.fit(X_obs,y_mask[:,23:42])\n",
      "\n",
      "y_imputed = Y_obs_imputed['mean_std']\n",
      "rf_imputed = RandomForestRegressor(max_features=max_features,n_estimators=n_estimators,oob_score=True)\n",
      "#rf_imputed_int = RandomForestRegressor(max_features=max_features,n_estimators=n_estimators,oob_score=True)\n",
      "rf_imputed_ple = RandomForestRegressor(max_features=None,n_estimators=n_estimators,oob_score=True)\n",
      "#rf_imputed_dec = RandomForestRegressor(max_features=700,n_estimators=n_estimators,oob_score=True)\n",
      "#rf_imputed_int_sig = RandomForestRegressor(max_features=max_features,n_estimators=n_estimators,min_samples_leaf=16,oob_score=True)\n",
      "#rf_imputed_ple_sig = RandomForestRegressor(max_features=max_features,n_estimators=n_estimators,oob_score=True)\n",
      "#rf_imputed_dec_sig = RandomForestRegressor(max_features=max_features,n_estimators=n_estimators,oob_score=True)\n",
      "rf_imputed.fit(X_obs,y_imputed)\n",
      "#rf_imputed_int.fit(X_obs,y_imputed[:,0])\n",
      "rf_imputed_ple.fit(X_obs,y_imputed[:,1])\n",
      "#rf_imputed_dec.fit(X_obs,y_imputed[:,2:21])\n",
      "#rf_imputed_int_sig.fit(X_obs,y_imputed[:,21])\n",
      "#rf_imputed_ple_sig.fit(X_obs,y_imputed[:,22])\n",
      "#rf_imputed_dec_sig.fit(X_obs,y_imputed[:,23:42])\n",
      "\n",
      "y_zero = Y_obs_zero['mean_std']\n",
      "rf_zero = RandomForestRegressor(max_features=max_features,n_estimators=n_estimators,oob_score=True)\n",
      "#rf_zero_int = RandomForestRegressor(max_features=max_features,n_estimators=n_estimators,oob_score=True)\n",
      "rf_zero_ple = RandomForestRegressor(max_features=None,n_estimators=n_estimators,oob_score=True)\n",
      "#rf_zero_dec = RandomForestRegressor(max_features=700,n_estimators=n_estimators,oob_score=True)\n",
      "#rf_zero_int_sig = RandomForestRegressor(max_features=max_features,n_estimators=n_estimators,min_samples_leaf=16,oob_score=True)\n",
      "#rf_zero_ple_sig = RandomForestRegressor(max_features=max_features,n_estimators=n_estimators,oob_score=True)\n",
      "#rf_zero_dec_sig = RandomForestRegressor(max_features=max_features,n_estimators=n_estimators,oob_score=True)\n",
      "rf_zero.fit(X_obs,y_zero)\n",
      "#rf_zero_int.fit(X_obs,y_zero[:,0])\n",
      "rf_zero_ple.fit(X_obs,y_zero[:,1])\n",
      "#rf_zero_dec.fit(X_obs,y_zero[:,2:21])\n",
      "#rf_zero_int_sig.fit(X_obs,y_zero[:,21])\n",
      "#rf_zero_ple_sig.fit(X_obs,y_zero[:,22])\n",
      "#rf_zero_dec_sig.fit(X_obs,y_zero[:,23:42])\n",
      "\n",
      "'''\n",
      "y = y_imputed\n",
      "\n",
      "# Always check against y_mask because NaNs will be ignored in actual scoring.  \n",
      "def get_rs(rf,f=None):\n",
      "    prediction = rf.oob_prediction_.copy()\n",
      "    if f:\n",
      "        for i in range(21):\n",
      "            prediction[:,21+i] = f(prediction[:,0+i])\n",
      "    rs = []\n",
      "    rs.append(dream.r2('int','mean',prediction,y))\n",
      "    rs.append(dream.r2('ple','mean',prediction,y))\n",
      "    rs.append(dream.r2('dec','mean',prediction,y))\n",
      "    rs.append(dream.r2('int','sigma',prediction,y))\n",
      "    rs.append(dream.r2('ple','sigma',prediction,y))\n",
      "    rs.append(dream.r2('dec','sigma',prediction,y))\n",
      "    rs = [int(_*1000) for _ in rs]\n",
      "    return rs\n",
      "\n",
      "def get_rs2(rfs,f=None):\n",
      "    rs = []\n",
      "    indices = [[0],[1],np.arange(2,21),[21],[22],np.arange(23,42)]\n",
      "    for i in range(len(rfs)):\n",
      "        if f:\n",
      "            j = i % 3\n",
      "        else:\n",
      "            j = i\n",
      "        if f and i>=3:\n",
      "            rfs[i].oob_prediction_ = f(rfs[j].oob_prediction_)\n",
      "        if len(rfs[i].oob_prediction_.shape)==1:\n",
      "            rfs[i].oob_prediction_ = rfs[i].oob_prediction_.reshape(-1,1)\n",
      "        rs.append(int(1000*dream.r2(None,None,rfs[i].oob_prediction_,y[:,indices[i]])))\n",
      "    return rs\n",
      "\n",
      "print(get_rs(rf_mask))\n",
      "print(get_rs(rf_mask,f))\n",
      "print(get_rs2([rf_mask_int,rf_mask_ple,rf_mask_dec,rf_mask_int_sig,rf_mask_ple_sig,rf_mask_dec_sig]))  \n",
      "print(get_rs2([rf_mask_int,rf_mask_ple,rf_mask_dec,rf_mask_int_sig,rf_mask_ple_sig,rf_mask_dec_sig],f))  \n",
      "print(\"---\")\n",
      "print(get_rs(rf_imputed))\n",
      "print(get_rs(rf_imputed,f))\n",
      "print(get_rs2([rf_imputed_int,rf_imputed_ple,rf_imputed_dec,rf_imputed_int_sig,rf_imputed_ple_sig,rf_imputed_dec_sig]))  \n",
      "print(get_rs2([rf_imputed_int,rf_imputed_ple,rf_imputed_dec,rf_imputed_int_sig,rf_imputed_ple_sig,rf_imputed_dec_sig],f)) \n",
      "print(\"---\")\n",
      "print(get_rs(rf_zero))\n",
      "print(get_rs(rf_zero,f))\n",
      "print(get_rs2([rf_zero_int,rf_zero_ple,rf_zero_dec,rf_zero_int_sig,rf_zero_ple_sig,rf_zero_dec_sig]))  \n",
      "print(get_rs2([rf_zero_int,rf_zero_ple,rf_zero_dec,rf_zero_int_sig,rf_zero_ple_sig,rf_zero_dec_sig],f))  \n",
      "'''"
     ],
     "language": "python",
     "metadata": {},
     "outputs": [
      {
       "metadata": {},
       "output_type": "pyout",
       "prompt_number": 102,
       "text": [
        "'\\ny = y_imputed\\n\\n# Always check against y_mask because NaNs will be ignored in actual scoring.  \\ndef get_rs(rf,f=None):\\n    prediction = rf.oob_prediction_.copy()\\n    if f:\\n        for i in range(21):\\n            prediction[:,21+i] = f(prediction[:,0+i])\\n    rs = []\\n    rs.append(dream.r2(\\'int\\',\\'mean\\',prediction,y))\\n    rs.append(dream.r2(\\'ple\\',\\'mean\\',prediction,y))\\n    rs.append(dream.r2(\\'dec\\',\\'mean\\',prediction,y))\\n    rs.append(dream.r2(\\'int\\',\\'sigma\\',prediction,y))\\n    rs.append(dream.r2(\\'ple\\',\\'sigma\\',prediction,y))\\n    rs.append(dream.r2(\\'dec\\',\\'sigma\\',prediction,y))\\n    rs = [int(_*1000) for _ in rs]\\n    return rs\\n\\ndef get_rs2(rfs,f=None):\\n    rs = []\\n    indices = [[0],[1],np.arange(2,21),[21],[22],np.arange(23,42)]\\n    for i in range(len(rfs)):\\n        if f:\\n            j = i % 3\\n        else:\\n            j = i\\n        if f and i>=3:\\n            rfs[i].oob_prediction_ = f(rfs[j].oob_prediction_)\\n        if len(rfs[i].oob_prediction_.shape)==1:\\n            rfs[i].oob_prediction_ = rfs[i].oob_prediction_.reshape(-1,1)\\n        rs.append(int(1000*dream.r2(None,None,rfs[i].oob_prediction_,y[:,indices[i]])))\\n    return rs\\n\\nprint(get_rs(rf_mask))\\nprint(get_rs(rf_mask,f))\\nprint(get_rs2([rf_mask_int,rf_mask_ple,rf_mask_dec,rf_mask_int_sig,rf_mask_ple_sig,rf_mask_dec_sig]))  \\nprint(get_rs2([rf_mask_int,rf_mask_ple,rf_mask_dec,rf_mask_int_sig,rf_mask_ple_sig,rf_mask_dec_sig],f))  \\nprint(\"---\")\\nprint(get_rs(rf_imputed))\\nprint(get_rs(rf_imputed,f))\\nprint(get_rs2([rf_imputed_int,rf_imputed_ple,rf_imputed_dec,rf_imputed_int_sig,rf_imputed_ple_sig,rf_imputed_dec_sig]))  \\nprint(get_rs2([rf_imputed_int,rf_imputed_ple,rf_imputed_dec,rf_imputed_int_sig,rf_imputed_ple_sig,rf_imputed_dec_sig],f)) \\nprint(\"---\")\\nprint(get_rs(rf_zero))\\nprint(get_rs(rf_zero,f))\\nprint(get_rs2([rf_zero_int,rf_zero_ple,rf_zero_dec,rf_zero_int_sig,rf_zero_ple_sig,rf_zero_dec_sig]))  \\nprint(get_rs2([rf_zero_int,rf_zero_ple,rf_zero_dec,rf_zero_int_sig,rf_zero_ple_sig,rf_zero_dec_sig],f))  \\n'"
       ]
      }
     ],
     "prompt_number": 102
    },
    {
     "cell_type": "code",
     "collapsed": false,
     "input": [
      "(0.658/0.1193 + 0.668/0.1265 + 0.539/0.0265 + 0.308/0.1194 + 0.544/0.1149 + 0.450/0.0281)/6"
     ],
     "language": "python",
     "metadata": {},
     "outputs": [
      {
       "metadata": {},
       "output_type": "pyout",
       "prompt_number": 218,
       "text": [
        "9.07735222103151"
       ]
      }
     ],
     "prompt_number": 218
    },
    {
     "cell_type": "code",
     "collapsed": false,
     "input": [
      "[648, 571, 434, 182, 283, 358]\n",
      "[648, 571, 434, 269, 117, 367]\n",
      "[667, 683, 436, -94, 258, 376]\n",
      "[652, 576, 446, 162, 268, 357]\n",
      "[652, 576, 446, 273, 94, 371]\n",
      "[679, 686, 496, -114, 253, 379]\n",
      "[649, 561, 433, 195, 288, 362]\n",
      "[649, 561, 433, 289, 74, 372]\n",
      "[668, 677, 441, -108, 264, 366]"
     ],
     "language": "python",
     "metadata": {},
     "outputs": [
      {
       "metadata": {},
       "output_type": "pyout",
       "prompt_number": 201,
       "text": [
        "[668, 677, 441, -108, 264, 366]"
       ]
      }
     ],
     "prompt_number": 201
    },
    {
     "cell_type": "code",
     "collapsed": false,
     "input": [
      "[641, 597, 464, 129, 289, 379]\n",
      "[641, 597, 464, 288, 106, 394]\n",
      "[658, 662, 493, -112, 274, 386]\n",
      "[635, 598, 466, 106, 288, 367]\n",
      "[635, 598, 466, 280, 120, 387]\n",
      "[664, 658, 488, -115, 259, 376]\n",
      "[644, 605, 468, 136, 292, 380]\n",
      "[644, 605, 468, 296, 108, 397]\n",
      "[658, 665, 497, -114, 268, 387]"
     ],
     "language": "python",
     "metadata": {},
     "outputs": [
      {
       "metadata": {},
       "output_type": "pyout",
       "prompt_number": 203,
       "text": [
        "[658, 665, 497, -114, 268, 387]"
       ]
      }
     ],
     "prompt_number": 203
    },
    {
     "cell_type": "code",
     "collapsed": false,
     "input": [
      "[641, 600, 532, 129, 552, 440]\n",
      "[641, 600, 532, 288, -33, 461]\n",
      "[658, 668, 539, -112, 544, 441]\n",
      "[129, -267, 517, 304, -14, 450]\n",
      "---\n",
      "[635, 602, 482, 106, 386, 394]\n",
      "[635, 602, 482, 280, -12, 409]\n",
      "[664, 664, 491, -115, 240, 392]\n",
      "[143, -283, 457, 315, -16, 389]\n",
      "---\n",
      "[640, 429, 532, 140, -101, 441]\n",
      "[640, 429, 532, 295, 337, 462]\n",
      "[657, 573, 540, -117, 73, 445]\n",
      "[137, 308, 519, 308, 147, 454]"
     ],
     "language": "python",
     "metadata": {},
     "outputs": [
      {
       "ename": "SyntaxError",
       "evalue": "invalid syntax (<ipython-input-216-e29728c38c18>, line 5)",
       "output_type": "pyerr",
       "traceback": [
        "\u001b[0;36m  File \u001b[0;32m\"<ipython-input-216-e29728c38c18>\"\u001b[0;36m, line \u001b[0;32m5\u001b[0m\n\u001b[0;31m    ---\u001b[0m\n\u001b[0m       ^\u001b[0m\n\u001b[0;31mSyntaxError\u001b[0m\u001b[0;31m:\u001b[0m invalid syntax\n"
       ]
      }
     ],
     "prompt_number": 216
    },
    {
     "cell_type": "code",
     "collapsed": false,
     "input": [
      "Y_leaderboard = {}\n",
      "method = 'mask'\n",
      "rf = eval('rf_%s' % method)\n",
      "rf_int = eval('rf_%s_int' % method)\n",
      "rf_ple = eval('rf_%s_ple' % method)\n",
      "rf_dec = eval('rf_%s_dec' % method)\n",
      "Y_leaderboard['mean_std'] = rf.predict(X_leaderboard)\n",
      "Y_leaderboard['mean_std'][:,0] = rf_int.predict(X_leaderboard_intensity)\n",
      "Y_leaderboard['mean_std'][:,1] = rf_ple.predict(X_leaderboard)\n",
      "Y_leaderboard['mean_std'][:,2:21] = rf_dec.predict(X_leaderboard)\n",
      "Y_leaderboard['mean_std'][:,21] = f(rf_int.predict(X_leaderboard_intensity))\n",
      "Y_leaderboard['mean_std'][:,22] = rf.predict(X_leaderboard)[:,22]\n",
      "Y_leaderboard['mean_std'][:,23:42] = f(rf_dec.predict(X_leaderboard))\n",
      "write_prediction_files(name=method)"
     ],
     "language": "python",
     "metadata": {},
     "outputs": [],
     "prompt_number": 77
    },
    {
     "cell_type": "code",
     "collapsed": false,
     "input": [
      "stuff = [eval(_) for _ in dir() if _.startswith('rf_')]"
     ],
     "language": "python",
     "metadata": {},
     "outputs": [],
     "prompt_number": 247
    },
    {
     "cell_type": "code",
     "collapsed": false,
     "input": [
      "import pickle\n",
      "pickle.dumps(stuff)"
     ],
     "language": "python",
     "metadata": {},
     "outputs": []
    },
    {
     "cell_type": "code",
     "collapsed": false,
     "input": [
      "with open('stuff.pickle','w') as file_:\n",
      "    pickle.dump(stuff,file_)"
     ],
     "language": "python",
     "metadata": {},
     "outputs": []
    },
    {
     "cell_type": "code",
     "collapsed": false,
     "input": [
      "def stuff(X,Y,max_features=1500,n_estimators=1000,max_depth=None,min_samples_leaf=1):\n",
      "    rfc = RandomForestRegressor(max_features=max_features,\n",
      "                                n_estimators=n_estimators,\n",
      "                                max_depth=max_depth,\n",
      "                                min_samples_leaf=min_samples_leaf,\n",
      "                                oob_score=False,\n",
      "                                n_jobs=-1)\n",
      "    test_size = 0.2\n",
      "    shuffle_split = ShuffleSplit(len(Y),15,test_size=test_size)\n",
      "    test_size *= len(Y)\n",
      "    rs = []\n",
      "    ps = []\n",
      "    scores = []\n",
      "    for train_index,test_index in shuffle_split:\n",
      "        rfc.fit(X[train_index],Y[train_index])\n",
      "        Y_predict = rfc.predict(X[test_index])[:,1]\n",
      "        Y_obs = Y[test_index][:,1]\n",
      "        r,_ = pearsonr(Y_obs.ravel(),Y_predict.ravel())\n",
      "        rs.append(r)\n",
      "    return np.mean(rs)\n",
      "    \n",
      "if 2 in subchallenges:\n",
      "    for Y_obs_ in [Y_obs_zero,Y_obs_mask,Y_obs_imputed]:\n",
      "        ns = [10,30,50,70,100,150,250]\n",
      "        rs = []\n",
      "        for n in ns:\n",
      "            r = stuff(X_obs,Y_obs_['mean_std'],max_features=n)\n",
      "            print('r=%.3f for max_features=%d' % (r,n))\n",
      "            rs.append(r)\n",
      "        plt.figure()\n",
      "        plt.scatter(ns,rs)"
     ],
     "language": "python",
     "metadata": {},
     "outputs": [
      {
       "output_type": "stream",
       "stream": "stdout",
       "text": [
        "r=0.608 for max_features=10\n",
        "r=0.625 for max_features=30"
       ]
      },
      {
       "output_type": "stream",
       "stream": "stdout",
       "text": [
        "\n",
        "r=0.612 for max_features=50"
       ]
      },
      {
       "output_type": "stream",
       "stream": "stdout",
       "text": [
        "\n",
        "r=0.622 for max_features=70"
       ]
      },
      {
       "output_type": "stream",
       "stream": "stdout",
       "text": [
        "\n",
        "r=0.629 for max_features=100"
       ]
      },
      {
       "output_type": "stream",
       "stream": "stdout",
       "text": [
        "\n",
        "r=0.630 for max_features=150"
       ]
      },
      {
       "output_type": "stream",
       "stream": "stdout",
       "text": [
        "\n",
        "r=0.619 for max_features=250"
       ]
      },
      {
       "output_type": "stream",
       "stream": "stdout",
       "text": [
        "\n",
        "r=0.620 for max_features=10"
       ]
      },
      {
       "output_type": "stream",
       "stream": "stdout",
       "text": [
        "\n",
        "r=0.613 for max_features=30"
       ]
      },
      {
       "output_type": "stream",
       "stream": "stdout",
       "text": [
        "\n",
        "r=0.638 for max_features=50"
       ]
      },
      {
       "output_type": "stream",
       "stream": "stdout",
       "text": [
        "\n",
        "r=0.608 for max_features=70"
       ]
      },
      {
       "output_type": "stream",
       "stream": "stdout",
       "text": [
        "\n",
        "r=0.634 for max_features=100"
       ]
      },
      {
       "output_type": "stream",
       "stream": "stdout",
       "text": [
        "\n"
       ]
      },
      {
       "ename": "KeyboardInterrupt",
       "evalue": "",
       "output_type": "pyerr",
       "traceback": [
        "\u001b[0;31m---------------------------------------------------------------------------\u001b[0m\n\u001b[0;31mKeyboardInterrupt\u001b[0m                         Traceback (most recent call last)",
        "\u001b[0;32m<ipython-input-43-cf51438636ca>\u001b[0m in \u001b[0;36m<module>\u001b[0;34m()\u001b[0m\n\u001b[1;32m     25\u001b[0m         \u001b[0mrs\u001b[0m \u001b[0;34m=\u001b[0m \u001b[0;34m[\u001b[0m\u001b[0;34m]\u001b[0m\u001b[0;34m\u001b[0m\u001b[0m\n\u001b[1;32m     26\u001b[0m         \u001b[0;32mfor\u001b[0m \u001b[0mn\u001b[0m \u001b[0;32min\u001b[0m \u001b[0mns\u001b[0m\u001b[0;34m:\u001b[0m\u001b[0;34m\u001b[0m\u001b[0m\n\u001b[0;32m---> 27\u001b[0;31m             \u001b[0mr\u001b[0m \u001b[0;34m=\u001b[0m \u001b[0mstuff\u001b[0m\u001b[0;34m(\u001b[0m\u001b[0mX_obs\u001b[0m\u001b[0;34m,\u001b[0m\u001b[0mY_obs_\u001b[0m\u001b[0;34m[\u001b[0m\u001b[0;34m'mean_std'\u001b[0m\u001b[0;34m]\u001b[0m\u001b[0;34m,\u001b[0m\u001b[0mmax_features\u001b[0m\u001b[0;34m=\u001b[0m\u001b[0mn\u001b[0m\u001b[0;34m)\u001b[0m\u001b[0;34m\u001b[0m\u001b[0m\n\u001b[0m\u001b[1;32m     28\u001b[0m             \u001b[0mprint\u001b[0m\u001b[0;34m(\u001b[0m\u001b[0;34m'r=%.3f for max_features=%d'\u001b[0m \u001b[0;34m%\u001b[0m \u001b[0;34m(\u001b[0m\u001b[0mr\u001b[0m\u001b[0;34m,\u001b[0m\u001b[0mn\u001b[0m\u001b[0;34m)\u001b[0m\u001b[0;34m)\u001b[0m\u001b[0;34m\u001b[0m\u001b[0m\n\u001b[1;32m     29\u001b[0m             \u001b[0mrs\u001b[0m\u001b[0;34m.\u001b[0m\u001b[0mappend\u001b[0m\u001b[0;34m(\u001b[0m\u001b[0mr\u001b[0m\u001b[0;34m)\u001b[0m\u001b[0;34m\u001b[0m\u001b[0m\n",
        "\u001b[0;32m<ipython-input-43-cf51438636ca>\u001b[0m in \u001b[0;36mstuff\u001b[0;34m(X, Y, max_features, n_estimators, max_depth, min_samples_leaf)\u001b[0m\n\u001b[1;32m     13\u001b[0m     \u001b[0mscores\u001b[0m \u001b[0;34m=\u001b[0m \u001b[0;34m[\u001b[0m\u001b[0;34m]\u001b[0m\u001b[0;34m\u001b[0m\u001b[0m\n\u001b[1;32m     14\u001b[0m     \u001b[0;32mfor\u001b[0m \u001b[0mtrain_index\u001b[0m\u001b[0;34m,\u001b[0m\u001b[0mtest_index\u001b[0m \u001b[0;32min\u001b[0m \u001b[0mshuffle_split\u001b[0m\u001b[0;34m:\u001b[0m\u001b[0;34m\u001b[0m\u001b[0m\n\u001b[0;32m---> 15\u001b[0;31m         \u001b[0mrfc\u001b[0m\u001b[0;34m.\u001b[0m\u001b[0mfit\u001b[0m\u001b[0;34m(\u001b[0m\u001b[0mX\u001b[0m\u001b[0;34m[\u001b[0m\u001b[0mtrain_index\u001b[0m\u001b[0;34m]\u001b[0m\u001b[0;34m,\u001b[0m\u001b[0mY\u001b[0m\u001b[0;34m[\u001b[0m\u001b[0mtrain_index\u001b[0m\u001b[0;34m]\u001b[0m\u001b[0;34m)\u001b[0m\u001b[0;34m\u001b[0m\u001b[0m\n\u001b[0m\u001b[1;32m     16\u001b[0m         \u001b[0mY_predict\u001b[0m \u001b[0;34m=\u001b[0m \u001b[0mrfc\u001b[0m\u001b[0;34m.\u001b[0m\u001b[0mpredict\u001b[0m\u001b[0;34m(\u001b[0m\u001b[0mX\u001b[0m\u001b[0;34m[\u001b[0m\u001b[0mtest_index\u001b[0m\u001b[0;34m]\u001b[0m\u001b[0;34m)\u001b[0m\u001b[0;34m[\u001b[0m\u001b[0;34m:\u001b[0m\u001b[0;34m,\u001b[0m\u001b[0;36m1\u001b[0m\u001b[0;34m]\u001b[0m\u001b[0;34m\u001b[0m\u001b[0m\n\u001b[1;32m     17\u001b[0m         \u001b[0mY_obs\u001b[0m \u001b[0;34m=\u001b[0m \u001b[0mY\u001b[0m\u001b[0;34m[\u001b[0m\u001b[0mtest_index\u001b[0m\u001b[0;34m]\u001b[0m\u001b[0;34m[\u001b[0m\u001b[0;34m:\u001b[0m\u001b[0;34m,\u001b[0m\u001b[0;36m1\u001b[0m\u001b[0;34m]\u001b[0m\u001b[0;34m\u001b[0m\u001b[0m\n",
        "\u001b[0;32m/Users/rgerkin/Dropbox/python3/lib/python3.4/site-packages/sklearn/ensemble/forest.py\u001b[0m in \u001b[0;36mfit\u001b[0;34m(self, X, y, sample_weight)\u001b[0m\n\u001b[1;32m    277\u001b[0m                 \u001b[0msample_weight\u001b[0m\u001b[0;34m,\u001b[0m\u001b[0;34m\u001b[0m\u001b[0m\n\u001b[1;32m    278\u001b[0m                 verbose=self.verbose)\n\u001b[0;32m--> 279\u001b[0;31m             for i in range(n_jobs))\n\u001b[0m\u001b[1;32m    280\u001b[0m \u001b[0;34m\u001b[0m\u001b[0m\n\u001b[1;32m    281\u001b[0m         \u001b[0;31m# Reduce\u001b[0m\u001b[0;34m\u001b[0m\u001b[0;34m\u001b[0m\u001b[0m\n",
        "\u001b[0;32m/Users/rgerkin/Dropbox/python3/lib/python3.4/site-packages/sklearn/externals/joblib/parallel.py\u001b[0m in \u001b[0;36m__call__\u001b[0;34m(self, iterable)\u001b[0m\n\u001b[1;32m    658\u001b[0m                 \u001b[0;31m# consumption.\u001b[0m\u001b[0;34m\u001b[0m\u001b[0;34m\u001b[0m\u001b[0m\n\u001b[1;32m    659\u001b[0m                 \u001b[0mself\u001b[0m\u001b[0;34m.\u001b[0m\u001b[0m_iterating\u001b[0m \u001b[0;34m=\u001b[0m \u001b[0;32mFalse\u001b[0m\u001b[0;34m\u001b[0m\u001b[0m\n\u001b[0;32m--> 660\u001b[0;31m             \u001b[0mself\u001b[0m\u001b[0;34m.\u001b[0m\u001b[0mretrieve\u001b[0m\u001b[0;34m(\u001b[0m\u001b[0;34m)\u001b[0m\u001b[0;34m\u001b[0m\u001b[0m\n\u001b[0m\u001b[1;32m    661\u001b[0m             \u001b[0;31m# Make sure that we get a last message telling us we are done\u001b[0m\u001b[0;34m\u001b[0m\u001b[0;34m\u001b[0m\u001b[0m\n\u001b[1;32m    662\u001b[0m             \u001b[0melapsed_time\u001b[0m \u001b[0;34m=\u001b[0m \u001b[0mtime\u001b[0m\u001b[0;34m.\u001b[0m\u001b[0mtime\u001b[0m\u001b[0;34m(\u001b[0m\u001b[0;34m)\u001b[0m \u001b[0;34m-\u001b[0m \u001b[0mself\u001b[0m\u001b[0;34m.\u001b[0m\u001b[0m_start_time\u001b[0m\u001b[0;34m\u001b[0m\u001b[0m\n",
        "\u001b[0;32m/Users/rgerkin/Dropbox/python3/lib/python3.4/site-packages/sklearn/externals/joblib/parallel.py\u001b[0m in \u001b[0;36mretrieve\u001b[0;34m(self)\u001b[0m\n\u001b[1;32m    510\u001b[0m                 \u001b[0mself\u001b[0m\u001b[0;34m.\u001b[0m\u001b[0m_lock\u001b[0m\u001b[0;34m.\u001b[0m\u001b[0mrelease\u001b[0m\u001b[0;34m(\u001b[0m\u001b[0;34m)\u001b[0m\u001b[0;34m\u001b[0m\u001b[0m\n\u001b[1;32m    511\u001b[0m             \u001b[0;32mtry\u001b[0m\u001b[0;34m:\u001b[0m\u001b[0;34m\u001b[0m\u001b[0m\n\u001b[0;32m--> 512\u001b[0;31m                 \u001b[0mself\u001b[0m\u001b[0;34m.\u001b[0m\u001b[0m_output\u001b[0m\u001b[0;34m.\u001b[0m\u001b[0mappend\u001b[0m\u001b[0;34m(\u001b[0m\u001b[0mjob\u001b[0m\u001b[0;34m.\u001b[0m\u001b[0mget\u001b[0m\u001b[0;34m(\u001b[0m\u001b[0;34m)\u001b[0m\u001b[0;34m)\u001b[0m\u001b[0;34m\u001b[0m\u001b[0m\n\u001b[0m\u001b[1;32m    513\u001b[0m             \u001b[0;32mexcept\u001b[0m \u001b[0mtuple\u001b[0m\u001b[0;34m(\u001b[0m\u001b[0mself\u001b[0m\u001b[0;34m.\u001b[0m\u001b[0mexceptions\u001b[0m\u001b[0;34m)\u001b[0m \u001b[0;32mas\u001b[0m \u001b[0mexception\u001b[0m\u001b[0;34m:\u001b[0m\u001b[0;34m\u001b[0m\u001b[0m\n\u001b[1;32m    514\u001b[0m                 \u001b[0;32mtry\u001b[0m\u001b[0;34m:\u001b[0m\u001b[0;34m\u001b[0m\u001b[0m\n",
        "\u001b[0;32m/Library/Frameworks/Python.framework/Versions/3.4/lib/python3.4/multiprocessing/pool.py\u001b[0m in \u001b[0;36mget\u001b[0;34m(self, timeout)\u001b[0m\n\u001b[1;32m    591\u001b[0m \u001b[0;34m\u001b[0m\u001b[0m\n\u001b[1;32m    592\u001b[0m     \u001b[0;32mdef\u001b[0m \u001b[0mget\u001b[0m\u001b[0;34m(\u001b[0m\u001b[0mself\u001b[0m\u001b[0;34m,\u001b[0m \u001b[0mtimeout\u001b[0m\u001b[0;34m=\u001b[0m\u001b[0;32mNone\u001b[0m\u001b[0;34m)\u001b[0m\u001b[0;34m:\u001b[0m\u001b[0;34m\u001b[0m\u001b[0m\n\u001b[0;32m--> 593\u001b[0;31m         \u001b[0mself\u001b[0m\u001b[0;34m.\u001b[0m\u001b[0mwait\u001b[0m\u001b[0;34m(\u001b[0m\u001b[0mtimeout\u001b[0m\u001b[0;34m)\u001b[0m\u001b[0;34m\u001b[0m\u001b[0m\n\u001b[0m\u001b[1;32m    594\u001b[0m         \u001b[0;32mif\u001b[0m \u001b[0;32mnot\u001b[0m \u001b[0mself\u001b[0m\u001b[0;34m.\u001b[0m\u001b[0mready\u001b[0m\u001b[0;34m(\u001b[0m\u001b[0;34m)\u001b[0m\u001b[0;34m:\u001b[0m\u001b[0;34m\u001b[0m\u001b[0m\n\u001b[1;32m    595\u001b[0m             \u001b[0;32mraise\u001b[0m \u001b[0mTimeoutError\u001b[0m\u001b[0;34m\u001b[0m\u001b[0m\n",
        "\u001b[0;32m/Library/Frameworks/Python.framework/Versions/3.4/lib/python3.4/multiprocessing/pool.py\u001b[0m in \u001b[0;36mwait\u001b[0;34m(self, timeout)\u001b[0m\n\u001b[1;32m    588\u001b[0m \u001b[0;34m\u001b[0m\u001b[0m\n\u001b[1;32m    589\u001b[0m     \u001b[0;32mdef\u001b[0m \u001b[0mwait\u001b[0m\u001b[0;34m(\u001b[0m\u001b[0mself\u001b[0m\u001b[0;34m,\u001b[0m \u001b[0mtimeout\u001b[0m\u001b[0;34m=\u001b[0m\u001b[0;32mNone\u001b[0m\u001b[0;34m)\u001b[0m\u001b[0;34m:\u001b[0m\u001b[0;34m\u001b[0m\u001b[0m\n\u001b[0;32m--> 590\u001b[0;31m         \u001b[0mself\u001b[0m\u001b[0;34m.\u001b[0m\u001b[0m_event\u001b[0m\u001b[0;34m.\u001b[0m\u001b[0mwait\u001b[0m\u001b[0;34m(\u001b[0m\u001b[0mtimeout\u001b[0m\u001b[0;34m)\u001b[0m\u001b[0;34m\u001b[0m\u001b[0m\n\u001b[0m\u001b[1;32m    591\u001b[0m \u001b[0;34m\u001b[0m\u001b[0m\n\u001b[1;32m    592\u001b[0m     \u001b[0;32mdef\u001b[0m \u001b[0mget\u001b[0m\u001b[0;34m(\u001b[0m\u001b[0mself\u001b[0m\u001b[0;34m,\u001b[0m \u001b[0mtimeout\u001b[0m\u001b[0;34m=\u001b[0m\u001b[0;32mNone\u001b[0m\u001b[0;34m)\u001b[0m\u001b[0;34m:\u001b[0m\u001b[0;34m\u001b[0m\u001b[0m\n",
        "\u001b[0;32m/Library/Frameworks/Python.framework/Versions/3.4/lib/python3.4/threading.py\u001b[0m in \u001b[0;36mwait\u001b[0;34m(self, timeout)\u001b[0m\n\u001b[1;32m    550\u001b[0m             \u001b[0msignaled\u001b[0m \u001b[0;34m=\u001b[0m \u001b[0mself\u001b[0m\u001b[0;34m.\u001b[0m\u001b[0m_flag\u001b[0m\u001b[0;34m\u001b[0m\u001b[0m\n\u001b[1;32m    551\u001b[0m             \u001b[0;32mif\u001b[0m \u001b[0;32mnot\u001b[0m \u001b[0msignaled\u001b[0m\u001b[0;34m:\u001b[0m\u001b[0;34m\u001b[0m\u001b[0m\n\u001b[0;32m--> 552\u001b[0;31m                 \u001b[0msignaled\u001b[0m \u001b[0;34m=\u001b[0m \u001b[0mself\u001b[0m\u001b[0;34m.\u001b[0m\u001b[0m_cond\u001b[0m\u001b[0;34m.\u001b[0m\u001b[0mwait\u001b[0m\u001b[0;34m(\u001b[0m\u001b[0mtimeout\u001b[0m\u001b[0;34m)\u001b[0m\u001b[0;34m\u001b[0m\u001b[0m\n\u001b[0m\u001b[1;32m    553\u001b[0m             \u001b[0;32mreturn\u001b[0m \u001b[0msignaled\u001b[0m\u001b[0;34m\u001b[0m\u001b[0m\n\u001b[1;32m    554\u001b[0m         \u001b[0;32mfinally\u001b[0m\u001b[0;34m:\u001b[0m\u001b[0;34m\u001b[0m\u001b[0m\n",
        "\u001b[0;32m/Library/Frameworks/Python.framework/Versions/3.4/lib/python3.4/threading.py\u001b[0m in \u001b[0;36mwait\u001b[0;34m(self, timeout)\u001b[0m\n\u001b[1;32m    287\u001b[0m         \u001b[0;32mtry\u001b[0m\u001b[0;34m:\u001b[0m    \u001b[0;31m# restore state no matter what (e.g., KeyboardInterrupt)\u001b[0m\u001b[0;34m\u001b[0m\u001b[0m\n\u001b[1;32m    288\u001b[0m             \u001b[0;32mif\u001b[0m \u001b[0mtimeout\u001b[0m \u001b[0;32mis\u001b[0m \u001b[0;32mNone\u001b[0m\u001b[0;34m:\u001b[0m\u001b[0;34m\u001b[0m\u001b[0m\n\u001b[0;32m--> 289\u001b[0;31m                 \u001b[0mwaiter\u001b[0m\u001b[0;34m.\u001b[0m\u001b[0macquire\u001b[0m\u001b[0;34m(\u001b[0m\u001b[0;34m)\u001b[0m\u001b[0;34m\u001b[0m\u001b[0m\n\u001b[0m\u001b[1;32m    290\u001b[0m                 \u001b[0mgotit\u001b[0m \u001b[0;34m=\u001b[0m \u001b[0;32mTrue\u001b[0m\u001b[0;34m\u001b[0m\u001b[0m\n\u001b[1;32m    291\u001b[0m             \u001b[0;32melse\u001b[0m\u001b[0;34m:\u001b[0m\u001b[0;34m\u001b[0m\u001b[0m\n",
        "\u001b[0;31mKeyboardInterrupt\u001b[0m: "
       ]
      },
      {
       "metadata": {},
       "output_type": "display_data",
       "png": "[encoded data removed]",
       "text": [
        "<matplotlib.figure.Figure at 0x114ed5780>"
       ]
      }
     ],
     "prompt_number": 43
    },
    {
     "cell_type": "code",
     "collapsed": false,
     "input": [
      "def stuff(X,Y,max_features=1500,n_estimators=1000,max_depth=None,min_samples_leaf=1):\n",
      "    rfc = RandomForestRegressor(max_features=max_features,\n",
      "                                n_estimators=n_estimators,\n",
      "                                max_depth=max_depth,\n",
      "                                min_samples_leaf=min_samples_leaf,\n",
      "                                oob_score=False,\n",
      "                                n_jobs=-1)\n",
      "    test_size = 0.2\n",
      "    shuffle_split = ShuffleSplit(len(Y),10,test_size=test_size)\n",
      "    test_size *= len(Y)\n",
      "    rs = []\n",
      "    ps = []\n",
      "    scores = []\n",
      "    for train_index,test_index in shuffle_split:\n",
      "        rfc.fit(X[train_index],Y[train_index])\n",
      "        Y_predict = rfc.predict(X[test_index])[:,1]\n",
      "        Y_obs = Y[test_index][:,1]\n",
      "        r,_ = pearsonr(Y_obs.ravel(),Y_predict.ravel())\n",
      "        rs.append(r)\n",
      "    return np.mean(rs)\n",
      "    \n",
      "if 2 in subchallenges:\n",
      "    for Y_obs_ in [Y_obs_zero,Y_obs_mask,Y_obs_imputed]:\n",
      "        ns = [25,50,100,200,400,800,1600]\n",
      "        rs = []\n",
      "        for n in ns:\n",
      "            r = stuff(X_obs,Y_obs_['mean_std'],max_features=n)\n",
      "            print('r=%.3f for max_features=%d' % (r,n))\n",
      "            rs.append(r)\n",
      "        plt.figure()\n",
      "        plt.scatter(ns,rs)"
     ],
     "language": "python",
     "metadata": {},
     "outputs": [
      {
       "output_type": "stream",
       "stream": "stdout",
       "text": [
        "r=0.604 for max_features=25\n",
        "r=0.639 for max_features=50"
       ]
      },
      {
       "output_type": "stream",
       "stream": "stdout",
       "text": [
        "\n",
        "r=0.631 for max_features=100"
       ]
      },
      {
       "output_type": "stream",
       "stream": "stdout",
       "text": [
        "\n",
        "r=0.626 for max_features=200"
       ]
      },
      {
       "output_type": "stream",
       "stream": "stdout",
       "text": [
        "\n",
        "r=0.630 for max_features=400"
       ]
      },
      {
       "output_type": "stream",
       "stream": "stdout",
       "text": [
        "\n",
        "r=0.638 for max_features=800"
       ]
      },
      {
       "output_type": "stream",
       "stream": "stdout",
       "text": [
        "\n",
        "r=0.590 for max_features=1600"
       ]
      },
      {
       "output_type": "stream",
       "stream": "stdout",
       "text": [
        "\n",
        "r=0.607 for max_features=25"
       ]
      },
      {
       "output_type": "stream",
       "stream": "stdout",
       "text": [
        "\n",
        "r=0.609 for max_features=50"
       ]
      },
      {
       "output_type": "stream",
       "stream": "stdout",
       "text": [
        "\n",
        "r=0.660 for max_features=100"
       ]
      },
      {
       "output_type": "stream",
       "stream": "stdout",
       "text": [
        "\n",
        "r=0.651 for max_features=200"
       ]
      },
      {
       "output_type": "stream",
       "stream": "stdout",
       "text": [
        "\n",
        "r=0.602 for max_features=400"
       ]
      },
      {
       "output_type": "stream",
       "stream": "stdout",
       "text": [
        "\n",
        "r=0.631 for max_features=800"
       ]
      },
      {
       "output_type": "stream",
       "stream": "stdout",
       "text": [
        "\n",
        "r=0.590 for max_features=1600"
       ]
      },
      {
       "output_type": "stream",
       "stream": "stdout",
       "text": [
        "\n",
        "r=0.638 for max_features=25"
       ]
      },
      {
       "output_type": "stream",
       "stream": "stdout",
       "text": [
        "\n",
        "r=0.617 for max_features=50"
       ]
      },
      {
       "output_type": "stream",
       "stream": "stdout",
       "text": [
        "\n",
        "r=0.625 for max_features=100"
       ]
      },
      {
       "output_type": "stream",
       "stream": "stdout",
       "text": [
        "\n",
        "r=0.649 for max_features=200"
       ]
      },
      {
       "output_type": "stream",
       "stream": "stdout",
       "text": [
        "\n",
        "r=0.639 for max_features=400"
       ]
      },
      {
       "output_type": "stream",
       "stream": "stdout",
       "text": [
        "\n",
        "r=0.602 for max_features=800"
       ]
      },
      {
       "output_type": "stream",
       "stream": "stdout",
       "text": [
        "\n",
        "r=0.580 for max_features=1600"
       ]
      },
      {
       "output_type": "stream",
       "stream": "stdout",
       "text": [
        "\n"
       ]
      },
      {
       "metadata": {},
       "output_type": "display_data",
       "png": "[encoded data removed]",
       "text": [
        "<matplotlib.figure.Figure at 0x120031588>"
       ]
      },
      {
       "metadata": {},
       "output_type": "display_data",
       "png": "[encoded data removed]",
       "text": [
        "<matplotlib.figure.Figure at 0x11dceb550>"
       ]
      },
      {
       "metadata": {},
       "output_type": "display_data",
       "png": "[encoded data removed]",
       "text": [
        "<matplotlib.figure.Figure at 0x11dd6b940>"
       ]
      }
     ],
     "prompt_number": 44
    },
    {
     "cell_type": "code",
     "collapsed": false,
     "input": [
      "def stuff(X,Y,max_features=1500,n_estimators=1000,max_depth=None,min_samples_leaf=1):\n",
      "    rfc = RandomForestRegressor(max_features=max_features,\n",
      "                                n_estimators=n_estimators,\n",
      "                                max_depth=max_depth,\n",
      "                                min_samples_leaf=min_samples_leaf,\n",
      "                                oob_score=False,\n",
      "                                n_jobs=-1)\n",
      "    test_size = 0.2\n",
      "    shuffle_split = ShuffleSplit(len(Y),50,test_size=test_size)\n",
      "    test_size *= len(Y)\n",
      "    rs = []\n",
      "    ps = []\n",
      "    scores = []\n",
      "    for train_index,test_index in shuffle_split:\n",
      "        rfc.fit(X[train_index],Y[train_index])\n",
      "        Y_predict = rfc.predict(X[test_index])[:,1]\n",
      "        Y_obs = Y[test_index][:,1]\n",
      "        r,_ = pearsonr(Y_obs.ravel(),Y_predict.ravel())\n",
      "        rs.append(r)\n",
      "    return np.mean(rs)\n",
      "    \n",
      "if 2 in subchallenges:\n",
      "    for Y_obs_ in [Y_obs_mask]:\n",
      "        ns = [25,50,100,150,200,250,300,350,400,500]\n",
      "        rs = []\n",
      "        for n in ns:\n",
      "            r = stuff(X_obs,Y_obs_['mean_std'],max_features=n)\n",
      "            print('r=%.3f for max_features=%d' % (r,n))\n",
      "            rs.append(r)\n",
      "        plt.figure()\n",
      "        plt.scatter(ns,rs)"
     ],
     "language": "python",
     "metadata": {},
     "outputs": [
      {
       "output_type": "stream",
       "stream": "stdout",
       "text": [
        "r=0.619 for max_features=25\n",
        "r=0.614 for max_features=50"
       ]
      },
      {
       "output_type": "stream",
       "stream": "stdout",
       "text": [
        "\n",
        "r=0.638 for max_features=100"
       ]
      },
      {
       "output_type": "stream",
       "stream": "stdout",
       "text": [
        "\n",
        "r=0.650 for max_features=150"
       ]
      },
      {
       "output_type": "stream",
       "stream": "stdout",
       "text": [
        "\n",
        "r=0.636 for max_features=200"
       ]
      },
      {
       "output_type": "stream",
       "stream": "stdout",
       "text": [
        "\n",
        "r=0.637 for max_features=250"
       ]
      },
      {
       "output_type": "stream",
       "stream": "stdout",
       "text": [
        "\n",
        "r=0.636 for max_features=300"
       ]
      },
      {
       "output_type": "stream",
       "stream": "stdout",
       "text": [
        "\n",
        "r=0.629 for max_features=350"
       ]
      },
      {
       "output_type": "stream",
       "stream": "stdout",
       "text": [
        "\n",
        "r=0.621 for max_features=400"
       ]
      },
      {
       "output_type": "stream",
       "stream": "stdout",
       "text": [
        "\n",
        "r=0.625 for max_features=500"
       ]
      },
      {
       "output_type": "stream",
       "stream": "stdout",
       "text": [
        "\n"
       ]
      },
      {
       "metadata": {},
       "output_type": "display_data",
       "png": "[encoded data removed]",
       "text": [
        "<matplotlib.figure.Figure at 0x11dc65278>"
       ]
      }
     ],
     "prompt_number": 46
    },
    {
     "cell_type": "code",
     "collapsed": false,
     "input": [
      "Y_leaderboard = dream.load_leaderboard_perceptual_data()"
     ],
     "language": "python",
     "metadata": {},
     "outputs": [],
     "prompt_number": 39
    },
    {
     "cell_type": "code",
     "collapsed": false,
     "input": [
      "dream.r2(None,None,rf_mask_ple.predict(X_leaderboard),Y_leaderboard['mean'][:,1])"
     ],
     "language": "python",
     "metadata": {},
     "outputs": [
      {
       "metadata": {},
       "output_type": "pyout",
       "prompt_number": 104,
       "text": [
        "0.51893103082822034"
       ]
      }
     ],
     "prompt_number": 104
    },
    {
     "cell_type": "code",
     "collapsed": false,
     "input": [
      "dream.r2(None,None,rf_mask_ple.oob_prediction_,Y_obs['mean'][:,1])"
     ],
     "language": "python",
     "metadata": {},
     "outputs": [
      {
       "metadata": {},
       "output_type": "pyout",
       "prompt_number": 105,
       "text": [
        "0.69555586774374822"
       ]
      }
     ],
     "prompt_number": 105
    },
    {
     "cell_type": "code",
     "collapsed": false,
     "input": [
      "dream.r2('ple','mean',rf_imputed.predict(X_leaderboard),Y_leaderboard['mean_std'])"
     ],
     "language": "python",
     "metadata": {},
     "outputs": [
      {
       "metadata": {},
       "output_type": "pyout",
       "prompt_number": 122,
       "text": [
        "0.55187241011033117"
       ]
      }
     ],
     "prompt_number": 122
    },
    {
     "cell_type": "code",
     "collapsed": false,
     "input": [
      "dream.r2('ple','mean',rf_imputed.oob_prediction_,Y_obs['mean_std'])"
     ],
     "language": "python",
     "metadata": {},
     "outputs": [
      {
       "metadata": {},
       "output_type": "pyout",
       "prompt_number": 123,
       "text": [
        "0.60404718451741191"
       ]
      }
     ],
     "prompt_number": 123
    },
    {
     "cell_type": "code",
     "collapsed": false,
     "input": [
      "rf_mask_ple.oob_prediction_.shape"
     ],
     "language": "python",
     "metadata": {},
     "outputs": [
      {
       "metadata": {},
       "output_type": "pyout",
       "prompt_number": 119,
       "text": [
        "(676,)"
       ]
      }
     ],
     "prompt_number": 119
    },
    {
     "cell_type": "code",
     "collapsed": false,
     "input": [
      "rf_imputed_ple_1 = RandomForestRegressor(max_features=150,n_estimators=2000)\n",
      "rf_imputed_ple_1.fit(X_obs,y_imputed[:,1])\n",
      "print(dream.r2(None,None,rf_imputed_ple_1.predict(X_leaderboard),Y_leaderboard['mean'][:,1]))"
     ],
     "language": "python",
     "metadata": {},
     "outputs": [
      {
       "ename": "ValueError",
       "evalue": "operands could not be broadcast together with shapes (69,) (69,3032) ",
       "output_type": "pyerr",
       "traceback": [
        "\u001b[0;31m---------------------------------------------------------------------------\u001b[0m\n\u001b[0;31mValueError\u001b[0m                                Traceback (most recent call last)",
        "\u001b[0;32m<ipython-input-316-d1ca770e5449>\u001b[0m in \u001b[0;36m<module>\u001b[0;34m()\u001b[0m\n\u001b[1;32m      1\u001b[0m \u001b[0mrf_imputed_ple_1\u001b[0m \u001b[0;34m=\u001b[0m \u001b[0mRandomForestRegressor\u001b[0m\u001b[0;34m(\u001b[0m\u001b[0mmax_features\u001b[0m\u001b[0;34m=\u001b[0m\u001b[0;36m150\u001b[0m\u001b[0;34m,\u001b[0m\u001b[0mn_estimators\u001b[0m\u001b[0;34m=\u001b[0m\u001b[0;36m2000\u001b[0m\u001b[0;34m)\u001b[0m\u001b[0;34m\u001b[0m\u001b[0m\n\u001b[1;32m      2\u001b[0m \u001b[0mrf_imputed_ple_1\u001b[0m\u001b[0;34m.\u001b[0m\u001b[0mfit\u001b[0m\u001b[0;34m(\u001b[0m\u001b[0mX_obs\u001b[0m\u001b[0;34m,\u001b[0m\u001b[0my_imputed\u001b[0m\u001b[0;34m[\u001b[0m\u001b[0;34m:\u001b[0m\u001b[0;34m,\u001b[0m\u001b[0;36m1\u001b[0m\u001b[0;34m]\u001b[0m\u001b[0;34m)\u001b[0m\u001b[0;34m\u001b[0m\u001b[0m\n\u001b[0;32m----> 3\u001b[0;31m \u001b[0mprint\u001b[0m\u001b[0;34m(\u001b[0m\u001b[0mdream\u001b[0m\u001b[0;34m.\u001b[0m\u001b[0mr2\u001b[0m\u001b[0;34m(\u001b[0m\u001b[0;32mNone\u001b[0m\u001b[0;34m,\u001b[0m\u001b[0;32mNone\u001b[0m\u001b[0;34m,\u001b[0m\u001b[0mrf_imputed_ple_1\u001b[0m\u001b[0;34m.\u001b[0m\u001b[0mpredict\u001b[0m\u001b[0;34m(\u001b[0m\u001b[0mX_leaderboard\u001b[0m\u001b[0;34m)\u001b[0m\u001b[0;34m-\u001b[0m\u001b[0mX_leaderboard\u001b[0m\u001b[0;34m,\u001b[0m\u001b[0mY_leaderboard\u001b[0m\u001b[0;34m[\u001b[0m\u001b[0;34m'mean'\u001b[0m\u001b[0;34m]\u001b[0m\u001b[0;34m[\u001b[0m\u001b[0;34m:\u001b[0m\u001b[0;34m,\u001b[0m\u001b[0;36m1\u001b[0m\u001b[0;34m]\u001b[0m\u001b[0;34m)\u001b[0m\u001b[0;34m)\u001b[0m\u001b[0;34m\u001b[0m\u001b[0m\n\u001b[0m",
        "\u001b[0;31mValueError\u001b[0m: operands could not be broadcast together with shapes (69,) (69,3032) "
       ]
      }
     ],
     "prompt_number": 316
    },
    {
     "cell_type": "code",
     "collapsed": false,
     "input": [
      "rf = RandomForestRegressor(max_features=150,n_estimators=250,random_state=0)\n",
      "grid = GridSearchCV(rf,param_grid={'max_features':[10,30,100,300,1000],\n",
      "                                                      'max_depth':[1,3,10], \n",
      "                                                      'min_samples_split':[2,5,10], \n",
      "                                                      'min_samples_leaf':[1,3,5]}, \n",
      "                    verbose=1, scoring=dream.scorer2)\n",
      "grid.fit(X_obs,y_imputed[:,1])"
     ],
     "language": "python",
     "metadata": {},
     "outputs": [
      {
       "output_type": "stream",
       "stream": "stderr",
       "text": [
        "[Parallel(n_jobs=1)]: Done   1 jobs       | elapsed:    0.2s\n",
        "[Parallel(n_jobs=1)]: Done  50 jobs       | elapsed:   13.3s\n"
       ]
      },
      {
       "output_type": "stream",
       "stream": "stderr",
       "text": [
        "[Parallel(n_jobs=1)]: Done 200 jobs       | elapsed:  3.5min\n",
        "[Parallel(n_jobs=1)]: Done 405 out of 405 | elapsed: 26.1min finished\n"
       ]
      },
      {
       "output_type": "stream",
       "stream": "stdout",
       "text": [
        "Fitting 3 folds for each of 135 candidates, totalling 405 fits\n"
       ]
      },
      {
       "metadata": {},
       "output_type": "pyout",
       "prompt_number": 333,
       "text": [
        "GridSearchCV(cv=None,\n",
        "       estimator=RandomForestRegressor(bootstrap=True, compute_importances=None,\n",
        "           criterion='mse', max_depth=None, max_features=150,\n",
        "           max_leaf_nodes=None, min_density=None, min_samples_leaf=1,\n",
        "           min_samples_split=2, n_estimators=250, n_jobs=1,\n",
        "           oob_score=False, random_state=0, verbose=0),\n",
        "       fit_params={}, iid=True, loss_func=None, n_jobs=1,\n",
        "       param_grid={'max_features': [10, 30, 100, 300, 1000], 'min_samples_split': [2, 5, 10], 'max_depth': [1, 3, 10], 'min_samples_leaf': [1, 3, 5]},\n",
        "       pre_dispatch='2*n_jobs', refit=True, score_func=None,\n",
        "       scoring=<function scorer2 at 0x11772ff28>, verbose=1)"
       ]
      }
     ],
     "prompt_number": 333
    },
    {
     "cell_type": "code",
     "collapsed": false,
     "input": [
      "dream.r2(None,None,rf_imputed_ple_2.predict(X_leaderboard),Y_leaderboard['mean'][:,1])"
     ],
     "language": "python",
     "metadata": {},
     "outputs": [
      {
       "metadata": {},
       "output_type": "pyout",
       "prompt_number": 248,
       "text": [
        "0.46614573813898647"
       ]
      }
     ],
     "prompt_number": 248
    },
    {
     "cell_type": "code",
     "collapsed": false,
     "input": [
      "from scipy.stats import linregress\n",
      "x = Y_obs['mean_std'][:,1]\n",
      "y = rf_mask_ple.oob_prediction_ - x\n",
      "print(np.mean((y-x)**2),pearsonr(x,y+x)[0])\n",
      "plt.scatter(x,y)\n",
      "slope,intercept,_,_,_ = linregress(x,y)\n",
      "plt.plot(x,x*slope+intercept)\n",
      "plt.figure()\n",
      "y_new = y-x*slope-intercept\n",
      "print(np.mean((y_new-x)**2),pearsonr(x,y_new+x)[0])\n",
      "plt.scatter(x,y_new)"
     ],
     "language": "python",
     "metadata": {},
     "outputs": [
      {
       "output_type": "stream",
       "stream": "stdout",
       "text": [
        "2396.64462554 0.695555867744\n",
        "2227.98941493 0.892439024799\n"
       ]
      },
      {
       "metadata": {},
       "output_type": "pyout",
       "prompt_number": 249,
       "text": [
        "<matplotlib.collections.PathCollection at 0x118c626a0>"
       ]
      },
      {
       "metadata": {},
       "output_type": "display_data",
       "png": "[encoded data removed]",
       "text": [
        "<matplotlib.figure.Figure at 0x119238f60>"
       ]
      },
      {
       "metadata": {},
       "output_type": "display_data",
       "png": "[encoded data removed]",
       "text": [
        "<matplotlib.figure.Figure at 0x119238278>"
       ]
      }
     ],
     "prompt_number": 249
    },
    {
     "cell_type": "code",
     "collapsed": false,
     "input": [
      "x = Y_leaderboard['mean_std'][:,1]\n",
      "dream.r2(None,None,rf_imputed_ple_1.predict(X_leaderboard)-x*slope-intercept,Y_leaderboard['mean'][:,1])"
     ],
     "language": "python",
     "metadata": {},
     "outputs": [
      {
       "metadata": {},
       "output_type": "pyout",
       "prompt_number": 236,
       "text": [
        "0.84668040434732705"
       ]
      }
     ],
     "prompt_number": 236
    },
    {
     "cell_type": "code",
     "collapsed": false,
     "input": [
      "dream.r2(None,None,rf_imputed_ple_2.predict(X_leaderboard)-x*slope-intercept,Y_leaderboard['mean'][:,1])"
     ],
     "language": "python",
     "metadata": {},
     "outputs": [
      {
       "metadata": {},
       "output_type": "pyout",
       "prompt_number": 237,
       "text": [
        "0.87277728909330943"
       ]
      }
     ],
     "prompt_number": 237
    },
    {
     "cell_type": "code",
     "collapsed": false,
     "input": [
      "x = Y_obs['mean_std'][:,1]\n",
      "y = rf_imputed_ple_2.oob_prediction_ - x\n",
      "plt.scatter(x,y)"
     ],
     "language": "python",
     "metadata": {},
     "outputs": [
      {
       "metadata": {},
       "output_type": "pyout",
       "prompt_number": 182,
       "text": [
        "<matplotlib.collections.PathCollection at 0x11f5f5f28>"
       ]
      },
      {
       "metadata": {},
       "output_type": "display_data",
       "png": "[encoded data removed]",
       "text": [
        "<matplotlib.figure.Figure at 0x11d989048>"
       ]
      }
     ],
     "prompt_number": 182
    },
    {
     "cell_type": "code",
     "collapsed": false,
     "input": [
      "# RandomForestRegressor systematically makes predictions with correlated residuals.  \n",
      "# This function a RandomForestRegressor and generates a prediction using the built-in method, \n",
      "# but then adjusts to decorrelated those residuals, resulting in a much better prediction performance.  \n",
      "def decorrelated_prediction(rf,Y_obs,X_predict):\n",
      "    y = rf.oob_prediction_ # oob predicted\n",
      "    x = Y_obs # observed\n",
      "    y_new = rf.predict(X_predict) # actually predicted\n",
      "    if len(y.shape) == 1:\n",
      "        y = y.reshape(-1,1)\n",
      "        x = x.reshape(-1,1)\n",
      "        y_new = y_new.reshape(-1,1)\n",
      "    fig, axarr = plt.subplots(1,2)\n",
      "    for col in range(y.shape[1]):\n",
      "        xi = x[:,col]\n",
      "        yi = y[:,col]\n",
      "        slope,intercept,_,_,_ = linregress(xi,yi)\n",
      "        err = yi - xi\n",
      "        axarr[0].scatter(xi,err)\n",
      "        err_slope,err_intercept,_,_,_ = linregress(xi,err)\n",
      "        axarr[0].plot(xi,xi*err_slope+err_intercept)\n",
      "        err_new = err-xi*err_slope-err_intercept\n",
      "        axarr[1].scatter(xi,err_new)\n",
      "        y_new[:,col] -= y_new[:,col]*err_slope + err_intercept#((y_new[:,col]-intercept)/slope)*err_slope + err_intercept\n",
      "    return y_new"
     ],
     "language": "python",
     "metadata": {},
     "outputs": [],
     "prompt_number": 270
    },
    {
     "cell_type": "code",
     "collapsed": false,
     "input": [
      "Y_predicted = decorrelated_prediction(rf_imputed_ple_2,Y_obs['mean_std'][:,1],X_leaderboard)"
     ],
     "language": "python",
     "metadata": {},
     "outputs": [
      {
       "metadata": {},
       "output_type": "display_data",
       "png": "[encoded data removed]",
       "text": [
        "<matplotlib.figure.Figure at 0x11eceee10>"
       ]
      }
     ],
     "prompt_number": 271
    },
    {
     "cell_type": "code",
     "collapsed": false,
     "input": [
      "dream.r2(None,None,Y_predicted,Y_leaderboard['mean_std'][:,1])"
     ],
     "language": "python",
     "metadata": {},
     "outputs": [
      {
       "metadata": {},
       "output_type": "pyout",
       "prompt_number": 274,
       "text": [
        "0.46614573813898635"
       ]
      }
     ],
     "prompt_number": 274
    },
    {
     "cell_type": "code",
     "collapsed": false,
     "input": [
      "plt.scatter(Y_predicted,Y_leaderboard['mean_std'][:,1:2]-Y_predicted)"
     ],
     "language": "python",
     "metadata": {},
     "outputs": [
      {
       "metadata": {},
       "output_type": "pyout",
       "prompt_number": 273,
       "text": [
        "<matplotlib.collections.PathCollection at 0x18ad48240>"
       ]
      },
      {
       "metadata": {},
       "output_type": "display_data",
       "png": "[encoded data removed]",
       "text": [
        "<matplotlib.figure.Figure at 0x18a2fd198>"
       ]
      }
     ],
     "prompt_number": 273
    },
    {
     "cell_type": "code",
     "collapsed": false,
     "input": [
      "x = np.arange(100)\n",
      "y = x + np.random.randn(100)*50 + np.linspace(-30,30,100)\n",
      "pearsonr(x,y)[0]\n",
      "plt.scatter(x,y-x)\n",
      "pearsonr(x,y)[0],pearsonr(x,y-(y*3)+5)[0]"
     ],
     "language": "python",
     "metadata": {},
     "outputs": [
      {
       "metadata": {},
       "output_type": "pyout",
       "prompt_number": 292,
       "text": [
        "(0.71660726477035375, -0.71660726477035375)"
       ]
      },
      {
       "metadata": {},
       "output_type": "display_data",
       "png": "[encoded data removed]",
       "text": [
        "<matplotlib.figure.Figure at 0x18a5c9630>"
       ]
      }
     ],
     "prompt_number": 292
    },
    {
     "cell_type": "code",
     "collapsed": false,
     "input": [
      "from sklearn.linear_model import Lasso,LassoLars,ElasticNet,Ridge\n",
      "alphas = {'Lasso':np.logspace(-2,0.5,20),\n",
      "          'LassoLars':np.logspace(-1.15,-0.8,20),\n",
      "          'ElasticNet':np.logspace(-2,1,20),\n",
      "          'Ridge':np.logspace(-1,5,20)}\n",
      "for i,f in enumerate([Lasso,ElasticNet]):\n",
      "    rs = []\n",
      "    for alpha in alphas[f.__name__]:\n",
      "        estimator = f(alpha=alpha)\n",
      "        estimator.fit(X_obs,Y_obs['mean_std'][:,1])\n",
      "        r = dream.r2(None,None,estimator.predict(X_leaderboard),Y_leaderboard['mean'][:,1])\n",
      "        rs.append(r)\n",
      "    plt.scatter(alphas[f.__name__],rs,color=['b','r','g','k'][i])\n",
      "plt.xscale('log')\n",
      "plt.xlim(1e-3,10)"
     ],
     "language": "python",
     "metadata": {},
     "outputs": [
      {
       "output_type": "stream",
       "stream": "stderr",
       "text": [
        "/Users/rgerkin/Dropbox/python3/lib/python3.4/site-packages/sklearn/linear_model/coordinate_descent.py:490: ConvergenceWarning: Objective did not converge. You might want to increase the number of iterations\n",
        "  ConvergenceWarning)\n"
       ]
      },
      {
       "metadata": {},
       "output_type": "pyout",
       "prompt_number": 39,
       "text": [
        "(0.001, 10)"
       ]
      },
      {
       "metadata": {},
       "output_type": "display_data",
       "png": "[encoded data removed]",
       "text": [
        "<matplotlib.figure.Figure at 0x102c0eac8>"
       ]
      }
     ],
     "prompt_number": 39
    },
    {
     "cell_type": "code",
     "collapsed": false,
     "input": [
      "from sklearn.linear_model import ElasticNetCV\n",
      "estimator = ElasticNetCV(alphas=np.logspace(-2,1,5),l1_ratio=np.linspace(0,1,5))\n",
      "estimator.fit(X_obs,Y_obs['mean_std'][:,1])\n",
      "r = dream.r2(None,None,estimator.predict(X_leaderboard),Y_leaderboard['mean'][:,1])"
     ],
     "language": "python",
     "metadata": {},
     "outputs": [
      {
       "output_type": "stream",
       "stream": "stderr",
       "text": [
        "/Users/rgerkin/Dropbox/python3/lib/python3.4/site-packages/sklearn/linear_model/coordinate_descent.py:479: UserWarning: Coordinate descent with alpha=0 may lead to unexpected results and is discouraged.\n",
        "  coef_, l1_reg, l2_reg, X, y, max_iter, tol, positive)\n",
        "/Users/rgerkin/Dropbox/python3/lib/python3.4/site-packages/sklearn/linear_model/coordinate_descent.py:490: ConvergenceWarning: Objective did not converge. You might want to increase the number of iterations\n",
        "  ConvergenceWarning)\n"
       ]
      },
      {
       "output_type": "stream",
       "stream": "stderr",
       "text": [
        "/Users/rgerkin/Dropbox/python3/lib/python3.4/site-packages/sklearn/linear_model/coordinate_descent.py:479: UserWarning: Coordinate descent with alpha=0 may lead to unexpected results and is discouraged.\n",
        "  coef_, l1_reg, l2_reg, X, y, max_iter, tol, positive)\n",
        "/Users/rgerkin/Dropbox/python3/lib/python3.4/site-packages/sklearn/linear_model/coordinate_descent.py:490: ConvergenceWarning: Objective did not converge. You might want to increase the number of iterations\n",
        "  ConvergenceWarning)\n"
       ]
      }
     ],
     "prompt_number": 89
    },
    {
     "cell_type": "code",
     "collapsed": false,
     "input": [
      "plt.pcolor(l1_ratios,np.log10(alphas),rs,vmin=0.60,vmax=0.63)"
     ],
     "language": "python",
     "metadata": {},
     "outputs": [
      {
       "metadata": {},
       "output_type": "pyout",
       "prompt_number": 125,
       "text": [
        "<matplotlib.collections.PolyCollection at 0x11ca6be80>"
       ]
      },
      {
       "metadata": {},
       "output_type": "display_data",
       "png": "[encoded data removed]",
       "text": [
        "<matplotlib.figure.Figure at 0x11ca7dc18>"
       ]
      }
     ],
     "prompt_number": 125
    },
    {
     "cell_type": "code",
     "collapsed": false,
     "input": [
      "estimator1 = Lasso(alpha=0.9,max_iter=5000)\n",
      "estimator2 = Lasso(alpha=0.9,max_iter=5000)\n",
      "estimator1.fit(X_obs,Y_obs['mean_std'][:,1])\n",
      "x = estimator1.coef_\n",
      "estimator2.fit(X_leaderboard,Y_leaderboard['mean_std'][:,1])\n",
      "y = estimator2.coef_\n",
      "plt.scatter(x,y)\n",
      "plt.figure()\n",
      "plt.plot(x,color='r')\n",
      "plt.plot(y,color='b')\n",
      "np.where(x*y > 0.01)"
     ],
     "language": "python",
     "metadata": {},
     "outputs": [
      {
       "metadata": {},
       "output_type": "pyout",
       "prompt_number": 275,
       "text": [
        "(array([2701, 2712, 2744]),)"
       ]
      },
      {
       "metadata": {},
       "output_type": "display_data",
       "png": "[encoded data removed]",
       "text": [
        "<matplotlib.figure.Figure at 0x11c8c60f0>"
       ]
      },
      {
       "metadata": {},
       "output_type": "display_data",
       "png": "[encoded data removed]",
       "text": [
        "<matplotlib.figure.Figure at 0x11c8c6080>"
       ]
      }
     ],
     "prompt_number": 275
    },
    {
     "cell_type": "code",
     "collapsed": false,
     "input": [
      "features = [_ for i,_ in enumerate(molecular_headers) if i in good2_molecular_descriptors]\n",
      "features[2609]"
     ],
     "language": "python",
     "metadata": {},
     "outputs": [
      {
       "metadata": {},
       "output_type": "pyout",
       "prompt_number": 195,
       "text": [
        "'nRCHO'"
       ]
      }
     ],
     "prompt_number": 195
    },
    {
     "cell_type": "code",
     "collapsed": false,
     "input": [
      "from sklearn.decomposition import PCA\n",
      "pca = PCA()\n",
      "X_obs_pca = pca.fit_transform(X_obs)\n",
      "X_leaderboard_pca = pca.transform(X_leaderboard)"
     ],
     "language": "python",
     "metadata": {},
     "outputs": [],
     "prompt_number": 40
    },
    {
     "cell_type": "code",
     "collapsed": false,
     "input": [
      "estimator1 = Lasso(alpha=0.9,max_iter=5000)\n",
      "estimator2 = Lasso(alpha=0.9,max_iter=5000)\n",
      "estimator1.fit(X_obs_pca,Y_obs['mean_std'][:,1])\n",
      "x = estimator1.coef_\n",
      "estimator2.fit(X_leaderboard_pca,Y_leaderboard['mean_std'][:,1])\n",
      "y = estimator2.coef_\n",
      "plt.scatter(x,y)\n",
      "plt.figure()\n",
      "plt.plot(x,color='r')\n",
      "plt.plot(y,color='b')\n",
      "np.where(x*y > 0.01)"
     ],
     "language": "python",
     "metadata": {},
     "outputs": [
      {
       "metadata": {},
       "output_type": "pyout",
       "prompt_number": 262,
       "text": [
        "(array([ 7, 10, 13, 15, 17, 19, 25, 27, 30, 31, 34, 39, 40, 46, 47, 48, 49,\n",
        "        52, 57]),)"
       ]
      },
      {
       "metadata": {},
       "output_type": "display_data",
       "png": "[encoded data removed]",
       "text": [
        "<matplotlib.figure.Figure at 0x1225de358>"
       ]
      },
      {
       "metadata": {},
       "output_type": "display_data",
       "png": "[encoded data removed]",
       "text": [
        "<matplotlib.figure.Figure at 0x1225def98>"
       ]
      }
     ],
     "prompt_number": 262
    },
    {
     "cell_type": "code",
     "collapsed": false,
     "input": [
      "dream.r2(None,None,estimator1.predict(X_leaderboard_pca),Y_leaderboard['mean'][:,1])"
     ],
     "language": "python",
     "metadata": {},
     "outputs": [
      {
       "metadata": {},
       "output_type": "pyout",
       "prompt_number": 263,
       "text": [
        "0.061386233537170536"
       ]
      }
     ],
     "prompt_number": 263
    },
    {
     "cell_type": "code",
     "collapsed": false,
     "input": [
      "from sklearn.linear_model import Lasso,LassoLars,ElasticNet,Ridge\n",
      "alphas = {'Lasso':np.logspace(-2,0.5,20),\n",
      "          'LassoLars':np.logspace(-1.15,-0.8,20),\n",
      "          'ElasticNet':np.logspace(-2,1,20),\n",
      "          'Ridge':np.logspace(-1,5,20)}\n",
      "for i,f in enumerate([Lasso,ElasticNet]):\n",
      "    rs = []\n",
      "    for alpha in alphas[f.__name__]:\n",
      "        estimator = f(alpha=alpha)\n",
      "        estimator.fit(X_obs_pca,Y_obs['mean_std'][:,1])\n",
      "        r = dream.r2(None,None,estimator.predict(X_leaderboard_pca),Y_leaderboard['mean'][:,1])\n",
      "        rs.append(r)\n",
      "    plt.scatter(alphas[f.__name__],rs,color=['b','r','g','k'][i])\n",
      "plt.xscale('log')\n",
      "plt.xlim(1e-3,10)"
     ],
     "language": "python",
     "metadata": {},
     "outputs": [
      {
       "metadata": {},
       "output_type": "pyout",
       "prompt_number": 41,
       "text": [
        "(0.001, 10)"
       ]
      },
      {
       "metadata": {},
       "output_type": "display_data",
       "png": "[encoded data removed]",
       "text": [
        "<matplotlib.figure.Figure at 0x1213333c8>"
       ]
      }
     ],
     "prompt_number": 41
    },
    {
     "cell_type": "code",
     "collapsed": false,
     "input": [
      "plt.hist(np.array(list(molecular_vectors.values())).min(axis=0),bins=100)\n",
      "plt.ylim(0,15)"
     ],
     "language": "python",
     "metadata": {},
     "outputs": [
      {
       "metadata": {},
       "output_type": "pyout",
       "prompt_number": 250,
       "text": [
        "(0, 15)"
       ]
      },
      {
       "metadata": {},
       "output_type": "display_data",
       "png": "[encoded data removed]",
       "text": [
        "<matplotlib.figure.Figure at 0x11e06e400>"
       ]
      }
     ],
     "prompt_number": 250
    },
    {
     "cell_type": "code",
     "collapsed": false,
     "input": [
      "from sklearn.linear_model import Lasso\n",
      "from sklearn.cross_validation import PredefinedSplit\n",
      "def cv_vs_leaderboard(X_obs,X_leaderboard,Y_obs,Y_leaderboard):\n",
      "    X_master = np.vstack((X_obs,X_leaderboard))\n",
      "    Y_master = np.vstack((Y_obs['mean_std'],Y_leaderboard['mean_std']))\n",
      "    shuffle_split = ShuffleSplit(Y_master.shape[0],100,test_size=Y_leaderboard['mean_std'].shape[0]/Y_master.shape[0])\n",
      "    predefined_split = PredefinedSplit(np.hstack((-np.ones(Y_obs['mean_std'].shape[0]),np.zeros(Y_leaderboard['mean_std'].shape[0]))))\n",
      "    lasso = Lasso()\n",
      "    grid = GridSearchCV(lasso,{'alpha':np.logspace(-2,0.5,10)}, scoring=dream.scorer2, cv=shuffle_split, verbose=1, n_jobs=3)\n",
      "    grid.fit(X_master,Y_master[:,1])\n",
      "    grid2 = GridSearchCV(lasso,{'alpha':np.logspace(-2,0.5,10)}, scoring=dream.scorer2, cv=predefined_split, verbose=1, n_jobs=-1)\n",
      "    grid2.fit(X_master,Y_master[:,1])\n",
      "    plt.figure()\n",
      "    x,y,y_err = zip(*[(_[0]['alpha'],_[1],_[2].std()) for _ in grid.grid_scores_])\n",
      "    plt.errorbar(x,y,y_err)\n",
      "    x,y = zip(*[(_[0]['alpha'],_[1],) for _ in grid2.grid_scores_])\n",
      "    plt.plot(x,y,color='r')\n",
      "    plt.xscale('log')\n",
      "    plt.xlim(5e-3,5e0)\n",
      "    plt.xlabel('Lasso parameter (alpha)')\n",
      "    plt.ylabel('Correlation (R)')\n",
      "#cv_vs_leaderboard(X_obs,X_leaderboard,Y_obs,Y_leaderboard)\n",
      "#cv_vs_leaderboard(X_obs_high,X_leaderboard,Y_obs_high,Y_leaderboard)"
     ],
     "language": "python",
     "metadata": {},
     "outputs": [],
     "prompt_number": 35
    },
    {
     "cell_type": "code",
     "collapsed": false,
     "input": [
      "cv_vs_leaderboard(X_obs_low,X_leaderboard,Y_obs_low,Y_leaderboard)"
     ],
     "language": "python",
     "metadata": {},
     "outputs": [
      {
       "ename": "NameError",
       "evalue": "name 'X_leaderboard' is not defined",
       "output_type": "pyerr",
       "traceback": [
        "\u001b[0;31m---------------------------------------------------------------------------\u001b[0m\n\u001b[0;31mNameError\u001b[0m                                 Traceback (most recent call last)",
        "\u001b[0;32m<ipython-input-36-d1013a0572e8>\u001b[0m in \u001b[0;36m<module>\u001b[0;34m()\u001b[0m\n\u001b[0;32m----> 1\u001b[0;31m \u001b[0mcv_vs_leaderboard\u001b[0m\u001b[0;34m(\u001b[0m\u001b[0mX_obs_low\u001b[0m\u001b[0;34m,\u001b[0m\u001b[0mX_leaderboard\u001b[0m\u001b[0;34m,\u001b[0m\u001b[0mY_obs_low\u001b[0m\u001b[0;34m,\u001b[0m\u001b[0mY_leaderboard\u001b[0m\u001b[0;34m)\u001b[0m\u001b[0;34m\u001b[0m\u001b[0m\n\u001b[0m",
        "\u001b[0;31mNameError\u001b[0m: name 'X_leaderboard' is not defined"
       ]
      }
     ],
     "prompt_number": 36
    },
    {
     "cell_type": "code",
     "collapsed": false,
     "input": [
      "stuff = {}\n",
      "for key,value1 in perceptual_obs_subject_vectors.items():\n",
      "    CID,dilution = key.split('_')\n",
      "    for subject,value2 in value1.items():\n",
      "        CID_subject = '%s_%d' % (CID,subject)\n",
      "        if CID_subject not in stuff:\n",
      "            stuff[CID_subject] = {dilution:value2[1]}\n",
      "        else:\n",
      "            stuff[CID_subject][dilution] = value2[1]\n",
      "        #if dilution == '-3':\n",
      "        #    stuff[CID_subject]['intensity'] = value2[0]"
     ],
     "language": "python",
     "metadata": {},
     "outputs": [],
     "prompt_number": 258
    },
    {
     "cell_type": "code",
     "collapsed": false,
     "input": [
      "stuff2 = {key1:[value1[key2] for key2 in sorted(value1)] for key1,value1 in stuff.items()}# if len(value1)==3}"
     ],
     "language": "python",
     "metadata": {},
     "outputs": [],
     "prompt_number": 259
    },
    {
     "cell_type": "code",
     "collapsed": false,
     "input": [
      "high,low = zip(*list(stuff2.values()))\n",
      "high = np.array(high)\n",
      "low = np.array(low)\n",
      "intensity = np.array(intensity)"
     ],
     "language": "python",
     "metadata": {},
     "outputs": [
      {
       "output_type": "stream",
       "stream": "stderr",
       "text": [
        "/Users/rgerkin/Dropbox/python3/lib/python3.4/site-packages/numpy/ma/core.py:3895: UserWarning: Warning: converting a masked element to nan.\n",
        "  warnings.warn(\"Warning: converting a masked element to nan.\")\n"
       ]
      }
     ],
     "prompt_number": 263
    },
    {
     "cell_type": "code",
     "collapsed": false,
     "input": [
      "from scipy.optimize import fmin\n",
      "plt.scatter(low,high)\n",
      "def f(na):\n",
      "    return np.mean((100*low**na[0]/(na[1]**na[0]+low**na[0])-high)**2)\n",
      "#na = fmin(f,(2,50))\n",
      "#x = np.linspace(0,100,100)    \n",
      "#n = 3\n",
      "#plt.plot(x,100*x**na[0]/(na[1]**na[0]+x**na[0]),color='r')\n",
      "#print(na)\n",
      "#plt.figure()\n",
      "#x = np.linspace(0,5,100)  \n",
      "#plt.plot(x,[f([xi,50]) for xi in x])"
     ],
     "language": "python",
     "metadata": {},
     "outputs": [
      {
       "metadata": {},
       "output_type": "display_data",
       "png": "[encoded data removed]",
       "text": [
        "<matplotlib.figure.Figure at 0x12d95a3c8>"
       ]
      }
     ],
     "prompt_number": 264
    },
    {
     "cell_type": "code",
     "collapsed": false,
     "input": [
      "for i in range(21):\n",
      "    stuff = {}\n",
      "    for key,value1 in perceptual_obs_subject_vectors.items():\n",
      "        CID,dilution = key.split('_')\n",
      "        for subject,value2 in value1.items():\n",
      "            CID_subject = '%s_%d' % (CID,subject)\n",
      "            if CID_subject not in stuff:\n",
      "                stuff[CID_subject] = {dilution:value2[i]}\n",
      "            else:\n",
      "                stuff[CID_subject][dilution] = value2[i]\n",
      "            #if dilution == '-3':\n",
      "            #    stuff[CID_subject]['intensity'] = value2[0]\n",
      "    stuff2 = {key1:[value1[key2] for key2 in sorted(value1)] for key1,value1 in stuff.items()}# if len(value1)==3}\n",
      "    high,low = zip(*list(stuff2.values()))\n",
      "    good = np.where(np.isnan(low)+np.isnan(high) == 0)\n",
      "    high = np.array(high)[good]\n",
      "    low = np.array(low)[good]\n",
      "    print(i)\n",
      "    plt.figure()\n",
      "    plt.hexbin(low, high, bins='log', gridsize=20, vmax=2)\n",
      "    plt.colorbar(log=True)\n",
      "    plt.show()"
     ],
     "language": "python",
     "metadata": {},
     "outputs": [
      {
       "output_type": "stream",
       "stream": "stdout",
       "text": [
        "0\n"
       ]
      },
      {
       "ename": "TypeError",
       "evalue": "__init__() got an unexpected keyword argument 'log'",
       "output_type": "pyerr",
       "traceback": [
        "\u001b[0;31m---------------------------------------------------------------------------\u001b[0m\n\u001b[0;31mTypeError\u001b[0m                                 Traceback (most recent call last)",
        "\u001b[0;32m<ipython-input-320-42d87b784c88>\u001b[0m in \u001b[0;36m<module>\u001b[0;34m()\u001b[0m\n\u001b[1;32m     19\u001b[0m     \u001b[0mplt\u001b[0m\u001b[0;34m.\u001b[0m\u001b[0mfigure\u001b[0m\u001b[0;34m(\u001b[0m\u001b[0;34m)\u001b[0m\u001b[0;34m\u001b[0m\u001b[0m\n\u001b[1;32m     20\u001b[0m     \u001b[0mplt\u001b[0m\u001b[0;34m.\u001b[0m\u001b[0mhexbin\u001b[0m\u001b[0;34m(\u001b[0m\u001b[0mlow\u001b[0m\u001b[0;34m,\u001b[0m \u001b[0mhigh\u001b[0m\u001b[0;34m,\u001b[0m \u001b[0mbins\u001b[0m\u001b[0;34m=\u001b[0m\u001b[0;34m'log'\u001b[0m\u001b[0;34m,\u001b[0m \u001b[0mgridsize\u001b[0m\u001b[0;34m=\u001b[0m\u001b[0;36m20\u001b[0m\u001b[0;34m,\u001b[0m \u001b[0mvmax\u001b[0m\u001b[0;34m=\u001b[0m\u001b[0;36m2\u001b[0m\u001b[0;34m)\u001b[0m\u001b[0;34m\u001b[0m\u001b[0m\n\u001b[0;32m---> 21\u001b[0;31m     \u001b[0mplt\u001b[0m\u001b[0;34m.\u001b[0m\u001b[0mcolorbar\u001b[0m\u001b[0;34m(\u001b[0m\u001b[0mlog\u001b[0m\u001b[0;34m=\u001b[0m\u001b[0;32mTrue\u001b[0m\u001b[0;34m)\u001b[0m\u001b[0;34m\u001b[0m\u001b[0m\n\u001b[0m\u001b[1;32m     22\u001b[0m     \u001b[0mplt\u001b[0m\u001b[0;34m.\u001b[0m\u001b[0mshow\u001b[0m\u001b[0;34m(\u001b[0m\u001b[0;34m)\u001b[0m\u001b[0;34m\u001b[0m\u001b[0m\n",
        "\u001b[0;32m/Users/rgerkin/Dropbox/python3/lib/python3.4/site-packages/matplotlib/pyplot.py\u001b[0m in \u001b[0;36mcolorbar\u001b[0;34m(mappable, cax, ax, **kw)\u001b[0m\n\u001b[1;32m   2157\u001b[0m         \u001b[0max\u001b[0m \u001b[0;34m=\u001b[0m \u001b[0mgca\u001b[0m\u001b[0;34m(\u001b[0m\u001b[0;34m)\u001b[0m\u001b[0;34m\u001b[0m\u001b[0m\n\u001b[1;32m   2158\u001b[0m \u001b[0;34m\u001b[0m\u001b[0m\n\u001b[0;32m-> 2159\u001b[0;31m     \u001b[0mret\u001b[0m \u001b[0;34m=\u001b[0m \u001b[0mgcf\u001b[0m\u001b[0;34m(\u001b[0m\u001b[0;34m)\u001b[0m\u001b[0;34m.\u001b[0m\u001b[0mcolorbar\u001b[0m\u001b[0;34m(\u001b[0m\u001b[0mmappable\u001b[0m\u001b[0;34m,\u001b[0m \u001b[0mcax\u001b[0m \u001b[0;34m=\u001b[0m \u001b[0mcax\u001b[0m\u001b[0;34m,\u001b[0m \u001b[0max\u001b[0m\u001b[0;34m=\u001b[0m\u001b[0max\u001b[0m\u001b[0;34m,\u001b[0m \u001b[0;34m**\u001b[0m\u001b[0mkw\u001b[0m\u001b[0;34m)\u001b[0m\u001b[0;34m\u001b[0m\u001b[0m\n\u001b[0m\u001b[1;32m   2160\u001b[0m     \u001b[0mdraw_if_interactive\u001b[0m\u001b[0;34m(\u001b[0m\u001b[0;34m)\u001b[0m\u001b[0;34m\u001b[0m\u001b[0m\n\u001b[1;32m   2161\u001b[0m     \u001b[0;32mreturn\u001b[0m \u001b[0mret\u001b[0m\u001b[0;34m\u001b[0m\u001b[0m\n",
        "\u001b[0;32m/Users/rgerkin/Dropbox/python3/lib/python3.4/site-packages/matplotlib/figure.py\u001b[0m in \u001b[0;36mcolorbar\u001b[0;34m(self, mappable, cax, ax, use_gridspec, **kw)\u001b[0m\n\u001b[1;32m   1498\u001b[0m                 \u001b[0mcax\u001b[0m\u001b[0;34m,\u001b[0m \u001b[0mkw\u001b[0m \u001b[0;34m=\u001b[0m \u001b[0mcbar\u001b[0m\u001b[0;34m.\u001b[0m\u001b[0mmake_axes\u001b[0m\u001b[0;34m(\u001b[0m\u001b[0max\u001b[0m\u001b[0;34m,\u001b[0m \u001b[0;34m**\u001b[0m\u001b[0mkw\u001b[0m\u001b[0;34m)\u001b[0m\u001b[0;34m\u001b[0m\u001b[0m\n\u001b[1;32m   1499\u001b[0m         \u001b[0mcax\u001b[0m\u001b[0;34m.\u001b[0m\u001b[0mhold\u001b[0m\u001b[0;34m(\u001b[0m\u001b[0;32mTrue\u001b[0m\u001b[0;34m)\u001b[0m\u001b[0;34m\u001b[0m\u001b[0m\n\u001b[0;32m-> 1500\u001b[0;31m         \u001b[0mcb\u001b[0m \u001b[0;34m=\u001b[0m \u001b[0mcbar\u001b[0m\u001b[0;34m.\u001b[0m\u001b[0mcolorbar_factory\u001b[0m\u001b[0;34m(\u001b[0m\u001b[0mcax\u001b[0m\u001b[0;34m,\u001b[0m \u001b[0mmappable\u001b[0m\u001b[0;34m,\u001b[0m \u001b[0;34m**\u001b[0m\u001b[0mkw\u001b[0m\u001b[0;34m)\u001b[0m\u001b[0;34m\u001b[0m\u001b[0m\n\u001b[0m\u001b[1;32m   1501\u001b[0m \u001b[0;34m\u001b[0m\u001b[0m\n\u001b[1;32m   1502\u001b[0m         \u001b[0mself\u001b[0m\u001b[0;34m.\u001b[0m\u001b[0msca\u001b[0m\u001b[0;34m(\u001b[0m\u001b[0mcurrent_ax\u001b[0m\u001b[0;34m)\u001b[0m\u001b[0;34m\u001b[0m\u001b[0m\n",
        "\u001b[0;32m/Users/rgerkin/Dropbox/python3/lib/python3.4/site-packages/matplotlib/colorbar.py\u001b[0m in \u001b[0;36mcolorbar_factory\u001b[0;34m(cax, mappable, **kwargs)\u001b[0m\n\u001b[1;32m   1314\u001b[0m         \u001b[0mcb\u001b[0m \u001b[0;34m=\u001b[0m \u001b[0mColorbarPatch\u001b[0m\u001b[0;34m(\u001b[0m\u001b[0mcax\u001b[0m\u001b[0;34m,\u001b[0m \u001b[0mmappable\u001b[0m\u001b[0;34m,\u001b[0m \u001b[0;34m**\u001b[0m\u001b[0mkwargs\u001b[0m\u001b[0;34m)\u001b[0m\u001b[0;34m\u001b[0m\u001b[0m\n\u001b[1;32m   1315\u001b[0m     \u001b[0;32melse\u001b[0m\u001b[0;34m:\u001b[0m\u001b[0;34m\u001b[0m\u001b[0m\n\u001b[0;32m-> 1316\u001b[0;31m         \u001b[0mcb\u001b[0m \u001b[0;34m=\u001b[0m \u001b[0mColorbar\u001b[0m\u001b[0;34m(\u001b[0m\u001b[0mcax\u001b[0m\u001b[0;34m,\u001b[0m \u001b[0mmappable\u001b[0m\u001b[0;34m,\u001b[0m \u001b[0;34m**\u001b[0m\u001b[0mkwargs\u001b[0m\u001b[0;34m)\u001b[0m\u001b[0;34m\u001b[0m\u001b[0m\n\u001b[0m\u001b[1;32m   1317\u001b[0m \u001b[0;34m\u001b[0m\u001b[0m\n\u001b[1;32m   1318\u001b[0m     \u001b[0mcid\u001b[0m \u001b[0;34m=\u001b[0m \u001b[0mmappable\u001b[0m\u001b[0;34m.\u001b[0m\u001b[0mcallbacksSM\u001b[0m\u001b[0;34m.\u001b[0m\u001b[0mconnect\u001b[0m\u001b[0;34m(\u001b[0m\u001b[0;34m'changed'\u001b[0m\u001b[0;34m,\u001b[0m \u001b[0mcb\u001b[0m\u001b[0;34m.\u001b[0m\u001b[0mon_mappable_changed\u001b[0m\u001b[0;34m)\u001b[0m\u001b[0;34m\u001b[0m\u001b[0m\n",
        "\u001b[0;32m/Users/rgerkin/Dropbox/python3/lib/python3.4/site-packages/matplotlib/colorbar.py\u001b[0m in \u001b[0;36m__init__\u001b[0;34m(self, ax, mappable, **kw)\u001b[0m\n\u001b[1;32m    890\u001b[0m                 \u001b[0mkw\u001b[0m\u001b[0;34m[\u001b[0m\u001b[0;34m'alpha'\u001b[0m\u001b[0;34m]\u001b[0m \u001b[0;34m=\u001b[0m \u001b[0mmappable\u001b[0m\u001b[0;34m.\u001b[0m\u001b[0mget_alpha\u001b[0m\u001b[0;34m(\u001b[0m\u001b[0;34m)\u001b[0m\u001b[0;34m\u001b[0m\u001b[0m\n\u001b[1;32m    891\u001b[0m \u001b[0;34m\u001b[0m\u001b[0m\n\u001b[0;32m--> 892\u001b[0;31m             \u001b[0mColorbarBase\u001b[0m\u001b[0;34m.\u001b[0m\u001b[0m__init__\u001b[0m\u001b[0;34m(\u001b[0m\u001b[0mself\u001b[0m\u001b[0;34m,\u001b[0m \u001b[0max\u001b[0m\u001b[0;34m,\u001b[0m \u001b[0;34m**\u001b[0m\u001b[0mkw\u001b[0m\u001b[0;34m)\u001b[0m\u001b[0;34m\u001b[0m\u001b[0m\n\u001b[0m\u001b[1;32m    893\u001b[0m \u001b[0;34m\u001b[0m\u001b[0m\n\u001b[1;32m    894\u001b[0m     \u001b[0;32mdef\u001b[0m \u001b[0mon_mappable_changed\u001b[0m\u001b[0;34m(\u001b[0m\u001b[0mself\u001b[0m\u001b[0;34m,\u001b[0m \u001b[0mmappable\u001b[0m\u001b[0;34m)\u001b[0m\u001b[0;34m:\u001b[0m\u001b[0;34m\u001b[0m\u001b[0m\n",
        "\u001b[0;31mTypeError\u001b[0m: __init__() got an unexpected keyword argument 'log'"
       ]
      },
      {
       "metadata": {},
       "output_type": "display_data",
       "png": "[encoded data removed]",
       "text": [
        "<matplotlib.figure.Figure at 0x131aa42b0>"
       ]
      }
     ],
     "prompt_number": 320
    }
   ],
   "metadata": {}
  }
 ]
}