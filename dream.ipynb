{
 "metadata": {
  "name": "",
  "signature": "sha256:152b14f12ca6e8625b4051204d05686ed34af52f7aab7319ef63ec9fa375726d"
 },
 "nbformat": 3,
 "nbformat_minor": 0,
 "worksheets": [
  {
   "cells": [
    {
     "cell_type": "heading",
     "level": 3,
     "metadata": {},
     "source": [
      "Preliminaries"
     ]
    },
    {
     "cell_type": "code",
     "collapsed": false,
     "input": [
      "# Preliminaries to setup the notebook.  \n",
      "%pylab inline\n",
      "%load_ext autoreload\n",
      "%autoreload 2"
     ],
     "language": "python",
     "metadata": {},
     "outputs": [
      {
       "output_type": "stream",
       "stream": "stdout",
       "text": [
        "Populating the interactive namespace from numpy and matplotlib\n"
       ]
      }
     ],
     "prompt_number": 1
    },
    {
     "cell_type": "code",
     "collapsed": false,
     "input": [
      "# For which subchallenges to execute code.\n",
      "subchallenges = [1,2]"
     ],
     "language": "python",
     "metadata": {},
     "outputs": [],
     "prompt_number": 2
    },
    {
     "cell_type": "code",
     "collapsed": false,
     "input": [
      "# Import numerical libraries.  \n",
      "from scipy.stats import pearsonr"
     ],
     "language": "python",
     "metadata": {},
     "outputs": [],
     "prompt_number": 3
    },
    {
     "cell_type": "code",
     "collapsed": false,
     "input": [
      "# Import the file I wrote to load the data from the tab-delimited text files.  \n",
      "import dream"
     ],
     "language": "python",
     "metadata": {},
     "outputs": [],
     "prompt_number": 4
    },
    {
     "cell_type": "code",
     "collapsed": false,
     "input": [
      "# Load the perceptual descriptors data.  \n",
      "perceptual_headers, perceptual_obs_data = dream.load_perceptual_data()"
     ],
     "language": "python",
     "metadata": {},
     "outputs": [],
     "prompt_number": 5
    },
    {
     "cell_type": "code",
     "collapsed": false,
     "input": [
      "# Show the perceptual metadata types and perceptual descriptor names.\n",
      "print(perceptual_headers)"
     ],
     "language": "python",
     "metadata": {},
     "outputs": [
      {
       "output_type": "stream",
       "stream": "stdout",
       "text": [
        "['Compound Identifier', 'Odor', 'Replicate', 'Intensity', 'Dilution', 'subject #', 'INTENSITY/STRENGTH', 'VALENCE/PLEASANTNESS', 'BAKERY', 'SWEET', 'FRUIT', 'FISH', 'GARLIC', 'SPICES', 'COLD', 'SOUR', 'BURNT', 'ACID', 'WARM', 'MUSKY', 'SWEATY', 'AMMONIA/URINOUS', 'DECAYED', 'WOOD', 'GRASS', 'FLOWER', 'CHEMICAL']\n"
       ]
      }
     ],
     "prompt_number": 6
    },
    {
     "cell_type": "code",
     "collapsed": false,
     "input": [
      "# Show the metadata and perceptual descriptor values for the first compound.\n",
      "print(perceptual_obs_data[1])"
     ],
     "language": "python",
     "metadata": {},
     "outputs": [
      {
       "output_type": "stream",
       "stream": "stdout",
       "text": [
        "['126', '4-Hydroxybenzaldehyde', False, 'high', '1/10', '1', 37, 60, 0, 72, 0, 0, 0, 0, 0, 0, 0, 0, 0, 0, 0, 0, 0, 0, 0, 0, 0]\n"
       ]
      }
     ],
     "prompt_number": 7
    },
    {
     "cell_type": "code",
     "collapsed": false,
     "input": [
      "num_descriptors = len(perceptual_headers[6:])\n",
      "num_subjects = 49\n",
      "print('There are %d different perceptual descriptors and %d different subjects' % (num_descriptors,num_subjects))"
     ],
     "language": "python",
     "metadata": {},
     "outputs": [
      {
       "output_type": "stream",
       "stream": "stdout",
       "text": [
        "There are 21 different perceptual descriptors and 49 different subjects\n"
       ]
      }
     ],
     "prompt_number": 8
    },
    {
     "cell_type": "code",
     "collapsed": false,
     "input": [
      "# Load the molecular descriptors data.  \n",
      "molecular_headers, molecular_data = dream.load_molecular_data()"
     ],
     "language": "python",
     "metadata": {},
     "outputs": [],
     "prompt_number": 9
    },
    {
     "cell_type": "code",
     "collapsed": false,
     "input": [
      "# Show first 10 molecular descriptors types (zeroth is just the compound identifier).  \n",
      "print(molecular_headers[:10])"
     ],
     "language": "python",
     "metadata": {},
     "outputs": [
      {
       "output_type": "stream",
       "stream": "stdout",
       "text": [
        "['CID', 'complexity from pubmed', 'MW', 'AMW', 'Sv', 'Se', 'Sp', 'Si', 'Mv', 'Me']\n"
       ]
      }
     ],
     "prompt_number": 10
    },
    {
     "cell_type": "code",
     "collapsed": false,
     "input": [
      "# Show first 10 molecular descriptors values for the first compound (zeroth is just the compound identifier).  \n",
      "print(molecular_data[0][:10])"
     ],
     "language": "python",
     "metadata": {},
     "outputs": [
      {
       "output_type": "stream",
       "stream": "stdout",
       "text": [
        "['126', 10.193, 16.664, 0.667, 1.02, 0.68, 1.111, 15.0, 9.0, 15.0]\n"
       ]
      }
     ],
     "prompt_number": 11
    },
    {
     "cell_type": "code",
     "collapsed": false,
     "input": [
      "# How many unique molecules do we have perceptual data for?  \n",
      "training_size = len(set([int(row[0]) for row in perceptual_obs_data]))\n",
      "print(training_size)"
     ],
     "language": "python",
     "metadata": {},
     "outputs": [
      {
       "output_type": "stream",
       "stream": "stdout",
       "text": [
        "338\n"
       ]
      }
     ],
     "prompt_number": 12
    },
    {
     "cell_type": "code",
     "collapsed": false,
     "input": [
      "# How many unique molecules do we have descriptors for?  \n",
      "total_size = len(set([int(row[0]) for row in molecular_data]))\n",
      "print(total_size)"
     ],
     "language": "python",
     "metadata": {},
     "outputs": [
      {
       "output_type": "stream",
       "stream": "stdout",
       "text": [
        "476\n"
       ]
      }
     ],
     "prompt_number": 13
    },
    {
     "cell_type": "code",
     "collapsed": false,
     "input": [
      "# How many are left out for testing in the competition?  Note that half of these will be used for the leaderboard\n",
      "print(total_size - training_size)"
     ],
     "language": "python",
     "metadata": {},
     "outputs": [
      {
       "output_type": "stream",
       "stream": "stdout",
       "text": [
        "138\n"
       ]
      }
     ],
     "prompt_number": 14
    },
    {
     "cell_type": "code",
     "collapsed": false,
     "input": [
      "# How many total rows are there in the perceptual data set (there can be at least one for each subject and molecule)?  \n",
      "print(len(perceptual_obs_data))"
     ],
     "language": "python",
     "metadata": {},
     "outputs": [
      {
       "output_type": "stream",
       "stream": "stdout",
       "text": [
        "35084\n"
       ]
      }
     ],
     "prompt_number": 15
    },
    {
     "cell_type": "code",
     "collapsed": false,
     "input": [
      "# How many of those descriptor vectors are replicates (same subject and compound)?\n",
      "print(sum([x[2] for x in perceptual_obs_data]))"
     ],
     "language": "python",
     "metadata": {},
     "outputs": [
      {
       "output_type": "stream",
       "stream": "stdout",
       "text": [
        "1960\n"
       ]
      }
     ],
     "prompt_number": 16
    },
    {
     "cell_type": "heading",
     "level": 3,
     "metadata": {},
     "source": [
      "Data preparation"
     ]
    },
    {
     "cell_type": "code",
     "collapsed": false,
     "input": [
      "# Delete replicates because I don't know how to deal with them right now.  \n",
      "perceptual_obs_data = [row for row in perceptual_obs_data if row[2] is False]\n",
      "print(\"There are %d non-replicated rows in the observed perceptual data\" % len(perceptual_obs_data))"
     ],
     "language": "python",
     "metadata": {},
     "outputs": [
      {
       "output_type": "stream",
       "stream": "stdout",
       "text": [
        "There are 33124 non-replicated rows in the observed perceptual data\n"
       ]
      }
     ],
     "prompt_number": 17
    },
    {
     "cell_type": "code",
     "collapsed": false,
     "input": [
      "# Compute perceptual descriptor matrices for molecules tested at a given dilution.  \n",
      "perceptual_obs_matrices = {}\n",
      "CIDs = []\n",
      "target_dilution = '1/1,000'\n",
      "for row in perceptual_obs_data:\n",
      "    CID = int(row[0])\n",
      "    CIDs.append(CID)\n",
      "    dilution = row[4]\n",
      "    if dilution == target_dilution:\n",
      "        if CID in perceptual_obs_matrices:\n",
      "            existing_data = perceptual_obs_matrices[CID]\n",
      "            new_data = array([np.nan if _=='NaN' else int(_) for _ in row[6:]])\n",
      "            perceptual_obs_matrices[CID] = vstack((existing_data,new_data))\n",
      "        else:\n",
      "            perceptual_obs_matrices[CID] = array([np.nan if _=='NaN' else int(_) for _ in row[6:]])\n",
      "print(\"Each observed perceptual matrix has shape %d (subjects) x %d (perceptual descriptors)\" % list(perceptual_obs_matrices.values())[0].shape)\n",
      "print(\"There are %d such matrices, one for each molecule tested at %s dilution\" % (len(perceptual_obs_matrices),target_dilution))"
     ],
     "language": "python",
     "metadata": {},
     "outputs": [
      {
       "output_type": "stream",
       "stream": "stdout",
       "text": [
        "Each observed perceptual matrix has shape 49 (subjects) x 21 (perceptual descriptors)\n",
        "There are 280 such matrices, one for each molecule tested at 1/1,000 dilution\n"
       ]
      }
     ],
     "prompt_number": 18
    },
    {
     "cell_type": "code",
     "collapsed": false,
     "input": [
      "# Compute molecular descriptor vectors for the molecules tested above.  \n",
      "def get_molecular_vectors(molecular_data,CIDs):\n",
      "    molecular_vectors = {}\n",
      "    for row in molecular_data:\n",
      "        CID = int(row[0])\n",
      "        if CID in CIDs:\n",
      "            molecular_vectors[CID] = array([np.nan if _=='NaN' else int(_) for _ in row[1:]])\n",
      "    print(\"Each molecular vector has length %d\" % list(molecular_vectors.values())[0].shape)\n",
      "    print(\"There are %d such vectors, one for each molecule tested at %s dilution that could be located in the molecular data\" \\\n",
      "      % (len(molecular_vectors),target_dilution))\n",
      "    return molecular_vectors\n",
      "\n",
      "CIDs_obs = list(perceptual_obs_matrices.keys())\n",
      "molecular_vectors = get_molecular_vectors(molecular_data,CIDs_obs)"
     ],
     "language": "python",
     "metadata": {},
     "outputs": [
      {
       "output_type": "stream",
       "stream": "stdout",
       "text": [
        "Each molecular vector has length 4864\n",
        "There are 280 such vectors, one for each molecule tested at 1/1,000 dilution that could be located in the molecular data\n"
       ]
      }
     ],
     "prompt_number": 19
    },
    {
     "cell_type": "code",
     "collapsed": false,
     "input": [
      "# Here we setup an imputer to impute new values based on row and column means.  \n",
      "from sklearn.preprocessing import Imputer\n",
      "imputer = Imputer(missing_values=np.nan,axis=0)"
     ],
     "language": "python",
     "metadata": {},
     "outputs": [],
     "prompt_number": 20
    },
    {
     "cell_type": "code",
     "collapsed": false,
     "input": [
      "# Compute subject-averaged perceptual descriptor vectors from the matrices.  \n",
      "# This is basically just computing the column means.  \n",
      "perceptual_obs_mean_vectors = {}\n",
      "perceptual_obs_std_vectors = {}\n",
      "for CID,matrix in perceptual_obs_matrices.items():\n",
      "    imputed_matrix = imputer.fit_transform(matrix) # Impute the NaNs.  \n",
      "    perceptual_obs_mean_vectors[CID] = imputed_matrix.mean(axis=0)\n",
      "    perceptual_obs_std_vectors[CID] = imputed_matrix.std(axis=0)\n",
      "print(\"Subject-averaged observed perceptual vector has length %d (perceptual descriptors)\" % list(perceptual_obs_mean_vectors.values())[0].shape)\n",
      "print(\"There are %d such vectors, one for each molecule tested at %s dilution\" % (len(perceptual_obs_mean_vectors),target_dilution))"
     ],
     "language": "python",
     "metadata": {},
     "outputs": [
      {
       "output_type": "stream",
       "stream": "stdout",
       "text": [
        "Subject-averaged observed perceptual vector has length 21 (perceptual descriptors)\n",
        "There are 280 such vectors, one for each molecule tested at 1/1,000 dilution\n"
       ]
      }
     ],
     "prompt_number": 21
    },
    {
     "cell_type": "code",
     "collapsed": false,
     "input": [
      "# Compute subject-specific perceptual descriptor vectors from the matrices.  \n",
      "# This is basically just unraveling the matrices.  \n",
      "perceptual_obs_subject_vectors = {}\n",
      "for CID,matrix in perceptual_obs_matrices.items():\n",
      "    imputed_matrix = imputer.fit_transform(matrix) # Impute the NaNs.  \n",
      "    for subject in range(1,imputed_matrix.shape[0]+1):        \n",
      "        perceptual_obs_subject_vectors['%d_%d' % (CID,subject)] = imputed_matrix[subject-1]\n",
      "print(\"Subject-specific observed perceptual vector has length %d (perceptual descriptors)\" % \\\n",
      "      list(perceptual_obs_subject_vectors.values())[0].shape)\n",
      "print(\"There are %d such vectors, one for each molecule and subject tested at %s dilution\" % \\\n",
      "      (len(perceptual_obs_subject_vectors),target_dilution))"
     ],
     "language": "python",
     "metadata": {},
     "outputs": [
      {
       "output_type": "stream",
       "stream": "stdout",
       "text": [
        "Subject-specific observed perceptual vector has length 21 (perceptual descriptors)\n",
        "There are 13720 such vectors, one for each molecule and subject tested at 1/1,000 dilution\n"
       ]
      }
     ],
     "prompt_number": 22
    },
    {
     "cell_type": "code",
     "collapsed": false,
     "input": [
      "# Purge molecules from perceptual_vectors that are not in molecular_vectors.\n",
      "for perceptual_vectors in [perceptual_obs_mean_vectors,perceptual_obs_std_vectors,perceptual_obs_subject_vectors]:\n",
      "    perceptual_vectors = {CID:value for CID,value in perceptual_vectors.items() if CID in molecular_vectors}"
     ],
     "language": "python",
     "metadata": {},
     "outputs": [],
     "prompt_number": 23
    },
    {
     "cell_type": "code",
     "collapsed": false,
     "input": [
      "# Make sure we have the same number of molecules in both sets of vectors.  \n",
      "print(\"There are now %d molecules in perceptual_vectors and %d molecules in molecular_vectors\" % \\\n",
      "      (len(perceptual_obs_mean_vectors),len(molecular_vectors)))\n",
      "print(\"These should be the same number.\")"
     ],
     "language": "python",
     "metadata": {},
     "outputs": [
      {
       "output_type": "stream",
       "stream": "stdout",
       "text": [
        "There are now 280 molecules in perceptual_vectors and 280 molecules in molecular_vectors\n",
        "These should be the same number.\n"
       ]
      }
     ],
     "prompt_number": 24
    },
    {
     "cell_type": "code",
     "collapsed": false,
     "input": [
      "# Build the Y matrix out of perceptual descriptors.\n",
      "Y_obs = {}\n",
      "for kind,perceptual_vectors in [('mean',perceptual_obs_mean_vectors),\n",
      "                           ('std',perceptual_obs_std_vectors),\n",
      "                           ('subject',perceptual_obs_subject_vectors)]:\n",
      "    Y_obs[kind] = vstack([perceptual_vectors[CID] for CID in sorted(perceptual_vectors)])\n",
      "print(\"The Y_obs['subject'] matrix has shape (%dx%d) (molecules by perceptual descriptors * subjects)\" % Y_obs['subject'].shape)\n",
      "print(\"The Y_obs['mean'] matrix has shape (%dx%d) (molecules by perceptual descriptors)\" % Y_obs['mean'].shape)\n",
      "Y_obs['mean_std'] = hstack((Y_obs['mean'],Y_obs['std']))\n",
      "print(\"The Y_obs['mean_std'] matrix has shape (%dx%d) (molecules by 2 x perceptual descriptors)\" % Y_obs['mean_std'].shape)"
     ],
     "language": "python",
     "metadata": {},
     "outputs": [
      {
       "output_type": "stream",
       "stream": "stdout",
       "text": [
        "The Y_obs['subject'] matrix has shape (13720x21) (molecules by perceptual descriptors * subjects)\n",
        "The Y_obs['mean'] matrix has shape (280x21) (molecules by perceptual descriptors)\n",
        "The Y_obs['mean_std'] matrix has shape (280x42) (molecules by 2 x perceptual descriptors)\n"
       ]
      }
     ],
     "prompt_number": 25
    },
    {
     "cell_type": "code",
     "collapsed": false,
     "input": [
      "# Build the X_obs matrix out of molecular descriptors.  \n",
      "# Also cube-root transform them to get this on a similar scale to the perceptual vectors.    \n",
      "def build_X(molecular_vectors):\n",
      "    X = vstack([molecular_vectors[CID] for CID in sorted(molecular_vectors)])\n",
      "    X = X**(1.0/3)\n",
      "    print(\"The X matrix has shape (%dx%d) (molecules by molecular descriptors)\" % X.shape)\n",
      "    return X\n",
      "\n",
      "X_obs = build_X(molecular_vectors)"
     ],
     "language": "python",
     "metadata": {},
     "outputs": [
      {
       "output_type": "stream",
       "stream": "stdout",
       "text": [
        "The X matrix has shape (280x4864) (molecules by molecular descriptors)\n"
       ]
      },
      {
       "output_type": "stream",
       "stream": "stderr",
       "text": [
        "-c:5: RuntimeWarning: invalid value encountered in power\n"
       ]
      }
     ],
     "prompt_number": 26
    },
    {
     "cell_type": "code",
     "collapsed": false,
     "input": [
      "def purge_X(X,good_molecular_descriptors=None):\n",
      "    if good_molecular_descriptors is None:\n",
      "        # Which columns of X (which molecular descriptors) have NaNs for at least 25% of the molecules?  \n",
      "        bad_molecular_descriptors = np.where(np.isnan(X).sum(axis=0) > X.shape[0]*0.25)[0]\n",
      "        # Purge these bad descriptors from the X matrix.  \n",
      "        good_molecular_descriptors = list(set(range(X.shape[1])).difference(bad_molecular_descriptors))\n",
      "    X = X[:,good_molecular_descriptors]\n",
      "    print(\"The X matrix has shape (%dx%d) (molecules by good molecular descriptors)\" % X.shape)\n",
      "    return X,good_molecular_descriptors\n",
      "\n",
      "X_obs,good_molecular_descriptors = purge_X(X_obs)"
     ],
     "language": "python",
     "metadata": {},
     "outputs": [
      {
       "output_type": "stream",
       "stream": "stdout",
       "text": [
        "The X matrix has shape (280x4773) (molecules by good molecular descriptors)\n"
       ]
      }
     ],
     "prompt_number": 27
    },
    {
     "cell_type": "code",
     "collapsed": false,
     "input": [
      "def impute_X(X):\n",
      "    # The X_obs matrix (molecular descriptors) still has NaN values which need to be imputed.  \n",
      "    X = imputer.fit_transform(X)\n",
      "    print(\"The X matrix now has shape (%dx%d) (molecules by non-NaN good molecular descriptors)\" % X.shape)\n",
      "    return X\n",
      "\n",
      "X_obs = impute_X(X_obs)"
     ],
     "language": "python",
     "metadata": {},
     "outputs": [
      {
       "output_type": "stream",
       "stream": "stdout",
       "text": [
        "The X matrix now has shape (280x4773) (molecules by non-NaN good molecular descriptors)\n"
       ]
      }
     ],
     "prompt_number": 28
    },
    {
     "cell_type": "code",
     "collapsed": false,
     "input": [
      "def add_subjects_to_X(X):\n",
      "    X_subject = np.tile(X,(num_subjects,1)) # Tile the X_obs matrix over n_subjects times as many rows.  \n",
      "    new_column = np.tile(np.arange(1,num_subjects+1),(1,X.shape[0])).transpose() # New column just with subject numbers repeating.\n",
      "    X_subject = np.hstack((X_subject,new_column))\n",
      "    print(\"The X matrix with subjects now has shape (%dx%d) (molecules*subjects by non-NaN good molecular descriptors + 1)\" % \\\n",
      "          X_subject.shape)\n",
      "    return X_subject\n",
      "\n",
      "X_obs_subject = add_subjects_to_X(X_obs)"
     ],
     "language": "python",
     "metadata": {},
     "outputs": [
      {
       "output_type": "stream",
       "stream": "stdout",
       "text": [
        "The X matrix with subjects now has shape (13720x4774) (molecules*subjects by non-NaN good molecular descriptors + 1)\n"
       ]
      }
     ],
     "prompt_number": 29
    },
    {
     "cell_type": "code",
     "collapsed": false,
     "input": [
      "# Show the range of values for the molecular and perceptual descriptors.  \n",
      "hist(X_obs.ravel())\n",
      "yscale('log')\n",
      "ylabel('Count')\n",
      "xlabel('Cube root transformed molecular descriptor values')\n",
      "figure()\n",
      "hist(Y_obs['mean'].ravel())\n",
      "yscale('log')\n",
      "ylabel('Count')\n",
      "xlabel('Perceptual descriptor subject-averaged values')"
     ],
     "language": "python",
     "metadata": {},
     "outputs": [
      {
       "metadata": {},
       "output_type": "pyout",
       "prompt_number": 30,
       "text": [
        "<matplotlib.text.Text at 0x111043278>"
       ]
      },
      {
       "metadata": {},
       "output_type": "display_data",
       "png": "[encoded data removed]",
       "text": [
        "<matplotlib.figure.Figure at 0x10a91d198>"
       ]
      },
      {
       "metadata": {},
       "output_type": "display_data",
       "png": "[encoded data removed]",
       "text": [
        "<matplotlib.figure.Figure at 0x1110d80f0>"
       ]
      }
     ],
     "prompt_number": 30
    },
    {
     "cell_type": "code",
     "collapsed": false,
     "input": [
      "# Canonical correlation analysis class.  Solves Y = A * X to yield A.    \n",
      "from sklearn.cross_decomposition import CCA\n",
      "cca = CCA(n_components=1)"
     ],
     "language": "python",
     "metadata": {},
     "outputs": [],
     "prompt_number": 32
    },
    {
     "cell_type": "code",
     "collapsed": false,
     "input": [
      "# Show that we can trivially over-fit to perfectly predict in-sample.  \n",
      "def cca_(X,Y,subchallenge):\n",
      "    cca.fit(X,Y)\n",
      "    x,y = cca.transform(X,Y)\n",
      "    scatter(x,y)\n",
      "    print(\"For subchallenge %d, R = %.5f\" % (subchallenge,pearsonr(x,y)[0]))\n",
      "\n",
      "plt.subplot(1,2,1)\n",
      "cca_(X_obs_subject,Y_obs['subject'],1)\n",
      "plt.subplot(1,2,2)\n",
      "cca_(X_obs,Y_obs['mean_std'],2)"
     ],
     "language": "python",
     "metadata": {},
     "outputs": [
      {
       "output_type": "stream",
       "stream": "stderr",
       "text": [
        "/Users/rgerkin/Dropbox/python3/lib/python3.4/site-packages/sklearn/cross_decomposition/pls_.py:66: UserWarning: Maximum number of iterations reached\n",
        "  warnings.warn('Maximum number of iterations reached')\n",
        "/Users/rgerkin/Dropbox/python3/lib/python3.4/site-packages/sklearn/cross_decomposition/pls_.py:293: UserWarning: X scores are null at iteration 0\n",
        "  warnings.warn('X scores are null at iteration %s' % k)\n"
       ]
      },
      {
       "output_type": "stream",
       "stream": "stdout",
       "text": [
        "For subchallenge 1, R = 0.35706\n",
        "For subchallenge 2, R = 1.00000"
       ]
      },
      {
       "output_type": "stream",
       "stream": "stdout",
       "text": [
        "\n"
       ]
      },
      {
       "metadata": {},
       "output_type": "display_data",
       "png": "[encoded data removed]",
       "text": [
        "<matplotlib.figure.Figure at 0x112d2de10>"
       ]
      }
     ],
     "prompt_number": 33
    },
    {
     "cell_type": "code",
     "collapsed": false,
     "input": [
      "# Show that CCA is crappy for this data set because we are using way too many predictors. \n",
      "from sklearn.cross_validation import ShuffleSplit,cross_val_score\n",
      "def cca_cv(X,Y,subchallenge):\n",
      "    shuffle_split = ShuffleSplit(len(Y),3,test_size=0.8)\n",
      "    rs = []\n",
      "    ps = []\n",
      "    for train_index,test_index in shuffle_split:\n",
      "        cca.fit(X[train_index],Y[train_index])\n",
      "        x,y = cca.transform(X[test_index],Y[test_index])\n",
      "        r,p = pearsonr(x,y)\n",
      "        rs.append(r)\n",
      "        ps.append(p)\n",
      "    print(\"For subchallenge %d, mean R = %.2f\" % (subchallenge,np.mean(rs)))\n",
      "    scatter(range(len(rs)),sorted(rs))\n",
      "    xlabel('Rank')\n",
      "    ylabel('Pearson correlation R')\n",
      "    \n",
      "plt.subplot(1,2,1)\n",
      "cca_cv(X_obs_subject,Y_obs['subject'],1)\n",
      "plt.subplot(1,2,2)\n",
      "cca_cv(X_obs,Y_obs['mean_std'],2)"
     ],
     "language": "python",
     "metadata": {},
     "outputs": [
      {
       "output_type": "stream",
       "stream": "stdout",
       "text": [
        "For subchallenge 1, mean R = 0.20\n",
        "For subchallenge 2, mean R = 0.24"
       ]
      },
      {
       "output_type": "stream",
       "stream": "stdout",
       "text": [
        "\n"
       ]
      },
      {
       "metadata": {},
       "output_type": "display_data",
       "png": "[encoded data removed]",
       "text": [
        "<matplotlib.figure.Figure at 0x11143e080>"
       ]
      }
     ],
     "prompt_number": 34
    },
    {
     "cell_type": "code",
     "collapsed": false,
     "input": [
      "# Show that random forest regression can also be used to fit all the data in-sample.  \n",
      "from sklearn.ensemble import RandomForestRegressor\n",
      "def rfc_(X,Y,subchallenge):\n",
      "    rfc = RandomForestRegressor()\n",
      "    rfc.fit(X,Y)\n",
      "    x = rfc.predict(X).ravel()\n",
      "    y = Y.ravel()\n",
      "    scatter(x,y)\n",
      "    print(\"For subchallenge %d, R = %.2f\" % (subchallenge,pearsonr(x,y)[0]))\n",
      "    return rfc\n",
      "\n",
      "rfcs = {}\n",
      "plt.subplot(1,2,1)\n",
      "rfcs[1] = rfc_(X_obs_subject,Y_obs['subject'],1)\n",
      "plt.subplot(1,2,2)\n",
      "rfcs[2] = rfc_(X_obs,Y_obs['mean_std'],2)"
     ],
     "language": "python",
     "metadata": {},
     "outputs": [
      {
       "output_type": "stream",
       "stream": "stdout",
       "text": [
        "For subchallenge 1, R = 0.67\n",
        "For subchallenge 2, R = 0.97"
       ]
      },
      {
       "output_type": "stream",
       "stream": "stdout",
       "text": [
        "\n"
       ]
      },
      {
       "metadata": {},
       "output_type": "display_data",
       "png": "[encoded data removed]",
       "text": [
        "<matplotlib.figure.Figure at 0x113533b00>"
       ]
      }
     ],
     "prompt_number": 35
    },
    {
     "cell_type": "code",
     "collapsed": false,
     "input": [
      "# Show that random forest regrssion also works really well out of sample.  \n",
      "from sklearn.cross_validation import ShuffleSplit,cross_val_score\n",
      "def rfc_cv(X,Y,subchallenge):\n",
      "    rfc = RandomForestRegressor()\n",
      "    shuffle_split = ShuffleSplit(len(Y),subchallenge*3,test_size=0.8)\n",
      "    rs = []\n",
      "    ps = []\n",
      "    for train_index,test_index in shuffle_split:\n",
      "        rfc.fit(X[train_index],Y[train_index])\n",
      "        Y_predict = rfc.predict(X[test_index])\n",
      "        r,p = pearsonr(Y[test_index].ravel(),Y_predict.ravel())\n",
      "        rs.append(r)\n",
      "        ps.append(p)\n",
      "    print(\"For subchallenge %d, mean R = %.2f\" % (subchallenge,np.mean(rs)))\n",
      "    scatter(range(len(rs)),sorted(rs))\n",
      "    xlabel('Rank')\n",
      "    ylabel('Pearson correlation R')\n",
      "    \n",
      "plt.subplot(1,2,1)\n",
      "rfc_cv(X_obs_subject,Y_obs['subject'],1)\n",
      "plt.subplot(1,2,2)\n",
      "rfc_cv(X_obs,Y_obs['mean_std'],2)"
     ],
     "language": "python",
     "metadata": {},
     "outputs": [
      {
       "output_type": "stream",
       "stream": "stdout",
       "text": [
        "For subchallenge 1, mean R = 0.48\n",
        "For subchallenge 2, mean R = 0.79"
       ]
      },
      {
       "output_type": "stream",
       "stream": "stdout",
       "text": [
        "\n"
       ]
      },
      {
       "metadata": {},
       "output_type": "display_data",
       "png": "[encoded data removed]",
       "text": [
        "<matplotlib.figure.Figure at 0x11159d048>"
       ]
      }
     ],
     "prompt_number": 36
    },
    {
     "cell_type": "heading",
     "level": 3,
     "metadata": {},
     "source": [
      "Generate what is needed to make the output files"
     ]
    },
    {
     "cell_type": "code",
     "collapsed": false,
     "input": [
      "CIDs_leaderboard = dream.leaderboard_CIDs()\n",
      "CIDs_testset = dream.testset_CIDs()"
     ],
     "language": "python",
     "metadata": {},
     "outputs": [],
     "prompt_number": 37
    },
    {
     "cell_type": "code",
     "collapsed": false,
     "input": [
      "# Compute molecular descriptor vectors for the molecules in the leaderboard sample.  \n",
      "molecular_vectors = get_molecular_vectors(molecular_data,CIDs_leaderboard)"
     ],
     "language": "python",
     "metadata": {},
     "outputs": [
      {
       "output_type": "stream",
       "stream": "stdout",
       "text": [
        "Each molecular vector has length 4864\n",
        "There are 69 such vectors, one for each molecule tested at 1/1,000 dilution that could be located in the molecular data\n"
       ]
      }
     ],
     "prompt_number": 38
    },
    {
     "cell_type": "code",
     "collapsed": false,
     "input": [
      "X_leaderboard = build_X(molecular_vectors)\n",
      "X_leaderboard,_ = purge_X(X_leaderboard,good_molecular_descriptors)\n",
      "X_leaderboard = impute_X(X_leaderboard)\n",
      "X_leaderboard_subject = add_subjects_to_X(X_leaderboard)"
     ],
     "language": "python",
     "metadata": {},
     "outputs": [
      {
       "output_type": "stream",
       "stream": "stdout",
       "text": [
        "The X matrix has shape (69x4864) (molecules by molecular descriptors)\n",
        "The X matrix has shape (69x4773) (molecules by good molecular descriptors)\n",
        "The X matrix now has shape (69x4773) (molecules by non-NaN good molecular descriptors)\n",
        "The X matrix with subjects now has shape (3381x4774) (molecules*subjects by non-NaN good molecular descriptors + 1)"
       ]
      },
      {
       "output_type": "stream",
       "stream": "stdout",
       "text": [
        "\n"
       ]
      },
      {
       "output_type": "stream",
       "stream": "stderr",
       "text": [
        "-c:5: RuntimeWarning: invalid value encountered in power\n"
       ]
      }
     ],
     "prompt_number": 39
    },
    {
     "cell_type": "code",
     "collapsed": false,
     "input": [
      "def predict_Y(X,rfcs,subchallenge):\n",
      "    Y = rfcs[subchallenge].predict(X)\n",
      "    print(\"The predicted descriptors for subchallenge %d have the shape (%dx%d) (molecules by %s x perceptual descriptors)\" \\\n",
      "          % (subchallenge,Y.shape[0],Y.shape[1],'subjects' if subchallenge==1 else '2'))\n",
      "    return Y\n",
      "    \n",
      "Y_leaderboard = {}\n",
      "Y_leaderboard['subject'] = predict_Y(X_leaderboard_subject,rfcs,1)\n",
      "Y_leaderboard['mean_std'] = predict_Y(X_leaderboard,rfcs,2)"
     ],
     "language": "python",
     "metadata": {},
     "outputs": [
      {
       "output_type": "stream",
       "stream": "stdout",
       "text": [
        "The predicted descriptors for subchallenge 1 have the shape (3381x21) (molecules by subjects x perceptual descriptors)\n",
        "The predicted descriptors for subchallenge 2 have the shape (69x42) (molecules by 2 x perceptual descriptors)\n"
       ]
      }
     ],
     "prompt_number": 40
    },
    {
     "cell_type": "code",
     "collapsed": false,
     "input": [
      "# Write predictions for each subchallenge to a file.  \n",
      "import csv\n",
      "def open_prediction_file(subchallenge):\n",
      "    f = open('submission_challenge%d.txt' % subchallenge,'w')\n",
      "    writer = csv.writer(f,delimiter='\\t')\n",
      "    return f,writer\n",
      "\n",
      "# Subchallenge 1.\n",
      "Y = Y_leaderboard['subject']\n",
      "f,writer = open_prediction_file(1)\n",
      "writer.writerow([\"#oID\",\"individual\",\"descriptor\",\"value\"])\n",
      "num_CIDs = len(CIDs_leaderboard)\n",
      "for k,subject in enumerate(range(1,num_subjects+1)):\n",
      "    for j in range(num_descriptors):\n",
      "        for i,CID in enumerate(CIDs_leaderboard):\n",
      "            descriptor = perceptual_headers[-21:][j]\n",
      "            value = Y[i*num_subjects + k,j].round(3)\n",
      "            writer.writerow([CID,subject,descriptor,value])\n",
      "f.close()\n",
      "            \n",
      "# Subchallenge 2.\n",
      "Y = Y_leaderboard['mean_std']\n",
      "f,writer = open_prediction_file(2)\n",
      "writer.writerow([\"#oID\",\"descriptor\",\"value\",\"sigma\"])\n",
      "for j in range(num_descriptors):\n",
      "    for i in range(Y.shape[0]):\n",
      "        CID = CIDs[i]\n",
      "        descriptor = perceptual_headers[-num_descriptors:][j]\n",
      "        value = Y[i,j].round(3)\n",
      "        sigma = Y[i,j+num_descriptors].round(3)\n",
      "        writer.writerow([CID,descriptor,value,sigma])\n",
      "f.close()\n",
      "\n",
      "Y = None"
     ],
     "language": "python",
     "metadata": {},
     "outputs": [],
     "prompt_number": 41
    },
    {
     "cell_type": "code",
     "collapsed": false,
     "input": [
      "def plot_(mean,std):\n",
      "    plt.scatter(mean,std)\n",
      "    plt.xlim(0,100)\n",
      "    plt.ylim(0,45)\n",
      "    plt.xlabel('Mean Perceptual Descriptor')\n",
      "    plt.ylabel('StDev of Perceptual Descriptor')\n",
      "\n",
      "# StDev vs Mean for predicted leaderboard data.  \n",
      "plt.subplot(1,2,1)\n",
      "plot_(Y_leaderboard['mean_std'][:,:num_descriptors],Y_leaderboard['mean_std'][:,num_descriptors:])\n",
      "# StDev vs Mean for observed training data.  \n",
      "plt.subplot(1,2,2)\n",
      "plot_(Y_obs['mean'],Y_obs['std'])"
     ],
     "language": "python",
     "metadata": {},
     "outputs": [
      {
       "metadata": {},
       "output_type": "display_data",
       "png": "[encoded data removed]",
       "text": [
        "<matplotlib.figure.Figure at 0x111670e80>"
       ]
      }
     ],
     "prompt_number": 54
    }
   ],
   "metadata": {}
  }
 ]
}