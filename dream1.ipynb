{
 "metadata": {
  "name": "",
  "signature": "sha256:e30b091b431be26a26e6b37176d456edfc1c3887990604af259573bbc04d36f0"
 },
 "nbformat": 3,
 "nbformat_minor": 0,
 "worksheets": [
  {
   "cells": [
    {
     "cell_type": "heading",
     "level": 3,
     "metadata": {},
     "source": [
      "Preliminaries"
     ]
    },
    {
     "cell_type": "code",
     "collapsed": false,
     "input": [
      "# Preliminaries to setup the notebook.  \n",
      "%matplotlib inline\n",
      "%load_ext autoreload\n",
      "%autoreload 2\n",
      "\n",
      "# Import numerical libraries.  \n",
      "import numpy as np\n",
      "import matplotlib.pyplot as plt\n",
      "from scipy.stats import pearsonr\n",
      "from sklearn.ensemble import RandomForestRegressor,ExtraTreesRegressor\n",
      "from sklearn.cross_validation import ShuffleSplit,cross_val_score\n",
      "from sklearn.grid_search import GridSearchCV"
     ],
     "language": "python",
     "metadata": {},
     "outputs": [
      {
       "output_type": "stream",
       "stream": "stdout",
       "text": [
        "The autoreload extension is already loaded. To reload it, use:\n",
        "  %reload_ext autoreload\n"
       ]
      }
     ],
     "prompt_number": 1
    },
    {
     "cell_type": "code",
     "collapsed": false,
     "input": [
      "# Import the file I wrote to load the data from the tab-delimited text files.  \n",
      "import dream\n",
      "import loading\n",
      "import scoring\n",
      "import fit1"
     ],
     "language": "python",
     "metadata": {},
     "outputs": [],
     "prompt_number": 2
    },
    {
     "cell_type": "code",
     "collapsed": false,
     "input": [
      "# Load the perceptual descriptors data.  \n",
      "perceptual_headers, perceptual_obs_data = loading.load_perceptual_data('training')\n",
      "loading.format_leaderboard_perceptual_data()\n",
      "# Show the perceptual metadata types and perceptual descriptor names.\n",
      "print(perceptual_headers)"
     ],
     "language": "python",
     "metadata": {},
     "outputs": [
      {
       "output_type": "stream",
       "stream": "stdout",
       "text": [
        "['Compound Identifier', 'Odor', 'Replicate', 'Intensity', 'Dilution', 'subject #', 'INTENSITY/STRENGTH', 'VALENCE/PLEASANTNESS', 'BAKERY', 'SWEET', 'FRUIT', 'FISH', 'GARLIC', 'SPICES', 'COLD', 'SOUR', 'BURNT', 'ACID', 'WARM', 'MUSKY', 'SWEATY', 'AMMONIA/URINOUS', 'DECAYED', 'WOOD', 'GRASS', 'FLOWER', 'CHEMICAL']\n"
       ]
      }
     ],
     "prompt_number": 3
    },
    {
     "cell_type": "code",
     "collapsed": false,
     "input": [
      "# Show the metadata and perceptual descriptor values for the first compound.\n",
      "print(perceptual_obs_data[1])"
     ],
     "language": "python",
     "metadata": {},
     "outputs": [
      {
       "output_type": "stream",
       "stream": "stdout",
       "text": [
        "['126', '4-Hydroxybenzaldehyde', False, 'high', '1/10', '1', 37, 60, 0, 72, 0, 0, 0, 0, 0, 0, 0, 0, 0, 0, 0, 0, 0, 0, 0, 0, 0]\n"
       ]
      }
     ],
     "prompt_number": 4
    },
    {
     "cell_type": "code",
     "collapsed": false,
     "input": [
      "num_descriptors = len(perceptual_headers[6:])\n",
      "assert num_descriptors == dream.NUM_DESCRIPTORS\n",
      "num_subjects = dream.NUM_SUBJECTS\n",
      "print('There are %d different perceptual descriptors and %d different subjects' % (num_descriptors,num_subjects))"
     ],
     "language": "python",
     "metadata": {},
     "outputs": [
      {
       "output_type": "stream",
       "stream": "stdout",
       "text": [
        "There are 21 different perceptual descriptors and 49 different subjects\n"
       ]
      }
     ],
     "prompt_number": 5
    },
    {
     "cell_type": "code",
     "collapsed": false,
     "input": [
      "# Load the molecular descriptors data.  \n",
      "molecular_headers, molecular_data = loading.load_molecular_data()\n",
      "print(\"First ten molecular descriptor types are %s\" % molecular_headers[:10])\n",
      "print(\"First ten descriptor values for the first compound are %s\" % molecular_data[0][:10])\n",
      "total_size = len(set([int(row[0]) for row in molecular_data]))\n",
      "print(\"We have molecular descriptors for %d unique molecules\" % total_size)"
     ],
     "language": "python",
     "metadata": {},
     "outputs": [
      {
       "output_type": "stream",
       "stream": "stdout",
       "text": [
        "First ten molecular descriptor types are ['CID', 'complexity from pubmed', 'MW', 'AMW', 'Sv', 'Se', 'Sp', 'Si', 'Mv', 'Me']\n",
        "First ten descriptor values for the first compound are ['126', 93.1, 122.13, 8.142, 10.01, 15.305, 10.193, 16.664, 0.667, 1.02]\n",
        "We have molecular descriptors for 476 unique molecules\n"
       ]
      }
     ],
     "prompt_number": 6
    },
    {
     "cell_type": "code",
     "collapsed": false,
     "input": [
      "training_size = len(set([int(row[0]) for row in perceptual_obs_data]))\n",
      "print(\"We have perceptual data for %d unique molecules\" % training_size)\n",
      "remaining_size = total_size - training_size\n",
      "print (\"%d are left out for testing in the competition; half of these (%d) are used for the leaderboard.\" \\\n",
      "       % (remaining_size,remaining_size/2))"
     ],
     "language": "python",
     "metadata": {},
     "outputs": [
      {
       "output_type": "stream",
       "stream": "stdout",
       "text": [
        "We have perceptual data for 338 unique molecules\n",
        "138 are left out for testing in the competition; half of these (69) are used for the leaderboard.\n"
       ]
      }
     ],
     "prompt_number": 7
    },
    {
     "cell_type": "code",
     "collapsed": false,
     "input": [
      "print(\"There are %d rows in the perceptual data set (at least one for each subject and molecule)\" % len(perceptual_obs_data))\n",
      "print(\"%d of these are replicates (same subject and molecules)\" % sum([x[2] for x in perceptual_obs_data]))"
     ],
     "language": "python",
     "metadata": {},
     "outputs": [
      {
       "output_type": "stream",
       "stream": "stdout",
       "text": [
        "There are 35084 rows in the perceptual data set (at least one for each subject and molecule)\n",
        "1960 of these are replicates (same subject and molecules)\n"
       ]
      }
     ],
     "prompt_number": 8
    },
    {
     "cell_type": "heading",
     "level": 3,
     "metadata": {},
     "source": [
      "Create Molecular Matrix"
     ]
    },
    {
     "cell_type": "code",
     "collapsed": false,
     "input": [
      "X_training,good1,good2,means,stds,imputer = dream.make_X(molecular_data,\"training\")\n",
      "X_training.shape"
     ],
     "language": "python",
     "metadata": {},
     "outputs": [
      {
       "output_type": "stream",
       "stream": "stdout",
       "text": [
        "Getting CIDs and dilutions...\n",
        "Getting basic molecular data..."
       ]
      },
      {
       "output_type": "stream",
       "stream": "stdout",
       "text": [
        "\n",
        "Adding dilution data..."
       ]
      },
      {
       "output_type": "stream",
       "stream": "stdout",
       "text": [
        "\n",
        "There are now 676 molecular vectors of length 4871, one for each molecule and dilution\n",
        "Building a matrix...\n",
        "The X matrix has shape (676x4871) (molecules by molecular descriptors)"
       ]
      },
      {
       "output_type": "stream",
       "stream": "stdout",
       "text": [
        "\n",
        "Purging data with too many NaNs...\n",
        "The X matrix has shape (676x4871) (molecules by good molecular descriptors)\n",
        "Imputing remaining NaN data..."
       ]
      },
      {
       "output_type": "stream",
       "stream": "stdout",
       "text": [
        "\n",
        "The X matrix now has shape (676x4871) (molecules by non-NaN good molecular descriptors)"
       ]
      },
      {
       "output_type": "stream",
       "stream": "stdout",
       "text": [
        "\n",
        "Purging data that is still bad, if any...\n",
        "The X matrix has shape (676x3033) (molecules by good molecular descriptors)\n",
        "Normalizing data for fitting...\n",
        "The X matrix now has shape (676x3033) molecules by non-NaN good molecular descriptors"
       ]
      },
      {
       "output_type": "stream",
       "stream": "stdout",
       "text": [
        "\n"
       ]
      },
      {
       "metadata": {},
       "output_type": "pyout",
       "prompt_number": 9,
       "text": [
        "(676, 3033)"
       ]
      }
     ],
     "prompt_number": 9
    },
    {
     "cell_type": "code",
     "collapsed": false,
     "input": [
      "X_leaderboard_other,good1,good2,means,stds,imputer = dream.make_X(molecular_data,\"leaderboard\",target_dilution='high',good1=good1,good2=good2,means=means,stds=stds)\n",
      "X_leaderboard_other.shape"
     ],
     "language": "python",
     "metadata": {},
     "outputs": [
      {
       "output_type": "stream",
       "stream": "stdout",
       "text": [
        "Getting CIDs and dilutions...\n",
        "Getting basic molecular data...\n",
        "Adding dilution data..."
       ]
      },
      {
       "output_type": "stream",
       "stream": "stdout",
       "text": [
        "\n",
        "There are now 69 molecular vectors of length 4871, one for each molecule and dilution\n",
        "Building a matrix...\n",
        "The X matrix has shape (69x4871) (molecules by molecular descriptors)\n",
        "Purging data with too many NaNs...\n",
        "The X matrix has shape (69x4871) (molecules by good molecular descriptors)\n",
        "Imputing remaining NaN data...\n",
        "The X matrix now has shape (69x4871) (molecules by non-NaN good molecular descriptors)\n",
        "Purging data that is still bad, if any...\n",
        "The X matrix has shape (69x3033) (molecules by good molecular descriptors)\n",
        "Normalizing data for fitting...\n",
        "The X matrix now has shape (69x3033) molecules by non-NaN good molecular descriptors\n"
       ]
      },
      {
       "metadata": {},
       "output_type": "pyout",
       "prompt_number": 10,
       "text": [
        "(69, 3033)"
       ]
      }
     ],
     "prompt_number": 10
    },
    {
     "cell_type": "code",
     "collapsed": false,
     "input": [
      "X_leaderboard_int,good1,good2,means,stds,imputer = dream.make_X(molecular_data,\"leaderboard\",target_dilution=-3,good1=good1,good2=good2,means=means,stds=stds)\n",
      "X_leaderboard_int.shape"
     ],
     "language": "python",
     "metadata": {},
     "outputs": [
      {
       "output_type": "stream",
       "stream": "stdout",
       "text": [
        "Getting CIDs and dilutions...\n",
        "Getting basic molecular data...\n",
        "Adding dilution data..."
       ]
      },
      {
       "output_type": "stream",
       "stream": "stdout",
       "text": [
        "\n",
        "There are now 69 molecular vectors of length 4871, one for each molecule and dilution\n",
        "Building a matrix...\n",
        "The X matrix has shape (69x4871) (molecules by molecular descriptors)\n",
        "Purging data with too many NaNs...\n",
        "The X matrix has shape (69x4871) (molecules by good molecular descriptors)\n",
        "Imputing remaining NaN data...\n",
        "The X matrix now has shape (69x4871) (molecules by non-NaN good molecular descriptors)\n",
        "Purging data that is still bad, if any...\n",
        "The X matrix has shape (69x3033) (molecules by good molecular descriptors)\n",
        "Normalizing data for fitting...\n",
        "The X matrix now has shape (69x3033) molecules by non-NaN good molecular descriptors\n"
       ]
      },
      {
       "metadata": {},
       "output_type": "pyout",
       "prompt_number": 11,
       "text": [
        "(69, 3033)"
       ]
      }
     ],
     "prompt_number": 11
    },
    {
     "cell_type": "code",
     "collapsed": false,
     "input": [
      "X_testset_other,good1,good2,means,stds,imputer = dream.make_X(molecular_data,\"testset\",target_dilution='high',good1=good1,good2=good2,means=means,stds=stds)\n",
      "X_testset_other.shape"
     ],
     "language": "python",
     "metadata": {},
     "outputs": [
      {
       "output_type": "stream",
       "stream": "stdout",
       "text": [
        "Getting CIDs and dilutions...\n",
        "Getting basic molecular data...\n",
        "Adding dilution data..."
       ]
      },
      {
       "output_type": "stream",
       "stream": "stdout",
       "text": [
        "\n",
        "There are now 69 molecular vectors of length 4871, one for each molecule and dilution\n",
        "Building a matrix...\n",
        "The X matrix has shape (69x4871) (molecules by molecular descriptors)\n",
        "Purging data with too many NaNs...\n",
        "The X matrix has shape (69x4871) (molecules by good molecular descriptors)\n",
        "Imputing remaining NaN data...\n",
        "The X matrix now has shape (69x4871) (molecules by non-NaN good molecular descriptors)\n",
        "Purging data that is still bad, if any...\n",
        "The X matrix has shape (69x3033) (molecules by good molecular descriptors)\n",
        "Normalizing data for fitting...\n",
        "The X matrix now has shape (69x3033) molecules by non-NaN good molecular descriptors\n"
       ]
      },
      {
       "metadata": {},
       "output_type": "pyout",
       "prompt_number": 12,
       "text": [
        "(69, 3033)"
       ]
      }
     ],
     "prompt_number": 12
    },
    {
     "cell_type": "code",
     "collapsed": false,
     "input": [
      "X_testset_int,good1,good2,means,stds,imputer = dream.make_X(molecular_data,\"testset\",target_dilution=-3,good1=good1,good2=good2,means=means,stds=stds)\n",
      "X_testset_int.shape"
     ],
     "language": "python",
     "metadata": {},
     "outputs": [
      {
       "output_type": "stream",
       "stream": "stdout",
       "text": [
        "Getting CIDs and dilutions...\n",
        "Getting basic molecular data...\n",
        "Adding dilution data..."
       ]
      },
      {
       "output_type": "stream",
       "stream": "stdout",
       "text": [
        "\n",
        "There are now 69 molecular vectors of length 4871, one for each molecule and dilution\n",
        "Building a matrix...\n",
        "The X matrix has shape (69x4871) (molecules by molecular descriptors)\n",
        "Purging data with too many NaNs...\n",
        "The X matrix has shape (69x4871) (molecules by good molecular descriptors)\n",
        "Imputing remaining NaN data...\n",
        "The X matrix now has shape (69x4871) (molecules by non-NaN good molecular descriptors)\n",
        "Purging data that is still bad, if any...\n",
        "The X matrix has shape (69x3033) (molecules by good molecular descriptors)\n",
        "Normalizing data for fitting...\n",
        "The X matrix now has shape (69x3033) molecules by non-NaN good molecular descriptors\n"
       ]
      },
      {
       "metadata": {},
       "output_type": "pyout",
       "prompt_number": 13,
       "text": [
        "(69, 3033)"
       ]
      }
     ],
     "prompt_number": 13
    },
    {
     "cell_type": "code",
     "collapsed": false,
     "input": [
      "X_all,good1,good2,means,stds,imputer = dream.make_X(molecular_data,[\"training\",\"leaderboard\"],good1=good1,good2=good2,means=means,stds=stds)\n",
      "X_all.shape"
     ],
     "language": "python",
     "metadata": {},
     "outputs": [
      {
       "output_type": "stream",
       "stream": "stdout",
       "text": [
        "Getting CIDs and dilutions...\n",
        "Getting basic molecular data..."
       ]
      },
      {
       "output_type": "stream",
       "stream": "stdout",
       "text": [
        "\n",
        "Adding dilution data..."
       ]
      },
      {
       "output_type": "stream",
       "stream": "stdout",
       "text": [
        "\n",
        "There are now 814 molecular vectors of length 4871, one for each molecule and dilution\n",
        "Building a matrix...\n",
        "The X matrix has shape (814x4871) (molecules by molecular descriptors)\n",
        "Purging data with too many NaNs...\n",
        "The X matrix has shape (814x4871) (molecules by good molecular descriptors)"
       ]
      },
      {
       "output_type": "stream",
       "stream": "stdout",
       "text": [
        "\n",
        "Imputing remaining NaN data...\n",
        "The X matrix now has shape (814x4871) (molecules by non-NaN good molecular descriptors)"
       ]
      },
      {
       "output_type": "stream",
       "stream": "stdout",
       "text": [
        "\n",
        "Purging data that is still bad, if any...\n",
        "The X matrix has shape (814x3033) (molecules by good molecular descriptors)\n",
        "Normalizing data for fitting...\n",
        "The X matrix now has shape (814x3033) molecules by non-NaN good molecular descriptors"
       ]
      },
      {
       "output_type": "stream",
       "stream": "stdout",
       "text": [
        "\n"
       ]
      },
      {
       "metadata": {},
       "output_type": "pyout",
       "prompt_number": 14,
       "text": [
        "(814, 3033)"
       ]
      }
     ],
     "prompt_number": 14
    },
    {
     "cell_type": "code",
     "collapsed": false,
     "input": [
      "Y_training,imputer = dream.make_Y_obs('training',target_dilution=None,imputer='median')"
     ],
     "language": "python",
     "metadata": {},
     "outputs": [
      {
       "output_type": "stream",
       "stream": "stdout",
       "text": [
        "Getting basic perceptual data...\n",
        "Flattening into vectors..."
       ]
      },
      {
       "output_type": "stream",
       "stream": "stdout",
       "text": [
        "\n",
        "Assembling into matrices..."
       ]
      },
      {
       "output_type": "stream",
       "stream": "stdout",
       "text": [
        "\n",
        "Y_obs['subject'] contains 49 matrices each with shape (676x21) (molecules by perceptual descriptors)"
       ]
      },
      {
       "output_type": "stream",
       "stream": "stdout",
       "text": [
        "\n",
        "The Y_obs['mean_std'] matrix has shape (676x42) (molecules by 2 x perceptual descriptors)\n",
        "Combining Y matrices...\n",
        "The Y['mean_std'] matrix now has shape (676x42) molecules by 2 x perceptual descriptors\n",
        "The Y['subject'] dict now has 49 matrices of shape (676x21) molecules by perceptual descriptors, one for each subject\n"
       ]
      }
     ],
     "prompt_number": 15
    },
    {
     "cell_type": "code",
     "collapsed": false,
     "input": [
      "Y_leaderboard,imputer = dream.make_Y_obs('leaderboard',target_dilution='gold',imputer='mask')"
     ],
     "language": "python",
     "metadata": {},
     "outputs": [
      {
       "output_type": "stream",
       "stream": "stdout",
       "text": [
        "Getting basic perceptual data...\n",
        "Flattening into vectors..."
       ]
      },
      {
       "output_type": "stream",
       "stream": "stdout",
       "text": [
        "\n",
        "Assembling into matrices..."
       ]
      },
      {
       "output_type": "stream",
       "stream": "stdout",
       "text": [
        "\n",
        "Y_obs['subject'] contains 49 matrices each with shape (69x21) (molecules by perceptual descriptors)"
       ]
      },
      {
       "output_type": "stream",
       "stream": "stdout",
       "text": [
        "\n",
        "The Y_obs['mean_std'] matrix has shape (69x42) (molecules by 2 x perceptual descriptors)\n",
        "Combining Y matrices...\n",
        "The Y['mean_std'] matrix now has shape (69x42) molecules by 2 x perceptual descriptors\n",
        "The Y['subject'] dict now has 49 matrices of shape (69x21) molecules by perceptual descriptors, one for each subject\n",
        "Getting basic perceptual data..."
       ]
      },
      {
       "output_type": "stream",
       "stream": "stdout",
       "text": [
        "\n",
        "Flattening into vectors..."
       ]
      },
      {
       "output_type": "stream",
       "stream": "stdout",
       "text": [
        "\n",
        "Assembling into matrices..."
       ]
      },
      {
       "output_type": "stream",
       "stream": "stdout",
       "text": [
        "\n",
        "Y_obs['subject'] contains 49 matrices each with shape (69x21) (molecules by perceptual descriptors)"
       ]
      },
      {
       "output_type": "stream",
       "stream": "stdout",
       "text": [
        "\n",
        "The Y_obs['mean_std'] matrix has shape (69x42) (molecules by 2 x perceptual descriptors)\n",
        "Combining Y matrices...\n",
        "The Y['mean_std'] matrix now has shape (69x42) molecules by 2 x perceptual descriptors\n",
        "The Y['subject'] dict now has 49 matrices of shape (69x21) molecules by perceptual descriptors, one for each subject\n"
       ]
      }
     ],
     "prompt_number": 16
    },
    {
     "cell_type": "code",
     "collapsed": false,
     "input": [
      "Y_all_imp,imputer = dream.make_Y_obs(['training','leaderboard'],target_dilution=None,imputer='median')"
     ],
     "language": "python",
     "metadata": {},
     "outputs": [
      {
       "output_type": "stream",
       "stream": "stdout",
       "text": [
        "Getting basic perceptual data...\n",
        "Flattening into vectors..."
       ]
      },
      {
       "output_type": "stream",
       "stream": "stdout",
       "text": [
        "\n",
        "Assembling into matrices..."
       ]
      },
      {
       "output_type": "stream",
       "stream": "stdout",
       "text": [
        "\n",
        "Y_obs['subject'] contains 49 matrices each with shape (676x21) (molecules by perceptual descriptors)"
       ]
      },
      {
       "output_type": "stream",
       "stream": "stdout",
       "text": [
        "\n",
        "The Y_obs['mean_std'] matrix has shape (676x42) (molecules by 2 x perceptual descriptors)\n",
        "Getting basic perceptual data..."
       ]
      },
      {
       "output_type": "stream",
       "stream": "stdout",
       "text": [
        "\n",
        "Flattening into vectors..."
       ]
      },
      {
       "output_type": "stream",
       "stream": "stdout",
       "text": [
        "\n",
        "Assembling into matrices..."
       ]
      },
      {
       "output_type": "stream",
       "stream": "stdout",
       "text": [
        "\n",
        "Y_obs['subject'] contains 49 matrices each with shape (138x21) (molecules by perceptual descriptors)"
       ]
      },
      {
       "output_type": "stream",
       "stream": "stdout",
       "text": [
        "\n",
        "The Y_obs['mean_std'] matrix has shape (138x42) (molecules by 2 x perceptual descriptors)\n",
        "Combining Y matrices...\n",
        "The Y['mean_std'] matrix now has shape (814x42) molecules by 2 x perceptual descriptors\n",
        "The Y['subject'] dict now has 49 matrices of shape (814x21) molecules by perceptual descriptors, one for each subject\n"
       ]
      }
     ],
     "prompt_number": 17
    },
    {
     "cell_type": "heading",
     "level": 3,
     "metadata": {},
     "source": [
      "Data preparation"
     ]
    },
    {
     "cell_type": "code",
     "collapsed": false,
     "input": [
      "# Show the range of values for the molecular and perceptual descriptors.  \n",
      "plt.hist(X_training.ravel())\n",
      "plt.yscale('log')\n",
      "plt.ylabel('Count')\n",
      "plt.xlabel('Cube root transformed, N(0,1) normalized molecular descriptor values')\n",
      "plt.figure()\n",
      "plt.hist(np.dstack([Y_training['subject'][subject] for subject in range(1,50)]).ravel())\n",
      "plt.yscale('log')\n",
      "plt.ylabel('Count')\n",
      "plt.xlabel('Perceptual descriptor values')"
     ],
     "language": "python",
     "metadata": {},
     "outputs": [
      {
       "metadata": {},
       "output_type": "pyout",
       "prompt_number": 18,
       "text": [
        "<matplotlib.text.Text at 0x11019d470>"
       ]
      },
      {
       "metadata": {},
       "output_type": "display_data",
       "png": "[encoded data removed]",
       "text": [
        "<matplotlib.figure.Figure at 0x1045bc7b8>"
       ]
      },
      {
       "metadata": {},
       "output_type": "display_data",
       "png": "[encoded data removed]",
       "text": [
        "<matplotlib.figure.Figure at 0x11006a278>"
       ]
      }
     ],
     "prompt_number": 18
    },
    {
     "cell_type": "heading",
     "level": 2,
     "metadata": {},
     "source": [
      "Fitting and Generating Submission Files"
     ]
    },
    {
     "cell_type": "code",
     "collapsed": false,
     "input": [
      "write = False # Set to True to actually generate the prediction files.  \n",
      "n_estimators = 5 # Set this to a high number (e.g. 100) to get a good fit.  \n",
      "\n",
      "# Best parameters, determined independently.  \n",
      "max_features = {'int':None,\n",
      "                'ple':100,\n",
      "                'dec':500}\n",
      "min_samples_leaf = {'int':1,\n",
      "                'ple':1,\n",
      "                'dec':1}\n",
      "max_depth = {'int':None,\n",
      "                'ple':10,\n",
      "                'dec':10}\n",
      "et = {'int':True,\n",
      "      'ple':False,\n",
      "      'dec':False,}"
     ],
     "language": "python",
     "metadata": {},
     "outputs": [],
     "prompt_number": 19
    },
    {
     "cell_type": "code",
     "collapsed": false,
     "input": [
      "# Fit training data.  \n",
      "rfcs_leaderboard,score,rs = fit1.rfc_final(X_training,Y_training['subject'],\n",
      "                            max_features,min_samples_leaf,max_depth,et,\n",
      "                            n_estimators=n_estimators)"
     ],
     "language": "python",
     "metadata": {},
     "outputs": [
      {
       "output_type": "stream",
       "stream": "stderr",
       "text": [
        "/Users/rgerkin/Dropbox/python3/lib/python3.4/site-packages/sklearn/ensemble/forest.py:659: UserWarning: Some inputs do not have OOB scores. This probably means too few trees were used to compute any reliable oob estimates.\n",
        "  warn(\"Some inputs do not have OOB scores. \"\n",
        "/Users/rgerkin/Dropbox/python3/lib/python3.4/site-packages/numpy/ma/core.py:3895: UserWarning: Warning: converting a masked element to nan.\n",
        "  warnings.warn(\"Warning: converting a masked element to nan.\")\n"
       ]
      },
      {
       "output_type": "stream",
       "stream": "stdout",
       "text": [
        "For subchallenge 1:\n",
        "\tScore = 27.43\n",
        "\tint = 0.887\n",
        "\tple = 0.150\n",
        "\tdec = 0.111\n"
       ]
      }
     ],
     "prompt_number": 20
    },
    {
     "cell_type": "code",
     "collapsed": false,
     "input": [
      "_ = loading.make_prediction_files(rfcs_leaderboard,X_leaderboard_int,X_leaderboard_other,'leaderboard',1,Y_test=Y_leaderboard,write=write)\n",
      "print(_['subject'][1]) # Print values for subject 1 to make sure it looks right.  "
     ],
     "language": "python",
     "metadata": {},
     "outputs": [
      {
       "output_type": "stream",
       "stream": "stdout",
       "text": [
        "Score: 9.473727; rs = 0.422,0.027,0.018\n",
        "[[ 61.30571429  41.22867132   3.27269656 ...,   1.04506547   3.19810344\n",
        "   17.89195762]\n",
        " [ 62.17142857  49.14126216   3.04245247 ...,   1.62317892   3.82519309\n",
        "   17.18052356]\n",
        " [ 31.86571429  36.08528595   2.05324541 ...,   2.3543785    1.55980426\n",
        "    7.13952384]\n",
        " ..., \n",
        " [ 30.7         47.63703502   0.96839807 ...,   2.02679391   4.62658596\n",
        "    6.15780943]\n",
        " [ 48.43714286  42.40291174   1.59317822 ...,   1.17284781   5.81628159\n",
        "   23.15853253]\n",
        " [ 45.38571429  49.98025533   1.15801716 ...,   1.81916087   5.55780835\n",
        "    8.94279917]]\n"
       ]
      },
      {
       "output_type": "stream",
       "stream": "stderr",
       "text": [
        "/Users/rgerkin/Dropbox/python3/lib/python3.4/site-packages/numpy/ma/core.py:785: RuntimeWarning: invalid value encountered in greater_equal\n",
        "  return umath.absolute(a) * self.tolerance >= umath.absolute(b)\n",
        "/Users/rgerkin/Dropbox/python3/lib/python3.4/site-packages/numpy/ma/core.py:809: RuntimeWarning: invalid value encountered in less\n",
        "  return umath.less(x, self.critical_value)\n"
       ]
      }
     ],
     "prompt_number": 21
    },
    {
     "cell_type": "code",
     "collapsed": false,
     "input": [
      "rfcs,score,rs = fit1.rfc_final(X_all,Y_all_imp['subject'],\n",
      "                            max_features,min_samples_leaf,max_depth,et,\n",
      "                            n_estimators=n_estimators)"
     ],
     "language": "python",
     "metadata": {},
     "outputs": [
      {
       "output_type": "stream",
       "stream": "stdout",
       "text": [
        "For subchallenge 1:\n",
        "\tScore = 27.79\n",
        "\tint = 0.886\n",
        "\tple = 0.147\n",
        "\tdec = 0.116\n"
       ]
      }
     ],
     "prompt_number": 22
    },
    {
     "cell_type": "code",
     "collapsed": false,
     "input": [
      "_ = loading.make_prediction_files(rfcs,X_testset_int,X_testset_other,'testset',1,write=False)\n",
      "print(_['subject'][1]) # Print values for subject 1 to make sure it looks right. "
     ],
     "language": "python",
     "metadata": {},
     "outputs": [
      {
       "output_type": "stream",
       "stream": "stdout",
       "text": [
        "[[ 19.34857143  46.87608466   2.49123328 ...,   1.5933273    1.20219827\n",
        "    7.97113804]\n",
        " [ 23.26857143  39.34267665   1.50932108 ...,   0.95087087   1.49090425\n",
        "   12.61482136]\n",
        " [ 60.53428571  39.07388414   0.89508635 ...,   0.93852366   2.34727968\n",
        "    7.15642564]\n",
        " ..., \n",
        " [ 54.06285714  47.78852198   2.09651506 ...,   3.16014618   6.79322277\n",
        "   11.43287557]\n",
        " [ 28.99142857  49.29082103   1.07334435 ...,   1.86724835   4.9241169\n",
        "    7.60654411]\n",
        " [ 33.04857143  42.34587062   1.42717897 ...,   3.32942091   4.96922742\n",
        "   33.12202533]]\n"
       ]
      }
     ],
     "prompt_number": 23
    }
   ],
   "metadata": {}
  }
 ]
}
