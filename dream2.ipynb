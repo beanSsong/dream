{
 "metadata": {
  "name": "",
  "signature": "sha256:557f44fc9560bc4bed4a3a338d50896473f5a01821a4a6ed2f0fdcd0de2019d4"
 },
 "nbformat": 3,
 "nbformat_minor": 0,
 "worksheets": [
  {
   "cells": [
    {
     "cell_type": "heading",
     "level": 3,
     "metadata": {},
     "source": [
      "Preliminaries"
     ]
    },
    {
     "cell_type": "code",
     "collapsed": false,
     "input": [
      "# Preliminaries to setup the notebook.  \n",
      "%matplotlib inline\n",
      "%load_ext autoreload\n",
      "%autoreload 2\n",
      "\n",
      "# Import numerical libraries.  \n",
      "import numpy as np\n",
      "import matplotlib.pyplot as plt\n",
      "from scipy.stats import pearsonr\n",
      "from sklearn.ensemble import RandomForestRegressor,ExtraTreesRegressor\n",
      "from sklearn.cross_validation import ShuffleSplit,cross_val_score\n",
      "from sklearn.grid_search import GridSearchCV"
     ],
     "language": "python",
     "metadata": {},
     "outputs": [],
     "prompt_number": 1
    },
    {
     "cell_type": "code",
     "collapsed": false,
     "input": [
      "# Import the file I wrote to load the data from the tab-delimited text files.  \n",
      "import dream\n",
      "import loading\n",
      "import scoring"
     ],
     "language": "python",
     "metadata": {},
     "outputs": [],
     "prompt_number": 2
    },
    {
     "cell_type": "code",
     "collapsed": false,
     "input": [
      "# Load the perceptual descriptors data.  \n",
      "perceptual_headers, perceptual_obs_data = loading.load_perceptual_data('training')\n",
      "loading.format_leaderboard_perceptual_data()\n",
      "# Show the perceptual metadata types and perceptual descriptor names.\n",
      "print(perceptual_headers)"
     ],
     "language": "python",
     "metadata": {},
     "outputs": [
      {
       "output_type": "stream",
       "stream": "stdout",
       "text": [
        "['Compound Identifier', 'Odor', 'Replicate', 'Intensity', 'Dilution', 'subject #', 'INTENSITY/STRENGTH', 'VALENCE/PLEASANTNESS', 'BAKERY', 'SWEET', 'FRUIT', 'FISH', 'GARLIC', 'SPICES', 'COLD', 'SOUR', 'BURNT', 'ACID', 'WARM', 'MUSKY', 'SWEATY', 'AMMONIA/URINOUS', 'DECAYED', 'WOOD', 'GRASS', 'FLOWER', 'CHEMICAL']\n"
       ]
      }
     ],
     "prompt_number": 3
    },
    {
     "cell_type": "code",
     "collapsed": false,
     "input": [
      "# Show the metadata and perceptual descriptor values for the first compound.\n",
      "print(perceptual_obs_data[1])"
     ],
     "language": "python",
     "metadata": {},
     "outputs": [
      {
       "output_type": "stream",
       "stream": "stdout",
       "text": [
        "['126', '4-Hydroxybenzaldehyde', False, 'high', '1/10', '1', 37, 60, 0, 72, 0, 0, 0, 0, 0, 0, 0, 0, 0, 0, 0, 0, 0, 0, 0, 0, 0]\n"
       ]
      }
     ],
     "prompt_number": 4
    },
    {
     "cell_type": "code",
     "collapsed": false,
     "input": [
      "num_descriptors = len(perceptual_headers[6:])\n",
      "num_subjects = 49\n",
      "print('There are %d different perceptual descriptors and %d different subjects' % (num_descriptors,num_subjects))"
     ],
     "language": "python",
     "metadata": {},
     "outputs": [
      {
       "output_type": "stream",
       "stream": "stdout",
       "text": [
        "There are 21 different perceptual descriptors and 49 different subjects\n"
       ]
      }
     ],
     "prompt_number": 5
    },
    {
     "cell_type": "code",
     "collapsed": false,
     "input": [
      "# Load the molecular descriptors data.  \n",
      "molecular_headers, molecular_data = loading.load_molecular_data()\n",
      "print(\"First ten molecular descriptor types are %s\" % molecular_headers[:10])\n",
      "print(\"First ten descriptor values for the first compound are %s\" % molecular_data[0][:10])\n",
      "total_size = len(set([int(row[0]) for row in molecular_data]))\n",
      "print(\"We have molecular descriptors for %d unique molecules\" % total_size)"
     ],
     "language": "python",
     "metadata": {},
     "outputs": [
      {
       "output_type": "stream",
       "stream": "stdout",
       "text": [
        "First ten molecular descriptor types are ['CID', 'complexity from pubmed', 'MW', 'AMW', 'Sv', 'Se', 'Sp', 'Si', 'Mv', 'Me']\n",
        "First ten descriptor values for the first compound are ['126', 93.1, 122.13, 8.142, 10.01, 15.305, 10.193, 16.664, 0.667, 1.02]\n",
        "We have molecular descriptors for 476 unique molecules\n"
       ]
      }
     ],
     "prompt_number": 6
    },
    {
     "cell_type": "code",
     "collapsed": false,
     "input": [
      "training_size = len(set([int(row[0]) for row in perceptual_obs_data]))\n",
      "print(\"We have perceptual data for %d unique molecules\" % training_size)\n",
      "remaining_size = total_size - training_size\n",
      "print (\"%d are left out for testing in the competition; half of these (%d) are used for the leaderboard.\" \\\n",
      "       % (remaining_size,remaining_size/2))"
     ],
     "language": "python",
     "metadata": {},
     "outputs": [
      {
       "output_type": "stream",
       "stream": "stdout",
       "text": [
        "We have perceptual data for 338 unique molecules\n",
        "138 are left out for testing in the competition; half of these (69) are used for the leaderboard.\n"
       ]
      }
     ],
     "prompt_number": 7
    },
    {
     "cell_type": "code",
     "collapsed": false,
     "input": [
      "print(\"There are %d rows in the perceptual data set (at least one for each subject and molecule)\" % len(perceptual_obs_data))\n",
      "print(\"%d of these are replicates (same subject and molecules)\" % sum([x[2] for x in perceptual_obs_data]))"
     ],
     "language": "python",
     "metadata": {},
     "outputs": [
      {
       "output_type": "stream",
       "stream": "stdout",
       "text": [
        "There are 35084 rows in the perceptual data set (at least one for each subject and molecule)\n",
        "1960 of these are replicates (same subject and molecules)\n"
       ]
      }
     ],
     "prompt_number": 8
    },
    {
     "cell_type": "heading",
     "level": 3,
     "metadata": {},
     "source": [
      "Create Molecular Matrix"
     ]
    },
    {
     "cell_type": "code",
     "collapsed": false,
     "input": [
      "X_training,good1,good2,means,stds,imputer = dream.make_X(molecular_data,\"training\")\n",
      "X_training.shape"
     ],
     "language": "python",
     "metadata": {},
     "outputs": [
      {
       "output_type": "stream",
       "stream": "stdout",
       "text": [
        "Getting CIDs and dilutions...\n",
        "Getting basic molecular data..."
       ]
      },
      {
       "output_type": "stream",
       "stream": "stdout",
       "text": [
        "\n",
        "Adding dilution data..."
       ]
      },
      {
       "output_type": "stream",
       "stream": "stdout",
       "text": [
        "\n",
        "There are now 676 molecular vectors of length 4871, one for each molecule and dilution\n",
        "Building a matrix...\n",
        "The X matrix has shape (676x4871) (molecules by molecular descriptors)\n",
        "Purging data with too many NaNs...\n",
        "The X matrix has shape (676x4871) (molecules by good molecular descriptors)"
       ]
      },
      {
       "output_type": "stream",
       "stream": "stdout",
       "text": [
        "\n",
        "Imputing remaining NaN data...\n",
        "The X matrix now has shape (676x4871) (molecules by non-NaN good molecular descriptors)"
       ]
      },
      {
       "output_type": "stream",
       "stream": "stdout",
       "text": [
        "\n",
        "Purging data that is still bad, if any...\n",
        "The X matrix has shape (676x3033) (molecules by good molecular descriptors)\n",
        "Normalizing data for fitting...\n",
        "The X matrix now has shape (676x3033) molecules by non-NaN good molecular descriptors"
       ]
      },
      {
       "output_type": "stream",
       "stream": "stdout",
       "text": [
        "\n"
       ]
      },
      {
       "metadata": {},
       "output_type": "pyout",
       "prompt_number": 9,
       "text": [
        "(676, 3033)"
       ]
      }
     ],
     "prompt_number": 9
    },
    {
     "cell_type": "code",
     "collapsed": false,
     "input": [
      "X_leaderboard_other,good1,good2,means,stds,imputer = dream.make_X(molecular_data,\"leaderboard\",target_dilution='high',good1=good1,good2=good2,means=means,stds=stds)\n",
      "X_leaderboard_other.shape"
     ],
     "language": "python",
     "metadata": {},
     "outputs": [
      {
       "output_type": "stream",
       "stream": "stdout",
       "text": [
        "Getting CIDs and dilutions...\n",
        "Getting basic molecular data...\n",
        "Adding dilution data..."
       ]
      },
      {
       "output_type": "stream",
       "stream": "stdout",
       "text": [
        "\n",
        "There are now 69 molecular vectors of length 4871, one for each molecule and dilution\n",
        "Building a matrix...\n",
        "The X matrix has shape (69x4871) (molecules by molecular descriptors)\n",
        "Purging data with too many NaNs...\n",
        "The X matrix has shape (69x4871) (molecules by good molecular descriptors)\n",
        "Imputing remaining NaN data...\n",
        "The X matrix now has shape (69x4871) (molecules by non-NaN good molecular descriptors)\n",
        "Purging data that is still bad, if any...\n",
        "The X matrix has shape (69x3033) (molecules by good molecular descriptors)\n",
        "Normalizing data for fitting...\n",
        "The X matrix now has shape (69x3033) molecules by non-NaN good molecular descriptors\n"
       ]
      },
      {
       "metadata": {},
       "output_type": "pyout",
       "prompt_number": 10,
       "text": [
        "(69, 3033)"
       ]
      }
     ],
     "prompt_number": 10
    },
    {
     "cell_type": "code",
     "collapsed": false,
     "input": [
      "X_leaderboard_int,good1,good2,means,stds,imputer = dream.make_X(molecular_data,\"leaderboard\",target_dilution=-3,good1=good1,good2=good2,means=means,stds=stds)\n",
      "X_leaderboard_int.shape"
     ],
     "language": "python",
     "metadata": {},
     "outputs": [
      {
       "output_type": "stream",
       "stream": "stdout",
       "text": [
        "Getting CIDs and dilutions...\n",
        "Getting basic molecular data...\n",
        "Adding dilution data..."
       ]
      },
      {
       "output_type": "stream",
       "stream": "stdout",
       "text": [
        "\n",
        "There are now 69 molecular vectors of length 4871, one for each molecule and dilution\n",
        "Building a matrix...\n",
        "The X matrix has shape (69x4871) (molecules by molecular descriptors)\n",
        "Purging data with too many NaNs...\n",
        "The X matrix has shape (69x4871) (molecules by good molecular descriptors)\n",
        "Imputing remaining NaN data...\n",
        "The X matrix now has shape (69x4871) (molecules by non-NaN good molecular descriptors)\n",
        "Purging data that is still bad, if any...\n",
        "The X matrix has shape (69x3033) (molecules by good molecular descriptors)\n",
        "Normalizing data for fitting...\n",
        "The X matrix now has shape (69x3033) molecules by non-NaN good molecular descriptors\n"
       ]
      },
      {
       "metadata": {},
       "output_type": "pyout",
       "prompt_number": 11,
       "text": [
        "(69, 3033)"
       ]
      }
     ],
     "prompt_number": 11
    },
    {
     "cell_type": "code",
     "collapsed": false,
     "input": [
      "X_testset_other,good1,good2,means,stds,imputer = dream.make_X(molecular_data,\"testset\",target_dilution='high',good1=good1,good2=good2,means=means,stds=stds)\n",
      "X_testset_other.shape"
     ],
     "language": "python",
     "metadata": {},
     "outputs": [
      {
       "output_type": "stream",
       "stream": "stdout",
       "text": [
        "Getting CIDs and dilutions...\n",
        "Getting basic molecular data...\n",
        "Adding dilution data..."
       ]
      },
      {
       "output_type": "stream",
       "stream": "stdout",
       "text": [
        "\n",
        "There are now 69 molecular vectors of length 4871, one for each molecule and dilution\n",
        "Building a matrix...\n",
        "The X matrix has shape (69x4871) (molecules by molecular descriptors)\n",
        "Purging data with too many NaNs...\n",
        "The X matrix has shape (69x4871) (molecules by good molecular descriptors)\n",
        "Imputing remaining NaN data...\n",
        "The X matrix now has shape (69x4871) (molecules by non-NaN good molecular descriptors)\n",
        "Purging data that is still bad, if any...\n",
        "The X matrix has shape (69x3033) (molecules by good molecular descriptors)\n",
        "Normalizing data for fitting...\n",
        "The X matrix now has shape (69x3033) molecules by non-NaN good molecular descriptors\n"
       ]
      },
      {
       "metadata": {},
       "output_type": "pyout",
       "prompt_number": 52,
       "text": [
        "(69, 3033)"
       ]
      }
     ],
     "prompt_number": 52
    },
    {
     "cell_type": "code",
     "collapsed": false,
     "input": [
      "X_testset_int,good1,good2,means,stds,imputer = dream.make_X(molecular_data,\"testset\",target_dilution=-3,good1=good1,good2=good2,means=means,stds=stds)\n",
      "X_testset_int.shape"
     ],
     "language": "python",
     "metadata": {},
     "outputs": [
      {
       "output_type": "stream",
       "stream": "stdout",
       "text": [
        "Getting CIDs and dilutions...\n",
        "Getting basic molecular data...\n",
        "Adding dilution data..."
       ]
      },
      {
       "output_type": "stream",
       "stream": "stdout",
       "text": [
        "\n",
        "There are now 69 molecular vectors of length 4871, one for each molecule and dilution\n",
        "Building a matrix...\n",
        "The X matrix has shape (69x4871) (molecules by molecular descriptors)\n",
        "Purging data with too many NaNs...\n",
        "The X matrix has shape (69x4871) (molecules by good molecular descriptors)\n",
        "Imputing remaining NaN data...\n",
        "The X matrix now has shape (69x4871) (molecules by non-NaN good molecular descriptors)\n",
        "Purging data that is still bad, if any...\n",
        "The X matrix has shape (69x3033) (molecules by good molecular descriptors)\n",
        "Normalizing data for fitting...\n",
        "The X matrix now has shape (69x3033) molecules by non-NaN good molecular descriptors\n"
       ]
      },
      {
       "metadata": {},
       "output_type": "pyout",
       "prompt_number": 53,
       "text": [
        "(69, 3033)"
       ]
      }
     ],
     "prompt_number": 53
    },
    {
     "cell_type": "code",
     "collapsed": false,
     "input": [
      "X_all,good1,good2,means,stds,imputer = dream.make_X(molecular_data,['training','leaderboard'],good1=good1,good2=good2,means=means,stds=stds)\n",
      "X_all.shape"
     ],
     "language": "python",
     "metadata": {},
     "outputs": [
      {
       "output_type": "stream",
       "stream": "stdout",
       "text": [
        "Getting CIDs and dilutions...\n",
        "Getting basic molecular data..."
       ]
      },
      {
       "output_type": "stream",
       "stream": "stdout",
       "text": [
        "\n",
        "Adding dilution data..."
       ]
      },
      {
       "output_type": "stream",
       "stream": "stdout",
       "text": [
        "\n",
        "There are now 814 molecular vectors of length 4871, one for each molecule and dilution\n",
        "Building a matrix...\n",
        "The X matrix has shape (814x4871) (molecules by molecular descriptors)\n",
        "Purging data with too many NaNs...\n",
        "The X matrix has shape (814x4871) (molecules by good molecular descriptors)"
       ]
      },
      {
       "output_type": "stream",
       "stream": "stdout",
       "text": [
        "\n",
        "Imputing remaining NaN data...\n",
        "The X matrix now has shape (814x4871) (molecules by non-NaN good molecular descriptors)"
       ]
      },
      {
       "output_type": "stream",
       "stream": "stdout",
       "text": [
        "\n",
        "Purging data that is still bad, if any...\n",
        "The X matrix has shape (814x3033) (molecules by good molecular descriptors)\n",
        "Normalizing data for fitting...\n",
        "The X matrix now has shape (814x3033) molecules by non-NaN good molecular descriptors"
       ]
      },
      {
       "output_type": "stream",
       "stream": "stdout",
       "text": [
        "\n"
       ]
      },
      {
       "metadata": {},
       "output_type": "pyout",
       "prompt_number": 56,
       "text": [
        "(814, 3033)"
       ]
      }
     ],
     "prompt_number": 56
    },
    {
     "cell_type": "code",
     "collapsed": false,
     "input": [
      "Y_training,imputer = dream.make_Y_obs('training',target_dilution=None,imputer='median')"
     ],
     "language": "python",
     "metadata": {},
     "outputs": [
      {
       "output_type": "stream",
       "stream": "stdout",
       "text": [
        "Getting basic perceptual data...\n",
        "Flattening into vectors..."
       ]
      },
      {
       "output_type": "stream",
       "stream": "stdout",
       "text": [
        "\n",
        "Assembling into matrices..."
       ]
      },
      {
       "output_type": "stream",
       "stream": "stdout",
       "text": [
        "\n",
        "Y_obs['subject'] contains 49 matrices each with shape (676x21) (molecules by perceptual descriptors)"
       ]
      },
      {
       "output_type": "stream",
       "stream": "stdout",
       "text": [
        "\n",
        "The Y_obs['mean_std'] matrix has shape (676x42) (molecules by 2 x perceptual descriptors)\n",
        "Combining Y matrices...\n",
        "The Y['mean_std'] matrix now has shape (676x42) molecules by 2 x perceptual descriptors\n",
        "The Y['subject'] dict now has 49 matrices of shape (676x21) molecules by perceptual descriptors, one for each subject\n"
       ]
      }
     ],
     "prompt_number": 13
    },
    {
     "cell_type": "code",
     "collapsed": false,
     "input": [
      "Y_leaderboard,imputer = dream.make_Y_obs('leaderboard',target_dilution='gold',imputer='mask')"
     ],
     "language": "python",
     "metadata": {},
     "outputs": [
      {
       "output_type": "stream",
       "stream": "stdout",
       "text": [
        "Getting basic perceptual data...\n",
        "Flattening into vectors..."
       ]
      },
      {
       "output_type": "stream",
       "stream": "stdout",
       "text": [
        "\n",
        "Assembling into matrices..."
       ]
      },
      {
       "output_type": "stream",
       "stream": "stdout",
       "text": [
        "\n",
        "Y_obs['subject'] contains 49 matrices each with shape (69x21) (molecules by perceptual descriptors)"
       ]
      },
      {
       "output_type": "stream",
       "stream": "stdout",
       "text": [
        "\n",
        "The Y_obs['mean_std'] matrix has shape (69x42) (molecules by 2 x perceptual descriptors)\n",
        "Combining Y matrices...\n",
        "The Y['mean_std'] matrix now has shape (69x42) molecules by 2 x perceptual descriptors\n",
        "The Y['subject'] dict now has 49 matrices of shape (69x21) molecules by perceptual descriptors, one for each subject\n",
        "Getting basic perceptual data..."
       ]
      },
      {
       "output_type": "stream",
       "stream": "stdout",
       "text": [
        "\n",
        "Flattening into vectors..."
       ]
      },
      {
       "output_type": "stream",
       "stream": "stdout",
       "text": [
        "\n",
        "Assembling into matrices..."
       ]
      },
      {
       "output_type": "stream",
       "stream": "stdout",
       "text": [
        "\n",
        "Y_obs['subject'] contains 49 matrices each with shape (69x21) (molecules by perceptual descriptors)"
       ]
      },
      {
       "output_type": "stream",
       "stream": "stdout",
       "text": [
        "\n",
        "The Y_obs['mean_std'] matrix has shape (69x42) (molecules by 2 x perceptual descriptors)\n",
        "Combining Y matrices...\n",
        "The Y['mean_std'] matrix now has shape (69x42) molecules by 2 x perceptual descriptors\n",
        "The Y['subject'] dict now has 49 matrices of shape (69x21) molecules by perceptual descriptors, one for each subject\n"
       ]
      }
     ],
     "prompt_number": 37
    },
    {
     "cell_type": "code",
     "collapsed": false,
     "input": [
      "Y_all,imputer = dream.make_Y_obs(['training','leaderboard'],target_dilution=None,imputer='median')"
     ],
     "language": "python",
     "metadata": {},
     "outputs": [
      {
       "output_type": "stream",
       "stream": "stdout",
       "text": [
        "Getting basic perceptual data...\n",
        "Flattening into vectors..."
       ]
      },
      {
       "output_type": "stream",
       "stream": "stdout",
       "text": [
        "\n",
        "Assembling into matrices..."
       ]
      },
      {
       "output_type": "stream",
       "stream": "stdout",
       "text": [
        "\n",
        "Y_obs['subject'] contains 49 matrices each with shape (676x21) (molecules by perceptual descriptors)"
       ]
      },
      {
       "output_type": "stream",
       "stream": "stdout",
       "text": [
        "\n",
        "The Y_obs['mean_std'] matrix has shape (676x42) (molecules by 2 x perceptual descriptors)\n",
        "Getting basic perceptual data..."
       ]
      },
      {
       "output_type": "stream",
       "stream": "stdout",
       "text": [
        "\n",
        "Flattening into vectors..."
       ]
      },
      {
       "output_type": "stream",
       "stream": "stdout",
       "text": [
        "\n",
        "Assembling into matrices..."
       ]
      },
      {
       "output_type": "stream",
       "stream": "stdout",
       "text": [
        "\n",
        "Y_obs['subject'] contains 49 matrices each with shape (138x21) (molecules by perceptual descriptors)"
       ]
      },
      {
       "output_type": "stream",
       "stream": "stdout",
       "text": [
        "\n",
        "The Y_obs['mean_std'] matrix has shape (138x42) (molecules by 2 x perceptual descriptors)\n",
        "Combining Y matrices...\n",
        "The Y['mean_std'] matrix now has shape (814x42) molecules by 2 x perceptual descriptors\n",
        "The Y['subject'] dict now has 49 matrices of shape (814x21) molecules by perceptual descriptors, one for each subject\n"
       ]
      }
     ],
     "prompt_number": 54
    },
    {
     "cell_type": "heading",
     "level": 3,
     "metadata": {},
     "source": [
      "Data preparation"
     ]
    },
    {
     "cell_type": "code",
     "collapsed": false,
     "input": [
      "# Delete replicates because I don't know how to deal with them right now.  \n",
      "#perceptual_obs_data = [row for row in perceptual_obs_data if row[2] is False]\n",
      "#print(\"There are %d non-replicated rows in the observed perceptual data\" % len(perceptual_obs_data))\n",
      "# Purge molecules from perceptual_vectors that are not in molecular_vectors.\n",
      "#for perceptual_vectors in [perceptual_obs_mean_vectors,perceptual_obs_std_vectors,perceptual_obs_subject_vectors]:\n",
      "#    perceptual_vectors = dream.retain(molecular_vectors,perceptual_vectors)\n",
      "#print(\"There are now %d x %d such vectors, one for each molecule and subject tested at %s dilution\" % \\\n",
      "#      (len(perceptual_obs_subject_vectors),len(list(perceptual_obs_subject_vectors.values())[0]),target_dilution))\n",
      "# Make sure we have the same number of molecules in both sets of vectors.  \n",
      "#print(\"There are now %d molecules in perceptual_vectors and %d molecules in molecular_vectors\" % \\\n",
      "#      (len(perceptual_obs_mean_vectors),len(molecular_vectors)))\n",
      "#print(\"These should be the same number.\")"
     ],
     "language": "python",
     "metadata": {},
     "outputs": [],
     "prompt_number": 16
    },
    {
     "cell_type": "code",
     "collapsed": false,
     "input": [
      "# Show the range of values for the molecular and perceptual descriptors.  \n",
      "plt.hist(X_training.ravel())\n",
      "plt.yscale('log')\n",
      "plt.ylabel('Count')\n",
      "plt.xlabel('Cube root transformed, N(0,1) normalized molecular descriptor values')\n",
      "plt.figure()\n",
      "plt.hist(Y_training['mean_std'][:21].ravel())\n",
      "plt.yscale('log')\n",
      "plt.ylabel('Count')\n",
      "plt.xlabel('Perceptual descriptor subject-averaged values')"
     ],
     "language": "python",
     "metadata": {},
     "outputs": [
      {
       "metadata": {},
       "output_type": "pyout",
       "prompt_number": 17,
       "text": [
        "<matplotlib.text.Text at 0x1118fc7b8>"
       ]
      },
      {
       "metadata": {},
       "output_type": "display_data",
       "png": "[encoded data removed]",
       "text": [
        "<matplotlib.figure.Figure at 0x115236f60>"
       ]
      },
      {
       "metadata": {},
       "output_type": "display_data",
       "png": "[encoded data removed]",
       "text": [
        "<matplotlib.figure.Figure at 0x1119c0b38>"
       ]
      }
     ],
     "prompt_number": 17
    },
    {
     "cell_type": "heading",
     "level": 2,
     "metadata": {},
     "source": [
      "Analysis"
     ]
    },
    {
     "cell_type": "code",
     "collapsed": false,
     "input": [
      "# Use random forest regression to fit the entire training data set.  \n",
      "\n",
      "def rfc_(X_train,Y_train,X_test_int,X_test_other,Y_test,max_features=1500,n_estimators=1000,max_depth=None,min_samples_leaf=1):\n",
      "    print(max_features)\n",
      "    def rfc_maker():\n",
      "        return RandomForestRegressor(max_features=max_features,\n",
      "                                     n_estimators=n_estimators,\n",
      "                                     max_depth=max_depth,\n",
      "                                     min_samples_leaf=min_samples_leaf,\n",
      "                                     n_jobs=-1,\n",
      "                                     oob_score=True,\n",
      "                                     random_state=0)\n",
      "        \n",
      "    rfc = rfc_maker()\n",
      "    rfc.fit(X_train,Y_train)\n",
      "    scores = {}\n",
      "    for phase,X,Y in [('train',X_train,Y_train),('test',(X_test_int,X_test_other),Y_test)]:\n",
      "        if phase == 'train':\n",
      "            predicted = rfc.oob_prediction_\n",
      "        else:\n",
      "            predicted = rfc.predict(X[1])\n",
      "            predicted_int = rfc.predict(X[0])\n",
      "            predicted[:,0] = predicted_int[:,0]\n",
      "            predicted[:,21] = predicted_int[:,21]\n",
      "        observed = Y\n",
      "        score = scoring.score2(predicted,observed)\n",
      "        r_int = scoring.r2('int','mean',predicted,observed)\n",
      "        r_ple = scoring.r2('ple','mean',predicted,observed)\n",
      "        r_dec = scoring.r2('dec','mean',predicted,observed)\n",
      "        r_int_sig = scoring.r2('int','sigma',predicted,observed)\n",
      "        r_ple_sig = scoring.r2('ple','sigma',predicted,observed)\n",
      "        r_dec_sig = scoring.r2('dec','sigma',predicted,observed)\n",
      "        print(\"For subchallenge 2, %s phase, score = %.2f (%.2f,%.2f,%.2f,%.2f,%.2f,%.2f)\" \\\n",
      "                % (phase,score,r_int,r_ple,r_dec,r_int_sig,r_ple_sig,r_dec_sig))\n",
      "        scores[phase] = score\n",
      "\n",
      "    return rfc,scores['train'],scores['test']"
     ],
     "language": "python",
     "metadata": {},
     "outputs": [],
     "prompt_number": 58
    },
    {
     "cell_type": "code",
     "collapsed": false,
     "input": [
      "ns = [None]\n",
      "rfcs = {}\n",
      "rfc2 = {}\n",
      "scores_train = []\n",
      "scores_test = []\n",
      "for n in ns:\n",
      "    rfcs[2],score_train,score_test = rfc_(X_training,Y_training['mean_std'],\n",
      "                                          X_leaderboard_int,X_leaderboard_other,\n",
      "                                          Y_leaderboard['mean_std'],2,\n",
      "                                          max_features=n,n_estimators=1000)\n",
      "    scores_train.append(score_train)\n",
      "    scores_test.append(score_test)\n",
      "    rfc2[n] = rfcs[2]\n",
      "plt.scatter(ns,scores_train,color='b')\n",
      "plt.scatter(ns,scores_test,color='r')"
     ],
     "language": "python",
     "metadata": {},
     "outputs": []
    },
    {
     "cell_type": "code",
     "collapsed": false,
     "input": [
      "from sklearn.linear_model import Lasso\n",
      "def lasso_(X_train,Y_train,X_test,Y_test,subchallenge,alpha=0.1,regularize=[0.7,0.7,0.7]):\n",
      "    if len(regularize)==1:\n",
      "        regularize = regularize*3\n",
      "    def lasso_maker():\n",
      "        return Lasso(alpha=alpha)\n",
      "    rfc = rfc_maker()\n",
      "    rfc.fit(X,Y)\n",
      "    x = rfc.predict(X)\n",
      "    x = rfc.oob_prediction_\n",
      "    y = Y\n",
      "    #scatter(x.ravel(),y.ravel())\n",
      "    score = scoring.score2(x,y)\n",
      "    r_int = scoring.r2('int','mean',x,y)\n",
      "    r_ple = scoring.r2('ple','mean',x,y)\n",
      "    r_dec = scoring.r2('dec','mean',x,y)\n",
      "    r_int_sig = scoring.r2('int','sigma',x,y)\n",
      "    r_ple_sig = scoring.r2('ple','sigma',x,y)\n",
      "    r_dec_sig = scoring.r2('dec','sigma',x,y)\n",
      "    print(\"For subchallenge %d, score = %.2f (%.2f,%.2f,%.2f,%.2f,%.2f,%.2f)\" \\\n",
      "       % (subchallenge,score,r_int,r_ple,r_dec,r_int_sig,r_ple_sig,r_dec_sig))\n",
      "    return lassos,score_train,score_test\n",
      "\n",
      "rfcs = {}\n",
      "rfcs[2],score = rfc_(X_training,Y_training['mean_std'],2)        "
     ],
     "language": "python",
     "metadata": {},
     "outputs": [
      {
       "output_type": "stream",
       "stream": "stdout",
       "text": [
        "0.01\n",
        "For subchallenge 1, train phase, score = 0.79"
       ]
      },
      {
       "output_type": "stream",
       "stream": "stdout",
       "text": [
        "\n",
        "For subchallenge 2, train phase, score = 0.92\n",
        "For subchallenge 1, test phase, score = 0.12"
       ]
      },
      {
       "output_type": "stream",
       "stream": "stdout",
       "text": [
        "\n",
        "For subchallenge 2, test phase, score = 0.15\n",
        "0.0268269579528\n",
        "For subchallenge 1, train phase, score = 0.78"
       ]
      },
      {
       "output_type": "stream",
       "stream": "stdout",
       "text": [
        "\n",
        "For subchallenge 2, train phase, score = 0.91\n",
        "For subchallenge 1, test phase, score = 0.14"
       ]
      },
      {
       "output_type": "stream",
       "stream": "stdout",
       "text": [
        "\n",
        "For subchallenge 2, test phase, score = 0.22\n",
        "0.0719685673001\n",
        "For subchallenge 1, train phase, score = 0.76"
       ]
      },
      {
       "output_type": "stream",
       "stream": "stdout",
       "text": [
        "\n",
        "For subchallenge 2, train phase, score = 0.90\n",
        "For subchallenge 1, test phase, score = 0.17"
       ]
      },
      {
       "output_type": "stream",
       "stream": "stdout",
       "text": [
        "\n",
        "For subchallenge 2, test phase, score = 0.27\n",
        "0.193069772888\n",
        "For subchallenge 1, train phase, score = 0.70"
       ]
      },
      {
       "output_type": "stream",
       "stream": "stdout",
       "text": [
        "\n",
        "For subchallenge 2, train phase, score = 0.86\n",
        "For subchallenge 1, test phase, score = 0.22"
       ]
      },
      {
       "output_type": "stream",
       "stream": "stdout",
       "text": [
        "\n",
        "For subchallenge 2, test phase, score = 0.40\n",
        "0.517947467923\n",
        "For subchallenge 1, train phase, score = 0.60"
       ]
      },
      {
       "output_type": "stream",
       "stream": "stdout",
       "text": [
        "\n",
        "For subchallenge 2, train phase, score = 0.78\n",
        "For subchallenge 1, test phase, score = 0.27"
       ]
      },
      {
       "output_type": "stream",
       "stream": "stdout",
       "text": [
        "\n",
        "For subchallenge 2, test phase, score = 0.52\n",
        "1.38949549437\n",
        "For subchallenge 1, train phase, score = 0.48"
       ]
      },
      {
       "output_type": "stream",
       "stream": "stdout",
       "text": [
        "\n",
        "For subchallenge 2, train phase, score = 0.68\n",
        "For subchallenge 1, test phase, score = 0.28"
       ]
      },
      {
       "output_type": "stream",
       "stream": "stdout",
       "text": [
        "\n",
        "For subchallenge 2, test phase, score = 0.58\n",
        "3.72759372031\n",
        "For subchallenge 1, train phase, score = 0.34"
       ]
      },
      {
       "output_type": "stream",
       "stream": "stdout",
       "text": [
        "\n",
        "For subchallenge 2, train phase, score = 0.54\n",
        "For subchallenge 1, test phase, score = 0.25"
       ]
      },
      {
       "output_type": "stream",
       "stream": "stdout",
       "text": [
        "\n",
        "For subchallenge 2, test phase, score = 0.50\n",
        "10.0\n",
        "For subchallenge 1, train phase, score = 0.23"
       ]
      },
      {
       "output_type": "stream",
       "stream": "stdout",
       "text": [
        "\n",
        "For subchallenge 2, train phase, score = 0.41\n",
        "For subchallenge 1, test phase, score = 0.21"
       ]
      },
      {
       "output_type": "stream",
       "stream": "stdout",
       "text": [
        "\n",
        "For subchallenge 2, test phase, score = 0.45\n"
       ]
      },
      {
       "metadata": {},
       "output_type": "display_data",
       "png": "[encoded data removed]",
       "text": [
        "<matplotlib.figure.Figure at 0x10bf8d5f8>"
       ]
      },
      {
       "metadata": {},
       "output_type": "display_data",
       "png": "[encoded data removed]",
       "text": [
        "<matplotlib.figure.Figure at 0x11d35fb70>"
       ]
      }
     ],
     "prompt_number": 411
    },
    {
     "cell_type": "code",
     "collapsed": false,
     "input": [
      "# Use random forest regression to fit the entire training data set, one descriptor set at a time.  \n",
      "\n",
      "def rfc_(X,Y,subchallenge,max_features=1500,n_estimators=1000,max_depth=None,min_samples_leaf=1):\n",
      "    def rfc_maker(max_features=max_features,n_estimators=n_estimators,max_depth=max_depth,min_samples_leaf=min_samples_leaf):\n",
      "        return RandomForestRegressor(max_features=max_features,\n",
      "                                     n_estimators=n_estimators,\n",
      "                                     max_depth=max_depth,\n",
      "                                     min_samples_leaf=min_samples_leaf,\n",
      "                                     n_jobs=-1,\n",
      "                                     oob_score=True)\n",
      "        \n",
      "    x = np.zeros(Y.shape)\n",
      "    y = Y\n",
      "\n",
      "    rfc_int_mean = rfc_maker(max_features=None,min_samples_leaf=1)\n",
      "    rfc_ple_mean = rfc_maker(max_features=60,min_samples_leaf=1)\n",
      "    rfc_dec_mean = rfc_maker(max_features=700,min_samples_leaf=1)\n",
      "    rfc_int_sigma = rfc_maker(max_features=None,min_samples_leaf=16)\n",
      "    rfc_ple_sigma = rfc_maker(max_features=None,min_samples_leaf=1)\n",
      "    rfc_dec_sigma = rfc_maker(max_features=None,min_samples_leaf=1)\n",
      "\n",
      "    rfc_int_mean.fit(X,Y)\n",
      "    rfc_ple_mean.fit(X,Y)\n",
      "    rfc_dec_mean.fit(X,Y)\n",
      "    rfc_int_sigma.fit(X,Y)\n",
      "    rfc_ple_sigma.fit(X,Y)\n",
      "    rfc_dec_sigma.fit(X,Y)\n",
      "    #x = rfc.predict(X)\n",
      "    x_int_mean = rfc_int_mean.oob_prediction_\n",
      "    x_ple_mean = rfc_ple_mean.oob_prediction_\n",
      "    x_dec_mean = rfc_dec_mean.oob_prediction_\n",
      "    x_int_sigma = rfc_int_sigma.oob_prediction_\n",
      "    x_ple_sigma = rfc_ple_sigma.oob_prediction_\n",
      "    x_dec_sigma = rfc_dec_sigma.oob_prediction_\n",
      "    x = x_int_mean.copy()\n",
      "    x[:,1] = x_ple_mean[:,1]\n",
      "    x[:,2:21] = x_dec_mean[:,2:21]\n",
      "    x[:,21] = x_int_sigma[:,21]\n",
      "    x[:,22] = x_ple_sigma[:,22]\n",
      "    x[:,23:] = x_dec_sigma[:,23:42]\n",
      "\n",
      "    #scatter(x.ravel(),y.ravel())\n",
      "    score = scoring.score2(x,y)\n",
      "    r_int = scoring.r2('int','mean',x,y)\n",
      "    r_ple = scoring.r2('ple','mean',x,y)\n",
      "    r_dec = scoring.r2('dec','mean',x,y)\n",
      "    r_int_sig = scoring.r2('int','sigma',x,y)\n",
      "    r_ple_sig = scoring.r2('ple','sigma',x,y)\n",
      "    r_dec_sig = scoring.r2('dec','sigma',x,y)\n",
      "    print(\"For subchallenge %d, score = %.2f (%.2f,%.2f,%.2f,%.2f,%.2f,%.2f)\" \\\n",
      "       % (subchallenge,score,r_int,r_ple,r_dec,r_int_sig,r_ple_sig,r_dec_sig))\n",
      "    #print([dream.r2(_,'mean',x,y) for _ in range(19)])\n",
      "    #print([dream.r2(_,'sigma',x,y) for _ in range(19)])\n",
      "    return [rfc_int_mean,rfc_ple_mean,rfc_dec_mean,rfc_int_sigma,rfc_ple_sigma,rfc_dec_sigma],\\\n",
      "           [r_int,r_ple,r_dec,r_int_sig,r_ple_sig,r_dec_sig],\\\n",
      "           [scoring.r2(_,'mean',x,y) for _ in range(19)]+[scoring.r2(_,'sigma',x,y) for _ in range(19)]\n",
      "\n",
      "rfcs[2] = rfc_(X_training,Y_training['mean_std'],2)"
     ],
     "language": "python",
     "metadata": {},
     "outputs": [
      {
       "output_type": "stream",
       "stream": "stdout",
       "text": [
        "1000\n",
        "1000\n",
        "1000\n",
        "1000\n",
        "1000\n",
        "1000\n",
        "int"
       ]
      },
      {
       "output_type": "stream",
       "stream": "stdout",
       "text": [
        " mean 0.670501156079\n",
        "ple mean 0.683321395665\n",
        "dec mean 0.558921885511\n",
        "int sigma 0.171139848451\n",
        "ple sigma 0.566402282556\n",
        "dec sigma 0.43961607973\n",
        "For subchallenge 2, score = 9.02 (0.67,0.68,0.56,0.17,0.57,0.44)\n"
       ]
      }
     ],
     "prompt_number": 39
    },
    {
     "cell_type": "code",
     "collapsed": false,
     "input": [
      "# Show that random forest regression also works really well out of sample.  \n",
      "\n",
      "def rfc_cv2(X,Y,max_features=1500,n_estimators=100,min_samples_leaf=1,rfc=True):\n",
      "    if rfc:\n",
      "        rfc = RandomForestRegressor(max_features=max_features,\n",
      "                                n_estimators=n_estimators,\n",
      "                                max_depth=None,\n",
      "                                min_samples_leaf=min_samples_leaf,\n",
      "                                oob_score=False,\n",
      "                                n_jobs=-1)\n",
      "    else:\n",
      "        rfc = ExtraTreesRegressor(max_features=max_features,\n",
      "                                n_estimators=n_estimators,\n",
      "                                max_depth=None,\n",
      "                                min_samples_leaf=min_samples_leaf,\n",
      "                                oob_score=False,\n",
      "                                n_jobs=-1)\n",
      "    test_size = 0.2\n",
      "    shuffle_split = ShuffleSplit(len(Y),10,test_size=test_size)\n",
      "    test_size *= len(Y)\n",
      "    rs = []\n",
      "    ps = []\n",
      "    scores = []\n",
      "    for train_index,test_index in shuffle_split:\n",
      "        rfc.fit(X[train_index],Y[train_index])\n",
      "        Y_predict1 = rfc.predict(X[test_index])[:,0]\n",
      "        Y_predict1 = np.array([f(xi) for xi in Y_predict1])\n",
      "        Y_predict2 = rfc.predict(X[test_index])[:,21]\n",
      "        Y_obs = Y[test_index][:,21]\n",
      "        r1,_ = pearsonr(Y_obs.ravel(),Y_predict1.ravel())\n",
      "        r2,_ = pearsonr(Y_obs.ravel(),Y_predict2.ravel())\n",
      "        rs.append((r1,r2))\n",
      "        print(r1,r2)\n",
      "        #ps.append(p)\n",
      "        #score = dream.score2(Y_predict,Y_obs)\n",
      "        #scores.append(score)\n",
      "        #print(score)\n",
      "    #print(\"For subchallenge %d, R = %.2f +/- %.2f, score = %.2f +/- %.2f\" % (subchallenge,\n",
      "    #                                                                 np.mean(rs),\n",
      "    #                                                                 np.std(rs)/np.sqrt(len(rs)),\n",
      "    #                                                                 np.mean(scores),\n",
      "    #                                                                 np.std(scores)/np.sqrt(len(scores))))\n",
      "    #scatter(range(len(scores)),sorted(scores),color='r')\n",
      "    #xlabel('Rank')\n",
      "    #ylabel('Score')\n",
      "    return np.mean(list(zip(*rs))[0]),np.mean(list(zip(*rs))[1])\n",
      "    \n",
      "ns = [1,2,4,8,16,32,64]\n",
      "#ns = [500,1000,2000,X_obs.shape[1]]#30,100,300,700,1000,2000,3000,X_obs.shape[1]]\n",
      "rs = [rfc_cv2(X_obs,Y_obs['mean_std'],2,min_samples_leaf=n,rfc=True) for n in ns]\n",
      "#rfc_cv2(X_obs,Y_obs['mean_std'],2,rfc=True)\n",
      "plt.scatter(ns,rs)"
     ],
     "language": "python",
     "metadata": {},
     "outputs": [
      {
       "output_type": "stream",
       "stream": "stdout",
       "text": [
        "0.233370546578 0.0771133040101\n",
        "0.137379561425"
       ]
      },
      {
       "output_type": "stream",
       "stream": "stdout",
       "text": [
        " 0.0372854100051\n",
        "0.168328732246"
       ]
      },
      {
       "output_type": "stream",
       "stream": "stdout",
       "text": [
        " 0.0882849692461\n",
        "0.193595221999"
       ]
      },
      {
       "output_type": "stream",
       "stream": "stdout",
       "text": [
        " 0.0391461363146\n",
        "0.22165541855"
       ]
      },
      {
       "output_type": "stream",
       "stream": "stdout",
       "text": [
        " 0.10956167973\n",
        "0.178662376695"
       ]
      },
      {
       "output_type": "stream",
       "stream": "stdout",
       "text": [
        " 0.147024007668\n",
        "0.298469320729"
       ]
      },
      {
       "output_type": "stream",
       "stream": "stdout",
       "text": [
        " 0.256430426982\n",
        "0.363475255079"
       ]
      },
      {
       "output_type": "stream",
       "stream": "stdout",
       "text": [
        " 0.194015976303\n",
        "0.25818010384"
       ]
      },
      {
       "output_type": "stream",
       "stream": "stdout",
       "text": [
        " 0.161789838587\n",
        "0.163482000393"
       ]
      },
      {
       "output_type": "stream",
       "stream": "stdout",
       "text": [
        " -0.0740578603139\n"
       ]
      },
      {
       "ename": "TypeError",
       "evalue": "'zip' object is not subscriptable",
       "output_type": "pyerr",
       "traceback": [
        "\u001b[0;31m---------------------------------------------------------------------------\u001b[0m\n\u001b[0;31mTypeError\u001b[0m                                 Traceback (most recent call last)",
        "\u001b[0;32m<ipython-input-42-80bec543d1ae>\u001b[0m in \u001b[0;36m<module>\u001b[0;34m()\u001b[0m\n\u001b[1;32m     50\u001b[0m     \u001b[0;31m#ns = [1,2,4,8,16,32,64]#ns = [500,1000,2000,X_obs.shape[1]]#30,100,300,700,1000,2000,3000,X_obs.shape[1]]\u001b[0m\u001b[0;34m\u001b[0m\u001b[0;34m\u001b[0m\u001b[0m\n\u001b[1;32m     51\u001b[0m     \u001b[0;31m#rs = [rfc_cv2(X_obs,Y_obs['mean_std'],2,min_samples_leaf=n,rfc=True) for n in ns]\u001b[0m\u001b[0;34m\u001b[0m\u001b[0;34m\u001b[0m\u001b[0m\n\u001b[0;32m---> 52\u001b[0;31m     \u001b[0mrfc_cv2\u001b[0m\u001b[0;34m(\u001b[0m\u001b[0mX_obs\u001b[0m\u001b[0;34m,\u001b[0m\u001b[0mY_obs\u001b[0m\u001b[0;34m[\u001b[0m\u001b[0;34m'mean_std'\u001b[0m\u001b[0;34m]\u001b[0m\u001b[0;34m,\u001b[0m\u001b[0;36m2\u001b[0m\u001b[0;34m,\u001b[0m\u001b[0mrfc\u001b[0m\u001b[0;34m=\u001b[0m\u001b[0;32mTrue\u001b[0m\u001b[0;34m)\u001b[0m\u001b[0;34m\u001b[0m\u001b[0m\n\u001b[0m\u001b[1;32m     53\u001b[0m     \u001b[0;31m#plt.scatter(ns,rs)\u001b[0m\u001b[0;34m\u001b[0m\u001b[0;34m\u001b[0m\u001b[0m\n",
        "\u001b[0;32m<ipython-input-42-80bec543d1ae>\u001b[0m in \u001b[0;36mrfc_cv2\u001b[0;34m(X, Y, subchallenge, max_features, n_estimators, min_samples_leaf, rfc)\u001b[0m\n\u001b[1;32m     44\u001b[0m     \u001b[0;31m#xlabel('Rank')\u001b[0m\u001b[0;34m\u001b[0m\u001b[0;34m\u001b[0m\u001b[0m\n\u001b[1;32m     45\u001b[0m     \u001b[0;31m#ylabel('Score')\u001b[0m\u001b[0;34m\u001b[0m\u001b[0;34m\u001b[0m\u001b[0m\n\u001b[0;32m---> 46\u001b[0;31m     \u001b[0;32mreturn\u001b[0m \u001b[0mnp\u001b[0m\u001b[0;34m.\u001b[0m\u001b[0mmean\u001b[0m\u001b[0;34m(\u001b[0m\u001b[0mzip\u001b[0m\u001b[0;34m(\u001b[0m\u001b[0;34m*\u001b[0m\u001b[0mrs\u001b[0m\u001b[0;34m)\u001b[0m\u001b[0;34m[\u001b[0m\u001b[0;36m0\u001b[0m\u001b[0;34m]\u001b[0m\u001b[0;34m)\u001b[0m\u001b[0;34m,\u001b[0m\u001b[0mnp\u001b[0m\u001b[0;34m.\u001b[0m\u001b[0mmean\u001b[0m\u001b[0;34m(\u001b[0m\u001b[0mzip\u001b[0m\u001b[0;34m(\u001b[0m\u001b[0;34m*\u001b[0m\u001b[0mrs\u001b[0m\u001b[0;34m)\u001b[0m\u001b[0;34m[\u001b[0m\u001b[0;36m1\u001b[0m\u001b[0;34m]\u001b[0m\u001b[0;34m)\u001b[0m\u001b[0;34m\u001b[0m\u001b[0m\n\u001b[0m\u001b[1;32m     47\u001b[0m \u001b[0;34m\u001b[0m\u001b[0m\n\u001b[1;32m     48\u001b[0m \u001b[0;32mif\u001b[0m \u001b[0;36m2\u001b[0m \u001b[0;32min\u001b[0m \u001b[0msubchallenges\u001b[0m\u001b[0;34m:\u001b[0m\u001b[0;34m\u001b[0m\u001b[0m\n",
        "\u001b[0;31mTypeError\u001b[0m: 'zip' object is not subscriptable"
       ]
      },
      {
       "metadata": {},
       "output_type": "display_data",
       "png": "[encoded data removed]",
       "text": [
        "<matplotlib.figure.Figure at 0x12443fc50>"
       ]
      }
     ],
     "prompt_number": 42
    },
    {
     "cell_type": "heading",
     "level": 2,
     "metadata": {},
     "source": [
      "Leaderboard Output"
     ]
    },
    {
     "cell_type": "code",
     "collapsed": false,
     "input": [
      "Y_leaderboard_predicted = loading.make_prediction_files(rfcs,X_leaderboard_int,X_leaderboard_other,'leaderboard',2)\n",
      "print(\"This file should get: %s\" % scoring.score_summary2(Y_leaderboard_predicted['mean_std'],Y_leaderboard['mean_std']))"
     ],
     "language": "python",
     "metadata": {},
     "outputs": [
      {
       "output_type": "stream",
       "stream": "stdout",
       "text": [
        "This file should get: Score: 8.142154; rs = 0.648,0.514,0.515,0.300,0.151,0.453\n"
       ]
      }
     ],
     "prompt_number": 49
    },
    {
     "cell_type": "heading",
     "level": 2,
     "metadata": {},
     "source": [
      "Pooled Data Analysis"
     ]
    },
    {
     "cell_type": "code",
     "collapsed": false,
     "input": [
      "rfcs_final = {}\n",
      "rfcs_final[2],score_train,score_test = rfc_(X_all,Y_all['mean_std'],X_all,X_all,Y_all['mean_std'],\n",
      "                                            max_features=1600,n_estimators=2000)"
     ],
     "language": "python",
     "metadata": {},
     "outputs": [
      {
       "output_type": "stream",
       "stream": "stdout",
       "text": [
        "1600\n",
        "For subchallenge 2, train phase, score = 6.12 (0.55,0.44,0.37,0.03,0.39,0.31)"
       ]
      },
      {
       "output_type": "stream",
       "stream": "stdout",
       "text": [
        "\n",
        "For subchallenge 2, test phase, score = 17.50 (0.98,0.98,0.98,0.98,0.98,0.98)"
       ]
      },
      {
       "output_type": "stream",
       "stream": "stdout",
       "text": [
        "\n"
       ]
      }
     ],
     "prompt_number": 65
    },
    {
     "cell_type": "code",
     "collapsed": false,
     "input": [
      "'4:32pm'"
     ],
     "language": "python",
     "metadata": {},
     "outputs": [
      {
       "metadata": {},
       "output_type": "pyout",
       "prompt_number": 63,
       "text": [
        "'4:32pm'"
       ]
      }
     ],
     "prompt_number": 63
    },
    {
     "cell_type": "heading",
     "level": 2,
     "metadata": {},
     "source": [
      "Testset Output"
     ]
    },
    {
     "cell_type": "code",
     "collapsed": false,
     "input": [
      "Y_testset_predicted = loading.make_prediction_files(rfcs_final,X_testset_int,X_testset_other,'testset',2)"
     ],
     "language": "python",
     "metadata": {},
     "outputs": [],
     "prompt_number": 64
    },
    {
     "cell_type": "heading",
     "level": 2,
     "metadata": {},
     "source": [
      "Extras"
     ]
    },
    {
     "cell_type": "heading",
     "level": 3,
     "metadata": {},
     "source": [
      "Predicting the standard deviation from the mean"
     ]
    },
    {
     "cell_type": "code",
     "collapsed": false,
     "input": [
      "Y_training_mask,_ = dream.make_Y_obs(['training'],imputer='mask')\n",
      "Y_training_median,_ = dream.make_Y_obs(['training'],imputer='median')\n",
      "Y_training_zero,_ = dream.make_Y_obs(['training'],imputer='zero')"
     ],
     "language": "python",
     "metadata": {},
     "outputs": [
      {
       "output_type": "stream",
       "stream": "stdout",
       "text": [
        "Getting basic perceptual data...\n",
        "Flattening into vectors..."
       ]
      },
      {
       "output_type": "stream",
       "stream": "stdout",
       "text": [
        "\n",
        "Assembling into matrices..."
       ]
      },
      {
       "output_type": "stream",
       "stream": "stdout",
       "text": [
        "\n",
        "Y_obs['subject'] contains 49 matrices each with shape (676x21) (molecules by perceptual descriptors)"
       ]
      },
      {
       "output_type": "stream",
       "stream": "stdout",
       "text": [
        "\n",
        "The Y_obs['mean_std'] matrix has shape (676x42) (molecules by 2 x perceptual descriptors)\n",
        "Combining Y matrices...\n",
        "The Y['mean_std'] matrix now has shape (676x42) molecules by 2 x perceptual descriptors\n",
        "The Y['subject'] dict now has 49 matrices of shape (676x21) molecules by perceptual descriptors, one for each subject\n",
        "Getting basic perceptual data..."
       ]
      },
      {
       "output_type": "stream",
       "stream": "stdout",
       "text": [
        "\n",
        "Flattening into vectors..."
       ]
      },
      {
       "output_type": "stream",
       "stream": "stdout",
       "text": [
        "\n",
        "Assembling into matrices..."
       ]
      },
      {
       "output_type": "stream",
       "stream": "stdout",
       "text": [
        "\n",
        "Y_obs['subject'] contains 49 matrices each with shape (676x21) (molecules by perceptual descriptors)"
       ]
      },
      {
       "output_type": "stream",
       "stream": "stdout",
       "text": [
        "\n",
        "The Y_obs['mean_std'] matrix has shape (676x42) (molecules by 2 x perceptual descriptors)\n",
        "Combining Y matrices...\n",
        "The Y['mean_std'] matrix now has shape (676x42) molecules by 2 x perceptual descriptors\n",
        "The Y['subject'] dict now has 49 matrices of shape (676x21) molecules by perceptual descriptors, one for each subject\n",
        "Getting basic perceptual data..."
       ]
      },
      {
       "output_type": "stream",
       "stream": "stdout",
       "text": [
        "\n",
        "Flattening into vectors..."
       ]
      },
      {
       "output_type": "stream",
       "stream": "stdout",
       "text": [
        "\n",
        "Assembling into matrices..."
       ]
      },
      {
       "output_type": "stream",
       "stream": "stdout",
       "text": [
        "\n",
        "Y_obs['subject'] contains 49 matrices each with shape (676x21) (molecules by perceptual descriptors)"
       ]
      },
      {
       "output_type": "stream",
       "stream": "stdout",
       "text": [
        "\n",
        "The Y_obs['mean_std'] matrix has shape (676x42) (molecules by 2 x perceptual descriptors)\n",
        "Combining Y matrices...\n",
        "The Y['mean_std'] matrix now has shape (676x42) molecules by 2 x perceptual descriptors\n",
        "The Y['subject'] dict now has 49 matrices of shape (676x21) molecules by perceptual descriptors, one for each subject\n"
       ]
      }
     ],
     "prompt_number": 221
    },
    {
     "cell_type": "code",
     "collapsed": false,
     "input": [
      "y = Y_training_mask\n",
      "y_mean = y['mean_std'][:,:21]/100.0\n",
      "y_std = y['mean_std'][:,21:]/100.0"
     ],
     "language": "python",
     "metadata": {},
     "outputs": [],
     "prompt_number": 41
    },
    {
     "cell_type": "code",
     "collapsed": false,
     "input": [
      "from scipy.optimize import curve_fit\n",
      "x = y_mean[:,0]\n",
      "y = y_std[:,0]\n",
      "def f(x,k0,k1):\n",
      "    return k0*x**(k1*0.5) - k0*x**(k1*2)\n",
      "k0,k1=curve_fit(f,x,y,p0=[0.7,1],maxfev=10000)[0]\n",
      "print(\"k0=%.3g; k1=%.3g\" % (k0,k1))\n",
      "plt.scatter(x,y,label='Data')\n",
      "x_ = np.linspace(0,1.0,100)\n",
      "plt.plot(x_,f(x_,k0,k1),color='r',linewidth=3,label='Fit')\n",
      "plt.xlabel('Intensity Mean')\n",
      "plt.ylabel('Intensity StDev')\n",
      "plt.legend()\n",
      "plt.figure()\n",
      "plt.scatter(x,y-f(x,k0,k1))\n",
      "def f_int(x):\n",
      "    return 100*(k0*(x/100)**(k1*0.5) - k0*(x/100)**(k1*2))\n",
      "\n",
      "#print('r using fit itself = %.3g' % scoring.r2(None,None,rfcs[2][0][3].oob_prediction_[:,21],Y_training['mean_std'][:,21]))\n",
      "#print('r using f_int = %.3g' % scoring.r2(None,None,f_int(rfcs[2][0][0].oob_prediction_[:,0]),Y_training['mean_std'][:,21]))\n",
      "#print('r using f_int = %.3g' % scoring.r2(None,None,rfcs[2][0][0].oob_prediction_[:,0],Y_training['mean_std'][:,0]))"
     ],
     "language": "python",
     "metadata": {},
     "outputs": [
      {
       "output_type": "stream",
       "stream": "stdout",
       "text": [
        "k0=0.718; k1=1.08\n"
       ]
      },
      {
       "metadata": {},
       "output_type": "display_data",
       "png": "[encoded data removed]",
       "text": [
        "<matplotlib.figure.Figure at 0x10fdf69e8>"
       ]
      },
      {
       "metadata": {},
       "output_type": "display_data",
       "png": "[encoded data removed]",
       "text": [
        "<matplotlib.figure.Figure at 0x116f90ba8>"
       ]
      }
     ],
     "prompt_number": 43
    },
    {
     "cell_type": "code",
     "collapsed": false,
     "input": [
      "# Use random forest regression to fit the entire training data set, one descriptor set at a time.  \n",
      "\n",
      "mf = 1500\n",
      "ne = 1000\n",
      "def rf_maker(mf,ne):\n",
      "    return RandomForestRegressor(max_features=mf,n_estimators=ne,\n",
      "                                     n_jobs=-1,\n",
      "                                     oob_score=True)\n",
      "rf1,rf2,rf3,rf4 = [rf_maker(mf,ne) for _ in range(4)]\n",
      "\n",
      "x = X_training\n",
      "y = Y_training_median['mean_std']#[:,0]\n",
      "rf1.fit(x[:,:],y)\n",
      "print(scoring.r2(None,None,rf1.oob_prediction_[:,0],y[:,0]))\n",
      "print(scoring.r2(None,None,rf2.oob_prediction_[:,0],y[:,0]))\n",
      "y = Y_training_mask['mean_std']#[:,0]\n",
      "rf3.fit(x[:,:],y)\n",
      "print(scoring.r2(None,None,rf3.oob_prediction_[:,0],y[:,0]))\n",
      "print(scoring.r2(None,None,rf4.oob_prediction_[:,0],y[:,0]))"
     ],
     "language": "python",
     "metadata": {},
     "outputs": [
      {
       "output_type": "stream",
       "stream": "stdout",
       "text": [
        "0.645192303727\n",
        "0.639349556798\n",
        "0.636628625104"
       ]
      },
      {
       "output_type": "stream",
       "stream": "stdout",
       "text": [
        "\n",
        "0.627086282222\n"
       ]
      }
     ],
     "prompt_number": 164
    },
    {
     "cell_type": "code",
     "collapsed": false,
     "input": [
      "for rf in [rf1,rf3]:\n",
      "    print('r_mean using leak = %.3g' % scoring.r2(None,None,rf.predict(X_leaderboard_int[:,:])[:,0],Y_leaderboard['mean_std'][:,0]))\n",
      "    print('r_std using leak = %.3g' % scoring.r2(None,None,rf.predict(X_leaderboard_int[:,:])[:,21],Y_leaderboard['mean_std'][:,21]))\n",
      "    print('r_std using f_int and leak= %.3g' % scoring.r2(None,None,f_int(rf.predict(X_leaderboard_int[:,:])[:,0]),Y_leaderboard['mean_std'][:,21]))\n",
      "for rf in [rf2,rf4]:\n",
      "    print('r_mean = %.3g' % scoring.r2(None,None,rf.predict(X_leaderboard_int[:,:-1])[:,0],Y_leaderboard['mean_std'][:,0]))\n",
      "    print('r_std = %.3g' % scoring.r2(None,None,rf.predict(X_leaderboard_int[:,:-1])[:,21],Y_leaderboard['mean_std'][:,21]))\n",
      "    print('r_std using f_int = %.3g' % scoring.r2(None,None,f_int(rf.predict(X_leaderboard_int[:,:-1])[:,0]),Y_leaderboard['mean_std'][:,21]))\n",
      "plt.scatter(rf1.predict(X_leaderboard_int[:,:])[:,0],Y_leaderboard['mean_std'][:,0])"
     ],
     "language": "python",
     "metadata": {},
     "outputs": [
      {
       "ename": "ValueError",
       "evalue": "operands could not be broadcast together with shapes (69,) (676,) ",
       "output_type": "pyerr",
       "traceback": [
        "\u001b[0;31m---------------------------------------------------------------------------\u001b[0m\n\u001b[0;31mValueError\u001b[0m                                Traceback (most recent call last)",
        "\u001b[0;32m<ipython-input-170-9823e300d2d6>\u001b[0m in \u001b[0;36m<module>\u001b[0;34m()\u001b[0m\n\u001b[1;32m      1\u001b[0m \u001b[0;32mfor\u001b[0m \u001b[0mrf\u001b[0m \u001b[0;32min\u001b[0m \u001b[0;34m[\u001b[0m\u001b[0mrf1\u001b[0m\u001b[0;34m,\u001b[0m\u001b[0mrf3\u001b[0m\u001b[0;34m]\u001b[0m\u001b[0;34m:\u001b[0m\u001b[0;34m\u001b[0m\u001b[0m\n\u001b[0;32m----> 2\u001b[0;31m     \u001b[0mprint\u001b[0m\u001b[0;34m(\u001b[0m\u001b[0;34m'r_mean using leak = %.3g'\u001b[0m \u001b[0;34m%\u001b[0m \u001b[0mscoring\u001b[0m\u001b[0;34m.\u001b[0m\u001b[0mr2\u001b[0m\u001b[0;34m(\u001b[0m\u001b[0;32mNone\u001b[0m\u001b[0;34m,\u001b[0m\u001b[0;32mNone\u001b[0m\u001b[0;34m,\u001b[0m\u001b[0mrf\u001b[0m\u001b[0;34m.\u001b[0m\u001b[0mpredict\u001b[0m\u001b[0;34m(\u001b[0m\u001b[0mX_leaderboard_int\u001b[0m\u001b[0;34m[\u001b[0m\u001b[0;34m:\u001b[0m\u001b[0;34m,\u001b[0m\u001b[0;34m:\u001b[0m\u001b[0;34m]\u001b[0m\u001b[0;34m)\u001b[0m\u001b[0;34m[\u001b[0m\u001b[0;34m:\u001b[0m\u001b[0;34m,\u001b[0m\u001b[0;36m0\u001b[0m\u001b[0;34m]\u001b[0m\u001b[0;34m,\u001b[0m\u001b[0mY_training\u001b[0m\u001b[0;34m[\u001b[0m\u001b[0;34m'mean_std'\u001b[0m\u001b[0;34m]\u001b[0m\u001b[0;34m[\u001b[0m\u001b[0;34m:\u001b[0m\u001b[0;34m,\u001b[0m\u001b[0;36m0\u001b[0m\u001b[0;34m]\u001b[0m\u001b[0;34m)\u001b[0m\u001b[0;34m)\u001b[0m\u001b[0;34m\u001b[0m\u001b[0m\n\u001b[0m\u001b[1;32m      3\u001b[0m     \u001b[0mprint\u001b[0m\u001b[0;34m(\u001b[0m\u001b[0;34m'r_std using leak = %.3g'\u001b[0m \u001b[0;34m%\u001b[0m \u001b[0mscoring\u001b[0m\u001b[0;34m.\u001b[0m\u001b[0mr2\u001b[0m\u001b[0;34m(\u001b[0m\u001b[0;32mNone\u001b[0m\u001b[0;34m,\u001b[0m\u001b[0;32mNone\u001b[0m\u001b[0;34m,\u001b[0m\u001b[0mrf\u001b[0m\u001b[0;34m.\u001b[0m\u001b[0mpredict\u001b[0m\u001b[0;34m(\u001b[0m\u001b[0mX_leaderboard_int\u001b[0m\u001b[0;34m[\u001b[0m\u001b[0;34m:\u001b[0m\u001b[0;34m,\u001b[0m\u001b[0;34m:\u001b[0m\u001b[0;34m]\u001b[0m\u001b[0;34m)\u001b[0m\u001b[0;34m[\u001b[0m\u001b[0;34m:\u001b[0m\u001b[0;34m,\u001b[0m\u001b[0;36m21\u001b[0m\u001b[0;34m]\u001b[0m\u001b[0;34m,\u001b[0m\u001b[0mY_training\u001b[0m\u001b[0;34m[\u001b[0m\u001b[0;34m'mean_std'\u001b[0m\u001b[0;34m]\u001b[0m\u001b[0;34m[\u001b[0m\u001b[0;34m:\u001b[0m\u001b[0;34m,\u001b[0m\u001b[0;36m21\u001b[0m\u001b[0;34m]\u001b[0m\u001b[0;34m)\u001b[0m\u001b[0;34m)\u001b[0m\u001b[0;34m\u001b[0m\u001b[0m\n\u001b[1;32m      4\u001b[0m     \u001b[0mprint\u001b[0m\u001b[0;34m(\u001b[0m\u001b[0;34m'r_std using f_int and leak= %.3g'\u001b[0m \u001b[0;34m%\u001b[0m \u001b[0mscoring\u001b[0m\u001b[0;34m.\u001b[0m\u001b[0mr2\u001b[0m\u001b[0;34m(\u001b[0m\u001b[0;32mNone\u001b[0m\u001b[0;34m,\u001b[0m\u001b[0;32mNone\u001b[0m\u001b[0;34m,\u001b[0m\u001b[0mf_int\u001b[0m\u001b[0;34m(\u001b[0m\u001b[0mrf\u001b[0m\u001b[0;34m.\u001b[0m\u001b[0mpredict\u001b[0m\u001b[0;34m(\u001b[0m\u001b[0mX_leaderboard_int\u001b[0m\u001b[0;34m[\u001b[0m\u001b[0;34m:\u001b[0m\u001b[0;34m,\u001b[0m\u001b[0;34m:\u001b[0m\u001b[0;34m]\u001b[0m\u001b[0;34m)\u001b[0m\u001b[0;34m[\u001b[0m\u001b[0;34m:\u001b[0m\u001b[0;34m,\u001b[0m\u001b[0;36m0\u001b[0m\u001b[0;34m]\u001b[0m\u001b[0;34m)\u001b[0m\u001b[0;34m,\u001b[0m\u001b[0mY_training\u001b[0m\u001b[0;34m[\u001b[0m\u001b[0;34m'mean_std'\u001b[0m\u001b[0;34m]\u001b[0m\u001b[0;34m[\u001b[0m\u001b[0;34m:\u001b[0m\u001b[0;34m,\u001b[0m\u001b[0;36m21\u001b[0m\u001b[0;34m]\u001b[0m\u001b[0;34m)\u001b[0m\u001b[0;34m)\u001b[0m\u001b[0;34m\u001b[0m\u001b[0m\n\u001b[1;32m      5\u001b[0m \u001b[0;32mfor\u001b[0m \u001b[0mrf\u001b[0m \u001b[0;32min\u001b[0m \u001b[0;34m[\u001b[0m\u001b[0mrf2\u001b[0m\u001b[0;34m,\u001b[0m\u001b[0mrf4\u001b[0m\u001b[0;34m]\u001b[0m\u001b[0;34m:\u001b[0m\u001b[0;34m\u001b[0m\u001b[0m\n",
        "\u001b[0;32m/Users/rgerkin/Dropbox/science/dream/scoring.py\u001b[0m in \u001b[0;36mr2\u001b[0;34m(kind, moment, predicted, observed)\u001b[0m\n\u001b[1;32m     77\u001b[0m         \u001b[0mp_\u001b[0m \u001b[0;34m=\u001b[0m \u001b[0mp\u001b[0m\u001b[0;34m[\u001b[0m\u001b[0;34m:\u001b[0m\u001b[0;34m,\u001b[0m\u001b[0mi\u001b[0m\u001b[0;34m]\u001b[0m\u001b[0;34m\u001b[0m\u001b[0m\n\u001b[1;32m     78\u001b[0m         \u001b[0mo_\u001b[0m \u001b[0;34m=\u001b[0m \u001b[0mo\u001b[0m\u001b[0;34m[\u001b[0m\u001b[0;34m:\u001b[0m\u001b[0;34m,\u001b[0m\u001b[0mi\u001b[0m\u001b[0;34m]\u001b[0m\u001b[0;34m\u001b[0m\u001b[0m\n\u001b[0;32m---> 79\u001b[0;31m         \u001b[0mr_\u001b[0m \u001b[0;34m=\u001b[0m \u001b[0mpearsonr\u001b[0m\u001b[0;34m(\u001b[0m\u001b[0mp_\u001b[0m\u001b[0;34m,\u001b[0m\u001b[0mo_\u001b[0m\u001b[0;34m)\u001b[0m\u001b[0;34m[\u001b[0m\u001b[0;36m0\u001b[0m\u001b[0;34m]\u001b[0m\u001b[0;34m\u001b[0m\u001b[0m\n\u001b[0m\u001b[1;32m     80\u001b[0m         \u001b[0;32mif\u001b[0m \u001b[0mnp\u001b[0m\u001b[0;34m.\u001b[0m\u001b[0misnan\u001b[0m\u001b[0;34m(\u001b[0m\u001b[0mr_\u001b[0m\u001b[0;34m)\u001b[0m\u001b[0;34m:\u001b[0m\u001b[0;34m\u001b[0m\u001b[0m\n\u001b[1;32m     81\u001b[0m             \u001b[0mprint\u001b[0m\u001b[0;34m(\u001b[0m\u001b[0;34m'NaN'\u001b[0m\u001b[0;34m)\u001b[0m\u001b[0;34m\u001b[0m\u001b[0m\n",
        "\u001b[0;32m/Users/rgerkin/Dropbox/python3/lib/python3.4/site-packages/scipy/stats/stats.py\u001b[0m in \u001b[0;36mpearsonr\u001b[0;34m(x, y)\u001b[0m\n\u001b[1;32m   2432\u001b[0m     \u001b[0mmy\u001b[0m \u001b[0;34m=\u001b[0m \u001b[0my\u001b[0m\u001b[0;34m.\u001b[0m\u001b[0mmean\u001b[0m\u001b[0;34m(\u001b[0m\u001b[0;34m)\u001b[0m\u001b[0;34m\u001b[0m\u001b[0m\n\u001b[1;32m   2433\u001b[0m     \u001b[0mxm\u001b[0m\u001b[0;34m,\u001b[0m \u001b[0mym\u001b[0m \u001b[0;34m=\u001b[0m \u001b[0mx\u001b[0m\u001b[0;34m-\u001b[0m\u001b[0mmx\u001b[0m\u001b[0;34m,\u001b[0m \u001b[0my\u001b[0m\u001b[0;34m-\u001b[0m\u001b[0mmy\u001b[0m\u001b[0;34m\u001b[0m\u001b[0m\n\u001b[0;32m-> 2434\u001b[0;31m     \u001b[0mr_num\u001b[0m \u001b[0;34m=\u001b[0m \u001b[0mnp\u001b[0m\u001b[0;34m.\u001b[0m\u001b[0madd\u001b[0m\u001b[0;34m.\u001b[0m\u001b[0mreduce\u001b[0m\u001b[0;34m(\u001b[0m\u001b[0mxm\u001b[0m \u001b[0;34m*\u001b[0m \u001b[0mym\u001b[0m\u001b[0;34m)\u001b[0m\u001b[0;34m\u001b[0m\u001b[0m\n\u001b[0m\u001b[1;32m   2435\u001b[0m     \u001b[0mr_den\u001b[0m \u001b[0;34m=\u001b[0m \u001b[0mnp\u001b[0m\u001b[0;34m.\u001b[0m\u001b[0msqrt\u001b[0m\u001b[0;34m(\u001b[0m\u001b[0mss\u001b[0m\u001b[0;34m(\u001b[0m\u001b[0mxm\u001b[0m\u001b[0;34m)\u001b[0m \u001b[0;34m*\u001b[0m \u001b[0mss\u001b[0m\u001b[0;34m(\u001b[0m\u001b[0mym\u001b[0m\u001b[0;34m)\u001b[0m\u001b[0;34m)\u001b[0m\u001b[0;34m\u001b[0m\u001b[0m\n\u001b[1;32m   2436\u001b[0m     \u001b[0mr\u001b[0m \u001b[0;34m=\u001b[0m \u001b[0mr_num\u001b[0m \u001b[0;34m/\u001b[0m \u001b[0mr_den\u001b[0m\u001b[0;34m\u001b[0m\u001b[0m\n",
        "\u001b[0;31mValueError\u001b[0m: operands could not be broadcast together with shapes (69,) (676,) "
       ]
      }
     ],
     "prompt_number": 170
    },
    {
     "cell_type": "code",
     "collapsed": false,
     "input": [
      "for mf in [100,200,400,800,1600,2500]:\n",
      "    rf = RandomForestRegressor(max_features=mf,n_estimators=1000,\n",
      "                                     n_jobs=-1,\n",
      "                                     oob_score=True,\n",
      "                                     random_state=0)\n",
      "    x = X_training\n",
      "    y_train = Y_training_median['mean_std']#[:,0]\n",
      "    y_test = Y_leaderboard['mean_std']\n",
      "    rf.fit(x,y_train)\n",
      "    print('r_mean oob using leak = %.3g' % scoring.r2(None,None,rf.oob_prediction_[:,0],y_train[:,0]))\n",
      "    print('r_std oob using leak = %.3g' % scoring.r2(None,None,rf.oob_prediction_[:,21],y_train[:,21]))\n",
      "    print('r_std oob using f_int and leak= %.3g' % scoring.r2(None,None,f_int(rf.oob_prediction_)[:,0],y_train[:,21]))\n",
      "    print('r_mean using leak = %.3g' % scoring.r2(None,None,rf.predict(X_leaderboard_int[:,:])[:,0],y_test[:,0]))\n",
      "    print('r_std using leak = %.3g' % scoring.r2(None,None,rf.predict(X_leaderboard_int[:,:])[:,21],y_test[:,21]))\n",
      "    print('r_std using f_int and leak= %.3g' % scoring.r2(None,None,f_int(rf.predict(X_leaderboard_int[:,:])[:,0]),y_test[:,21]))\n",
      "    print('----------')"
     ],
     "language": "python",
     "metadata": {},
     "outputs": [
      {
       "output_type": "stream",
       "stream": "stdout",
       "text": [
        "r_mean oob using leak = 0.28\n",
        "r_std oob using leak = -0.123\n",
        "r_std oob using f_int and leak= 0.0919\n",
        "r_mean using leak = 0.61"
       ]
      },
      {
       "output_type": "stream",
       "stream": "stdout",
       "text": [
        "\n",
        "r_std using leak = 0.365"
       ]
      },
      {
       "output_type": "stream",
       "stream": "stdout",
       "text": [
        "\n",
        "r_std using f_int and leak= 0.45"
       ]
      },
      {
       "output_type": "stream",
       "stream": "stdout",
       "text": [
        "\n",
        "----------\n",
        "r_mean oob using leak = 0.392"
       ]
      },
      {
       "output_type": "stream",
       "stream": "stdout",
       "text": [
        "\n",
        "r_std oob using leak = -0.0814\n",
        "r_std oob using f_int and leak= 0.174\n",
        "r_mean using leak = 0.613"
       ]
      },
      {
       "output_type": "stream",
       "stream": "stdout",
       "text": [
        "\n",
        "r_std using leak = 0.34"
       ]
      },
      {
       "output_type": "stream",
       "stream": "stdout",
       "text": [
        "\n",
        "r_std using f_int and leak= 0.426"
       ]
      },
      {
       "output_type": "stream",
       "stream": "stdout",
       "text": [
        "\n",
        "----------\n",
        "r_mean oob using leak = 0.513"
       ]
      },
      {
       "output_type": "stream",
       "stream": "stdout",
       "text": [
        "\n",
        "r_std oob using leak = -0.0242\n",
        "r_std oob using f_int and leak= 0.245\n",
        "r_mean using leak = 0.636"
       ]
      },
      {
       "output_type": "stream",
       "stream": "stdout",
       "text": [
        "\n",
        "r_std using leak = 0.36"
       ]
      },
      {
       "output_type": "stream",
       "stream": "stdout",
       "text": [
        "\n",
        "r_std using f_int and leak= 0.448"
       ]
      },
      {
       "output_type": "stream",
       "stream": "stdout",
       "text": [
        "\n",
        "----------\n",
        "r_mean oob using leak = 0.603"
       ]
      },
      {
       "output_type": "stream",
       "stream": "stdout",
       "text": [
        "\n",
        "r_std oob using leak = 0.0635\n",
        "r_std oob using f_int and leak= 0.276\n",
        "r_mean using leak = 0.641"
       ]
      },
      {
       "output_type": "stream",
       "stream": "stdout",
       "text": [
        "\n",
        "r_std using leak = 0.349"
       ]
      },
      {
       "output_type": "stream",
       "stream": "stdout",
       "text": [
        "\n",
        "r_std using f_int and leak= 0.404"
       ]
      },
      {
       "output_type": "stream",
       "stream": "stdout",
       "text": [
        "\n",
        "----------\n",
        "r_mean oob using leak = 0.649"
       ]
      },
      {
       "output_type": "stream",
       "stream": "stdout",
       "text": [
        "\n",
        "r_std oob using leak = 0.151\n",
        "r_std oob using f_int and leak= 0.306\n",
        "r_mean using leak = 0.65"
       ]
      },
      {
       "output_type": "stream",
       "stream": "stdout",
       "text": [
        "\n",
        "r_std using leak = 0.354"
       ]
      },
      {
       "output_type": "stream",
       "stream": "stdout",
       "text": [
        "\n",
        "r_std using f_int and leak= 0.401"
       ]
      },
      {
       "output_type": "stream",
       "stream": "stdout",
       "text": [
        "\n",
        "----------\n",
        "r_mean oob using leak = 0.668"
       ]
      },
      {
       "output_type": "stream",
       "stream": "stdout",
       "text": [
        "\n",
        "r_std oob using leak = 0.191\n",
        "r_std oob using f_int and leak= 0.316\n",
        "r_mean using leak = 0.654"
       ]
      },
      {
       "output_type": "stream",
       "stream": "stdout",
       "text": [
        "\n",
        "r_std using leak = 0.319"
       ]
      },
      {
       "output_type": "stream",
       "stream": "stdout",
       "text": [
        "\n",
        "r_std using f_int and leak= 0.37"
       ]
      },
      {
       "output_type": "stream",
       "stream": "stdout",
       "text": [
        "\n",
        "----------\n"
       ]
      }
     ],
     "prompt_number": 175
    },
    {
     "cell_type": "code",
     "collapsed": false,
     "input": [
      "fractions = np.linspace(0,1,25)\n",
      "rs = []\n",
      "for fraction in fractions:\n",
      "    prediction = fraction*f_int(rf_75.predict(X_leaderboard_int)[:,0])+(1-fraction)*rf_75.predict(X_leaderboard_int)[:,21]\n",
      "    rs.append(scoring.r2(None,None,prediction,y_test[:,21]))\n",
      "plt.plot(fractions,rs)"
     ],
     "language": "python",
     "metadata": {},
     "outputs": [
      {
       "metadata": {},
       "output_type": "pyout",
       "prompt_number": 190,
       "text": [
        "[<matplotlib.lines.Line2D at 0x10cf76dd8>]"
       ]
      },
      {
       "metadata": {},
       "output_type": "display_data",
       "png": "[encoded data removed]",
       "text": [
        "<matplotlib.figure.Figure at 0x10fd6b2e8>"
       ]
      }
     ],
     "prompt_number": 190
    },
    {
     "cell_type": "code",
     "collapsed": false,
     "input": [
      "plt.scatter(rf2.oob_prediction_[:,0],Y_training['mean_std'][:,0])"
     ],
     "language": "python",
     "metadata": {},
     "outputs": [
      {
       "metadata": {},
       "output_type": "pyout",
       "prompt_number": 162,
       "text": [
        "<matplotlib.collections.PathCollection at 0x161708eb8>"
       ]
      },
      {
       "metadata": {},
       "output_type": "display_data",
       "png": "[encoded data removed]",
       "text": [
        "<matplotlib.figure.Figure at 0x1334ca550>"
       ]
      }
     ],
     "prompt_number": 162
    },
    {
     "cell_type": "code",
     "collapsed": false,
     "input": [
      "from scipy.optimize import curve_fit\n",
      "x = y_mean[:,1]\n",
      "y = y_std[:,1]\n",
      "def f(x,k0,k1):\n",
      "    return k0*x**(k1*0.5) - k0*x**(k1*2)\n",
      "k0,k1=curve_fit(f,x,y,p0=[0.7,1])[0]\n",
      "print(k0,k1)\n",
      "plt.scatter(x,y,label='Data')\n",
      "x_ = np.linspace(0,1.0,100)\n",
      "plt.plot(x_,f(x_,k0,k1),color='r',linewidth=3,label='Fit')\n",
      "plt.xlabel('Pleasantness Mean')\n",
      "plt.ylabel('Pleasantness StDev')\n",
      "plt.legend()\n",
      "plt.legend()\n",
      "plt.figure()\n",
      "plt.scatter(x,y-f(x,k0,k1))\n",
      "def f_ple(x):\n",
      "    return 100*(k0*(x/100)**(k1*0.5) - k0*(x/100)**(k1*2))"
     ],
     "language": "python",
     "metadata": {},
     "outputs": [
      {
       "output_type": "stream",
       "stream": "stdout",
       "text": [
        "0.538255779759 1.10230197482\n"
       ]
      },
      {
       "metadata": {},
       "output_type": "display_data",
       "png": "[encoded data removed]",
       "text": [
        "<matplotlib.figure.Figure at 0x116a06e48>"
       ]
      },
      {
       "metadata": {},
       "output_type": "display_data",
       "png": "[encoded data removed]",
       "text": [
        "<matplotlib.figure.Figure at 0x11631fd68>"
       ]
      }
     ],
     "prompt_number": 69
    },
    {
     "cell_type": "code",
     "collapsed": false,
     "input": [
      "from scipy.optimize import curve_fit\n",
      "x = y_mean[:,2:21].ravel()\n",
      "y = y_std[:,2:21].ravel()\n",
      "def f(x,k0,k1):\n",
      "    return k0*x**(k1*0.5) - k0*x**(k1*2)\n",
      "k0,k1=curve_fit(f,x,y,p0=[0.7,1])[0]\n",
      "print(k0,k1)\n",
      "plt.scatter(x,y,label='Data')#Y_obs['mean_std'][:,0],Y_obs['mean_std'][:,21])\n",
      "x_ = np.linspace(0,1.0,100)\n",
      "plt.plot(x_,f(x_,k0,k1),color='r',linewidth=3,label='Fit')\n",
      "plt.xlabel('Other Descriptors Mean')\n",
      "plt.ylabel('Other Descriptors StDev')\n",
      "plt.legend()\n",
      "plt.legend()\n",
      "plt.figure()\n",
      "plt.scatter(x,y-f(x,k0,k1))\n",
      "def f_dec(x):\n",
      "    return 100*(k0*(x/100)**(k1*0.5) - k0*(x/100)**(k1*2))"
     ],
     "language": "python",
     "metadata": {},
     "outputs": [
      {
       "output_type": "stream",
       "stream": "stdout",
       "text": [
        "0.84174532839 1.13431226201\n"
       ]
      },
      {
       "metadata": {},
       "output_type": "display_data",
       "png": "[encoded data removed]",
       "text": [
        "<matplotlib.figure.Figure at 0x116603240>"
       ]
      },
      {
       "metadata": {},
       "output_type": "display_data",
       "png": "[encoded data removed]",
       "text": [
        "<matplotlib.figure.Figure at 0x11608ff60>"
       ]
      }
     ],
     "prompt_number": 70
    },
    {
     "cell_type": "heading",
     "level": 3,
     "metadata": {},
     "source": [
      "Imputation and Masks"
     ]
    },
    {
     "cell_type": "heading",
     "level": 4,
     "metadata": {},
     "source": [
      "Intensity Mean"
     ]
    },
    {
     "cell_type": "code",
     "collapsed": false,
     "input": [
      "Y_leaderboard = {}\n",
      "method = 'mask'\n",
      "rf = eval('rf_%s' % method)\n",
      "rf_int = eval('rf_%s_int' % method)\n",
      "rf_ple = eval('rf_%s_ple' % method)\n",
      "rf_dec = eval('rf_%s_dec' % method)\n",
      "Y_leaderboard['mean_std'] = rf.predict(X_leaderboard)\n",
      "Y_leaderboard['mean_std'][:,0] = rf_int.predict(X_leaderboard_intensity)\n",
      "Y_leaderboard['mean_std'][:,1] = rf_ple.predict(X_leaderboard)\n",
      "Y_leaderboard['mean_std'][:,2:21] = rf_dec.predict(X_leaderboard)\n",
      "Y_leaderboard['mean_std'][:,21] = f(rf_int.predict(X_leaderboard_intensity))\n",
      "Y_leaderboard['mean_std'][:,22] = rf.predict(X_leaderboard)[:,22]\n",
      "Y_leaderboard['mean_std'][:,23:42] = f(rf_dec.predict(X_leaderboard))\n",
      "write_prediction_files(name=method)"
     ],
     "language": "python",
     "metadata": {},
     "outputs": [],
     "prompt_number": 77
    },
    {
     "cell_type": "code",
     "collapsed": false,
     "input": [
      "estimator1 = Lasso(alpha=0.9,max_iter=5000)\n",
      "estimator2 = Lasso(alpha=0.9,max_iter=5000)\n",
      "estimator1.fit(X_obs,Y_obs['mean_std'][:,1])\n",
      "x = estimator1.coef_\n",
      "estimator2.fit(X_leaderboard,Y_leaderboard['mean_std'][:,1])\n",
      "y = estimator2.coef_\n",
      "plt.scatter(x,y)\n",
      "plt.figure()\n",
      "plt.plot(x,color='r')\n",
      "plt.plot(y,color='b')\n",
      "np.where(x*y > 0.01)"
     ],
     "language": "python",
     "metadata": {},
     "outputs": [
      {
       "metadata": {},
       "output_type": "pyout",
       "prompt_number": 275,
       "text": [
        "(array([2701, 2712, 2744]),)"
       ]
      },
      {
       "metadata": {},
       "output_type": "display_data",
       "png": "[encoded data removed]",
       "text": [
        "<matplotlib.figure.Figure at 0x11c8c60f0>"
       ]
      },
      {
       "metadata": {},
       "output_type": "display_data",
       "png": "[encoded data removed]",
       "text": [
        "<matplotlib.figure.Figure at 0x11c8c6080>"
       ]
      }
     ],
     "prompt_number": 275
    }
   ],
   "metadata": {}
  }
 ]
}