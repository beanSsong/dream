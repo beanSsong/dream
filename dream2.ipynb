{
 "metadata": {
  "name": "",
  "signature": "sha256:2c00fe0d6b68222db11d2b6c67cb84c307ebe3d43ed9ea626beaac79d40d1980"
 },
 "nbformat": 3,
 "nbformat_minor": 0,
 "worksheets": [
  {
   "cells": [
    {
     "cell_type": "heading",
     "level": 3,
     "metadata": {},
     "source": [
      "Preliminaries"
     ]
    },
    {
     "cell_type": "code",
     "collapsed": false,
     "input": [
      "# Preliminaries to setup the notebook.  \n",
      "%matplotlib inline\n",
      "%load_ext autoreload\n",
      "%autoreload 2\n",
      "\n",
      "# Import numerical libraries.  \n",
      "import numpy as np\n",
      "import matplotlib.pyplot as plt\n",
      "from scipy.stats import pearsonr\n",
      "from sklearn.ensemble import RandomForestRegressor,ExtraTreesRegressor\n",
      "from sklearn.cross_validation import ShuffleSplit,cross_val_score\n",
      "from sklearn.grid_search import GridSearchCV"
     ],
     "language": "python",
     "metadata": {},
     "outputs": [
      {
       "output_type": "stream",
       "stream": "stdout",
       "text": [
        "The autoreload extension is already loaded. To reload it, use:\n",
        "  %reload_ext autoreload\n"
       ]
      }
     ],
     "prompt_number": 7
    },
    {
     "cell_type": "code",
     "collapsed": false,
     "input": [
      "# Import the file I wrote to load the data from the tab-delimited text files.  \n",
      "import dream\n",
      "import loading\n",
      "import scoring"
     ],
     "language": "python",
     "metadata": {},
     "outputs": [],
     "prompt_number": 8
    },
    {
     "cell_type": "code",
     "collapsed": false,
     "input": [
      "# Load the perceptual descriptors data.  \n",
      "perceptual_headers, perceptual_obs_data = loading.load_perceptual_data('training')\n",
      "loading.format_leaderboard_perceptual_data()\n",
      "# Show the perceptual metadata types and perceptual descriptor names.\n",
      "print(perceptual_headers)"
     ],
     "language": "python",
     "metadata": {},
     "outputs": [
      {
       "output_type": "stream",
       "stream": "stdout",
       "text": [
        "['Compound Identifier', 'Odor', 'Replicate', 'Intensity', 'Dilution', 'subject #', 'INTENSITY/STRENGTH', 'VALENCE/PLEASANTNESS', 'BAKERY', 'SWEET', 'FRUIT', 'FISH', 'GARLIC', 'SPICES', 'COLD', 'SOUR', 'BURNT', 'ACID', 'WARM', 'MUSKY', 'SWEATY', 'AMMONIA/URINOUS', 'DECAYED', 'WOOD', 'GRASS', 'FLOWER', 'CHEMICAL']\n"
       ]
      }
     ],
     "prompt_number": 9
    },
    {
     "cell_type": "code",
     "collapsed": false,
     "input": [
      "# Show the metadata and perceptual descriptor values for the first compound.\n",
      "print(perceptual_obs_data[1])"
     ],
     "language": "python",
     "metadata": {},
     "outputs": [
      {
       "output_type": "stream",
       "stream": "stdout",
       "text": [
        "['126', '4-Hydroxybenzaldehyde', False, 'high', '1/10', '1', 37, 60, 0, 72, 0, 0, 0, 0, 0, 0, 0, 0, 0, 0, 0, 0, 0, 0, 0, 0, 0]\n"
       ]
      }
     ],
     "prompt_number": 10
    },
    {
     "cell_type": "code",
     "collapsed": false,
     "input": [
      "num_descriptors = len(perceptual_headers[6:])\n",
      "num_subjects = 49\n",
      "print('There are %d different perceptual descriptors and %d different subjects' % (num_descriptors,num_subjects))"
     ],
     "language": "python",
     "metadata": {},
     "outputs": [
      {
       "output_type": "stream",
       "stream": "stdout",
       "text": [
        "There are 21 different perceptual descriptors and 49 different subjects\n"
       ]
      }
     ],
     "prompt_number": 11
    },
    {
     "cell_type": "code",
     "collapsed": false,
     "input": [
      "# Load the molecular descriptors data.  \n",
      "molecular_headers, molecular_data = loading.load_molecular_data()\n",
      "print(\"First ten molecular descriptor types are %s\" % molecular_headers[:10])\n",
      "print(\"First ten descriptor values for the first compound are %s\" % molecular_data[0][:10])\n",
      "total_size = len(set([int(row[0]) for row in molecular_data]))\n",
      "print(\"We have molecular descriptors for %d unique molecules\" % total_size)"
     ],
     "language": "python",
     "metadata": {},
     "outputs": [
      {
       "output_type": "stream",
       "stream": "stdout",
       "text": [
        "First ten molecular descriptor types are ['CID', 'complexity from pubmed', 'MW', 'AMW', 'Sv', 'Se', 'Sp', 'Si', 'Mv', 'Me']\n",
        "First ten descriptor values for the first compound are ['126', 93.1, 122.13, 8.142, 10.01, 15.305, 10.193, 16.664, 0.667, 1.02]\n",
        "We have molecular descriptors for 476 unique molecules\n"
       ]
      }
     ],
     "prompt_number": 12
    },
    {
     "cell_type": "code",
     "collapsed": false,
     "input": [
      "training_size = len(set([int(row[0]) for row in perceptual_obs_data]))\n",
      "print(\"We have perceptual data for %d unique molecules\" % training_size)\n",
      "remaining_size = total_size - training_size\n",
      "print (\"%d are left out for testing in the competition; half of these (%d) are used for the leaderboard.\" \\\n",
      "       % (remaining_size,remaining_size/2))"
     ],
     "language": "python",
     "metadata": {},
     "outputs": [
      {
       "output_type": "stream",
       "stream": "stdout",
       "text": [
        "We have perceptual data for 338 unique molecules\n",
        "138 are left out for testing in the competition; half of these (69) are used for the leaderboard.\n"
       ]
      }
     ],
     "prompt_number": 13
    },
    {
     "cell_type": "code",
     "collapsed": false,
     "input": [
      "print(\"There are %d rows in the perceptual data set (at least one for each subject and molecule)\" % len(perceptual_obs_data))\n",
      "print(\"%d of these are replicates (same subject and molecules)\" % sum([x[2] for x in perceptual_obs_data]))"
     ],
     "language": "python",
     "metadata": {},
     "outputs": [
      {
       "output_type": "stream",
       "stream": "stdout",
       "text": [
        "There are 35084 rows in the perceptual data set (at least one for each subject and molecule)\n",
        "1960 of these are replicates (same subject and molecules)\n"
       ]
      }
     ],
     "prompt_number": 14
    },
    {
     "cell_type": "heading",
     "level": 3,
     "metadata": {},
     "source": [
      "Create Molecular Matrix"
     ]
    },
    {
     "cell_type": "code",
     "collapsed": false,
     "input": [
      "X_training,good1,good2,means,stds,imputer = dream.make_X(molecular_data,\"training\")\n",
      "X_training.shape"
     ],
     "language": "python",
     "metadata": {},
     "outputs": [
      {
       "output_type": "stream",
       "stream": "stdout",
       "text": [
        "Getting CIDs and dilutions...\n",
        "Getting basic molecular data..."
       ]
      },
      {
       "output_type": "stream",
       "stream": "stdout",
       "text": [
        "\n",
        "Adding dilution data..."
       ]
      },
      {
       "output_type": "stream",
       "stream": "stdout",
       "text": [
        "\n",
        "There are now 676 molecular vectors of length 4871, one for each molecule and dilution\n",
        "Building a matrix...\n",
        "The X matrix has shape (676x4871) (molecules by molecular descriptors)"
       ]
      },
      {
       "output_type": "stream",
       "stream": "stdout",
       "text": [
        "\n",
        "Purging data with too many NaNs...\n",
        "The X matrix has shape (676x4871) (molecules by good molecular descriptors)"
       ]
      },
      {
       "output_type": "stream",
       "stream": "stdout",
       "text": [
        "\n",
        "Imputing remaining NaN data...\n",
        "The X matrix now has shape (676x4871) (molecules by non-NaN good molecular descriptors)"
       ]
      },
      {
       "output_type": "stream",
       "stream": "stdout",
       "text": [
        "\n",
        "Purging data that is still bad, if any...\n",
        "The X matrix has shape (676x3033) (molecules by good molecular descriptors)\n",
        "Normalizing data for fitting...\n",
        "The X matrix now has shape (676x3033) molecules by non-NaN good molecular descriptors"
       ]
      },
      {
       "output_type": "stream",
       "stream": "stdout",
       "text": [
        "\n"
       ]
      },
      {
       "metadata": {},
       "output_type": "pyout",
       "prompt_number": 15,
       "text": [
        "(676, 3033)"
       ]
      }
     ],
     "prompt_number": 15
    },
    {
     "cell_type": "code",
     "collapsed": false,
     "input": [
      "X_leaderboard_other,good1,good2,means,stds,imputer = dream.make_X(molecular_data,\"leaderboard\",target_dilution='high',good1=good1,good2=good2,means=means,stds=stds)\n",
      "X_leaderboard_other.shape"
     ],
     "language": "python",
     "metadata": {},
     "outputs": [
      {
       "output_type": "stream",
       "stream": "stdout",
       "text": [
        "Getting CIDs and dilutions...\n",
        "Getting basic molecular data...\n",
        "Adding dilution data..."
       ]
      },
      {
       "output_type": "stream",
       "stream": "stdout",
       "text": [
        "\n",
        "There are now 69 molecular vectors of length 4871, one for each molecule and dilution\n",
        "Building a matrix...\n",
        "The X matrix has shape (69x4871) (molecules by molecular descriptors)\n",
        "Purging data with too many NaNs...\n",
        "The X matrix has shape (69x4871) (molecules by good molecular descriptors)\n",
        "Imputing remaining NaN data...\n",
        "The X matrix now has shape (69x4871) (molecules by non-NaN good molecular descriptors)\n",
        "Purging data that is still bad, if any...\n",
        "The X matrix has shape (69x3033) (molecules by good molecular descriptors)\n",
        "Normalizing data for fitting...\n",
        "The X matrix now has shape (69x3033) molecules by non-NaN good molecular descriptors\n"
       ]
      },
      {
       "metadata": {},
       "output_type": "pyout",
       "prompt_number": 16,
       "text": [
        "(69, 3033)"
       ]
      }
     ],
     "prompt_number": 16
    },
    {
     "cell_type": "code",
     "collapsed": false,
     "input": [
      "X_leaderboard_int,good1,good2,means,stds,imputer = dream.make_X(molecular_data,\"leaderboard\",target_dilution=-3,good1=good1,good2=good2,means=means,stds=stds)\n",
      "X_leaderboard_int.shape"
     ],
     "language": "python",
     "metadata": {},
     "outputs": [
      {
       "output_type": "stream",
       "stream": "stdout",
       "text": [
        "Getting CIDs and dilutions...\n",
        "Getting basic molecular data...\n",
        "Adding dilution data..."
       ]
      },
      {
       "output_type": "stream",
       "stream": "stdout",
       "text": [
        "\n",
        "There are now 69 molecular vectors of length 4871, one for each molecule and dilution\n",
        "Building a matrix...\n",
        "The X matrix has shape (69x4871) (molecules by molecular descriptors)\n",
        "Purging data with too many NaNs...\n",
        "The X matrix has shape (69x4871) (molecules by good molecular descriptors)\n",
        "Imputing remaining NaN data...\n",
        "The X matrix now has shape (69x4871) (molecules by non-NaN good molecular descriptors)\n",
        "Purging data that is still bad, if any...\n",
        "The X matrix has shape (69x3033) (molecules by good molecular descriptors)\n",
        "Normalizing data for fitting...\n",
        "The X matrix now has shape (69x3033) molecules by non-NaN good molecular descriptors\n"
       ]
      },
      {
       "metadata": {},
       "output_type": "pyout",
       "prompt_number": 17,
       "text": [
        "(69, 3033)"
       ]
      }
     ],
     "prompt_number": 17
    },
    {
     "cell_type": "code",
     "collapsed": false,
     "input": [
      "X_testset_other,good1,good2,means,stds,imputer = dream.make_X(molecular_data,\"testset\",target_dilution='high',good1=good1,good2=good2,means=means,stds=stds)\n",
      "X_testset_other.shape"
     ],
     "language": "python",
     "metadata": {},
     "outputs": [
      {
       "output_type": "stream",
       "stream": "stdout",
       "text": [
        "Getting CIDs and dilutions...\n",
        "Getting basic molecular data...\n",
        "Adding dilution data..."
       ]
      },
      {
       "output_type": "stream",
       "stream": "stdout",
       "text": [
        "\n",
        "There are now 69 molecular vectors of length 4871, one for each molecule and dilution\n",
        "Building a matrix...\n",
        "The X matrix has shape (69x4871) (molecules by molecular descriptors)\n",
        "Purging data with too many NaNs...\n",
        "The X matrix has shape (69x4871) (molecules by good molecular descriptors)\n",
        "Imputing remaining NaN data...\n",
        "The X matrix now has shape (69x4871) (molecules by non-NaN good molecular descriptors)\n",
        "Purging data that is still bad, if any...\n",
        "The X matrix has shape (69x3033) (molecules by good molecular descriptors)\n",
        "Normalizing data for fitting...\n",
        "The X matrix now has shape (69x3033) molecules by non-NaN good molecular descriptors"
       ]
      },
      {
       "output_type": "stream",
       "stream": "stdout",
       "text": [
        "\n"
       ]
      },
      {
       "metadata": {},
       "output_type": "pyout",
       "prompt_number": 18,
       "text": [
        "(69, 3033)"
       ]
      }
     ],
     "prompt_number": 18
    },
    {
     "cell_type": "code",
     "collapsed": false,
     "input": [
      "X_testset_int,good1,good2,means,stds,imputer = dream.make_X(molecular_data,\"testset\",target_dilution=-3,good1=good1,good2=good2,means=means,stds=stds)\n",
      "X_testset_int.shape"
     ],
     "language": "python",
     "metadata": {},
     "outputs": [
      {
       "output_type": "stream",
       "stream": "stdout",
       "text": [
        "Getting CIDs and dilutions...\n",
        "Getting basic molecular data...\n",
        "Adding dilution data..."
       ]
      },
      {
       "output_type": "stream",
       "stream": "stdout",
       "text": [
        "\n",
        "There are now 69 molecular vectors of length 4871, one for each molecule and dilution\n",
        "Building a matrix...\n",
        "The X matrix has shape (69x4871) (molecules by molecular descriptors)\n",
        "Purging data with too many NaNs...\n",
        "The X matrix has shape (69x4871) (molecules by good molecular descriptors)\n",
        "Imputing remaining NaN data...\n",
        "The X matrix now has shape (69x4871) (molecules by non-NaN good molecular descriptors)\n",
        "Purging data that is still bad, if any...\n",
        "The X matrix has shape (69x3033) (molecules by good molecular descriptors)\n",
        "Normalizing data for fitting...\n",
        "The X matrix now has shape (69x3033) molecules by non-NaN good molecular descriptors\n"
       ]
      },
      {
       "metadata": {},
       "output_type": "pyout",
       "prompt_number": 19,
       "text": [
        "(69, 3033)"
       ]
      }
     ],
     "prompt_number": 19
    },
    {
     "cell_type": "code",
     "collapsed": false,
     "input": [
      "X_all,good1,good2,means,stds,imputer = dream.make_X(molecular_data,['training','leaderboard'],good1=good1,good2=good2,means=means,stds=stds)\n",
      "X_all.shape"
     ],
     "language": "python",
     "metadata": {},
     "outputs": [
      {
       "output_type": "stream",
       "stream": "stdout",
       "text": [
        "Getting CIDs and dilutions...\n",
        "Getting basic molecular data..."
       ]
      },
      {
       "output_type": "stream",
       "stream": "stdout",
       "text": [
        "\n",
        "Adding dilution data..."
       ]
      },
      {
       "output_type": "stream",
       "stream": "stdout",
       "text": [
        "\n",
        "There are now 814 molecular vectors of length 4871, one for each molecule and dilution\n",
        "Building a matrix...\n",
        "The X matrix has shape (814x4871) (molecules by molecular descriptors)"
       ]
      },
      {
       "output_type": "stream",
       "stream": "stdout",
       "text": [
        "\n",
        "Purging data with too many NaNs...\n",
        "The X matrix has shape (814x4871) (molecules by good molecular descriptors)\n",
        "Imputing remaining NaN data..."
       ]
      },
      {
       "output_type": "stream",
       "stream": "stdout",
       "text": [
        "\n",
        "The X matrix now has shape (814x4871) (molecules by non-NaN good molecular descriptors)"
       ]
      },
      {
       "output_type": "stream",
       "stream": "stdout",
       "text": [
        "\n",
        "Purging data that is still bad, if any...\n",
        "The X matrix has shape (814x3033) (molecules by good molecular descriptors)\n",
        "Normalizing data for fitting...\n",
        "The X matrix now has shape (814x3033) molecules by non-NaN good molecular descriptors"
       ]
      },
      {
       "output_type": "stream",
       "stream": "stdout",
       "text": [
        "\n"
       ]
      },
      {
       "metadata": {},
       "output_type": "pyout",
       "prompt_number": 20,
       "text": [
        "(814, 3033)"
       ]
      }
     ],
     "prompt_number": 20
    },
    {
     "cell_type": "code",
     "collapsed": false,
     "input": [
      "Y_training,imputer = dream.make_Y_obs('training',target_dilution=None,imputer='median')"
     ],
     "language": "python",
     "metadata": {},
     "outputs": [
      {
       "output_type": "stream",
       "stream": "stdout",
       "text": [
        "Getting basic perceptual data...\n",
        "Flattening into vectors..."
       ]
      },
      {
       "output_type": "stream",
       "stream": "stdout",
       "text": [
        "\n",
        "Assembling into matrices..."
       ]
      },
      {
       "output_type": "stream",
       "stream": "stdout",
       "text": [
        "\n",
        "Y_obs['subject'] contains 49 matrices each with shape (676x21) (molecules by perceptual descriptors)"
       ]
      },
      {
       "output_type": "stream",
       "stream": "stdout",
       "text": [
        "\n",
        "The Y_obs['mean_std'] matrix has shape (676x42) (molecules by 2 x perceptual descriptors)\n",
        "Combining Y matrices...\n",
        "The Y['mean_std'] matrix now has shape (676x42) molecules by 2 x perceptual descriptors\n",
        "The Y['subject'] dict now has 49 matrices of shape (676x21) molecules by perceptual descriptors, one for each subject\n"
       ]
      }
     ],
     "prompt_number": 21
    },
    {
     "cell_type": "code",
     "collapsed": false,
     "input": [
      "Y_leaderboard,imputer = dream.make_Y_obs('leaderboard',target_dilution='gold',imputer='mask')"
     ],
     "language": "python",
     "metadata": {},
     "outputs": [
      {
       "output_type": "stream",
       "stream": "stdout",
       "text": [
        "Getting basic perceptual data...\n",
        "Flattening into vectors..."
       ]
      },
      {
       "output_type": "stream",
       "stream": "stdout",
       "text": [
        "\n",
        "Assembling into matrices..."
       ]
      },
      {
       "output_type": "stream",
       "stream": "stdout",
       "text": [
        "\n",
        "Y_obs['subject'] contains 49 matrices each with shape (69x21) (molecules by perceptual descriptors)"
       ]
      },
      {
       "output_type": "stream",
       "stream": "stdout",
       "text": [
        "\n",
        "The Y_obs['mean_std'] matrix has shape (69x42) (molecules by 2 x perceptual descriptors)\n",
        "Combining Y matrices...\n",
        "The Y['mean_std'] matrix now has shape (69x42) molecules by 2 x perceptual descriptors\n",
        "The Y['subject'] dict now has 49 matrices of shape (69x21) molecules by perceptual descriptors, one for each subject\n",
        "Getting basic perceptual data..."
       ]
      },
      {
       "output_type": "stream",
       "stream": "stdout",
       "text": [
        "\n",
        "Flattening into vectors..."
       ]
      },
      {
       "output_type": "stream",
       "stream": "stdout",
       "text": [
        "\n",
        "Assembling into matrices..."
       ]
      },
      {
       "output_type": "stream",
       "stream": "stdout",
       "text": [
        "\n",
        "Y_obs['subject'] contains 49 matrices each with shape (69x21) (molecules by perceptual descriptors)"
       ]
      },
      {
       "output_type": "stream",
       "stream": "stdout",
       "text": [
        "\n",
        "The Y_obs['mean_std'] matrix has shape (69x42) (molecules by 2 x perceptual descriptors)\n",
        "Combining Y matrices...\n",
        "The Y['mean_std'] matrix now has shape (69x42) molecules by 2 x perceptual descriptors\n",
        "The Y['subject'] dict now has 49 matrices of shape (69x21) molecules by perceptual descriptors, one for each subject\n"
       ]
      }
     ],
     "prompt_number": 22
    },
    {
     "cell_type": "code",
     "collapsed": false,
     "input": [
      "Y_all_imp,imputer = dream.make_Y_obs(['training','leaderboard'],target_dilution=None,imputer='median')"
     ],
     "language": "python",
     "metadata": {},
     "outputs": [
      {
       "output_type": "stream",
       "stream": "stdout",
       "text": [
        "Getting basic perceptual data...\n",
        "Flattening into vectors..."
       ]
      },
      {
       "output_type": "stream",
       "stream": "stdout",
       "text": [
        "\n",
        "Assembling into matrices..."
       ]
      },
      {
       "output_type": "stream",
       "stream": "stdout",
       "text": [
        "\n",
        "Y_obs['subject'] contains 49 matrices each with shape (676x21) (molecules by perceptual descriptors)"
       ]
      },
      {
       "output_type": "stream",
       "stream": "stdout",
       "text": [
        "\n",
        "The Y_obs['mean_std'] matrix has shape (676x42) (molecules by 2 x perceptual descriptors)\n",
        "Getting basic perceptual data..."
       ]
      },
      {
       "output_type": "stream",
       "stream": "stdout",
       "text": [
        "\n",
        "Flattening into vectors..."
       ]
      },
      {
       "output_type": "stream",
       "stream": "stdout",
       "text": [
        "\n",
        "Assembling into matrices..."
       ]
      },
      {
       "output_type": "stream",
       "stream": "stdout",
       "text": [
        "\n",
        "Y_obs['subject'] contains 49 matrices each with shape (138x21) (molecules by perceptual descriptors)"
       ]
      },
      {
       "output_type": "stream",
       "stream": "stdout",
       "text": [
        "\n",
        "The Y_obs['mean_std'] matrix has shape (138x42) (molecules by 2 x perceptual descriptors)\n",
        "Combining Y matrices...\n",
        "The Y['mean_std'] matrix now has shape (814x42) molecules by 2 x perceptual descriptors\n",
        "The Y['subject'] dict now has 49 matrices of shape (814x21) molecules by perceptual descriptors, one for each subject\n"
       ]
      }
     ],
     "prompt_number": 90
    },
    {
     "cell_type": "code",
     "collapsed": false,
     "input": [
      "Y_all_mask,imputer = dream.make_Y_obs(['training','leaderboard'],target_dilution=None,imputer='mask')"
     ],
     "language": "python",
     "metadata": {},
     "outputs": [
      {
       "output_type": "stream",
       "stream": "stdout",
       "text": [
        "Getting basic perceptual data...\n",
        "Flattening into vectors..."
       ]
      },
      {
       "output_type": "stream",
       "stream": "stdout",
       "text": [
        "\n",
        "Assembling into matrices..."
       ]
      },
      {
       "output_type": "stream",
       "stream": "stdout",
       "text": [
        "\n",
        "Y_obs['subject'] contains 49 matrices each with shape (676x21) (molecules by perceptual descriptors)"
       ]
      },
      {
       "output_type": "stream",
       "stream": "stdout",
       "text": [
        "\n",
        "The Y_obs['mean_std'] matrix has shape (676x42) (molecules by 2 x perceptual descriptors)\n",
        "Getting basic perceptual data..."
       ]
      },
      {
       "output_type": "stream",
       "stream": "stdout",
       "text": [
        "\n",
        "Flattening into vectors..."
       ]
      },
      {
       "output_type": "stream",
       "stream": "stdout",
       "text": [
        "\n",
        "Assembling into matrices..."
       ]
      },
      {
       "output_type": "stream",
       "stream": "stdout",
       "text": [
        "\n",
        "Y_obs['subject'] contains 49 matrices each with shape (138x21) (molecules by perceptual descriptors)"
       ]
      },
      {
       "output_type": "stream",
       "stream": "stdout",
       "text": [
        "\n",
        "The Y_obs['mean_std'] matrix has shape (138x42) (molecules by 2 x perceptual descriptors)\n",
        "Combining Y matrices...\n",
        "The Y['mean_std'] matrix now has shape (814x42) molecules by 2 x perceptual descriptors\n",
        "The Y['subject'] dict now has 49 matrices of shape (814x21) molecules by perceptual descriptors, one for each subject\n"
       ]
      }
     ],
     "prompt_number": 91
    },
    {
     "cell_type": "heading",
     "level": 3,
     "metadata": {},
     "source": [
      "Data preparation"
     ]
    },
    {
     "cell_type": "code",
     "collapsed": false,
     "input": [
      "# Delete replicates because I don't know how to deal with them right now.  \n",
      "#perceptual_obs_data = [row for row in perceptual_obs_data if row[2] is False]\n",
      "#print(\"There are %d non-replicated rows in the observed perceptual data\" % len(perceptual_obs_data))\n",
      "# Purge molecules from perceptual_vectors that are not in molecular_vectors.\n",
      "#for perceptual_vectors in [perceptual_obs_mean_vectors,perceptual_obs_std_vectors,perceptual_obs_subject_vectors]:\n",
      "#    perceptual_vectors = dream.retain(molecular_vectors,perceptual_vectors)\n",
      "#print(\"There are now %d x %d such vectors, one for each molecule and subject tested at %s dilution\" % \\\n",
      "#      (len(perceptual_obs_subject_vectors),len(list(perceptual_obs_subject_vectors.values())[0]),target_dilution))\n",
      "# Make sure we have the same number of molecules in both sets of vectors.  \n",
      "#print(\"There are now %d molecules in perceptual_vectors and %d molecules in molecular_vectors\" % \\\n",
      "#      (len(perceptual_obs_mean_vectors),len(molecular_vectors)))\n",
      "#print(\"These should be the same number.\")"
     ],
     "language": "python",
     "metadata": {},
     "outputs": [],
     "prompt_number": 24
    },
    {
     "cell_type": "code",
     "collapsed": false,
     "input": [
      "# Show the range of values for the molecular and perceptual descriptors.  \n",
      "plt.hist(X_training.ravel())\n",
      "plt.yscale('log')\n",
      "plt.ylabel('Count')\n",
      "plt.xlabel('Cube root transformed, N(0,1) normalized molecular descriptor values')\n",
      "plt.figure()\n",
      "plt.hist(Y_training['mean_std'][:21].ravel())\n",
      "plt.yscale('log')\n",
      "plt.ylabel('Count')\n",
      "plt.xlabel('Perceptual descriptor subject-averaged values')"
     ],
     "language": "python",
     "metadata": {},
     "outputs": [
      {
       "metadata": {},
       "output_type": "pyout",
       "prompt_number": 25,
       "text": [
        "<matplotlib.text.Text at 0x10e7b1be0>"
       ]
      },
      {
       "metadata": {},
       "output_type": "display_data",
       "png": "[encoded data removed]",
       "text": [
        "<matplotlib.figure.Figure at 0x10a6eaeb8>"
       ]
      },
      {
       "metadata": {},
       "output_type": "display_data",
       "png": "[encoded data removed]",
       "text": [
        "<matplotlib.figure.Figure at 0x10f4529b0>"
       ]
      }
     ],
     "prompt_number": 25
    },
    {
     "cell_type": "heading",
     "level": 2,
     "metadata": {},
     "source": [
      "Analysis"
     ]
    },
    {
     "cell_type": "code",
     "collapsed": false,
     "input": [
      "# Use random forest regression to fit the entire training data set.  \n",
      "\n",
      "def rfc_(X_train,Y_train,X_test_int,X_test_other,Y_test,max_features=1500,n_estimators=1000,max_depth=None,min_samples_leaf=1):\n",
      "    print(max_features)\n",
      "    def rfc_maker():\n",
      "        return RandomForestRegressor(max_features=max_features,\n",
      "                                     n_estimators=n_estimators,\n",
      "                                     max_depth=max_depth,\n",
      "                                     min_samples_leaf=min_samples_leaf,\n",
      "                                     n_jobs=-1,\n",
      "                                     oob_score=True,\n",
      "                                     random_state=0)\n",
      "        \n",
      "    rfc = rfc_maker()\n",
      "    rfc.fit(X_train,Y_train)\n",
      "    scores = {}\n",
      "    for phase,X,Y in [('train',X_train,Y_train),('test',(X_test_int,X_test_other),Y_test)]:\n",
      "        if phase == 'train':\n",
      "            predicted = rfc.oob_prediction_\n",
      "        else:\n",
      "            predicted = rfc.predict(X[1])\n",
      "            predicted_int = rfc.predict(X[0])\n",
      "            predicted[:,0] = predicted_int[:,0]\n",
      "            predicted[:,21] = predicted_int[:,21]\n",
      "        observed = Y\n",
      "        score = scoring.score2(predicted,observed)\n",
      "        r_int = scoring.r2('int','mean',predicted,observed)\n",
      "        r_ple = scoring.r2('ple','mean',predicted,observed)\n",
      "        r_dec = scoring.r2('dec','mean',predicted,observed)\n",
      "        r_int_sig = scoring.r2('int','sigma',predicted,observed)\n",
      "        r_ple_sig = scoring.r2('ple','sigma',predicted,observed)\n",
      "        r_dec_sig = scoring.r2('dec','sigma',predicted,observed)\n",
      "        print(\"For subchallenge 2, %s phase, score = %.2f (%.2f,%.2f,%.2f,%.2f,%.2f,%.2f)\" \\\n",
      "                % (phase,score,r_int,r_ple,r_dec,r_int_sig,r_ple_sig,r_dec_sig))\n",
      "        scores[phase] = score\n",
      "\n",
      "    return rfc,scores['train'],scores['test']"
     ],
     "language": "python",
     "metadata": {},
     "outputs": [],
     "prompt_number": 58
    },
    {
     "cell_type": "code",
     "collapsed": false,
     "input": [
      "ns = [None]\n",
      "rfcs = {}\n",
      "rfc2 = {}\n",
      "scores_train = []\n",
      "scores_test = []\n",
      "for n in ns:\n",
      "    rfcs[2],score_train,score_test = rfc_(X_training,Y_training['mean_std'],\n",
      "                                          X_leaderboard_int,X_leaderboard_other,\n",
      "                                          Y_leaderboard['mean_std'],2,\n",
      "                                          max_features=n,n_estimators=1000)\n",
      "    scores_train.append(score_train)\n",
      "    scores_test.append(score_test)\n",
      "    rfc2[n] = rfcs[2]\n",
      "plt.scatter(ns,scores_train,color='b')\n",
      "plt.scatter(ns,scores_test,color='r')"
     ],
     "language": "python",
     "metadata": {},
     "outputs": []
    },
    {
     "cell_type": "code",
     "collapsed": false,
     "input": [
      "from sklearn.linear_model import Lasso\n",
      "def lasso_(X_train,Y_train,X_test,Y_test,subchallenge,alpha=0.1,regularize=[0.7,0.7,0.7]):\n",
      "    if len(regularize)==1:\n",
      "        regularize = regularize*3\n",
      "    def lasso_maker():\n",
      "        return Lasso(alpha=alpha)\n",
      "    rfc = rfc_maker()\n",
      "    rfc.fit(X,Y)\n",
      "    x = rfc.predict(X)\n",
      "    x = rfc.oob_prediction_\n",
      "    y = Y\n",
      "    #scatter(x.ravel(),y.ravel())\n",
      "    score = scoring.score2(x,y)\n",
      "    r_int = scoring.r2('int','mean',x,y)\n",
      "    r_ple = scoring.r2('ple','mean',x,y)\n",
      "    r_dec = scoring.r2('dec','mean',x,y)\n",
      "    r_int_sig = scoring.r2('int','sigma',x,y)\n",
      "    r_ple_sig = scoring.r2('ple','sigma',x,y)\n",
      "    r_dec_sig = scoring.r2('dec','sigma',x,y)\n",
      "    print(\"For subchallenge %d, score = %.2f (%.2f,%.2f,%.2f,%.2f,%.2f,%.2f)\" \\\n",
      "       % (subchallenge,score,r_int,r_ple,r_dec,r_int_sig,r_ple_sig,r_dec_sig))\n",
      "    return lassos,score_train,score_test\n",
      "\n",
      "rfcs = {}\n",
      "rfcs[2],score = rfc_(X_training,Y_training['mean_std'],2)        "
     ],
     "language": "python",
     "metadata": {},
     "outputs": [
      {
       "output_type": "stream",
       "stream": "stdout",
       "text": [
        "0.01\n",
        "For subchallenge 1, train phase, score = 0.79"
       ]
      },
      {
       "output_type": "stream",
       "stream": "stdout",
       "text": [
        "\n",
        "For subchallenge 2, train phase, score = 0.92\n",
        "For subchallenge 1, test phase, score = 0.12"
       ]
      },
      {
       "output_type": "stream",
       "stream": "stdout",
       "text": [
        "\n",
        "For subchallenge 2, test phase, score = 0.15\n",
        "0.0268269579528\n",
        "For subchallenge 1, train phase, score = 0.78"
       ]
      },
      {
       "output_type": "stream",
       "stream": "stdout",
       "text": [
        "\n",
        "For subchallenge 2, train phase, score = 0.91\n",
        "For subchallenge 1, test phase, score = 0.14"
       ]
      },
      {
       "output_type": "stream",
       "stream": "stdout",
       "text": [
        "\n",
        "For subchallenge 2, test phase, score = 0.22\n",
        "0.0719685673001\n",
        "For subchallenge 1, train phase, score = 0.76"
       ]
      },
      {
       "output_type": "stream",
       "stream": "stdout",
       "text": [
        "\n",
        "For subchallenge 2, train phase, score = 0.90\n",
        "For subchallenge 1, test phase, score = 0.17"
       ]
      },
      {
       "output_type": "stream",
       "stream": "stdout",
       "text": [
        "\n",
        "For subchallenge 2, test phase, score = 0.27\n",
        "0.193069772888\n",
        "For subchallenge 1, train phase, score = 0.70"
       ]
      },
      {
       "output_type": "stream",
       "stream": "stdout",
       "text": [
        "\n",
        "For subchallenge 2, train phase, score = 0.86\n",
        "For subchallenge 1, test phase, score = 0.22"
       ]
      },
      {
       "output_type": "stream",
       "stream": "stdout",
       "text": [
        "\n",
        "For subchallenge 2, test phase, score = 0.40\n",
        "0.517947467923\n",
        "For subchallenge 1, train phase, score = 0.60"
       ]
      },
      {
       "output_type": "stream",
       "stream": "stdout",
       "text": [
        "\n",
        "For subchallenge 2, train phase, score = 0.78\n",
        "For subchallenge 1, test phase, score = 0.27"
       ]
      },
      {
       "output_type": "stream",
       "stream": "stdout",
       "text": [
        "\n",
        "For subchallenge 2, test phase, score = 0.52\n",
        "1.38949549437\n",
        "For subchallenge 1, train phase, score = 0.48"
       ]
      },
      {
       "output_type": "stream",
       "stream": "stdout",
       "text": [
        "\n",
        "For subchallenge 2, train phase, score = 0.68\n",
        "For subchallenge 1, test phase, score = 0.28"
       ]
      },
      {
       "output_type": "stream",
       "stream": "stdout",
       "text": [
        "\n",
        "For subchallenge 2, test phase, score = 0.58\n",
        "3.72759372031\n",
        "For subchallenge 1, train phase, score = 0.34"
       ]
      },
      {
       "output_type": "stream",
       "stream": "stdout",
       "text": [
        "\n",
        "For subchallenge 2, train phase, score = 0.54\n",
        "For subchallenge 1, test phase, score = 0.25"
       ]
      },
      {
       "output_type": "stream",
       "stream": "stdout",
       "text": [
        "\n",
        "For subchallenge 2, test phase, score = 0.50\n",
        "10.0\n",
        "For subchallenge 1, train phase, score = 0.23"
       ]
      },
      {
       "output_type": "stream",
       "stream": "stdout",
       "text": [
        "\n",
        "For subchallenge 2, train phase, score = 0.41\n",
        "For subchallenge 1, test phase, score = 0.21"
       ]
      },
      {
       "output_type": "stream",
       "stream": "stdout",
       "text": [
        "\n",
        "For subchallenge 2, test phase, score = 0.45\n"
       ]
      },
      {
       "metadata": {},
       "output_type": "display_data",
       "png": "[encoded data removed]",
       "text": [
        "<matplotlib.figure.Figure at 0x10bf8d5f8>"
       ]
      },
      {
       "metadata": {},
       "output_type": "display_data",
       "png": "[encoded data removed]",
       "text": [
        "<matplotlib.figure.Figure at 0x11d35fb70>"
       ]
      }
     ],
     "prompt_number": 411
    },
    {
     "cell_type": "code",
     "collapsed": false,
     "input": [],
     "language": "python",
     "metadata": {},
     "outputs": [
      {
       "output_type": "stream",
       "stream": "stdout",
       "text": [
        "1000\n",
        "1000\n",
        "1000\n",
        "1000\n",
        "1000\n",
        "1000\n",
        "int"
       ]
      },
      {
       "output_type": "stream",
       "stream": "stdout",
       "text": [
        " mean 0.670501156079\n",
        "ple mean 0.683321395665\n",
        "dec mean 0.558921885511\n",
        "int sigma 0.171139848451\n",
        "ple sigma 0.566402282556\n",
        "dec sigma 0.43961607973\n",
        "For subchallenge 2, score = 9.02 (0.67,0.68,0.56,0.17,0.57,0.44)\n"
       ]
      }
     ],
     "prompt_number": 39
    },
    {
     "cell_type": "code",
     "collapsed": false,
     "input": [
      "# Show that random forest regression also works really well out of sample.  \n",
      "\n",
      "# Show that random forest regression also works really well out of sample.                                                                                                                           \n",
      "def rfc_cv(X,Y,n_splits=10,max_features=1500,n_estimators=100,min_samples_leaf=1,max_depth=None,rfc=True):\n",
      "    if rfc:\n",
      "        rfc = RandomForestRegressor(max_features=max_features,\n",
      "                                n_estimators=n_estimators,\n",
      "                                max_depth=max_depth,\n",
      "                                min_samples_leaf=min_samples_leaf,\n",
      "                                oob_score=False,n_jobs=-1,random_state=0)\n",
      "    else:\n",
      "        rfc = ExtraTreesRegressor(max_features=max_features,\n",
      "                                n_estimators=n_estimators,\n",
      "                                max_depth=max_depth,\n",
      "                                min_samples_leaf=min_samples_leaf,\n",
      "                                  oob_score=False,n_jobs=-1,random_state=0)\n",
      "    test_size = 0.2\n",
      "    shuffle_split = ShuffleSplit(len(Y),n_splits,test_size=test_size)\n",
      "    test_size *= len(Y)\n",
      "    rs = {'int':{'mean':[],'sigma':[],'trans':[]},'ple':{'mean':[],'sigma':[]},'dec':{'mean':[],'sigma':[]}}\n",
      "    scores = []\n",
      "    for train_index,test_index in shuffle_split:\n",
      "        rfc.fit(X[train_index],Y[train_index])\n",
      "        predicted = rfc.predict(X[test_index])\n",
      "        observed = Y[test_index]\n",
      "        score = scoring.score2(predicted,observed)\n",
      "        scores.append(score)\n",
      "        for kind1 in ['int','ple','dec']:\n",
      "            for kind2 in ['mean','sigma']:\n",
      "                if kind2 in rs[kind1]:\n",
      "                    rs[kind1][kind2].append(scoring.r2(kind1,kind2,predicted,observed))\n",
      "        rs['int']['trans'].append(scoring.r2(None,None,f_int(predicted[:,0]),observed[:,21]))\n",
      "    for kind1 in ['int','ple','dec']:\n",
      "        for kind2 in ['mean','sigma','trans']:\n",
      "            if kind2 in rs[kind1]:\n",
      "                rs[kind1][kind2] = {'mean':np.mean(rs[kind1][kind2]),'sem':np.std(rs[kind1][kind2])/np.sqrt(n_splits)}\n",
      "    scores = {'mean':np.mean(scores),'sem':np.std(scores)/np.sqrt(n_splits)}\n",
      "    print(\"For subchallenge 2, using cross-validation with at most %d depth per tree:\" % max_depth)\n",
      "    print(\"\\tscore = %.2f+/- %.2f\" % (scores['mean'],scores['sem']))\n",
      "    for kind2 in ['mean','sigma','trans']:\n",
      "        for kind1 in ['int','ple','dec']:\n",
      "            if kind2 in rs[kind1]:\n",
      "                print(\"\\t%s_%s = %.2f+/- %.2f\" % (kind1,kind2,rs[kind1][kind2]['mean'],rs[kind1][kind2]['sem']))\n",
      "\n",
      "    return scores,rs\n",
      "\n",
      "def f_int(x, k0=0.718, k1=1.08):\n",
      "    return 100*(k0*(x/100)**(k1*0.5) - k0*(x/100)**(k1*2))\n"
     ],
     "language": "python",
     "metadata": {},
     "outputs": [],
     "prompt_number": 83
    },
    {
     "cell_type": "code",
     "collapsed": false,
     "input": [
      "ns = 2**np.linspace(0,5,10)\n",
      "rs = {n:rfc_cv(X_all,Y_all['mean_std'],n_splits=25,min_samples_leaf=n) for n in ns}\n",
      "for kind1 in ['int','ple','dec']:\n",
      "    for kind2 in ['mean','sigma','trans']:\n",
      "        if kind2 in rs[1.0][1][kind1]:\n",
      "            means = [rs[n][1][kind1][kind2]['mean'] for n in ns]\n",
      "            sems = [rs[n][1][kind1][kind2]['sem'] for n in ns]\n",
      "            plt.errorbar(ns,means,sems,label=kind1+'_'+kind2)\n",
      "            plt.xscale('log')\n",
      "            plt.xlim(1,100)\n",
      "            plt.legend()"
     ],
     "language": "python",
     "metadata": {},
     "outputs": [
      {
       "output_type": "stream",
       "stream": "stdout",
       "text": [
        "For subchallenge 2, using cross-validation with at least 1 samples per leaf:\n",
        "\tscore = 5.36+/- 0.13\n",
        "\tint_mean = 0.49+/- 0.01\n",
        "\tple_mean = 0.40+/- 0.01\n",
        "\tdec_mean = 0.31+/- 0.01\n",
        "\tint_sigma = 0.03+/- 0.01\n",
        "\tple_sigma = 0.36+/- 0.01\n",
        "\tdec_sigma = 0.27+/- 0.01\n",
        "\tint_trans = 0.20+/- 0.01\n",
        "For subchallenge 2, using cross-validation with at least 1 samples per leaf:"
       ]
      },
      {
       "output_type": "stream",
       "stream": "stdout",
       "text": [
        "\n",
        "\tscore = 5.18+/- 0.13\n",
        "\tint_mean = 0.46+/- 0.01\n",
        "\tple_mean = 0.39+/- 0.02\n",
        "\tdec_mean = 0.31+/- 0.01\n",
        "\tint_sigma = -0.00+/- 0.01\n",
        "\tple_sigma = 0.33+/- 0.01\n",
        "\tdec_sigma = 0.27+/- 0.01\n",
        "\tint_trans = 0.17+/- 0.01\n",
        "For subchallenge 2, using cross-validation with at least 2 samples per leaf:"
       ]
      },
      {
       "output_type": "stream",
       "stream": "stdout",
       "text": [
        "\n",
        "\tscore = 4.99+/- 0.13\n",
        "\tint_mean = 0.44+/- 0.01\n",
        "\tple_mean = 0.36+/- 0.01\n",
        "\tdec_mean = 0.29+/- 0.01\n",
        "\tint_sigma = 0.01+/- 0.01\n",
        "\tple_sigma = 0.35+/- 0.01\n",
        "\tdec_sigma = 0.26+/- 0.01\n",
        "\tint_trans = 0.14+/- 0.02\n",
        "For subchallenge 2, using cross-validation with at least 3 samples per leaf:"
       ]
      },
      {
       "output_type": "stream",
       "stream": "stdout",
       "text": [
        "\n",
        "\tscore = 5.12+/- 0.15\n",
        "\tint_mean = 0.45+/- 0.01\n",
        "\tple_mean = 0.39+/- 0.02\n",
        "\tdec_mean = 0.29+/- 0.01\n",
        "\tint_sigma = 0.02+/- 0.01\n",
        "\tple_sigma = 0.36+/- 0.01\n",
        "\tdec_sigma = 0.27+/- 0.01\n",
        "\tint_trans = 0.13+/- 0.01\n",
        "For subchallenge 2, using cross-validation with at least 4 samples per leaf:"
       ]
      },
      {
       "output_type": "stream",
       "stream": "stdout",
       "text": [
        "\n",
        "\tscore = 4.85+/- 0.13\n",
        "\tint_mean = 0.43+/- 0.01\n",
        "\tple_mean = 0.36+/- 0.01\n",
        "\tdec_mean = 0.27+/- 0.01\n",
        "\tint_sigma = 0.01+/- 0.01\n",
        "\tple_sigma = 0.34+/- 0.01\n",
        "\tdec_sigma = 0.26+/- 0.01\n",
        "\tint_trans = 0.13+/- 0.01\n",
        "For subchallenge 2, using cross-validation with at least 6 samples per leaf:"
       ]
      },
      {
       "output_type": "stream",
       "stream": "stdout",
       "text": [
        "\n",
        "\tscore = 4.94+/- 0.12\n",
        "\tint_mean = 0.46+/- 0.01\n",
        "\tple_mean = 0.34+/- 0.01\n",
        "\tdec_mean = 0.27+/- 0.01\n",
        "\tint_sigma = 0.05+/- 0.01\n",
        "\tple_sigma = 0.37+/- 0.01\n",
        "\tdec_sigma = 0.26+/- 0.01\n",
        "\tint_trans = 0.14+/- 0.01\n",
        "For subchallenge 2, using cross-validation with at least 10 samples per leaf:"
       ]
      },
      {
       "output_type": "stream",
       "stream": "stdout",
       "text": [
        "\n",
        "\tscore = 4.93+/- 0.13\n",
        "\tint_mean = 0.47+/- 0.01\n",
        "\tple_mean = 0.32+/- 0.02\n",
        "\tdec_mean = 0.26+/- 0.01\n",
        "\tint_sigma = 0.11+/- 0.01\n",
        "\tple_sigma = 0.38+/- 0.01\n",
        "\tdec_sigma = 0.25+/- 0.01\n",
        "\tint_trans = 0.17+/- 0.02\n",
        "For subchallenge 2, using cross-validation with at least 14 samples per leaf:"
       ]
      },
      {
       "output_type": "stream",
       "stream": "stdout",
       "text": [
        "\n",
        "\tscore = 4.35+/- 0.11\n",
        "\tint_mean = 0.45+/- 0.01\n",
        "\tple_mean = 0.26+/- 0.01\n",
        "\tdec_mean = 0.22+/- 0.01\n",
        "\tint_sigma = 0.10+/- 0.01\n",
        "\tple_sigma = 0.38+/- 0.01\n",
        "\tdec_sigma = 0.22+/- 0.01\n",
        "\tint_trans = 0.13+/- 0.01\n",
        "For subchallenge 2, using cross-validation with at least 21 samples per leaf:"
       ]
      },
      {
       "output_type": "stream",
       "stream": "stdout",
       "text": [
        "\n",
        "\tscore = 4.29+/- 0.12\n",
        "\tint_mean = 0.47+/- 0.02\n",
        "\tple_mean = 0.22+/- 0.01\n",
        "\tdec_mean = 0.22+/- 0.01\n",
        "\tint_sigma = 0.10+/- 0.01\n",
        "\tple_sigma = 0.39+/- 0.02\n",
        "\tdec_sigma = 0.22+/- 0.01\n",
        "\tint_trans = 0.12+/- 0.01\n",
        "For subchallenge 2, using cross-validation with at least 32 samples per leaf:"
       ]
      },
      {
       "output_type": "stream",
       "stream": "stdout",
       "text": [
        "\n",
        "\tscore = 4.16+/- 0.11\n",
        "\tint_mean = 0.44+/- 0.01\n",
        "\tple_mean = 0.24+/- 0.01\n",
        "\tdec_mean = 0.21+/- 0.01\n",
        "\tint_sigma = 0.10+/- 0.01\n",
        "\tple_sigma = 0.38+/- 0.01\n",
        "\tdec_sigma = 0.21+/- 0.01\n",
        "\tint_trans = 0.12+/- 0.02\n"
       ]
      },
      {
       "metadata": {},
       "output_type": "display_data",
       "png": "[encoded data removed]",
       "text": [
        "<matplotlib.figure.Figure at 0x116983e80>"
       ]
      }
     ],
     "prompt_number": 82
    },
    {
     "cell_type": "code",
     "collapsed": false,
     "input": [
      "import fit2"
     ],
     "language": "python",
     "metadata": {},
     "outputs": [],
     "prompt_number": 94
    },
    {
     "cell_type": "code",
     "collapsed": false,
     "input": [
      "ns = [1,2,4,8,16,32]\n",
      "rs = {n:fit2.rfc_cv(X_all,Y_all_imp['mean_std'],Y_all_mask['mean_std'],n_splits=15,n_estimators=25,min_samples_leaf=n) for n in ns}\n",
      "for kind1 in ['int','ple','dec']:\n",
      "    for kind2 in ['mean','sigma','trans']:\n",
      "        n_ = sorted(list(rs.keys()))[0]\n",
      "        if kind2 in rs[n_][1][kind1]:\n",
      "            means = [rs[n][1][kind1][kind2]['mean'] for n in ns]\n",
      "            sems = [rs[n][1][kind1][kind2]['sem'] for n in ns]\n",
      "            plt.errorbar(ns,means,sems,label=kind1+'_'+kind2)\n",
      "            plt.xscale('log')\n",
      "            plt.xlim(0.5,1000)\n",
      "            plt.xlabel('min_samples_leaf')\n",
      "            plt.ylabel('r')\n",
      "            plt.legend()"
     ],
     "language": "python",
     "metadata": {},
     "outputs": [
      {
       "output_type": "stream",
       "stream": "stdout",
       "text": [
        "For subchallenge 2, using cross-validation with:\n",
        "\tat most 1500 features:\n",
        "\tat least 1 samples per leaf:\n",
        "\tat most None depth:\n",
        "\tscore = 4.12+/- 0.15\n",
        "\tint_mean = 0.477+/- 0.015\n",
        "\tple_mean = 0.380+/- 0.023\n",
        "\tdec_mean = 0.253+/- 0.012\n",
        "\tint_sigma = -0.006+/- 0.011\n",
        "\tple_sigma = 0.161+/- 0.021\n",
        "\tdec_sigma = 0.191+/- 0.007\n",
        "\tint_trans = 0.156+/- 0.020\n",
        "For subchallenge 2, using cross-validation with:"
       ]
      },
      {
       "output_type": "stream",
       "stream": "stdout",
       "text": [
        "\n",
        "\tat most 1500 features:\n",
        "\tat least 2 samples per leaf:\n",
        "\tat most None depth:\n",
        "\tscore = 3.85+/- 0.18\n",
        "\tint_mean = 0.436+/- 0.018\n",
        "\tple_mean = 0.359+/- 0.019\n",
        "\tdec_mean = 0.223+/- 0.013\n",
        "\tint_sigma = -0.007+/- 0.017\n",
        "\tple_sigma = 0.166+/- 0.019\n",
        "\tdec_sigma = 0.191+/- 0.010\n",
        "\tint_trans = 0.122+/- 0.016\n",
        "For subchallenge 2, using cross-validation with:"
       ]
      },
      {
       "output_type": "stream",
       "stream": "stdout",
       "text": [
        "\n",
        "\tat most 1500 features:\n",
        "\tat least 4 samples per leaf:\n",
        "\tat most None depth:\n",
        "\tscore = 3.67+/- 0.11\n",
        "\tint_mean = 0.449+/- 0.012\n",
        "\tple_mean = 0.327+/- 0.015\n",
        "\tdec_mean = 0.197+/- 0.009\n",
        "\tint_sigma = 0.018+/- 0.025\n",
        "\tple_sigma = 0.144+/- 0.017\n",
        "\tdec_sigma = 0.192+/- 0.008\n",
        "\tint_trans = 0.103+/- 0.014\n",
        "For subchallenge 2, using cross-validation with:"
       ]
      },
      {
       "output_type": "stream",
       "stream": "stdout",
       "text": [
        "\n",
        "\tat most 1500 features:\n",
        "\tat least 8 samples per leaf:\n",
        "\tat most None depth:\n",
        "\tscore = 3.32+/- 0.16\n",
        "\tint_mean = 0.452+/- 0.022\n",
        "\tple_mean = 0.284+/- 0.018\n",
        "\tdec_mean = 0.163+/- 0.010\n",
        "\tint_sigma = 0.042+/- 0.020\n",
        "\tple_sigma = 0.149+/- 0.020\n",
        "\tdec_sigma = 0.171+/- 0.006\n",
        "\tint_trans = 0.087+/- 0.020\n",
        "For subchallenge 2, using cross-validation with:"
       ]
      },
      {
       "output_type": "stream",
       "stream": "stdout",
       "text": [
        "\n",
        "\tat most 1500 features:\n",
        "\tat least 16 samples per leaf:\n",
        "\tat most None depth:\n",
        "\tscore = 2.89+/- 0.10\n",
        "\tint_mean = 0.455+/- 0.014\n",
        "\tple_mean = 0.201+/- 0.015\n",
        "\tdec_mean = 0.126+/- 0.006\n",
        "\tint_sigma = 0.121+/- 0.022\n",
        "\tple_sigma = 0.134+/- 0.012\n",
        "\tdec_sigma = 0.141+/- 0.006\n",
        "\tint_trans = 0.143+/- 0.018\n",
        "For subchallenge 2, using cross-validation with:"
       ]
      },
      {
       "output_type": "stream",
       "stream": "stdout",
       "text": [
        "\n",
        "\tat most 1500 features:\n",
        "\tat least 32 samples per leaf:\n",
        "\tat most None depth:\n",
        "\tscore = 2.98+/- 0.15\n",
        "\tint_mean = 0.413+/- 0.018\n",
        "\tple_mean = 0.263+/- 0.021\n",
        "\tdec_mean = 0.125+/- 0.007\n",
        "\tint_sigma = 0.144+/- 0.020\n",
        "\tple_sigma = 0.128+/- 0.022\n",
        "\tdec_sigma = 0.149+/- 0.009\n",
        "\tint_trans = 0.147+/- 0.014\n"
       ]
      },
      {
       "metadata": {},
       "output_type": "display_data",
       "png": "[encoded data removed]",
       "text": [
        "<matplotlib.figure.Figure at 0x113865320>"
       ]
      }
     ],
     "prompt_number": 101
    },
    {
     "cell_type": "code",
     "collapsed": false,
     "input": [
      "ns = (2**np.linspace(1,5,9)).astype('int')\n",
      "rs = {n:rfc_cv(X_all,Y_all['mean_std'],n_splits=25,max_depth=n) for n in ns}\n",
      "for kind1 in ['int','ple','dec']:\n",
      "    for kind2 in ['mean','sigma','trans']:\n",
      "        if kind2 in rs[2.0][1][kind1]:\n",
      "            means = [rs[n][1][kind1][kind2]['mean'] for n in ns]\n",
      "            sems = [rs[n][1][kind1][kind2]['sem'] for n in ns]\n",
      "            plt.errorbar(ns,means,sems,label=kind1+'_'+kind2)\n",
      "            plt.xscale('log')\n",
      "            plt.xlabel('Max Depth')\n",
      "            plt.xlim(1,1000)\n",
      "            plt.legend()"
     ],
     "language": "python",
     "metadata": {},
     "outputs": [
      {
       "output_type": "stream",
       "stream": "stdout",
       "text": [
        "For subchallenge 2, using cross-validation with at most 2 depth per tree:\n",
        "\tscore = 3.85+/- 0.11\n",
        "\tint_mean = 0.40+/- 0.01\n",
        "\tple_mean = 0.21+/- 0.01\n",
        "\tdec_mean = 0.19+/- 0.01\n",
        "\tint_sigma = 0.11+/- 0.02\n",
        "\tple_sigma = 0.35+/- 0.01\n",
        "\tdec_sigma = 0.19+/- 0.01\n",
        "\tint_trans = 0.13+/- 0.02\n",
        "For subchallenge 2, using cross-validation with at most 2 depth per tree:"
       ]
      },
      {
       "output_type": "stream",
       "stream": "stdout",
       "text": [
        "\n",
        "\tscore = 3.95+/- 0.14\n",
        "\tint_mean = 0.40+/- 0.02\n",
        "\tple_mean = 0.21+/- 0.02\n",
        "\tdec_mean = 0.20+/- 0.01\n",
        "\tint_sigma = 0.12+/- 0.01\n",
        "\tple_sigma = 0.37+/- 0.02\n",
        "\tdec_sigma = 0.20+/- 0.01\n",
        "\tint_trans = 0.15+/- 0.02\n",
        "For subchallenge 2, using cross-validation with at most 4 depth per tree:"
       ]
      },
      {
       "output_type": "stream",
       "stream": "stdout",
       "text": [
        "\n",
        "\tscore = 4.99+/- 0.16\n",
        "\tint_mean = 0.47+/- 0.01\n",
        "\tple_mean = 0.31+/- 0.02\n",
        "\tdec_mean = 0.27+/- 0.01\n",
        "\tint_sigma = 0.09+/- 0.01\n",
        "\tple_sigma = 0.40+/- 0.01\n",
        "\tdec_sigma = 0.25+/- 0.01\n",
        "\tint_trans = 0.13+/- 0.01\n",
        "For subchallenge 2, using cross-validation with at most 5 depth per tree:"
       ]
      },
      {
       "output_type": "stream",
       "stream": "stdout",
       "text": [
        "\n",
        "\tscore = 4.82+/- 0.15\n",
        "\tint_mean = 0.45+/- 0.01\n",
        "\tple_mean = 0.31+/- 0.01\n",
        "\tdec_mean = 0.27+/- 0.01\n",
        "\tint_sigma = 0.07+/- 0.01\n",
        "\tple_sigma = 0.38+/- 0.01\n",
        "\tdec_sigma = 0.25+/- 0.01\n",
        "\tint_trans = 0.14+/- 0.02\n",
        "For subchallenge 2, using cross-validation with at most 8 depth per tree:"
       ]
      },
      {
       "output_type": "stream",
       "stream": "stdout",
       "text": [
        "\n",
        "\tscore = 5.55+/- 0.13\n",
        "\tint_mean = 0.47+/- 0.01\n",
        "\tple_mean = 0.39+/- 0.01\n",
        "\tdec_mean = 0.33+/- 0.01\n",
        "\tint_sigma = 0.04+/- 0.01\n",
        "\tple_sigma = 0.37+/- 0.01\n",
        "\tdec_sigma = 0.29+/- 0.01\n",
        "\tint_trans = 0.15+/- 0.01\n",
        "For subchallenge 2, using cross-validation with at most 11 depth per tree:"
       ]
      },
      {
       "output_type": "stream",
       "stream": "stdout",
       "text": [
        "\n",
        "\tscore = 5.53+/- 0.13\n",
        "\tint_mean = 0.47+/- 0.01\n",
        "\tple_mean = 0.41+/- 0.02\n",
        "\tdec_mean = 0.33+/- 0.01\n",
        "\tint_sigma = 0.01+/- 0.01\n",
        "\tple_sigma = 0.37+/- 0.01\n",
        "\tdec_sigma = 0.29+/- 0.01\n",
        "\tint_trans = 0.14+/- 0.02\n",
        "For subchallenge 2, using cross-validation with at most 16 depth per tree:"
       ]
      },
      {
       "output_type": "stream",
       "stream": "stdout",
       "text": [
        "\n",
        "\tscore = 5.35+/- 0.16\n",
        "\tint_mean = 0.48+/- 0.01\n",
        "\tple_mean = 0.39+/- 0.02\n",
        "\tdec_mean = 0.32+/- 0.01\n",
        "\tint_sigma = 0.01+/- 0.01\n",
        "\tple_sigma = 0.36+/- 0.01\n",
        "\tdec_sigma = 0.27+/- 0.01\n",
        "\tint_trans = 0.18+/- 0.02\n",
        "For subchallenge 2, using cross-validation with at most 22 depth per tree:"
       ]
      },
      {
       "output_type": "stream",
       "stream": "stdout",
       "text": [
        "\n",
        "\tscore = 5.29+/- 0.12\n",
        "\tint_mean = 0.49+/- 0.01\n",
        "\tple_mean = 0.38+/- 0.01\n",
        "\tdec_mean = 0.32+/- 0.01\n",
        "\tint_sigma = 0.00+/- 0.01\n",
        "\tple_sigma = 0.36+/- 0.01\n",
        "\tdec_sigma = 0.27+/- 0.01\n",
        "\tint_trans = 0.16+/- 0.02\n",
        "For subchallenge 2, using cross-validation with at most 32 depth per tree:"
       ]
      },
      {
       "output_type": "stream",
       "stream": "stdout",
       "text": [
        "\n",
        "\tscore = 5.32+/- 0.13\n",
        "\tint_mean = 0.48+/- 0.01\n",
        "\tple_mean = 0.40+/- 0.01\n",
        "\tdec_mean = 0.31+/- 0.01\n",
        "\tint_sigma = 0.02+/- 0.01\n",
        "\tple_sigma = 0.36+/- 0.01\n",
        "\tdec_sigma = 0.27+/- 0.01\n",
        "\tint_trans = 0.19+/- 0.02\n"
       ]
      },
      {
       "metadata": {},
       "output_type": "display_data",
       "png": "[encoded data removed]",
       "text": [
        "<matplotlib.figure.Figure at 0x10ee478d0>"
       ]
      }
     ],
     "prompt_number": 84
    },
    {
     "cell_type": "code",
     "collapsed": false,
     "input": [
      "ns = 2**np.linspace(1,5,5)\n",
      "rs = {n:rfc_cv(X_all,Y_all['mean_std'],min_samples_leaf=n) for n in ns}"
     ],
     "language": "python",
     "metadata": {},
     "outputs": [
      {
       "output_type": "stream",
       "stream": "stdout",
       "text": [
        "For subchallenge 2, using cross-validation with at least 2 samples per leaf:\n",
        "\tscore = 5.09+/- 0.17\n",
        "\tint_mean = 0.46+/- 0.02\n",
        "\tint_sigma = 0.05+/- 0.03\n",
        "\tple_mean = 0.36+/- 0.02\n",
        "\tple_sigma = 0.38+/- 0.03\n",
        "\tdec_mean = 0.29+/- 0.01\n",
        "\tdec_sigma = 0.26+/- 0.01\n",
        "For subchallenge 2, using cross-validation with at least 4 samples per leaf:"
       ]
      },
      {
       "output_type": "stream",
       "stream": "stdout",
       "text": [
        "\n",
        "\tscore = 4.42+/- 0.22\n",
        "\tint_mean = 0.41+/- 0.02\n",
        "\tint_sigma = 0.05+/- 0.03\n",
        "\tple_mean = 0.31+/- 0.02\n",
        "\tple_sigma = 0.33+/- 0.02\n",
        "\tdec_mean = 0.24+/- 0.01\n",
        "\tdec_sigma = 0.23+/- 0.01\n",
        "For subchallenge 2, using cross-validation with at least 8 samples per leaf:"
       ]
      },
      {
       "output_type": "stream",
       "stream": "stdout",
       "text": [
        "\n",
        "\tscore = 4.31+/- 0.20\n",
        "\tint_mean = 0.44+/- 0.02\n",
        "\tint_sigma = 0.08+/- 0.02\n",
        "\tple_mean = 0.28+/- 0.02\n",
        "\tple_sigma = 0.36+/- 0.03\n",
        "\tdec_mean = 0.22+/- 0.01\n",
        "\tdec_sigma = 0.22+/- 0.01\n",
        "For subchallenge 2, using cross-validation with at least 16 samples per leaf:"
       ]
      },
      {
       "output_type": "stream",
       "stream": "stdout",
       "text": [
        "\n",
        "\tscore = 4.19+/- 0.19\n",
        "\tint_mean = 0.43+/- 0.02\n",
        "\tint_sigma = 0.10+/- 0.02\n",
        "\tple_mean = 0.24+/- 0.02\n",
        "\tple_sigma = 0.38+/- 0.02\n",
        "\tdec_mean = 0.22+/- 0.01\n",
        "\tdec_sigma = 0.21+/- 0.01\n",
        "For subchallenge 2, using cross-validation with at least 32 samples per leaf:"
       ]
      },
      {
       "output_type": "stream",
       "stream": "stdout",
       "text": [
        "\n",
        "\tscore = 3.91+/- 0.12\n",
        "\tint_mean = 0.43+/- 0.02\n",
        "\tint_sigma = 0.10+/- 0.02\n",
        "\tple_mean = 0.19+/- 0.02\n",
        "\tple_sigma = 0.37+/- 0.02\n",
        "\tdec_mean = 0.19+/- 0.01\n",
        "\tdec_sigma = 0.20+/- 0.01\n"
       ]
      }
     ],
     "prompt_number": 72
    },
    {
     "cell_type": "code",
     "collapsed": false,
     "input": [
      "ns = np.logspace(1,3.48,12).astype('int')\n",
      "rs = {10: ({'mean': 4.5287503680444283, 'sem': 0.13714615321987517},\n",
      "  {'dec': {'mean': {'mean': 0.35741904017752996, 'sem': 0.010048318402360087},\n",
      "    'sigma': {'mean': 0.26364038011571522, 'sem': 0.0066697475868345195}},\n",
      "   'int': {'mean': {'mean': 0.095846326633119261, 'sem': 0.011534906168037609},\n",
      "    'sigma': {'mean': -0.19442773962706283, 'sem': 0.013246295480355922},\n",
      "    'trans': {'mean': -0.14841245979725629, 'sem': 0.014477101914558255}},\n",
      "   'ple': {'mean': {'mean': 0.56265800877494421, 'sem': 0.013762511615746981},\n",
      "    'sigma': {'mean': 0.078114653930579078, 'sem': 0.013059909526612193}}}),\n",
      " 16: ({'mean': 4.2762653281962626, 'sem': 0.14630142507898916},\n",
      "  {'dec': {'mean': {'mean': 0.33607958258692089, 'sem': 0.010755178194062617},\n",
      "    'sigma': {'mean': 0.24953806713067767, 'sem': 0.0072430177045214993}},\n",
      "   'int': {'mean': {'mean': 0.080597860297553225, 'sem': 0.010328564454501418},\n",
      "    'sigma': {'mean': -0.1831432623519923, 'sem': 0.015823665199024079},\n",
      "    'trans': {'mean': -0.1339838955094253, 'sem': 0.016009654970459093}},\n",
      "   'ple': {'mean': {'mean': 0.53454801842938016, 'sem': 0.013648074163107654},\n",
      "    'sigma': {'mean': 0.083599248367205059, 'sem': 0.010150692008152835}}}),\n",
      " 28: ({'mean': 4.4701678025412317, 'sem': 0.14599522051390151},\n",
      "  {'dec': {'mean': {'mean': 0.34870707634403841, 'sem': 0.010376725741241408},\n",
      "    'sigma': {'mean': 0.26167957616840015, 'sem': 0.0076003340767839701}},\n",
      "   'int': {'mean': {'mean': 0.10319739802052659, 'sem': 0.014246267245439325},\n",
      "    'sigma': {'mean': -0.19009823259725972, 'sem': 0.011209139395029032},\n",
      "    'trans': {'mean': -0.11650510017477485, 'sem': 0.012928859605985615}},\n",
      "   'ple': {'mean': {'mean': 0.5430733968547149, 'sem': 0.014784953521207751},\n",
      "    'sigma': {'mean': 0.090061683509025339, 'sem': 0.012478688832880159}}}),\n",
      " 47: ({'mean': 4.7253857892800202, 'sem': 0.1014228402373675},\n",
      "  {'dec': {'mean': {'mean': 0.36463523931447767, 'sem': 0.0077892818476017877},\n",
      "    'sigma': {'mean': 0.27848648194260939, 'sem': 0.0055596404826221855}},\n",
      "   'int': {'mean': {'mean': 0.12456193164028778, 'sem': 0.011020750201587774},\n",
      "    'sigma': {'mean': -0.19581291085950936, 'sem': 0.012204784570451606},\n",
      "    'trans': {'mean': -0.096822889766287681, 'sem': 0.015292940589798586}},\n",
      "   'ple': {'mean': {'mean': 0.55871347758289436, 'sem': 0.010607290634184519},\n",
      "    'sigma': {'mean': 0.098940792262160057, 'sem': 0.011444230404422117}}}),\n",
      " 79: ({'mean': 4.5948586693250224, 'sem': 0.14140871753848633},\n",
      "  {'dec': {'mean': {'mean': 0.35349151004259566, 'sem': 0.010578871458227949},\n",
      "    'sigma': {'mean': 0.26451399172704326, 'sem': 0.0073617384376021807}},\n",
      "   'int': {'mean': {'mean': 0.15749460124159698, 'sem': 0.014409412612637526},\n",
      "    'sigma': {'mean': -0.2013942721149391, 'sem': 0.013305349700475404},\n",
      "    'trans': {'mean': -0.060088766676318579, 'sem': 0.017177634996689763}},\n",
      "   'ple': {'mean': {'mean': 0.53488235662014261, 'sem': 0.012547643369955928},\n",
      "    'sigma': {'mean': 0.10970476070408371, 'sem': 0.0094896634896857648}}}),\n",
      " 134: ({'mean': 4.8539751223104419, 'sem': 0.1162501624649929},\n",
      "  {'dec': {'mean': {'mean': 0.35652418608559755, 'sem': 0.0087043702461469703},\n",
      "    'sigma': {'mean': 0.27728883132036353, 'sem': 0.0059275683871883537}},\n",
      "   'int': {'mean': {'mean': 0.19200644382156473, 'sem': 0.012530863162805508},\n",
      "    'sigma': {'mean': -0.1664127104350237, 'sem': 0.014727246170865512},\n",
      "    'trans': {'mean': -0.0050509811396929442, 'sem': 0.013512400586764228}},\n",
      "   'ple': {'mean': {'mean': 0.54832750777745565, 'sem': 0.0098732363104831779},\n",
      "    'sigma': {'mean': 0.14384012732930848, 'sem': 0.013526458292162615}}}),\n",
      " 225: ({'mean': 4.9870061127976335, 'sem': 0.081148988667772787},\n",
      "  {'dec': {'mean': {'mean': 0.35920173978820247, 'sem': 0.005771214032598007},\n",
      "    'sigma': {'mean': 0.28571600997788305, 'sem': 0.0044894837783576776}},\n",
      "   'int': {'mean': {'mean': 0.20899398507098751, 'sem': 0.0089409157503288449},\n",
      "    'sigma': {'mean': -0.1625729228151592, 'sem': 0.012846884683828403},\n",
      "    'trans': {'mean': -0.00029354436544479738, 'sem': 0.013363608550869724}},\n",
      "   'ple': {'mean': {'mean': 0.54321470659037041, 'sem': 0.0084886147095966039},\n",
      "    'sigma': {'mean': 0.17407163721666641, 'sem': 0.010335404716236968}}}),\n",
      " 378: ({'mean': 5.2309187208238734, 'sem': 0.10196943375487943},\n",
      "  {'dec': {'mean': {'mean': 0.36222194098676708, 'sem': 0.007045483436985178},\n",
      "    'sigma': {'mean': 0.28748525876153946, 'sem': 0.0047622927467698851}},\n",
      "   'int': {'mean': {'mean': 0.30763309255762561, 'sem': 0.010489674520969026},\n",
      "    'sigma': {'mean': -0.13437720563989827, 'sem': 0.015216850317463513},\n",
      "    'trans': {'mean': 0.077208246830087784, 'sem': 0.016776811806067937}},\n",
      "   'ple': {'mean': {'mean': 0.51666345722264007, 'sem': 0.012102754509798147},\n",
      "    'sigma': {'mean': 0.22387777822938859, 'sem': 0.012002426045896302}}}),\n",
      " 636: ({'mean': 5.2783150795158216, 'sem': 0.13760824709660485},\n",
      "  {'dec': {'mean': {'mean': 0.34389494434882933, 'sem': 0.010619378453447091},\n",
      "    'sigma': {'mean': 0.28352414027492062, 'sem': 0.0073509746683288425}},\n",
      "   'int': {'mean': {'mean': 0.3772666034669338, 'sem': 0.0089725357164009943},\n",
      "    'sigma': {'mean': -0.070406052406278383, 'sem': 0.013146427411079784},\n",
      "    'trans': {'mean': 0.12848715202789562, 'sem': 0.013902235706203112}},\n",
      "   'ple': {'mean': {'mean': 0.47628383046916783, 'sem': 0.012710721163219313},\n",
      "    'sigma': {'mean': 0.26026415548531601, 'sem': 0.010394694087536604}}}),\n",
      " 1069: ({'mean': 5.3546828132513324, 'sem': 0.12890359059613288},\n",
      "  {'dec': {'mean': {'mean': 0.33732613917980125, 'sem': 0.008720117607173207},\n",
      "    'sigma': {'mean': 0.27622741774403192, 'sem': 0.0071757382362265653}},\n",
      "   'int': {'mean': {'mean': 0.43133470244978406, 'sem': 0.010878799280296147},\n",
      "    'sigma': {'mean': -0.026361142275758507, 'sem': 0.015099084255438586},\n",
      "    'trans': {'mean': 0.13238543687124554, 'sem': 0.018554714187045213}},\n",
      "   'ple': {'mean': {'mean': 0.43199201719291991, 'sem': 0.014489942433701003},\n",
      "    'sigma': {'mean': 0.31700085937001704, 'sem': 0.013427424445132865}}}),\n",
      " 1796: ({'mean': 5.5498459671689746, 'sem': 0.13681528903807455},\n",
      "  {'dec': {'mean': {'mean': 0.32179820864086328, 'sem': 0.0094069815127022019},\n",
      "    'sigma': {'mean': 0.27898990045943434, 'sem': 0.0065779356885316484}},\n",
      "   'int': {'mean': {'mean': 0.51764555751818397, 'sem': 0.012206761954778787},\n",
      "    'sigma': {'mean': 0.055523211752833854, 'sem': 0.01355106954720255},\n",
      "    'trans': {'mean': 0.18963409134717207, 'sem': 0.017923968933286152}},\n",
      "   'ple': {'mean': {'mean': 0.3943537656955719, 'sem': 0.012444820366012996},\n",
      "    'sigma': {'mean': 0.37983842127958406, 'sem': 0.013840079795020142}}}),\n",
      " 3019: ({'mean': 5.3932719860365959, 'sem': 0.13908557141359157},\n",
      "  {'dec': {'mean': {'mean': 0.30618849055096442, 'sem': 0.0095607486607533522},\n",
      "    'sigma': {'mean': 0.26814972696669526, 'sem': 0.0062064562069586047}},\n",
      "   'int': {'mean': {'mean': 0.53539506258094605, 'sem': 0.012949449933710522},\n",
      "    'sigma': {'mean': 0.060942920358335699, 'sem': 0.013911404385486428},\n",
      "    'trans': {'mean': 0.17382531945634028, 'sem': 0.019449794276195469}},\n",
      "   'ple': {'mean': {'mean': 0.35777486592782493, 'sem': 0.014959772093079271},\n",
      "    'sigma': {'mean': 0.3948171320652123, 'sem': 0.014163182412156508}}})}\n",
      "\n",
      "for kind1 in ['int','ple','dec']:\n",
      "    for kind2 in ['mean','sigma','trans']:\n",
      "        if kind2 in rs[10][1][kind1]:\n",
      "            means = [rs[n][1][kind1][kind2]['mean'] for n in ns]\n",
      "            sems = [rs[n][1][kind1][kind2]['sem'] for n in ns]\n",
      "            plt.errorbar(ns,means,sems,label=kind1+'_'+kind2)\n",
      "            plt.xscale('log')\n",
      "            plt.xlim(10,100000)\n",
      "            plt.legend()"
     ],
     "language": "python",
     "metadata": {},
     "outputs": [
      {
       "metadata": {},
       "output_type": "display_data",
       "png": "[encoded data removed]",
       "text": [
        "<matplotlib.figure.Figure at 0x10eb08470>"
       ]
      }
     ],
     "prompt_number": 68
    },
    {
     "cell_type": "code",
     "collapsed": false,
     "input": [
      "max_features = {'int':{'mean':None,'sigma':None},\n",
      "                'ple':{'mean':100,'sigma':None},\n",
      "                'dec':{'mean':500,'sigma':500}}\n",
      "min_samples_leaf = {'int':{'mean':1,'sigma':4},\n",
      "                'ple':{'mean':1,'sigma':1},\n",
      "                'dec':{'mean':1,'sigma':1}}\n",
      "max_depth = {'int':{'mean':None,'sigma':2},\n",
      "                'ple':{'mean':10,'sigma':10},\n",
      "                'dec':{'mean':10,'sigma':10}}\n",
      "et = {'int':{'mean':True,'sigma':True},\n",
      "                'ple':{'mean':False,'sigma':False},\n",
      "                'dec':{'mean':False,'sigma':False}}\n",
      "#et['int'] = {'mean':False,'sigma':False} # Uncomment to get a correct score estimate, or leave commented to get best fit.  \n",
      "use_mask = {'int':{'mean':False,'sigma':True},\n",
      "                'ple':{'mean':False,'sigma':True},\n",
      "                'dec':{'mean':False,'sigma':True}}\n",
      "rfcs,score,rs = fit2.rfc_final(X_all,Y_all_imp['mean_std'],Y_all_mask['mean_std'],\n",
      "                            max_features,min_samples_leaf,max_depth,et,use_mask,\n",
      "                            n_estimators=25)"
     ],
     "language": "python",
     "metadata": {},
     "outputs": [
      {
       "output_type": "stream",
       "stream": "stdout",
       "text": [
        "For subchallenge 2:\n",
        "\tScore = 4.90\n",
        "\tint_mean = 0.505\n",
        "\tint_sigma = 0.108\n",
        "\tple_mean = 0.474\n",
        "\tple_sigma = 0.157\n",
        "\tdec_mean = 0.293\n",
        "\tdec_sigma = 0.228\n"
       ]
      }
     ],
     "prompt_number": 134
    },
    {
     "cell_type": "code",
     "collapsed": false,
     "input": [
      "loading.make_prediction_files(rfcs,X_testset_int,X_testset_other,'testset',2)"
     ],
     "language": "python",
     "metadata": {},
     "outputs": [
      {
       "metadata": {},
       "output_type": "pyout",
       "prompt_number": 138,
       "text": [
        "{'subject': {'mean': 0},\n",
        " 'mean_std': array([[ 29.03428571,  41.14556945,   1.87403226, ...,   9.22841343,\n",
        "          13.79978896,  20.44014431],\n",
        "        [ 59.83183673,  42.76811625,   1.79536928, ...,  10.1621546 ,\n",
        "          13.86535216,  20.8016414 ],\n",
        "        [ 38.55102041,  44.22726194,   1.81320515, ...,  10.46822151,\n",
        "          13.56348505,  19.97258104],\n",
        "        ..., \n",
        "        [ 45.13306122,  48.39592599,   2.5384564 , ...,  11.62488427,\n",
        "          15.55791194,  21.41427028],\n",
        "        [ 52.5322449 ,  46.48657348,   3.90909065, ...,  12.24456185,\n",
        "          14.97638103,  20.53915168],\n",
        "        [ 30.69795918,  49.59333148,   1.92022299, ...,  12.23868337,\n",
        "          16.4701788 ,  20.7653593 ]])}"
       ]
      }
     ],
     "prompt_number": 138
    },
    {
     "cell_type": "heading",
     "level": 2,
     "metadata": {},
     "source": [
      "Leaderboard Output"
     ]
    },
    {
     "cell_type": "code",
     "collapsed": false,
     "input": [
      "Y_leaderboard_predicted = loading.make_prediction_files(rfcs,X_leaderboard_int,X_leaderboard_other,'leaderboard',2)\n",
      "print(\"This file should get: %s\" % scoring.score_summary2(Y_leaderboard_predicted['mean_std'],Y_leaderboard['mean_std']))"
     ],
     "language": "python",
     "metadata": {},
     "outputs": [
      {
       "output_type": "stream",
       "stream": "stdout",
       "text": [
        "This file should get: Score: 8.142154; rs = 0.648,0.514,0.515,0.300,0.151,0.453\n"
       ]
      }
     ],
     "prompt_number": 49
    },
    {
     "cell_type": "heading",
     "level": 2,
     "metadata": {},
     "source": [
      "Pooled Data Analysis"
     ]
    },
    {
     "cell_type": "code",
     "collapsed": false,
     "input": [
      "rfcs_final = {}\n",
      "rfcs_final[2],score_train,score_test = rfc_(X_all,Y_all['mean_std'],X_all,X_all,Y_all['mean_std'],\n",
      "                                            max_features=1600,n_estimators=2000)"
     ],
     "language": "python",
     "metadata": {},
     "outputs": [
      {
       "output_type": "stream",
       "stream": "stdout",
       "text": [
        "1600\n",
        "For subchallenge 2, train phase, score = 6.12 (0.55,0.44,0.37,0.03,0.39,0.31)"
       ]
      },
      {
       "output_type": "stream",
       "stream": "stdout",
       "text": [
        "\n",
        "For subchallenge 2, test phase, score = 17.50 (0.98,0.98,0.98,0.98,0.98,0.98)"
       ]
      },
      {
       "output_type": "stream",
       "stream": "stdout",
       "text": [
        "\n"
       ]
      }
     ],
     "prompt_number": 65
    },
    {
     "cell_type": "code",
     "collapsed": false,
     "input": [
      "'4:32pm'"
     ],
     "language": "python",
     "metadata": {},
     "outputs": [
      {
       "metadata": {},
       "output_type": "pyout",
       "prompt_number": 63,
       "text": [
        "'4:32pm'"
       ]
      }
     ],
     "prompt_number": 63
    },
    {
     "cell_type": "heading",
     "level": 2,
     "metadata": {},
     "source": [
      "Testset Output"
     ]
    },
    {
     "cell_type": "code",
     "collapsed": false,
     "input": [
      "Y_testset_predicted = loading.make_prediction_files(rfcs_final,X_testset_int,X_testset_other,'testset',2)"
     ],
     "language": "python",
     "metadata": {},
     "outputs": [],
     "prompt_number": 64
    },
    {
     "cell_type": "heading",
     "level": 2,
     "metadata": {},
     "source": [
      "Extras"
     ]
    },
    {
     "cell_type": "heading",
     "level": 3,
     "metadata": {},
     "source": [
      "Predicting the standard deviation from the mean"
     ]
    },
    {
     "cell_type": "code",
     "collapsed": false,
     "input": [
      "Y_training_mask,_ = dream.make_Y_obs(['training'],imputer='mask')\n",
      "Y_training_median,_ = dream.make_Y_obs(['training'],imputer='median')\n",
      "Y_training_zero,_ = dream.make_Y_obs(['training'],imputer='zero')"
     ],
     "language": "python",
     "metadata": {},
     "outputs": [
      {
       "output_type": "stream",
       "stream": "stdout",
       "text": [
        "Getting basic perceptual data...\n",
        "Flattening into vectors..."
       ]
      },
      {
       "output_type": "stream",
       "stream": "stdout",
       "text": [
        "\n",
        "Assembling into matrices..."
       ]
      },
      {
       "output_type": "stream",
       "stream": "stdout",
       "text": [
        "\n",
        "Y_obs['subject'] contains 49 matrices each with shape (676x21) (molecules by perceptual descriptors)"
       ]
      },
      {
       "output_type": "stream",
       "stream": "stdout",
       "text": [
        "\n",
        "The Y_obs['mean_std'] matrix has shape (676x42) (molecules by 2 x perceptual descriptors)\n",
        "Combining Y matrices...\n",
        "The Y['mean_std'] matrix now has shape (676x42) molecules by 2 x perceptual descriptors\n",
        "The Y['subject'] dict now has 49 matrices of shape (676x21) molecules by perceptual descriptors, one for each subject\n",
        "Getting basic perceptual data..."
       ]
      },
      {
       "output_type": "stream",
       "stream": "stdout",
       "text": [
        "\n",
        "Flattening into vectors..."
       ]
      },
      {
       "output_type": "stream",
       "stream": "stdout",
       "text": [
        "\n",
        "Assembling into matrices..."
       ]
      },
      {
       "output_type": "stream",
       "stream": "stdout",
       "text": [
        "\n",
        "Y_obs['subject'] contains 49 matrices each with shape (676x21) (molecules by perceptual descriptors)"
       ]
      },
      {
       "output_type": "stream",
       "stream": "stdout",
       "text": [
        "\n",
        "The Y_obs['mean_std'] matrix has shape (676x42) (molecules by 2 x perceptual descriptors)\n",
        "Combining Y matrices...\n",
        "The Y['mean_std'] matrix now has shape (676x42) molecules by 2 x perceptual descriptors\n",
        "The Y['subject'] dict now has 49 matrices of shape (676x21) molecules by perceptual descriptors, one for each subject\n",
        "Getting basic perceptual data..."
       ]
      },
      {
       "output_type": "stream",
       "stream": "stdout",
       "text": [
        "\n",
        "Flattening into vectors..."
       ]
      },
      {
       "output_type": "stream",
       "stream": "stdout",
       "text": [
        "\n",
        "Assembling into matrices..."
       ]
      },
      {
       "output_type": "stream",
       "stream": "stdout",
       "text": [
        "\n",
        "Y_obs['subject'] contains 49 matrices each with shape (676x21) (molecules by perceptual descriptors)"
       ]
      },
      {
       "output_type": "stream",
       "stream": "stdout",
       "text": [
        "\n",
        "The Y_obs['mean_std'] matrix has shape (676x42) (molecules by 2 x perceptual descriptors)\n",
        "Combining Y matrices...\n",
        "The Y['mean_std'] matrix now has shape (676x42) molecules by 2 x perceptual descriptors\n",
        "The Y['subject'] dict now has 49 matrices of shape (676x21) molecules by perceptual descriptors, one for each subject\n"
       ]
      }
     ],
     "prompt_number": 59
    },
    {
     "cell_type": "code",
     "collapsed": false,
     "input": [
      "y = Y_all_mask\n",
      "y_mean = y['mean_std'][:,:21]/100.0\n",
      "y_std = y['mean_std'][:,21:]/100.0"
     ],
     "language": "python",
     "metadata": {},
     "outputs": [],
     "prompt_number": 130
    },
    {
     "cell_type": "code",
     "collapsed": false,
     "input": [
      "from scipy.optimize import curve_fit\n",
      "x = y_mean[:,0]\n",
      "y = y_std[:,0]\n",
      "def f(x,k0,k1):\n",
      "    return k0*x**(k1*0.5) - k0*x**(k1*2)\n",
      "k0,k1=curve_fit(f,x,y,p0=[0.7,1],maxfev=10000)[0]\n",
      "print(\"k0=%.3g; k1=%.3g\" % (k0,k1))\n",
      "plt.scatter(x,y,label='Data')\n",
      "x_ = np.linspace(0,1.0,100)\n",
      "plt.plot(x_,f(x_,k0,k1),color='r',linewidth=3,label='Fit')\n",
      "plt.xlabel('Intensity Mean')\n",
      "plt.ylabel('Intensity StDev')\n",
      "plt.legend()\n",
      "plt.figure()\n",
      "plt.scatter(x,y-f(x,k0,k1))\n",
      "def f_int(x):\n",
      "    return 100*(k0*(x/100)**(k1*0.5) - k0*(x/100)**(k1*2))\n",
      "\n",
      "#print('r using fit itself = %.3g' % scoring.r2(None,None,rfcs[2][0][3].oob_prediction_[:,21],Y_training['mean_std'][:,21]))\n",
      "#print('r using f_int = %.3g' % scoring.r2(None,None,f_int(rfcs[2][0][0].oob_prediction_[:,0]),Y_training['mean_std'][:,21]))\n",
      "#print('r using f_int = %.3g' % scoring.r2(None,None,rfcs[2][0][0].oob_prediction_[:,0],Y_training['mean_std'][:,0]))"
     ],
     "language": "python",
     "metadata": {},
     "outputs": [
      {
       "output_type": "stream",
       "stream": "stdout",
       "text": [
        "k0=0.718; k1=1.08\n"
       ]
      },
      {
       "metadata": {},
       "output_type": "display_data",
       "png": "[encoded data removed]",
       "text": [
        "<matplotlib.figure.Figure at 0x113b80a20>"
       ]
      },
      {
       "metadata": {},
       "output_type": "display_data",
       "png": "[encoded data removed]",
       "text": [
        "<matplotlib.figure.Figure at 0x113b80208>"
       ]
      }
     ],
     "prompt_number": 131
    },
    {
     "cell_type": "code",
     "collapsed": false,
     "input": [
      "# Use random forest regression to fit the entire training data set, one descriptor set at a time.  \n",
      "\n",
      "mf = 1500\n",
      "ne = 1000\n",
      "def rf_maker(mf,ne):\n",
      "    return RandomForestRegressor(max_features=mf,n_estimators=ne,\n",
      "                                     n_jobs=-1,\n",
      "                                     oob_score=True)\n",
      "rf1,rf2,rf3,rf4 = [rf_maker(mf,ne) for _ in range(4)]\n",
      "\n",
      "x = X_training\n",
      "y = Y_training_median['mean_std']#[:,0]\n",
      "rf1.fit(x[:,:],y)\n",
      "print(scoring.r2(None,None,rf1.oob_prediction_[:,0],y[:,0]))\n",
      "print(scoring.r2(None,None,rf2.oob_prediction_[:,0],y[:,0]))\n",
      "y = Y_training_mask['mean_std']#[:,0]\n",
      "rf3.fit(x[:,:],y)\n",
      "print(scoring.r2(None,None,rf3.oob_prediction_[:,0],y[:,0]))\n",
      "print(scoring.r2(None,None,rf4.oob_prediction_[:,0],y[:,0]))"
     ],
     "language": "python",
     "metadata": {},
     "outputs": [
      {
       "output_type": "stream",
       "stream": "stdout",
       "text": [
        "0.645192303727\n",
        "0.639349556798\n",
        "0.636628625104"
       ]
      },
      {
       "output_type": "stream",
       "stream": "stdout",
       "text": [
        "\n",
        "0.627086282222\n"
       ]
      }
     ],
     "prompt_number": 164
    },
    {
     "cell_type": "code",
     "collapsed": false,
     "input": [
      "for rf in [rf1,rf3]:\n",
      "    print('r_mean using leak = %.3g' % scoring.r2(None,None,rf.predict(X_leaderboard_int[:,:])[:,0],Y_leaderboard['mean_std'][:,0]))\n",
      "    print('r_std using leak = %.3g' % scoring.r2(None,None,rf.predict(X_leaderboard_int[:,:])[:,21],Y_leaderboard['mean_std'][:,21]))\n",
      "    print('r_std using f_int and leak= %.3g' % scoring.r2(None,None,f_int(rf.predict(X_leaderboard_int[:,:])[:,0]),Y_leaderboard['mean_std'][:,21]))\n",
      "for rf in [rf2,rf4]:\n",
      "    print('r_mean = %.3g' % scoring.r2(None,None,rf.predict(X_leaderboard_int[:,:-1])[:,0],Y_leaderboard['mean_std'][:,0]))\n",
      "    print('r_std = %.3g' % scoring.r2(None,None,rf.predict(X_leaderboard_int[:,:-1])[:,21],Y_leaderboard['mean_std'][:,21]))\n",
      "    print('r_std using f_int = %.3g' % scoring.r2(None,None,f_int(rf.predict(X_leaderboard_int[:,:-1])[:,0]),Y_leaderboard['mean_std'][:,21]))\n",
      "plt.scatter(rf1.predict(X_leaderboard_int[:,:])[:,0],Y_leaderboard['mean_std'][:,0])"
     ],
     "language": "python",
     "metadata": {},
     "outputs": [
      {
       "ename": "ValueError",
       "evalue": "operands could not be broadcast together with shapes (69,) (676,) ",
       "output_type": "pyerr",
       "traceback": [
        "\u001b[0;31m---------------------------------------------------------------------------\u001b[0m\n\u001b[0;31mValueError\u001b[0m                                Traceback (most recent call last)",
        "\u001b[0;32m<ipython-input-170-9823e300d2d6>\u001b[0m in \u001b[0;36m<module>\u001b[0;34m()\u001b[0m\n\u001b[1;32m      1\u001b[0m \u001b[0;32mfor\u001b[0m \u001b[0mrf\u001b[0m \u001b[0;32min\u001b[0m \u001b[0;34m[\u001b[0m\u001b[0mrf1\u001b[0m\u001b[0;34m,\u001b[0m\u001b[0mrf3\u001b[0m\u001b[0;34m]\u001b[0m\u001b[0;34m:\u001b[0m\u001b[0;34m\u001b[0m\u001b[0m\n\u001b[0;32m----> 2\u001b[0;31m     \u001b[0mprint\u001b[0m\u001b[0;34m(\u001b[0m\u001b[0;34m'r_mean using leak = %.3g'\u001b[0m \u001b[0;34m%\u001b[0m \u001b[0mscoring\u001b[0m\u001b[0;34m.\u001b[0m\u001b[0mr2\u001b[0m\u001b[0;34m(\u001b[0m\u001b[0;32mNone\u001b[0m\u001b[0;34m,\u001b[0m\u001b[0;32mNone\u001b[0m\u001b[0;34m,\u001b[0m\u001b[0mrf\u001b[0m\u001b[0;34m.\u001b[0m\u001b[0mpredict\u001b[0m\u001b[0;34m(\u001b[0m\u001b[0mX_leaderboard_int\u001b[0m\u001b[0;34m[\u001b[0m\u001b[0;34m:\u001b[0m\u001b[0;34m,\u001b[0m\u001b[0;34m:\u001b[0m\u001b[0;34m]\u001b[0m\u001b[0;34m)\u001b[0m\u001b[0;34m[\u001b[0m\u001b[0;34m:\u001b[0m\u001b[0;34m,\u001b[0m\u001b[0;36m0\u001b[0m\u001b[0;34m]\u001b[0m\u001b[0;34m,\u001b[0m\u001b[0mY_training\u001b[0m\u001b[0;34m[\u001b[0m\u001b[0;34m'mean_std'\u001b[0m\u001b[0;34m]\u001b[0m\u001b[0;34m[\u001b[0m\u001b[0;34m:\u001b[0m\u001b[0;34m,\u001b[0m\u001b[0;36m0\u001b[0m\u001b[0;34m]\u001b[0m\u001b[0;34m)\u001b[0m\u001b[0;34m)\u001b[0m\u001b[0;34m\u001b[0m\u001b[0m\n\u001b[0m\u001b[1;32m      3\u001b[0m     \u001b[0mprint\u001b[0m\u001b[0;34m(\u001b[0m\u001b[0;34m'r_std using leak = %.3g'\u001b[0m \u001b[0;34m%\u001b[0m \u001b[0mscoring\u001b[0m\u001b[0;34m.\u001b[0m\u001b[0mr2\u001b[0m\u001b[0;34m(\u001b[0m\u001b[0;32mNone\u001b[0m\u001b[0;34m,\u001b[0m\u001b[0;32mNone\u001b[0m\u001b[0;34m,\u001b[0m\u001b[0mrf\u001b[0m\u001b[0;34m.\u001b[0m\u001b[0mpredict\u001b[0m\u001b[0;34m(\u001b[0m\u001b[0mX_leaderboard_int\u001b[0m\u001b[0;34m[\u001b[0m\u001b[0;34m:\u001b[0m\u001b[0;34m,\u001b[0m\u001b[0;34m:\u001b[0m\u001b[0;34m]\u001b[0m\u001b[0;34m)\u001b[0m\u001b[0;34m[\u001b[0m\u001b[0;34m:\u001b[0m\u001b[0;34m,\u001b[0m\u001b[0;36m21\u001b[0m\u001b[0;34m]\u001b[0m\u001b[0;34m,\u001b[0m\u001b[0mY_training\u001b[0m\u001b[0;34m[\u001b[0m\u001b[0;34m'mean_std'\u001b[0m\u001b[0;34m]\u001b[0m\u001b[0;34m[\u001b[0m\u001b[0;34m:\u001b[0m\u001b[0;34m,\u001b[0m\u001b[0;36m21\u001b[0m\u001b[0;34m]\u001b[0m\u001b[0;34m)\u001b[0m\u001b[0;34m)\u001b[0m\u001b[0;34m\u001b[0m\u001b[0m\n\u001b[1;32m      4\u001b[0m     \u001b[0mprint\u001b[0m\u001b[0;34m(\u001b[0m\u001b[0;34m'r_std using f_int and leak= %.3g'\u001b[0m \u001b[0;34m%\u001b[0m \u001b[0mscoring\u001b[0m\u001b[0;34m.\u001b[0m\u001b[0mr2\u001b[0m\u001b[0;34m(\u001b[0m\u001b[0;32mNone\u001b[0m\u001b[0;34m,\u001b[0m\u001b[0;32mNone\u001b[0m\u001b[0;34m,\u001b[0m\u001b[0mf_int\u001b[0m\u001b[0;34m(\u001b[0m\u001b[0mrf\u001b[0m\u001b[0;34m.\u001b[0m\u001b[0mpredict\u001b[0m\u001b[0;34m(\u001b[0m\u001b[0mX_leaderboard_int\u001b[0m\u001b[0;34m[\u001b[0m\u001b[0;34m:\u001b[0m\u001b[0;34m,\u001b[0m\u001b[0;34m:\u001b[0m\u001b[0;34m]\u001b[0m\u001b[0;34m)\u001b[0m\u001b[0;34m[\u001b[0m\u001b[0;34m:\u001b[0m\u001b[0;34m,\u001b[0m\u001b[0;36m0\u001b[0m\u001b[0;34m]\u001b[0m\u001b[0;34m)\u001b[0m\u001b[0;34m,\u001b[0m\u001b[0mY_training\u001b[0m\u001b[0;34m[\u001b[0m\u001b[0;34m'mean_std'\u001b[0m\u001b[0;34m]\u001b[0m\u001b[0;34m[\u001b[0m\u001b[0;34m:\u001b[0m\u001b[0;34m,\u001b[0m\u001b[0;36m21\u001b[0m\u001b[0;34m]\u001b[0m\u001b[0;34m)\u001b[0m\u001b[0;34m)\u001b[0m\u001b[0;34m\u001b[0m\u001b[0m\n\u001b[1;32m      5\u001b[0m \u001b[0;32mfor\u001b[0m \u001b[0mrf\u001b[0m \u001b[0;32min\u001b[0m \u001b[0;34m[\u001b[0m\u001b[0mrf2\u001b[0m\u001b[0;34m,\u001b[0m\u001b[0mrf4\u001b[0m\u001b[0;34m]\u001b[0m\u001b[0;34m:\u001b[0m\u001b[0;34m\u001b[0m\u001b[0m\n",
        "\u001b[0;32m/Users/rgerkin/Dropbox/science/dream/scoring.py\u001b[0m in \u001b[0;36mr2\u001b[0;34m(kind, moment, predicted, observed)\u001b[0m\n\u001b[1;32m     77\u001b[0m         \u001b[0mp_\u001b[0m \u001b[0;34m=\u001b[0m \u001b[0mp\u001b[0m\u001b[0;34m[\u001b[0m\u001b[0;34m:\u001b[0m\u001b[0;34m,\u001b[0m\u001b[0mi\u001b[0m\u001b[0;34m]\u001b[0m\u001b[0;34m\u001b[0m\u001b[0m\n\u001b[1;32m     78\u001b[0m         \u001b[0mo_\u001b[0m \u001b[0;34m=\u001b[0m \u001b[0mo\u001b[0m\u001b[0;34m[\u001b[0m\u001b[0;34m:\u001b[0m\u001b[0;34m,\u001b[0m\u001b[0mi\u001b[0m\u001b[0;34m]\u001b[0m\u001b[0;34m\u001b[0m\u001b[0m\n\u001b[0;32m---> 79\u001b[0;31m         \u001b[0mr_\u001b[0m \u001b[0;34m=\u001b[0m \u001b[0mpearsonr\u001b[0m\u001b[0;34m(\u001b[0m\u001b[0mp_\u001b[0m\u001b[0;34m,\u001b[0m\u001b[0mo_\u001b[0m\u001b[0;34m)\u001b[0m\u001b[0;34m[\u001b[0m\u001b[0;36m0\u001b[0m\u001b[0;34m]\u001b[0m\u001b[0;34m\u001b[0m\u001b[0m\n\u001b[0m\u001b[1;32m     80\u001b[0m         \u001b[0;32mif\u001b[0m \u001b[0mnp\u001b[0m\u001b[0;34m.\u001b[0m\u001b[0misnan\u001b[0m\u001b[0;34m(\u001b[0m\u001b[0mr_\u001b[0m\u001b[0;34m)\u001b[0m\u001b[0;34m:\u001b[0m\u001b[0;34m\u001b[0m\u001b[0m\n\u001b[1;32m     81\u001b[0m             \u001b[0mprint\u001b[0m\u001b[0;34m(\u001b[0m\u001b[0;34m'NaN'\u001b[0m\u001b[0;34m)\u001b[0m\u001b[0;34m\u001b[0m\u001b[0m\n",
        "\u001b[0;32m/Users/rgerkin/Dropbox/python3/lib/python3.4/site-packages/scipy/stats/stats.py\u001b[0m in \u001b[0;36mpearsonr\u001b[0;34m(x, y)\u001b[0m\n\u001b[1;32m   2432\u001b[0m     \u001b[0mmy\u001b[0m \u001b[0;34m=\u001b[0m \u001b[0my\u001b[0m\u001b[0;34m.\u001b[0m\u001b[0mmean\u001b[0m\u001b[0;34m(\u001b[0m\u001b[0;34m)\u001b[0m\u001b[0;34m\u001b[0m\u001b[0m\n\u001b[1;32m   2433\u001b[0m     \u001b[0mxm\u001b[0m\u001b[0;34m,\u001b[0m \u001b[0mym\u001b[0m \u001b[0;34m=\u001b[0m \u001b[0mx\u001b[0m\u001b[0;34m-\u001b[0m\u001b[0mmx\u001b[0m\u001b[0;34m,\u001b[0m \u001b[0my\u001b[0m\u001b[0;34m-\u001b[0m\u001b[0mmy\u001b[0m\u001b[0;34m\u001b[0m\u001b[0m\n\u001b[0;32m-> 2434\u001b[0;31m     \u001b[0mr_num\u001b[0m \u001b[0;34m=\u001b[0m \u001b[0mnp\u001b[0m\u001b[0;34m.\u001b[0m\u001b[0madd\u001b[0m\u001b[0;34m.\u001b[0m\u001b[0mreduce\u001b[0m\u001b[0;34m(\u001b[0m\u001b[0mxm\u001b[0m \u001b[0;34m*\u001b[0m \u001b[0mym\u001b[0m\u001b[0;34m)\u001b[0m\u001b[0;34m\u001b[0m\u001b[0m\n\u001b[0m\u001b[1;32m   2435\u001b[0m     \u001b[0mr_den\u001b[0m \u001b[0;34m=\u001b[0m \u001b[0mnp\u001b[0m\u001b[0;34m.\u001b[0m\u001b[0msqrt\u001b[0m\u001b[0;34m(\u001b[0m\u001b[0mss\u001b[0m\u001b[0;34m(\u001b[0m\u001b[0mxm\u001b[0m\u001b[0;34m)\u001b[0m \u001b[0;34m*\u001b[0m \u001b[0mss\u001b[0m\u001b[0;34m(\u001b[0m\u001b[0mym\u001b[0m\u001b[0;34m)\u001b[0m\u001b[0;34m)\u001b[0m\u001b[0;34m\u001b[0m\u001b[0m\n\u001b[1;32m   2436\u001b[0m     \u001b[0mr\u001b[0m \u001b[0;34m=\u001b[0m \u001b[0mr_num\u001b[0m \u001b[0;34m/\u001b[0m \u001b[0mr_den\u001b[0m\u001b[0;34m\u001b[0m\u001b[0m\n",
        "\u001b[0;31mValueError\u001b[0m: operands could not be broadcast together with shapes (69,) (676,) "
       ]
      }
     ],
     "prompt_number": 170
    },
    {
     "cell_type": "code",
     "collapsed": false,
     "input": [
      "for mf in [100,200,400,800,1600,2500]:\n",
      "    rf = RandomForestRegressor(max_features=mf,n_estimators=1000,\n",
      "                                     n_jobs=-1,\n",
      "                                     oob_score=True,\n",
      "                                     random_state=0)\n",
      "    x = X_training\n",
      "    y_train = Y_training_median['mean_std']#[:,0]\n",
      "    y_test = Y_leaderboard['mean_std']\n",
      "    rf.fit(x,y_train)\n",
      "    print('r_mean oob using leak = %.3g' % scoring.r2(None,None,rf.oob_prediction_[:,0],y_train[:,0]))\n",
      "    print('r_std oob using leak = %.3g' % scoring.r2(None,None,rf.oob_prediction_[:,21],y_train[:,21]))\n",
      "    print('r_std oob using f_int and leak= %.3g' % scoring.r2(None,None,f_int(rf.oob_prediction_)[:,0],y_train[:,21]))\n",
      "    print('r_mean using leak = %.3g' % scoring.r2(None,None,rf.predict(X_leaderboard_int[:,:])[:,0],y_test[:,0]))\n",
      "    print('r_std using leak = %.3g' % scoring.r2(None,None,rf.predict(X_leaderboard_int[:,:])[:,21],y_test[:,21]))\n",
      "    print('r_std using f_int and leak= %.3g' % scoring.r2(None,None,f_int(rf.predict(X_leaderboard_int[:,:])[:,0]),y_test[:,21]))\n",
      "    print('----------')"
     ],
     "language": "python",
     "metadata": {},
     "outputs": [
      {
       "output_type": "stream",
       "stream": "stdout",
       "text": [
        "r_mean oob using leak = 0.28\n",
        "r_std oob using leak = -0.123\n",
        "r_std oob using f_int and leak= 0.0919\n",
        "r_mean using leak = 0.61"
       ]
      },
      {
       "output_type": "stream",
       "stream": "stdout",
       "text": [
        "\n",
        "r_std using leak = 0.365"
       ]
      },
      {
       "output_type": "stream",
       "stream": "stdout",
       "text": [
        "\n",
        "r_std using f_int and leak= 0.45"
       ]
      },
      {
       "output_type": "stream",
       "stream": "stdout",
       "text": [
        "\n",
        "----------\n",
        "r_mean oob using leak = 0.392"
       ]
      },
      {
       "output_type": "stream",
       "stream": "stdout",
       "text": [
        "\n",
        "r_std oob using leak = -0.0814\n",
        "r_std oob using f_int and leak= 0.174\n",
        "r_mean using leak = 0.613"
       ]
      },
      {
       "output_type": "stream",
       "stream": "stdout",
       "text": [
        "\n",
        "r_std using leak = 0.34"
       ]
      },
      {
       "output_type": "stream",
       "stream": "stdout",
       "text": [
        "\n",
        "r_std using f_int and leak= 0.426"
       ]
      },
      {
       "output_type": "stream",
       "stream": "stdout",
       "text": [
        "\n",
        "----------\n",
        "r_mean oob using leak = 0.513"
       ]
      },
      {
       "output_type": "stream",
       "stream": "stdout",
       "text": [
        "\n",
        "r_std oob using leak = -0.0242\n",
        "r_std oob using f_int and leak= 0.245\n",
        "r_mean using leak = 0.636"
       ]
      },
      {
       "output_type": "stream",
       "stream": "stdout",
       "text": [
        "\n",
        "r_std using leak = 0.36"
       ]
      },
      {
       "output_type": "stream",
       "stream": "stdout",
       "text": [
        "\n",
        "r_std using f_int and leak= 0.448"
       ]
      },
      {
       "output_type": "stream",
       "stream": "stdout",
       "text": [
        "\n",
        "----------\n",
        "r_mean oob using leak = 0.603"
       ]
      },
      {
       "output_type": "stream",
       "stream": "stdout",
       "text": [
        "\n",
        "r_std oob using leak = 0.0635\n",
        "r_std oob using f_int and leak= 0.276\n",
        "r_mean using leak = 0.641"
       ]
      },
      {
       "output_type": "stream",
       "stream": "stdout",
       "text": [
        "\n",
        "r_std using leak = 0.349"
       ]
      },
      {
       "output_type": "stream",
       "stream": "stdout",
       "text": [
        "\n",
        "r_std using f_int and leak= 0.404"
       ]
      },
      {
       "output_type": "stream",
       "stream": "stdout",
       "text": [
        "\n",
        "----------\n",
        "r_mean oob using leak = 0.649"
       ]
      },
      {
       "output_type": "stream",
       "stream": "stdout",
       "text": [
        "\n",
        "r_std oob using leak = 0.151\n",
        "r_std oob using f_int and leak= 0.306\n",
        "r_mean using leak = 0.65"
       ]
      },
      {
       "output_type": "stream",
       "stream": "stdout",
       "text": [
        "\n",
        "r_std using leak = 0.354"
       ]
      },
      {
       "output_type": "stream",
       "stream": "stdout",
       "text": [
        "\n",
        "r_std using f_int and leak= 0.401"
       ]
      },
      {
       "output_type": "stream",
       "stream": "stdout",
       "text": [
        "\n",
        "----------\n",
        "r_mean oob using leak = 0.668"
       ]
      },
      {
       "output_type": "stream",
       "stream": "stdout",
       "text": [
        "\n",
        "r_std oob using leak = 0.191\n",
        "r_std oob using f_int and leak= 0.316\n",
        "r_mean using leak = 0.654"
       ]
      },
      {
       "output_type": "stream",
       "stream": "stdout",
       "text": [
        "\n",
        "r_std using leak = 0.319"
       ]
      },
      {
       "output_type": "stream",
       "stream": "stdout",
       "text": [
        "\n",
        "r_std using f_int and leak= 0.37"
       ]
      },
      {
       "output_type": "stream",
       "stream": "stdout",
       "text": [
        "\n",
        "----------\n"
       ]
      }
     ],
     "prompt_number": 175
    },
    {
     "cell_type": "code",
     "collapsed": false,
     "input": [
      "fractions = np.linspace(0,1,25)\n",
      "rs = []\n",
      "for fraction in fractions:\n",
      "    prediction = fraction*f_int(rf_75.predict(X_leaderboard_int)[:,0])+(1-fraction)*rf_75.predict(X_leaderboard_int)[:,21]\n",
      "    rs.append(scoring.r2(None,None,prediction,y_test[:,21]))\n",
      "plt.plot(fractions,rs)"
     ],
     "language": "python",
     "metadata": {},
     "outputs": [
      {
       "metadata": {},
       "output_type": "pyout",
       "prompt_number": 190,
       "text": [
        "[<matplotlib.lines.Line2D at 0x10cf76dd8>]"
       ]
      },
      {
       "metadata": {},
       "output_type": "display_data",
       "png": "[encoded data removed]",
       "text": [
        "<matplotlib.figure.Figure at 0x10fd6b2e8>"
       ]
      }
     ],
     "prompt_number": 190
    },
    {
     "cell_type": "code",
     "collapsed": false,
     "input": [
      "plt.scatter(rf2.oob_prediction_[:,0],Y_training['mean_std'][:,0])"
     ],
     "language": "python",
     "metadata": {},
     "outputs": [
      {
       "metadata": {},
       "output_type": "pyout",
       "prompt_number": 162,
       "text": [
        "<matplotlib.collections.PathCollection at 0x161708eb8>"
       ]
      },
      {
       "metadata": {},
       "output_type": "display_data",
       "png": "[encoded data removed]",
       "text": [
        "<matplotlib.figure.Figure at 0x1334ca550>"
       ]
      }
     ],
     "prompt_number": 162
    },
    {
     "cell_type": "code",
     "collapsed": false,
     "input": [
      "from scipy.optimize import curve_fit\n",
      "x = y_mean[:,1]\n",
      "y = y_std[:,1]\n",
      "def f(x,k0,k1):\n",
      "    return k0*x**(k1*0.5) - k0*x**(k1*2)\n",
      "k0,k1=curve_fit(f,x,y,p0=[0.7,1])[0]\n",
      "print(k0,k1)\n",
      "plt.scatter(x,y,label='Data')\n",
      "x_ = np.linspace(0,1.0,100)\n",
      "plt.plot(x_,f(x_,k0,k1),color='r',linewidth=3,label='Fit')\n",
      "plt.xlabel('Pleasantness Mean')\n",
      "plt.ylabel('Pleasantness StDev')\n",
      "plt.legend()\n",
      "plt.legend()\n",
      "plt.figure()\n",
      "plt.scatter(x,y-f(x,k0,k1))\n",
      "def f_ple(x):\n",
      "    return 100*(k0*(x/100)**(k1*0.5) - k0*(x/100)**(k1*2))"
     ],
     "language": "python",
     "metadata": {},
     "outputs": [
      {
       "output_type": "stream",
       "stream": "stdout",
       "text": [
        "0.538255779759 1.10230197482\n"
       ]
      },
      {
       "metadata": {},
       "output_type": "display_data",
       "png": "[encoded data removed]",
       "text": [
        "<matplotlib.figure.Figure at 0x116a06e48>"
       ]
      },
      {
       "metadata": {},
       "output_type": "display_data",
       "png": "[encoded data removed]",
       "text": [
        "<matplotlib.figure.Figure at 0x11631fd68>"
       ]
      }
     ],
     "prompt_number": 69
    },
    {
     "cell_type": "code",
     "collapsed": false,
     "input": [
      "from scipy.optimize import curve_fit\n",
      "x = y_mean[:,2:21].ravel()\n",
      "y = y_std[:,2:21].ravel()\n",
      "def f(x,k0,k1):\n",
      "    return k0*x**(k1*0.5) - k0*x**(k1*2)\n",
      "k0,k1=curve_fit(f,x,y,p0=[0.7,1])[0]\n",
      "print(k0,k1)\n",
      "plt.scatter(x,y,label='Data')#Y_obs['mean_std'][:,0],Y_obs['mean_std'][:,21])\n",
      "x_ = np.linspace(0,1.0,100)\n",
      "plt.plot(x_,f(x_,k0,k1),color='r',linewidth=3,label='Fit')\n",
      "plt.xlabel('Other Descriptors Mean')\n",
      "plt.ylabel('Other Descriptors StDev')\n",
      "plt.legend()\n",
      "plt.legend()\n",
      "plt.figure()\n",
      "plt.scatter(x,y-f(x,k0,k1))\n",
      "def f_dec(x):\n",
      "    return 100*(k0*(x/100)**(k1*0.5) - k0*(x/100)**(k1*2))"
     ],
     "language": "python",
     "metadata": {},
     "outputs": [
      {
       "output_type": "stream",
       "stream": "stdout",
       "text": [
        "0.84174532839 1.13431226201\n"
       ]
      },
      {
       "metadata": {},
       "output_type": "display_data",
       "png": "[encoded data removed]",
       "text": [
        "<matplotlib.figure.Figure at 0x116603240>"
       ]
      },
      {
       "metadata": {},
       "output_type": "display_data",
       "png": "[encoded data removed]",
       "text": [
        "<matplotlib.figure.Figure at 0x11608ff60>"
       ]
      }
     ],
     "prompt_number": 70
    },
    {
     "cell_type": "heading",
     "level": 3,
     "metadata": {},
     "source": [
      "Imputation and Masks"
     ]
    },
    {
     "cell_type": "heading",
     "level": 4,
     "metadata": {},
     "source": [
      "Intensity Mean"
     ]
    },
    {
     "cell_type": "code",
     "collapsed": false,
     "input": [
      "Y_leaderboard = {}\n",
      "method = 'mask'\n",
      "rf = eval('rf_%s' % method)\n",
      "rf_int = eval('rf_%s_int' % method)\n",
      "rf_ple = eval('rf_%s_ple' % method)\n",
      "rf_dec = eval('rf_%s_dec' % method)\n",
      "Y_leaderboard['mean_std'] = rf.predict(X_leaderboard)\n",
      "Y_leaderboard['mean_std'][:,0] = rf_int.predict(X_leaderboard_intensity)\n",
      "Y_leaderboard['mean_std'][:,1] = rf_ple.predict(X_leaderboard)\n",
      "Y_leaderboard['mean_std'][:,2:21] = rf_dec.predict(X_leaderboard)\n",
      "Y_leaderboard['mean_std'][:,21] = f(rf_int.predict(X_leaderboard_intensity))\n",
      "Y_leaderboard['mean_std'][:,22] = rf.predict(X_leaderboard)[:,22]\n",
      "Y_leaderboard['mean_std'][:,23:42] = f(rf_dec.predict(X_leaderboard))\n",
      "write_prediction_files(name=method)"
     ],
     "language": "python",
     "metadata": {},
     "outputs": [],
     "prompt_number": 77
    },
    {
     "cell_type": "code",
     "collapsed": false,
     "input": [
      "estimator1 = Lasso(alpha=0.9,max_iter=5000)\n",
      "estimator2 = Lasso(alpha=0.9,max_iter=5000)\n",
      "estimator1.fit(X_obs,Y_obs['mean_std'][:,1])\n",
      "x = estimator1.coef_\n",
      "estimator2.fit(X_leaderboard,Y_leaderboard['mean_std'][:,1])\n",
      "y = estimator2.coef_\n",
      "plt.scatter(x,y)\n",
      "plt.figure()\n",
      "plt.plot(x,color='r')\n",
      "plt.plot(y,color='b')\n",
      "np.where(x*y > 0.01)"
     ],
     "language": "python",
     "metadata": {},
     "outputs": [
      {
       "metadata": {},
       "output_type": "pyout",
       "prompt_number": 275,
       "text": [
        "(array([2701, 2712, 2744]),)"
       ]
      },
      {
       "metadata": {},
       "output_type": "display_data",
       "png": "[encoded data removed]",
       "text": [
        "<matplotlib.figure.Figure at 0x11c8c60f0>"
       ]
      },
      {
       "metadata": {},
       "output_type": "display_data",
       "png": "[encoded data removed]",
       "text": [
        "<matplotlib.figure.Figure at 0x11c8c6080>"
       ]
      }
     ],
     "prompt_number": 275
    },
    {
     "cell_type": "code",
     "collapsed": false,
     "input": [
      "train = {}\n",
      "test = {}\n",
      "maxf = [   10.   ,   15.04  ,  22.61  ,  34.  ,    51.12   , 76.86 ,  115.57  , 173.78\n",
      "   261.3  ,  392.9  ,  590.78  , 888.32 , 1335.72 , 2008.43 , 3019.95]\n",
      "train['int_m'] = [ 5.825 , 5.863 , 5.977 , 6.086 , 6.205 , 6.432 , 6.698 , 6.919 , 7.331 , 7.798\n",
      "  8.016  8.187  8.436  8.303  8.472]\n",
      "test  [ 6.456  6.599  6.745  6.828  7.133  7.03   7.239  7.44   7.542  8.103\n",
      "  8.12   8.167  8.228  7.768  7.803]\n",
      "ple_m\n",
      "maxf  [   10.      15.04    22.61    34.      51.12    76.86   115.57   173.78\n",
      "   261.3    392.9    590.78   888.32  1335.72  2008.43  3019.95]\n",
      "train [ 0.147  0.152  0.166  0.186  0.212  0.247  0.294  0.323  0.417  0.502\n",
      "  0.544  0.591  0.632  0.647  0.658]\n",
      "test  [ 0.581  0.51   0.543  0.544  0.589  0.582  0.567  0.626  0.595  0.62\n",
      "  0.603  0.631  0.652  0.643  0.64 ]\n",
      "dec_m\n",
      "maxf  [   10.      15.04    22.61    34.      51.12    76.86   115.57   173.78\n",
      "   261.3    392.9    590.78   888.32  1335.72  2008.43  3019.95]\n",
      "train [ 0.657  0.654  0.656  0.653  0.652  0.657  0.652  0.663  0.64   0.643\n",
      "  0.625  0.598  0.6    0.554  0.545]\n",
      "test  [ 0.414  0.442  0.453  0.451  0.494  0.452  0.504  0.499  0.508  0.544\n",
      "  0.551  0.552  0.539  0.496  0.517]\n",
      "int_s\n",
      "maxf  [   10.      15.04    22.61    34.      51.12    76.86   115.57   173.78\n",
      "   261.3    392.9    590.78   888.32  1335.72  2008.43  3019.95]\n",
      "train [ 0.445  0.445  0.452  0.454  0.462  0.469  0.481  0.492  0.501  0.513\n",
      "  0.518  0.516  0.52   0.499  0.503]\n",
      "test  [ 0.389  0.416  0.426  0.421  0.433  0.442  0.451  0.469  0.47   0.514\n",
      "  0.509  0.509  0.517  0.487  0.483]\n",
      "ple_s\n",
      "maxf  [   10.      15.04    22.61    34.      51.12    76.86   115.57   173.78\n",
      "   261.3    392.9    590.78   888.32  1335.72  2008.43  3019.95]\n",
      "train [-0.154 -0.144 -0.148 -0.121 -0.132 -0.124 -0.101 -0.098 -0.057 -0.006\n",
      "  0.02   0.08   0.127  0.163  0.202]\n",
      "test  [ 0.333  0.342  0.316  0.327  0.334  0.331  0.336  0.324  0.345  0.39\n",
      "  0.358  0.361  0.344  0.307  0.266]\n",
      "dec_s\n",
      "maxf  [   10.      15.04    22.61    34.      51.12    76.86   115.57   173.78\n",
      "   261.3    392.9    590.78   888.32  1335.72  2008.43  3019.95]\n",
      "train [ 0.156  0.162  0.175  0.191  0.202  0.232  0.271  0.282  0.372  0.434\n",
      "  0.479  0.516  0.549  0.567  0.588]\n",
      "test  [ 0.084  0.011  0.017  0.094  0.108  0.047  0.054  0.047  0.118  0.078\n",
      "  0.142  0.149  0.156  0.142  0.189]\n"
     ],
     "language": "python",
     "metadata": {},
     "outputs": [
      {
       "ename": "SyntaxError",
       "evalue": "invalid syntax (<ipython-input-1-f4b7a7436a03>, line 3)",
       "output_type": "pyerr",
       "traceback": [
        "\u001b[0;36m  File \u001b[0;32m\"<ipython-input-1-f4b7a7436a03>\"\u001b[0;36m, line \u001b[0;32m3\u001b[0m\n\u001b[0;31m    maxf = [   10.      15.04    22.61    34.      51.12    76.86   115.57   173.78\u001b[0m\n\u001b[0m                            ^\u001b[0m\n\u001b[0;31mSyntaxError\u001b[0m\u001b[0;31m:\u001b[0m invalid syntax\n"
       ]
      }
     ],
     "prompt_number": 1
    },
    {
     "cell_type": "code",
     "collapsed": false,
     "input": [
      "ns = sorted(list(rfcs.keys()))\n"
     ],
     "language": "python",
     "metadata": {},
     "outputs": []
    }
   ],
   "metadata": {}
  }
 ]
}