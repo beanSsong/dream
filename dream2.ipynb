{
 "metadata": {
  "name": "",
  "signature": "sha256:ce4e9412aa8cdaaee106094dd4166bbbcda977e3b3b7fc54a1bd1c227dfc874e"
 },
 "nbformat": 3,
 "nbformat_minor": 0,
 "worksheets": [
  {
   "cells": [
    {
     "cell_type": "heading",
     "level": 3,
     "metadata": {},
     "source": [
      "Preliminaries"
     ]
    },
    {
     "cell_type": "code",
     "collapsed": false,
     "input": [
      "# Preliminaries to setup the notebook.  \n",
      "%matplotlib inline\n",
      "%load_ext autoreload\n",
      "%autoreload 2\n",
      "\n",
      "# Import numerical libraries.  \n",
      "import numpy as np\n",
      "import matplotlib.pyplot as plt\n",
      "from scipy.stats import pearsonr\n",
      "from sklearn.ensemble import RandomForestRegressor,ExtraTreesRegressor\n",
      "from sklearn.cross_validation import ShuffleSplit,cross_val_score\n",
      "from sklearn.grid_search import GridSearchCV"
     ],
     "language": "python",
     "metadata": {},
     "outputs": [
      {
       "output_type": "stream",
       "stream": "stdout",
       "text": [
        "The autoreload extension is already loaded. To reload it, use:\n",
        "  %reload_ext autoreload\n"
       ]
      }
     ],
     "prompt_number": 1
    },
    {
     "cell_type": "code",
     "collapsed": false,
     "input": [
      "# Import the file I wrote to load the data from the tab-delimited text files.  \n",
      "import dream\n",
      "import loading\n",
      "import scoring\n",
      "import fit2"
     ],
     "language": "python",
     "metadata": {},
     "outputs": [],
     "prompt_number": 2
    },
    {
     "cell_type": "code",
     "collapsed": false,
     "input": [
      "# Load the perceptual descriptors data.  \n",
      "perceptual_headers, perceptual_obs_data = loading.load_perceptual_data('training')\n",
      "loading.format_leaderboard_perceptual_data()\n",
      "# Show the perceptual metadata types and perceptual descriptor names.\n",
      "print(perceptual_headers)"
     ],
     "language": "python",
     "metadata": {},
     "outputs": [
      {
       "output_type": "stream",
       "stream": "stdout",
       "text": [
        "['Compound Identifier', 'Odor', 'Replicate', 'Intensity', 'Dilution', 'subject #', 'INTENSITY/STRENGTH', 'VALENCE/PLEASANTNESS', 'BAKERY', 'SWEET', 'FRUIT', 'FISH', 'GARLIC', 'SPICES', 'COLD', 'SOUR', 'BURNT', 'ACID', 'WARM', 'MUSKY', 'SWEATY', 'AMMONIA/URINOUS', 'DECAYED', 'WOOD', 'GRASS', 'FLOWER', 'CHEMICAL']\n"
       ]
      }
     ],
     "prompt_number": 3
    },
    {
     "cell_type": "code",
     "collapsed": false,
     "input": [
      "# Show the metadata and perceptual descriptor values for the first compound.\n",
      "print(perceptual_obs_data[1])"
     ],
     "language": "python",
     "metadata": {},
     "outputs": [
      {
       "output_type": "stream",
       "stream": "stdout",
       "text": [
        "['126', '4-Hydroxybenzaldehyde', False, 'high', '1/10', '1', 37, 60, 0, 72, 0, 0, 0, 0, 0, 0, 0, 0, 0, 0, 0, 0, 0, 0, 0, 0, 0]\n"
       ]
      }
     ],
     "prompt_number": 4
    },
    {
     "cell_type": "code",
     "collapsed": false,
     "input": [
      "num_descriptors = len(perceptual_headers[6:])\n",
      "num_subjects = 49\n",
      "print('There are %d different perceptual descriptors and %d different subjects' % (num_descriptors,num_subjects))"
     ],
     "language": "python",
     "metadata": {},
     "outputs": [
      {
       "output_type": "stream",
       "stream": "stdout",
       "text": [
        "There are 21 different perceptual descriptors and 49 different subjects\n"
       ]
      }
     ],
     "prompt_number": 5
    },
    {
     "cell_type": "code",
     "collapsed": false,
     "input": [
      "# Load the molecular descriptors data.  \n",
      "molecular_headers, molecular_data = loading.load_molecular_data()\n",
      "print(\"First ten molecular descriptor types are %s\" % molecular_headers[:10])\n",
      "print(\"First ten descriptor values for the first compound are %s\" % molecular_data[0][:10])\n",
      "total_size = len(set([int(row[0]) for row in molecular_data]))\n",
      "print(\"We have molecular descriptors for %d unique molecules\" % total_size)"
     ],
     "language": "python",
     "metadata": {},
     "outputs": [
      {
       "output_type": "stream",
       "stream": "stdout",
       "text": [
        "First ten molecular descriptor types are ['CID', 'complexity from pubmed', 'MW', 'AMW', 'Sv', 'Se', 'Sp', 'Si', 'Mv', 'Me']\n",
        "First ten descriptor values for the first compound are ['126', 93.1, 122.13, 8.142, 10.01, 15.305, 10.193, 16.664, 0.667, 1.02]\n",
        "We have molecular descriptors for 476 unique molecules\n"
       ]
      }
     ],
     "prompt_number": 6
    },
    {
     "cell_type": "code",
     "collapsed": false,
     "input": [
      "training_size = len(set([int(row[0]) for row in perceptual_obs_data]))\n",
      "print(\"We have perceptual data for %d unique molecules\" % training_size)\n",
      "remaining_size = total_size - training_size\n",
      "print (\"%d are left out for testing in the competition; half of these (%d) are used for the leaderboard.\" \\\n",
      "       % (remaining_size,remaining_size/2))"
     ],
     "language": "python",
     "metadata": {},
     "outputs": [
      {
       "output_type": "stream",
       "stream": "stdout",
       "text": [
        "We have perceptual data for 338 unique molecules\n",
        "138 are left out for testing in the competition; half of these (69) are used for the leaderboard.\n"
       ]
      }
     ],
     "prompt_number": 7
    },
    {
     "cell_type": "code",
     "collapsed": false,
     "input": [
      "print(\"There are %d rows in the perceptual data set (at least one for each subject and molecule)\" % len(perceptual_obs_data))\n",
      "print(\"%d of these are replicates (same subject and molecules)\" % sum([x[2] for x in perceptual_obs_data]))"
     ],
     "language": "python",
     "metadata": {},
     "outputs": [
      {
       "output_type": "stream",
       "stream": "stdout",
       "text": [
        "There are 35084 rows in the perceptual data set (at least one for each subject and molecule)\n",
        "1960 of these are replicates (same subject and molecules)\n"
       ]
      }
     ],
     "prompt_number": 8
    },
    {
     "cell_type": "heading",
     "level": 3,
     "metadata": {},
     "source": [
      "Create Molecular Matrix"
     ]
    },
    {
     "cell_type": "code",
     "collapsed": false,
     "input": [
      "X_training,good1,good2,means,stds,imputer = dream.make_X(molecular_data,\"training\")\n",
      "X_training.shape"
     ],
     "language": "python",
     "metadata": {},
     "outputs": [
      {
       "output_type": "stream",
       "stream": "stdout",
       "text": [
        "Getting CIDs and dilutions...\n",
        "Getting basic molecular data..."
       ]
      },
      {
       "output_type": "stream",
       "stream": "stdout",
       "text": [
        "\n",
        "Adding dilution data..."
       ]
      },
      {
       "output_type": "stream",
       "stream": "stdout",
       "text": [
        "\n",
        "There are now 676 molecular vectors of length 4871, one for each molecule and dilution\n",
        "Building a matrix...\n",
        "The X matrix has shape (676x4871) (molecules by molecular descriptors)\n",
        "Purging data with too many NaNs...\n",
        "The X matrix has shape (676x4871) (molecules by good molecular descriptors)"
       ]
      },
      {
       "output_type": "stream",
       "stream": "stdout",
       "text": [
        "\n",
        "Imputing remaining NaN data...\n",
        "The X matrix now has shape (676x4871) (molecules by non-NaN good molecular descriptors)"
       ]
      },
      {
       "output_type": "stream",
       "stream": "stdout",
       "text": [
        "\n",
        "Purging data that is still bad, if any...\n",
        "The X matrix has shape (676x3033) (molecules by good molecular descriptors)\n",
        "Normalizing data for fitting...\n",
        "The X matrix now has shape (676x3033) molecules by non-NaN good molecular descriptors"
       ]
      },
      {
       "output_type": "stream",
       "stream": "stdout",
       "text": [
        "\n"
       ]
      },
      {
       "metadata": {},
       "output_type": "pyout",
       "prompt_number": 9,
       "text": [
        "(676, 3033)"
       ]
      }
     ],
     "prompt_number": 9
    },
    {
     "cell_type": "code",
     "collapsed": false,
     "input": [
      "X_leaderboard_other,good1,good2,means,stds,imputer = dream.make_X(molecular_data,\"leaderboard\",target_dilution='high',good1=good1,good2=good2,means=means,stds=stds)\n",
      "X_leaderboard_other.shape"
     ],
     "language": "python",
     "metadata": {},
     "outputs": [
      {
       "output_type": "stream",
       "stream": "stdout",
       "text": [
        "Getting CIDs and dilutions...\n",
        "Getting basic molecular data...\n",
        "Adding dilution data..."
       ]
      },
      {
       "output_type": "stream",
       "stream": "stdout",
       "text": [
        "\n",
        "There are now 69 molecular vectors of length 4871, one for each molecule and dilution\n",
        "Building a matrix...\n",
        "The X matrix has shape (69x4871) (molecules by molecular descriptors)\n",
        "Purging data with too many NaNs...\n",
        "The X matrix has shape (69x4871) (molecules by good molecular descriptors)\n",
        "Imputing remaining NaN data...\n",
        "The X matrix now has shape (69x4871) (molecules by non-NaN good molecular descriptors)\n",
        "Purging data that is still bad, if any...\n",
        "The X matrix has shape (69x3033) (molecules by good molecular descriptors)\n",
        "Normalizing data for fitting...\n",
        "The X matrix now has shape (69x3033) molecules by non-NaN good molecular descriptors\n"
       ]
      },
      {
       "metadata": {},
       "output_type": "pyout",
       "prompt_number": 10,
       "text": [
        "(69, 3033)"
       ]
      }
     ],
     "prompt_number": 10
    },
    {
     "cell_type": "code",
     "collapsed": false,
     "input": [
      "X_leaderboard_int,good1,good2,means,stds,imputer = dream.make_X(molecular_data,\"leaderboard\",target_dilution=-3,good1=good1,good2=good2,means=means,stds=stds)\n",
      "X_leaderboard_int.shape"
     ],
     "language": "python",
     "metadata": {},
     "outputs": [
      {
       "output_type": "stream",
       "stream": "stdout",
       "text": [
        "Getting CIDs and dilutions...\n",
        "Getting basic molecular data...\n",
        "Adding dilution data..."
       ]
      },
      {
       "output_type": "stream",
       "stream": "stdout",
       "text": [
        "\n",
        "There are now 69 molecular vectors of length 4871, one for each molecule and dilution\n",
        "Building a matrix...\n",
        "The X matrix has shape (69x4871) (molecules by molecular descriptors)\n",
        "Purging data with too many NaNs...\n",
        "The X matrix has shape (69x4871) (molecules by good molecular descriptors)\n",
        "Imputing remaining NaN data...\n",
        "The X matrix now has shape (69x4871) (molecules by non-NaN good molecular descriptors)\n",
        "Purging data that is still bad, if any...\n",
        "The X matrix has shape (69x3033) (molecules by good molecular descriptors)\n",
        "Normalizing data for fitting...\n",
        "The X matrix now has shape (69x3033) molecules by non-NaN good molecular descriptors\n"
       ]
      },
      {
       "metadata": {},
       "output_type": "pyout",
       "prompt_number": 11,
       "text": [
        "(69, 3033)"
       ]
      }
     ],
     "prompt_number": 11
    },
    {
     "cell_type": "code",
     "collapsed": false,
     "input": [
      "X_testset_other,good1,good2,means,stds,imputer = dream.make_X(molecular_data,\"testset\",target_dilution='high',good1=good1,good2=good2,means=means,stds=stds)\n",
      "X_testset_other.shape"
     ],
     "language": "python",
     "metadata": {},
     "outputs": [
      {
       "output_type": "stream",
       "stream": "stdout",
       "text": [
        "Getting CIDs and dilutions...\n",
        "Getting basic molecular data...\n",
        "Adding dilution data..."
       ]
      },
      {
       "output_type": "stream",
       "stream": "stdout",
       "text": [
        "\n",
        "There are now 69 molecular vectors of length 4871, one for each molecule and dilution\n",
        "Building a matrix...\n",
        "The X matrix has shape (69x4871) (molecules by molecular descriptors)\n",
        "Purging data with too many NaNs...\n",
        "The X matrix has shape (69x4871) (molecules by good molecular descriptors)\n",
        "Imputing remaining NaN data...\n",
        "The X matrix now has shape (69x4871) (molecules by non-NaN good molecular descriptors)\n",
        "Purging data that is still bad, if any...\n",
        "The X matrix has shape (69x3033) (molecules by good molecular descriptors)\n",
        "Normalizing data for fitting...\n",
        "The X matrix now has shape (69x3033) molecules by non-NaN good molecular descriptors\n"
       ]
      },
      {
       "metadata": {},
       "output_type": "pyout",
       "prompt_number": 12,
       "text": [
        "(69, 3033)"
       ]
      }
     ],
     "prompt_number": 12
    },
    {
     "cell_type": "code",
     "collapsed": false,
     "input": [
      "X_testset_int,good1,good2,means,stds,imputer = dream.make_X(molecular_data,\"testset\",target_dilution=-3,good1=good1,good2=good2,means=means,stds=stds)\n",
      "X_testset_int.shape"
     ],
     "language": "python",
     "metadata": {},
     "outputs": [
      {
       "output_type": "stream",
       "stream": "stdout",
       "text": [
        "Getting CIDs and dilutions...\n",
        "Getting basic molecular data...\n",
        "Adding dilution data..."
       ]
      },
      {
       "output_type": "stream",
       "stream": "stdout",
       "text": [
        "\n",
        "There are now 69 molecular vectors of length 4871, one for each molecule and dilution\n",
        "Building a matrix...\n",
        "The X matrix has shape (69x4871) (molecules by molecular descriptors)\n",
        "Purging data with too many NaNs...\n",
        "The X matrix has shape (69x4871) (molecules by good molecular descriptors)\n",
        "Imputing remaining NaN data...\n",
        "The X matrix now has shape (69x4871) (molecules by non-NaN good molecular descriptors)\n",
        "Purging data that is still bad, if any...\n",
        "The X matrix has shape (69x3033) (molecules by good molecular descriptors)\n",
        "Normalizing data for fitting...\n",
        "The X matrix now has shape (69x3033) molecules by non-NaN good molecular descriptors\n"
       ]
      },
      {
       "metadata": {},
       "output_type": "pyout",
       "prompt_number": 13,
       "text": [
        "(69, 3033)"
       ]
      }
     ],
     "prompt_number": 13
    },
    {
     "cell_type": "code",
     "collapsed": false,
     "input": [
      "X_all,good1,good2,means,stds,imputer = dream.make_X(molecular_data,['training','leaderboard'],good1=good1,good2=good2,means=means,stds=stds)\n",
      "X_all.shape"
     ],
     "language": "python",
     "metadata": {},
     "outputs": [
      {
       "output_type": "stream",
       "stream": "stdout",
       "text": [
        "Getting CIDs and dilutions...\n",
        "Getting basic molecular data..."
       ]
      },
      {
       "output_type": "stream",
       "stream": "stdout",
       "text": [
        "\n",
        "Adding dilution data..."
       ]
      },
      {
       "output_type": "stream",
       "stream": "stdout",
       "text": [
        "\n",
        "There are now 814 molecular vectors of length 4871, one for each molecule and dilution\n",
        "Building a matrix...\n",
        "The X matrix has shape (814x4871) (molecules by molecular descriptors)\n",
        "Purging data with too many NaNs...\n",
        "The X matrix has shape (814x4871) (molecules by good molecular descriptors)"
       ]
      },
      {
       "output_type": "stream",
       "stream": "stdout",
       "text": [
        "\n",
        "Imputing remaining NaN data...\n",
        "The X matrix now has shape (814x4871) (molecules by non-NaN good molecular descriptors)"
       ]
      },
      {
       "output_type": "stream",
       "stream": "stdout",
       "text": [
        "\n",
        "Purging data that is still bad, if any...\n",
        "The X matrix has shape (814x3033) (molecules by good molecular descriptors)\n",
        "Normalizing data for fitting...\n",
        "The X matrix now has shape (814x3033) molecules by non-NaN good molecular descriptors"
       ]
      },
      {
       "output_type": "stream",
       "stream": "stdout",
       "text": [
        "\n"
       ]
      },
      {
       "metadata": {},
       "output_type": "pyout",
       "prompt_number": 14,
       "text": [
        "(814, 3033)"
       ]
      }
     ],
     "prompt_number": 14
    },
    {
     "cell_type": "code",
     "collapsed": false,
     "input": [
      "Y_training_imp,imputer = dream.make_Y_obs('training',target_dilution=None,imputer='median')\n",
      "Y_training_mask,imputer = dream.make_Y_obs('training',target_dilution=None,imputer='mask')"
     ],
     "language": "python",
     "metadata": {},
     "outputs": [
      {
       "output_type": "stream",
       "stream": "stdout",
       "text": [
        "Getting basic perceptual data...\n",
        "Flattening into vectors..."
       ]
      },
      {
       "output_type": "stream",
       "stream": "stdout",
       "text": [
        "\n",
        "Assembling into matrices..."
       ]
      },
      {
       "output_type": "stream",
       "stream": "stdout",
       "text": [
        "\n",
        "Y_obs['subject'] contains 49 matrices each with shape (676x21) (molecules by perceptual descriptors)"
       ]
      },
      {
       "output_type": "stream",
       "stream": "stdout",
       "text": [
        "\n",
        "The Y_obs['mean_std'] matrix has shape (676x42) (molecules by 2 x perceptual descriptors)\n",
        "Combining Y matrices...\n",
        "The Y['mean_std'] matrix now has shape (676x42) molecules by 2 x perceptual descriptors\n",
        "The Y['subject'] dict now has 49 matrices of shape (676x21) molecules by perceptual descriptors, one for each subject\n",
        "Getting basic perceptual data..."
       ]
      },
      {
       "output_type": "stream",
       "stream": "stdout",
       "text": [
        "\n",
        "Flattening into vectors..."
       ]
      },
      {
       "output_type": "stream",
       "stream": "stdout",
       "text": [
        "\n",
        "Assembling into matrices..."
       ]
      },
      {
       "output_type": "stream",
       "stream": "stdout",
       "text": [
        "\n",
        "Y_obs['subject'] contains 49 matrices each with shape (676x21) (molecules by perceptual descriptors)"
       ]
      },
      {
       "output_type": "stream",
       "stream": "stdout",
       "text": [
        "\n",
        "The Y_obs['mean_std'] matrix has shape (676x42) (molecules by 2 x perceptual descriptors)\n",
        "Combining Y matrices...\n",
        "The Y['mean_std'] matrix now has shape (676x42) molecules by 2 x perceptual descriptors\n",
        "The Y['subject'] dict now has 49 matrices of shape (676x21) molecules by perceptual descriptors, one for each subject\n"
       ]
      }
     ],
     "prompt_number": 15
    },
    {
     "cell_type": "code",
     "collapsed": false,
     "input": [
      "Y_leaderboard,imputer = dream.make_Y_obs('leaderboard',target_dilution='gold',imputer='mask')"
     ],
     "language": "python",
     "metadata": {},
     "outputs": [
      {
       "output_type": "stream",
       "stream": "stdout",
       "text": [
        "Getting basic perceptual data...\n",
        "Flattening into vectors..."
       ]
      },
      {
       "output_type": "stream",
       "stream": "stdout",
       "text": [
        "\n",
        "Assembling into matrices..."
       ]
      },
      {
       "output_type": "stream",
       "stream": "stdout",
       "text": [
        "\n",
        "Y_obs['subject'] contains 49 matrices each with shape (69x21) (molecules by perceptual descriptors)\n",
        "The Y_obs['mean_std'] matrix has shape (69x42) (molecules by 2 x perceptual descriptors)\n",
        "Combining Y matrices...\n",
        "The Y['mean_std'] matrix now has shape (69x42) molecules by 2 x perceptual descriptors\n",
        "The Y['subject'] dict now has 49 matrices of shape (69x21) molecules by perceptual descriptors, one for each subject\n",
        "Getting basic perceptual data..."
       ]
      },
      {
       "output_type": "stream",
       "stream": "stdout",
       "text": [
        "\n",
        "Flattening into vectors..."
       ]
      },
      {
       "output_type": "stream",
       "stream": "stdout",
       "text": [
        "\n",
        "Assembling into matrices..."
       ]
      },
      {
       "output_type": "stream",
       "stream": "stdout",
       "text": [
        "\n",
        "Y_obs['subject'] contains 49 matrices each with shape (69x21) (molecules by perceptual descriptors)\n",
        "The Y_obs['mean_std'] matrix has shape (69x42) (molecules by 2 x perceptual descriptors)\n",
        "Combining Y matrices...\n",
        "The Y['mean_std'] matrix now has shape (69x42) molecules by 2 x perceptual descriptors\n",
        "The Y['subject'] dict now has 49 matrices of shape (69x21) molecules by perceptual descriptors, one for each subject\n"
       ]
      }
     ],
     "prompt_number": 16
    },
    {
     "cell_type": "code",
     "collapsed": false,
     "input": [
      "Y_all_imp,imputer = dream.make_Y_obs(['training','leaderboard'],target_dilution=None,imputer='median')"
     ],
     "language": "python",
     "metadata": {},
     "outputs": [
      {
       "output_type": "stream",
       "stream": "stdout",
       "text": [
        "Getting basic perceptual data...\n",
        "Flattening into vectors..."
       ]
      },
      {
       "output_type": "stream",
       "stream": "stdout",
       "text": [
        "\n",
        "Assembling into matrices..."
       ]
      },
      {
       "output_type": "stream",
       "stream": "stdout",
       "text": [
        "\n",
        "Y_obs['subject'] contains 49 matrices each with shape (676x21) (molecules by perceptual descriptors)"
       ]
      },
      {
       "output_type": "stream",
       "stream": "stdout",
       "text": [
        "\n",
        "The Y_obs['mean_std'] matrix has shape (676x42) (molecules by 2 x perceptual descriptors)\n",
        "Getting basic perceptual data..."
       ]
      },
      {
       "output_type": "stream",
       "stream": "stdout",
       "text": [
        "\n",
        "Flattening into vectors..."
       ]
      },
      {
       "output_type": "stream",
       "stream": "stdout",
       "text": [
        "\n",
        "Assembling into matrices..."
       ]
      },
      {
       "output_type": "stream",
       "stream": "stdout",
       "text": [
        "\n",
        "Y_obs['subject'] contains 49 matrices each with shape (138x21) (molecules by perceptual descriptors)"
       ]
      },
      {
       "output_type": "stream",
       "stream": "stdout",
       "text": [
        "\n",
        "The Y_obs['mean_std'] matrix has shape (138x42) (molecules by 2 x perceptual descriptors)\n",
        "Combining Y matrices...\n",
        "The Y['mean_std'] matrix now has shape (814x42) molecules by 2 x perceptual descriptors\n",
        "The Y['subject'] dict now has 49 matrices of shape (814x21) molecules by perceptual descriptors, one for each subject\n"
       ]
      }
     ],
     "prompt_number": 17
    },
    {
     "cell_type": "code",
     "collapsed": false,
     "input": [
      "Y_all_mask,imputer = dream.make_Y_obs(['training','leaderboard'],target_dilution=None,imputer='mask')"
     ],
     "language": "python",
     "metadata": {},
     "outputs": [
      {
       "output_type": "stream",
       "stream": "stdout",
       "text": [
        "Getting basic perceptual data...\n",
        "Flattening into vectors..."
       ]
      },
      {
       "output_type": "stream",
       "stream": "stdout",
       "text": [
        "\n",
        "Assembling into matrices..."
       ]
      },
      {
       "output_type": "stream",
       "stream": "stdout",
       "text": [
        "\n",
        "Y_obs['subject'] contains 49 matrices each with shape (676x21) (molecules by perceptual descriptors)"
       ]
      },
      {
       "output_type": "stream",
       "stream": "stdout",
       "text": [
        "\n",
        "The Y_obs['mean_std'] matrix has shape (676x42) (molecules by 2 x perceptual descriptors)\n",
        "Getting basic perceptual data..."
       ]
      },
      {
       "output_type": "stream",
       "stream": "stdout",
       "text": [
        "\n",
        "Flattening into vectors..."
       ]
      },
      {
       "output_type": "stream",
       "stream": "stdout",
       "text": [
        "\n",
        "Assembling into matrices..."
       ]
      },
      {
       "output_type": "stream",
       "stream": "stdout",
       "text": [
        "\n",
        "Y_obs['subject'] contains 49 matrices each with shape (138x21) (molecules by perceptual descriptors)"
       ]
      },
      {
       "output_type": "stream",
       "stream": "stdout",
       "text": [
        "\n",
        "The Y_obs['mean_std'] matrix has shape (138x42) (molecules by 2 x perceptual descriptors)\n",
        "Combining Y matrices...\n",
        "The Y['mean_std'] matrix now has shape (814x42) molecules by 2 x perceptual descriptors\n",
        "The Y['subject'] dict now has 49 matrices of shape (814x21) molecules by perceptual descriptors, one for each subject\n"
       ]
      }
     ],
     "prompt_number": 18
    },
    {
     "cell_type": "heading",
     "level": 3,
     "metadata": {},
     "source": [
      "Data preparation"
     ]
    },
    {
     "cell_type": "code",
     "collapsed": false,
     "input": [
      "# Show the range of values for the molecular and perceptual descriptors.  \n",
      "plt.hist(X_training.ravel())\n",
      "plt.yscale('log')\n",
      "plt.ylabel('Count')\n",
      "plt.xlabel('Cube root transformed, N(0,1) normalized molecular descriptor values')\n",
      "plt.figure()\n",
      "plt.hist(Y_training_imp['mean_std'][:21].ravel())\n",
      "plt.yscale('log')\n",
      "plt.ylabel('Count')\n",
      "plt.xlabel('Perceptual descriptor subject-averaged values')"
     ],
     "language": "python",
     "metadata": {},
     "outputs": [
      {
       "metadata": {},
       "output_type": "pyout",
       "prompt_number": 19,
       "text": [
        "<matplotlib.text.Text at 0x10fdc9cf8>"
       ]
      },
      {
       "metadata": {},
       "output_type": "display_data",
       "png": "[encoded data removed]",
       "text": [
        "<matplotlib.figure.Figure at 0x10a6e32e8>"
       ]
      },
      {
       "metadata": {},
       "output_type": "display_data",
       "png": "[encoded data removed]",
       "text": [
        "<matplotlib.figure.Figure at 0x112867390>"
       ]
      }
     ],
     "prompt_number": 19
    },
    {
     "cell_type": "heading",
     "level": 2,
     "metadata": {},
     "source": [
      "Fitting and Generating Submission Files"
     ]
    },
    {
     "cell_type": "code",
     "collapsed": false,
     "input": [
      "write = False # Set to True to actually generate the prediction files.  \n",
      "n_estimators = 25 # Set this to a high number (e.g. 1000) to get a good fit.  \n",
      "\n",
      "# Best parameters, determined independently.  \n",
      "max_features = {'int':{'mean':None,'sigma':None},\n",
      "                'ple':{'mean':100,'sigma':None},\n",
      "                'dec':{'mean':500,'sigma':500}}\n",
      "min_samples_leaf = {'int':{'mean':1,'sigma':4},\n",
      "                'ple':{'mean':1,'sigma':1},\n",
      "                'dec':{'mean':1,'sigma':1}}\n",
      "max_depth = {'int':{'mean':None,'sigma':2},\n",
      "                'ple':{'mean':10,'sigma':10},\n",
      "                'dec':{'mean':10,'sigma':10}}\n",
      "et = {'int':{'mean':True,'sigma':True},\n",
      "                'ple':{'mean':False,'sigma':False},\n",
      "                'dec':{'mean':False,'sigma':False}}\n",
      "#et['int'] = {'mean':False,'sigma':False} # Uncomment to get a correct score estimate, or leave commented to get best fit.  \n",
      "use_mask = {'int':{'mean':False,'sigma':True},\n",
      "                'ple':{'mean':False,'sigma':True},\n",
      "                'dec':{'mean':False,'sigma':True}}"
     ],
     "language": "python",
     "metadata": {},
     "outputs": [],
     "prompt_number": 20
    },
    {
     "cell_type": "code",
     "collapsed": false,
     "input": [
      "rfcs_leaderboard,score,rs = fit2.rfc_final(X_training,Y_training_imp['mean_std'],Y_training_mask['mean_std'],\n",
      "                            max_features,min_samples_leaf,max_depth,et,use_mask,\n",
      "                            n_estimators=n_estimators)"
     ],
     "language": "python",
     "metadata": {},
     "outputs": [
      {
       "output_type": "stream",
       "stream": "stdout",
       "text": [
        "For subchallenge 2:\n",
        "\tScore = 7.37\n",
        "\tint_mean = 1.000\n",
        "\tint_sigma = 0.157\n",
        "\tple_mean = 0.608\n",
        "\tple_sigma = 0.216\n",
        "\tdec_mean = 0.429\n",
        "\tdec_sigma = 0.328\n"
       ]
      }
     ],
     "prompt_number": 21
    },
    {
     "cell_type": "code",
     "collapsed": false,
     "input": [
      "loading.make_prediction_files(rfcs_leaderboard,X_leaderboard_int,X_leaderboard_other,'leaderboard',2,write=False)"
     ],
     "language": "python",
     "metadata": {},
     "outputs": [
      {
       "metadata": {},
       "output_type": "pyout",
       "prompt_number": 22,
       "text": [
        "{'subject': {},\n",
        " 'mean_std': array([[ 57.57469388,  41.26712222,   2.49520615, ...,  10.04844826,\n",
        "          15.27309622,  30.50346978],\n",
        "        [ 64.84408163,  46.18956626,   1.9080147 , ...,  12.41162512,\n",
        "          16.94849179,  29.9682033 ],\n",
        "        [ 54.5877551 ,  39.17759806,   2.14109145, ...,   8.72779709,\n",
        "          10.89930171,  22.86556546],\n",
        "        ..., \n",
        "        [ 25.76489796,  47.10930357,   2.4112898 , ...,  12.72382358,\n",
        "          18.35585136,  23.18289288],\n",
        "        [ 49.87428571,  39.6774645 ,   2.11128462, ...,  10.99998427,\n",
        "          18.5147339 ,  25.5366872 ],\n",
        "        [ 39.06122449,  50.70261522,   2.097974  , ...,  13.85981023,\n",
        "          19.12254128,  25.02625055]])}"
       ]
      }
     ],
     "prompt_number": 22
    },
    {
     "cell_type": "code",
     "collapsed": false,
     "input": [
      "rfcs,score,rs = fit2.rfc_final(X_all,Y_all_imp['mean_std'],Y_all_mask['mean_std'],\n",
      "                            max_features,min_samples_leaf,max_depth,et,use_mask,\n",
      "                            n_estimators=n_estimators)"
     ],
     "language": "python",
     "metadata": {},
     "outputs": [
      {
       "output_type": "stream",
       "stream": "stdout",
       "text": [
        "For subchallenge 2:\n",
        "\tScore = 7.58\n",
        "\tint_mean = 1.000\n",
        "\tint_sigma = 0.145\n",
        "\tple_mean = 0.618\n",
        "\tple_sigma = 0.202\n",
        "\tdec_mean = 0.440\n",
        "\tdec_sigma = 0.354\n"
       ]
      }
     ],
     "prompt_number": 23
    },
    {
     "cell_type": "code",
     "collapsed": false,
     "input": [
      "loading.make_prediction_files(rfcs,X_testset_int,X_testset_other,'testset',2,write=False)"
     ],
     "language": "python",
     "metadata": {},
     "outputs": [
      {
       "metadata": {},
       "output_type": "pyout",
       "prompt_number": 24,
       "text": [
        "{'subject': {},\n",
        " 'mean_std': array([[ 33.68979592,  43.03886625,   1.84219571, ...,  10.35682071,\n",
        "          10.67952075,  26.552836  ],\n",
        "        [ 26.7844898 ,  41.95607167,   1.91103459, ...,  10.13762234,\n",
        "          13.26415817,  21.95373849],\n",
        "        [ 48.83510204,  42.97527475,   1.25780907, ...,   9.46633585,\n",
        "          11.64387459,  22.42394622],\n",
        "        ..., \n",
        "        [ 53.12326531,  49.23110542,   3.20465132, ...,  15.10187175,\n",
        "          21.19831775,  23.08091573],\n",
        "        [ 28.97142857,  48.64294319,   2.16852287, ...,  11.43195619,\n",
        "          17.43885549,  20.73833928],\n",
        "        [ 40.89306122,  43.99434415,   2.11492374, ...,  12.35417813,\n",
        "          21.18843789,  24.24822816]])}"
       ]
      }
     ],
     "prompt_number": 24
    }
   ],
   "metadata": {}
  }
 ]
}
